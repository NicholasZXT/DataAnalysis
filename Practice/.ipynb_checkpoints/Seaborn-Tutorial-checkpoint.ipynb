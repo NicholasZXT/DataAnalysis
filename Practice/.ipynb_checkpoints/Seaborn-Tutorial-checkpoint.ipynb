{
 "cells": [
  {
   "cell_type": "markdown",
   "metadata": {},
   "source": [
    "# Seaborn\n",
    "seaborn 的绘图函数分为两个层次，**figure-level** 和 **axes-level**，以下按照EDA的目的来介绍。"
   ]
  },
  {
   "cell_type": "code",
   "execution_count": 2,
   "metadata": {},
   "outputs": [],
   "source": [
    "import numpy as np\n",
    "import pandas as pd\n",
    "import matplotlib.pyplot as plt\n",
    "import seaborn as sns\n",
    "\n",
    "# styles的选择[\"white\", \"dark\", \"whitegrid\", \"darkgrid\", \"ticks\"]\n",
    "sns.set(style=\"darkgrid\")"
   ]
  },
  {
   "cell_type": "code",
   "execution_count": 8,
   "metadata": {},
   "outputs": [
    {
     "data": {
      "text/html": [
       "<div>\n",
       "<style scoped>\n",
       "    .dataframe tbody tr th:only-of-type {\n",
       "        vertical-align: middle;\n",
       "    }\n",
       "\n",
       "    .dataframe tbody tr th {\n",
       "        vertical-align: top;\n",
       "    }\n",
       "\n",
       "    .dataframe thead th {\n",
       "        text-align: right;\n",
       "    }\n",
       "</style>\n",
       "<table border=\"1\" class=\"dataframe\">\n",
       "  <thead>\n",
       "    <tr style=\"text-align: right;\">\n",
       "      <th></th>\n",
       "      <th>total_bill</th>\n",
       "      <th>tip</th>\n",
       "      <th>sex</th>\n",
       "      <th>smoker</th>\n",
       "      <th>day</th>\n",
       "      <th>time</th>\n",
       "      <th>size</th>\n",
       "    </tr>\n",
       "  </thead>\n",
       "  <tbody>\n",
       "    <tr>\n",
       "      <th>0</th>\n",
       "      <td>16.99</td>\n",
       "      <td>1.01</td>\n",
       "      <td>Female</td>\n",
       "      <td>No</td>\n",
       "      <td>Sun</td>\n",
       "      <td>Dinner</td>\n",
       "      <td>2</td>\n",
       "    </tr>\n",
       "    <tr>\n",
       "      <th>1</th>\n",
       "      <td>10.34</td>\n",
       "      <td>1.66</td>\n",
       "      <td>Male</td>\n",
       "      <td>No</td>\n",
       "      <td>Sun</td>\n",
       "      <td>Dinner</td>\n",
       "      <td>3</td>\n",
       "    </tr>\n",
       "    <tr>\n",
       "      <th>2</th>\n",
       "      <td>21.01</td>\n",
       "      <td>3.50</td>\n",
       "      <td>Male</td>\n",
       "      <td>No</td>\n",
       "      <td>Sun</td>\n",
       "      <td>Dinner</td>\n",
       "      <td>3</td>\n",
       "    </tr>\n",
       "    <tr>\n",
       "      <th>3</th>\n",
       "      <td>23.68</td>\n",
       "      <td>3.31</td>\n",
       "      <td>Male</td>\n",
       "      <td>No</td>\n",
       "      <td>Sun</td>\n",
       "      <td>Dinner</td>\n",
       "      <td>2</td>\n",
       "    </tr>\n",
       "    <tr>\n",
       "      <th>4</th>\n",
       "      <td>24.59</td>\n",
       "      <td>3.61</td>\n",
       "      <td>Female</td>\n",
       "      <td>No</td>\n",
       "      <td>Sun</td>\n",
       "      <td>Dinner</td>\n",
       "      <td>4</td>\n",
       "    </tr>\n",
       "  </tbody>\n",
       "</table>\n",
       "</div>"
      ],
      "text/plain": [
       "   total_bill   tip     sex smoker  day    time  size\n",
       "0       16.99  1.01  Female     No  Sun  Dinner     2\n",
       "1       10.34  1.66    Male     No  Sun  Dinner     3\n",
       "2       21.01  3.50    Male     No  Sun  Dinner     3\n",
       "3       23.68  3.31    Male     No  Sun  Dinner     2\n",
       "4       24.59  3.61  Female     No  Sun  Dinner     4"
      ]
     },
     "execution_count": 8,
     "metadata": {},
     "output_type": "execute_result"
    }
   ],
   "source": [
    "tips = sns.load_dataset(\"tips\")\n",
    "# type(tips)\n",
    "tips.head()"
   ]
  },
  {
   "cell_type": "markdown",
   "metadata": {},
   "source": [
    "## Relational plots"
   ]
  },
  {
   "cell_type": "markdown",
   "metadata": {},
   "source": [
    "顶层绘图函数：`relplot([x, y, hue, size, style, data, row, …])` **Figure-level** interface for drawing relational plots onto a FacetGrid.\n",
    "+ `scatterplot([x, y, hue, style, size, data, …])` Draw a scatter plot with possibility of several semantic groupings，(`kind=\"scatter\"`，默认)\n",
    "+ `lineplot([x, y, hue, size, style, data, …])` Draw a line plot with possibility of several semantic groupings，(`kind=line`)\n",
    "\n",
    "**对于line来说，如果data中同一个x对应多个y值，会自动绘制均值的折线图，并绘制95%的置信区间。**"
   ]
  },
  {
   "cell_type": "markdown",
   "metadata": {},
   "source": [
    "## Categorical plots\n",
    "只要有一个变量是分类变量即可。\n",
    "顶层绘图函数：`catplot([x, y, hue, data, row, col, …])` **Figure-level** interface for drawing categorical plots onto a FacetGrid.\n",
    "这之下又分为三类：\n",
    "Categorical **scatterplots**:\n",
    "\n",
    "+ `stripplot([x, y, hue, data, order, …])` Draw a scatterplot where one variable is categorical，(`kind=strip`，默认)\n",
    "\n",
    "+ `swarmplot([x, y, hue, data, order, …])` Draw a categorical scatterplot with non-overlapping points，(`kind=swarm`)\n",
    "  \n",
    "\n",
    "Categorical **distribution** plots:\n",
    "+ `boxplot([x, y, hue, data, order, hue_order, …])` Draw a box plot to show distributions with respect to categories，(`kind=box`)\n",
    "  \n",
    "+ `violinplot([x, y, hue, data, order, …])` Draw a combination of boxplot and kernel density estimate，(`kind=violin`)\n",
    "  \n",
    "+ `boxenplot([x, y, hue, data, order, …])` Draw an enhanced box plot for larger datasets，(`kind=boxen`)\n",
    "  \n",
    "\n",
    "\n",
    "Categorical **estimate** plots:\n",
    "+ `pointplot([x, y, hue, data, order, …])` Show point estimates and confidence intervals using scatter plot glyphs，(`kind=point`)\n",
    "+ `barplot([x, y, hue, data, order, hue_order, …])` Show point estimates and confidence intervals as rectangular bars，(`kind=bar`)\n",
    "+ `countplot([x, y, hue, data, order, …])` Show the counts of observations in each categorical bin using bars，(`kind=count`)"
   ]
  },
  {
   "cell_type": "markdown",
   "metadata": {},
   "source": [
    "## Distribution plots\n",
    "Visualizing the distribution of a dataset\n",
    "+ `jointplot(x, y[, data, kind, stat_func, …])` Draw a plot of two variables with **bivariate** and **univariate** graphs.\n",
    "+ `pairplot(data[, hue, hue_order, palette, …])` Plot **pairwise relationships** in a dataset.\n",
    "+ `distplot(a[, bins, hist, kde, rug, fit, …])` Flexibly plot a **univariate** distribution of observations.\n",
    "+ `kdeplot(data[, data2, shade, vertical, …])` Fit and plot a **univariate** or **bivariate** kernel density estimate.\n",
    "+ `rugplot(a[, height, axis, ax])` Plot datapoints in an array as sticks on an axis."
   ]
  },
  {
   "cell_type": "markdown",
   "metadata": {},
   "source": [
    "## Regression plots\n",
    "Visualizing linear relationships\n",
    "+ `lmplot(x, y, data[, hue, col, row, palette, …])` Plot data and regression model fits across a FacetGrid.\n",
    "+ `regplot(x, y[, data, x_estimator, x_bins, …])` Plot data and a linear regression model fit.\n",
    "+ `residplot(x, y[, data, lowess, x_partial, …])` Plot the residuals of a linear regression.\n",
    "\n",
    "**`lmplot()`比`regplot()`的功能更多，它能根据分组变量绘制多条回归线。**实际上，`lmplot()`是对`regplot()`和`FacetGrid`进行了封装，这也意味着`regplot()`是一个**axes-level**的绘图API。"
   ]
  },
  {
   "cell_type": "code",
   "execution_count": null,
   "metadata": {},
   "outputs": [],
   "source": []
  }
 ],
 "metadata": {
  "kernelspec": {
   "display_name": "PyCharm (DataAnalysis)",
   "language": "python",
   "name": "pycharm-ebb3b2a0"
  },
  "language_info": {
   "codemirror_mode": {
    "name": "ipython",
    "version": 3
   },
   "file_extension": ".py",
   "mimetype": "text/x-python",
   "name": "python",
   "nbconvert_exporter": "python",
   "pygments_lexer": "ipython3",
   "version": "3.6.10"
  }
 },
 "nbformat": 4,
 "nbformat_minor": 4
}
