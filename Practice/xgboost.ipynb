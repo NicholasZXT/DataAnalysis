{
 "cells": [
  {
   "cell_type": "code",
   "execution_count": 1,
   "metadata": {},
   "outputs": [],
   "source": [
    "import numpy as np\n",
    "import pandas as pd\n",
    "import matplotlib.pyplot as plt"
   ]
  },
  {
   "cell_type": "code",
   "execution_count": 2,
   "metadata": {},
   "outputs": [],
   "source": [
    "from sklearn.datasets import load_boston\n",
    "from sklearn.model_selection import train_test_split, cross_val_score\n",
    "from sklearn.metrics import mean_squared_error as MSE"
   ]
  },
  {
   "cell_type": "markdown",
   "metadata": {},
   "source": [
    "## 1. 数据集"
   ]
  },
  {
   "cell_type": "code",
   "execution_count": 3,
   "metadata": {},
   "outputs": [
    {
     "data": {
      "text/plain": [
       "dict_keys(['data', 'target', 'feature_names', 'DESCR', 'filename'])"
      ]
     },
     "execution_count": 3,
     "metadata": {},
     "output_type": "execute_result"
    }
   ],
   "source": [
    "boston = load_boston()\n",
    "boston.keys()"
   ]
  },
  {
   "cell_type": "code",
   "execution_count": 4,
   "metadata": {},
   "outputs": [
    {
     "data": {
      "text/plain": [
       "(506, 13)"
      ]
     },
     "execution_count": 4,
     "metadata": {},
     "output_type": "execute_result"
    }
   ],
   "source": [
    "boston.data.shape"
   ]
  },
  {
   "cell_type": "code",
   "execution_count": 5,
   "metadata": {},
   "outputs": [
    {
     "data": {
      "text/plain": [
       "array(['CRIM', 'ZN', 'INDUS', 'CHAS', 'NOX', 'RM', 'AGE', 'DIS', 'RAD',\n",
       "       'TAX', 'PTRATIO', 'B', 'LSTAT'], dtype='<U7')"
      ]
     },
     "execution_count": 5,
     "metadata": {},
     "output_type": "execute_result"
    }
   ],
   "source": [
    "boston.feature_names"
   ]
  },
  {
   "cell_type": "code",
   "execution_count": 6,
   "metadata": {},
   "outputs": [
    {
     "data": {
      "text/html": [
       "<div>\n",
       "<style scoped>\n",
       "    .dataframe tbody tr th:only-of-type {\n",
       "        vertical-align: middle;\n",
       "    }\n",
       "\n",
       "    .dataframe tbody tr th {\n",
       "        vertical-align: top;\n",
       "    }\n",
       "\n",
       "    .dataframe thead th {\n",
       "        text-align: right;\n",
       "    }\n",
       "</style>\n",
       "<table border=\"1\" class=\"dataframe\">\n",
       "  <thead>\n",
       "    <tr style=\"text-align: right;\">\n",
       "      <th></th>\n",
       "      <th>CRIM</th>\n",
       "      <th>ZN</th>\n",
       "      <th>INDUS</th>\n",
       "      <th>CHAS</th>\n",
       "      <th>NOX</th>\n",
       "      <th>RM</th>\n",
       "      <th>AGE</th>\n",
       "      <th>DIS</th>\n",
       "      <th>RAD</th>\n",
       "      <th>TAX</th>\n",
       "      <th>PTRATIO</th>\n",
       "      <th>B</th>\n",
       "      <th>LSTAT</th>\n",
       "    </tr>\n",
       "  </thead>\n",
       "  <tbody>\n",
       "    <tr>\n",
       "      <th>0</th>\n",
       "      <td>0.00632</td>\n",
       "      <td>18.0</td>\n",
       "      <td>2.31</td>\n",
       "      <td>0.0</td>\n",
       "      <td>0.538</td>\n",
       "      <td>6.575</td>\n",
       "      <td>65.2</td>\n",
       "      <td>4.0900</td>\n",
       "      <td>1.0</td>\n",
       "      <td>296.0</td>\n",
       "      <td>15.3</td>\n",
       "      <td>396.90</td>\n",
       "      <td>4.98</td>\n",
       "    </tr>\n",
       "    <tr>\n",
       "      <th>1</th>\n",
       "      <td>0.02731</td>\n",
       "      <td>0.0</td>\n",
       "      <td>7.07</td>\n",
       "      <td>0.0</td>\n",
       "      <td>0.469</td>\n",
       "      <td>6.421</td>\n",
       "      <td>78.9</td>\n",
       "      <td>4.9671</td>\n",
       "      <td>2.0</td>\n",
       "      <td>242.0</td>\n",
       "      <td>17.8</td>\n",
       "      <td>396.90</td>\n",
       "      <td>9.14</td>\n",
       "    </tr>\n",
       "    <tr>\n",
       "      <th>2</th>\n",
       "      <td>0.02729</td>\n",
       "      <td>0.0</td>\n",
       "      <td>7.07</td>\n",
       "      <td>0.0</td>\n",
       "      <td>0.469</td>\n",
       "      <td>7.185</td>\n",
       "      <td>61.1</td>\n",
       "      <td>4.9671</td>\n",
       "      <td>2.0</td>\n",
       "      <td>242.0</td>\n",
       "      <td>17.8</td>\n",
       "      <td>392.83</td>\n",
       "      <td>4.03</td>\n",
       "    </tr>\n",
       "    <tr>\n",
       "      <th>3</th>\n",
       "      <td>0.03237</td>\n",
       "      <td>0.0</td>\n",
       "      <td>2.18</td>\n",
       "      <td>0.0</td>\n",
       "      <td>0.458</td>\n",
       "      <td>6.998</td>\n",
       "      <td>45.8</td>\n",
       "      <td>6.0622</td>\n",
       "      <td>3.0</td>\n",
       "      <td>222.0</td>\n",
       "      <td>18.7</td>\n",
       "      <td>394.63</td>\n",
       "      <td>2.94</td>\n",
       "    </tr>\n",
       "    <tr>\n",
       "      <th>4</th>\n",
       "      <td>0.06905</td>\n",
       "      <td>0.0</td>\n",
       "      <td>2.18</td>\n",
       "      <td>0.0</td>\n",
       "      <td>0.458</td>\n",
       "      <td>7.147</td>\n",
       "      <td>54.2</td>\n",
       "      <td>6.0622</td>\n",
       "      <td>3.0</td>\n",
       "      <td>222.0</td>\n",
       "      <td>18.7</td>\n",
       "      <td>396.90</td>\n",
       "      <td>5.33</td>\n",
       "    </tr>\n",
       "  </tbody>\n",
       "</table>\n",
       "</div>"
      ],
      "text/plain": [
       "      CRIM    ZN  INDUS  CHAS    NOX     RM   AGE     DIS  RAD    TAX  \\\n",
       "0  0.00632  18.0   2.31   0.0  0.538  6.575  65.2  4.0900  1.0  296.0   \n",
       "1  0.02731   0.0   7.07   0.0  0.469  6.421  78.9  4.9671  2.0  242.0   \n",
       "2  0.02729   0.0   7.07   0.0  0.469  7.185  61.1  4.9671  2.0  242.0   \n",
       "3  0.03237   0.0   2.18   0.0  0.458  6.998  45.8  6.0622  3.0  222.0   \n",
       "4  0.06905   0.0   2.18   0.0  0.458  7.147  54.2  6.0622  3.0  222.0   \n",
       "\n",
       "   PTRATIO       B  LSTAT  \n",
       "0     15.3  396.90   4.98  \n",
       "1     17.8  396.90   9.14  \n",
       "2     17.8  392.83   4.03  \n",
       "3     18.7  394.63   2.94  \n",
       "4     18.7  396.90   5.33  "
      ]
     },
     "execution_count": 6,
     "metadata": {},
     "output_type": "execute_result"
    }
   ],
   "source": [
    "data = pd.DataFrame(boston.data, columns = boston.feature_names)\n",
    "data.head()"
   ]
  },
  {
   "cell_type": "code",
   "execution_count": 7,
   "metadata": {},
   "outputs": [],
   "source": [
    "X = data\n",
    "y = boston.target"
   ]
  },
  {
   "cell_type": "code",
   "execution_count": 8,
   "metadata": {},
   "outputs": [],
   "source": [
    "Xtrain,Xtest,ytrain,ytest = train_test_split(X,y, test_size=0.3, random_state=29)"
   ]
  },
  {
   "cell_type": "code",
   "execution_count": 9,
   "metadata": {},
   "outputs": [
    {
     "name": "stdout",
     "output_type": "stream",
     "text": [
      "(354, 13)\n",
      "(152, 13)\n"
     ]
    }
   ],
   "source": [
    "print(Xtrain.shape)\n",
    "print(Xtest.shape)"
   ]
  },
  {
   "cell_type": "markdown",
   "metadata": {},
   "source": [
    "-----"
   ]
  },
  {
   "cell_type": "markdown",
   "metadata": {},
   "source": [
    "XGBoost的两种接口"
   ]
  },
  {
   "cell_type": "markdown",
   "metadata": {},
   "source": [
    "## 2. xgb接口"
   ]
  },
  {
   "cell_type": "code",
   "execution_count": 10,
   "metadata": {},
   "outputs": [],
   "source": [
    "import xgboost as xgb"
   ]
  },
  {
   "cell_type": "code",
   "execution_count": 11,
   "metadata": {},
   "outputs": [],
   "source": [
    "dtrain = xgb.DMatrix(Xtrain, ytrain)\n",
    "dtest = xgb.DMatrix(Xtest,ytest)"
   ]
  },
  {
   "cell_type": "markdown",
   "metadata": {},
   "source": [
    "### 2.1 配置参数  \n",
    "下面的参数都是默认值，只不过显式写出来了"
   ]
  },
  {
   "cell_type": "code",
   "execution_count": 12,
   "metadata": {},
   "outputs": [],
   "source": [
    "# 这个params字段里配置的是 Booster 类的参数\n",
    "params = {'booster':'gbtree',  #基分类器\n",
    "          'objective': 'reg:squarederror', #目标函数\n",
    "         'eta': 0.3,  #学习速率\n",
    "         'gamma': 0,  #分咧的最小增益\n",
    "         'max_depth': 6,  #树的最大深度\n",
    "         'lambda': 1,  #L2正则项系数\n",
    "         'alpha': 0,  # L1正则项系数\n",
    "         'subsample': 1,  #boostrap是的采样比例\n",
    "         'tree': 'auto',  # 树的生成方式\n",
    "         'base_score': 0.5,  # 生成第一棵树时的初始值\n",
    "         'eval_metric': ['rmse','mae']}  # 在 验证集 上进行评估的指标，可以选择多个\n",
    "\n",
    "# booster的个数\n",
    "num_round = 10\n",
    "\n",
    "# 用于训练时查看验证集上效果的 evals (list of pairs (DMatrix, string)) \n",
    "watch_list = [(dtrain, 'train'), (dtest, 'eval')]"
   ]
  },
  {
   "cell_type": "markdown",
   "metadata": {},
   "source": [
    "### 2.2 训练模型  \n",
    "`params`里设置的`eval_metric`参数会配合`watch_list`参数使用，会显示`num_round`行记录，每行有$eval\\_metric*watch\\_list$的记录 "
   ]
  },
  {
   "cell_type": "code",
   "execution_count": 13,
   "metadata": {},
   "outputs": [
    {
     "name": "stdout",
     "output_type": "stream",
     "text": [
      "[0]\ttrain-rmse:17.0962\ttrain-mae:15.5753\teval-rmse:17.0354\teval-mae:15.4794\n",
      "[1]\ttrain-rmse:12.3508\ttrain-mae:11.0463\teval-rmse:12.3715\teval-mae:10.9618\n",
      "[2]\ttrain-rmse:8.97849\ttrain-mae:7.8587\teval-rmse:9.14436\teval-mae:7.82454\n",
      "[3]\ttrain-rmse:6.59204\ttrain-mae:5.60841\teval-rmse:7.02082\teval-mae:5.72816\n",
      "[4]\ttrain-rmse:4.90564\ttrain-mae:4.04055\teval-rmse:5.58317\teval-mae:4.32838\n",
      "[5]\ttrain-rmse:3.71914\ttrain-mae:2.9316\teval-rmse:4.7071\teval-mae:3.47626\n",
      "[6]\ttrain-rmse:2.88353\ttrain-mae:2.20503\teval-rmse:4.21405\teval-mae:3.0341\n",
      "[7]\ttrain-rmse:2.286\ttrain-mae:1.71135\teval-rmse:3.85263\teval-mae:2.74129\n",
      "[8]\ttrain-rmse:1.90478\ttrain-mae:1.41127\teval-rmse:3.65708\teval-mae:2.5822\n",
      "[9]\ttrain-rmse:1.6064\ttrain-mae:1.19197\teval-rmse:3.55004\teval-mae:2.48576\n"
     ]
    }
   ],
   "source": [
    "bst = xgb.train(params=params, dtrain=dtrain, num_boost_round=num_round\n",
    "                , evals=watch_list\n",
    "               )"
   ]
  },
  {
   "cell_type": "markdown",
   "metadata": {},
   "source": [
    "### 2.3 绘制特征重要性  \n",
    "`xgboost.plot_importance(booster, ax=None, height=0.2, xlim=None, ylim=None, title='Feature importance', xlabel='F score', ylabel='Features', fmap='', importance_type='weight', max_num_features=None, grid=True, show_values=True, **kwargs)`  \n",
    "\n",
    " + importance_type (str, default \"weight\")\n",
    " How the importance is calculated: either “weight”, “gain”, or “cover”\n",
    "   + ”weight” is the number of times a feature appears in a tree —— 特征在树中出现的次数\n",
    "   + ”gain” is the average gain of splits which use the feature —— 使用该特征进行分割时的平均gain\n",
    "   + ”cover” is the average coverage of splits which use the feature where coverage is defined as the number of samples affected by the split"
   ]
  },
  {
   "cell_type": "code",
   "execution_count": 14,
   "metadata": {},
   "outputs": [
    {
     "data": {
      "text/plain": [
       "<matplotlib.axes._subplots.AxesSubplot at 0x1a22881160>"
      ]
     },
     "execution_count": 14,
     "metadata": {},
     "output_type": "execute_result"
    },
    {
     "data": {
      "image/png": "[encoded data removed]",
      "text/plain": [
       "<Figure size 432x288 with 1 Axes>"
      ]
     },
     "metadata": {
      "needs_background": "light"
     },
     "output_type": "display_data"
    }
   ],
   "source": [
    "xgb.plot_importance(booster=bst, importance_type='weight')"
   ]
  },
  {
   "cell_type": "code",
   "execution_count": 15,
   "metadata": {},
   "outputs": [
    {
     "data": {
      "text/plain": [
       "<matplotlib.axes._subplots.AxesSubplot at 0x1a24ba4e48>"
      ]
     },
     "execution_count": 15,
     "metadata": {},
     "output_type": "execute_result"
    },
    {
     "data": {
      "image/png": "[encoded data removed]",
      "text/plain": [
       "<Figure size 432x288 with 1 Axes>"
      ]
     },
     "metadata": {
      "needs_background": "light"
     },
     "output_type": "display_data"
    }
   ],
   "source": [
    "xgb.plot_importance(booster=bst, importance_type='gain')"
   ]
  },
  {
   "cell_type": "markdown",
   "metadata": {},
   "source": [
    "+ 绘制树  \n",
    "`xgboost.plot_tree(booster, fmap='', num_trees=0, rankdir=None, ax=None, **kwargs)`  \n",
    "`xgboost.to_graphviz(booster, fmap='', num_trees=0, rankdir=None, yes_color=None, no_color=None, condition_node_params=None, leaf_node_params=None, **kwargs)`"
   ]
  },
  {
   "cell_type": "code",
   "execution_count": 86,
   "metadata": {},
   "outputs": [
    {
     "data": {
      "text/plain": [
       "<matplotlib.axes._subplots.AxesSubplot at 0x1a270064a8>"
      ]
     },
     "execution_count": 86,
     "metadata": {},
     "output_type": "execute_result"
    },
    {
     "data": {
      "image/png": "[encoded data removed]",
      "text/plain": [
       "<Figure size 432x288 with 1 Axes>"
      ]
     },
     "metadata": {
      "needs_background": "light"
     },
     "output_type": "display_data"
    }
   ],
   "source": [
    "xgb.plot_tree(booster=bst, num_trees=0)"
   ]
  },
  {
   "cell_type": "code",
   "execution_count": 87,
   "metadata": {},
   "outputs": [
    {
     "data": {
      "text/plain": [
       "<matplotlib.axes._subplots.AxesSubplot at 0x1a2705b198>"
      ]
     },
     "execution_count": 87,
     "metadata": {},
     "output_type": "execute_result"
    },
    {
     "data": {
      "image/png": "[encoded data removed]",
      "text/plain": [
       "<Figure size 432x288 with 1 Axes>"
      ]
     },
     "metadata": {
      "needs_background": "light"
     },
     "output_type": "display_data"
    }
   ],
   "source": [
    "xgb.plot_tree(booster=bst, num_trees=1)"
   ]
  },
  {
   "cell_type": "code",
   "execution_count": 88,
   "metadata": {},
   "outputs": [
    {
     "data": {
      "image/svg+xml": [
       "<?xml version=\"1.0\" encoding=\"UTF-8\" standalone=\"no\"?>\n",
       "<!DOCTYPE svg PUBLIC \"-//W3C//DTD SVG 1.1//EN\"\n",
       " \"http://www.w3.org/Graphics/SVG/1.1/DTD/svg11.dtd\">\n",
       "<!-- Generated by graphviz version 2.40.1 (20161225.0304)\n",
       " -->\n",
       "<!-- Title: %3 Pages: 1 -->\n",
       "<svg width=\"1229pt\" height=\"479pt\"\n",
       " viewBox=\"0.00 0.00 1228.59 479.00\" xmlns=\"http://www.w3.org/2000/svg\" xmlns:xlink=\"http://www.w3.org/1999/xlink\">\n",
       "<g id=\"graph0\" class=\"graph\" transform=\"scale(1 1) rotate(0) translate(4 475)\">\n",
       "<title>%3</title>\n",
       "<polygon fill=\"#ffffff\" stroke=\"transparent\" points=\"-4,4 -4,-475 1224.5871,-475 1224.5871,4 -4,4\"/>\n",
       "<!-- 0 -->\n",
       "<g id=\"node1\" class=\"node\">\n",
       "<title>0</title>\n",
       "<ellipse fill=\"none\" stroke=\"#000000\" cx=\"721.7935\" cy=\"-453\" rx=\"73.387\" ry=\"18\"/>\n",
       "<text text-anchor=\"middle\" x=\"721.7935\" y=\"-449.3\" font-family=\"Times,serif\" font-size=\"14.00\" fill=\"#000000\">RM&lt;6.94500017</text>\n",
       "</g>\n",
       "<!-- 1 -->\n",
       "<g id=\"node2\" class=\"node\">\n",
       "<title>1</title>\n",
       "<ellipse fill=\"none\" stroke=\"#000000\" cx=\"635.7935\" cy=\"-366\" rx=\"53.0913\" ry=\"18\"/>\n",
       "<text text-anchor=\"middle\" x=\"635.7935\" y=\"-362.3\" font-family=\"Times,serif\" font-size=\"14.00\" fill=\"#000000\">LSTAT&lt;15</text>\n",
       "</g>\n",
       "<!-- 0&#45;&gt;1 -->\n",
       "<g id=\"edge1\" class=\"edge\">\n",
       "<title>0&#45;&gt;1</title>\n",
       "<path fill=\"none\" stroke=\"#0000ff\" d=\"M704.3902,-435.3943C691.6007,-422.4561 674.0614,-404.7129 659.9198,-390.4068\"/>\n",
       "<polygon fill=\"#0000ff\" stroke=\"#0000ff\" points=\"662.3968,-387.934 652.8775,-383.2827 657.4185,-392.855 662.3968,-387.934\"/>\n",
       "<text text-anchor=\"middle\" x=\"719.7935\" y=\"-405.8\" font-family=\"Times,serif\" font-size=\"14.00\" fill=\"#000000\">yes, missing</text>\n",
       "</g>\n",
       "<!-- 2 -->\n",
       "<g id=\"node3\" class=\"node\">\n",
       "<title>2</title>\n",
       "<ellipse fill=\"none\" stroke=\"#000000\" cx=\"813.7935\" cy=\"-366\" rx=\"73.387\" ry=\"18\"/>\n",
       "<text text-anchor=\"middle\" x=\"813.7935\" y=\"-362.3\" font-family=\"Times,serif\" font-size=\"14.00\" fill=\"#000000\">RM&lt;7.43700027</text>\n",
       "</g>\n",
       "<!-- 0&#45;&gt;2 -->\n",
       "<g id=\"edge2\" class=\"edge\">\n",
       "<title>0&#45;&gt;2</title>\n",
       "<path fill=\"none\" stroke=\"#ff0000\" d=\"M740.4111,-435.3943C754.0034,-422.5407 772.6107,-404.9446 787.6869,-390.6878\"/>\n",
       "<polygon fill=\"#ff0000\" stroke=\"#ff0000\" points=\"790.3427,-392.9935 795.2037,-383.5796 785.5331,-387.9074 790.3427,-392.9935\"/>\n",
       "<text text-anchor=\"middle\" x=\"781.2935\" y=\"-405.8\" font-family=\"Times,serif\" font-size=\"14.00\" fill=\"#000000\">no</text>\n",
       "</g>\n",
       "<!-- 3 -->\n",
       "<g id=\"node4\" class=\"node\">\n",
       "<title>3</title>\n",
       "<ellipse fill=\"none\" stroke=\"#000000\" cx=\"327.7935\" cy=\"-279\" rx=\"73.387\" ry=\"18\"/>\n",
       "<text text-anchor=\"middle\" x=\"327.7935\" y=\"-275.3\" font-family=\"Times,serif\" font-size=\"14.00\" fill=\"#000000\">DIS&lt;1.38485003</text>\n",
       "</g>\n",
       "<!-- 1&#45;&gt;3 -->\n",
       "<g id=\"edge3\" class=\"edge\">\n",
       "<title>1&#45;&gt;3</title>\n",
       "<path fill=\"none\" stroke=\"#0000ff\" d=\"M594.8935,-354.4471C541.2609,-339.2976 446.84,-312.6268 385.8295,-295.3933\"/>\n",
       "<polygon fill=\"#0000ff\" stroke=\"#0000ff\" points=\"386.5384,-291.9566 375.9635,-292.6064 384.6355,-298.693 386.5384,-291.9566\"/>\n",
       "<text text-anchor=\"middle\" x=\"535.7935\" y=\"-318.8\" font-family=\"Times,serif\" font-size=\"14.00\" fill=\"#000000\">yes, missing</text>\n",
       "</g>\n",
       "<!-- 4 -->\n",
       "<g id=\"node5\" class=\"node\">\n",
       "<title>4</title>\n",
       "<ellipse fill=\"none\" stroke=\"#000000\" cx=\"635.7935\" cy=\"-279\" rx=\"82.5854\" ry=\"18\"/>\n",
       "<text text-anchor=\"middle\" x=\"635.7935\" y=\"-275.3\" font-family=\"Times,serif\" font-size=\"14.00\" fill=\"#000000\">CRIM&lt;9.77383518</text>\n",
       "</g>\n",
       "<!-- 1&#45;&gt;4 -->\n",
       "<g id=\"edge4\" class=\"edge\">\n",
       "<title>1&#45;&gt;4</title>\n",
       "<path fill=\"none\" stroke=\"#ff0000\" d=\"M635.7935,-347.9735C635.7935,-336.1918 635.7935,-320.5607 635.7935,-307.1581\"/>\n",
       "<polygon fill=\"#ff0000\" stroke=\"#ff0000\" points=\"639.2936,-307.0033 635.7935,-297.0034 632.2936,-307.0034 639.2936,-307.0033\"/>\n",
       "<text text-anchor=\"middle\" x=\"643.2935\" y=\"-318.8\" font-family=\"Times,serif\" font-size=\"14.00\" fill=\"#000000\">no</text>\n",
       "</g>\n",
       "<!-- 5 -->\n",
       "<g id=\"node18\" class=\"node\">\n",
       "<title>5</title>\n",
       "<ellipse fill=\"none\" stroke=\"#000000\" cx=\"813.7935\" cy=\"-279\" rx=\"72.5877\" ry=\"18\"/>\n",
       "<text text-anchor=\"middle\" x=\"813.7935\" y=\"-275.3\" font-family=\"Times,serif\" font-size=\"14.00\" fill=\"#000000\">leaf=9.40272808</text>\n",
       "</g>\n",
       "<!-- 2&#45;&gt;5 -->\n",
       "<g id=\"edge17\" class=\"edge\">\n",
       "<title>2&#45;&gt;5</title>\n",
       "<path fill=\"none\" stroke=\"#0000ff\" d=\"M813.7935,-347.9735C813.7935,-336.1918 813.7935,-320.5607 813.7935,-307.1581\"/>\n",
       "<polygon fill=\"#0000ff\" stroke=\"#0000ff\" points=\"817.2936,-307.0033 813.7935,-297.0034 810.2936,-307.0034 817.2936,-307.0033\"/>\n",
       "<text text-anchor=\"middle\" x=\"848.7935\" y=\"-318.8\" font-family=\"Times,serif\" font-size=\"14.00\" fill=\"#000000\">yes, missing</text>\n",
       "</g>\n",
       "<!-- 6 -->\n",
       "<g id=\"node19\" class=\"node\">\n",
       "<title>6</title>\n",
       "<ellipse fill=\"none\" stroke=\"#000000\" cx=\"988.7935\" cy=\"-279\" rx=\"82.5854\" ry=\"18\"/>\n",
       "<text text-anchor=\"middle\" x=\"988.7935\" y=\"-275.3\" font-family=\"Times,serif\" font-size=\"14.00\" fill=\"#000000\">CRIM&lt;2.65402508</text>\n",
       "</g>\n",
       "<!-- 2&#45;&gt;6 -->\n",
       "<g id=\"edge18\" class=\"edge\">\n",
       "<title>2&#45;&gt;6</title>\n",
       "<path fill=\"none\" stroke=\"#ff0000\" d=\"M847.3672,-349.7968C860.0547,-343.6395 874.609,-336.5354 887.7935,-330 907.2771,-320.3423 928.7969,-309.5003 946.9484,-300.3042\"/>\n",
       "<polygon fill=\"#ff0000\" stroke=\"#ff0000\" points=\"948.7695,-303.3051 956.1048,-295.6602 945.6031,-297.0621 948.7695,-303.3051\"/>\n",
       "<text text-anchor=\"middle\" x=\"923.2935\" y=\"-318.8\" font-family=\"Times,serif\" font-size=\"14.00\" fill=\"#000000\">no</text>\n",
       "</g>\n",
       "<!-- 7 -->\n",
       "<g id=\"node6\" class=\"node\">\n",
       "<title>7</title>\n",
       "<ellipse fill=\"none\" stroke=\"#000000\" cx=\"163.7935\" cy=\"-192\" rx=\"72.5877\" ry=\"18\"/>\n",
       "<text text-anchor=\"middle\" x=\"163.7935\" y=\"-188.3\" font-family=\"Times,serif\" font-size=\"14.00\" fill=\"#000000\">leaf=11.8800001</text>\n",
       "</g>\n",
       "<!-- 3&#45;&gt;7 -->\n",
       "<g id=\"edge5\" class=\"edge\">\n",
       "<title>3&#45;&gt;7</title>\n",
       "<path fill=\"none\" stroke=\"#0000ff\" d=\"M293.6773,-262.955C281.0587,-256.876 266.6912,-249.7831 253.7935,-243 236.3871,-233.8457 217.4039,-223.1911 201.3781,-213.9947\"/>\n",
       "<polygon fill=\"#0000ff\" stroke=\"#0000ff\" points=\"202.7297,-210.734 192.3183,-208.771 199.2331,-216.7982 202.7297,-210.734\"/>\n",
       "<text text-anchor=\"middle\" x=\"288.7935\" y=\"-231.8\" font-family=\"Times,serif\" font-size=\"14.00\" fill=\"#000000\">yes, missing</text>\n",
       "</g>\n",
       "<!-- 8 -->\n",
       "<g id=\"node7\" class=\"node\">\n",
       "<title>8</title>\n",
       "<ellipse fill=\"none\" stroke=\"#000000\" cx=\"327.7935\" cy=\"-192\" rx=\"73.387\" ry=\"18\"/>\n",
       "<text text-anchor=\"middle\" x=\"327.7935\" y=\"-188.3\" font-family=\"Times,serif\" font-size=\"14.00\" fill=\"#000000\">RM&lt;6.54449987</text>\n",
       "</g>\n",
       "<!-- 3&#45;&gt;8 -->\n",
       "<g id=\"edge6\" class=\"edge\">\n",
       "<title>3&#45;&gt;8</title>\n",
       "<path fill=\"none\" stroke=\"#ff0000\" d=\"M327.7935,-260.9735C327.7935,-249.1918 327.7935,-233.5607 327.7935,-220.1581\"/>\n",
       "<polygon fill=\"#ff0000\" stroke=\"#ff0000\" points=\"331.2936,-220.0033 327.7935,-210.0034 324.2936,-220.0034 331.2936,-220.0033\"/>\n",
       "<text text-anchor=\"middle\" x=\"335.2935\" y=\"-231.8\" font-family=\"Times,serif\" font-size=\"14.00\" fill=\"#000000\">no</text>\n",
       "</g>\n",
       "<!-- 9 -->\n",
       "<g id=\"node12\" class=\"node\">\n",
       "<title>9</title>\n",
       "<ellipse fill=\"none\" stroke=\"#000000\" cx=\"631.7935\" cy=\"-192\" rx=\"87.1846\" ry=\"18\"/>\n",
       "<text text-anchor=\"middle\" x=\"631.7935\" y=\"-188.3\" font-family=\"Times,serif\" font-size=\"14.00\" fill=\"#000000\">INDUS&lt;26.6949997</text>\n",
       "</g>\n",
       "<!-- 4&#45;&gt;9 -->\n",
       "<g id=\"edge11\" class=\"edge\">\n",
       "<title>4&#45;&gt;9</title>\n",
       "<path fill=\"none\" stroke=\"#0000ff\" d=\"M634.9647,-260.9735C634.423,-249.1918 633.7044,-233.5607 633.0882,-220.1581\"/>\n",
       "<polygon fill=\"#0000ff\" stroke=\"#0000ff\" points=\"636.577,-219.832 632.6213,-210.0034 629.5844,-220.1536 636.577,-219.832\"/>\n",
       "<text text-anchor=\"middle\" x=\"669.7935\" y=\"-231.8\" font-family=\"Times,serif\" font-size=\"14.00\" fill=\"#000000\">yes, missing</text>\n",
       "</g>\n",
       "<!-- 10 -->\n",
       "<g id=\"node13\" class=\"node\">\n",
       "<title>10</title>\n",
       "<ellipse fill=\"none\" stroke=\"#000000\" cx=\"819.7935\" cy=\"-192\" rx=\"82.5854\" ry=\"18\"/>\n",
       "<text text-anchor=\"middle\" x=\"819.7935\" y=\"-188.3\" font-family=\"Times,serif\" font-size=\"14.00\" fill=\"#000000\">CRIM&lt;33.5037994</text>\n",
       "</g>\n",
       "<!-- 4&#45;&gt;10 -->\n",
       "<g id=\"edge12\" class=\"edge\">\n",
       "<title>4&#45;&gt;10</title>\n",
       "<path fill=\"none\" stroke=\"#ff0000\" d=\"M670.4025,-262.636C700.2485,-248.524 743.5117,-228.0681 775.8075,-212.7978\"/>\n",
       "<polygon fill=\"#ff0000\" stroke=\"#ff0000\" points=\"777.4831,-215.877 785.0274,-208.4383 774.4909,-209.5488 777.4831,-215.877\"/>\n",
       "<text text-anchor=\"middle\" x=\"747.2935\" y=\"-231.8\" font-family=\"Times,serif\" font-size=\"14.00\" fill=\"#000000\">no</text>\n",
       "</g>\n",
       "<!-- 13 -->\n",
       "<g id=\"node8\" class=\"node\">\n",
       "<title>13</title>\n",
       "<ellipse fill=\"none\" stroke=\"#000000\" cx=\"154.7935\" cy=\"-105\" rx=\"82.5854\" ry=\"18\"/>\n",
       "<text text-anchor=\"middle\" x=\"154.7935\" y=\"-101.3\" font-family=\"Times,serif\" font-size=\"14.00\" fill=\"#000000\">CRIM&lt;25.9977989</text>\n",
       "</g>\n",
       "<!-- 8&#45;&gt;13 -->\n",
       "<g id=\"edge7\" class=\"edge\">\n",
       "<title>8&#45;&gt;13</title>\n",
       "<path fill=\"none\" stroke=\"#0000ff\" d=\"M294.1914,-175.8539C281.5006,-169.7033 266.9515,-162.5887 253.7935,-156 234.6554,-146.4168 213.5563,-135.5849 195.771,-126.3762\"/>\n",
       "<polygon fill=\"#0000ff\" stroke=\"#0000ff\" points=\"197.289,-123.2208 186.8005,-121.7239 194.0663,-129.4348 197.289,-123.2208\"/>\n",
       "<text text-anchor=\"middle\" x=\"288.7935\" y=\"-144.8\" font-family=\"Times,serif\" font-size=\"14.00\" fill=\"#000000\">yes, missing</text>\n",
       "</g>\n",
       "<!-- 14 -->\n",
       "<g id=\"node9\" class=\"node\">\n",
       "<title>14</title>\n",
       "<ellipse fill=\"none\" stroke=\"#000000\" cx=\"327.7935\" cy=\"-105\" rx=\"72.5877\" ry=\"18\"/>\n",
       "<text text-anchor=\"middle\" x=\"327.7935\" y=\"-101.3\" font-family=\"Times,serif\" font-size=\"14.00\" fill=\"#000000\">leaf=7.96692324</text>\n",
       "</g>\n",
       "<!-- 8&#45;&gt;14 -->\n",
       "<g id=\"edge8\" class=\"edge\">\n",
       "<title>8&#45;&gt;14</title>\n",
       "<path fill=\"none\" stroke=\"#ff0000\" d=\"M327.7935,-173.9735C327.7935,-162.1918 327.7935,-146.5607 327.7935,-133.1581\"/>\n",
       "<polygon fill=\"#ff0000\" stroke=\"#ff0000\" points=\"331.2936,-133.0033 327.7935,-123.0034 324.2936,-133.0034 331.2936,-133.0033\"/>\n",
       "<text text-anchor=\"middle\" x=\"335.2935\" y=\"-144.8\" font-family=\"Times,serif\" font-size=\"14.00\" fill=\"#000000\">no</text>\n",
       "</g>\n",
       "<!-- 19 -->\n",
       "<g id=\"node10\" class=\"node\">\n",
       "<title>19</title>\n",
       "<ellipse fill=\"none\" stroke=\"#000000\" cx=\"72.7935\" cy=\"-18\" rx=\"72.5877\" ry=\"18\"/>\n",
       "<text text-anchor=\"middle\" x=\"72.7935\" y=\"-14.3\" font-family=\"Times,serif\" font-size=\"14.00\" fill=\"#000000\">leaf=6.23145866</text>\n",
       "</g>\n",
       "<!-- 13&#45;&gt;19 -->\n",
       "<g id=\"edge9\" class=\"edge\">\n",
       "<title>13&#45;&gt;19</title>\n",
       "<path fill=\"none\" stroke=\"#0000ff\" d=\"M137.8031,-86.9735C125.8496,-74.2912 109.6922,-57.1486 96.476,-43.1265\"/>\n",
       "<polygon fill=\"#0000ff\" stroke=\"#0000ff\" points=\"98.8875,-40.5822 89.4817,-35.7057 93.7936,-45.3834 98.8875,-40.5822\"/>\n",
       "<text text-anchor=\"middle\" x=\"153.7935\" y=\"-57.8\" font-family=\"Times,serif\" font-size=\"14.00\" fill=\"#000000\">yes, missing</text>\n",
       "</g>\n",
       "<!-- 20 -->\n",
       "<g id=\"node11\" class=\"node\">\n",
       "<title>20</title>\n",
       "<ellipse fill=\"none\" stroke=\"#000000\" cx=\"236.7935\" cy=\"-18\" rx=\"72.5877\" ry=\"18\"/>\n",
       "<text text-anchor=\"middle\" x=\"236.7935\" y=\"-14.3\" font-family=\"Times,serif\" font-size=\"14.00\" fill=\"#000000\">leaf=2.49000025</text>\n",
       "</g>\n",
       "<!-- 13&#45;&gt;20 -->\n",
       "<g id=\"edge10\" class=\"edge\">\n",
       "<title>13&#45;&gt;20</title>\n",
       "<path fill=\"none\" stroke=\"#ff0000\" d=\"M174.0999,-87.4203C180.2052,-81.6744 186.8953,-75.1793 192.7935,-69 200.4237,-61.0062 208.4164,-51.9646 215.4641,-43.738\"/>\n",
       "<polygon fill=\"#ff0000\" stroke=\"#ff0000\" points=\"218.3524,-45.7435 222.1485,-35.8521 213.0125,-41.2173 218.3524,-45.7435\"/>\n",
       "<text text-anchor=\"middle\" x=\"213.2935\" y=\"-57.8\" font-family=\"Times,serif\" font-size=\"14.00\" fill=\"#000000\">no</text>\n",
       "</g>\n",
       "<!-- 15 -->\n",
       "<g id=\"node14\" class=\"node\">\n",
       "<title>15</title>\n",
       "<ellipse fill=\"none\" stroke=\"#000000\" cx=\"491.7935\" cy=\"-105\" rx=\"72.5877\" ry=\"18\"/>\n",
       "<text text-anchor=\"middle\" x=\"491.7935\" y=\"-101.3\" font-family=\"Times,serif\" font-size=\"14.00\" fill=\"#000000\">leaf=4.74625015</text>\n",
       "</g>\n",
       "<!-- 9&#45;&gt;15 -->\n",
       "<g id=\"edge13\" class=\"edge\">\n",
       "<title>9&#45;&gt;15</title>\n",
       "<path fill=\"none\" stroke=\"#0000ff\" d=\"M601.1142,-175.0051C590.7622,-169.1291 579.1976,-162.4085 568.7935,-156 554.2346,-147.0323 538.4437,-136.686 524.9735,-127.6658\"/>\n",
       "<polygon fill=\"#0000ff\" stroke=\"#0000ff\" points=\"526.7432,-124.638 516.493,-121.9576 522.8344,-130.4451 526.7432,-124.638\"/>\n",
       "<text text-anchor=\"middle\" x=\"603.7935\" y=\"-144.8\" font-family=\"Times,serif\" font-size=\"14.00\" fill=\"#000000\">yes, missing</text>\n",
       "</g>\n",
       "<!-- 16 -->\n",
       "<g id=\"node15\" class=\"node\">\n",
       "<title>16</title>\n",
       "<ellipse fill=\"none\" stroke=\"#000000\" cx=\"655.7935\" cy=\"-105\" rx=\"72.5877\" ry=\"18\"/>\n",
       "<text text-anchor=\"middle\" x=\"655.7935\" y=\"-101.3\" font-family=\"Times,serif\" font-size=\"14.00\" fill=\"#000000\">leaf=2.51400018</text>\n",
       "</g>\n",
       "<!-- 9&#45;&gt;16 -->\n",
       "<g id=\"edge14\" class=\"edge\">\n",
       "<title>9&#45;&gt;16</title>\n",
       "<path fill=\"none\" stroke=\"#ff0000\" d=\"M636.7664,-173.9735C640.0487,-162.0751 644.414,-146.2508 648.1354,-132.7606\"/>\n",
       "<polygon fill=\"#ff0000\" stroke=\"#ff0000\" points=\"651.5417,-133.5741 650.8271,-123.0034 644.7938,-131.7125 651.5417,-133.5741\"/>\n",
       "<text text-anchor=\"middle\" x=\"653.2935\" y=\"-144.8\" font-family=\"Times,serif\" font-size=\"14.00\" fill=\"#000000\">no</text>\n",
       "</g>\n",
       "<!-- 17 -->\n",
       "<g id=\"node16\" class=\"node\">\n",
       "<title>17</title>\n",
       "<ellipse fill=\"none\" stroke=\"#000000\" cx=\"819.7935\" cy=\"-105\" rx=\"72.5877\" ry=\"18\"/>\n",
       "<text text-anchor=\"middle\" x=\"819.7935\" y=\"-101.3\" font-family=\"Times,serif\" font-size=\"14.00\" fill=\"#000000\">leaf=3.22583365</text>\n",
       "</g>\n",
       "<!-- 10&#45;&gt;17 -->\n",
       "<g id=\"edge15\" class=\"edge\">\n",
       "<title>10&#45;&gt;17</title>\n",
       "<path fill=\"none\" stroke=\"#0000ff\" d=\"M819.7935,-173.9735C819.7935,-162.1918 819.7935,-146.5607 819.7935,-133.1581\"/>\n",
       "<polygon fill=\"#0000ff\" stroke=\"#0000ff\" points=\"823.2936,-133.0033 819.7935,-123.0034 816.2936,-133.0034 823.2936,-133.0033\"/>\n",
       "<text text-anchor=\"middle\" x=\"854.7935\" y=\"-144.8\" font-family=\"Times,serif\" font-size=\"14.00\" fill=\"#000000\">yes, missing</text>\n",
       "</g>\n",
       "<!-- 18 -->\n",
       "<g id=\"node17\" class=\"node\">\n",
       "<title>18</title>\n",
       "<ellipse fill=\"none\" stroke=\"#000000\" cx=\"983.7935\" cy=\"-105\" rx=\"72.5877\" ry=\"18\"/>\n",
       "<text text-anchor=\"middle\" x=\"983.7935\" y=\"-101.3\" font-family=\"Times,serif\" font-size=\"14.00\" fill=\"#000000\">leaf=1.59000015</text>\n",
       "</g>\n",
       "<!-- 10&#45;&gt;18 -->\n",
       "<g id=\"edge16\" class=\"edge\">\n",
       "<title>10&#45;&gt;18</title>\n",
       "<path fill=\"none\" stroke=\"#ff0000\" d=\"M854.6541,-175.5962C867.0912,-169.5979 881.1488,-162.6501 893.7935,-156 911.2,-146.8457 930.1831,-136.1911 946.209,-126.9947\"/>\n",
       "<polygon fill=\"#ff0000\" stroke=\"#ff0000\" points=\"948.354,-129.7982 955.2688,-121.771 944.8574,-123.734 948.354,-129.7982\"/>\n",
       "<text text-anchor=\"middle\" x=\"929.2935\" y=\"-144.8\" font-family=\"Times,serif\" font-size=\"14.00\" fill=\"#000000\">no</text>\n",
       "</g>\n",
       "<!-- 11 -->\n",
       "<g id=\"node20\" class=\"node\">\n",
       "<title>11</title>\n",
       "<ellipse fill=\"none\" stroke=\"#000000\" cx=\"988.7935\" cy=\"-192\" rx=\"68.4888\" ry=\"18\"/>\n",
       "<text text-anchor=\"middle\" x=\"988.7935\" y=\"-188.3\" font-family=\"Times,serif\" font-size=\"14.00\" fill=\"#000000\">leaf=13.147501</text>\n",
       "</g>\n",
       "<!-- 6&#45;&gt;11 -->\n",
       "<g id=\"edge19\" class=\"edge\">\n",
       "<title>6&#45;&gt;11</title>\n",
       "<path fill=\"none\" stroke=\"#0000ff\" d=\"M988.7935,-260.9735C988.7935,-249.1918 988.7935,-233.5607 988.7935,-220.1581\"/>\n",
       "<polygon fill=\"#0000ff\" stroke=\"#0000ff\" points=\"992.2936,-220.0033 988.7935,-210.0034 985.2936,-220.0034 992.2936,-220.0033\"/>\n",
       "<text text-anchor=\"middle\" x=\"1023.7935\" y=\"-231.8\" font-family=\"Times,serif\" font-size=\"14.00\" fill=\"#000000\">yes, missing</text>\n",
       "</g>\n",
       "<!-- 12 -->\n",
       "<g id=\"node21\" class=\"node\">\n",
       "<title>12</title>\n",
       "<ellipse fill=\"none\" stroke=\"#000000\" cx=\"1147.7935\" cy=\"-192\" rx=\"72.5877\" ry=\"18\"/>\n",
       "<text text-anchor=\"middle\" x=\"1147.7935\" y=\"-188.3\" font-family=\"Times,serif\" font-size=\"14.00\" fill=\"#000000\">leaf=3.21000004</text>\n",
       "</g>\n",
       "<!-- 6&#45;&gt;12 -->\n",
       "<g id=\"edge20\" class=\"edge\">\n",
       "<title>6&#45;&gt;12</title>\n",
       "<path fill=\"none\" stroke=\"#ff0000\" d=\"M1024.1211,-262.5911C1036.4738,-256.6493 1050.3581,-249.7387 1062.7935,-243 1079.3628,-234.0212 1097.3101,-223.3919 1112.4246,-214.1672\"/>\n",
       "<polygon fill=\"#ff0000\" stroke=\"#ff0000\" points=\"1114.2758,-217.1376 1120.9646,-208.9211 1110.6118,-211.1731 1114.2758,-217.1376\"/>\n",
       "<text text-anchor=\"middle\" x=\"1096.2935\" y=\"-231.8\" font-family=\"Times,serif\" font-size=\"14.00\" fill=\"#000000\">no</text>\n",
       "</g>\n",
       "</g>\n",
       "</svg>\n"
      ],
      "text/plain": [
       "<graphviz.dot.Digraph at 0x1a2757eb70>"
      ]
     },
     "execution_count": 88,
     "metadata": {},
     "output_type": "execute_result"
    }
   ],
   "source": [
    "xgb.to_graphviz(booster=bst,num_trees=0)"
   ]
  },
  {
   "cell_type": "markdown",
   "metadata": {},
   "source": [
    "### 2.4 查看训练之后的模型的各个参数"
   ]
  },
  {
   "cell_type": "code",
   "execution_count": 19,
   "metadata": {},
   "outputs": [
    {
     "data": {
      "text/plain": [
       "{}"
      ]
     },
     "execution_count": 19,
     "metadata": {},
     "output_type": "execute_result"
    }
   ],
   "source": [
    "bst.attributes()"
   ]
  },
  {
   "cell_type": "code",
   "execution_count": 20,
   "metadata": {},
   "outputs": [
    {
     "data": {
      "text/plain": [
       "{'RM': 35,\n",
       " 'LSTAT': 27,\n",
       " 'DIS': 30,\n",
       " 'CRIM': 45,\n",
       " 'INDUS': 7,\n",
       " 'NOX': 14,\n",
       " 'RAD': 3,\n",
       " 'AGE': 14,\n",
       " 'PTRATIO': 9,\n",
       " 'B': 19,\n",
       " 'ZN': 2,\n",
       " 'TAX': 7}"
      ]
     },
     "execution_count": 20,
     "metadata": {},
     "output_type": "execute_result"
    }
   ],
   "source": [
    "bst.get_fscore()"
   ]
  },
  {
   "cell_type": "code",
   "execution_count": 21,
   "metadata": {},
   "outputs": [
    {
     "data": {
      "text/plain": [
       "{'RM': 35,\n",
       " 'LSTAT': 27,\n",
       " 'DIS': 30,\n",
       " 'CRIM': 45,\n",
       " 'INDUS': 7,\n",
       " 'NOX': 14,\n",
       " 'RAD': 3,\n",
       " 'AGE': 14,\n",
       " 'PTRATIO': 9,\n",
       " 'B': 19,\n",
       " 'ZN': 2,\n",
       " 'TAX': 7}"
      ]
     },
     "execution_count": 21,
     "metadata": {},
     "output_type": "execute_result"
    }
   ],
   "source": [
    "bst.get_score(importance_type='weight')"
   ]
  },
  {
   "cell_type": "code",
   "execution_count": 22,
   "metadata": {},
   "outputs": [
    {
     "data": {
      "text/plain": [
       "{'RM': 563.7654129928287,\n",
       " 'LSTAT': 772.489716858926,\n",
       " 'DIS': 62.43212897836665,\n",
       " 'CRIM': 76.36662921584444,\n",
       " 'INDUS': 15.899039046285717,\n",
       " 'NOX': 39.43202330500001,\n",
       " 'RAD': 21.672490453333335,\n",
       " 'AGE': 19.31674604257143,\n",
       " 'PTRATIO': 47.826533865555554,\n",
       " 'B': 15.621451443842108,\n",
       " 'ZN': 17.05010987,\n",
       " 'TAX': 21.055228098571426}"
      ]
     },
     "execution_count": 22,
     "metadata": {},
     "output_type": "execute_result"
    }
   ],
   "source": [
    "bst.get_score(importance_type='gain')"
   ]
  },
  {
   "cell_type": "markdown",
   "metadata": {},
   "source": [
    "### 2.5 预测结果"
   ]
  },
  {
   "cell_type": "code",
   "execution_count": 23,
   "metadata": {},
   "outputs": [
    {
     "name": "stdout",
     "output_type": "stream",
     "text": [
      "(354,)\n",
      "(152,)\n"
     ]
    }
   ],
   "source": [
    "ytrain_predict = bst.predict(dtrain)\n",
    "ytest_predict = bst.predict(dtest)\n",
    "print(ytrain_predict.shape)\n",
    "print(ytest_predict.shape)"
   ]
  },
  {
   "cell_type": "code",
   "execution_count": 24,
   "metadata": {},
   "outputs": [
    {
     "name": "stdout",
     "output_type": "stream",
     "text": [
      "1.606395814779231\n",
      "3.550040035845486\n"
     ]
    }
   ],
   "source": [
    "# 下面这结果应该和上面模型训练时输出的最后一个结果一致\n",
    "print(  MSE(ytrain, ytrain_predict)**(1/2)   )\n",
    "print(  MSE(ytest, ytest_predict)**(1/2)  )"
   ]
  },
  {
   "cell_type": "markdown",
   "metadata": {},
   "source": [
    "### 2.6 交叉验证  \n",
    "`xgboost.cv(params, dtrain, num_boost_round=10, nfold=3, stratified=False, folds=None, metrics=(), obj=None, feval=None, maximize=False, early_stopping_rounds=None, fpreproc=None, as_pandas=True, verbose_eval=None, show_stdv=True, seed=0, callbacks=None, shuffle=True)`"
   ]
  },
  {
   "cell_type": "code",
   "execution_count": 34,
   "metadata": {},
   "outputs": [
    {
     "name": "stdout",
     "output_type": "stream",
     "text": [
      "10\n",
      "--------------------------------------------------\n",
      "{'booster': 'gbtree', 'objective': 'reg:squarederror', 'eta': 0.3, 'gamma': 0, 'max_depth': 6, 'lambda': 1, 'alpha': 0, 'subsample': 1, 'tree': 'auto', 'base_score': 0.5, 'eval_metric': ['rmse', 'mae']}\n"
     ]
    }
   ],
   "source": [
    "print(num_round)\n",
    "print('-'*50)\n",
    "print(params)"
   ]
  },
  {
   "cell_type": "code",
   "execution_count": 25,
   "metadata": {},
   "outputs": [],
   "source": [
    "history = xgb.cv(params=params, dtrain=dtrain, num_boost_round=num_round, nfold=3)"
   ]
  },
  {
   "cell_type": "code",
   "execution_count": 26,
   "metadata": {},
   "outputs": [
    {
     "data": {
      "text/html": [
       "<div>\n",
       "<style scoped>\n",
       "    .dataframe tbody tr th:only-of-type {\n",
       "        vertical-align: middle;\n",
       "    }\n",
       "\n",
       "    .dataframe tbody tr th {\n",
       "        vertical-align: top;\n",
       "    }\n",
       "\n",
       "    .dataframe thead th {\n",
       "        text-align: right;\n",
       "    }\n",
       "</style>\n",
       "<table border=\"1\" class=\"dataframe\">\n",
       "  <thead>\n",
       "    <tr style=\"text-align: right;\">\n",
       "      <th></th>\n",
       "      <th>train-mae-mean</th>\n",
       "      <th>train-mae-std</th>\n",
       "      <th>train-rmse-mean</th>\n",
       "      <th>train-rmse-std</th>\n",
       "      <th>test-mae-mean</th>\n",
       "      <th>test-mae-std</th>\n",
       "      <th>test-rmse-mean</th>\n",
       "      <th>test-rmse-std</th>\n",
       "    </tr>\n",
       "  </thead>\n",
       "  <tbody>\n",
       "    <tr>\n",
       "      <th>0</th>\n",
       "      <td>15.586405</td>\n",
       "      <td>0.231533</td>\n",
       "      <td>17.183577</td>\n",
       "      <td>0.232490</td>\n",
       "      <td>15.655524</td>\n",
       "      <td>0.604145</td>\n",
       "      <td>17.390354</td>\n",
       "      <td>0.758889</td>\n",
       "    </tr>\n",
       "    <tr>\n",
       "      <th>1</th>\n",
       "      <td>11.069543</td>\n",
       "      <td>0.143910</td>\n",
       "      <td>12.474493</td>\n",
       "      <td>0.155784</td>\n",
       "      <td>11.200986</td>\n",
       "      <td>0.591513</td>\n",
       "      <td>12.850633</td>\n",
       "      <td>0.718062</td>\n",
       "    </tr>\n",
       "    <tr>\n",
       "      <th>2</th>\n",
       "      <td>7.910940</td>\n",
       "      <td>0.095145</td>\n",
       "      <td>9.153156</td>\n",
       "      <td>0.125188</td>\n",
       "      <td>8.118243</td>\n",
       "      <td>0.513164</td>\n",
       "      <td>9.638661</td>\n",
       "      <td>0.575764</td>\n",
       "    </tr>\n",
       "    <tr>\n",
       "      <th>3</th>\n",
       "      <td>5.675130</td>\n",
       "      <td>0.060103</td>\n",
       "      <td>6.787880</td>\n",
       "      <td>0.068692</td>\n",
       "      <td>6.087804</td>\n",
       "      <td>0.373011</td>\n",
       "      <td>7.654903</td>\n",
       "      <td>0.526215</td>\n",
       "    </tr>\n",
       "    <tr>\n",
       "      <th>4</th>\n",
       "      <td>4.082608</td>\n",
       "      <td>0.046923</td>\n",
       "      <td>5.100102</td>\n",
       "      <td>0.059483</td>\n",
       "      <td>4.744607</td>\n",
       "      <td>0.251202</td>\n",
       "      <td>6.292857</td>\n",
       "      <td>0.417116</td>\n",
       "    </tr>\n",
       "    <tr>\n",
       "      <th>5</th>\n",
       "      <td>2.989635</td>\n",
       "      <td>0.031937</td>\n",
       "      <td>3.901079</td>\n",
       "      <td>0.042187</td>\n",
       "      <td>3.854919</td>\n",
       "      <td>0.146496</td>\n",
       "      <td>5.342491</td>\n",
       "      <td>0.320639</td>\n",
       "    </tr>\n",
       "    <tr>\n",
       "      <th>6</th>\n",
       "      <td>2.236225</td>\n",
       "      <td>0.014971</td>\n",
       "      <td>3.038578</td>\n",
       "      <td>0.014891</td>\n",
       "      <td>3.335303</td>\n",
       "      <td>0.093782</td>\n",
       "      <td>4.726508</td>\n",
       "      <td>0.233868</td>\n",
       "    </tr>\n",
       "    <tr>\n",
       "      <th>7</th>\n",
       "      <td>1.751982</td>\n",
       "      <td>0.007900</td>\n",
       "      <td>2.427033</td>\n",
       "      <td>0.000421</td>\n",
       "      <td>3.039315</td>\n",
       "      <td>0.080437</td>\n",
       "      <td>4.343113</td>\n",
       "      <td>0.189898</td>\n",
       "    </tr>\n",
       "    <tr>\n",
       "      <th>8</th>\n",
       "      <td>1.403797</td>\n",
       "      <td>0.034954</td>\n",
       "      <td>1.981129</td>\n",
       "      <td>0.014453</td>\n",
       "      <td>2.890799</td>\n",
       "      <td>0.090488</td>\n",
       "      <td>4.160063</td>\n",
       "      <td>0.162168</td>\n",
       "    </tr>\n",
       "    <tr>\n",
       "      <th>9</th>\n",
       "      <td>1.163864</td>\n",
       "      <td>0.031941</td>\n",
       "      <td>1.648028</td>\n",
       "      <td>0.010616</td>\n",
       "      <td>2.810116</td>\n",
       "      <td>0.098633</td>\n",
       "      <td>4.070848</td>\n",
       "      <td>0.180019</td>\n",
       "    </tr>\n",
       "  </tbody>\n",
       "</table>\n",
       "</div>"
      ],
      "text/plain": [
       "   train-mae-mean  train-mae-std  train-rmse-mean  train-rmse-std  \\\n",
       "0       15.586405       0.231533        17.183577        0.232490   \n",
       "1       11.069543       0.143910        12.474493        0.155784   \n",
       "2        7.910940       0.095145         9.153156        0.125188   \n",
       "3        5.675130       0.060103         6.787880        0.068692   \n",
       "4        4.082608       0.046923         5.100102        0.059483   \n",
       "5        2.989635       0.031937         3.901079        0.042187   \n",
       "6        2.236225       0.014971         3.038578        0.014891   \n",
       "7        1.751982       0.007900         2.427033        0.000421   \n",
       "8        1.403797       0.034954         1.981129        0.014453   \n",
       "9        1.163864       0.031941         1.648028        0.010616   \n",
       "\n",
       "   test-mae-mean  test-mae-std  test-rmse-mean  test-rmse-std  \n",
       "0      15.655524      0.604145       17.390354       0.758889  \n",
       "1      11.200986      0.591513       12.850633       0.718062  \n",
       "2       8.118243      0.513164        9.638661       0.575764  \n",
       "3       6.087804      0.373011        7.654903       0.526215  \n",
       "4       4.744607      0.251202        6.292857       0.417116  \n",
       "5       3.854919      0.146496        5.342491       0.320639  \n",
       "6       3.335303      0.093782        4.726508       0.233868  \n",
       "7       3.039315      0.080437        4.343113       0.189898  \n",
       "8       2.890799      0.090488        4.160063       0.162168  \n",
       "9       2.810116      0.098633        4.070848       0.180019  "
      ]
     },
     "execution_count": 26,
     "metadata": {},
     "output_type": "execute_result"
    }
   ],
   "source": [
    "history"
   ]
  },
  {
   "cell_type": "code",
   "execution_count": 35,
   "metadata": {},
   "outputs": [],
   "source": [
    "metrics =['eror']\n",
    "history = xgb.cv(params=params, dtrain=dtrain, num_boost_round=num_round, nfold=3)"
   ]
  },
  {
   "cell_type": "code",
   "execution_count": 36,
   "metadata": {},
   "outputs": [
    {
     "data": {
      "text/html": [
       "<div>\n",
       "<style scoped>\n",
       "    .dataframe tbody tr th:only-of-type {\n",
       "        vertical-align: middle;\n",
       "    }\n",
       "\n",
       "    .dataframe tbody tr th {\n",
       "        vertical-align: top;\n",
       "    }\n",
       "\n",
       "    .dataframe thead th {\n",
       "        text-align: right;\n",
       "    }\n",
       "</style>\n",
       "<table border=\"1\" class=\"dataframe\">\n",
       "  <thead>\n",
       "    <tr style=\"text-align: right;\">\n",
       "      <th></th>\n",
       "      <th>train-mae-mean</th>\n",
       "      <th>train-mae-std</th>\n",
       "      <th>train-rmse-mean</th>\n",
       "      <th>train-rmse-std</th>\n",
       "      <th>test-mae-mean</th>\n",
       "      <th>test-mae-std</th>\n",
       "      <th>test-rmse-mean</th>\n",
       "      <th>test-rmse-std</th>\n",
       "    </tr>\n",
       "  </thead>\n",
       "  <tbody>\n",
       "    <tr>\n",
       "      <th>0</th>\n",
       "      <td>15.586405</td>\n",
       "      <td>0.231533</td>\n",
       "      <td>17.183577</td>\n",
       "      <td>0.232490</td>\n",
       "      <td>15.655524</td>\n",
       "      <td>0.604145</td>\n",
       "      <td>17.390354</td>\n",
       "      <td>0.758889</td>\n",
       "    </tr>\n",
       "    <tr>\n",
       "      <th>1</th>\n",
       "      <td>11.069543</td>\n",
       "      <td>0.143910</td>\n",
       "      <td>12.474493</td>\n",
       "      <td>0.155784</td>\n",
       "      <td>11.200986</td>\n",
       "      <td>0.591513</td>\n",
       "      <td>12.850633</td>\n",
       "      <td>0.718062</td>\n",
       "    </tr>\n",
       "    <tr>\n",
       "      <th>2</th>\n",
       "      <td>7.910940</td>\n",
       "      <td>0.095145</td>\n",
       "      <td>9.153156</td>\n",
       "      <td>0.125188</td>\n",
       "      <td>8.118243</td>\n",
       "      <td>0.513164</td>\n",
       "      <td>9.638661</td>\n",
       "      <td>0.575764</td>\n",
       "    </tr>\n",
       "    <tr>\n",
       "      <th>3</th>\n",
       "      <td>5.675130</td>\n",
       "      <td>0.060103</td>\n",
       "      <td>6.787880</td>\n",
       "      <td>0.068692</td>\n",
       "      <td>6.087804</td>\n",
       "      <td>0.373011</td>\n",
       "      <td>7.654903</td>\n",
       "      <td>0.526215</td>\n",
       "    </tr>\n",
       "    <tr>\n",
       "      <th>4</th>\n",
       "      <td>4.082608</td>\n",
       "      <td>0.046923</td>\n",
       "      <td>5.100102</td>\n",
       "      <td>0.059483</td>\n",
       "      <td>4.744607</td>\n",
       "      <td>0.251202</td>\n",
       "      <td>6.292857</td>\n",
       "      <td>0.417116</td>\n",
       "    </tr>\n",
       "    <tr>\n",
       "      <th>5</th>\n",
       "      <td>2.989635</td>\n",
       "      <td>0.031937</td>\n",
       "      <td>3.901079</td>\n",
       "      <td>0.042187</td>\n",
       "      <td>3.854919</td>\n",
       "      <td>0.146496</td>\n",
       "      <td>5.342491</td>\n",
       "      <td>0.320639</td>\n",
       "    </tr>\n",
       "    <tr>\n",
       "      <th>6</th>\n",
       "      <td>2.236225</td>\n",
       "      <td>0.014971</td>\n",
       "      <td>3.038578</td>\n",
       "      <td>0.014891</td>\n",
       "      <td>3.335303</td>\n",
       "      <td>0.093782</td>\n",
       "      <td>4.726508</td>\n",
       "      <td>0.233868</td>\n",
       "    </tr>\n",
       "    <tr>\n",
       "      <th>7</th>\n",
       "      <td>1.751982</td>\n",
       "      <td>0.007900</td>\n",
       "      <td>2.427033</td>\n",
       "      <td>0.000421</td>\n",
       "      <td>3.039315</td>\n",
       "      <td>0.080437</td>\n",
       "      <td>4.343113</td>\n",
       "      <td>0.189898</td>\n",
       "    </tr>\n",
       "    <tr>\n",
       "      <th>8</th>\n",
       "      <td>1.403797</td>\n",
       "      <td>0.034954</td>\n",
       "      <td>1.981129</td>\n",
       "      <td>0.014453</td>\n",
       "      <td>2.890799</td>\n",
       "      <td>0.090488</td>\n",
       "      <td>4.160063</td>\n",
       "      <td>0.162168</td>\n",
       "    </tr>\n",
       "    <tr>\n",
       "      <th>9</th>\n",
       "      <td>1.163864</td>\n",
       "      <td>0.031941</td>\n",
       "      <td>1.648028</td>\n",
       "      <td>0.010616</td>\n",
       "      <td>2.810116</td>\n",
       "      <td>0.098633</td>\n",
       "      <td>4.070848</td>\n",
       "      <td>0.180019</td>\n",
       "    </tr>\n",
       "  </tbody>\n",
       "</table>\n",
       "</div>"
      ],
      "text/plain": [
       "   train-mae-mean  train-mae-std  train-rmse-mean  train-rmse-std  \\\n",
       "0       15.586405       0.231533        17.183577        0.232490   \n",
       "1       11.069543       0.143910        12.474493        0.155784   \n",
       "2        7.910940       0.095145         9.153156        0.125188   \n",
       "3        5.675130       0.060103         6.787880        0.068692   \n",
       "4        4.082608       0.046923         5.100102        0.059483   \n",
       "5        2.989635       0.031937         3.901079        0.042187   \n",
       "6        2.236225       0.014971         3.038578        0.014891   \n",
       "7        1.751982       0.007900         2.427033        0.000421   \n",
       "8        1.403797       0.034954         1.981129        0.014453   \n",
       "9        1.163864       0.031941         1.648028        0.010616   \n",
       "\n",
       "   test-mae-mean  test-mae-std  test-rmse-mean  test-rmse-std  \n",
       "0      15.655524      0.604145       17.390354       0.758889  \n",
       "1      11.200986      0.591513       12.850633       0.718062  \n",
       "2       8.118243      0.513164        9.638661       0.575764  \n",
       "3       6.087804      0.373011        7.654903       0.526215  \n",
       "4       4.744607      0.251202        6.292857       0.417116  \n",
       "5       3.854919      0.146496        5.342491       0.320639  \n",
       "6       3.335303      0.093782        4.726508       0.233868  \n",
       "7       3.039315      0.080437        4.343113       0.189898  \n",
       "8       2.890799      0.090488        4.160063       0.162168  \n",
       "9       2.810116      0.098633        4.070848       0.180019  "
      ]
     },
     "execution_count": 36,
     "metadata": {},
     "output_type": "execute_result"
    }
   ],
   "source": [
    "history"
   ]
  },
  {
   "cell_type": "markdown",
   "metadata": {},
   "source": [
    "____________"
   ]
  },
  {
   "cell_type": "markdown",
   "metadata": {},
   "source": [
    "## 3. Sklearn接口"
   ]
  },
  {
   "cell_type": "code",
   "execution_count": 42,
   "metadata": {},
   "outputs": [],
   "source": [
    "# xgboost库里的参数配置\n",
    "# 这个params字段里配置的是 Booster 类的参数\n",
    "params = {'booster':'gbtree',  #基分类器\n",
    "          'objective': 'reg:squarederror', #目标函数\n",
    "         'eta': 0.3,  #学习速率\n",
    "         'gamma': 0,  #分咧的最小增益\n",
    "         'max_depth': 6,  #树的最大深度\n",
    "         'lambda': 1,  #L2正则项系数\n",
    "         'alpha': 0,  # L1正则项系数\n",
    "         'subsample': 1,  #boostrap是的采样比例\n",
    "         'tree': 'auto',  # 树的生成方式\n",
    "         'base_score': 0.5,  # 生成第一棵树时的初始值\n",
    "         'eval_metric': ['rmse','mae']}  # 在 验证集 上进行评估的指标，可以选择多个\n",
    "\n",
    "# booster的个数\n",
    "num_round = 10\n",
    "\n",
    "# 用于训练时查看验证集上效果的 evals (list of pairs (DMatrix, string)) \n",
    "watch_list = [(dtrain, 'train'), (dtest, 'eval')]"
   ]
  },
  {
   "cell_type": "code",
   "execution_count": 57,
   "metadata": {},
   "outputs": [],
   "source": [
    "from xgboost import XGBRegressor as XGBR"
   ]
  },
  {
   "cell_type": "code",
   "execution_count": 58,
   "metadata": {},
   "outputs": [],
   "source": [
    "# sklearn接口不能使用字典的形式配置参数\n",
    "xgbr = XGBR(\n",
    "    booster = 'gbtree',\n",
    "    objective='reg:squarederror',\n",
    "    n_estimators = 10, #相当于num_booster_round\n",
    "    max_depth = 6,\n",
    "    learning_rate = 0.3, # 学习速率\n",
    "    tree_method = 'auto',\n",
    "    gammar = 0,\n",
    "    reg_alpah= 0, # L1正则化参数\n",
    "    reg_lambda= 1, # L2正则化参数\n",
    "    subsample= 1,\n",
    "    base_score= 0.5\n",
    ")"
   ]
  },
  {
   "cell_type": "code",
   "execution_count": 59,
   "metadata": {},
   "outputs": [
    {
     "data": {
      "text/plain": [
       "XGBRegressor(base_score=0.5, booster='gbtree', colsample_bylevel=1,\n",
       "             colsample_bynode=1, colsample_bytree=1, gamma=0, gammar=0,\n",
       "             importance_type='gain', learning_rate=0.3, max_delta_step=0,\n",
       "             max_depth=6, min_child_weight=1, missing=None, n_estimators=10,\n",
       "             n_jobs=1, nthread=None, objective='reg:squarederror',\n",
       "             random_state=0, reg_alpah=0, reg_alpha=0, reg_lambda=1,\n",
       "             scale_pos_weight=1, seed=None, silent=None, subsample=1,\n",
       "             tree_method='auto', verbosity=1)"
      ]
     },
     "execution_count": 59,
     "metadata": {},
     "output_type": "execute_result"
    }
   ],
   "source": [
    "xgbr.fit(X=Xtrain,y=ytrain)"
   ]
  },
  {
   "cell_type": "code",
   "execution_count": 73,
   "metadata": {},
   "outputs": [
    {
     "name": "stdout",
     "output_type": "stream",
     "text": [
      "[0]\tvalidation_0-mae:15.4794\tvalidation_0-rmse:17.0354\n",
      "[1]\tvalidation_0-mae:10.9618\tvalidation_0-rmse:12.3715\n",
      "[2]\tvalidation_0-mae:7.82454\tvalidation_0-rmse:9.14436\n",
      "[3]\tvalidation_0-mae:5.72816\tvalidation_0-rmse:7.02082\n",
      "[4]\tvalidation_0-mae:4.32838\tvalidation_0-rmse:5.58317\n",
      "[5]\tvalidation_0-mae:3.47626\tvalidation_0-rmse:4.7071\n",
      "[6]\tvalidation_0-mae:3.0341\tvalidation_0-rmse:4.21405\n",
      "[7]\tvalidation_0-mae:2.74129\tvalidation_0-rmse:3.85263\n",
      "[8]\tvalidation_0-mae:2.5822\tvalidation_0-rmse:3.65708\n",
      "[9]\tvalidation_0-mae:2.48576\tvalidation_0-rmse:3.55004\n"
     ]
    },
    {
     "data": {
      "text/plain": [
       "XGBRegressor(base_score=0.5, booster='gbtree', colsample_bylevel=1,\n",
       "             colsample_bynode=1, colsample_bytree=1, gamma=0, gammar=0,\n",
       "             importance_type='gain', learning_rate=0.3, max_delta_step=0,\n",
       "             max_depth=6, min_child_weight=1, missing=None, n_estimators=10,\n",
       "             n_jobs=1, nthread=None, objective='reg:squarederror',\n",
       "             random_state=0, reg_alpah=0, reg_alpha=0, reg_lambda=1,\n",
       "             scale_pos_weight=1, seed=None, silent=None, subsample=1,\n",
       "             tree_method='auto', verbosity=1)"
      ]
     },
     "execution_count": 73,
     "metadata": {},
     "output_type": "execute_result"
    }
   ],
   "source": [
    "# 也可以传入验证集\n",
    "xgbr.fit(X=Xtrain,y=ytrain, eval_set=[(Xtest, ytest)], eval_metric=['mae','rmse'])"
   ]
  },
  {
   "cell_type": "code",
   "execution_count": 74,
   "metadata": {},
   "outputs": [
    {
     "data": {
      "text/plain": [
       "{'base_score': 0.5,\n",
       " 'booster': 'gbtree',\n",
       " 'colsample_bylevel': 1,\n",
       " 'colsample_bynode': 1,\n",
       " 'colsample_bytree': 1,\n",
       " 'gamma': 0,\n",
       " 'importance_type': 'gain',\n",
       " 'learning_rate': 0.3,\n",
       " 'max_delta_step': 0,\n",
       " 'max_depth': 6,\n",
       " 'min_child_weight': 1,\n",
       " 'missing': None,\n",
       " 'n_estimators': 10,\n",
       " 'n_jobs': 1,\n",
       " 'nthread': None,\n",
       " 'objective': 'reg:squarederror',\n",
       " 'random_state': 0,\n",
       " 'reg_alpha': 0,\n",
       " 'reg_lambda': 1,\n",
       " 'scale_pos_weight': 1,\n",
       " 'seed': None,\n",
       " 'silent': None,\n",
       " 'subsample': 1,\n",
       " 'verbosity': 1,\n",
       " 'tree_method': 'auto',\n",
       " 'gammar': 0,\n",
       " 'reg_alpah': 0}"
      ]
     },
     "execution_count": 74,
     "metadata": {},
     "output_type": "execute_result"
    }
   ],
   "source": [
    "xgbr.get_params()"
   ]
  },
  {
   "cell_type": "code",
   "execution_count": 75,
   "metadata": {
    "collapsed": true,
    "jupyter": {
     "outputs_hidden": true
    }
   },
   "outputs": [
    {
     "data": {
      "text/plain": [
       "{'base_score': 0.5,\n",
       " 'booster': 'gbtree',\n",
       " 'colsample_bylevel': 1,\n",
       " 'colsample_bynode': 1,\n",
       " 'colsample_bytree': 1,\n",
       " 'gamma': 0,\n",
       " 'importance_type': 'gain',\n",
       " 'learning_rate': 0.3,\n",
       " 'max_delta_step': 0,\n",
       " 'max_depth': 6,\n",
       " 'min_child_weight': 1,\n",
       " 'missing': None,\n",
       " 'n_estimators': 10,\n",
       " 'nthread': 1,\n",
       " 'objective': 'reg:squarederror',\n",
       " 'reg_alpha': 0,\n",
       " 'reg_lambda': 1,\n",
       " 'scale_pos_weight': 1,\n",
       " 'seed': 0,\n",
       " 'subsample': 1,\n",
       " 'verbosity': 1,\n",
       " 'tree_method': 'auto',\n",
       " 'gammar': 0,\n",
       " 'reg_alpah': 0}"
      ]
     },
     "execution_count": 75,
     "metadata": {},
     "output_type": "execute_result"
    }
   ],
   "source": [
    "xgbr.get_xgb_params()"
   ]
  },
  {
   "cell_type": "code",
   "execution_count": 76,
   "metadata": {},
   "outputs": [
    {
     "data": {
      "text/plain": [
       "<xgboost.core.Booster at 0x1a26fe2da0>"
      ]
     },
     "execution_count": 76,
     "metadata": {},
     "output_type": "execute_result"
    }
   ],
   "source": [
    "xgbr.get_booster()"
   ]
  },
  {
   "cell_type": "code",
   "execution_count": 77,
   "metadata": {},
   "outputs": [
    {
     "data": {
      "text/plain": [
       "10"
      ]
     },
     "execution_count": 77,
     "metadata": {},
     "output_type": "execute_result"
    }
   ],
   "source": [
    "xgbr.get_num_boosting_rounds()"
   ]
  },
  {
   "cell_type": "code",
   "execution_count": 78,
   "metadata": {},
   "outputs": [
    {
     "data": {
      "text/plain": [
       "array([0.0456485 , 0.01019178, 0.00950372, 0.        , 0.02357067,\n",
       "       0.33699337, 0.01154667, 0.03731909, 0.01295483, 0.01258586,\n",
       "       0.02858853, 0.00933779, 0.46175924], dtype=float32)"
      ]
     },
     "execution_count": 78,
     "metadata": {},
     "output_type": "execute_result"
    }
   ],
   "source": [
    "xgbr.feature_importances_"
   ]
  },
  {
   "cell_type": "code",
   "execution_count": 79,
   "metadata": {},
   "outputs": [
    {
     "data": {
      "text/plain": [
       "0.841814503167488"
      ]
     },
     "execution_count": 79,
     "metadata": {},
     "output_type": "execute_result"
    }
   ],
   "source": [
    "# 这里默认返回的是R^2，不是MSE，可使用shift + tab查看签名\n",
    "xgbr.score(Xtest,ytest)"
   ]
  },
  {
   "cell_type": "code",
   "execution_count": 83,
   "metadata": {},
   "outputs": [],
   "source": [
    "y_predict = xgbr.predict(Xtest)"
   ]
  },
  {
   "cell_type": "code",
   "execution_count": 84,
   "metadata": {},
   "outputs": [],
   "source": [
    "from sklearn.metrics import r2_score"
   ]
  },
  {
   "cell_type": "code",
   "execution_count": 85,
   "metadata": {},
   "outputs": [
    {
     "data": {
      "text/plain": [
       "0.8418145028374874"
      ]
     },
     "execution_count": 85,
     "metadata": {},
     "output_type": "execute_result"
    }
   ],
   "source": [
    "r2_score(y_true=ytest, y_pred=ytest_predict)"
   ]
  },
  {
   "cell_type": "markdown",
   "metadata": {},
   "source": [
    "交叉验证效果"
   ]
  },
  {
   "cell_type": "code",
   "execution_count": 80,
   "metadata": {},
   "outputs": [
    {
     "name": "stdout",
     "output_type": "stream",
     "text": [
      "[13:59:31] WARNING: src/objective/regression_obj.cu:152: reg:linear is now deprecated in favor of reg:squarederror.\n",
      "[13:59:31] WARNING: src/objective/regression_obj.cu:152: reg:linear is now deprecated in favor of reg:squarederror.\n",
      "[13:59:31] WARNING: src/objective/regression_obj.cu:152: reg:linear is now deprecated in favor of reg:squarederror.\n",
      "[13:59:31] WARNING: src/objective/regression_obj.cu:152: reg:linear is now deprecated in favor of reg:squarederror.\n",
      "[13:59:31] WARNING: src/objective/regression_obj.cu:152: reg:linear is now deprecated in favor of reg:squarederror.\n"
     ]
    },
    {
     "data": {
      "text/plain": [
       "array([0.77955736, 0.85656904, 0.79106707, 0.57326677, 0.41285553])"
      ]
     },
     "execution_count": 80,
     "metadata": {},
     "output_type": "execute_result"
    }
   ],
   "source": [
    "xgbr = XGBR(n_estimators=100)\n",
    "cross_val_score(xgbr,X,y,cv=5)"
   ]
  },
  {
   "cell_type": "code",
   "execution_count": 81,
   "metadata": {
    "collapsed": true,
    "jupyter": {
     "outputs_hidden": true
    }
   },
   "outputs": [
    {
     "data": {
      "text/plain": [
       "['accuracy',\n",
       " 'adjusted_mutual_info_score',\n",
       " 'adjusted_rand_score',\n",
       " 'average_precision',\n",
       " 'balanced_accuracy',\n",
       " 'completeness_score',\n",
       " 'explained_variance',\n",
       " 'f1',\n",
       " 'f1_macro',\n",
       " 'f1_micro',\n",
       " 'f1_samples',\n",
       " 'f1_weighted',\n",
       " 'fowlkes_mallows_score',\n",
       " 'homogeneity_score',\n",
       " 'jaccard',\n",
       " 'jaccard_macro',\n",
       " 'jaccard_micro',\n",
       " 'jaccard_samples',\n",
       " 'jaccard_weighted',\n",
       " 'max_error',\n",
       " 'mutual_info_score',\n",
       " 'neg_brier_score',\n",
       " 'neg_log_loss',\n",
       " 'neg_mean_absolute_error',\n",
       " 'neg_mean_gamma_deviance',\n",
       " 'neg_mean_poisson_deviance',\n",
       " 'neg_mean_squared_error',\n",
       " 'neg_mean_squared_log_error',\n",
       " 'neg_median_absolute_error',\n",
       " 'neg_root_mean_squared_error',\n",
       " 'normalized_mutual_info_score',\n",
       " 'precision',\n",
       " 'precision_macro',\n",
       " 'precision_micro',\n",
       " 'precision_samples',\n",
       " 'precision_weighted',\n",
       " 'r2',\n",
       " 'recall',\n",
       " 'recall_macro',\n",
       " 'recall_micro',\n",
       " 'recall_samples',\n",
       " 'recall_weighted',\n",
       " 'roc_auc',\n",
       " 'roc_auc_ovo',\n",
       " 'roc_auc_ovo_weighted',\n",
       " 'roc_auc_ovr',\n",
       " 'roc_auc_ovr_weighted',\n",
       " 'v_measure_score']"
      ]
     },
     "execution_count": 81,
     "metadata": {},
     "output_type": "execute_result"
    }
   ],
   "source": [
    "# 查看sklearn中已有的指标\n",
    "import sklearn\n",
    "sorted(sklearn.metrics.SCORERS.keys())"
   ]
  },
  {
   "cell_type": "code",
   "execution_count": 82,
   "metadata": {},
   "outputs": [
    {
     "name": "stdout",
     "output_type": "stream",
     "text": [
      "[13:59:31] WARNING: src/objective/regression_obj.cu:152: reg:linear is now deprecated in favor of reg:squarederror.\n",
      "[13:59:31] WARNING: src/objective/regression_obj.cu:152: reg:linear is now deprecated in favor of reg:squarederror.\n",
      "[13:59:31] WARNING: src/objective/regression_obj.cu:152: reg:linear is now deprecated in favor of reg:squarederror.\n",
      "[13:59:31] WARNING: src/objective/regression_obj.cu:152: reg:linear is now deprecated in favor of reg:squarederror.\n",
      "[13:59:31] WARNING: src/objective/regression_obj.cu:152: reg:linear is now deprecated in favor of reg:squarederror.\n"
     ]
    },
    {
     "data": {
      "text/plain": [
       "array([ -7.61302966, -13.05748854, -16.73285435, -37.42956222,\n",
       "       -15.6111833 ])"
      ]
     },
     "execution_count": 82,
     "metadata": {},
     "output_type": "execute_result"
    }
   ],
   "source": [
    "# 使用其他指标\n",
    "cross_val_score(xgbr,X,y,cv=5,scoring='neg_mean_squared_error')"
   ]
  },
  {
   "cell_type": "markdown",
   "metadata": {},
   "source": [
    "_________"
   ]
  },
  {
   "cell_type": "markdown",
   "metadata": {},
   "source": [
    "## 4. 对比随机森林和线性回归"
   ]
  },
  {
   "cell_type": "code",
   "execution_count": 89,
   "metadata": {},
   "outputs": [],
   "source": [
    "from sklearn.ensemble import RandomForestRegressor as RFR\n",
    "from sklearn.linear_model import LinearRegression\n",
    "\n",
    "from sklearn.model_selection import KFold"
   ]
  },
  {
   "cell_type": "code",
   "execution_count": 101,
   "metadata": {},
   "outputs": [
    {
     "data": {
      "text/plain": [
       "0.7769540740816125"
      ]
     },
     "execution_count": 101,
     "metadata": {},
     "output_type": "execute_result"
    }
   ],
   "source": [
    "# 线性回归\n",
    "lr = LinearRegression()\n",
    "lr.fit(Xtrain,ytrain)\n",
    "lr.score(Xtest,ytest)"
   ]
  },
  {
   "cell_type": "code",
   "execution_count": 102,
   "metadata": {},
   "outputs": [
    {
     "data": {
      "text/plain": [
       "0.8398599894467208"
      ]
     },
     "execution_count": 102,
     "metadata": {},
     "output_type": "execute_result"
    }
   ],
   "source": [
    "# 随机森林\n",
    "rf = RFR(n_estimators=20)\n",
    "rf.fit(Xtrain,ytrain)\n",
    "rf.score(Xtest,ytest)"
   ]
  },
  {
   "cell_type": "code",
   "execution_count": 103,
   "metadata": {},
   "outputs": [
    {
     "data": {
      "text/plain": [
       "0.841814503167488"
      ]
     },
     "execution_count": 103,
     "metadata": {},
     "output_type": "execute_result"
    }
   ],
   "source": [
    "# XGBoost\n",
    "xgbr = XGBR(\n",
    "    booster = 'gbtree',\n",
    "    objective='reg:squarederror',\n",
    "    n_estimators = 10, #相当于num_booster_round\n",
    "    max_depth = 6,\n",
    "    learning_rate = 0.3, # 学习速率\n",
    "    tree_method = 'auto',\n",
    "    gammar = 0,\n",
    "    reg_alpah= 0, # L1正则化参数\n",
    "    reg_lambda= 1, # L2正则化参数\n",
    "    subsample= 1,\n",
    "    base_score= 0.5\n",
    ")\n",
    "xgbr.fit(X=Xtrain,y=ytrain)\n",
    "xgbr.score(Xtest, ytest)"
   ]
  },
  {
   "cell_type": "code",
   "execution_count": 107,
   "metadata": {},
   "outputs": [
    {
     "data": {
      "text/plain": [
       "array([12.46030057, 26.04862111, 33.07413798, 80.76237112, 33.31360656])"
      ]
     },
     "execution_count": 107,
     "metadata": {},
     "output_type": "execute_result"
    }
   ],
   "source": [
    "- cross_val_score(lr, X, y, cv=5, scoring='neg_mean_squared_error')"
   ]
  },
  {
   "cell_type": "code",
   "execution_count": 106,
   "metadata": {},
   "outputs": [
    {
     "data": {
      "text/plain": [
       "array([ 8.01978039, 15.5468948 , 18.35381386, 43.13013738, 18.37307847])"
      ]
     },
     "execution_count": 106,
     "metadata": {},
     "output_type": "execute_result"
    }
   ],
   "source": [
    "- cross_val_score(rf,X,y,cv=5, scoring='neg_mean_squared_error')"
   ]
  },
  {
   "cell_type": "code",
   "execution_count": 108,
   "metadata": {},
   "outputs": [
    {
     "data": {
      "text/plain": [
       "array([ 8.5341622 , 16.5285442 , 20.92416823, 46.39984535, 17.47468213])"
      ]
     },
     "execution_count": 108,
     "metadata": {},
     "output_type": "execute_result"
    }
   ],
   "source": [
    "- cross_val_score(xgbr,X,y,cv=5, scoring='neg_mean_squared_error')"
   ]
  },
  {
   "cell_type": "markdown",
   "metadata": {},
   "source": [
    "-------------"
   ]
  },
  {
   "cell_type": "markdown",
   "metadata": {},
   "source": [
    "## 5. XGBoost的调参"
   ]
  },
  {
   "cell_type": "markdown",
   "metadata": {},
   "source": [
    "优先调整的参数  \n",
    "+ `n_estimator`或者`num_boost_round`，一般在300以下\n",
    "+ `gammar`，进行分支时的最小增益\n",
    "+ `max_depth`，这个参数和上面的`gammar`通常选择一个进行调整就可以了\n",
    "+ `colsample_bytree`，默认为1，列采样（每次生成树时随机抽样特征）的比例\n",
    "+ `colsample_bylevel`，默认为1，每次生成**树的一层**时 随机抽样特征的比例\n",
    "+ `colsample_bynode`，默认为1，每次生成**一个叶子节点**时 随机抽样特征的比例"
   ]
  },
  {
   "cell_type": "markdown",
   "metadata": {},
   "source": [
    "通常不调整的参数  \n",
    "+ 学习速率`eta`或者`learning_rate`，这个参数对于模型的收敛速度影响较大，但是通常**不调整这个**，即使调整，它的值也在$[0.01, 0.2]$之间变动\n",
    "+ 采样比例`subsample`，默认为1，通常也不调整，只有在样本数据量非常大的时候才进行调整\n",
    "+ 正则化参数 L1的`alpha`或者`reg_alpha`，L2的`lambda`或者`reg_lambda`，如果要调整，通常优先选择调整L2正则参数"
   ]
  },
  {
   "cell_type": "markdown",
   "metadata": {},
   "source": [
    "观察n_estimator的学习曲线"
   ]
  },
  {
   "cell_type": "code",
   "execution_count": 89,
   "metadata": {},
   "outputs": [
    {
     "data": {
      "text/plain": [
       "<matplotlib.legend.Legend at 0x1deacc83408>"
      ]
     },
     "execution_count": 89,
     "metadata": {},
     "output_type": "execute_result"
    },
    {
     "data": {
      "image/png": "[encoded data removed]",
      "text/plain": [
       "<Figure size 720x360 with 1 Axes>"
      ]
     },
     "metadata": {
      "needs_background": "light"
     },
     "output_type": "display_data"
    }
   ],
   "source": [
    "n_estimator_range = range(10, 200, 10)\n",
    "score = []\n",
    "for n_estimator in n_estimator_range:\n",
    "    xgbr = XGBR(n_estimators=n_estimator, silent=True)\n",
    "    result = cross_val_score(xgbr, X, y, cv=5).mean()\n",
    "    score.append(result)\n",
    "    \n",
    "plt.figure(figsize=(10,5))\n",
    "plt.plot(n_estimator_range, score, c='red', label='XGBR')\n",
    "plt.legend()"
   ]
  },
  {
   "cell_type": "code",
   "execution_count": 90,
   "metadata": {},
   "outputs": [
    {
     "name": "stdout",
     "output_type": "stream",
     "text": [
      "150 0.6885265739694534\n"
     ]
    }
   ],
   "source": [
    "print(n_estimator_range[score.index(max(score))], max(score))"
   ]
  },
  {
   "cell_type": "markdown",
   "metadata": {},
   "source": [
    "重新绘制带方差和偏差的学习曲线"
   ]
  },
  {
   "cell_type": "code",
   "execution_count": 91,
   "metadata": {},
   "outputs": [
    {
     "data": {
      "text/plain": [
       "<matplotlib.legend.Legend at 0x1deac322548>"
      ]
     },
     "execution_count": 91,
     "metadata": {},
     "output_type": "execute_result"
    },
    {
     "data": {
      "image/png": "[encoded data removed]",
      "text/plain": [
       "<Figure size 720x360 with 1 Axes>"
      ]
     },
     "metadata": {
      "needs_background": "light"
     },
     "output_type": "display_data"
    }
   ],
   "source": [
    "n_estimator_range = range(10, 200, 10)\n",
    "cv = KFold(n_splits=5, shuffle=True, random_state=29)\n",
    "score = []\n",
    "var = []\n",
    "ge = []\n",
    "\n",
    "for n_estimator in n_estimator_range:\n",
    "    xgbr = XGBR(n_estimators=n_estimator, silent=True)\n",
    "    cv_result = cross_val_score(xgbr, X, y, cv=cv)\n",
    "    score.append(cv_result.mean())\n",
    "    var.append(cv_result.var())\n",
    "    ge.append((1 - cv_result.mean())**2 + cv_result.var())\n",
    "\n",
    "score = np.array(score)\n",
    "var = np.array(var)\n",
    "\n",
    "plt.figure(figsize=(10,5))\n",
    "plt.plot(n_estimator_range, score, c='yellow', label='XGBR')\n",
    "# 添加方差线\n",
    "plt.plot(n_estimator_range, score-var, c='red', linestyle='-.')\n",
    "plt.plot(n_estimator_range, score+var, c='red', linestyle='-.')\n",
    "plt.legend()"
   ]
  },
  {
   "cell_type": "markdown",
   "metadata": {},
   "source": [
    "调整增益参数$\\gamma$\n",
    "需要使用xgboost本身库里的xgboost.cv来查看效果"
   ]
  },
  {
   "cell_type": "code",
   "execution_count": 92,
   "metadata": {},
   "outputs": [],
   "source": [
    "import xgboost as XGB\n",
    "\n",
    "from time import time\n",
    "from datetime import datetime"
   ]
  },
  {
   "cell_type": "markdown",
   "metadata": {},
   "source": [
    "首先练习使用xgboost.cv()函数"
   ]
  },
  {
   "cell_type": "code",
   "execution_count": 93,
   "metadata": {},
   "outputs": [],
   "source": [
    "data = XGB.DMatrix(X,y)\n",
    "param = {'silent':True, 'obj':'reg:linear', 'gamma':0}\n",
    "num_round = 180\n",
    "n_fold = 5"
   ]
  },
  {
   "cell_type": "code",
   "execution_count": 94,
   "metadata": {},
   "outputs": [
    {
     "name": "stdout",
     "output_type": "stream",
     "text": [
      "running time : 00:00:679215\n"
     ]
    }
   ],
   "source": [
    "time0 = time()\n",
    "cv_result = XGB.cv(params=param, dtrain=data, num_boost_round=num_round, nfold=n_fold)\n",
    "time_diff = time() - time0\n",
    "print(\"running time : \" + datetime.fromtimestamp(time_diff).strftime('%M:%S:%f'))"
   ]
  },
  {
   "cell_type": "code",
   "execution_count": 95,
   "metadata": {},
   "outputs": [
    {
     "data": {
      "text/plain": [
       "pandas.core.frame.DataFrame"
      ]
     },
     "execution_count": 95,
     "metadata": {},
     "output_type": "execute_result"
    }
   ],
   "source": [
    "type(cv_result)"
   ]
  },
  {
   "cell_type": "code",
   "execution_count": 96,
   "metadata": {},
   "outputs": [
    {
     "data": {
      "text/plain": [
       "pandas.core.frame.DataFrame"
      ]
     },
     "execution_count": 96,
     "metadata": {},
     "output_type": "execute_result"
    }
   ],
   "source": [
    "cv_result.__class__"
   ]
  },
  {
   "cell_type": "code",
   "execution_count": 97,
   "metadata": {},
   "outputs": [
    {
     "data": {
      "text/html": [
       "<div>\n",
       "<style scoped>\n",
       "    .dataframe tbody tr th:only-of-type {\n",
       "        vertical-align: middle;\n",
       "    }\n",
       "\n",
       "    .dataframe tbody tr th {\n",
       "        vertical-align: top;\n",
       "    }\n",
       "\n",
       "    .dataframe thead th {\n",
       "        text-align: right;\n",
       "    }\n",
       "</style>\n",
       "<table border=\"1\" class=\"dataframe\">\n",
       "  <thead>\n",
       "    <tr style=\"text-align: right;\">\n",
       "      <th></th>\n",
       "      <th>train-rmse-mean</th>\n",
       "      <th>train-rmse-std</th>\n",
       "      <th>test-rmse-mean</th>\n",
       "      <th>test-rmse-std</th>\n",
       "    </tr>\n",
       "  </thead>\n",
       "  <tbody>\n",
       "    <tr>\n",
       "      <th>0</th>\n",
       "      <td>17.105577</td>\n",
       "      <td>0.129117</td>\n",
       "      <td>17.163215</td>\n",
       "      <td>0.584297</td>\n",
       "    </tr>\n",
       "    <tr>\n",
       "      <th>1</th>\n",
       "      <td>12.337972</td>\n",
       "      <td>0.097556</td>\n",
       "      <td>12.519736</td>\n",
       "      <td>0.473458</td>\n",
       "    </tr>\n",
       "    <tr>\n",
       "      <th>2</th>\n",
       "      <td>8.994071</td>\n",
       "      <td>0.065756</td>\n",
       "      <td>9.404534</td>\n",
       "      <td>0.472310</td>\n",
       "    </tr>\n",
       "    <tr>\n",
       "      <th>3</th>\n",
       "      <td>6.629480</td>\n",
       "      <td>0.050323</td>\n",
       "      <td>7.250335</td>\n",
       "      <td>0.500342</td>\n",
       "    </tr>\n",
       "    <tr>\n",
       "      <th>4</th>\n",
       "      <td>4.954407</td>\n",
       "      <td>0.033209</td>\n",
       "      <td>5.920812</td>\n",
       "      <td>0.591874</td>\n",
       "    </tr>\n",
       "    <tr>\n",
       "      <th>...</th>\n",
       "      <td>...</td>\n",
       "      <td>...</td>\n",
       "      <td>...</td>\n",
       "      <td>...</td>\n",
       "    </tr>\n",
       "    <tr>\n",
       "      <th>175</th>\n",
       "      <td>0.001299</td>\n",
       "      <td>0.000289</td>\n",
       "      <td>3.669898</td>\n",
       "      <td>0.857676</td>\n",
       "    </tr>\n",
       "    <tr>\n",
       "      <th>176</th>\n",
       "      <td>0.001285</td>\n",
       "      <td>0.000261</td>\n",
       "      <td>3.669897</td>\n",
       "      <td>0.857677</td>\n",
       "    </tr>\n",
       "    <tr>\n",
       "      <th>177</th>\n",
       "      <td>0.001275</td>\n",
       "      <td>0.000239</td>\n",
       "      <td>3.669903</td>\n",
       "      <td>0.857669</td>\n",
       "    </tr>\n",
       "    <tr>\n",
       "      <th>178</th>\n",
       "      <td>0.001263</td>\n",
       "      <td>0.000217</td>\n",
       "      <td>3.669901</td>\n",
       "      <td>0.857672</td>\n",
       "    </tr>\n",
       "    <tr>\n",
       "      <th>179</th>\n",
       "      <td>0.001259</td>\n",
       "      <td>0.000208</td>\n",
       "      <td>3.669901</td>\n",
       "      <td>0.857671</td>\n",
       "    </tr>\n",
       "  </tbody>\n",
       "</table>\n",
       "<p>180 rows × 4 columns</p>\n",
       "</div>"
      ],
      "text/plain": [
       "     train-rmse-mean  train-rmse-std  test-rmse-mean  test-rmse-std\n",
       "0          17.105577        0.129117       17.163215       0.584297\n",
       "1          12.337972        0.097556       12.519736       0.473458\n",
       "2           8.994071        0.065756        9.404534       0.472310\n",
       "3           6.629480        0.050323        7.250335       0.500342\n",
       "4           4.954407        0.033209        5.920812       0.591874\n",
       "..               ...             ...             ...            ...\n",
       "175         0.001299        0.000289        3.669898       0.857676\n",
       "176         0.001285        0.000261        3.669897       0.857677\n",
       "177         0.001275        0.000239        3.669903       0.857669\n",
       "178         0.001263        0.000217        3.669901       0.857672\n",
       "179         0.001259        0.000208        3.669901       0.857671\n",
       "\n",
       "[180 rows x 4 columns]"
      ]
     },
     "execution_count": 97,
     "metadata": {},
     "output_type": "execute_result"
    }
   ],
   "source": [
    "cv_result"
   ]
  },
  {
   "cell_type": "code",
   "execution_count": 98,
   "metadata": {},
   "outputs": [
    {
     "data": {
      "text/plain": [
       "<matplotlib.legend.Legend at 0x1deac6e4108>"
      ]
     },
     "execution_count": 98,
     "metadata": {},
     "output_type": "execute_result"
    },
    {
     "data": {
      "image/png": "[encoded data removed]",
      "text/plain": [
       "<Figure size 432x288 with 1 Axes>"
      ]
     },
     "metadata": {
      "needs_background": "light"
     },
     "output_type": "display_data"
    }
   ],
   "source": [
    "plt.plot(range(1, 181), cv_result.iloc[:,0], c='red', label=\"train-rmse-mean\")\n",
    "plt.plot(range(1,181), cv_result.iloc[:,1], c='orange', label='test-rmse-mean')\n",
    "plt.legend()"
   ]
  },
  {
   "cell_type": "markdown",
   "metadata": {},
   "source": [
    "使用xgboost.cv来调整$\\gamma$"
   ]
  },
  {
   "cell_type": "code",
   "execution_count": 99,
   "metadata": {},
   "outputs": [],
   "source": [
    "num_round = 180\n",
    "n_fold = 5\n",
    "param1 = {'silent':True, 'obj':'reg:linear', 'gamma':0}\n",
    "param2 = {'silent':True, 'obj':'reg:linear', 'gamma':20}\n",
    "\n",
    "cv_result1 = XGB.cv(params=param1, dtrain=data, num_boost_round=num_round, nfold=n_fold)\n",
    "cv_result2 = XGB.cv(params=param2, dtrain=data, num_boost_round=num_round, nfold=n_fold)"
   ]
  },
  {
   "cell_type": "code",
   "execution_count": 100,
   "metadata": {},
   "outputs": [
    {
     "data": {
      "text/plain": [
       "<matplotlib.legend.Legend at 0x1dea9f4d188>"
      ]
     },
     "execution_count": 100,
     "metadata": {},
     "output_type": "execute_result"
    },
    {
     "data": {
      "image/png": "[encoded data removed]",
      "text/plain": [
       "<Figure size 432x288 with 1 Axes>"
      ]
     },
     "metadata": {
      "needs_background": "light"
     },
     "output_type": "display_data"
    }
   ],
   "source": [
    "plt.plot(range(1, 181),cv_result1.iloc[:,0], c='red', label=\"train-rmse-mean,gamma=0\")\n",
    "plt.plot(range(1,181), cv_result1.iloc[:,1], c='orange', label='test-rmse-mean,gamma=0')\n",
    "plt.plot(range(1,181), cv_result2.iloc[:,0], c='green', label=\"train-rmse-mean,gamma=20\")\n",
    "plt.plot(range(1,181), cv_result2.iloc[:,1], c='blue', label='test-rmse-mean,gamma=20')\n",
    "plt.legend()"
   ]
  },
  {
   "cell_type": "markdown",
   "metadata": {},
   "source": [
    "______"
   ]
  },
  {
   "cell_type": "markdown",
   "metadata": {},
   "source": [
    "## 6. 样本不均衡问题"
   ]
  },
  {
   "cell_type": "code",
   "execution_count": null,
   "metadata": {},
   "outputs": [],
   "source": []
  }
 ],
 "metadata": {
  "kernelspec": {
   "display_name": "Python 3",
   "language": "python",
   "name": "python3"
  },
  "language_info": {
   "codemirror_mode": {
    "name": "ipython",
    "version": 3
   },
   "file_extension": ".py",
   "mimetype": "text/x-python",
   "name": "python",
   "nbconvert_exporter": "python",
   "pygments_lexer": "ipython3",
   "version": "3.6.10"
  }
 },
 "nbformat": 4,
 "nbformat_minor": 4
}
