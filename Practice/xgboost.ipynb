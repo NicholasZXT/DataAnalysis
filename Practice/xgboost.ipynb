{
 "cells": [
  {
   "cell_type": "code",
   "execution_count": 8,
   "metadata": {},
   "outputs": [],
   "source": [
    "import numpy as np\n",
    "import pandas as pd\n",
    "\n",
    "import matplotlib.pyplot as plt\n",
    "import seaborn as sns\n",
    "import plotly.graph_objects as go\n",
    "import plotly.express as px"
   ]
  },
  {
   "cell_type": "code",
   "execution_count": 9,
   "metadata": {},
   "outputs": [],
   "source": [
    "from sklearn.datasets import load_boston\n",
    "from sklearn.model_selection import train_test_split, cross_val_score\n",
    "from sklearn.metrics import mean_squared_error as MSE"
   ]
  },
  {
   "cell_type": "markdown",
   "metadata": {},
   "source": [
    "# 数据集"
   ]
  },
  {
   "cell_type": "code",
   "execution_count": 10,
   "metadata": {},
   "outputs": [
    {
     "data": {
      "text/plain": [
       "dict_keys(['data', 'target', 'feature_names', 'DESCR', 'filename'])"
      ]
     },
     "execution_count": 10,
     "metadata": {},
     "output_type": "execute_result"
    }
   ],
   "source": [
    "boston = load_boston()\n",
    "boston.keys()"
   ]
  },
  {
   "cell_type": "code",
   "execution_count": 11,
   "metadata": {},
   "outputs": [
    {
     "data": {
      "text/plain": [
       "(506, 13)"
      ]
     },
     "execution_count": 11,
     "metadata": {},
     "output_type": "execute_result"
    }
   ],
   "source": [
    "boston.data.shape"
   ]
  },
  {
   "cell_type": "code",
   "execution_count": 12,
   "metadata": {},
   "outputs": [
    {
     "data": {
      "text/plain": [
       "array(['CRIM', 'ZN', 'INDUS', 'CHAS', 'NOX', 'RM', 'AGE', 'DIS', 'RAD',\n",
       "       'TAX', 'PTRATIO', 'B', 'LSTAT'], dtype='<U7')"
      ]
     },
     "execution_count": 12,
     "metadata": {},
     "output_type": "execute_result"
    }
   ],
   "source": [
    "boston.feature_names"
   ]
  },
  {
   "cell_type": "code",
   "execution_count": 13,
   "metadata": {},
   "outputs": [
    {
     "data": {
      "text/html": [
       "<div>\n",
       "<style scoped>\n",
       "    .dataframe tbody tr th:only-of-type {\n",
       "        vertical-align: middle;\n",
       "    }\n",
       "\n",
       "    .dataframe tbody tr th {\n",
       "        vertical-align: top;\n",
       "    }\n",
       "\n",
       "    .dataframe thead th {\n",
       "        text-align: right;\n",
       "    }\n",
       "</style>\n",
       "<table border=\"1\" class=\"dataframe\">\n",
       "  <thead>\n",
       "    <tr style=\"text-align: right;\">\n",
       "      <th></th>\n",
       "      <th>CRIM</th>\n",
       "      <th>ZN</th>\n",
       "      <th>INDUS</th>\n",
       "      <th>CHAS</th>\n",
       "      <th>NOX</th>\n",
       "      <th>RM</th>\n",
       "      <th>AGE</th>\n",
       "      <th>DIS</th>\n",
       "      <th>RAD</th>\n",
       "      <th>TAX</th>\n",
       "      <th>PTRATIO</th>\n",
       "      <th>B</th>\n",
       "      <th>LSTAT</th>\n",
       "    </tr>\n",
       "  </thead>\n",
       "  <tbody>\n",
       "    <tr>\n",
       "      <th>0</th>\n",
       "      <td>0.00632</td>\n",
       "      <td>18.0</td>\n",
       "      <td>2.31</td>\n",
       "      <td>0.0</td>\n",
       "      <td>0.538</td>\n",
       "      <td>6.575</td>\n",
       "      <td>65.2</td>\n",
       "      <td>4.0900</td>\n",
       "      <td>1.0</td>\n",
       "      <td>296.0</td>\n",
       "      <td>15.3</td>\n",
       "      <td>396.90</td>\n",
       "      <td>4.98</td>\n",
       "    </tr>\n",
       "    <tr>\n",
       "      <th>1</th>\n",
       "      <td>0.02731</td>\n",
       "      <td>0.0</td>\n",
       "      <td>7.07</td>\n",
       "      <td>0.0</td>\n",
       "      <td>0.469</td>\n",
       "      <td>6.421</td>\n",
       "      <td>78.9</td>\n",
       "      <td>4.9671</td>\n",
       "      <td>2.0</td>\n",
       "      <td>242.0</td>\n",
       "      <td>17.8</td>\n",
       "      <td>396.90</td>\n",
       "      <td>9.14</td>\n",
       "    </tr>\n",
       "    <tr>\n",
       "      <th>2</th>\n",
       "      <td>0.02729</td>\n",
       "      <td>0.0</td>\n",
       "      <td>7.07</td>\n",
       "      <td>0.0</td>\n",
       "      <td>0.469</td>\n",
       "      <td>7.185</td>\n",
       "      <td>61.1</td>\n",
       "      <td>4.9671</td>\n",
       "      <td>2.0</td>\n",
       "      <td>242.0</td>\n",
       "      <td>17.8</td>\n",
       "      <td>392.83</td>\n",
       "      <td>4.03</td>\n",
       "    </tr>\n",
       "    <tr>\n",
       "      <th>3</th>\n",
       "      <td>0.03237</td>\n",
       "      <td>0.0</td>\n",
       "      <td>2.18</td>\n",
       "      <td>0.0</td>\n",
       "      <td>0.458</td>\n",
       "      <td>6.998</td>\n",
       "      <td>45.8</td>\n",
       "      <td>6.0622</td>\n",
       "      <td>3.0</td>\n",
       "      <td>222.0</td>\n",
       "      <td>18.7</td>\n",
       "      <td>394.63</td>\n",
       "      <td>2.94</td>\n",
       "    </tr>\n",
       "    <tr>\n",
       "      <th>4</th>\n",
       "      <td>0.06905</td>\n",
       "      <td>0.0</td>\n",
       "      <td>2.18</td>\n",
       "      <td>0.0</td>\n",
       "      <td>0.458</td>\n",
       "      <td>7.147</td>\n",
       "      <td>54.2</td>\n",
       "      <td>6.0622</td>\n",
       "      <td>3.0</td>\n",
       "      <td>222.0</td>\n",
       "      <td>18.7</td>\n",
       "      <td>396.90</td>\n",
       "      <td>5.33</td>\n",
       "    </tr>\n",
       "  </tbody>\n",
       "</table>\n",
       "</div>"
      ],
      "text/plain": [
       "      CRIM    ZN  INDUS  CHAS    NOX     RM   AGE     DIS  RAD    TAX  \\\n",
       "0  0.00632  18.0   2.31   0.0  0.538  6.575  65.2  4.0900  1.0  296.0   \n",
       "1  0.02731   0.0   7.07   0.0  0.469  6.421  78.9  4.9671  2.0  242.0   \n",
       "2  0.02729   0.0   7.07   0.0  0.469  7.185  61.1  4.9671  2.0  242.0   \n",
       "3  0.03237   0.0   2.18   0.0  0.458  6.998  45.8  6.0622  3.0  222.0   \n",
       "4  0.06905   0.0   2.18   0.0  0.458  7.147  54.2  6.0622  3.0  222.0   \n",
       "\n",
       "   PTRATIO       B  LSTAT  \n",
       "0     15.3  396.90   4.98  \n",
       "1     17.8  396.90   9.14  \n",
       "2     17.8  392.83   4.03  \n",
       "3     18.7  394.63   2.94  \n",
       "4     18.7  396.90   5.33  "
      ]
     },
     "execution_count": 13,
     "metadata": {},
     "output_type": "execute_result"
    }
   ],
   "source": [
    "data = pd.DataFrame(boston.data, columns = boston.feature_names)\n",
    "data.head()"
   ]
  },
  {
   "cell_type": "code",
   "execution_count": 14,
   "metadata": {},
   "outputs": [],
   "source": [
    "X = data\n",
    "y = boston.target"
   ]
  },
  {
   "cell_type": "code",
   "execution_count": 15,
   "metadata": {},
   "outputs": [],
   "source": [
    "Xtrain,Xtest,ytrain,ytest = train_test_split(X,y, test_size=0.3, random_state=29)"
   ]
  },
  {
   "cell_type": "code",
   "execution_count": 16,
   "metadata": {},
   "outputs": [
    {
     "name": "stdout",
     "output_type": "stream",
     "text": [
      "(354, 13)\n",
      "(152, 13)\n"
     ]
    }
   ],
   "source": [
    "print(Xtrain.shape)\n",
    "print(Xtest.shape)"
   ]
  },
  {
   "cell_type": "markdown",
   "metadata": {},
   "source": [
    "-----"
   ]
  },
  {
   "cell_type": "markdown",
   "metadata": {},
   "source": [
    "XGBoost的两种接口"
   ]
  },
  {
   "cell_type": "markdown",
   "metadata": {},
   "source": [
    "# xgb接口"
   ]
  },
  {
   "cell_type": "code",
   "execution_count": 17,
   "metadata": {},
   "outputs": [],
   "source": [
    "import xgboost as xgb"
   ]
  },
  {
   "cell_type": "code",
   "execution_count": 18,
   "metadata": {},
   "outputs": [],
   "source": [
    "dtrain = xgb.DMatrix(Xtrain, ytrain)\n",
    "dtest = xgb.DMatrix(Xtest,ytest)"
   ]
  },
  {
   "cell_type": "code",
   "execution_count": 19,
   "metadata": {},
   "outputs": [
    {
     "data": {
      "text/plain": [
       "'1.1.1'"
      ]
     },
     "execution_count": 19,
     "metadata": {},
     "output_type": "execute_result"
    }
   ],
   "source": [
    "xgb.__version__"
   ]
  },
  {
   "cell_type": "markdown",
   "metadata": {},
   "source": [
    "注意上面xgb的版本，0.90版本的XGB是没有`'objective': 'reg:squaredlogerror'`这个参数的"
   ]
  },
  {
   "cell_type": "markdown",
   "metadata": {},
   "source": [
    "## 配置参数  \n",
    "下面的参数都是默认值，只不过显式写出来了"
   ]
  },
  {
   "cell_type": "code",
   "execution_count": 20,
   "metadata": {},
   "outputs": [],
   "source": [
    "# 这个params字段里配置的是 Booster 类的参数\n",
    "params = {'booster':'gbtree',  #基分类器\n",
    "          'objective': 'reg:squarederror', #目标函数\n",
    "#           'objective': 'reg:squaredlogerror',\n",
    "         'eta': 0.3,  #学习速率\n",
    "         'gamma': 0,  #分咧的最小增益\n",
    "         'max_depth': 6,  #树的最大深度\n",
    "         'lambda': 1,  #L2正则项系数\n",
    "         'alpha': 0,  # L1正则项系数\n",
    "         'subsample': 1,  #boostrap是的采样比例\n",
    "         'tree': 'auto',  # 树的生成方式\n",
    "         'base_score': 0.5,  # 生成第一棵树时的初始值\n",
    "         'eval_metric': ['rmse','mae']}  # 在 验证集 上进行评估的指标，可以选择多个\n",
    "\n",
    "# booster的个数\n",
    "num_round = 10\n",
    "\n",
    "# 用于训练时查看验证集上效果的 evals (list of pairs (DMatrix, string)) \n",
    "watch_list = [(dtrain, 'train'), (dtest, 'eval')]"
   ]
  },
  {
   "cell_type": "markdown",
   "metadata": {},
   "source": [
    "## 训练模型  \n",
    "`params`里设置的`eval_metric`参数会配合`watch_list`参数使用，会显示`num_round`行记录，每行有$eval\\_metric*watch\\_list$的记录 "
   ]
  },
  {
   "cell_type": "code",
   "execution_count": 21,
   "metadata": {},
   "outputs": [
    {
     "name": "stdout",
     "output_type": "stream",
     "text": [
      "[13:58:02] WARNING: C:\\Users\\Administrator\\workspace\\xgboost-win64_release_1.1.0\\src\\learner.cc:480: \n",
      "Parameters: { tree } might not be used.\n",
      "\n",
      "  This may not be accurate due to some parameters are only used in language bindings but\n",
      "  passed down to XGBoost core.  Or some parameters are not used but slip through this\n",
      "  verification. Please open an issue if you find above cases.\n",
      "\n",
      "\n",
      "[0]\ttrain-rmse:17.09619\ttrain-mae:15.57532\teval-rmse:17.03543\teval-mae:15.47936\n",
      "[1]\ttrain-rmse:12.35078\ttrain-mae:11.04634\teval-rmse:12.37152\teval-mae:10.96176\n",
      "[2]\ttrain-rmse:8.97849\ttrain-mae:7.85870\teval-rmse:9.14436\teval-mae:7.82454\n",
      "[3]\ttrain-rmse:6.59204\ttrain-mae:5.60841\teval-rmse:7.02082\teval-mae:5.72816\n",
      "[4]\ttrain-rmse:4.90564\ttrain-mae:4.04055\teval-rmse:5.58317\teval-mae:4.32838\n",
      "[5]\ttrain-rmse:3.71914\ttrain-mae:2.93160\teval-rmse:4.70710\teval-mae:3.47626\n",
      "[6]\ttrain-rmse:2.88353\ttrain-mae:2.20503\teval-rmse:4.21405\teval-mae:3.03410\n",
      "[7]\ttrain-rmse:2.28600\ttrain-mae:1.71135\teval-rmse:3.85263\teval-mae:2.74129\n",
      "[8]\ttrain-rmse:1.90478\ttrain-mae:1.41127\teval-rmse:3.65708\teval-mae:2.58220\n",
      "[9]\ttrain-rmse:1.60640\ttrain-mae:1.19197\teval-rmse:3.55004\teval-mae:2.48576\n"
     ]
    }
   ],
   "source": [
    "bst = xgb.train(params=params, dtrain=dtrain, num_boost_round=num_round\n",
    "                , evals=watch_list\n",
    "               )"
   ]
  },
  {
   "cell_type": "markdown",
   "metadata": {},
   "source": [
    "## 绘制特征重要性  \n",
    "`xgboost.plot_importance(booster, ax=None, height=0.2, xlim=None, ylim=None, title='Feature importance', xlabel='F score', ylabel='Features', fmap='', importance_type='weight', max_num_features=None, grid=True, show_values=True, **kwargs)`  \n",
    "\n",
    " + importance_type (str, default \"weight\")\n",
    " How the importance is calculated: either “weight”, “gain”, or “cover”\n",
    "   + ”weight” is the number of times a feature appears in a tree —— 特征在树中出现的次数\n",
    "   + ”gain” is the average gain of splits which use the feature —— 使用该特征进行分割时的平均gain\n",
    "   + ”cover” is the average coverage of splits which use the feature where coverage is defined as the number of samples affected by the split"
   ]
  },
  {
   "cell_type": "code",
   "execution_count": 14,
   "metadata": {
    "collapsed": true,
    "jupyter": {
     "outputs_hidden": true
    }
   },
   "outputs": [
    {
     "data": {
      "text/plain": [
       "<matplotlib.axes._subplots.AxesSubplot at 0x11b86cf15c8>"
      ]
     },
     "execution_count": 14,
     "metadata": {},
     "output_type": "execute_result"
    },
    {
     "data": {
      "image/png": "[encoded data removed]",
      "text/plain": [
       "<Figure size 432x288 with 1 Axes>"
      ]
     },
     "metadata": {
      "needs_background": "light"
     },
     "output_type": "display_data"
    }
   ],
   "source": [
    "xgb.plot_importance(booster=bst, importance_type='weight')"
   ]
  },
  {
   "cell_type": "code",
   "execution_count": 15,
   "metadata": {
    "collapsed": true,
    "jupyter": {
     "outputs_hidden": true
    }
   },
   "outputs": [
    {
     "data": {
      "text/plain": [
       "<matplotlib.axes._subplots.AxesSubplot at 0x11b87573fc8>"
      ]
     },
     "execution_count": 15,
     "metadata": {},
     "output_type": "execute_result"
    },
    {
     "data": {
      "image/png": "[encoded data removed]",
      "text/plain": [
       "<Figure size 432x288 with 1 Axes>"
      ]
     },
     "metadata": {
      "needs_background": "light"
     },
     "output_type": "display_data"
    }
   ],
   "source": [
    "xgb.plot_importance(booster=bst, importance_type='gain')"
   ]
  },
  {
   "cell_type": "markdown",
   "metadata": {},
   "source": [
    "+ 绘制树  \n",
    "`xgboost.plot_tree(booster, fmap='', num_trees=0, rankdir=None, ax=None, **kwargs)`  \n",
    "`xgboost.to_graphviz(booster, fmap='', num_trees=0, rankdir=None, yes_color=None, no_color=None, condition_node_params=None, leaf_node_params=None, **kwargs)`"
   ]
  },
  {
   "cell_type": "code",
   "execution_count": 16,
   "metadata": {
    "collapsed": true,
    "jupyter": {
     "outputs_hidden": true
    }
   },
   "outputs": [
    {
     "data": {
      "text/plain": [
       "<matplotlib.axes._subplots.AxesSubplot at 0x11b87550cc8>"
      ]
     },
     "execution_count": 16,
     "metadata": {},
     "output_type": "execute_result"
    },
    {
     "data": {
      "image/png": "[encoded data removed]",
      "text/plain": [
       "<Figure size 432x288 with 1 Axes>"
      ]
     },
     "metadata": {
      "needs_background": "light"
     },
     "output_type": "display_data"
    }
   ],
   "source": [
    "xgb.plot_tree(booster=bst, num_trees=0)"
   ]
  },
  {
   "cell_type": "code",
   "execution_count": 17,
   "metadata": {
    "collapsed": true,
    "jupyter": {
     "outputs_hidden": true
    }
   },
   "outputs": [
    {
     "data": {
      "text/plain": [
       "<matplotlib.axes._subplots.AxesSubplot at 0x11b876fcb08>"
      ]
     },
     "execution_count": 17,
     "metadata": {},
     "output_type": "execute_result"
    },
    {
     "data": {
      "image/png": "[encoded data removed]",
      "text/plain": [
       "<Figure size 432x288 with 1 Axes>"
      ]
     },
     "metadata": {
      "needs_background": "light"
     },
     "output_type": "display_data"
    }
   ],
   "source": [
    "xgb.plot_tree(booster=bst, num_trees=1)"
   ]
  },
  {
   "cell_type": "code",
   "execution_count": 18,
   "metadata": {
    "collapsed": true,
    "jupyter": {
     "outputs_hidden": true
    }
   },
   "outputs": [
    {
     "data": {
      "image/svg+xml": [
       "<?xml version=\"1.0\" encoding=\"UTF-8\" standalone=\"no\"?>\r\n",
       "<!DOCTYPE svg PUBLIC \"-//W3C//DTD SVG 1.1//EN\"\r\n",
       " \"http://www.w3.org/Graphics/SVG/1.1/DTD/svg11.dtd\">\r\n",
       "<!-- Generated by graphviz version 2.38.0 (20140413.2041)\r\n",
       " -->\r\n",
       "<!-- Title: %3 Pages: 1 -->\r\n",
       "<svg width=\"1201pt\" height=\"479pt\"\r\n",
       " viewBox=\"0.00 0.00 1200.69 479.00\" xmlns=\"http://www.w3.org/2000/svg\" xmlns:xlink=\"http://www.w3.org/1999/xlink\">\r\n",
       "<g id=\"graph0\" class=\"graph\" transform=\"scale(1 1) rotate(0) translate(4 475)\">\r\n",
       "<title>%3</title>\r\n",
       "<polygon fill=\"white\" stroke=\"none\" points=\"-4,4 -4,-475 1196.69,-475 1196.69,4 -4,4\"/>\r\n",
       "<!-- 0 -->\r\n",
       "<g id=\"node1\" class=\"node\"><title>0</title>\r\n",
       "<ellipse fill=\"none\" stroke=\"black\" cx=\"718.844\" cy=\"-453\" rx=\"72.2875\" ry=\"18\"/>\r\n",
       "<text text-anchor=\"middle\" x=\"718.844\" y=\"-449.3\" font-family=\"Times New Roman,serif\" font-size=\"14.00\">RM&lt;6.94500017</text>\r\n",
       "</g>\r\n",
       "<!-- 1 -->\r\n",
       "<g id=\"node2\" class=\"node\"><title>1</title>\r\n",
       "<ellipse fill=\"none\" stroke=\"black\" cx=\"622.844\" cy=\"-366\" rx=\"53.8905\" ry=\"18\"/>\r\n",
       "<text text-anchor=\"middle\" x=\"622.844\" y=\"-362.3\" font-family=\"Times New Roman,serif\" font-size=\"14.00\">LSTAT&lt;15</text>\r\n",
       "</g>\r\n",
       "<!-- 0&#45;&gt;1 -->\r\n",
       "<g id=\"edge1\" class=\"edge\"><title>0&#45;&gt;1</title>\r\n",
       "<path fill=\"none\" stroke=\"#0000ff\" d=\"M699.877,-435.207C685.226,-422.234 664.794,-404.144 648.654,-389.853\"/>\r\n",
       "<polygon fill=\"#0000ff\" stroke=\"#0000ff\" points=\"650.927,-387.19 641.119,-383.182 646.286,-392.431 650.927,-387.19\"/>\r\n",
       "<text text-anchor=\"middle\" x=\"711.344\" y=\"-405.8\" font-family=\"Times New Roman,serif\" font-size=\"14.00\">yes, missing</text>\r\n",
       "</g>\r\n",
       "<!-- 2 -->\r\n",
       "<g id=\"node3\" class=\"node\"><title>2</title>\r\n",
       "<ellipse fill=\"none\" stroke=\"black\" cx=\"794.844\" cy=\"-366\" rx=\"72.2875\" ry=\"18\"/>\r\n",
       "<text text-anchor=\"middle\" x=\"794.844\" y=\"-362.3\" font-family=\"Times New Roman,serif\" font-size=\"14.00\">RM&lt;7.43700027</text>\r\n",
       "</g>\r\n",
       "<!-- 0&#45;&gt;2 -->\r\n",
       "<g id=\"edge2\" class=\"edge\"><title>0&#45;&gt;2</title>\r\n",
       "<path fill=\"none\" stroke=\"#ff0000\" d=\"M733.859,-435.207C744.997,-422.75 760.355,-405.573 772.872,-391.574\"/>\r\n",
       "<polygon fill=\"#ff0000\" stroke=\"#ff0000\" points=\"775.803,-393.546 779.86,-383.758 770.585,-388.88 775.803,-393.546\"/>\r\n",
       "<text text-anchor=\"middle\" x=\"769.344\" y=\"-405.8\" font-family=\"Times New Roman,serif\" font-size=\"14.00\">no</text>\r\n",
       "</g>\r\n",
       "<!-- 3 -->\r\n",
       "<g id=\"node4\" class=\"node\"><title>3</title>\r\n",
       "<ellipse fill=\"none\" stroke=\"black\" cx=\"320.844\" cy=\"-279\" rx=\"72.5877\" ry=\"18\"/>\r\n",
       "<text text-anchor=\"middle\" x=\"320.844\" y=\"-275.3\" font-family=\"Times New Roman,serif\" font-size=\"14.00\">DIS&lt;1.38485003</text>\r\n",
       "</g>\r\n",
       "<!-- 1&#45;&gt;3 -->\r\n",
       "<g id=\"edge3\" class=\"edge\"><title>1&#45;&gt;3</title>\r\n",
       "<path fill=\"none\" stroke=\"#0000ff\" d=\"M583.052,-353.8C530.177,-338.918 436.479,-312.546 376.583,-295.688\"/>\r\n",
       "<polygon fill=\"#0000ff\" stroke=\"#0000ff\" points=\"377.481,-292.305 366.906,-292.965 375.584,-299.043 377.481,-292.305\"/>\r\n",
       "<text text-anchor=\"middle\" x=\"525.344\" y=\"-318.8\" font-family=\"Times New Roman,serif\" font-size=\"14.00\">yes, missing</text>\r\n",
       "</g>\r\n",
       "<!-- 4 -->\r\n",
       "<g id=\"node5\" class=\"node\"><title>4</title>\r\n",
       "<ellipse fill=\"none\" stroke=\"black\" cx=\"622.844\" cy=\"-279\" rx=\"81.4863\" ry=\"18\"/>\r\n",
       "<text text-anchor=\"middle\" x=\"622.844\" y=\"-275.3\" font-family=\"Times New Roman,serif\" font-size=\"14.00\">CRIM&lt;9.77383518</text>\r\n",
       "</g>\r\n",
       "<!-- 1&#45;&gt;4 -->\r\n",
       "<g id=\"edge4\" class=\"edge\"><title>1&#45;&gt;4</title>\r\n",
       "<path fill=\"none\" stroke=\"#ff0000\" d=\"M622.844,-347.799C622.844,-336.163 622.844,-320.548 622.844,-307.237\"/>\r\n",
       "<polygon fill=\"#ff0000\" stroke=\"#ff0000\" points=\"626.344,-307.175 622.844,-297.175 619.344,-307.175 626.344,-307.175\"/>\r\n",
       "<text text-anchor=\"middle\" x=\"630.344\" y=\"-318.8\" font-family=\"Times New Roman,serif\" font-size=\"14.00\">no</text>\r\n",
       "</g>\r\n",
       "<!-- 5 -->\r\n",
       "<g id=\"node18\" class=\"node\"><title>5</title>\r\n",
       "<ellipse fill=\"none\" stroke=\"black\" cx=\"794.844\" cy=\"-279\" rx=\"70.6878\" ry=\"18\"/>\r\n",
       "<text text-anchor=\"middle\" x=\"794.844\" y=\"-275.3\" font-family=\"Times New Roman,serif\" font-size=\"14.00\">leaf=9.40272808</text>\r\n",
       "</g>\r\n",
       "<!-- 2&#45;&gt;5 -->\r\n",
       "<g id=\"edge17\" class=\"edge\"><title>2&#45;&gt;5</title>\r\n",
       "<path fill=\"none\" stroke=\"#0000ff\" d=\"M794.844,-347.799C794.844,-336.163 794.844,-320.548 794.844,-307.237\"/>\r\n",
       "<polygon fill=\"#0000ff\" stroke=\"#0000ff\" points=\"798.344,-307.175 794.844,-297.175 791.344,-307.175 798.344,-307.175\"/>\r\n",
       "<text text-anchor=\"middle\" x=\"829.344\" y=\"-318.8\" font-family=\"Times New Roman,serif\" font-size=\"14.00\">yes, missing</text>\r\n",
       "</g>\r\n",
       "<!-- 6 -->\r\n",
       "<g id=\"node19\" class=\"node\"><title>6</title>\r\n",
       "<ellipse fill=\"none\" stroke=\"black\" cx=\"966.844\" cy=\"-279\" rx=\"81.4863\" ry=\"18\"/>\r\n",
       "<text text-anchor=\"middle\" x=\"966.844\" y=\"-275.3\" font-family=\"Times New Roman,serif\" font-size=\"14.00\">CRIM&lt;2.65402508</text>\r\n",
       "</g>\r\n",
       "<!-- 2&#45;&gt;6 -->\r\n",
       "<g id=\"edge18\" class=\"edge\"><title>2&#45;&gt;6</title>\r\n",
       "<path fill=\"none\" stroke=\"#ff0000\" d=\"M826.894,-349.809C839.664,-343.71 854.477,-336.579 867.844,-330 887.41,-320.37 909.041,-309.474 927.08,-300.318\"/>\r\n",
       "<polygon fill=\"#ff0000\" stroke=\"#ff0000\" points=\"928.827,-303.356 936.155,-295.704 925.655,-297.116 928.827,-303.356\"/>\r\n",
       "<text text-anchor=\"middle\" x=\"906.344\" y=\"-318.8\" font-family=\"Times New Roman,serif\" font-size=\"14.00\">no</text>\r\n",
       "</g>\r\n",
       "<!-- 7 -->\r\n",
       "<g id=\"node6\" class=\"node\"><title>7</title>\r\n",
       "<ellipse fill=\"none\" stroke=\"black\" cx=\"159.844\" cy=\"-192\" rx=\"70.6878\" ry=\"18\"/>\r\n",
       "<text text-anchor=\"middle\" x=\"159.844\" y=\"-188.3\" font-family=\"Times New Roman,serif\" font-size=\"14.00\">leaf=11.8800001</text>\r\n",
       "</g>\r\n",
       "<!-- 3&#45;&gt;7 -->\r\n",
       "<g id=\"edge5\" class=\"edge\"><title>3&#45;&gt;7</title>\r\n",
       "<path fill=\"none\" stroke=\"#0000ff\" d=\"M287.897,-262.8C275.273,-256.821 260.796,-249.774 247.844,-243 230.402,-233.878 211.376,-223.166 195.491,-214.002\"/>\r\n",
       "<polygon fill=\"#0000ff\" stroke=\"#0000ff\" points=\"196.943,-210.798 186.536,-208.808 193.431,-216.853 196.943,-210.798\"/>\r\n",
       "<text text-anchor=\"middle\" x=\"282.344\" y=\"-231.8\" font-family=\"Times New Roman,serif\" font-size=\"14.00\">yes, missing</text>\r\n",
       "</g>\r\n",
       "<!-- 8 -->\r\n",
       "<g id=\"node7\" class=\"node\"><title>8</title>\r\n",
       "<ellipse fill=\"none\" stroke=\"black\" cx=\"320.844\" cy=\"-192\" rx=\"72.2875\" ry=\"18\"/>\r\n",
       "<text text-anchor=\"middle\" x=\"320.844\" y=\"-188.3\" font-family=\"Times New Roman,serif\" font-size=\"14.00\">RM&lt;6.54449987</text>\r\n",
       "</g>\r\n",
       "<!-- 3&#45;&gt;8 -->\r\n",
       "<g id=\"edge6\" class=\"edge\"><title>3&#45;&gt;8</title>\r\n",
       "<path fill=\"none\" stroke=\"#ff0000\" d=\"M320.844,-260.799C320.844,-249.163 320.844,-233.548 320.844,-220.237\"/>\r\n",
       "<polygon fill=\"#ff0000\" stroke=\"#ff0000\" points=\"324.344,-220.175 320.844,-210.175 317.344,-220.175 324.344,-220.175\"/>\r\n",
       "<text text-anchor=\"middle\" x=\"328.344\" y=\"-231.8\" font-family=\"Times New Roman,serif\" font-size=\"14.00\">no</text>\r\n",
       "</g>\r\n",
       "<!-- 9 -->\r\n",
       "<g id=\"node12\" class=\"node\"><title>9</title>\r\n",
       "<ellipse fill=\"none\" stroke=\"black\" cx=\"616.844\" cy=\"-192\" rx=\"85.2851\" ry=\"18\"/>\r\n",
       "<text text-anchor=\"middle\" x=\"616.844\" y=\"-188.3\" font-family=\"Times New Roman,serif\" font-size=\"14.00\">INDUS&lt;26.6949997</text>\r\n",
       "</g>\r\n",
       "<!-- 4&#45;&gt;9 -->\r\n",
       "<g id=\"edge11\" class=\"edge\"><title>4&#45;&gt;9</title>\r\n",
       "<path fill=\"none\" stroke=\"#0000ff\" d=\"M621.63,-260.799C620.808,-249.163 619.706,-233.548 618.766,-220.237\"/>\r\n",
       "<polygon fill=\"#0000ff\" stroke=\"#0000ff\" points=\"622.252,-219.904 618.056,-210.175 615.269,-220.397 622.252,-219.904\"/>\r\n",
       "<text text-anchor=\"middle\" x=\"655.344\" y=\"-231.8\" font-family=\"Times New Roman,serif\" font-size=\"14.00\">yes, missing</text>\r\n",
       "</g>\r\n",
       "<!-- 10 -->\r\n",
       "<g id=\"node13\" class=\"node\"><title>10</title>\r\n",
       "<ellipse fill=\"none\" stroke=\"black\" cx=\"800.844\" cy=\"-192\" rx=\"81.4863\" ry=\"18\"/>\r\n",
       "<text text-anchor=\"middle\" x=\"800.844\" y=\"-188.3\" font-family=\"Times New Roman,serif\" font-size=\"14.00\">CRIM&lt;33.5037994</text>\r\n",
       "</g>\r\n",
       "<!-- 4&#45;&gt;10 -->\r\n",
       "<g id=\"edge12\" class=\"edge\"><title>4&#45;&gt;10</title>\r\n",
       "<path fill=\"none\" stroke=\"#ff0000\" d=\"M655.492,-262.41C684.507,-248.554 727.096,-228.217 758.68,-213.134\"/>\r\n",
       "<polygon fill=\"#ff0000\" stroke=\"#ff0000\" points=\"760.586,-216.103 768.102,-208.635 757.57,-209.786 760.586,-216.103\"/>\r\n",
       "<text text-anchor=\"middle\" x=\"730.344\" y=\"-231.8\" font-family=\"Times New Roman,serif\" font-size=\"14.00\">no</text>\r\n",
       "</g>\r\n",
       "<!-- 13 -->\r\n",
       "<g id=\"node8\" class=\"node\"><title>13</title>\r\n",
       "<ellipse fill=\"none\" stroke=\"black\" cx=\"150.844\" cy=\"-105\" rx=\"81.4863\" ry=\"18\"/>\r\n",
       "<text text-anchor=\"middle\" x=\"150.844\" y=\"-101.3\" font-family=\"Times New Roman,serif\" font-size=\"14.00\">CRIM&lt;25.9977989</text>\r\n",
       "</g>\r\n",
       "<!-- 8&#45;&gt;13 -->\r\n",
       "<g id=\"edge7\" class=\"edge\"><title>8&#45;&gt;13</title>\r\n",
       "<path fill=\"none\" stroke=\"#0000ff\" d=\"M288.766,-175.866C275.992,-169.775 261.183,-162.634 247.844,-156 228.631,-146.445 207.432,-135.558 189.766,-126.388\"/>\r\n",
       "<polygon fill=\"#0000ff\" stroke=\"#0000ff\" points=\"191.365,-123.275 180.878,-121.765 188.135,-129.485 191.365,-123.275\"/>\r\n",
       "<text text-anchor=\"middle\" x=\"282.344\" y=\"-144.8\" font-family=\"Times New Roman,serif\" font-size=\"14.00\">yes, missing</text>\r\n",
       "</g>\r\n",
       "<!-- 14 -->\r\n",
       "<g id=\"node9\" class=\"node\"><title>14</title>\r\n",
       "<ellipse fill=\"none\" stroke=\"black\" cx=\"320.844\" cy=\"-105\" rx=\"70.6878\" ry=\"18\"/>\r\n",
       "<text text-anchor=\"middle\" x=\"320.844\" y=\"-101.3\" font-family=\"Times New Roman,serif\" font-size=\"14.00\">leaf=7.96692324</text>\r\n",
       "</g>\r\n",
       "<!-- 8&#45;&gt;14 -->\r\n",
       "<g id=\"edge8\" class=\"edge\"><title>8&#45;&gt;14</title>\r\n",
       "<path fill=\"none\" stroke=\"#ff0000\" d=\"M320.844,-173.799C320.844,-162.163 320.844,-146.548 320.844,-133.237\"/>\r\n",
       "<polygon fill=\"#ff0000\" stroke=\"#ff0000\" points=\"324.344,-133.175 320.844,-123.175 317.344,-133.175 324.344,-133.175\"/>\r\n",
       "<text text-anchor=\"middle\" x=\"328.344\" y=\"-144.8\" font-family=\"Times New Roman,serif\" font-size=\"14.00\">no</text>\r\n",
       "</g>\r\n",
       "<!-- 19 -->\r\n",
       "<g id=\"node10\" class=\"node\"><title>19</title>\r\n",
       "<ellipse fill=\"none\" stroke=\"black\" cx=\"70.8437\" cy=\"-18\" rx=\"70.6878\" ry=\"18\"/>\r\n",
       "<text text-anchor=\"middle\" x=\"70.8437\" y=\"-14.3\" font-family=\"Times New Roman,serif\" font-size=\"14.00\">leaf=6.23145866</text>\r\n",
       "</g>\r\n",
       "<!-- 13&#45;&gt;19 -->\r\n",
       "<g id=\"edge9\" class=\"edge\"><title>13&#45;&gt;19</title>\r\n",
       "<path fill=\"none\" stroke=\"#0000ff\" d=\"M135.038,-87.2067C123.205,-74.6335 106.846,-57.252 93.6037,-43.1825\"/>\r\n",
       "<polygon fill=\"#0000ff\" stroke=\"#0000ff\" points=\"96.0187,-40.6416 86.6163,-35.7584 90.9213,-45.4392 96.0187,-40.6416\"/>\r\n",
       "<text text-anchor=\"middle\" x=\"150.344\" y=\"-57.8\" font-family=\"Times New Roman,serif\" font-size=\"14.00\">yes, missing</text>\r\n",
       "</g>\r\n",
       "<!-- 20 -->\r\n",
       "<g id=\"node11\" class=\"node\"><title>20</title>\r\n",
       "<ellipse fill=\"none\" stroke=\"black\" cx=\"230.844\" cy=\"-18\" rx=\"70.6878\" ry=\"18\"/>\r\n",
       "<text text-anchor=\"middle\" x=\"230.844\" y=\"-14.3\" font-family=\"Times New Roman,serif\" font-size=\"14.00\">leaf=2.49000025</text>\r\n",
       "</g>\r\n",
       "<!-- 13&#45;&gt;20 -->\r\n",
       "<g id=\"edge10\" class=\"edge\"><title>13&#45;&gt;20</title>\r\n",
       "<path fill=\"none\" stroke=\"#ff0000\" d=\"M169.85,-87.3702C176.065,-81.7042 182.896,-75.2259 188.844,-69 196.362,-61.1307 204.147,-52.1321 210.943,-43.9579\"/>\r\n",
       "<polygon fill=\"#ff0000\" stroke=\"#ff0000\" points=\"213.727,-46.0826 217.362,-36.1307 208.314,-41.6438 213.727,-46.0826\"/>\r\n",
       "<text text-anchor=\"middle\" x=\"210.344\" y=\"-57.8\" font-family=\"Times New Roman,serif\" font-size=\"14.00\">no</text>\r\n",
       "</g>\r\n",
       "<!-- 15 -->\r\n",
       "<g id=\"node14\" class=\"node\"><title>15</title>\r\n",
       "<ellipse fill=\"none\" stroke=\"black\" cx=\"480.844\" cy=\"-105\" rx=\"70.6878\" ry=\"18\"/>\r\n",
       "<text text-anchor=\"middle\" x=\"480.844\" y=\"-101.3\" font-family=\"Times New Roman,serif\" font-size=\"14.00\">leaf=4.74625015</text>\r\n",
       "</g>\r\n",
       "<!-- 9&#45;&gt;15 -->\r\n",
       "<g id=\"edge13\" class=\"edge\"><title>9&#45;&gt;15</title>\r\n",
       "<path fill=\"none\" stroke=\"#0000ff\" d=\"M587.544,-175.094C577.115,-169.267 565.355,-162.504 554.844,-156 540.703,-147.251 525.422,-137.057 512.439,-128.164\"/>\r\n",
       "<polygon fill=\"#0000ff\" stroke=\"#0000ff\" points=\"514.079,-125.044 503.86,-122.249 510.106,-130.807 514.079,-125.044\"/>\r\n",
       "<text text-anchor=\"middle\" x=\"589.344\" y=\"-144.8\" font-family=\"Times New Roman,serif\" font-size=\"14.00\">yes, missing</text>\r\n",
       "</g>\r\n",
       "<!-- 16 -->\r\n",
       "<g id=\"node15\" class=\"node\"><title>16</title>\r\n",
       "<ellipse fill=\"none\" stroke=\"black\" cx=\"640.844\" cy=\"-105\" rx=\"70.6878\" ry=\"18\"/>\r\n",
       "<text text-anchor=\"middle\" x=\"640.844\" y=\"-101.3\" font-family=\"Times New Roman,serif\" font-size=\"14.00\">leaf=2.51400018</text>\r\n",
       "</g>\r\n",
       "<!-- 9&#45;&gt;16 -->\r\n",
       "<g id=\"edge14\" class=\"edge\"><title>9&#45;&gt;16</title>\r\n",
       "<path fill=\"none\" stroke=\"#ff0000\" d=\"M621.7,-173.799C625.019,-162.047 629.482,-146.238 633.265,-132.842\"/>\r\n",
       "<polygon fill=\"#ff0000\" stroke=\"#ff0000\" points=\"636.645,-133.75 635.994,-123.175 629.909,-131.848 636.645,-133.75\"/>\r\n",
       "<text text-anchor=\"middle\" x=\"638.344\" y=\"-144.8\" font-family=\"Times New Roman,serif\" font-size=\"14.00\">no</text>\r\n",
       "</g>\r\n",
       "<!-- 17 -->\r\n",
       "<g id=\"node16\" class=\"node\"><title>17</title>\r\n",
       "<ellipse fill=\"none\" stroke=\"black\" cx=\"800.844\" cy=\"-105\" rx=\"70.6878\" ry=\"18\"/>\r\n",
       "<text text-anchor=\"middle\" x=\"800.844\" y=\"-101.3\" font-family=\"Times New Roman,serif\" font-size=\"14.00\">leaf=3.22583365</text>\r\n",
       "</g>\r\n",
       "<!-- 10&#45;&gt;17 -->\r\n",
       "<g id=\"edge15\" class=\"edge\"><title>10&#45;&gt;17</title>\r\n",
       "<path fill=\"none\" stroke=\"#0000ff\" d=\"M800.844,-173.799C800.844,-162.163 800.844,-146.548 800.844,-133.237\"/>\r\n",
       "<polygon fill=\"#0000ff\" stroke=\"#0000ff\" points=\"804.344,-133.175 800.844,-123.175 797.344,-133.175 804.344,-133.175\"/>\r\n",
       "<text text-anchor=\"middle\" x=\"835.344\" y=\"-144.8\" font-family=\"Times New Roman,serif\" font-size=\"14.00\">yes, missing</text>\r\n",
       "</g>\r\n",
       "<!-- 18 -->\r\n",
       "<g id=\"node17\" class=\"node\"><title>18</title>\r\n",
       "<ellipse fill=\"none\" stroke=\"black\" cx=\"960.844\" cy=\"-105\" rx=\"70.6878\" ry=\"18\"/>\r\n",
       "<text text-anchor=\"middle\" x=\"960.844\" y=\"-101.3\" font-family=\"Times New Roman,serif\" font-size=\"14.00\">leaf=1.59000015</text>\r\n",
       "</g>\r\n",
       "<!-- 10&#45;&gt;18 -->\r\n",
       "<g id=\"edge16\" class=\"edge\"><title>10&#45;&gt;18</title>\r\n",
       "<path fill=\"none\" stroke=\"#ff0000\" d=\"M834.538,-175.488C846.991,-169.588 861.157,-162.675 873.844,-156 891.113,-146.914 909.927,-136.206 925.627,-127.036\"/>\r\n",
       "<polygon fill=\"#ff0000\" stroke=\"#ff0000\" points=\"927.626,-129.92 934.476,-121.838 924.081,-123.885 927.626,-129.92\"/>\r\n",
       "<text text-anchor=\"middle\" x=\"908.344\" y=\"-144.8\" font-family=\"Times New Roman,serif\" font-size=\"14.00\">no</text>\r\n",
       "</g>\r\n",
       "<!-- 11 -->\r\n",
       "<g id=\"node20\" class=\"node\"><title>11</title>\r\n",
       "<ellipse fill=\"none\" stroke=\"black\" cx=\"966.844\" cy=\"-192\" rx=\"66.0889\" ry=\"18\"/>\r\n",
       "<text text-anchor=\"middle\" x=\"966.844\" y=\"-188.3\" font-family=\"Times New Roman,serif\" font-size=\"14.00\">leaf=13.147501</text>\r\n",
       "</g>\r\n",
       "<!-- 6&#45;&gt;11 -->\r\n",
       "<g id=\"edge19\" class=\"edge\"><title>6&#45;&gt;11</title>\r\n",
       "<path fill=\"none\" stroke=\"#0000ff\" d=\"M966.844,-260.799C966.844,-249.163 966.844,-233.548 966.844,-220.237\"/>\r\n",
       "<polygon fill=\"#0000ff\" stroke=\"#0000ff\" points=\"970.344,-220.175 966.844,-210.175 963.344,-220.175 970.344,-220.175\"/>\r\n",
       "<text text-anchor=\"middle\" x=\"1001.34\" y=\"-231.8\" font-family=\"Times New Roman,serif\" font-size=\"14.00\">yes, missing</text>\r\n",
       "</g>\r\n",
       "<!-- 12 -->\r\n",
       "<g id=\"node21\" class=\"node\"><title>12</title>\r\n",
       "<ellipse fill=\"none\" stroke=\"black\" cx=\"1121.84\" cy=\"-192\" rx=\"70.6878\" ry=\"18\"/>\r\n",
       "<text text-anchor=\"middle\" x=\"1121.84\" y=\"-188.3\" font-family=\"Times New Roman,serif\" font-size=\"14.00\">leaf=3.21000004</text>\r\n",
       "</g>\r\n",
       "<!-- 6&#45;&gt;12 -->\r\n",
       "<g id=\"edge20\" class=\"edge\"><title>6&#45;&gt;12</title>\r\n",
       "<path fill=\"none\" stroke=\"#ff0000\" d=\"M1001,-262.493C1013.37,-256.649 1027.37,-249.772 1039.84,-243 1056.11,-234.173 1073.68,-223.603 1088.37,-214.461\"/>\r\n",
       "<polygon fill=\"#ff0000\" stroke=\"#ff0000\" points=\"1090.49,-217.26 1097.1,-208.981 1086.77,-211.329 1090.49,-217.26\"/>\r\n",
       "<text text-anchor=\"middle\" x=\"1073.34\" y=\"-231.8\" font-family=\"Times New Roman,serif\" font-size=\"14.00\">no</text>\r\n",
       "</g>\r\n",
       "</g>\r\n",
       "</svg>\r\n"
      ],
      "text/plain": [
       "<graphviz.dot.Digraph at 0x11b876fc788>"
      ]
     },
     "execution_count": 18,
     "metadata": {},
     "output_type": "execute_result"
    }
   ],
   "source": [
    "xgb.to_graphviz(booster=bst,num_trees=0)"
   ]
  },
  {
   "cell_type": "markdown",
   "metadata": {},
   "source": [
    "## 查看训练之后的模型的各个参数"
   ]
  },
  {
   "cell_type": "code",
   "execution_count": 19,
   "metadata": {},
   "outputs": [
    {
     "data": {
      "text/plain": [
       "{}"
      ]
     },
     "execution_count": 19,
     "metadata": {},
     "output_type": "execute_result"
    }
   ],
   "source": [
    "bst.attributes()"
   ]
  },
  {
   "cell_type": "code",
   "execution_count": 20,
   "metadata": {
    "collapsed": true,
    "jupyter": {
     "outputs_hidden": true
    }
   },
   "outputs": [
    {
     "data": {
      "text/plain": [
       "{'RM': 35,\n",
       " 'LSTAT': 27,\n",
       " 'DIS': 30,\n",
       " 'CRIM': 45,\n",
       " 'INDUS': 7,\n",
       " 'NOX': 14,\n",
       " 'RAD': 3,\n",
       " 'AGE': 14,\n",
       " 'PTRATIO': 9,\n",
       " 'B': 19,\n",
       " 'ZN': 2,\n",
       " 'TAX': 7}"
      ]
     },
     "execution_count": 20,
     "metadata": {},
     "output_type": "execute_result"
    }
   ],
   "source": [
    "bst.get_fscore()"
   ]
  },
  {
   "cell_type": "code",
   "execution_count": 21,
   "metadata": {
    "collapsed": true,
    "jupyter": {
     "outputs_hidden": true
    }
   },
   "outputs": [
    {
     "data": {
      "text/plain": [
       "{'RM': 35,\n",
       " 'LSTAT': 27,\n",
       " 'DIS': 30,\n",
       " 'CRIM': 45,\n",
       " 'INDUS': 7,\n",
       " 'NOX': 14,\n",
       " 'RAD': 3,\n",
       " 'AGE': 14,\n",
       " 'PTRATIO': 9,\n",
       " 'B': 19,\n",
       " 'ZN': 2,\n",
       " 'TAX': 7}"
      ]
     },
     "execution_count": 21,
     "metadata": {},
     "output_type": "execute_result"
    }
   ],
   "source": [
    "bst.get_score(importance_type='weight')"
   ]
  },
  {
   "cell_type": "code",
   "execution_count": 22,
   "metadata": {
    "collapsed": true,
    "jupyter": {
     "outputs_hidden": true
    }
   },
   "outputs": [
    {
     "data": {
      "text/plain": [
       "{'RM': 563.7654129928287,\n",
       " 'LSTAT': 772.489716858926,\n",
       " 'DIS': 62.43212897836665,\n",
       " 'CRIM': 76.36662921584444,\n",
       " 'INDUS': 15.899039046285717,\n",
       " 'NOX': 39.43202330500001,\n",
       " 'RAD': 21.672490453333335,\n",
       " 'AGE': 19.31674604257143,\n",
       " 'PTRATIO': 47.826533865555554,\n",
       " 'B': 15.621451443842108,\n",
       " 'ZN': 17.05010987,\n",
       " 'TAX': 21.055228098571426}"
      ]
     },
     "execution_count": 22,
     "metadata": {},
     "output_type": "execute_result"
    }
   ],
   "source": [
    "bst.get_score(importance_type='gain')"
   ]
  },
  {
   "cell_type": "markdown",
   "metadata": {},
   "source": [
    "## 预测结果"
   ]
  },
  {
   "cell_type": "code",
   "execution_count": 23,
   "metadata": {},
   "outputs": [
    {
     "name": "stdout",
     "output_type": "stream",
     "text": [
      "(354,)\n",
      "(152,)\n"
     ]
    }
   ],
   "source": [
    "ytrain_predict = bst.predict(dtrain)\n",
    "ytest_predict = bst.predict(dtest)\n",
    "print(ytrain_predict.shape)\n",
    "print(ytest_predict.shape)"
   ]
  },
  {
   "cell_type": "code",
   "execution_count": 24,
   "metadata": {},
   "outputs": [
    {
     "name": "stdout",
     "output_type": "stream",
     "text": [
      "1.606395814779231\n",
      "3.550040035845486\n"
     ]
    }
   ],
   "source": [
    "# 下面这结果应该和上面模型训练时输出的最后一个结果一致\n",
    "print(  MSE(ytrain, ytrain_predict)**(1/2)   )\n",
    "print(  MSE(ytest, ytest_predict)**(1/2)  )"
   ]
  },
  {
   "cell_type": "markdown",
   "metadata": {},
   "source": [
    "## 交叉验证  \n",
    "`xgboost.cv(params, dtrain, num_boost_round=10, nfold=3, stratified=False, folds=None, metrics=(), obj=None, feval=None, maximize=False, early_stopping_rounds=None, fpreproc=None, as_pandas=True, verbose_eval=None, show_stdv=True, seed=0, callbacks=None, shuffle=True)`"
   ]
  },
  {
   "cell_type": "code",
   "execution_count": 90,
   "metadata": {},
   "outputs": [],
   "source": [
    "# 这个params字段里配置的是 Booster 类的参数\n",
    "params = {'booster':'gbtree',  #基分类器\n",
    "          'objective': 'reg:squarederror', #目标函数\n",
    "         'eta': 0.3,  #学习速率\n",
    "         'gamma': 0,  #分咧的最小增益\n",
    "         'max_depth': 6,  #树的最大深度\n",
    "         'lambda': 1,  #L2正则项系数\n",
    "         'alpha': 0,  # L1正则项系数\n",
    "         'subsample': 1,  #boostrap是的采样比例\n",
    "         'tree': 'auto',  # 树的生成方式\n",
    "         'base_score': 0.5,  # 生成第一棵树时的初始值\n",
    "         'eval_metric': ['rmse']}  # 在 验证集 上进行评估的指标，可以选择多个\n",
    "\n",
    "# booster的个数\n",
    "num_round = 10\n",
    "\n",
    "# 交叉验证的折数\n",
    "n_fold = 5"
   ]
  },
  {
   "cell_type": "code",
   "execution_count": 91,
   "metadata": {},
   "outputs": [],
   "source": [
    "history = xgb.cv(params=params, dtrain=dtrain, num_boost_round=num_round, nfold=n_fold)"
   ]
  },
  {
   "cell_type": "markdown",
   "metadata": {},
   "source": [
    "XGB里的CV函数（默认）返回的是一个DF，行数=树的个数`num_boost_round`，列数=`eval_metric`的长度*2，第一个在nfold上的误差均值，第二个是标准差"
   ]
  },
  {
   "cell_type": "code",
   "execution_count": 92,
   "metadata": {},
   "outputs": [
    {
     "data": {
      "text/html": [
       "<div>\n",
       "<style scoped>\n",
       "    .dataframe tbody tr th:only-of-type {\n",
       "        vertical-align: middle;\n",
       "    }\n",
       "\n",
       "    .dataframe tbody tr th {\n",
       "        vertical-align: top;\n",
       "    }\n",
       "\n",
       "    .dataframe thead th {\n",
       "        text-align: right;\n",
       "    }\n",
       "</style>\n",
       "<table border=\"1\" class=\"dataframe\">\n",
       "  <thead>\n",
       "    <tr style=\"text-align: right;\">\n",
       "      <th></th>\n",
       "      <th>train-rmse-mean</th>\n",
       "      <th>train-rmse-std</th>\n",
       "      <th>test-rmse-mean</th>\n",
       "      <th>test-rmse-std</th>\n",
       "    </tr>\n",
       "  </thead>\n",
       "  <tbody>\n",
       "    <tr>\n",
       "      <th>0</th>\n",
       "      <td>17.153311</td>\n",
       "      <td>0.071318</td>\n",
       "      <td>17.266638</td>\n",
       "      <td>0.451084</td>\n",
       "    </tr>\n",
       "    <tr>\n",
       "      <th>1</th>\n",
       "      <td>12.423677</td>\n",
       "      <td>0.061084</td>\n",
       "      <td>12.698785</td>\n",
       "      <td>0.441580</td>\n",
       "    </tr>\n",
       "    <tr>\n",
       "      <th>2</th>\n",
       "      <td>9.071639</td>\n",
       "      <td>0.034572</td>\n",
       "      <td>9.469164</td>\n",
       "      <td>0.411159</td>\n",
       "    </tr>\n",
       "    <tr>\n",
       "      <th>3</th>\n",
       "      <td>6.712857</td>\n",
       "      <td>0.030572</td>\n",
       "      <td>7.393498</td>\n",
       "      <td>0.363906</td>\n",
       "    </tr>\n",
       "    <tr>\n",
       "      <th>4</th>\n",
       "      <td>5.013966</td>\n",
       "      <td>0.025305</td>\n",
       "      <td>5.953139</td>\n",
       "      <td>0.340723</td>\n",
       "    </tr>\n",
       "    <tr>\n",
       "      <th>5</th>\n",
       "      <td>3.822156</td>\n",
       "      <td>0.043644</td>\n",
       "      <td>5.159066</td>\n",
       "      <td>0.370705</td>\n",
       "    </tr>\n",
       "    <tr>\n",
       "      <th>6</th>\n",
       "      <td>2.967681</td>\n",
       "      <td>0.041042</td>\n",
       "      <td>4.591993</td>\n",
       "      <td>0.382552</td>\n",
       "    </tr>\n",
       "    <tr>\n",
       "      <th>7</th>\n",
       "      <td>2.365122</td>\n",
       "      <td>0.041977</td>\n",
       "      <td>4.252029</td>\n",
       "      <td>0.393327</td>\n",
       "    </tr>\n",
       "    <tr>\n",
       "      <th>8</th>\n",
       "      <td>1.923012</td>\n",
       "      <td>0.044468</td>\n",
       "      <td>4.072341</td>\n",
       "      <td>0.445608</td>\n",
       "    </tr>\n",
       "    <tr>\n",
       "      <th>9</th>\n",
       "      <td>1.609181</td>\n",
       "      <td>0.071512</td>\n",
       "      <td>3.959653</td>\n",
       "      <td>0.461702</td>\n",
       "    </tr>\n",
       "  </tbody>\n",
       "</table>\n",
       "</div>"
      ],
      "text/plain": [
       "   train-rmse-mean  train-rmse-std  test-rmse-mean  test-rmse-std\n",
       "0        17.153311        0.071318       17.266638       0.451084\n",
       "1        12.423677        0.061084       12.698785       0.441580\n",
       "2         9.071639        0.034572        9.469164       0.411159\n",
       "3         6.712857        0.030572        7.393498       0.363906\n",
       "4         5.013966        0.025305        5.953139       0.340723\n",
       "5         3.822156        0.043644        5.159066       0.370705\n",
       "6         2.967681        0.041042        4.591993       0.382552\n",
       "7         2.365122        0.041977        4.252029       0.393327\n",
       "8         1.923012        0.044468        4.072341       0.445608\n",
       "9         1.609181        0.071512        3.959653       0.461702"
      ]
     },
     "execution_count": 92,
     "metadata": {},
     "output_type": "execute_result"
    }
   ],
   "source": [
    "history"
   ]
  },
  {
   "cell_type": "markdown",
   "metadata": {},
   "source": [
    "+ 使用交叉验证来寻找最优的超参数`num_boost_round`  \n",
    "这个不太一样，因为XGB的CV会返回每一轮的树的CV结果，所以只需要把`num_boost_round`  设置的足够大，然后在结果里找mean里较小的，或者误差下降不太明显处的`num_boost_round`  就可以了。"
   ]
  },
  {
   "cell_type": "code",
   "execution_count": 93,
   "metadata": {},
   "outputs": [],
   "source": [
    "# 取150个\n",
    "history = xgb.cv(params=params, dtrain=dtrain, num_boost_round=150, nfold=n_fold)"
   ]
  },
  {
   "cell_type": "code",
   "execution_count": 94,
   "metadata": {},
   "outputs": [
    {
     "data": {
      "text/plain": [
       "(150, 4)"
      ]
     },
     "execution_count": 94,
     "metadata": {},
     "output_type": "execute_result"
    }
   ],
   "source": [
    "history.shape"
   ]
  },
  {
   "cell_type": "code",
   "execution_count": 114,
   "metadata": {},
   "outputs": [],
   "source": [
    "# 这里使用plotly绘图，绘图前需要将history从wide格式转成long格式\n",
    "\n",
    "# 增加一列表示 num_round\n",
    "history['num_round'] = np.arange(1,151)\n",
    "\n",
    "#分别提取训练误差和测试误差\n",
    "train_info = history.loc[:,['num_round','train-rmse-mean','train-rmse-std']]\n",
    "test_info = history.loc[:,['num_round','test-rmse-mean','test-rmse-std']]\n",
    "\n",
    "# 需要改名，否则会产生多余的null列\n",
    "train_info.columns = ['num_round','rmse-mean','rmse-std']\n",
    "test_info.columns = ['num_round','rmse-mean','rmse-std']\n",
    "\n",
    "# 增加一列用户区分训练误差和测试误差\n",
    "train_info['type'] = 'train'\n",
    "test_info['type'] = 'test'\n",
    "\n",
    "# 合并\n",
    "history_info = pd.concat([train_info, test_info], axis=0)"
   ]
  },
  {
   "cell_type": "code",
   "execution_count": 115,
   "metadata": {},
   "outputs": [
    {
     "data": {
      "text/html": [
       "<div>\n",
       "<style scoped>\n",
       "    .dataframe tbody tr th:only-of-type {\n",
       "        vertical-align: middle;\n",
       "    }\n",
       "\n",
       "    .dataframe tbody tr th {\n",
       "        vertical-align: top;\n",
       "    }\n",
       "\n",
       "    .dataframe thead th {\n",
       "        text-align: right;\n",
       "    }\n",
       "</style>\n",
       "<table border=\"1\" class=\"dataframe\">\n",
       "  <thead>\n",
       "    <tr style=\"text-align: right;\">\n",
       "      <th></th>\n",
       "      <th>train-rmse-mean</th>\n",
       "      <th>train-rmse-std</th>\n",
       "      <th>test-rmse-mean</th>\n",
       "      <th>test-rmse-std</th>\n",
       "      <th>num_round</th>\n",
       "    </tr>\n",
       "  </thead>\n",
       "  <tbody>\n",
       "    <tr>\n",
       "      <th>0</th>\n",
       "      <td>17.153311</td>\n",
       "      <td>0.071318</td>\n",
       "      <td>17.266638</td>\n",
       "      <td>0.451084</td>\n",
       "      <td>1</td>\n",
       "    </tr>\n",
       "    <tr>\n",
       "      <th>1</th>\n",
       "      <td>12.423677</td>\n",
       "      <td>0.061084</td>\n",
       "      <td>12.698785</td>\n",
       "      <td>0.441580</td>\n",
       "      <td>2</td>\n",
       "    </tr>\n",
       "    <tr>\n",
       "      <th>2</th>\n",
       "      <td>9.071639</td>\n",
       "      <td>0.034572</td>\n",
       "      <td>9.469164</td>\n",
       "      <td>0.411159</td>\n",
       "      <td>3</td>\n",
       "    </tr>\n",
       "    <tr>\n",
       "      <th>3</th>\n",
       "      <td>6.712857</td>\n",
       "      <td>0.030572</td>\n",
       "      <td>7.393498</td>\n",
       "      <td>0.363906</td>\n",
       "      <td>4</td>\n",
       "    </tr>\n",
       "    <tr>\n",
       "      <th>4</th>\n",
       "      <td>5.013966</td>\n",
       "      <td>0.025305</td>\n",
       "      <td>5.953139</td>\n",
       "      <td>0.340723</td>\n",
       "      <td>5</td>\n",
       "    </tr>\n",
       "  </tbody>\n",
       "</table>\n",
       "</div>"
      ],
      "text/plain": [
       "   train-rmse-mean  train-rmse-std  test-rmse-mean  test-rmse-std  num_round\n",
       "0        17.153311        0.071318       17.266638       0.451084          1\n",
       "1        12.423677        0.061084       12.698785       0.441580          2\n",
       "2         9.071639        0.034572        9.469164       0.411159          3\n",
       "3         6.712857        0.030572        7.393498       0.363906          4\n",
       "4         5.013966        0.025305        5.953139       0.340723          5"
      ]
     },
     "execution_count": 115,
     "metadata": {},
     "output_type": "execute_result"
    }
   ],
   "source": [
    "history.head()"
   ]
  },
  {
   "cell_type": "code",
   "execution_count": 116,
   "metadata": {},
   "outputs": [
    {
     "data": {
      "text/html": [
       "<div>\n",
       "<style scoped>\n",
       "    .dataframe tbody tr th:only-of-type {\n",
       "        vertical-align: middle;\n",
       "    }\n",
       "\n",
       "    .dataframe tbody tr th {\n",
       "        vertical-align: top;\n",
       "    }\n",
       "\n",
       "    .dataframe thead th {\n",
       "        text-align: right;\n",
       "    }\n",
       "</style>\n",
       "<table border=\"1\" class=\"dataframe\">\n",
       "  <thead>\n",
       "    <tr style=\"text-align: right;\">\n",
       "      <th></th>\n",
       "      <th>num_round</th>\n",
       "      <th>rmse-mean</th>\n",
       "      <th>rmse-std</th>\n",
       "      <th>type</th>\n",
       "    </tr>\n",
       "  </thead>\n",
       "  <tbody>\n",
       "    <tr>\n",
       "      <th>0</th>\n",
       "      <td>1</td>\n",
       "      <td>17.153311</td>\n",
       "      <td>0.071318</td>\n",
       "      <td>train</td>\n",
       "    </tr>\n",
       "    <tr>\n",
       "      <th>1</th>\n",
       "      <td>2</td>\n",
       "      <td>12.423677</td>\n",
       "      <td>0.061084</td>\n",
       "      <td>train</td>\n",
       "    </tr>\n",
       "    <tr>\n",
       "      <th>2</th>\n",
       "      <td>3</td>\n",
       "      <td>9.071639</td>\n",
       "      <td>0.034572</td>\n",
       "      <td>train</td>\n",
       "    </tr>\n",
       "    <tr>\n",
       "      <th>3</th>\n",
       "      <td>4</td>\n",
       "      <td>6.712857</td>\n",
       "      <td>0.030572</td>\n",
       "      <td>train</td>\n",
       "    </tr>\n",
       "    <tr>\n",
       "      <th>4</th>\n",
       "      <td>5</td>\n",
       "      <td>5.013966</td>\n",
       "      <td>0.025305</td>\n",
       "      <td>train</td>\n",
       "    </tr>\n",
       "  </tbody>\n",
       "</table>\n",
       "</div>"
      ],
      "text/plain": [
       "   num_round  rmse-mean  rmse-std   type\n",
       "0          1  17.153311  0.071318  train\n",
       "1          2  12.423677  0.061084  train\n",
       "2          3   9.071639  0.034572  train\n",
       "3          4   6.712857  0.030572  train\n",
       "4          5   5.013966  0.025305  train"
      ]
     },
     "execution_count": 116,
     "metadata": {},
     "output_type": "execute_result"
    }
   ],
   "source": [
    "history_info.head()"
   ]
  },
  {
   "cell_type": "code",
   "execution_count": 118,
   "metadata": {
    "collapsed": true,
    "jupyter": {
     "outputs_hidden": true
    }
   },
   "outputs": [
    {
     "data": {
      "application/vnd.plotly.v1+json": {
       "config": {
        "plotlyServerURL": "https://plot.ly"
       },
       "data": [
        {
         "hovertemplate": "type=train<br>num_round=%{x}<br>rmse-mean=%{y}<extra></extra>",
         "legendgroup": "train",
         "marker": {
          "color": "#636efa",
          "symbol": "circle"
         },
         "mode": "markers",
         "name": "train",
         "showlegend": true,
         "type": "scatter",
         "x": [
          1,
          2,
          3,
          4,
          5,
          6,
          7,
          8,
          9,
          10,
          11,
          12,
          13,
          14,
          15,
          16,
          17,
          18,
          19,
          20,
          21,
          22,
          23,
          24,
          25,
          26,
          27,
          28,
          29,
          30,
          31,
          32,
          33,
          34,
          35,
          36,
          37,
          38,
          39,
          40,
          41,
          42,
          43,
          44,
          45,
          46,
          47,
          48,
          49,
          50,
          51,
          52,
          53,
          54,
          55,
          56,
          57,
          58,
          59,
          60,
          61,
          62,
          63,
          64,
          65,
          66,
          67,
          68,
          69,
          70,
          71,
          72,
          73,
          74,
          75,
          76,
          77,
          78,
          79,
          80,
          81,
          82,
          83,
          84,
          85,
          86,
          87,
          88,
          89,
          90,
          91,
          92,
          93,
          94,
          95,
          96,
          97,
          98,
          99,
          100,
          101,
          102,
          103,
          104,
          105,
          106,
          107,
          108,
          109,
          110,
          111,
          112,
          113,
          114,
          115,
          116,
          117,
          118,
          119,
          120,
          121,
          122,
          123,
          124,
          125,
          126,
          127,
          128,
          129,
          130,
          131,
          132,
          133,
          134,
          135,
          136,
          137,
          138,
          139,
          140,
          141,
          142,
          143,
          144,
          145,
          146,
          147,
          148,
          149,
          150
         ],
         "xaxis": "x",
         "y": [
          17.1533114,
          12.4236772,
          9.071639399999999,
          6.7128568,
          5.013966400000001,
          3.8221554000000006,
          2.967681,
          2.3651216,
          1.9230116,
          1.6091806000000002,
          1.3767711999999999,
          1.1944672,
          1.0694447999999999,
          0.9853043999999999,
          0.8996221999999999,
          0.8302182,
          0.7790424,
          0.7277756,
          0.6862684,
          0.6542787999999999,
          0.6097452,
          0.57515,
          0.5338658,
          0.5009194,
          0.46521519999999994,
          0.4349718,
          0.40523299999999995,
          0.38126720000000003,
          0.35543139999999995,
          0.3334704,
          0.3163064,
          0.29355020000000004,
          0.2778618,
          0.2624684,
          0.244806,
          0.229806,
          0.2149416,
          0.20303079999999998,
          0.18908039999999998,
          0.1747772,
          0.16344240000000002,
          0.1556602,
          0.14771220000000002,
          0.1383676,
          0.12948940000000003,
          0.12357660000000001,
          0.11596999999999999,
          0.10927919999999999,
          0.1014146,
          0.0958196,
          0.0893424,
          0.083611,
          0.0783104,
          0.072843,
          0.0687982,
          0.064143,
          0.0609826,
          0.0581024,
          0.055996000000000004,
          0.05337000000000001,
          0.051203200000000004,
          0.0472876,
          0.045008000000000006,
          0.0432472,
          0.0409114,
          0.0381462,
          0.0354778,
          0.0336534,
          0.031496,
          0.029697799999999996,
          0.0277244,
          0.026244800000000002,
          0.024298200000000002,
          0.0227746,
          0.0218004,
          0.0207898,
          0.019734,
          0.0187118,
          0.0179158,
          0.0169114,
          0.015908,
          0.014851799999999998,
          0.014190600000000001,
          0.0134882,
          0.0128778,
          0.012294000000000001,
          0.0115968,
          0.0110902,
          0.010441,
          0.009812999999999999,
          0.009165,
          0.008522,
          0.0079626,
          0.0075065999999999996,
          0.0070272,
          0.0066082,
          0.0062622,
          0.005970399999999999,
          0.0056208000000000004,
          0.005273999999999999,
          0.0050424,
          0.0048400000000000006,
          0.0046388,
          0.004390799999999999,
          0.0041392,
          0.0039308,
          0.0036872000000000003,
          0.0035006000000000004,
          0.0033132,
          0.0031393999999999997,
          0.0029176000000000002,
          0.0027770000000000004,
          0.0026266,
          0.0024524,
          0.0023796,
          0.002231,
          0.0021284,
          0.0020364,
          0.0019386,
          0.0018559999999999996,
          0.0017372,
          0.0016352000000000003,
          0.0015941999999999998,
          0.0015054,
          0.0014621999999999999,
          0.0014114,
          0.0013771999999999999,
          0.0013306,
          0.001299,
          0.0012628,
          0.0012304,
          0.0012197999999999998,
          0.0012032,
          0.0011974,
          0.0011974,
          0.0011974,
          0.0011974,
          0.0011974,
          0.0011974,
          0.0011974,
          0.0011974,
          0.0011974,
          0.0011974,
          0.0011974,
          0.0011974,
          0.0011974,
          0.0011974,
          0.0011974,
          0.0011974,
          0.0011974
         ],
         "yaxis": "y"
        },
        {
         "hovertemplate": "type=test<br>num_round=%{x}<br>rmse-mean=%{y}<extra></extra>",
         "legendgroup": "test",
         "marker": {
          "color": "#EF553B",
          "symbol": "circle"
         },
         "mode": "markers",
         "name": "test",
         "showlegend": true,
         "type": "scatter",
         "x": [
          1,
          2,
          3,
          4,
          5,
          6,
          7,
          8,
          9,
          10,
          11,
          12,
          13,
          14,
          15,
          16,
          17,
          18,
          19,
          20,
          21,
          22,
          23,
          24,
          25,
          26,
          27,
          28,
          29,
          30,
          31,
          32,
          33,
          34,
          35,
          36,
          37,
          38,
          39,
          40,
          41,
          42,
          43,
          44,
          45,
          46,
          47,
          48,
          49,
          50,
          51,
          52,
          53,
          54,
          55,
          56,
          57,
          58,
          59,
          60,
          61,
          62,
          63,
          64,
          65,
          66,
          67,
          68,
          69,
          70,
          71,
          72,
          73,
          74,
          75,
          76,
          77,
          78,
          79,
          80,
          81,
          82,
          83,
          84,
          85,
          86,
          87,
          88,
          89,
          90,
          91,
          92,
          93,
          94,
          95,
          96,
          97,
          98,
          99,
          100,
          101,
          102,
          103,
          104,
          105,
          106,
          107,
          108,
          109,
          110,
          111,
          112,
          113,
          114,
          115,
          116,
          117,
          118,
          119,
          120,
          121,
          122,
          123,
          124,
          125,
          126,
          127,
          128,
          129,
          130,
          131,
          132,
          133,
          134,
          135,
          136,
          137,
          138,
          139,
          140,
          141,
          142,
          143,
          144,
          145,
          146,
          147,
          148,
          149,
          150
         ],
         "xaxis": "x",
         "y": [
          17.266638,
          12.6987854,
          9.4691638,
          7.393498000000001,
          5.9531392,
          5.1590664,
          4.5919924,
          4.252029,
          4.0723405999999995,
          3.9596536,
          3.9181224,
          3.886585,
          3.8747274,
          3.8531710000000006,
          3.8564515999999998,
          3.86255,
          3.8618984,
          3.8587883999999995,
          3.8462578,
          3.8381985999999997,
          3.8346188,
          3.8322496,
          3.8286328000000003,
          3.8239878000000003,
          3.8257674,
          3.8271737999999997,
          3.8309344000000003,
          3.8293848000000006,
          3.8282384,
          3.8222853999999997,
          3.8223806,
          3.8214681999999995,
          3.8194676000000003,
          3.820852,
          3.8224755999999998,
          3.8213504,
          3.8206193999999996,
          3.8206271999999997,
          3.8210591999999997,
          3.8182898,
          3.8163466,
          3.8178038,
          3.8156951999999995,
          3.8169497999999997,
          3.8186446,
          3.8188819999999994,
          3.8189954,
          3.8183672,
          3.8174544,
          3.817426400000001,
          3.8166746,
          3.8161688,
          3.8169554000000003,
          3.8168844,
          3.8176602,
          3.8174248,
          3.8174514000000004,
          3.817798,
          3.8175308,
          3.8179632,
          3.8180692,
          3.8181996,
          3.8182039999999993,
          3.8185057999999996,
          3.818461,
          3.8185028,
          3.8183408,
          3.8184696000000002,
          3.8181781999999997,
          3.8183217999999997,
          3.8181506,
          3.8180318,
          3.8179714000000002,
          3.8182248000000003,
          3.8182062,
          3.8184131999999997,
          3.8182300000000007,
          3.8181157999999997,
          3.8179387999999994,
          3.8181302,
          3.8182126000000003,
          3.8181784,
          3.8180736000000004,
          3.8182272,
          3.8183683999999998,
          3.8185612,
          3.8184720000000008,
          3.8185423999999997,
          3.8185548,
          3.8186426000000004,
          3.8185622,
          3.8185382000000003,
          3.8186146,
          3.8185925999999997,
          3.8185691999999998,
          3.818569,
          3.8185902,
          3.8185644000000005,
          3.8185624000000002,
          3.8185043999999997,
          3.8185624000000002,
          3.8185795999999996,
          3.8185285999999996,
          3.8185612,
          3.818576,
          3.8185949999999997,
          3.818606,
          3.81858,
          3.8185928000000002,
          3.818599,
          3.8185708,
          3.8185583999999997,
          3.8185294000000005,
          3.8185166,
          3.8185198,
          3.8185437999999996,
          3.8185612,
          3.8185497999999995,
          3.8185772,
          3.8185718,
          3.8185704,
          3.8185748000000004,
          3.818578,
          3.818593,
          3.818591,
          3.8185708,
          3.8185607999999993,
          3.8185595999999995,
          3.8185587999999995,
          3.8185686,
          3.8185651999999997,
          3.8185659999999997,
          3.8185723999999994,
          3.818575799999999,
          3.8185756,
          3.8185756,
          3.8185754000000003,
          3.8185756,
          3.818575799999999,
          3.8185756,
          3.8185756,
          3.8185756,
          3.8185756,
          3.8185756,
          3.8185756,
          3.8185756,
          3.8185756,
          3.8185756,
          3.818575799999999,
          3.8185756
         ],
         "yaxis": "y"
        }
       ],
       "layout": {
        "autosize": true,
        "legend": {
         "title": {
          "text": "type"
         },
         "tracegroupgap": 0
        },
        "margin": {
         "t": 60
        },
        "template": {
         "data": {
          "bar": [
           {
            "error_x": {
             "color": "#2a3f5f"
            },
            "error_y": {
             "color": "#2a3f5f"
            },
            "marker": {
             "line": {
              "color": "#E5ECF6",
              "width": 0.5
             }
            },
            "type": "bar"
           }
          ],
          "barpolar": [
           {
            "marker": {
             "line": {
              "color": "#E5ECF6",
              "width": 0.5
             }
            },
            "type": "barpolar"
           }
          ],
          "carpet": [
           {
            "aaxis": {
             "endlinecolor": "#2a3f5f",
             "gridcolor": "white",
             "linecolor": "white",
             "minorgridcolor": "white",
             "startlinecolor": "#2a3f5f"
            },
            "baxis": {
             "endlinecolor": "#2a3f5f",
             "gridcolor": "white",
             "linecolor": "white",
             "minorgridcolor": "white",
             "startlinecolor": "#2a3f5f"
            },
            "type": "carpet"
           }
          ],
          "choropleth": [
           {
            "colorbar": {
             "outlinewidth": 0,
             "ticks": ""
            },
            "type": "choropleth"
           }
          ],
          "contour": [
           {
            "colorbar": {
             "outlinewidth": 0,
             "ticks": ""
            },
            "colorscale": [
             [
              0,
              "#0d0887"
             ],
             [
              0.1111111111111111,
              "#46039f"
             ],
             [
              0.2222222222222222,
              "#7201a8"
             ],
             [
              0.3333333333333333,
              "#9c179e"
             ],
             [
              0.4444444444444444,
              "#bd3786"
             ],
             [
              0.5555555555555556,
              "#d8576b"
             ],
             [
              0.6666666666666666,
              "#ed7953"
             ],
             [
              0.7777777777777778,
              "#fb9f3a"
             ],
             [
              0.8888888888888888,
              "#fdca26"
             ],
             [
              1,
              "#f0f921"
             ]
            ],
            "type": "contour"
           }
          ],
          "contourcarpet": [
           {
            "colorbar": {
             "outlinewidth": 0,
             "ticks": ""
            },
            "type": "contourcarpet"
           }
          ],
          "heatmap": [
           {
            "colorbar": {
             "outlinewidth": 0,
             "ticks": ""
            },
            "colorscale": [
             [
              0,
              "#0d0887"
             ],
             [
              0.1111111111111111,
              "#46039f"
             ],
             [
              0.2222222222222222,
              "#7201a8"
             ],
             [
              0.3333333333333333,
              "#9c179e"
             ],
             [
              0.4444444444444444,
              "#bd3786"
             ],
             [
              0.5555555555555556,
              "#d8576b"
             ],
             [
              0.6666666666666666,
              "#ed7953"
             ],
             [
              0.7777777777777778,
              "#fb9f3a"
             ],
             [
              0.8888888888888888,
              "#fdca26"
             ],
             [
              1,
              "#f0f921"
             ]
            ],
            "type": "heatmap"
           }
          ],
          "heatmapgl": [
           {
            "colorbar": {
             "outlinewidth": 0,
             "ticks": ""
            },
            "colorscale": [
             [
              0,
              "#0d0887"
             ],
             [
              0.1111111111111111,
              "#46039f"
             ],
             [
              0.2222222222222222,
              "#7201a8"
             ],
             [
              0.3333333333333333,
              "#9c179e"
             ],
             [
              0.4444444444444444,
              "#bd3786"
             ],
             [
              0.5555555555555556,
              "#d8576b"
             ],
             [
              0.6666666666666666,
              "#ed7953"
             ],
             [
              0.7777777777777778,
              "#fb9f3a"
             ],
             [
              0.8888888888888888,
              "#fdca26"
             ],
             [
              1,
              "#f0f921"
             ]
            ],
            "type": "heatmapgl"
           }
          ],
          "histogram": [
           {
            "marker": {
             "colorbar": {
              "outlinewidth": 0,
              "ticks": ""
             }
            },
            "type": "histogram"
           }
          ],
          "histogram2d": [
           {
            "colorbar": {
             "outlinewidth": 0,
             "ticks": ""
            },
            "colorscale": [
             [
              0,
              "#0d0887"
             ],
             [
              0.1111111111111111,
              "#46039f"
             ],
             [
              0.2222222222222222,
              "#7201a8"
             ],
             [
              0.3333333333333333,
              "#9c179e"
             ],
             [
              0.4444444444444444,
              "#bd3786"
             ],
             [
              0.5555555555555556,
              "#d8576b"
             ],
             [
              0.6666666666666666,
              "#ed7953"
             ],
             [
              0.7777777777777778,
              "#fb9f3a"
             ],
             [
              0.8888888888888888,
              "#fdca26"
             ],
             [
              1,
              "#f0f921"
             ]
            ],
            "type": "histogram2d"
           }
          ],
          "histogram2dcontour": [
           {
            "colorbar": {
             "outlinewidth": 0,
             "ticks": ""
            },
            "colorscale": [
             [
              0,
              "#0d0887"
             ],
             [
              0.1111111111111111,
              "#46039f"
             ],
             [
              0.2222222222222222,
              "#7201a8"
             ],
             [
              0.3333333333333333,
              "#9c179e"
             ],
             [
              0.4444444444444444,
              "#bd3786"
             ],
             [
              0.5555555555555556,
              "#d8576b"
             ],
             [
              0.6666666666666666,
              "#ed7953"
             ],
             [
              0.7777777777777778,
              "#fb9f3a"
             ],
             [
              0.8888888888888888,
              "#fdca26"
             ],
             [
              1,
              "#f0f921"
             ]
            ],
            "type": "histogram2dcontour"
           }
          ],
          "mesh3d": [
           {
            "colorbar": {
             "outlinewidth": 0,
             "ticks": ""
            },
            "type": "mesh3d"
           }
          ],
          "parcoords": [
           {
            "line": {
             "colorbar": {
              "outlinewidth": 0,
              "ticks": ""
             }
            },
            "type": "parcoords"
           }
          ],
          "pie": [
           {
            "automargin": true,
            "type": "pie"
           }
          ],
          "scatter": [
           {
            "marker": {
             "colorbar": {
              "outlinewidth": 0,
              "ticks": ""
             }
            },
            "type": "scatter"
           }
          ],
          "scatter3d": [
           {
            "line": {
             "colorbar": {
              "outlinewidth": 0,
              "ticks": ""
             }
            },
            "marker": {
             "colorbar": {
              "outlinewidth": 0,
              "ticks": ""
             }
            },
            "type": "scatter3d"
           }
          ],
          "scattercarpet": [
           {
            "marker": {
             "colorbar": {
              "outlinewidth": 0,
              "ticks": ""
             }
            },
            "type": "scattercarpet"
           }
          ],
          "scattergeo": [
           {
            "marker": {
             "colorbar": {
              "outlinewidth": 0,
              "ticks": ""
             }
            },
            "type": "scattergeo"
           }
          ],
          "scattergl": [
           {
            "marker": {
             "colorbar": {
              "outlinewidth": 0,
              "ticks": ""
             }
            },
            "type": "scattergl"
           }
          ],
          "scattermapbox": [
           {
            "marker": {
             "colorbar": {
              "outlinewidth": 0,
              "ticks": ""
             }
            },
            "type": "scattermapbox"
           }
          ],
          "scatterpolar": [
           {
            "marker": {
             "colorbar": {
              "outlinewidth": 0,
              "ticks": ""
             }
            },
            "type": "scatterpolar"
           }
          ],
          "scatterpolargl": [
           {
            "marker": {
             "colorbar": {
              "outlinewidth": 0,
              "ticks": ""
             }
            },
            "type": "scatterpolargl"
           }
          ],
          "scatterternary": [
           {
            "marker": {
             "colorbar": {
              "outlinewidth": 0,
              "ticks": ""
             }
            },
            "type": "scatterternary"
           }
          ],
          "surface": [
           {
            "colorbar": {
             "outlinewidth": 0,
             "ticks": ""
            },
            "colorscale": [
             [
              0,
              "#0d0887"
             ],
             [
              0.1111111111111111,
              "#46039f"
             ],
             [
              0.2222222222222222,
              "#7201a8"
             ],
             [
              0.3333333333333333,
              "#9c179e"
             ],
             [
              0.4444444444444444,
              "#bd3786"
             ],
             [
              0.5555555555555556,
              "#d8576b"
             ],
             [
              0.6666666666666666,
              "#ed7953"
             ],
             [
              0.7777777777777778,
              "#fb9f3a"
             ],
             [
              0.8888888888888888,
              "#fdca26"
             ],
             [
              1,
              "#f0f921"
             ]
            ],
            "type": "surface"
           }
          ],
          "table": [
           {
            "cells": {
             "fill": {
              "color": "#EBF0F8"
             },
             "line": {
              "color": "white"
             }
            },
            "header": {
             "fill": {
              "color": "#C8D4E3"
             },
             "line": {
              "color": "white"
             }
            },
            "type": "table"
           }
          ]
         },
         "layout": {
          "annotationdefaults": {
           "arrowcolor": "#2a3f5f",
           "arrowhead": 0,
           "arrowwidth": 1
          },
          "coloraxis": {
           "colorbar": {
            "outlinewidth": 0,
            "ticks": ""
           }
          },
          "colorscale": {
           "diverging": [
            [
             0,
             "#8e0152"
            ],
            [
             0.1,
             "#c51b7d"
            ],
            [
             0.2,
             "#de77ae"
            ],
            [
             0.3,
             "#f1b6da"
            ],
            [
             0.4,
             "#fde0ef"
            ],
            [
             0.5,
             "#f7f7f7"
            ],
            [
             0.6,
             "#e6f5d0"
            ],
            [
             0.7,
             "#b8e186"
            ],
            [
             0.8,
             "#7fbc41"
            ],
            [
             0.9,
             "#4d9221"
            ],
            [
             1,
             "#276419"
            ]
           ],
           "sequential": [
            [
             0,
             "#0d0887"
            ],
            [
             0.1111111111111111,
             "#46039f"
            ],
            [
             0.2222222222222222,
             "#7201a8"
            ],
            [
             0.3333333333333333,
             "#9c179e"
            ],
            [
             0.4444444444444444,
             "#bd3786"
            ],
            [
             0.5555555555555556,
             "#d8576b"
            ],
            [
             0.6666666666666666,
             "#ed7953"
            ],
            [
             0.7777777777777778,
             "#fb9f3a"
            ],
            [
             0.8888888888888888,
             "#fdca26"
            ],
            [
             1,
             "#f0f921"
            ]
           ],
           "sequentialminus": [
            [
             0,
             "#0d0887"
            ],
            [
             0.1111111111111111,
             "#46039f"
            ],
            [
             0.2222222222222222,
             "#7201a8"
            ],
            [
             0.3333333333333333,
             "#9c179e"
            ],
            [
             0.4444444444444444,
             "#bd3786"
            ],
            [
             0.5555555555555556,
             "#d8576b"
            ],
            [
             0.6666666666666666,
             "#ed7953"
            ],
            [
             0.7777777777777778,
             "#fb9f3a"
            ],
            [
             0.8888888888888888,
             "#fdca26"
            ],
            [
             1,
             "#f0f921"
            ]
           ]
          },
          "colorway": [
           "#636efa",
           "#EF553B",
           "#00cc96",
           "#ab63fa",
           "#FFA15A",
           "#19d3f3",
           "#FF6692",
           "#B6E880",
           "#FF97FF",
           "#FECB52"
          ],
          "font": {
           "color": "#2a3f5f"
          },
          "geo": {
           "bgcolor": "white",
           "lakecolor": "white",
           "landcolor": "#E5ECF6",
           "showlakes": true,
           "showland": true,
           "subunitcolor": "white"
          },
          "hoverlabel": {
           "align": "left"
          },
          "hovermode": "closest",
          "mapbox": {
           "style": "light"
          },
          "paper_bgcolor": "white",
          "plot_bgcolor": "#E5ECF6",
          "polar": {
           "angularaxis": {
            "gridcolor": "white",
            "linecolor": "white",
            "ticks": ""
           },
           "bgcolor": "#E5ECF6",
           "radialaxis": {
            "gridcolor": "white",
            "linecolor": "white",
            "ticks": ""
           }
          },
          "scene": {
           "xaxis": {
            "backgroundcolor": "#E5ECF6",
            "gridcolor": "white",
            "gridwidth": 2,
            "linecolor": "white",
            "showbackground": true,
            "ticks": "",
            "zerolinecolor": "white"
           },
           "yaxis": {
            "backgroundcolor": "#E5ECF6",
            "gridcolor": "white",
            "gridwidth": 2,
            "linecolor": "white",
            "showbackground": true,
            "ticks": "",
            "zerolinecolor": "white"
           },
           "zaxis": {
            "backgroundcolor": "#E5ECF6",
            "gridcolor": "white",
            "gridwidth": 2,
            "linecolor": "white",
            "showbackground": true,
            "ticks": "",
            "zerolinecolor": "white"
           }
          },
          "shapedefaults": {
           "line": {
            "color": "#2a3f5f"
           }
          },
          "ternary": {
           "aaxis": {
            "gridcolor": "white",
            "linecolor": "white",
            "ticks": ""
           },
           "baxis": {
            "gridcolor": "white",
            "linecolor": "white",
            "ticks": ""
           },
           "bgcolor": "#E5ECF6",
           "caxis": {
            "gridcolor": "white",
            "linecolor": "white",
            "ticks": ""
           }
          },
          "title": {
           "x": 0.05
          },
          "xaxis": {
           "automargin": true,
           "gridcolor": "white",
           "linecolor": "white",
           "ticks": "",
           "title": {
            "standoff": 15
           },
           "zerolinecolor": "white",
           "zerolinewidth": 2
          },
          "yaxis": {
           "automargin": true,
           "gridcolor": "white",
           "linecolor": "white",
           "ticks": "",
           "title": {
            "standoff": 15
           },
           "zerolinecolor": "white",
           "zerolinewidth": 2
          }
         }
        },
        "xaxis": {
         "anchor": "y",
         "autorange": true,
         "domain": [
          0,
          1
         ],
         "range": [
          -8.024600024058705,
          159.0246000240587
         ],
         "title": {
          "text": "num_round"
         },
         "type": "linear"
        },
        "yaxis": {
         "anchor": "x",
         "autorange": true,
         "domain": [
          0,
          1
         ],
         "range": [
          -1.2229636738489873,
          18.490799073848986
         ],
         "title": {
          "text": "rmse-mean"
         },
         "type": "linear"
        }
       }
      },
      "image/png": "[encoded data removed]",
      "text/html": [
       "<div>\n",
       "        \n",
       "        \n",
       "            <div id=\"c27034de-276b-49a6-873b-2a3548ec05b2\" class=\"plotly-graph-div\" style=\"height:525px; width:100%;\"></div>\n",
       "            <script type=\"text/javascript\">\n",
       "                require([\"plotly\"], function(Plotly) {\n",
       "                    window.PLOTLYENV=window.PLOTLYENV || {};\n",
       "                    \n",
       "                if (document.getElementById(\"c27034de-276b-49a6-873b-2a3548ec05b2\")) {\n",
       "                    Plotly.newPlot(\n",
       "                        'c27034de-276b-49a6-873b-2a3548ec05b2',\n",
       "                        [{\"hovertemplate\": \"type=train<br>num_round=%{x}<br>rmse-mean=%{y}<extra></extra>\", \"legendgroup\": \"train\", \"marker\": {\"color\": \"#636efa\", \"symbol\": \"circle\"}, \"mode\": \"markers\", \"name\": \"train\", \"showlegend\": true, \"type\": \"scatter\", \"x\": [1, 2, 3, 4, 5, 6, 7, 8, 9, 10, 11, 12, 13, 14, 15, 16, 17, 18, 19, 20, 21, 22, 23, 24, 25, 26, 27, 28, 29, 30, 31, 32, 33, 34, 35, 36, 37, 38, 39, 40, 41, 42, 43, 44, 45, 46, 47, 48, 49, 50, 51, 52, 53, 54, 55, 56, 57, 58, 59, 60, 61, 62, 63, 64, 65, 66, 67, 68, 69, 70, 71, 72, 73, 74, 75, 76, 77, 78, 79, 80, 81, 82, 83, 84, 85, 86, 87, 88, 89, 90, 91, 92, 93, 94, 95, 96, 97, 98, 99, 100, 101, 102, 103, 104, 105, 106, 107, 108, 109, 110, 111, 112, 113, 114, 115, 116, 117, 118, 119, 120, 121, 122, 123, 124, 125, 126, 127, 128, 129, 130, 131, 132, 133, 134, 135, 136, 137, 138, 139, 140, 141, 142, 143, 144, 145, 146, 147, 148, 149, 150], \"xaxis\": \"x\", \"y\": [17.1533114, 12.4236772, 9.071639399999999, 6.7128568, 5.013966400000001, 3.8221554000000006, 2.967681, 2.3651216, 1.9230116, 1.6091806000000002, 1.3767711999999999, 1.1944672, 1.0694447999999999, 0.9853043999999999, 0.8996221999999999, 0.8302182, 0.7790424, 0.7277756, 0.6862684, 0.6542787999999999, 0.6097452, 0.57515, 0.5338658, 0.5009194, 0.46521519999999994, 0.4349718, 0.40523299999999995, 0.38126720000000003, 0.35543139999999995, 0.3334704, 0.3163064, 0.29355020000000004, 0.2778618, 0.2624684, 0.244806, 0.229806, 0.2149416, 0.20303079999999998, 0.18908039999999998, 0.1747772, 0.16344240000000002, 0.1556602, 0.14771220000000002, 0.1383676, 0.12948940000000003, 0.12357660000000001, 0.11596999999999999, 0.10927919999999999, 0.1014146, 0.0958196, 0.0893424, 0.083611, 0.0783104, 0.072843, 0.0687982, 0.064143, 0.0609826, 0.0581024, 0.055996000000000004, 0.05337000000000001, 0.051203200000000004, 0.0472876, 0.045008000000000006, 0.0432472, 0.0409114, 0.0381462, 0.0354778, 0.0336534, 0.031496, 0.029697799999999996, 0.0277244, 0.026244800000000002, 0.024298200000000002, 0.0227746, 0.0218004, 0.0207898, 0.019734, 0.0187118, 0.0179158, 0.0169114, 0.015908, 0.014851799999999998, 0.014190600000000001, 0.0134882, 0.0128778, 0.012294000000000001, 0.0115968, 0.0110902, 0.010441, 0.009812999999999999, 0.009165, 0.008522, 0.0079626, 0.0075065999999999996, 0.0070272, 0.0066082, 0.0062622, 0.005970399999999999, 0.0056208000000000004, 0.005273999999999999, 0.0050424, 0.0048400000000000006, 0.0046388, 0.004390799999999999, 0.0041392, 0.0039308, 0.0036872000000000003, 0.0035006000000000004, 0.0033132, 0.0031393999999999997, 0.0029176000000000002, 0.0027770000000000004, 0.0026266, 0.0024524, 0.0023796, 0.002231, 0.0021284, 0.0020364, 0.0019386, 0.0018559999999999996, 0.0017372, 0.0016352000000000003, 0.0015941999999999998, 0.0015054, 0.0014621999999999999, 0.0014114, 0.0013771999999999999, 0.0013306, 0.001299, 0.0012628, 0.0012304, 0.0012197999999999998, 0.0012032, 0.0011974, 0.0011974, 0.0011974, 0.0011974, 0.0011974, 0.0011974, 0.0011974, 0.0011974, 0.0011974, 0.0011974, 0.0011974, 0.0011974, 0.0011974, 0.0011974, 0.0011974, 0.0011974, 0.0011974], \"yaxis\": \"y\"}, {\"hovertemplate\": \"type=test<br>num_round=%{x}<br>rmse-mean=%{y}<extra></extra>\", \"legendgroup\": \"test\", \"marker\": {\"color\": \"#EF553B\", \"symbol\": \"circle\"}, \"mode\": \"markers\", \"name\": \"test\", \"showlegend\": true, \"type\": \"scatter\", \"x\": [1, 2, 3, 4, 5, 6, 7, 8, 9, 10, 11, 12, 13, 14, 15, 16, 17, 18, 19, 20, 21, 22, 23, 24, 25, 26, 27, 28, 29, 30, 31, 32, 33, 34, 35, 36, 37, 38, 39, 40, 41, 42, 43, 44, 45, 46, 47, 48, 49, 50, 51, 52, 53, 54, 55, 56, 57, 58, 59, 60, 61, 62, 63, 64, 65, 66, 67, 68, 69, 70, 71, 72, 73, 74, 75, 76, 77, 78, 79, 80, 81, 82, 83, 84, 85, 86, 87, 88, 89, 90, 91, 92, 93, 94, 95, 96, 97, 98, 99, 100, 101, 102, 103, 104, 105, 106, 107, 108, 109, 110, 111, 112, 113, 114, 115, 116, 117, 118, 119, 120, 121, 122, 123, 124, 125, 126, 127, 128, 129, 130, 131, 132, 133, 134, 135, 136, 137, 138, 139, 140, 141, 142, 143, 144, 145, 146, 147, 148, 149, 150], \"xaxis\": \"x\", \"y\": [17.266638, 12.6987854, 9.4691638, 7.393498000000001, 5.9531392, 5.1590664, 4.5919924, 4.252029, 4.0723405999999995, 3.9596536, 3.9181224, 3.886585, 3.8747274, 3.8531710000000006, 3.8564515999999998, 3.86255, 3.8618984, 3.8587883999999995, 3.8462578, 3.8381985999999997, 3.8346188, 3.8322496, 3.8286328000000003, 3.8239878000000003, 3.8257674, 3.8271737999999997, 3.8309344000000003, 3.8293848000000006, 3.8282384, 3.8222853999999997, 3.8223806, 3.8214681999999995, 3.8194676000000003, 3.820852, 3.8224755999999998, 3.8213504, 3.8206193999999996, 3.8206271999999997, 3.8210591999999997, 3.8182898, 3.8163466, 3.8178038, 3.8156951999999995, 3.8169497999999997, 3.8186446, 3.8188819999999994, 3.8189954, 3.8183672, 3.8174544, 3.817426400000001, 3.8166746, 3.8161688, 3.8169554000000003, 3.8168844, 3.8176602, 3.8174248, 3.8174514000000004, 3.817798, 3.8175308, 3.8179632, 3.8180692, 3.8181996, 3.8182039999999993, 3.8185057999999996, 3.818461, 3.8185028, 3.8183408, 3.8184696000000002, 3.8181781999999997, 3.8183217999999997, 3.8181506, 3.8180318, 3.8179714000000002, 3.8182248000000003, 3.8182062, 3.8184131999999997, 3.8182300000000007, 3.8181157999999997, 3.8179387999999994, 3.8181302, 3.8182126000000003, 3.8181784, 3.8180736000000004, 3.8182272, 3.8183683999999998, 3.8185612, 3.8184720000000008, 3.8185423999999997, 3.8185548, 3.8186426000000004, 3.8185622, 3.8185382000000003, 3.8186146, 3.8185925999999997, 3.8185691999999998, 3.818569, 3.8185902, 3.8185644000000005, 3.8185624000000002, 3.8185043999999997, 3.8185624000000002, 3.8185795999999996, 3.8185285999999996, 3.8185612, 3.818576, 3.8185949999999997, 3.818606, 3.81858, 3.8185928000000002, 3.818599, 3.8185708, 3.8185583999999997, 3.8185294000000005, 3.8185166, 3.8185198, 3.8185437999999996, 3.8185612, 3.8185497999999995, 3.8185772, 3.8185718, 3.8185704, 3.8185748000000004, 3.818578, 3.818593, 3.818591, 3.8185708, 3.8185607999999993, 3.8185595999999995, 3.8185587999999995, 3.8185686, 3.8185651999999997, 3.8185659999999997, 3.8185723999999994, 3.818575799999999, 3.8185756, 3.8185756, 3.8185754000000003, 3.8185756, 3.818575799999999, 3.8185756, 3.8185756, 3.8185756, 3.8185756, 3.8185756, 3.8185756, 3.8185756, 3.8185756, 3.8185756, 3.818575799999999, 3.8185756], \"yaxis\": \"y\"}],\n",
       "                        {\"legend\": {\"title\": {\"text\": \"type\"}, \"tracegroupgap\": 0}, \"margin\": {\"t\": 60}, \"template\": {\"data\": {\"bar\": [{\"error_x\": {\"color\": \"#2a3f5f\"}, \"error_y\": {\"color\": \"#2a3f5f\"}, \"marker\": {\"line\": {\"color\": \"#E5ECF6\", \"width\": 0.5}}, \"type\": \"bar\"}], \"barpolar\": [{\"marker\": {\"line\": {\"color\": \"#E5ECF6\", \"width\": 0.5}}, \"type\": \"barpolar\"}], \"carpet\": [{\"aaxis\": {\"endlinecolor\": \"#2a3f5f\", \"gridcolor\": \"white\", \"linecolor\": \"white\", \"minorgridcolor\": \"white\", \"startlinecolor\": \"#2a3f5f\"}, \"baxis\": {\"endlinecolor\": \"#2a3f5f\", \"gridcolor\": \"white\", \"linecolor\": \"white\", \"minorgridcolor\": \"white\", \"startlinecolor\": \"#2a3f5f\"}, \"type\": \"carpet\"}], \"choropleth\": [{\"colorbar\": {\"outlinewidth\": 0, \"ticks\": \"\"}, \"type\": \"choropleth\"}], \"contour\": [{\"colorbar\": {\"outlinewidth\": 0, \"ticks\": \"\"}, \"colorscale\": [[0.0, \"#0d0887\"], [0.1111111111111111, \"#46039f\"], [0.2222222222222222, \"#7201a8\"], [0.3333333333333333, \"#9c179e\"], [0.4444444444444444, \"#bd3786\"], [0.5555555555555556, \"#d8576b\"], [0.6666666666666666, \"#ed7953\"], [0.7777777777777778, \"#fb9f3a\"], [0.8888888888888888, \"#fdca26\"], [1.0, \"#f0f921\"]], \"type\": \"contour\"}], \"contourcarpet\": [{\"colorbar\": {\"outlinewidth\": 0, \"ticks\": \"\"}, \"type\": \"contourcarpet\"}], \"heatmap\": [{\"colorbar\": {\"outlinewidth\": 0, \"ticks\": \"\"}, \"colorscale\": [[0.0, \"#0d0887\"], [0.1111111111111111, \"#46039f\"], [0.2222222222222222, \"#7201a8\"], [0.3333333333333333, \"#9c179e\"], [0.4444444444444444, \"#bd3786\"], [0.5555555555555556, \"#d8576b\"], [0.6666666666666666, \"#ed7953\"], [0.7777777777777778, \"#fb9f3a\"], [0.8888888888888888, \"#fdca26\"], [1.0, \"#f0f921\"]], \"type\": \"heatmap\"}], \"heatmapgl\": [{\"colorbar\": {\"outlinewidth\": 0, \"ticks\": \"\"}, \"colorscale\": [[0.0, \"#0d0887\"], [0.1111111111111111, \"#46039f\"], [0.2222222222222222, \"#7201a8\"], [0.3333333333333333, \"#9c179e\"], [0.4444444444444444, \"#bd3786\"], [0.5555555555555556, \"#d8576b\"], [0.6666666666666666, \"#ed7953\"], [0.7777777777777778, \"#fb9f3a\"], [0.8888888888888888, \"#fdca26\"], [1.0, \"#f0f921\"]], \"type\": \"heatmapgl\"}], \"histogram\": [{\"marker\": {\"colorbar\": {\"outlinewidth\": 0, \"ticks\": \"\"}}, \"type\": \"histogram\"}], \"histogram2d\": [{\"colorbar\": {\"outlinewidth\": 0, \"ticks\": \"\"}, \"colorscale\": [[0.0, \"#0d0887\"], [0.1111111111111111, \"#46039f\"], [0.2222222222222222, \"#7201a8\"], [0.3333333333333333, \"#9c179e\"], [0.4444444444444444, \"#bd3786\"], [0.5555555555555556, \"#d8576b\"], [0.6666666666666666, \"#ed7953\"], [0.7777777777777778, \"#fb9f3a\"], [0.8888888888888888, \"#fdca26\"], [1.0, \"#f0f921\"]], \"type\": \"histogram2d\"}], \"histogram2dcontour\": [{\"colorbar\": {\"outlinewidth\": 0, \"ticks\": \"\"}, \"colorscale\": [[0.0, \"#0d0887\"], [0.1111111111111111, \"#46039f\"], [0.2222222222222222, \"#7201a8\"], [0.3333333333333333, \"#9c179e\"], [0.4444444444444444, \"#bd3786\"], [0.5555555555555556, \"#d8576b\"], [0.6666666666666666, \"#ed7953\"], [0.7777777777777778, \"#fb9f3a\"], [0.8888888888888888, \"#fdca26\"], [1.0, \"#f0f921\"]], \"type\": \"histogram2dcontour\"}], \"mesh3d\": [{\"colorbar\": {\"outlinewidth\": 0, \"ticks\": \"\"}, \"type\": \"mesh3d\"}], \"parcoords\": [{\"line\": {\"colorbar\": {\"outlinewidth\": 0, \"ticks\": \"\"}}, \"type\": \"parcoords\"}], \"pie\": [{\"automargin\": true, \"type\": \"pie\"}], \"scatter\": [{\"marker\": {\"colorbar\": {\"outlinewidth\": 0, \"ticks\": \"\"}}, \"type\": \"scatter\"}], \"scatter3d\": [{\"line\": {\"colorbar\": {\"outlinewidth\": 0, \"ticks\": \"\"}}, \"marker\": {\"colorbar\": {\"outlinewidth\": 0, \"ticks\": \"\"}}, \"type\": \"scatter3d\"}], \"scattercarpet\": [{\"marker\": {\"colorbar\": {\"outlinewidth\": 0, \"ticks\": \"\"}}, \"type\": \"scattercarpet\"}], \"scattergeo\": [{\"marker\": {\"colorbar\": {\"outlinewidth\": 0, \"ticks\": \"\"}}, \"type\": \"scattergeo\"}], \"scattergl\": [{\"marker\": {\"colorbar\": {\"outlinewidth\": 0, \"ticks\": \"\"}}, \"type\": \"scattergl\"}], \"scattermapbox\": [{\"marker\": {\"colorbar\": {\"outlinewidth\": 0, \"ticks\": \"\"}}, \"type\": \"scattermapbox\"}], \"scatterpolar\": [{\"marker\": {\"colorbar\": {\"outlinewidth\": 0, \"ticks\": \"\"}}, \"type\": \"scatterpolar\"}], \"scatterpolargl\": [{\"marker\": {\"colorbar\": {\"outlinewidth\": 0, \"ticks\": \"\"}}, \"type\": \"scatterpolargl\"}], \"scatterternary\": [{\"marker\": {\"colorbar\": {\"outlinewidth\": 0, \"ticks\": \"\"}}, \"type\": \"scatterternary\"}], \"surface\": [{\"colorbar\": {\"outlinewidth\": 0, \"ticks\": \"\"}, \"colorscale\": [[0.0, \"#0d0887\"], [0.1111111111111111, \"#46039f\"], [0.2222222222222222, \"#7201a8\"], [0.3333333333333333, \"#9c179e\"], [0.4444444444444444, \"#bd3786\"], [0.5555555555555556, \"#d8576b\"], [0.6666666666666666, \"#ed7953\"], [0.7777777777777778, \"#fb9f3a\"], [0.8888888888888888, \"#fdca26\"], [1.0, \"#f0f921\"]], \"type\": \"surface\"}], \"table\": [{\"cells\": {\"fill\": {\"color\": \"#EBF0F8\"}, \"line\": {\"color\": \"white\"}}, \"header\": {\"fill\": {\"color\": \"#C8D4E3\"}, \"line\": {\"color\": \"white\"}}, \"type\": \"table\"}]}, \"layout\": {\"annotationdefaults\": {\"arrowcolor\": \"#2a3f5f\", \"arrowhead\": 0, \"arrowwidth\": 1}, \"coloraxis\": {\"colorbar\": {\"outlinewidth\": 0, \"ticks\": \"\"}}, \"colorscale\": {\"diverging\": [[0, \"#8e0152\"], [0.1, \"#c51b7d\"], [0.2, \"#de77ae\"], [0.3, \"#f1b6da\"], [0.4, \"#fde0ef\"], [0.5, \"#f7f7f7\"], [0.6, \"#e6f5d0\"], [0.7, \"#b8e186\"], [0.8, \"#7fbc41\"], [0.9, \"#4d9221\"], [1, \"#276419\"]], \"sequential\": [[0.0, \"#0d0887\"], [0.1111111111111111, \"#46039f\"], [0.2222222222222222, \"#7201a8\"], [0.3333333333333333, \"#9c179e\"], [0.4444444444444444, \"#bd3786\"], [0.5555555555555556, \"#d8576b\"], [0.6666666666666666, \"#ed7953\"], [0.7777777777777778, \"#fb9f3a\"], [0.8888888888888888, \"#fdca26\"], [1.0, \"#f0f921\"]], \"sequentialminus\": [[0.0, \"#0d0887\"], [0.1111111111111111, \"#46039f\"], [0.2222222222222222, \"#7201a8\"], [0.3333333333333333, \"#9c179e\"], [0.4444444444444444, \"#bd3786\"], [0.5555555555555556, \"#d8576b\"], [0.6666666666666666, \"#ed7953\"], [0.7777777777777778, \"#fb9f3a\"], [0.8888888888888888, \"#fdca26\"], [1.0, \"#f0f921\"]]}, \"colorway\": [\"#636efa\", \"#EF553B\", \"#00cc96\", \"#ab63fa\", \"#FFA15A\", \"#19d3f3\", \"#FF6692\", \"#B6E880\", \"#FF97FF\", \"#FECB52\"], \"font\": {\"color\": \"#2a3f5f\"}, \"geo\": {\"bgcolor\": \"white\", \"lakecolor\": \"white\", \"landcolor\": \"#E5ECF6\", \"showlakes\": true, \"showland\": true, \"subunitcolor\": \"white\"}, \"hoverlabel\": {\"align\": \"left\"}, \"hovermode\": \"closest\", \"mapbox\": {\"style\": \"light\"}, \"paper_bgcolor\": \"white\", \"plot_bgcolor\": \"#E5ECF6\", \"polar\": {\"angularaxis\": {\"gridcolor\": \"white\", \"linecolor\": \"white\", \"ticks\": \"\"}, \"bgcolor\": \"#E5ECF6\", \"radialaxis\": {\"gridcolor\": \"white\", \"linecolor\": \"white\", \"ticks\": \"\"}}, \"scene\": {\"xaxis\": {\"backgroundcolor\": \"#E5ECF6\", \"gridcolor\": \"white\", \"gridwidth\": 2, \"linecolor\": \"white\", \"showbackground\": true, \"ticks\": \"\", \"zerolinecolor\": \"white\"}, \"yaxis\": {\"backgroundcolor\": \"#E5ECF6\", \"gridcolor\": \"white\", \"gridwidth\": 2, \"linecolor\": \"white\", \"showbackground\": true, \"ticks\": \"\", \"zerolinecolor\": \"white\"}, \"zaxis\": {\"backgroundcolor\": \"#E5ECF6\", \"gridcolor\": \"white\", \"gridwidth\": 2, \"linecolor\": \"white\", \"showbackground\": true, \"ticks\": \"\", \"zerolinecolor\": \"white\"}}, \"shapedefaults\": {\"line\": {\"color\": \"#2a3f5f\"}}, \"ternary\": {\"aaxis\": {\"gridcolor\": \"white\", \"linecolor\": \"white\", \"ticks\": \"\"}, \"baxis\": {\"gridcolor\": \"white\", \"linecolor\": \"white\", \"ticks\": \"\"}, \"bgcolor\": \"#E5ECF6\", \"caxis\": {\"gridcolor\": \"white\", \"linecolor\": \"white\", \"ticks\": \"\"}}, \"title\": {\"x\": 0.05}, \"xaxis\": {\"automargin\": true, \"gridcolor\": \"white\", \"linecolor\": \"white\", \"ticks\": \"\", \"title\": {\"standoff\": 15}, \"zerolinecolor\": \"white\", \"zerolinewidth\": 2}, \"yaxis\": {\"automargin\": true, \"gridcolor\": \"white\", \"linecolor\": \"white\", \"ticks\": \"\", \"title\": {\"standoff\": 15}, \"zerolinecolor\": \"white\", \"zerolinewidth\": 2}}}, \"xaxis\": {\"anchor\": \"y\", \"domain\": [0.0, 1.0], \"title\": {\"text\": \"num_round\"}}, \"yaxis\": {\"anchor\": \"x\", \"domain\": [0.0, 1.0], \"title\": {\"text\": \"rmse-mean\"}}},\n",
       "                        {\"responsive\": true}\n",
       "                    ).then(function(){\n",
       "                            \n",
       "var gd = document.getElementById('c27034de-276b-49a6-873b-2a3548ec05b2');\n",
       "var x = new MutationObserver(function (mutations, observer) {{\n",
       "        var display = window.getComputedStyle(gd).display;\n",
       "        if (!display || display === 'none') {{\n",
       "            console.log([gd, 'removed!']);\n",
       "            Plotly.purge(gd);\n",
       "            observer.disconnect();\n",
       "        }}\n",
       "}});\n",
       "\n",
       "// Listen for the removal of the full notebook cells\n",
       "var notebookContainer = gd.closest('#notebook-container');\n",
       "if (notebookContainer) {{\n",
       "    x.observe(notebookContainer, {childList: true});\n",
       "}}\n",
       "\n",
       "// Listen for the clearing of the current output cell\n",
       "var outputEl = gd.closest('.output');\n",
       "if (outputEl) {{\n",
       "    x.observe(outputEl, {childList: true});\n",
       "}}\n",
       "\n",
       "                        })\n",
       "                };\n",
       "                });\n",
       "            </script>\n",
       "        </div>"
      ]
     },
     "metadata": {},
     "output_type": "display_data"
    }
   ],
   "source": [
    "# 使用plotly绘制\n",
    "px.scatter(data_frame=history_info, x='num_round',y='rmse-mean', color='type' )"
   ]
  },
  {
   "cell_type": "code",
   "execution_count": 119,
   "metadata": {
    "collapsed": true,
    "jupyter": {
     "outputs_hidden": true
    }
   },
   "outputs": [
    {
     "data": {
      "text/plain": [
       "<seaborn.axisgrid.FacetGrid at 0x11b94620b08>"
      ]
     },
     "execution_count": 119,
     "metadata": {},
     "output_type": "execute_result"
    },
    {
     "data": {
      "image/png": "[encoded data removed]",
      "text/plain": [
       "<Figure size 419.375x360 with 1 Axes>"
      ]
     },
     "metadata": {
      "needs_background": "light"
     },
     "output_type": "display_data"
    }
   ],
   "source": [
    "# 使用seaborn绘制\n",
    "sns.relplot(data=history_info, x ='num_round', y='rmse-mean', hue='type', kind='line' )"
   ]
  },
  {
   "cell_type": "markdown",
   "metadata": {},
   "source": [
    "从图中可以看出 num_round = 15 之后test-rmse就不太下降了，所以只需要选择 num_round = 15 即可"
   ]
  },
  {
   "cell_type": "code",
   "execution_count": null,
   "metadata": {},
   "outputs": [],
   "source": []
  },
  {
   "cell_type": "code",
   "execution_count": null,
   "metadata": {},
   "outputs": [],
   "source": []
  },
  {
   "cell_type": "code",
   "execution_count": null,
   "metadata": {},
   "outputs": [],
   "source": []
  },
  {
   "cell_type": "code",
   "execution_count": null,
   "metadata": {},
   "outputs": [],
   "source": []
  },
  {
   "cell_type": "code",
   "execution_count": null,
   "metadata": {},
   "outputs": [],
   "source": []
  },
  {
   "cell_type": "code",
   "execution_count": null,
   "metadata": {},
   "outputs": [],
   "source": []
  },
  {
   "cell_type": "code",
   "execution_count": null,
   "metadata": {},
   "outputs": [],
   "source": []
  },
  {
   "cell_type": "code",
   "execution_count": null,
   "metadata": {},
   "outputs": [],
   "source": []
  },
  {
   "cell_type": "code",
   "execution_count": null,
   "metadata": {},
   "outputs": [],
   "source": []
  },
  {
   "cell_type": "code",
   "execution_count": null,
   "metadata": {},
   "outputs": [],
   "source": []
  },
  {
   "cell_type": "code",
   "execution_count": null,
   "metadata": {},
   "outputs": [],
   "source": []
  },
  {
   "cell_type": "code",
   "execution_count": null,
   "metadata": {},
   "outputs": [],
   "source": []
  },
  {
   "cell_type": "markdown",
   "metadata": {},
   "source": [
    "____________"
   ]
  },
  {
   "cell_type": "markdown",
   "metadata": {},
   "source": [
    "# Sklearn接口"
   ]
  },
  {
   "cell_type": "code",
   "execution_count": 42,
   "metadata": {},
   "outputs": [],
   "source": [
    "# xgboost库里的参数配置\n",
    "# 这个params字段里配置的是 Booster 类的参数\n",
    "params = {'booster':'gbtree',  #基分类器\n",
    "          'objective': 'reg:squarederror', #目标函数\n",
    "         'eta': 0.3,  #学习速率\n",
    "         'gamma': 0,  #分咧的最小增益\n",
    "         'max_depth': 6,  #树的最大深度\n",
    "         'lambda': 1,  #L2正则项系数\n",
    "         'alpha': 0,  # L1正则项系数\n",
    "         'subsample': 1,  #boostrap是的采样比例\n",
    "         'tree': 'auto',  # 树的生成方式\n",
    "         'base_score': 0.5,  # 生成第一棵树时的初始值\n",
    "         'eval_metric': ['rmse','mae']}  # 在 验证集 上进行评估的指标，可以选择多个\n",
    "\n",
    "# booster的个数\n",
    "num_round = 10\n",
    "\n",
    "# 用于训练时查看验证集上效果的 evals (list of pairs (DMatrix, string)) \n",
    "watch_list = [(dtrain, 'train'), (dtest, 'eval')]"
   ]
  },
  {
   "cell_type": "code",
   "execution_count": 57,
   "metadata": {},
   "outputs": [],
   "source": [
    "from xgboost import XGBRegressor as XGBR"
   ]
  },
  {
   "cell_type": "code",
   "execution_count": 58,
   "metadata": {},
   "outputs": [],
   "source": [
    "# sklearn接口不能使用字典的形式配置参数\n",
    "xgbr = XGBR(\n",
    "    booster = 'gbtree',\n",
    "    objective='reg:squarederror',\n",
    "    n_estimators = 10, #相当于num_booster_round\n",
    "    max_depth = 6,\n",
    "    learning_rate = 0.3, # 学习速率\n",
    "    tree_method = 'auto',\n",
    "    gammar = 0,\n",
    "    reg_alpah= 0, # L1正则化参数\n",
    "    reg_lambda= 1, # L2正则化参数\n",
    "    subsample= 1,\n",
    "    base_score= 0.5\n",
    ")"
   ]
  },
  {
   "cell_type": "code",
   "execution_count": 59,
   "metadata": {},
   "outputs": [
    {
     "data": {
      "text/plain": [
       "XGBRegressor(base_score=0.5, booster='gbtree', colsample_bylevel=1,\n",
       "             colsample_bynode=1, colsample_bytree=1, gamma=0, gammar=0,\n",
       "             importance_type='gain', learning_rate=0.3, max_delta_step=0,\n",
       "             max_depth=6, min_child_weight=1, missing=None, n_estimators=10,\n",
       "             n_jobs=1, nthread=None, objective='reg:squarederror',\n",
       "             random_state=0, reg_alpah=0, reg_alpha=0, reg_lambda=1,\n",
       "             scale_pos_weight=1, seed=None, silent=None, subsample=1,\n",
       "             tree_method='auto', verbosity=1)"
      ]
     },
     "execution_count": 59,
     "metadata": {},
     "output_type": "execute_result"
    }
   ],
   "source": [
    "xgbr.fit(X=Xtrain,y=ytrain)"
   ]
  },
  {
   "cell_type": "code",
   "execution_count": 73,
   "metadata": {},
   "outputs": [
    {
     "name": "stdout",
     "output_type": "stream",
     "text": [
      "[0]\tvalidation_0-mae:15.4794\tvalidation_0-rmse:17.0354\n",
      "[1]\tvalidation_0-mae:10.9618\tvalidation_0-rmse:12.3715\n",
      "[2]\tvalidation_0-mae:7.82454\tvalidation_0-rmse:9.14436\n",
      "[3]\tvalidation_0-mae:5.72816\tvalidation_0-rmse:7.02082\n",
      "[4]\tvalidation_0-mae:4.32838\tvalidation_0-rmse:5.58317\n",
      "[5]\tvalidation_0-mae:3.47626\tvalidation_0-rmse:4.7071\n",
      "[6]\tvalidation_0-mae:3.0341\tvalidation_0-rmse:4.21405\n",
      "[7]\tvalidation_0-mae:2.74129\tvalidation_0-rmse:3.85263\n",
      "[8]\tvalidation_0-mae:2.5822\tvalidation_0-rmse:3.65708\n",
      "[9]\tvalidation_0-mae:2.48576\tvalidation_0-rmse:3.55004\n"
     ]
    },
    {
     "data": {
      "text/plain": [
       "XGBRegressor(base_score=0.5, booster='gbtree', colsample_bylevel=1,\n",
       "             colsample_bynode=1, colsample_bytree=1, gamma=0, gammar=0,\n",
       "             importance_type='gain', learning_rate=0.3, max_delta_step=0,\n",
       "             max_depth=6, min_child_weight=1, missing=None, n_estimators=10,\n",
       "             n_jobs=1, nthread=None, objective='reg:squarederror',\n",
       "             random_state=0, reg_alpah=0, reg_alpha=0, reg_lambda=1,\n",
       "             scale_pos_weight=1, seed=None, silent=None, subsample=1,\n",
       "             tree_method='auto', verbosity=1)"
      ]
     },
     "execution_count": 73,
     "metadata": {},
     "output_type": "execute_result"
    }
   ],
   "source": [
    "# 也可以传入验证集\n",
    "xgbr.fit(X=Xtrain,y=ytrain, eval_set=[(Xtest, ytest)], eval_metric=['mae','rmse'])"
   ]
  },
  {
   "cell_type": "code",
   "execution_count": 74,
   "metadata": {},
   "outputs": [
    {
     "data": {
      "text/plain": [
       "{'base_score': 0.5,\n",
       " 'booster': 'gbtree',\n",
       " 'colsample_bylevel': 1,\n",
       " 'colsample_bynode': 1,\n",
       " 'colsample_bytree': 1,\n",
       " 'gamma': 0,\n",
       " 'importance_type': 'gain',\n",
       " 'learning_rate': 0.3,\n",
       " 'max_delta_step': 0,\n",
       " 'max_depth': 6,\n",
       " 'min_child_weight': 1,\n",
       " 'missing': None,\n",
       " 'n_estimators': 10,\n",
       " 'n_jobs': 1,\n",
       " 'nthread': None,\n",
       " 'objective': 'reg:squarederror',\n",
       " 'random_state': 0,\n",
       " 'reg_alpha': 0,\n",
       " 'reg_lambda': 1,\n",
       " 'scale_pos_weight': 1,\n",
       " 'seed': None,\n",
       " 'silent': None,\n",
       " 'subsample': 1,\n",
       " 'verbosity': 1,\n",
       " 'tree_method': 'auto',\n",
       " 'gammar': 0,\n",
       " 'reg_alpah': 0}"
      ]
     },
     "execution_count": 74,
     "metadata": {},
     "output_type": "execute_result"
    }
   ],
   "source": [
    "xgbr.get_params()"
   ]
  },
  {
   "cell_type": "code",
   "execution_count": 75,
   "metadata": {
    "collapsed": true,
    "jupyter": {
     "outputs_hidden": true
    }
   },
   "outputs": [
    {
     "data": {
      "text/plain": [
       "{'base_score': 0.5,\n",
       " 'booster': 'gbtree',\n",
       " 'colsample_bylevel': 1,\n",
       " 'colsample_bynode': 1,\n",
       " 'colsample_bytree': 1,\n",
       " 'gamma': 0,\n",
       " 'importance_type': 'gain',\n",
       " 'learning_rate': 0.3,\n",
       " 'max_delta_step': 0,\n",
       " 'max_depth': 6,\n",
       " 'min_child_weight': 1,\n",
       " 'missing': None,\n",
       " 'n_estimators': 10,\n",
       " 'nthread': 1,\n",
       " 'objective': 'reg:squarederror',\n",
       " 'reg_alpha': 0,\n",
       " 'reg_lambda': 1,\n",
       " 'scale_pos_weight': 1,\n",
       " 'seed': 0,\n",
       " 'subsample': 1,\n",
       " 'verbosity': 1,\n",
       " 'tree_method': 'auto',\n",
       " 'gammar': 0,\n",
       " 'reg_alpah': 0}"
      ]
     },
     "execution_count": 75,
     "metadata": {},
     "output_type": "execute_result"
    }
   ],
   "source": [
    "xgbr.get_xgb_params()"
   ]
  },
  {
   "cell_type": "code",
   "execution_count": 76,
   "metadata": {},
   "outputs": [
    {
     "data": {
      "text/plain": [
       "<xgboost.core.Booster at 0x1a26fe2da0>"
      ]
     },
     "execution_count": 76,
     "metadata": {},
     "output_type": "execute_result"
    }
   ],
   "source": [
    "xgbr.get_booster()"
   ]
  },
  {
   "cell_type": "code",
   "execution_count": 77,
   "metadata": {},
   "outputs": [
    {
     "data": {
      "text/plain": [
       "10"
      ]
     },
     "execution_count": 77,
     "metadata": {},
     "output_type": "execute_result"
    }
   ],
   "source": [
    "xgbr.get_num_boosting_rounds()"
   ]
  },
  {
   "cell_type": "code",
   "execution_count": 78,
   "metadata": {},
   "outputs": [
    {
     "data": {
      "text/plain": [
       "array([0.0456485 , 0.01019178, 0.00950372, 0.        , 0.02357067,\n",
       "       0.33699337, 0.01154667, 0.03731909, 0.01295483, 0.01258586,\n",
       "       0.02858853, 0.00933779, 0.46175924], dtype=float32)"
      ]
     },
     "execution_count": 78,
     "metadata": {},
     "output_type": "execute_result"
    }
   ],
   "source": [
    "xgbr.feature_importances_"
   ]
  },
  {
   "cell_type": "code",
   "execution_count": 79,
   "metadata": {},
   "outputs": [
    {
     "data": {
      "text/plain": [
       "0.841814503167488"
      ]
     },
     "execution_count": 79,
     "metadata": {},
     "output_type": "execute_result"
    }
   ],
   "source": [
    "# 这里默认返回的是R^2，不是MSE，可使用shift + tab查看签名\n",
    "xgbr.score(Xtest,ytest)"
   ]
  },
  {
   "cell_type": "code",
   "execution_count": 83,
   "metadata": {},
   "outputs": [],
   "source": [
    "y_predict = xgbr.predict(Xtest)"
   ]
  },
  {
   "cell_type": "code",
   "execution_count": 84,
   "metadata": {},
   "outputs": [],
   "source": [
    "from sklearn.metrics import r2_score"
   ]
  },
  {
   "cell_type": "code",
   "execution_count": 85,
   "metadata": {},
   "outputs": [
    {
     "data": {
      "text/plain": [
       "0.8418145028374874"
      ]
     },
     "execution_count": 85,
     "metadata": {},
     "output_type": "execute_result"
    }
   ],
   "source": [
    "r2_score(y_true=ytest, y_pred=ytest_predict)"
   ]
  },
  {
   "cell_type": "markdown",
   "metadata": {},
   "source": [
    "交叉验证效果"
   ]
  },
  {
   "cell_type": "code",
   "execution_count": 80,
   "metadata": {},
   "outputs": [
    {
     "name": "stdout",
     "output_type": "stream",
     "text": [
      "[13:59:31] WARNING: src/objective/regression_obj.cu:152: reg:linear is now deprecated in favor of reg:squarederror.\n",
      "[13:59:31] WARNING: src/objective/regression_obj.cu:152: reg:linear is now deprecated in favor of reg:squarederror.\n",
      "[13:59:31] WARNING: src/objective/regression_obj.cu:152: reg:linear is now deprecated in favor of reg:squarederror.\n",
      "[13:59:31] WARNING: src/objective/regression_obj.cu:152: reg:linear is now deprecated in favor of reg:squarederror.\n",
      "[13:59:31] WARNING: src/objective/regression_obj.cu:152: reg:linear is now deprecated in favor of reg:squarederror.\n"
     ]
    },
    {
     "data": {
      "text/plain": [
       "array([0.77955736, 0.85656904, 0.79106707, 0.57326677, 0.41285553])"
      ]
     },
     "execution_count": 80,
     "metadata": {},
     "output_type": "execute_result"
    }
   ],
   "source": [
    "xgbr = XGBR(n_estimators=100)\n",
    "cross_val_score(xgbr,X,y,cv=5)"
   ]
  },
  {
   "cell_type": "code",
   "execution_count": 81,
   "metadata": {
    "collapsed": true,
    "jupyter": {
     "outputs_hidden": true
    }
   },
   "outputs": [
    {
     "data": {
      "text/plain": [
       "['accuracy',\n",
       " 'adjusted_mutual_info_score',\n",
       " 'adjusted_rand_score',\n",
       " 'average_precision',\n",
       " 'balanced_accuracy',\n",
       " 'completeness_score',\n",
       " 'explained_variance',\n",
       " 'f1',\n",
       " 'f1_macro',\n",
       " 'f1_micro',\n",
       " 'f1_samples',\n",
       " 'f1_weighted',\n",
       " 'fowlkes_mallows_score',\n",
       " 'homogeneity_score',\n",
       " 'jaccard',\n",
       " 'jaccard_macro',\n",
       " 'jaccard_micro',\n",
       " 'jaccard_samples',\n",
       " 'jaccard_weighted',\n",
       " 'max_error',\n",
       " 'mutual_info_score',\n",
       " 'neg_brier_score',\n",
       " 'neg_log_loss',\n",
       " 'neg_mean_absolute_error',\n",
       " 'neg_mean_gamma_deviance',\n",
       " 'neg_mean_poisson_deviance',\n",
       " 'neg_mean_squared_error',\n",
       " 'neg_mean_squared_log_error',\n",
       " 'neg_median_absolute_error',\n",
       " 'neg_root_mean_squared_error',\n",
       " 'normalized_mutual_info_score',\n",
       " 'precision',\n",
       " 'precision_macro',\n",
       " 'precision_micro',\n",
       " 'precision_samples',\n",
       " 'precision_weighted',\n",
       " 'r2',\n",
       " 'recall',\n",
       " 'recall_macro',\n",
       " 'recall_micro',\n",
       " 'recall_samples',\n",
       " 'recall_weighted',\n",
       " 'roc_auc',\n",
       " 'roc_auc_ovo',\n",
       " 'roc_auc_ovo_weighted',\n",
       " 'roc_auc_ovr',\n",
       " 'roc_auc_ovr_weighted',\n",
       " 'v_measure_score']"
      ]
     },
     "execution_count": 81,
     "metadata": {},
     "output_type": "execute_result"
    }
   ],
   "source": [
    "# 查看sklearn中已有的指标\n",
    "import sklearn\n",
    "sorted(sklearn.metrics.SCORERS.keys())"
   ]
  },
  {
   "cell_type": "code",
   "execution_count": 82,
   "metadata": {},
   "outputs": [
    {
     "name": "stdout",
     "output_type": "stream",
     "text": [
      "[13:59:31] WARNING: src/objective/regression_obj.cu:152: reg:linear is now deprecated in favor of reg:squarederror.\n",
      "[13:59:31] WARNING: src/objective/regression_obj.cu:152: reg:linear is now deprecated in favor of reg:squarederror.\n",
      "[13:59:31] WARNING: src/objective/regression_obj.cu:152: reg:linear is now deprecated in favor of reg:squarederror.\n",
      "[13:59:31] WARNING: src/objective/regression_obj.cu:152: reg:linear is now deprecated in favor of reg:squarederror.\n",
      "[13:59:31] WARNING: src/objective/regression_obj.cu:152: reg:linear is now deprecated in favor of reg:squarederror.\n"
     ]
    },
    {
     "data": {
      "text/plain": [
       "array([ -7.61302966, -13.05748854, -16.73285435, -37.42956222,\n",
       "       -15.6111833 ])"
      ]
     },
     "execution_count": 82,
     "metadata": {},
     "output_type": "execute_result"
    }
   ],
   "source": [
    "# 使用其他指标\n",
    "cross_val_score(xgbr,X,y,cv=5,scoring='neg_mean_squared_error')"
   ]
  },
  {
   "cell_type": "markdown",
   "metadata": {},
   "source": [
    "_________"
   ]
  },
  {
   "cell_type": "code",
   "execution_count": 89,
   "metadata": {},
   "outputs": [],
   "source": [
    "from sklearn.ensemble import RandomForestRegressor as RFR\n",
    "from sklearn.linear_model import LinearRegression\n",
    "\n",
    "from sklearn.model_selection import KFold"
   ]
  },
  {
   "cell_type": "code",
   "execution_count": 101,
   "metadata": {},
   "outputs": [
    {
     "data": {
      "text/plain": [
       "0.7769540740816125"
      ]
     },
     "execution_count": 101,
     "metadata": {},
     "output_type": "execute_result"
    }
   ],
   "source": [
    "# 线性回归\n",
    "lr = LinearRegression()\n",
    "lr.fit(Xtrain,ytrain)\n",
    "lr.score(Xtest,ytest)"
   ]
  },
  {
   "cell_type": "code",
   "execution_count": 102,
   "metadata": {},
   "outputs": [
    {
     "data": {
      "text/plain": [
       "0.8398599894467208"
      ]
     },
     "execution_count": 102,
     "metadata": {},
     "output_type": "execute_result"
    }
   ],
   "source": [
    "# 随机森林\n",
    "rf = RFR(n_estimators=20)\n",
    "rf.fit(Xtrain,ytrain)\n",
    "rf.score(Xtest,ytest)"
   ]
  },
  {
   "cell_type": "code",
   "execution_count": 103,
   "metadata": {},
   "outputs": [
    {
     "data": {
      "text/plain": [
       "0.841814503167488"
      ]
     },
     "execution_count": 103,
     "metadata": {},
     "output_type": "execute_result"
    }
   ],
   "source": [
    "# XGBoost\n",
    "xgbr = XGBR(\n",
    "    booster = 'gbtree',\n",
    "    objective='reg:squarederror',\n",
    "    n_estimators = 10, #相当于num_booster_round\n",
    "    max_depth = 6,\n",
    "    learning_rate = 0.3, # 学习速率\n",
    "    tree_method = 'auto',\n",
    "    gammar = 0,\n",
    "    reg_alpah= 0, # L1正则化参数\n",
    "    reg_lambda= 1, # L2正则化参数\n",
    "    subsample= 1,\n",
    "    base_score= 0.5\n",
    ")\n",
    "xgbr.fit(X=Xtrain,y=ytrain)\n",
    "xgbr.score(Xtest, ytest)"
   ]
  },
  {
   "cell_type": "code",
   "execution_count": 107,
   "metadata": {},
   "outputs": [
    {
     "data": {
      "text/plain": [
       "array([12.46030057, 26.04862111, 33.07413798, 80.76237112, 33.31360656])"
      ]
     },
     "execution_count": 107,
     "metadata": {},
     "output_type": "execute_result"
    }
   ],
   "source": [
    "- cross_val_score(lr, X, y, cv=5, scoring='neg_mean_squared_error')"
   ]
  },
  {
   "cell_type": "code",
   "execution_count": 106,
   "metadata": {},
   "outputs": [
    {
     "data": {
      "text/plain": [
       "array([ 8.01978039, 15.5468948 , 18.35381386, 43.13013738, 18.37307847])"
      ]
     },
     "execution_count": 106,
     "metadata": {},
     "output_type": "execute_result"
    }
   ],
   "source": [
    "- cross_val_score(rf,X,y,cv=5, scoring='neg_mean_squared_error')"
   ]
  },
  {
   "cell_type": "code",
   "execution_count": 108,
   "metadata": {},
   "outputs": [
    {
     "data": {
      "text/plain": [
       "array([ 8.5341622 , 16.5285442 , 20.92416823, 46.39984535, 17.47468213])"
      ]
     },
     "execution_count": 108,
     "metadata": {},
     "output_type": "execute_result"
    }
   ],
   "source": [
    "- cross_val_score(xgbr,X,y,cv=5, scoring='neg_mean_squared_error')"
   ]
  },
  {
   "cell_type": "markdown",
   "metadata": {},
   "source": [
    "-------------"
   ]
  },
  {
   "cell_type": "markdown",
   "metadata": {},
   "source": [
    "# XGBoost的调参"
   ]
  },
  {
   "cell_type": "markdown",
   "metadata": {},
   "source": [
    "优先调整的参数  \n",
    "+ `n_estimator`或者`num_boost_round`，一般在300以下\n",
    "+ `gammar`，进行分支时的最小增益\n",
    "+ `max_depth`，这个参数和上面的`gammar`通常选择一个进行调整就可以了\n",
    "+ `colsample_bytree`，默认为1，列采样（每次生成树时随机抽样特征）的比例\n",
    "+ `colsample_bylevel`，默认为1，每次生成**树的一层**时 随机抽样特征的比例\n",
    "+ `colsample_bynode`，默认为1，每次生成**一个叶子节点**时 随机抽样特征的比例"
   ]
  },
  {
   "cell_type": "markdown",
   "metadata": {},
   "source": [
    "通常不调整的参数  \n",
    "+ 学习速率`eta`或者`learning_rate`，这个参数对于模型的收敛速度影响较大，但是通常**不调整这个**，即使调整，它的值也在$[0.01, 0.2]$之间变动\n",
    "+ 采样比例`subsample`，默认为1，通常也不调整，只有在样本数据量非常大的时候才进行调整\n",
    "+ 正则化参数 L1的`alpha`或者`reg_alpha`，L2的`lambda`或者`reg_lambda`，如果要调整，通常优先选择调整L2正则参数"
   ]
  },
  {
   "cell_type": "markdown",
   "metadata": {},
   "source": [
    "观察n_estimator的学习曲线"
   ]
  },
  {
   "cell_type": "code",
   "execution_count": 89,
   "metadata": {
    "collapsed": true,
    "jupyter": {
     "outputs_hidden": true
    }
   },
   "outputs": [
    {
     "data": {
      "text/plain": [
       "<matplotlib.legend.Legend at 0x1deacc83408>"
      ]
     },
     "execution_count": 89,
     "metadata": {},
     "output_type": "execute_result"
    },
    {
     "data": {
      "image/png": "[encoded data removed]",
      "text/plain": [
       "<Figure size 720x360 with 1 Axes>"
      ]
     },
     "metadata": {
      "needs_background": "light"
     },
     "output_type": "display_data"
    }
   ],
   "source": [
    "n_estimator_range = range(10, 200, 10)\n",
    "score = []\n",
    "for n_estimator in n_estimator_range:\n",
    "    xgbr = XGBR(n_estimators=n_estimator, silent=True)\n",
    "    result = cross_val_score(xgbr, X, y, cv=5).mean()\n",
    "    score.append(result)\n",
    "    \n",
    "plt.figure(figsize=(10,5))\n",
    "plt.plot(n_estimator_range, score, c='red', label='XGBR')\n",
    "plt.legend()"
   ]
  },
  {
   "cell_type": "code",
   "execution_count": 90,
   "metadata": {},
   "outputs": [
    {
     "name": "stdout",
     "output_type": "stream",
     "text": [
      "150 0.6885265739694534\n"
     ]
    }
   ],
   "source": [
    "print(n_estimator_range[score.index(max(score))], max(score))"
   ]
  },
  {
   "cell_type": "markdown",
   "metadata": {},
   "source": [
    "重新绘制带方差和偏差的学习曲线"
   ]
  },
  {
   "cell_type": "code",
   "execution_count": 91,
   "metadata": {
    "collapsed": true,
    "jupyter": {
     "outputs_hidden": true
    }
   },
   "outputs": [
    {
     "data": {
      "text/plain": [
       "<matplotlib.legend.Legend at 0x1deac322548>"
      ]
     },
     "execution_count": 91,
     "metadata": {},
     "output_type": "execute_result"
    },
    {
     "data": {
      "image/png": "[encoded data removed]",
      "text/plain": [
       "<Figure size 720x360 with 1 Axes>"
      ]
     },
     "metadata": {
      "needs_background": "light"
     },
     "output_type": "display_data"
    }
   ],
   "source": [
    "n_estimator_range = range(10, 200, 10)\n",
    "cv = KFold(n_splits=5, shuffle=True, random_state=29)\n",
    "score = []\n",
    "var = []\n",
    "ge = []\n",
    "\n",
    "for n_estimator in n_estimator_range:\n",
    "    xgbr = XGBR(n_estimators=n_estimator, silent=True)\n",
    "    cv_result = cross_val_score(xgbr, X, y, cv=cv)\n",
    "    score.append(cv_result.mean())\n",
    "    var.append(cv_result.var())\n",
    "    ge.append((1 - cv_result.mean())**2 + cv_result.var())\n",
    "\n",
    "score = np.array(score)\n",
    "var = np.array(var)\n",
    "\n",
    "plt.figure(figsize=(10,5))\n",
    "plt.plot(n_estimator_range, score, c='yellow', label='XGBR')\n",
    "# 添加方差线\n",
    "plt.plot(n_estimator_range, score-var, c='red', linestyle='-.')\n",
    "plt.plot(n_estimator_range, score+var, c='red', linestyle='-.')\n",
    "plt.legend()"
   ]
  },
  {
   "cell_type": "markdown",
   "metadata": {},
   "source": [
    "调整增益参数$\\gamma$\n",
    "需要使用xgboost本身库里的xgboost.cv来查看效果"
   ]
  },
  {
   "cell_type": "code",
   "execution_count": 92,
   "metadata": {},
   "outputs": [],
   "source": [
    "import xgboost as XGB\n",
    "\n",
    "from time import time\n",
    "from datetime import datetime"
   ]
  },
  {
   "cell_type": "markdown",
   "metadata": {},
   "source": [
    "首先练习使用xgboost.cv()函数"
   ]
  },
  {
   "cell_type": "code",
   "execution_count": 93,
   "metadata": {},
   "outputs": [],
   "source": [
    "data = XGB.DMatrix(X,y)\n",
    "param = {'silent':True, 'obj':'reg:linear', 'gamma':0}\n",
    "num_round = 180\n",
    "n_fold = 5"
   ]
  },
  {
   "cell_type": "code",
   "execution_count": 94,
   "metadata": {},
   "outputs": [
    {
     "name": "stdout",
     "output_type": "stream",
     "text": [
      "running time : 00:00:679215\n"
     ]
    }
   ],
   "source": [
    "time0 = time()\n",
    "cv_result = XGB.cv(params=param, dtrain=data, num_boost_round=num_round, nfold=n_fold)\n",
    "time_diff = time() - time0\n",
    "print(\"running time : \" + datetime.fromtimestamp(time_diff).strftime('%M:%S:%f'))"
   ]
  },
  {
   "cell_type": "code",
   "execution_count": 95,
   "metadata": {},
   "outputs": [
    {
     "data": {
      "text/plain": [
       "pandas.core.frame.DataFrame"
      ]
     },
     "execution_count": 95,
     "metadata": {},
     "output_type": "execute_result"
    }
   ],
   "source": [
    "type(cv_result)"
   ]
  },
  {
   "cell_type": "code",
   "execution_count": 96,
   "metadata": {},
   "outputs": [
    {
     "data": {
      "text/plain": [
       "pandas.core.frame.DataFrame"
      ]
     },
     "execution_count": 96,
     "metadata": {},
     "output_type": "execute_result"
    }
   ],
   "source": [
    "cv_result.__class__"
   ]
  },
  {
   "cell_type": "code",
   "execution_count": 97,
   "metadata": {},
   "outputs": [
    {
     "data": {
      "text/html": [
       "<div>\n",
       "<style scoped>\n",
       "    .dataframe tbody tr th:only-of-type {\n",
       "        vertical-align: middle;\n",
       "    }\n",
       "\n",
       "    .dataframe tbody tr th {\n",
       "        vertical-align: top;\n",
       "    }\n",
       "\n",
       "    .dataframe thead th {\n",
       "        text-align: right;\n",
       "    }\n",
       "</style>\n",
       "<table border=\"1\" class=\"dataframe\">\n",
       "  <thead>\n",
       "    <tr style=\"text-align: right;\">\n",
       "      <th></th>\n",
       "      <th>train-rmse-mean</th>\n",
       "      <th>train-rmse-std</th>\n",
       "      <th>test-rmse-mean</th>\n",
       "      <th>test-rmse-std</th>\n",
       "    </tr>\n",
       "  </thead>\n",
       "  <tbody>\n",
       "    <tr>\n",
       "      <th>0</th>\n",
       "      <td>17.105577</td>\n",
       "      <td>0.129117</td>\n",
       "      <td>17.163215</td>\n",
       "      <td>0.584297</td>\n",
       "    </tr>\n",
       "    <tr>\n",
       "      <th>1</th>\n",
       "      <td>12.337972</td>\n",
       "      <td>0.097556</td>\n",
       "      <td>12.519736</td>\n",
       "      <td>0.473458</td>\n",
       "    </tr>\n",
       "    <tr>\n",
       "      <th>2</th>\n",
       "      <td>8.994071</td>\n",
       "      <td>0.065756</td>\n",
       "      <td>9.404534</td>\n",
       "      <td>0.472310</td>\n",
       "    </tr>\n",
       "    <tr>\n",
       "      <th>3</th>\n",
       "      <td>6.629480</td>\n",
       "      <td>0.050323</td>\n",
       "      <td>7.250335</td>\n",
       "      <td>0.500342</td>\n",
       "    </tr>\n",
       "    <tr>\n",
       "      <th>4</th>\n",
       "      <td>4.954407</td>\n",
       "      <td>0.033209</td>\n",
       "      <td>5.920812</td>\n",
       "      <td>0.591874</td>\n",
       "    </tr>\n",
       "    <tr>\n",
       "      <th>...</th>\n",
       "      <td>...</td>\n",
       "      <td>...</td>\n",
       "      <td>...</td>\n",
       "      <td>...</td>\n",
       "    </tr>\n",
       "    <tr>\n",
       "      <th>175</th>\n",
       "      <td>0.001299</td>\n",
       "      <td>0.000289</td>\n",
       "      <td>3.669898</td>\n",
       "      <td>0.857676</td>\n",
       "    </tr>\n",
       "    <tr>\n",
       "      <th>176</th>\n",
       "      <td>0.001285</td>\n",
       "      <td>0.000261</td>\n",
       "      <td>3.669897</td>\n",
       "      <td>0.857677</td>\n",
       "    </tr>\n",
       "    <tr>\n",
       "      <th>177</th>\n",
       "      <td>0.001275</td>\n",
       "      <td>0.000239</td>\n",
       "      <td>3.669903</td>\n",
       "      <td>0.857669</td>\n",
       "    </tr>\n",
       "    <tr>\n",
       "      <th>178</th>\n",
       "      <td>0.001263</td>\n",
       "      <td>0.000217</td>\n",
       "      <td>3.669901</td>\n",
       "      <td>0.857672</td>\n",
       "    </tr>\n",
       "    <tr>\n",
       "      <th>179</th>\n",
       "      <td>0.001259</td>\n",
       "      <td>0.000208</td>\n",
       "      <td>3.669901</td>\n",
       "      <td>0.857671</td>\n",
       "    </tr>\n",
       "  </tbody>\n",
       "</table>\n",
       "<p>180 rows × 4 columns</p>\n",
       "</div>"
      ],
      "text/plain": [
       "     train-rmse-mean  train-rmse-std  test-rmse-mean  test-rmse-std\n",
       "0          17.105577        0.129117       17.163215       0.584297\n",
       "1          12.337972        0.097556       12.519736       0.473458\n",
       "2           8.994071        0.065756        9.404534       0.472310\n",
       "3           6.629480        0.050323        7.250335       0.500342\n",
       "4           4.954407        0.033209        5.920812       0.591874\n",
       "..               ...             ...             ...            ...\n",
       "175         0.001299        0.000289        3.669898       0.857676\n",
       "176         0.001285        0.000261        3.669897       0.857677\n",
       "177         0.001275        0.000239        3.669903       0.857669\n",
       "178         0.001263        0.000217        3.669901       0.857672\n",
       "179         0.001259        0.000208        3.669901       0.857671\n",
       "\n",
       "[180 rows x 4 columns]"
      ]
     },
     "execution_count": 97,
     "metadata": {},
     "output_type": "execute_result"
    }
   ],
   "source": [
    "cv_result"
   ]
  },
  {
   "cell_type": "code",
   "execution_count": 98,
   "metadata": {
    "collapsed": true,
    "jupyter": {
     "outputs_hidden": true
    }
   },
   "outputs": [
    {
     "data": {
      "text/plain": [
       "<matplotlib.legend.Legend at 0x1deac6e4108>"
      ]
     },
     "execution_count": 98,
     "metadata": {},
     "output_type": "execute_result"
    },
    {
     "data": {
      "image/png": "[encoded data removed]",
      "text/plain": [
       "<Figure size 432x288 with 1 Axes>"
      ]
     },
     "metadata": {
      "needs_background": "light"
     },
     "output_type": "display_data"
    }
   ],
   "source": [
    "plt.plot(range(1, 181), cv_result.iloc[:,0], c='red', label=\"train-rmse-mean\")\n",
    "plt.plot(range(1,181), cv_result.iloc[:,1], c='orange', label='test-rmse-mean')\n",
    "plt.legend()"
   ]
  },
  {
   "cell_type": "markdown",
   "metadata": {},
   "source": [
    "使用xgboost.cv来调整$\\gamma$"
   ]
  },
  {
   "cell_type": "code",
   "execution_count": 99,
   "metadata": {},
   "outputs": [],
   "source": [
    "num_round = 180\n",
    "n_fold = 5\n",
    "param1 = {'silent':True, 'obj':'reg:linear', 'gamma':0}\n",
    "param2 = {'silent':True, 'obj':'reg:linear', 'gamma':20}\n",
    "\n",
    "cv_result1 = XGB.cv(params=param1, dtrain=data, num_boost_round=num_round, nfold=n_fold)\n",
    "cv_result2 = XGB.cv(params=param2, dtrain=data, num_boost_round=num_round, nfold=n_fold)"
   ]
  },
  {
   "cell_type": "code",
   "execution_count": 100,
   "metadata": {
    "collapsed": true,
    "jupyter": {
     "outputs_hidden": true
    }
   },
   "outputs": [
    {
     "data": {
      "text/plain": [
       "<matplotlib.legend.Legend at 0x1dea9f4d188>"
      ]
     },
     "execution_count": 100,
     "metadata": {},
     "output_type": "execute_result"
    },
    {
     "data": {
      "image/png": "[encoded data removed]",
      "text/plain": [
       "<Figure size 432x288 with 1 Axes>"
      ]
     },
     "metadata": {
      "needs_background": "light"
     },
     "output_type": "display_data"
    }
   ],
   "source": [
    "plt.plot(range(1, 181),cv_result1.iloc[:,0], c='red', label=\"train-rmse-mean,gamma=0\")\n",
    "plt.plot(range(1,181), cv_result1.iloc[:,1], c='orange', label='test-rmse-mean,gamma=0')\n",
    "plt.plot(range(1,181), cv_result2.iloc[:,0], c='green', label=\"train-rmse-mean,gamma=20\")\n",
    "plt.plot(range(1,181), cv_result2.iloc[:,1], c='blue', label='test-rmse-mean,gamma=20')\n",
    "plt.legend()"
   ]
  },
  {
   "cell_type": "markdown",
   "metadata": {},
   "source": [
    "______"
   ]
  },
  {
   "cell_type": "markdown",
   "metadata": {},
   "source": [
    "# 样本不均衡问题"
   ]
  },
  {
   "cell_type": "markdown",
   "metadata": {},
   "source": [
    "------"
   ]
  },
  {
   "cell_type": "markdown",
   "metadata": {
    "jupyter": {
     "source_hidden": true
    }
   },
   "source": [
    "# 对比随机森林和线性回归"
   ]
  }
 ],
 "metadata": {
  "kernelspec": {
   "display_name": "Python 3",
   "language": "python",
   "name": "python3"
  },
  "language_info": {
   "codemirror_mode": {
    "name": "ipython",
    "version": 3
   },
   "file_extension": ".py",
   "mimetype": "text/x-python",
   "name": "python",
   "nbconvert_exporter": "python",
   "pygments_lexer": "ipython3",
   "version": "3.7.7"
  }
 },
 "nbformat": 4,
 "nbformat_minor": 4
}
