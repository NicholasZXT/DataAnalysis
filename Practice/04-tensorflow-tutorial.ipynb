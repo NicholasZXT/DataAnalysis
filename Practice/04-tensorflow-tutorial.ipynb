{
 "cells": [
  {
   "cell_type": "code",
   "execution_count": 42,
   "metadata": {},
   "outputs": [
    {
     "name": "stdout",
     "output_type": "stream",
     "text": [
      "TensorFlow version:  1.15.0\n",
      "numpy version:  1.19.2\n"
     ]
    }
   ],
   "source": [
    "import tensorflow as tf\n",
    "import numpy as np\n",
    "from IPython.display import display\n",
    "print(\"TensorFlow version: \",tf.__version__)\n",
    "print(\"numpy version: \", np.__version__)"
   ]
  },
  {
   "cell_type": "markdown",
   "metadata": {},
   "source": [
    "# TensorFlow的基本概念"
   ]
  },
  {
   "cell_type": "markdown",
   "metadata": {},
   "source": [
    "## 张量,计算图和会话\n",
    "\n",
    "TF中主要有如下三个部分：  \n",
    "\n",
    "+ 张量——数据模型  \n",
    "张量也就是多维数组，用于表示数据. 张量有三个属性：\n",
    "  1. name\n",
    "  2. shape\n",
    "  3. dtype\n",
    "  \n",
    "\n",
    "+ 计算图——计算模型  \n",
    "计算图是整个计算过程的表示，每个`tf.Graph`包括两个部分：\n",
    "  1. Graph structure.  \n",
    "    + 图中每一个节点表示运算操作，是一个`tf.Operation`\n",
    "    \n",
    "    > Operations describe calculations that consume and produce tensors.\n",
    "    \n",
    "    + 每条边表示运算操作之间的依赖关系，是一个`tf.Tensor`\n",
    "    \n",
    "    > represent the values that will flow through the graph.\n",
    "      \n",
    "  2. Graph collections  \n",
    "  用于存储图的一些元数据。\n",
    "\n",
    "\n",
    "+ 会话——运行模型  \n",
    "计算图中定义的每个运算操作必须在一个会话中执行。\n"
   ]
  },
  {
   "cell_type": "markdown",
   "metadata": {},
   "source": [
    "TensorFlow计算图表示如下含义：  \n",
    "+ 每一个节点表示一个计算，或者说操作(operation)\n",
    "+ 节点之间的边描述了计算之间的依赖关系。\n",
    "\n",
    "<img src=\"images/f1.png\" width=\"30%\" align=\"left\">"
   ]
  },
  {
   "cell_type": "markdown",
   "metadata": {},
   "source": [
    "上述的图定义的是如下的运算：  \n",
    "$add = a + b$   \n",
    "对应的TF实现如下"
   ]
  },
  {
   "cell_type": "code",
   "execution_count": 121,
   "metadata": {},
   "outputs": [
    {
     "name": "stdout",
     "output_type": "stream",
     "text": [
      "Tensor(\"Const:0\", shape=(), dtype=int32)\n",
      "Tensor(\"Add:0\", shape=(), dtype=int32)\n"
     ]
    }
   ],
   "source": [
    "a = tf.constant(1)\n",
    "b = tf.constant(2)\n",
    "add = tf.add(a,b)\n",
    "print(a)\n",
    "print(add)"
   ]
  },
  {
   "cell_type": "markdown",
   "metadata": {},
   "source": [
    "上述定义的`add`是表示加法的这个操作，实际上，`a`和`b`也是表示操作——对应的是**常量赋值**这个操作，这就是每个节点是一个计算的含义。 \n",
    "\n",
    "`print`打印的是每个节点对应的操作下，对应输出的张量，可以看出，每个张量打印的时候，输出了张量的三种属性：name, shape, dtype.  \n",
    "\n",
    "节点a和b经过相加后得到节点add，这就是一个依赖关系。\n",
    "\n",
    "因为是定义的计算节点，所以打印出的结果并不是实际的值。**要想打印出计算节点对应的值，必须要开启一个会话，在会话中进行图的计算**."
   ]
  },
  {
   "cell_type": "code",
   "execution_count": 61,
   "metadata": {},
   "outputs": [
    {
     "name": "stdout",
     "output_type": "stream",
     "text": [
      "1\n",
      "2\n",
      "3\n"
     ]
    }
   ],
   "source": [
    "# 使用tf.Session()创建一个会话\n",
    "with tf.Session() as sess:\n",
    "    # 使用 session.run()方法实际执行图中的计算节点，传入的参数是某个节点，返回的是该计算节点对应的值\n",
    "    print(sess.run(a))\n",
    "    print(sess.run(b))\n",
    "    print(sess.run(add))"
   ]
  },
  {
   "cell_type": "markdown",
   "metadata": {},
   "source": [
    "另一种执行计算图的方式是使用`tf.InteractiveSession()`开启一个默认的会话，这样就不用每次都指定对话了。  \n",
    "实际上，`tf.InteractiveSession()`相当于\n",
    "```python\n",
    "sess=tf.Session()\n",
    "with sess.as_default():\n",
    "```"
   ]
  },
  {
   "cell_type": "code",
   "execution_count": 122,
   "metadata": {},
   "outputs": [
    {
     "name": "stdout",
     "output_type": "stream",
     "text": [
      "1\n",
      "2\n",
      "3\n"
     ]
    }
   ],
   "source": [
    "# TF中开启用于交互下的默认会话\n",
    "sess = tf.InteractiveSession()\n",
    "\n",
    "# 开启后，可以直接使用.eval()方法执行\n",
    "print(a.eval())\n",
    "print(b.eval())\n",
    "print(add.eval())\n",
    "\n",
    "# 关闭默认会话\n",
    "tf.InteractiveSession.close(sess)"
   ]
  },
  {
   "cell_type": "markdown",
   "metadata": {},
   "source": [
    "+ 以下是一个矩阵乘法的例子"
   ]
  },
  {
   "cell_type": "code",
   "execution_count": 5,
   "metadata": {},
   "outputs": [
    {
     "name": "stdout",
     "output_type": "stream",
     "text": [
      "Tensor(\"MatMul:0\", shape=(1, 1), dtype=int32)\n"
     ]
    }
   ],
   "source": [
    "# 定义两个常量赋值操作\n",
    "a = tf.constant([ [3,3] ])\n",
    "b = tf.constant([ [2], [3] ])\n",
    "\n",
    "# 定义一个矩阵乘法操作\n",
    "prod = tf.matmul(a, b)\n",
    "print(prod)"
   ]
  },
  {
   "cell_type": "code",
   "execution_count": 6,
   "metadata": {},
   "outputs": [
    {
     "name": "stdout",
     "output_type": "stream",
     "text": [
      "<class 'numpy.ndarray'> \n",
      " [[15]]\n"
     ]
    }
   ],
   "source": [
    "# 使用会话来运行上述定义的运算\n",
    "with tf.Session() as sess:\n",
    "    # 调用sess.run()方法来执行上述定义的运算\n",
    "    result = sess.run(prod)\n",
    "    print(result.__class__,\"\\n\",result)"
   ]
  },
  {
   "cell_type": "markdown",
   "metadata": {},
   "source": [
    "## 变量的使用\n",
    "\n",
    "变量`tf.Variable`有如下作用:  \n",
    "1. 保存神经网络的参数\n",
    "2. 获取神经网络中间的结果\n",
    "\n",
    "变量和张量的区别和联系：  \n",
    "1. 变量是特殊的张量，它们之间的关系，就相当于**张量是常规的值，是不可变的**，而变量可以存储不同的张量。  \n",
    "2. 变量也有张量的三个属性：name, shape, dtype。\n",
    "3. 变量的name和dtype都是不可改变的，shape虽然可以改变，但是很少见到这种用法。\n",
    "\n",
    "\n",
    "有两种方式定义变量：  \n",
    "1. `tf.Variable()`，这是一个类的初始化方法\n",
    "2. `tf.get_variable（）`，这是类的静态方法，**推荐使用这个**。\n",
    "\n",
    "注意： \n",
    "`tf.Variable()`创建变量时，如果指定的名称对应于已存在的变量，**会直接覆盖而不提示**; `tf.get_variable()`在遇到同名变量时，**则会报错提醒。**\n",
    "\n",
    "+ `tf.get_variable(\n",
    "    name, shape=None, dtype=None, initializer=None, regularizer=None,\n",
    "    trainable=None, collections=None, caching_device=None, partitioner=None,\n",
    "    validate_shape=True, use_resource=None, custom_getter=None, constraint=None,\n",
    "    synchronization=tf.VariableSynchronization.AUTO,\n",
    "    aggregation=tf.VariableAggregation.NONE\n",
    ")`  \n",
    "  **Gets an existing variable with these parameters or create a new one.**\n",
    "  + `name`，指定变量名称,必须指定。\n",
    "  + `shape`，指定维度\n",
    "  + `dtype`，指定类型， 也可以省略，TF可以自动推断\n",
    "  + `initializer`，初始化方式，可以是一个Tensor，也可以是\n",
    "  + `regularizer`,可以传入一个正则化函数，同时将该变量加入到`tf.GraphKeys.REGULARIZATION_LOSSES`这个集合里。\n",
    "  + `trainable`，布尔值，如果为True，则会将该变量加入到`tf.GraphKeys.TRAINABLE_VARIABLES`这个集合里。\n",
    "  + `collections`，一个list，包含了想加入的collections名称. 默认为`GraphKeys.GLOBAL_VARIABLES`。"
   ]
  },
  {
   "cell_type": "code",
   "execution_count": 66,
   "metadata": {},
   "outputs": [
    {
     "name": "stdout",
     "output_type": "stream",
     "text": [
      "0\n",
      "1\n",
      "2\n",
      "3\n",
      "4\n",
      "5\n"
     ]
    }
   ],
   "source": [
    "# 定义一个变量并初始化为0的操作，\n",
    "# 注意，这里只是定义初始化的方法（是用常量初始化还是用随机数初始化），但是并没有执行初始化\n",
    "state = tf.Variable(0, name=\"state\")\n",
    "\n",
    "# 定义一个运算，使var每次加1\n",
    "new_value = tf.add(state, 1)\n",
    "# 上面的方式等价于下面这种\n",
    "# new_value = state + 1\n",
    "\n",
    "# 定义赋值操作\n",
    "update = tf.assign(state, new_value)\n",
    "\n",
    "# 定义变量初始化操作\n",
    "init = tf.global_variables_initializer()\n",
    "\n",
    "# 创建会话运行上述定义的操作\n",
    "with tf.Session() as sess:\n",
    "    # 执行变量的初始化操作\n",
    "    sess.run(init)\n",
    "    print(sess.run(state))\n",
    "    for _ in range(5):\n",
    "        sess.run(update)\n",
    "        print(sess.run(state))"
   ]
  },
  {
   "cell_type": "markdown",
   "metadata": {},
   "source": [
    "这里有两个需要注意的地方：\n",
    "1. `new_value = tf.add(state,1)` **等价于** ` new_value = state + 1`，详见讨论[In tensorflow what is the difference between tf.add and operator (+)?\n",
    "](https://stackoverflow.com/questions/37900780/in-tensorflow-what-is-the-difference-between-tf-add-and-operator)\n",
    "2. `update = tf.assign(state, new_value)` 和 `state = new_value` 的区别. **有待讨论**"
   ]
  },
  {
   "cell_type": "code",
   "execution_count": 79,
   "metadata": {},
   "outputs": [
    {
     "name": "stdout",
     "output_type": "stream",
     "text": [
      "Tensor(\"Add_24:0\", shape=(), dtype=int32)\n",
      "Tensor(\"add_25:0\", shape=(), dtype=int32)\n",
      "2\n",
      "2\n",
      "---------------------------------------\n"
     ]
    }
   ],
   "source": [
    "new_value_1 = tf.add(state,1)\n",
    "new_value_2 = state + 1\n",
    "print(new_value_1)\n",
    "print(new_value_2)\n",
    "with tf.Session() as sess:\n",
    "    sess.run(init)\n",
    "    print(sess.run(new_value_1))\n",
    "    print(sess.run(new_value_2))\n",
    "    \n",
    "# print('---------------------------------------')\n",
    "\n",
    "# del update_1\n",
    "# update_1 = tf.assign(state, new_value)\n",
    "# state = new_value\n",
    "# print(update_1)\n",
    "# print(state)\n",
    "# with tf.Session() as sess:\n",
    "#     sess.run(init)\n",
    "#     print(sess.run(update_1))\n",
    "#     print(sess.run(state))"
   ]
  },
  {
   "cell_type": "markdown",
   "metadata": {},
   "source": [
    "## placeholder机制，Fetch和Feed\n",
    "\n",
    "TensorFlow 提供了 placeholder 机制用于提供输入数据。  \n",
    "placeholder 相当于定义了一个位置，这个位置中的数据在程序运行时再指定。\n",
    "\n",
    "**placeholder通常用于传入一个batch的训练数据**。\n",
    "\n",
    "Fetch是指一个session中运行多个operation。 \n",
    "\n",
    "Feed是指以字典的形式，向placeholder中传入数据。  \n",
    "\n",
    "上述两个概念都是`Session.run()`方法的参数，可以查阅该函数的帮助文档"
   ]
  },
  {
   "cell_type": "code",
   "execution_count": 8,
   "metadata": {},
   "outputs": [
    {
     "name": "stdout",
     "output_type": "stream",
     "text": [
      "[[ 0.6277467 -2.845186  -0.6237103]\n",
      " [-1.3152791 -0.8063137  1.9430356]]\n",
      "[[-6.9337564]\n",
      " [ 2.9012003]]\n"
     ]
    }
   ],
   "source": [
    "w1 = tf.Variable(tf.random_normal([2,3]))\n",
    "\n",
    "# 定义一个placeholder需要提供类型（之后不可改变），shape不是必须的，但是提供了shape可以避免歧义和错误\n",
    "x = tf.placeholder(tf.float32, shape=(3,1), name='x')\n",
    "\n",
    "# 使用placeholder代替常量进行矩阵乘法操作的定义\n",
    "y = tf.matmul(w1, x)\n",
    "\n",
    "# 变量初始化操作\n",
    "init = tf.global_variables_initializer()\n",
    "\n",
    "with tf.Session() as sess:\n",
    "    sess.run(init)\n",
    "    print(sess.run(w1))\n",
    "    # 执行y定义的操作的时候，需要传入placeholder x对应的值\n",
    "    print(sess.run(y, feed_dict={x:[[1],[2],[3]]}))"
   ]
  },
  {
   "cell_type": "markdown",
   "metadata": {},
   "source": [
    "## 损失函数\n",
    "\n",
    "[`tf.losses`](https://www.tensorflow.org/versions/r1.15/api_docs/python/tf/losses)模块封装了各种损失函数的计算operation。  \n",
    "\n",
    "默认情况下，`tf.GraphKeys.LOSSES`中的变量都会当做损失函数的参数，放入到损失函数中进行计算。"
   ]
  },
  {
   "cell_type": "code",
   "execution_count": 112,
   "metadata": {},
   "outputs": [
    {
     "data": {
      "text/plain": [
       "[<tf.Variable 'w:0' shape=(1, 1) dtype=float32_ref>]"
      ]
     },
     "metadata": {},
     "output_type": "display_data"
    },
    {
     "data": {
      "text/plain": [
       "<tf.Tensor 'x:0' shape=(1, 4) dtype=float32>"
      ]
     },
     "metadata": {},
     "output_type": "display_data"
    },
    {
     "data": {
      "text/plain": [
       "<tf.Variable 'w:0' shape=(1, 1) dtype=float32_ref>"
      ]
     },
     "metadata": {},
     "output_type": "display_data"
    },
    {
     "data": {
      "text/plain": [
       "<tf.Tensor 'y:0' shape=(1, 4) dtype=float32>"
      ]
     },
     "metadata": {},
     "output_type": "display_data"
    },
    {
     "data": {
      "text/plain": [
       "<tf.Tensor 'y_pred:0' shape=(1, 4) dtype=float32>"
      ]
     },
     "metadata": {},
     "output_type": "display_data"
    },
    {
     "data": {
      "text/plain": [
       "<tf.Tensor 'mean_squared_error/value:0' shape=() dtype=float32>"
      ]
     },
     "metadata": {},
     "output_type": "display_data"
    },
    {
     "name": "stdout",
     "output_type": "stream",
     "text": [
      "[[1. 2. 3. 4.]]\n",
      "[[-1.6390375]]\n",
      "[[ 1.  4.  9. 16.]]\n",
      "[[-1.6390375 -3.278075  -4.9171124 -6.55615  ]]\n",
      "190.6002\n"
     ]
    }
   ],
   "source": [
    "#----------这是一个线性模型的示例---------\n",
    "# 首先清空默认图的节点\n",
    "tf.reset_default_graph()\n",
    "# 以下的线性模型是 y = w*x ,没有截距项b\n",
    "# x的四个样本点，4 x 1的矩阵\n",
    "x = tf.constant(value=[[1,2,3,4]], dtype=tf.float32, name='x')\n",
    "# w 是 1维 的参数， 1x1 的矩阵\n",
    "w = tf.get_variable(name='w', initializer=tf.random_normal(shape=[1,1]), trainable=True)\n",
    "# y的实际值，对应于x的四个样本点，有四个值，4 x 1 的矩阵\n",
    "y = tf.constant(value=[[1,4,9,16]], dtype=tf.float32, name='y')\n",
    "# 预测值 y_pred = x*w\n",
    "y_pred = tf.matmul(w, x, name='y_pred')\n",
    "\n",
    "# \n",
    "display(tf.get_collection(tf.GraphKeys.TRAINABLE_VARIABLES))\n",
    "# display(tf.get_collection(tf.GraphKeys.LOSSES))\n",
    "# 平方损失函数的计算operation\n",
    "mse_loss = tf.losses.mean_squared_error(labels=y, predictions=y_pred)\n",
    "\n",
    "init = tf.global_variables_initializer()\n",
    "\n",
    "display(x)\n",
    "display(w)\n",
    "display(y)\n",
    "display(y_pred)\n",
    "display(mse_loss)\n",
    "\n",
    "with tf.Session() as sess:\n",
    "    sess.run(init)\n",
    "    print(sess.run(x))\n",
    "    print(sess.run(w))\n",
    "    print(sess.run(y))\n",
    "    print(sess.run(y_pred))\n",
    "    print(sess.run(mse_loss))"
   ]
  },
  {
   "cell_type": "code",
   "execution_count": 62,
   "metadata": {},
   "outputs": [
    {
     "data": {
      "text/plain": [
       "[]"
      ]
     },
     "execution_count": 62,
     "metadata": {},
     "output_type": "execute_result"
    }
   ],
   "source": [
    "tf.losses.get_losses()"
   ]
  },
  {
   "cell_type": "markdown",
   "metadata": {},
   "source": [
    "## 优化器  \n",
    "\n",
    "上面定义了损失函数之后，就需要对损失函数进行求梯度，进行梯度下降的优化。  \n",
    "[`tf.train`](https://www.tensorflow.org/versions/r1.15/api_docs/python/tf/train)模块封装了梯度下降的优化步骤。  \n",
    "\n",
    "其中的`tf.train.Optimizer`是所有优化器的基类，最常用的简单梯度下降优化器是`tf.train.GradientDescentOptimizer`。\n",
    "\n",
    "以`tf.train.GradientDescentOptimizer`类为例，以下说明优化器的使用。\n",
    "1. 首先优化器的必要的类构造参数是学习率，也就是梯度下降每一步的步长，以此来初始化类的实例\n",
    "```python\n",
    "tf.train.GradientDescentOptimizer(\n",
    "    learning_rate, use_locking=False, name='GradientDescent'\n",
    ")\n",
    "```\n",
    "2. 使用学习率初始化类，得到一个实例对象之后，在此对象上调用`.minimize()`方法，传入的参数是需要优化的损失函数。\n",
    "```python\n",
    "tf.train.GradientDescentOptimizer.minimize(\n",
    "    loss, global_step=None, var_list=None, gate_gradients=GATE_OP,\n",
    "    aggregation_method=None, colocate_gradients_with_ops=False, name=None,\n",
    "    grad_loss=None\n",
    ")\n",
    "```\n",
    "\n",
    "调用上面的`minimize()`方法时，其实产生了两个步骤：\n",
    "1. 计算有关参数的梯度，实际上是调用了`.compute_gradients()`方法\n",
    "2. 将梯度更新应用到有关参数上，实际上是调用了`.apply_gradients()`方法\n",
    "\n",
    "`.minimize()`方法的返回值是一个更新`var_list`的`tf.Operation`."
   ]
  },
  {
   "cell_type": "code",
   "execution_count": 120,
   "metadata": {},
   "outputs": [
    {
     "name": "stdout",
     "output_type": "stream",
     "text": [
      "运行梯度优化之前的权重和MSE：\n",
      "[[-0.6395329]]\n",
      "123.54417\n",
      "None\n",
      "运行梯度优化之后的权重和MSE：\n",
      "[[2.3401167]]\n",
      "12.565261\n"
     ]
    }
   ],
   "source": [
    "tf.reset_default_graph()\n",
    "# 以下的线性模型是 y = w*x ,没有截距项b\n",
    "# x的四个样本点，4 x 1的矩阵\n",
    "x = tf.constant(value=[[1,2,3,4]], dtype=tf.float32, name='x')\n",
    "# w 是 1维 的参数， 1x1 的矩阵\n",
    "w = tf.get_variable(name='w', initializer=tf.random_normal(shape=[1,1]), trainable=True)\n",
    "# y的实际值，对应于x的四个样本点，有四个值，4 x 1 的矩阵\n",
    "y = tf.constant(value=[[1,4,9,16]], dtype=tf.float32, name='y')\n",
    "# 预测值 y_pred = x*w\n",
    "y_pred = tf.matmul(w, x, name='y_pred')\n",
    "\n",
    "# 平方损失函数的计算operation\n",
    "mse_loss = tf.losses.mean_squared_error(labels=y, predictions=y_pred)\n",
    "\n",
    "# 定义优化器\n",
    "train_step = tf.train.GradientDescentOptimizer(learning_rate=0.05).minimize(mse_loss)\n",
    "\n",
    "init = tf.global_variables_initializer()\n",
    "\n",
    "with tf.Session() as sess:\n",
    "    sess.run(init)\n",
    "    print(\"运行梯度优化之前的权重和MSE：\")\n",
    "    print(sess.run(w))\n",
    "    print(sess.run(mse_loss))\n",
    "    \n",
    "    print(sess.run(train_step))\n",
    "    \n",
    "    print(\"运行梯度优化之后的权重和MSE：\")\n",
    "    print(sess.run(w))\n",
    "    print(sess.run(mse_loss))"
   ]
  },
  {
   "cell_type": "markdown",
   "metadata": {},
   "source": [
    "## 正则化"
   ]
  },
  {
   "cell_type": "code",
   "execution_count": 9,
   "metadata": {},
   "outputs": [
    {
     "name": "stdout",
     "output_type": "stream",
     "text": [
      "WARNING:tensorflow:\n",
      "The TensorFlow contrib module will not be included in TensorFlow 2.0.\n",
      "For more information, please see:\n",
      "  * https://github.com/tensorflow/community/blob/master/rfcs/20180907-contrib-sunset.md\n",
      "  * https://github.com/tensorflow/addons\n",
      "  * https://github.com/tensorflow/io (for I/O related ops)\n",
      "If you depend on functionality not listed there, please file an issue.\n",
      "\n",
      "[1. 2. 3.]\n",
      "7.0\n"
     ]
    }
   ],
   "source": [
    "reg_l2 = tf.contrib.layers.l2_regularizer(1.0)\n",
    "w = tf.constant([1.0,2.0,3.0])\n",
    "\n",
    "with tf.Session() as sess:\n",
    "    print(sess.run(w))\n",
    "    print(sess.run(reg_l2(w)))"
   ]
  },
  {
   "cell_type": "markdown",
   "metadata": {},
   "source": [
    "上述得到的结果就是对向量$(1,2,3)$使用L2正则得到的结果：$\\frac{1}{2}\\times 1.0 \\times(1^2+2^2+3^2)=\\frac{1}{2}\\times 1.0 \\times(1+4+9)=7$"
   ]
  },
  {
   "cell_type": "markdown",
   "metadata": {},
   "source": [
    "## 简单使用案例"
   ]
  },
  {
   "cell_type": "code",
   "execution_count": 11,
   "metadata": {},
   "outputs": [
    {
     "name": "stdout",
     "output_type": "stream",
     "text": [
      "0 [0.054953318, 0.10058578]\n",
      "20 [0.10441639, 0.19757646]\n",
      "40 [0.102669686, 0.19853504]\n",
      "60 [0.10161378, 0.19911446]\n",
      "80 [0.1009755, 0.19946471]\n",
      "100 [0.10058967, 0.19967642]\n",
      "120 [0.10035645, 0.1998044]\n",
      "140 [0.10021548, 0.19988175]\n",
      "160 [0.100130245, 0.19992852]\n",
      "180 [0.100078724, 0.1999568]\n",
      "200 [0.10004757, 0.1999739]\n"
     ]
    }
   ],
   "source": [
    "# 构造100个数据点\n",
    "x_data = np.random.rand(100)\n",
    "y_data = x_data * 0.1 + 0.2\n",
    "\n",
    "#构造一个带训练的线性模型\n",
    "a = tf.Variable(0.)\n",
    "b = tf.Variable(0.)\n",
    "y = a * x_data + b\n",
    "\n",
    "# 二次代价函数\n",
    "loss = tf.reduce_mean(tf.square(y - y_data))\n",
    "\n",
    "# 定义优化器\n",
    "optimizer = tf.train.GradientDescentOptimizer(0.2)\n",
    "\n",
    "#最小化代价函数\n",
    "train = optimizer.minimize(loss)\n",
    "\n",
    "# 初始化变量\n",
    "init = tf.global_variables_initializer()\n",
    "\n",
    "# 构建session\n",
    "with tf.Session() as sess:\n",
    "    sess.run(init)\n",
    "    for step in range(201):\n",
    "        sess.run(train)\n",
    "        if step%20 == 0:\n",
    "            print(step, sess.run([a, b]))"
   ]
  },
  {
   "cell_type": "code",
   "execution_count": 12,
   "metadata": {},
   "outputs": [
    {
     "data": {
      "text/plain": [
       "<tensorflow.python.framework.ops.Graph at 0x2695e70b908>"
      ]
     },
     "execution_count": 12,
     "metadata": {},
     "output_type": "execute_result"
    }
   ],
   "source": [
    "# 获取默认的计算图\n",
    "tf.get_default_graph()"
   ]
  },
  {
   "cell_type": "markdown",
   "metadata": {},
   "source": [
    "## 完整的神经网络程序示例\n",
    "\n",
    "有三个步骤：  \n",
    "1. 定义神经网络的结构和前向传播的输出结果。\n",
    "2. 定义损失函数以及选择反向传播优化的算法 。\n",
    "3. 生成会话（ tf.Session ）并且在训练、数据上反复运行反向传播优化算法\n",
    "\n",
    "作为示例的神经网络如下图所示：  \n",
    "**它只有一个隐藏层，并且隐藏层没有使用激活函数。**\n",
    "\n",
    "<img src=\"images/f2.png\" width=\"70%\" align=\"left\">"
   ]
  },
  {
   "cell_type": "code",
   "execution_count": 13,
   "metadata": {},
   "outputs": [
    {
     "name": "stdout",
     "output_type": "stream",
     "text": [
      "[[0.86375999 0.28490597]\n",
      " [0.07325639 0.7632372 ]\n",
      " [0.45271906 0.54229687]\n",
      " [0.72663578 0.84890511]\n",
      " [0.76819998 0.73314372]]\n",
      "[[0], [1], [1], [0], [0]]\n"
     ]
    }
   ],
   "source": [
    "# 使用numpy随机模拟数据\n",
    "from numpy.random import RandomState\n",
    "\n",
    "rnd = RandomState(29)\n",
    "datasize = 128\n",
    "# 随机生成 datesize x 2 的矩阵\n",
    "X = rnd.rand(datasize,2)\n",
    "# 对于X中的每一行，计算一个对于的 Y 值，\n",
    "Y = [ [int(x1+x2<1)] for (x1,x2) in X]\n",
    "\n",
    "print(X[:5,:])\n",
    "print(Y[:5])"
   ]
  },
  {
   "cell_type": "code",
   "execution_count": 14,
   "metadata": {},
   "outputs": [
    {
     "name": "stdout",
     "output_type": "stream",
     "text": [
      "WARNING:tensorflow:From C:\\MyProgramFiles\\Anaconda\\envs\\tensorflow1.15\\lib\\site-packages\\tensorflow_core\\python\\ops\\math_grad.py:1424: where (from tensorflow.python.ops.array_ops) is deprecated and will be removed in a future version.\n",
      "Instructions for updating:\n",
      "Use tf.where in 2.0, which has the same broadcast rule as np.where\n",
      "w1:\n",
      "[[ 0.28952682  1.9308614   0.5419188 ]\n",
      " [-0.11188115 -2.566612   -0.41635063]]\n",
      "w2:\n",
      "[[-0.64926267]\n",
      " [-0.8263266 ]\n",
      " [ 0.8473202 ]]\n",
      "经过 0 次训练，所有数据上的交叉熵损失为：0.617352\n",
      "经过 500 次训练，所有数据上的交叉熵损失为：0.224531\n",
      "经过 1000 次训练，所有数据上的交叉熵损失为：0.0864119\n",
      "经过 1500 次训练，所有数据上的交叉熵损失为：0.04642\n",
      "经过 2000 次训练，所有数据上的交叉熵损失为：0.0299731\n",
      "经过 2500 次训练，所有数据上的交叉熵损失为：0.0212891\n",
      "经过 3000 次训练，所有数据上的交叉熵损失为：0.0159384\n",
      "经过 3500 次训练，所有数据上的交叉熵损失为：0.0123008\n",
      "经过 4000 次训练，所有数据上的交叉熵损失为：0.00967179\n",
      "经过 4500 次训练，所有数据上的交叉熵损失为：0.00769481\n",
      "w1\n",
      "[[-1.5155436  0.6918462  2.008162 ]\n",
      " [-1.7760524 -3.6705172  0.9140369]]\n",
      "w2\n",
      "[[-3.071673 ]\n",
      " [-1.686208 ]\n",
      " [ 2.6975398]]\n"
     ]
    }
   ],
   "source": [
    "#---------步骤1--------------\n",
    "# 定义训练数据batch大小\n",
    "batch_size = 8\n",
    "\n",
    "# 定义神经网络的参数\n",
    "# w1是输入层到隐藏层的权重矩阵, 2 x 3\n",
    "w1 = tf.Variable(tf.random_normal([2,3]))\n",
    "# w2是隐藏层到输出层的权重大小，3 x 1\n",
    "w2 = tf.Variable(tf.random_normal([3,1]))\n",
    "\n",
    "#定义placeholder，用于接受数据\n",
    "# shape里第一个维度留None，可以用于动态适应输入的batch大小\n",
    "x_batch = tf.placeholder(tf.float32, shape=(None, 2), name=\"x_batch\")\n",
    "y_batch = tf.placeholder(tf.float32, shape=(None, 1), name=\"y_batch\")\n",
    "\n",
    "\n",
    "#---------步骤2--------------\n",
    "#定义神经网络的前向传播过程，这里采用矩阵运算\n",
    "a = tf.matmul(x_batch, w1)\n",
    "y = tf.matmul(a, w2)  # 这个 y 是神经网络输出的 y\n",
    "\n",
    "# 定义损失函数和反向传播的优化算法\n",
    "y = tf.sigmoid(y)\n",
    "# 使用交叉熵作为损失函数\n",
    "cross_entropy = - tf.reduce_mean(\n",
    "    y_batch * tf.log(tf.clip_by_value(y, 1e-10, 10)) +\n",
    "    (1-y_batch) * tf.log(tf.clip_by_value(y,1e-10, 10))\n",
    ")\n",
    "\n",
    "# 优化算法\n",
    "train_step = tf.train.AdamOptimizer(learning_rate=0.001).minimize(cross_entropy)\n",
    "\n",
    "#---------步骤3--------------\n",
    "# 开启会话，进行训练\n",
    "with tf.Session() as sess:\n",
    "    # 初始化变量\n",
    "    init = tf.global_variables_initializer()\n",
    "    sess.run(init)\n",
    "    # 打印训练之前权重矩阵的值\n",
    "    print(\"w1:\")\n",
    "    print(sess.run(w1))\n",
    "    print(\"w2:\")\n",
    "    print(sess.run(w2))\n",
    "    \n",
    "    # 设定训练轮数\n",
    "    STEPS = 5000\n",
    "    for i in range(STEPS):\n",
    "        # 每次选择batch_size个样本进行运算，这里生成的是样本的index范围\n",
    "        batch_start = (i * batch_size) % datasize\n",
    "        batch_end = min(batch_start+batch_size, datasize)\n",
    "        \n",
    "        # 对每个batch进行训练并更新参数\n",
    "        sess.run(train_step, feed_dict={x_batch:X[batch_start:batch_end,:], y_batch:Y[batch_start:batch_end]})\n",
    "        \n",
    "        # 每隔一段时间就打印一次训练过程中全部数据集上的交叉熵\n",
    "        if i%500 == 0:\n",
    "            total_cross_entropy = sess.run(cross_entropy , feed_dict={x_batch:X, y_batch:Y})\n",
    "            print(\"经过 {} 次训练，所有数据上的交叉熵损失为：{:g}\".format(i, total_cross_entropy))\n",
    "            \n",
    "    # 打印训练之后权重矩阵的值\n",
    "    print(\"w1\")\n",
    "    print(sess.run(w1))\n",
    "    print(\"w2\")\n",
    "    print(sess.run(w2))\n",
    "        "
   ]
  },
  {
   "cell_type": "markdown",
   "metadata": {},
   "source": [
    "## 模型持久化\n",
    "\n",
    "TensorFlow提供了`tf.train.Saver`类来对计算图进行保存和恢复.\n",
    "\n",
    "保存后，会在指定文件夹下产生三个文件：\n",
    "1. `xxx.ckpt.meta`文件，\n",
    "2. `xxx.ckpt`或者`xxx.ckpt.index`文件\n",
    "3. `xxx.checkpoint`文件"
   ]
  },
  {
   "cell_type": "code",
   "execution_count": 187,
   "metadata": {},
   "outputs": [
    {
     "data": {
      "text/plain": [
       "'D:\\\\Project-Workspace\\\\Python-Projects\\\\DataAnalysis\\\\Practice'"
      ]
     },
     "execution_count": 187,
     "metadata": {},
     "output_type": "execute_result"
    }
   ],
   "source": [
    "%pwd"
   ]
  },
  {
   "cell_type": "code",
   "execution_count": 190,
   "metadata": {},
   "outputs": [
    {
     "name": "stdout",
     "output_type": "stream",
     "text": [
      "[3.]\n"
     ]
    }
   ],
   "source": [
    "v1 = tf.Variable(tf.constant(1.0, shape=[1]), name='v1')\n",
    "v2 = tf.Variable(tf.constant(2.0, shape=[1]), name='v2')\n",
    "result = v1 + v2\n",
    "init = tf.global_variables_initializer()\n",
    "\n",
    "# 实例化保存模型的类，相当于创建了一个保存计算图的 tf.Opeartion\n",
    "saver = tf.train.Saver()\n",
    "\n",
    "with tf.Session() as sess:\n",
    "    sess.run(init)\n",
    "    print(sess.run(result))\n",
    "    saver.save(sess, \"./TensorFlow-Models/model-save-test.ckpt\")"
   ]
  },
  {
   "cell_type": "code",
   "execution_count": 192,
   "metadata": {},
   "outputs": [],
   "source": [
    "# 加载已保存的模型\n",
    "# saver = tf.train.import_meta_graph(\"./TensorFlow-Models/model-save-test.ckpt.meta\")\n",
    "\n",
    "# with tf.Session() as sess:\n",
    "#     saver.restore(sess, \"./TensorFlow-Models/model-save-test.ckpt.index\")\n",
    "#     print(sess.run(tf.get_default_graph().get_tensor_by_name(\"v1:0\")))"
   ]
  },
  {
   "cell_type": "markdown",
   "metadata": {},
   "source": [
    "-----"
   ]
  },
  {
   "cell_type": "markdown",
   "metadata": {},
   "source": [
    "# TensorFlow提供的网络结构 \n",
    "\n",
    "TensorFlow有4个module提供网络结构：\n",
    "1. `tf.nn`——这是最低层的网络结构API\n",
    "2. `tf.layers`——它是对`tf.nn`的封装，高一级的API\n",
    "3. `tf.keras`——keras封装，\n",
    "4. `tf.contrib`——这个在1.15版本中已经被废弃了"
   ]
  },
  {
   "cell_type": "markdown",
   "metadata": {},
   "source": [
    "## 全连接层"
   ]
  },
  {
   "cell_type": "markdown",
   "metadata": {},
   "source": [
    "## Softmax层"
   ]
  },
  {
   "cell_type": "code",
   "execution_count": 127,
   "metadata": {},
   "outputs": [
    {
     "name": "stdout",
     "output_type": "stream",
     "text": [
      "[0.0320586  0.08714432 0.23688284 0.6439143 ]\n",
      "[0.0320586  0.08714432 0.23688282 0.64391426]\n",
      "1.0\n",
      "1.0\n"
     ]
    }
   ],
   "source": [
    "# TF自带的softmax层\n",
    "w = tf.constant([1.,2.,3.,4.])\n",
    "res = tf.nn.softmax(w)\n",
    "\n",
    "# 手动编写的sotfmax计算过程\n",
    "w_ = np.array([1,2,3,4])\n",
    "res_ = np.exp(w_)/np.exp(w_).sum()\n",
    "\n",
    "with tf.Session() as sess:\n",
    "    res_value = sess.run(res)\n",
    "    print(res_value)\n",
    "    print(res_)\n",
    "    print(res_value.sum())\n",
    "    print(res_.sum())"
   ]
  },
  {
   "cell_type": "markdown",
   "metadata": {},
   "source": [
    "## 卷积层"
   ]
  },
  {
   "cell_type": "markdown",
   "metadata": {},
   "source": [
    "-----"
   ]
  },
  {
   "cell_type": "markdown",
   "metadata": {},
   "source": [
    "# 计算图和会话细节"
   ]
  },
  {
   "cell_type": "markdown",
   "metadata": {},
   "source": [
    "## 构建计算图\n",
    "\n",
    "一般来说，TensorFlow会有一个默认的计算图，没有特殊说明的情况下，所有的操作都在这个默认的计算图上进行。  \n",
    "比如：\n",
    "1. `tf.constant(42.0)`这个操作，会生成一个`tf.Operation`的节点，并将这个节点加入到默认的计算图中，同时返回一个`tf.Tensor`——存储了42这个值。\n",
    "2. `tf.matmul(x,y)`这个操作，会生成一个`tf.Operation`的节点，它会将`x`和`y`的值进行矩阵相乘，并将此节点加入默认的计算图，同时返回一个`tf.Tensor`。"
   ]
  },
  {
   "cell_type": "markdown",
   "metadata": {},
   "source": [
    "## 计算图的命名空间\n",
    "\n",
    "每个计算图都维护了一个命名空间，其中包含了所有和此计算图相关的`tf.operation`.  \n",
    "\n",
    "计算图中的每个`tf.Operation`的名称都是唯一的，如果创建的时候有重复，就会在后面加上一个`_1`,`_2`的后缀.  \n",
    "```python\n",
    "c_0 = tf.constant(0, name=\"c\")  # => operation named \"c\"\n",
    "\n",
    "# Already-used names will be \"uniquified\".\n",
    "c_1 = tf.constant(2, name=\"c\")  # => operation named \"c_1\"\n",
    "```\n",
    "\n",
    "\n",
    "**可以通过`tf.name_scope()`来显式创建一个命名空间**，它会在operation前加上一个`/`的前缀，具体规则如下：\n",
    "```python\n",
    "# Name scopes add a prefix to all operations created in the same context.\n",
    "with tf.name_scope(\"outer\"):\n",
    "  c_2 = tf.constant(2, name=\"c\")  # => operation named \"outer/c\"\n",
    "\n",
    "  # Name scopes nest like paths in a hierarchical file system.\n",
    "  with tf.name_scope(\"inner\"):\n",
    "    c_3 = tf.constant(3, name=\"c\")  # => operation named \"outer/inner/c\"\n",
    "\n",
    "  # Exiting a name scope context will return to the previous prefix.\n",
    "  c_4 = tf.constant(4, name=\"c\")  # => operation named \"outer/c_1\"\n",
    "\n",
    "  # Already-used name scopes will be \"uniquified\".\n",
    "  with tf.name_scope(\"inner\"):\n",
    "    c_5 = tf.constant(5, name=\"c\")  # => operation named \"outer/inner_1/c\"\n",
    "```"
   ]
  },
  {
   "cell_type": "markdown",
   "metadata": {},
   "source": [
    "## 变量集合\n",
    "\n",
    "由于需要对计算图中不同的节点所表示的`tf.Opertion`进行管理，TF提供了variable collection机制——每个collection就是一系列Tensor或者变量的名称列表。\n",
    "\n",
    "默认下，每个`tf.Variable`会被加入到下面两个集合\n",
    "+ `tf.GraphKeys.GLOBAL_VARIABLES` --- variables that can be shared across multiple devices.\n",
    "+ `tf.GraphKeys.TRAINABLE_VARIABLES` --- variables for which TensorFlow will calculate gradients. 也就是进行训练的参数\n",
    "\n",
    "常用的一些变量集合如下，它们都在`tf.GraphKeys`中：\n",
    "+ `GLOBAL_VARIABLES`: 该collection默认加入所有的Variable对象，并且在分布式环境中共享。  \n",
    "一般来说，TRAINABLE_VARIABLES包含在MODEL_VARIABLES中，MODEL_VARIABLES包含在GLOBAL_VARIABLES中。\n",
    "+ `LOCAL_VARIABLES`: 与GLOBAL_VARIABLES不同的是，它只包含本机器上的Variable，即不能在分布式环境中共享。\n",
    "+ `MODEL_VARIABLES`: 顾名思义，模型中的变量，在构建模型中，所有用于正向传递的Variable都将添加到这里。\n",
    "+ `TRAINALBEL_VARIABLES`: 所有用于反向传递的Variable，即可训练(可以被optimizer优化，进行参数更新)的变量。\n",
    "+ `SUMMARIES`: 跟Tensorboard相关，这里的Variable都由tf.summary建立并将用于可视化。\n",
    "+ `QUEUE_RUNNERS`: the QueueRunner objects that are used to produce input for a computation.\n",
    "+ `MOVING_AVERAGE_VARIABLES`: the subset of Variable objects that will also keep moving averages.\n",
    "+ `REGULARIZATION_LOSSES`: regularization losses collected during graph construction."
   ]
  },
  {
   "cell_type": "code",
   "execution_count": 30,
   "metadata": {},
   "outputs": [
    {
     "data": {
      "text/plain": [
       "'variables'"
      ]
     },
     "execution_count": 30,
     "metadata": {},
     "output_type": "execute_result"
    }
   ],
   "source": [
    "tf.GraphKeys.GLOBAL_VARIABLES"
   ]
  },
  {
   "cell_type": "code",
   "execution_count": 52,
   "metadata": {},
   "outputs": [
    {
     "data": {
      "text/plain": [
       "[<tf.Variable 'train/w1:0' shape=(784, 500) dtype=float32_ref>,\n",
       " <tf.Variable 'train/w2:0' shape=(500, 10) dtype=float32_ref>,\n",
       " <tf.Variable 'train/b1:0' shape=(500,) dtype=float32_ref>,\n",
       " <tf.Variable 'train/b2:0' shape=(10,) dtype=float32_ref>,\n",
       " <tf.Variable 'train/Variable:0' shape=() dtype=int32_ref>,\n",
       " <tf.Variable 'train_1/Variable:0' shape=() dtype=int32_ref>,\n",
       " <tf.Variable 'train_2/Variable:0' shape=() dtype=int32_ref>,\n",
       " <tf.Variable 'train_3/Variable:0' shape=() dtype=int32_ref>]"
      ]
     },
     "execution_count": 52,
     "metadata": {},
     "output_type": "execute_result"
    }
   ],
   "source": [
    "# 通过此函数获取每个集合所包含的变量\n",
    "tf.get_collection(tf.GraphKeys.GLOBAL_VARIABLES)"
   ]
  },
  {
   "cell_type": "code",
   "execution_count": 51,
   "metadata": {},
   "outputs": [],
   "source": [
    "# 将变量加入到某个集合\n",
    "# tf.add_to_collection(\"my_collection_name\", my_local)"
   ]
  },
  {
   "cell_type": "markdown",
   "metadata": {},
   "source": [
    "## 变量作用域和共享\n",
    "\n",
    "详见官方文档[https://github.com/tensorflow/docs/blob/master/site/en/r1/guide/variables.md#sharing-variables](Sharing variables).  \n",
    "\n",
    "通过`tf.variable_scope()`创建一个变量作用域，此后生成并操作的`tf.operation`都在这个作用域中。"
   ]
  },
  {
   "cell_type": "markdown",
   "metadata": {},
   "source": [
    "## 会话和硬件设备\n",
    "\n",
    "`tf.Session`提供了对实际硬件设备的访问，这个硬件设备可以是本地机器上的运行环境，也可以是远程的分布式集群运行环境。\n",
    "\n",
    "每个计算图都必须在一个Session中执行，使用`tf.Session().run()`方法来执行计算图中的某个子节点所表示的`tf.Opertaion`，它会返回对应的Tensor的值。\n",
    "\n",
    "**注意，一个Session一旦执行完一个计算图，关闭之后，就再也无法获取到这个计算图里的信息了，必须要将其中的内容保存下来才可以看到**.  "
   ]
  },
  {
   "cell_type": "markdown",
   "metadata": {},
   "source": [
    "## 计算设备管理\n",
    "\n",
    "Tensorflow为了在执行操作的时候，充分利用计算资源，可以明确指定操作在哪个设备上执行。  \n",
    "一般情况下，不需要显示指定使用CPU还是GPU，TensorFlow会自动检测。如果检测到GPU，TensorFlow会尽可能地利用第一个GPU来执行操作。  \n",
    "注意：**如果机器上有超过一个可用的GPU，那么除了第一个外其它GPU默认是不参与计算的** .  \n",
    "所以，在实际TensorFlow编程中，经常需要明确给定使用的CPU和GPU。\n",
    "\n",
    "TensorFlow给设备的命名方式为：\n",
    "1. \"/cpu:0\"：表示使用CPU计算，**默认下，即使有多个CPU，TensorFlow也不会做区分，统一使用此名称**.\n",
    "2. \"/gpu:0\"：表示使用第一个GPU运算，如果有的话\n",
    "3. \"/gpu:1\"：表示使用第二个GPU运算，以此类推\n",
    "\n",
    "\n",
    "TensorFlow提供了`tf.device()`方法对设备进行管理，设备的具体命名指定方式见官方文档[Placing operations on different devices](https://github.com/tensorflow/docs/blob/master/site/en/r1/guide/graphs.md#placing-operations-on-different-devices) :    \n",
    "`/job:<JOB_NAME>/task:<TASK_INDEX>/device:<DEVICE_TYPE>:<DEVICE_INDEX>`  \n",
    "+ `<JOB_NAME>` is an alpha-numeric string that does not start with a number.\n",
    "+ `<DEVICE_TYPE>` is a registered device type (such as GPU or CPU).\n",
    "+ `<TASK_INDEX>` is a non-negative integer representing the index of the task in the job named <JOB_NAME>. See tf.train.ClusterSpec for an explanation of jobs and tasks.\n",
    "+ `<DEVICE_INDEX>` is a non-negative integer representing the index of the device, for example, to distinguish between different GPU devices used in the same process.\n",
    "\n",
    "\n",
    "+ 管理设备\n",
    "  + 要验证TensorFlow正在使用的设备，可以在创建会话时，指定配置为`config=tf.ConfigProto(log_device_placement=True)`，运行的时候就会打印出参与运算的设备；\n",
    "  + 要指定使用某个设备，可以使用`with tf.device():`上下文"
   ]
  },
  {
   "cell_type": "code",
   "execution_count": 177,
   "metadata": {},
   "outputs": [
    {
     "name": "stdout",
     "output_type": "stream",
     "text": [
      "Device mapping:\n",
      "/job:localhost/replica:0/task:0/device:GPU:0 -> device: 0, name: GeForce RTX 2060, pci bus id: 0000:01:00.0, compute capability: 7.5\n",
      "\n",
      "[2. 4. 6.]\n",
      "\n",
      "-----------------------------------\n",
      "\n",
      "[]\n",
      "Device mapping:\n",
      "/job:localhost/replica:0/task:0/device:GPU:0 -> device: 0, name: GeForce RTX 2060, pci bus id: 0000:01:00.0, compute capability: 7.5\n",
      "\n",
      "[2. 4. 6.]\n"
     ]
    }
   ],
   "source": [
    "tf.reset_default_graph()\n",
    "# 打印设备使用日志\n",
    "a = tf.constant([1.0, 2.0, 3.0], shape=[3], name='a')\n",
    "b = tf.constant([1.0, 2.0, 3.0], shape=[3], name='b')\n",
    "c = a + b\n",
    "with tf.Session( config=tf.ConfigProto(log_device_placement=True) ) as sess:\n",
    "    print( sess.run(c) )\n",
    "\n",
    "print(\"\\n-----------------------------------\\n\")\n",
    "\n",
    "tf.reset_default_graph()\n",
    "print(tf.get_collection(tf.GraphKeys.GLOBAL_VARIABLES))\n",
    "# config = tf.ConfigProto(device_count = {'GPU': 0})\n",
    "# 指定使用CPU进行计算\n",
    "with tf.device('/CPU:0'):\n",
    "    a = tf.constant([1.0, 2.0, 3.0], shape=[3])\n",
    "    b = tf.constant([1.0, 2.0, 3.0], shape=[3])\n",
    "    c = a + b\n",
    "    with tf.Session( config=tf.ConfigProto(log_device_placement=True) ) as sess:\n",
    "#     with tf.Session( config=tf.ConfigProto(log_device_placement=True, device_count={'CPU':0}) ) as sess:\n",
    "        print( sess.run(c) )"
   ]
  },
  {
   "cell_type": "code",
   "execution_count": 180,
   "metadata": {},
   "outputs": [
    {
     "name": "stdout",
     "output_type": "stream",
     "text": [
      "Device mapping:\n",
      "/job:localhost/replica:0/task:0/device:GPU:0 -> device: 0, name: GeForce RTX 2060, pci bus id: 0000:01:00.0, compute capability: 7.5\n",
      "\n",
      "[2. 4. 6.]\n"
     ]
    }
   ],
   "source": [
    "tf.reset_default_graph()\n",
    "a = tf.constant([1.0, 2.0, 3.0], shape=[3])\n",
    "b = tf.constant([1.0, 2.0, 3.0], shape=[3])\n",
    "c = a + b\n",
    "with tf.Session( config=tf.ConfigProto(log_device_placement=True) ) as sess:\n",
    "# with tf.Session( config=tf.ConfigProto(log_device_placement=True, device_count={'CPU':0}) ) as sess:\n",
    "    print( sess.run(c) )"
   ]
  },
  {
   "cell_type": "markdown",
   "metadata": {},
   "source": [
    "----"
   ]
  },
  {
   "cell_type": "markdown",
   "metadata": {},
   "source": [
    "# TensorBoard使用"
   ]
  },
  {
   "cell_type": "code",
   "execution_count": 32,
   "metadata": {},
   "outputs": [],
   "source": [
    "a = tf.constant(1)\n",
    "b = tf.constant(2)\n",
    "add = tf.add(a,b)\n",
    "\n",
    "writer = tf.summary.FileWriter(\"./logs\", tf.get_default_graph())\n",
    "writer.close()"
   ]
  },
  {
   "cell_type": "markdown",
   "metadata": {},
   "source": [
    "----"
   ]
  },
  {
   "cell_type": "markdown",
   "metadata": {},
   "source": [
    "# TensorFlow 常用API结构"
   ]
  },
  {
   "cell_type": "markdown",
   "metadata": {},
   "source": [
    "+ [`tf.layers`](https://www.tensorflow.org/versions/r1.15/api_docs/python/tf/layers)\n",
    "  + [`class Dense`](https://www.tensorflow.org/versions/r1.15/api_docs/python/tf/layers/Dense): 全连接层"
   ]
  },
  {
   "cell_type": "markdown",
   "metadata": {},
   "source": [
    "+ [`tf.lossess`](https://www.tensorflow.org/versions/r1.15/api_docs/python/tf/losses) 损失函数的模块.  \n",
    "  **注意，以下都是Function，不是Class**\n",
    "  + `get_losses(...)`: Gets the list of losses from the loss_collection.\n",
    "  + `get_regularization_loss(...)`: Gets the total regularization loss.\n",
    "  + `get_regularization_losses(...)`: Gets the list of regularization losses.\n",
    "  + `get_total_loss(...)`: Returns a tensor whose value represents the total loss.\n",
    "  + `absolute_difference(...)`: Adds an Absolute Difference loss to the training procedure.\n",
    "  + `hinge_loss(...)`: Adds a hinge loss to the training procedure.\n",
    "  + `huber_loss(...)`: Adds a Huber Loss term to the training procedure.\n",
    "  + `log_loss(...)`: Adds a Log Loss term to the training procedure.\n",
    "  + `mean_pairwise_squared_error(...)`: Adds a pairwise-errors-squared loss to the training procedure.\n",
    "  + `mean_squared_error(...)`: Adds a Sum-of-Squares loss to the training procedure.\n",
    "  + `sigmoid_cross_entropy(...)`: Creates a cross-entropy loss using tf.nn.sigmoid_cross_entropy_with_logits.\n",
    "  + `softmax_cross_entropy(...)`: Creates a cross-entropy loss using tf.nn.softmax_cross_entropy_with_logits_v2."
   ]
  },
  {
   "cell_type": "markdown",
   "metadata": {},
   "source": [
    "----"
   ]
  },
  {
   "cell_type": "markdown",
   "metadata": {},
   "source": [
    "# MNIST手写数据集识别练习"
   ]
  },
  {
   "cell_type": "code",
   "execution_count": 128,
   "metadata": {},
   "outputs": [],
   "source": [
    "import tensorflow as tf\n",
    "import numpy as np\n",
    "from tensorflow.examples.tutorials.mnist import input_data\n",
    "\n",
    "import matplotlib.pyplot as plt\n",
    "import plotly.express as px\n",
    "\n",
    "%matplotlib inline"
   ]
  },
  {
   "cell_type": "code",
   "execution_count": 3,
   "metadata": {},
   "outputs": [
    {
     "data": {
      "text/plain": [
       "'D:\\\\Project-Workspace\\\\Python-Projects\\\\DataAnalysis\\\\Practice'"
      ]
     },
     "execution_count": 3,
     "metadata": {},
     "output_type": "execute_result"
    }
   ],
   "source": [
    "pwd"
   ]
  },
  {
   "cell_type": "code",
   "execution_count": 4,
   "metadata": {},
   "outputs": [
    {
     "name": "stdout",
     "output_type": "stream",
     "text": [
      "[WinError 2] 系统找不到指定的文件。: './Practice'\n",
      "D:\\Project-Workspace\\Python-Projects\\DataAnalysis\\Practice\n"
     ]
    }
   ],
   "source": [
    "cd ./Practice"
   ]
  },
  {
   "cell_type": "code",
   "execution_count": 129,
   "metadata": {},
   "outputs": [
    {
     "name": "stdout",
     "output_type": "stream",
     "text": [
      "Extracting ./datasets/MNIST_data/train-images-idx3-ubyte.gz\n",
      "Extracting ./datasets/MNIST_data/train-labels-idx1-ubyte.gz\n",
      "Extracting ./datasets/MNIST_data/t10k-images-idx3-ubyte.gz\n",
      "Extracting ./datasets/MNIST_data/t10k-labels-idx1-ubyte.gz\n"
     ]
    }
   ],
   "source": [
    "mnist = input_data.read_data_sets('./datasets/MNIST_data/', one_hot=True)"
   ]
  },
  {
   "cell_type": "code",
   "execution_count": 130,
   "metadata": {},
   "outputs": [
    {
     "name": "stdout",
     "output_type": "stream",
     "text": [
      "number of tranning examples:    55000\n",
      "number of validation examples:  5000\n",
      "number of test examples:        10000\n"
     ]
    }
   ],
   "source": [
    "print(\"number of tranning examples:   \",mnist.train.num_examples)\n",
    "print(\"number of validation examples: \", mnist.validation.num_examples)\n",
    "print(\"number of test examples:       \", mnist.test.num_examples)"
   ]
  },
  {
   "cell_type": "code",
   "execution_count": 131,
   "metadata": {},
   "outputs": [
    {
     "name": "stdout",
     "output_type": "stream",
     "text": [
      "train.shape:         (55000, 784)\n",
      "train_labels.shape:  (55000, 10)\n",
      "[0. 0. 0. 0. 0. 0. 0. 1. 0. 0.]\n"
     ]
    }
   ],
   "source": [
    "# 每一张图片是 28*28 像素，被拉成了一个 28*28=784的行向量\n",
    "print(\"train.shape:        \",mnist.train.images.shape)\n",
    "\n",
    "# 每张图片对应的分类是一个10维向量，对应于10个分类\n",
    "print(\"train_labels.shape: \",mnist.train.labels.shape)\n",
    "\n",
    "# print(mnist.train.images[0])\n",
    "print(mnist.train.labels[0])"
   ]
  },
  {
   "cell_type": "code",
   "execution_count": 132,
   "metadata": {},
   "outputs": [
    {
     "data": {
      "text/plain": [
       "True"
      ]
     },
     "execution_count": 132,
     "metadata": {},
     "output_type": "execute_result"
    }
   ],
   "source": [
    "plt.isinteractive()"
   ]
  },
  {
   "cell_type": "code",
   "execution_count": 133,
   "metadata": {},
   "outputs": [
    {
     "data": {
      "image/png": "[encoded data removed]",
      "text/plain": [
       "<Figure size 864x576 with 6 Axes>"
      ]
     },
     "metadata": {},
     "output_type": "display_data"
    }
   ],
   "source": [
    "# plt.imshow(mnist.train.images[0].reshape(28,28))\n",
    "# px.imshow(mnist.train.images[2].reshape(28,28))\n",
    "\n",
    "nrow=2; ncol=3\n",
    "fig, axes = plt.subplots(nrow,ncol,figsize=(4*ncol,4*nrow))\n",
    "for i in range(nrow):\n",
    "    for j in range(ncol):\n",
    "        axes[i,j].imshow(mnist.train.images[ i*nrow+(j+1) ].reshape(28,28))"
   ]
  },
  {
   "cell_type": "markdown",
   "metadata": {},
   "source": [
    "## DNN模型\n",
    "\n",
    "这里构建一个 **输入层 + 隐藏层1 + 隐藏层2 + softmax层**，一共4层的神经网络，使用的内容如下：  \n",
    "+ 每一层的激活函数使用ReLU函数\n",
    "+ 损失函数使用L2正则项\n",
    "+ 使用衰减的指数学习率"
   ]
  },
  {
   "cell_type": "code",
   "execution_count": 145,
   "metadata": {},
   "outputs": [],
   "source": [
    "#------配置相关参数------\n",
    "# 输入层节点数\n",
    "INPUT_NODE = 784\n",
    "# 输出层节点数——对应于10个分类\n",
    "OUTPUT_NODE = 10\n",
    "# 隐藏层1的节点数\n",
    "LAYER_1_NODE = 500\n",
    "# 隐藏层2的节点数\n",
    "LAYER_2_NODE = 10\n",
    "\n",
    "# batch大小\n",
    "BATCH_SIZE = 100\n",
    "\n",
    "# 训练轮次\n",
    "TRAIN_STEPS = 3000\n",
    "\n",
    "# 基础学习率和衰减率\n",
    "LEARN_RATE = 0.8\n",
    "DECAY_RATE = 0.9\n",
    "\n",
    "# 正则化系数\n",
    "LAMBDA = 0.01"
   ]
  },
  {
   "cell_type": "code",
   "execution_count": 182,
   "metadata": {},
   "outputs": [],
   "source": [
    "def network_calculate(input_tensor, w1, b1, w2, b2):\n",
    "    \"\"\"\n",
    "    计算网络前向传播得到的结果,不包括softmax层\n",
    "    这里的网络是全连接层\n",
    "    \"\"\"\n",
    "    # 隐藏层1的结果，使用了ReLU激活函数\n",
    "    layer1 = tf.nn.relu(tf.matmul(input_tensor, w1) + b1)\n",
    "    # 隐藏层2的结果，仍然使用ReLU\n",
    "    layer2 = tf.nn.relu(tf.matmul(layer1, w2) + b2)\n",
    "    # softmax层\n",
    "    # softmax = tf.nn.softmax(layer2)\n",
    "    # 返回softmax层\n",
    "    #return softmax\n",
    "    # 这里不直接返回softmax层的结果，而是返回进行softmax之前的值\n",
    "    return layer2\n",
    "\n",
    "\n",
    "def network_predict(input_tensor, w1, b1, w2, b2):\n",
    "    \"\"\"\n",
    "    用于计算网络前向传播得到的结果,这个返回的是softmax层之后的结果\n",
    "    \"\"\"\n",
    "    # 隐藏层1的结果，使用了ReLU激活函数\n",
    "    layer1 = tf.nn.relu(tf.matmul(input_tensor, w1) + b1)\n",
    "    # 隐藏层2的结果，仍然使用ReLU\n",
    "    layer2 = tf.nn.relu(tf.matmul(layer1, w2) + b2)\n",
    "    # softmax层\n",
    "    softmax = tf.nn.softmax(layer2)\n",
    "    # 返回softmax层\n",
    "    return softmax\n",
    "\n",
    "\n",
    "def network_train(mnist):\n",
    "    \"\"\"\n",
    "    用于训练网络的函数\n",
    "    \"\"\"\n",
    "    x_batch = tf.placeholder(tf.float32, shape=[None, INPUT_NODE], name='x_batch')\n",
    "    y_batch = tf.placeholder(tf.float32, shape=[None, OUTPUT_NODE], name='y_batch')\n",
    "    \n",
    "    # 定义正则化函数\n",
    "    reg_l2 = tf.contrib.layers.l2_regularizer(LAMBDA)\n",
    "    \n",
    "    # 定义两个隐藏层的参数，并将这两个隐藏层的参数加入到losses集合里\n",
    "    w1 = tf.get_variable(name='w1', dtype=tf.float32, \n",
    "                        initializer=tf.random_normal([INPUT_NODE, LAYER_1_NODE]),\n",
    "                        regularizer=reg_l2)\n",
    "    w2 = tf.get_variable(name='w2', dtype=tf.float32, \n",
    "                        initializer=tf.random_normal([LAYER_1_NODE, LAYER_2_NODE]),\n",
    "                        regularizer=reg_l2)\n",
    "    # 注意，一般不对偏置项做正则化，所以不用将它们加入到对应的loss集合里\n",
    "    b1 = tf.get_variable(name='b1', dtype=tf.float32,\n",
    "                        initializer=tf.constant(0.1, shape=[LAYER_1_NODE]))\n",
    "    b2 = tf.get_variable(name='b2', dtype=tf.float32,\n",
    "                        initializer=tf.constant(0.1, shape=[LAYER_2_NODE]))\n",
    "    \n",
    "    # 定义网络前向传播结果的计算，注意，这里得到的结果不包括softmax层\n",
    "    y_pred = network_calculate(x_batch,w1,b1,w2,b2)\n",
    "    \n",
    "    # 定义交叉熵损失函数的计算，这里使用TF自带的损失函数，它在计算的时候会包括softmax这一步\n",
    "    cross_entropy = tf.nn.softmax_cross_entropy_with_logits(labels=y_batch, logits=y_pred)\n",
    "    cross_entropy_mean = tf.reduce_mean(cross_entropy)\n",
    "    \n",
    "    # 计算L2正则化损失\n",
    "    # loss = cross_entropy_mean + reg_l2(w1) + reg_l2(w2)\n",
    "    # 提取出经过正则化的变量集合\n",
    "    reg_variables = tf.get_collection(tf.GraphKeys.REGULARIZATION_LOSSES)\n",
    "    # 总的损失函数\n",
    "    loss = cross_entropy_mean + tf.add_n(reg_variables)\n",
    "    \n",
    "    # 定义指数衰减的学习率\n",
    "    # 定义全局的步数，这个变量不需要训练，不加入train集合, 所以trainable=False\n",
    "    global_step = tf.Variable(0, trainable=False)\n",
    "    learning_rate = tf.train.exponential_decay(learning_rate=LEARN_RATE, global_step=global_step,\n",
    "                                               decay_steps=mnist.train.num_examples/BATCH_SIZE,\n",
    "                                               decay_rate=DECAY_RATE)\n",
    "    \n",
    "    # 定义梯度学习的优化器\n",
    "    train_step = tf.train.GradientDescentOptimizer(learning_rate=learning_rate)\\\n",
    "                   .minimize(loss, global_step=global_step)\n",
    "    \n",
    "    # 初始化会话并开始训练\n",
    "    with tf.Session(config=tf.ConfigProto(log_device_placement=True)) as sess:\n",
    "        # 初始化所有变量\n",
    "        sess.run(tf.global_variables_initializer())\n",
    "        # 准备验证集\n",
    "        feed_valid = {x_batch:mnist.validation.images, y_batch:mnist.validation.labels}\n",
    "        # 迭代训练\n",
    "        for step in range(TRAIN_STEPS):\n",
    "            xs, ys = mnist.train.next_batch(BATCH_SIZE)\n",
    "            sess.run(train_step, feed_dict={x_batch:xs, y_batch:ys})\n",
    "            # 每 200 轮输出一次在验证集上的loss\n",
    "            if (step+1) % 200 == 0:\n",
    "                valid_loss = sess.run(loss, feed_dict=feed_valid)\n",
    "                print(\"经过 {} 轮训练后的在验证集上的交叉熵误差为：{:g}\".format(step+1, valid_loss))\n",
    "                \n",
    "        # 由于整个计算图的数据只有在运行的Session中才能获得，所以需要在Session关闭前保存最终得到的两层神经网络的权重值并返回\n",
    "        weights_1, weights_2, bias_1, bias_2 = sess.run((w1,w2,b1,b2))\n",
    "    \n",
    "    # 不能返回 w1,w2,b1,b2，它们只是variable,其中存储的最终的张量值只在上面的Session中存在，上面的Session一旦关闭，其中存储的张量值就消失了。\n",
    "    # return w1,w2,b1,b2\n",
    "    return weights_1,weights_2,bias_1,bias_2"
   ]
  },
  {
   "cell_type": "code",
   "execution_count": 185,
   "metadata": {},
   "outputs": [
    {
     "name": "stdout",
     "output_type": "stream",
     "text": [
      "Device mapping:\n",
      "/job:localhost/replica:0/task:0/device:GPU:0 -> device: 0, name: GeForce RTX 2060, pci bus id: 0000:01:00.0, compute capability: 7.5\n",
      "\n",
      "经过 200 轮训练后的在验证集上的交叉熵误差为：99.3619\n",
      "经过 400 轮训练后的在验证集上的交叉熵误差为：5.56047\n",
      "经过 600 轮训练后的在验证集上的交叉熵误差为：1.10361\n",
      "经过 800 轮训练后的在验证集上的交叉熵误差为：1.03651\n",
      "经过 1000 轮训练后的在验证集上的交叉熵误差为：0.81599\n",
      "经过 1200 轮训练后的在验证集上的交叉熵误差为：0.851319\n",
      "经过 1400 轮训练后的在验证集上的交叉熵误差为：0.789365\n",
      "经过 1600 轮训练后的在验证集上的交叉熵误差为：0.769514\n",
      "经过 1800 轮训练后的在验证集上的交叉熵误差为：0.789302\n",
      "经过 2000 轮训练后的在验证集上的交叉熵误差为：0.783041\n",
      "经过 2200 轮训练后的在验证集上的交叉熵误差为：0.773438\n",
      "经过 2400 轮训练后的在验证集上的交叉熵误差为：0.771145\n",
      "经过 2600 轮训练后的在验证集上的交叉熵误差为：0.772664\n",
      "经过 2800 轮训练后的在验证集上的交叉熵误差为：0.770385\n",
      "经过 3000 轮训练后的在验证集上的交叉熵误差为：0.752692\n",
      "Wall time: 3.49 s\n"
     ]
    }
   ],
   "source": [
    "%%time\n",
    "# 这里需要限定变量的scope\n",
    "# 首先重置整个计算图——主要是为了清除scope里的变量\n",
    "tf.reset_default_graph()\n",
    "# 输出当前计算图中的全局变量\n",
    "# print(\"训练前的变量有：\")\n",
    "# display(tf.get_collection(tf.GraphKeys.GLOBAL_VARIABLES))\n",
    "# print(\"----------------------------------------------\")\n",
    "# 创建一个scope，执行网络训练\n",
    "with tf.variable_scope(name_or_scope='train', reuse=tf.AUTO_REUSE)  as train_scope:\n",
    "#     network_train(mnist)\n",
    "    (w1,w2,b1,b2) = network_train(mnist)\n",
    "# 输出训练后的变量\n",
    "# print(\"----------------------------------------------\")\n",
    "# print(\"训练之后的变量为：\")\n",
    "# display(tf.get_collection(tf.GraphKeys.GLOBAL_VARIABLES))"
   ]
  },
  {
   "cell_type": "code",
   "execution_count": 186,
   "metadata": {},
   "outputs": [
    {
     "name": "stdout",
     "output_type": "stream",
     "text": [
      "Device mapping:\n",
      "/job:localhost/replica:0/task:0/device:GPU:0 -> device: 0, name: GeForce RTX 2060, pci bus id: 0000:01:00.0, compute capability: 7.5\n",
      "\n",
      "经过 200 轮训练后的在验证集上的交叉熵误差为：87.9136\n",
      "经过 400 轮训练后的在验证集上的交叉熵误差为：6.42561\n",
      "经过 600 轮训练后的在验证集上的交叉熵误差为：2.52524\n",
      "经过 800 轮训练后的在验证集上的交叉熵误差为：2.31611\n",
      "经过 1000 轮训练后的在验证集上的交叉熵误差为：2.30354\n",
      "经过 1200 轮训练后的在验证集上的交叉熵误差为：2.30269\n",
      "经过 1400 轮训练后的在验证集上的交叉熵误差为：2.30267\n",
      "经过 1600 轮训练后的在验证集上的交叉熵误差为：2.30276\n",
      "经过 1800 轮训练后的在验证集上的交叉熵误差为：2.30262\n",
      "经过 2000 轮训练后的在验证集上的交叉熵误差为：2.30261\n",
      "经过 2200 轮训练后的在验证集上的交叉熵误差为：2.30264\n",
      "经过 2400 轮训练后的在验证集上的交叉熵误差为：2.30261\n",
      "经过 2600 轮训练后的在验证集上的交叉熵误差为：2.30261\n",
      "经过 2800 轮训练后的在验证集上的交叉熵误差为：2.3026\n",
      "经过 3000 轮训练后的在验证集上的交叉熵误差为：2.30262\n",
      "Wall time: 6.43 s\n"
     ]
    }
   ],
   "source": [
    "%%time\n",
    "# 使用CPU进行计算\n",
    "# 这里需要限定变量的scope\n",
    "# 首先重置整个计算图——主要是为了清除scope里的变量\n",
    "tf.reset_default_graph()\n",
    "# 输出当前计算图中的全局变量\n",
    "# print(\"训练前的变量有：\")\n",
    "# display(tf.get_collection(tf.GraphKeys.GLOBAL_VARIABLES))\n",
    "# print(\"----------------------------------------------\")\n",
    "# 创建一个scope，执行网络训练\n",
    "with tf.device('/cpu:0'):\n",
    "    with tf.variable_scope(name_or_scope='train', reuse=tf.AUTO_REUSE)  as train_scope:\n",
    "    #     network_train(mnist)\n",
    "        (w1,w2,b1,b2) = network_train(mnist)"
   ]
  },
  {
   "cell_type": "markdown",
   "metadata": {},
   "source": [
    "----"
   ]
  },
  {
   "cell_type": "code",
   "execution_count": 36,
   "metadata": {},
   "outputs": [],
   "source": [
    "## CNN模型"
   ]
  },
  {
   "cell_type": "code",
   "execution_count": null,
   "metadata": {},
   "outputs": [],
   "source": []
  },
  {
   "cell_type": "markdown",
   "metadata": {},
   "source": [
    "## 草稿  \n",
    "下面这一段是草稿，用于练习正则化和variable scope的。"
   ]
  },
  {
   "cell_type": "code",
   "execution_count": 13,
   "metadata": {},
   "outputs": [
    {
     "data": {
      "text/plain": [
       "False"
      ]
     },
     "execution_count": 13,
     "metadata": {},
     "output_type": "execute_result"
    }
   ],
   "source": [
    "tf.get_variable_scope().reuse"
   ]
  },
  {
   "cell_type": "code",
   "execution_count": 201,
   "metadata": {},
   "outputs": [],
   "source": [
    "# 这里使用variable_scope并设置reuse = tf.AUTO_REUSE是为了重复使用tf.get_variable()定义变量\n",
    "with tf.variable_scope(name_or_scope='params', reuse=tf.AUTO_REUSE):\n",
    "    x_batch = tf.placeholder(tf.float32, shape=[None, INPUT_NODE], name='x_batch')\n",
    "    y_batch = tf.placeholder(tf.float32, shape=[None, OUTPUT_NODE], name='y_batch')\n",
    "\n",
    "    # 定义正则化函数\n",
    "    reg_l2 = tf.contrib.layers.l2_regularizer(tf.constant(LAMBDA))\n",
    "    # 生成两个隐藏层的参数，并将这两个隐藏层的参数加入到losses集合里\n",
    "    w1 = tf.get_variable(name='w1', dtype=tf.float32, \n",
    "                        initializer=tf.random_normal([INPUT_NODE, LAYER_1_NODE]),\n",
    "                        regularizer=reg_l2)\n",
    "    w2 = tf.get_variable(name='w2', dtype=tf.float32, \n",
    "                        initializer=tf.random_normal([LAYER_1_NODE, LAYER_2_NODE]),\n",
    "                        regularizer=reg_l2)\n",
    "    b1 = tf.get_variable(name='b1', dtype=tf.float32,\n",
    "                        initializer=tf.constant(0.1, shape=[LAYER_1_NODE]))\n",
    "    b2 = tf.get_variable(name='b2', dtype=tf.float32,\n",
    "                        initializer=tf.constant(0.1, shape=[LAYER_2_NODE]))"
   ]
  },
  {
   "cell_type": "code",
   "execution_count": 171,
   "metadata": {},
   "outputs": [],
   "source": [
    "# sess.run(tf.global_variables_initializer())\n",
    "# w1.eval()"
   ]
  },
  {
   "cell_type": "markdown",
   "metadata": {},
   "source": [
    "问题：\n",
    "> 如何获取variable所属的集合？"
   ]
  },
  {
   "cell_type": "code",
   "execution_count": 202,
   "metadata": {},
   "outputs": [
    {
     "name": "stdout",
     "output_type": "stream",
     "text": [
      "<class 'list'>\n"
     ]
    },
    {
     "data": {
      "text/plain": [
       "[]"
      ]
     },
     "execution_count": 202,
     "metadata": {},
     "output_type": "execute_result"
    }
   ],
   "source": [
    "reg_variables = tf.get_collection(tf.GraphKeys.REGULARIZATION_LOSSES)\n",
    "print(reg_variables.__class__)\n",
    "reg_variables"
   ]
  },
  {
   "cell_type": "code",
   "execution_count": 197,
   "metadata": {},
   "outputs": [],
   "source": [
    "# 清除某个collection里的内容\n",
    "graph = tf.get_default_graph()\n",
    "graph.clear_collection(tf.GraphKeys.REGULARIZATION_LOSSES)"
   ]
  },
  {
   "cell_type": "code",
   "execution_count": 198,
   "metadata": {},
   "outputs": [
    {
     "data": {
      "text/plain": [
       "[]"
      ]
     },
     "execution_count": 198,
     "metadata": {},
     "output_type": "execute_result"
    }
   ],
   "source": [
    "reg_variables = tf.get_collection(tf.GraphKeys.REGULARIZATION_LOSSES)\n",
    "reg_variables"
   ]
  }
 ],
 "metadata": {
  "kernelspec": {
   "display_name": "Tensorflow1.15",
   "language": "python",
   "name": "tensorflow1.15"
  },
  "language_info": {
   "codemirror_mode": {
    "name": "ipython",
    "version": 3
   },
   "file_extension": ".py",
   "mimetype": "text/x-python",
   "name": "python",
   "nbconvert_exporter": "python",
   "pygments_lexer": "ipython3",
   "version": "3.6.2"
  },
  "toc-autonumbering": true
 },
 "nbformat": 4,
 "nbformat_minor": 4
}
