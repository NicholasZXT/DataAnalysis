{
 "cells": [
  {
   "cell_type": "code",
   "execution_count": 80,
   "metadata": {},
   "outputs": [
    {
     "name": "stdout",
     "output_type": "stream",
     "text": [
      "package版本信息：\n",
      "numpy:       1.18.1\n",
      "pandas:      1.0.1\n",
      "matplotlib:  3.1.3\n",
      "sklearn:     0.22.1\n",
      "seaborn:     0.10.0\n",
      "plotly:      4.14.1\n"
     ]
    }
   ],
   "source": [
    "import numpy as np\n",
    "import pandas as pd\n",
    "import matplotlib.pyplot as plt\n",
    "import seaborn as sns\n",
    "import plotly.express as px\n",
    "from plotly import graph_objects as go\n",
    "\n",
    "import matplotlib\n",
    "import plotly\n",
    "import sklearn\n",
    "import re\n",
    "\n",
    "from IPython.display import display\n",
    "\n",
    "print(\"package版本信息：\")\n",
    "print(\"numpy:      \", np.__version__)\n",
    "print(\"pandas:     \", pd.__version__)\n",
    "print(\"matplotlib: \", matplotlib.__version__)\n",
    "print(\"sklearn:    \", sklearn.__version__)\n",
    "print(\"seaborn:    \", sns.__version__)\n",
    "print(\"plotly:     \", plotly.__version__)"
   ]
  },
  {
   "cell_type": "markdown",
   "metadata": {},
   "source": [
    "# 前言\n",
    "\n",
    "文本处理是属于NLP下的一个范畴，涉及面很广，这里只关注其中的两类任务：\n",
    "1. 文本聚类\n",
    "2. 文本分类\n",
    "\n",
    "上述两类任务都需要对文本数据进行处理以提取特征，以下介绍文本处理过程中的一些通用流程和概念。\n",
    "\n",
    "在文本分析的语境中，数据集通常被称为语料库（corpus），每个由单个文本表示的数据点被称为文档（ document）。\n",
    "\n",
    "+ 词袋表示法  \n",
    "舍弃输入文本中的大部分结构，如章节、段落、句子和格式，**只计算语料库中每个单词在每个文本中的出现频次** .  \n",
    "通常计算步骤分为如下 3 个：\n",
    "  1. 分词（tokenization）.将每个文档划分为出现在其中的单词（称为词例token），比如按空格和标点划分.\n",
    "  2. 构建词表（vocabulary building）。收集一个词表，里面包含出现在任意文档中的所有词，并对它们进行编号（比如按字母顺序排序）.\n",
    "  3. 编码（encoding）。对于每个文档，计算词表中每个单词在该文档中的出现频次.\n",
    "  \n",
    "  \n",
    "  \n",
    "+ Tf-idf表示法\n",
    "\n",
    "\n",
    "\n",
    "+ 此外，对于单词处理，特别是分布（Tokenization）这一步，还可以做额外的处理.  \n",
    "词表中通常同时包含某些单词的单数形式和复数形式，这个问题可以通过**用词干（word stem）表示每个单词来解决**，通常有两种方式：\n",
    "  1. 基于规则的启发法，通常将其称为**词干提取（stemming）**\n",
    "  2. 使用由已知单词形式组成的字典（明确的且经过人工验证的系统），通常称为**词形还原（lemmatization）**\n",
    "  \n",
    "  \n",
    "完成上面这些步骤，通常有两个包可以使用：\n",
    "+ NLTK\n",
    "+ Spacy"
   ]
  },
  {
   "cell_type": "markdown",
   "metadata": {},
   "source": [
    "# NLTK使用\n",
    "\n",
    "NLTK的API结构参考这里 [NLTK Python Module Index](https://www.nltk.org/py-modindex.html).\n",
    "\n",
    "\n",
    "1. 分词.  \n",
    "NLTK提供了`nltk.tokenize`这个模块，主要是如下两个分词**函数**（不是类）\n",
    "  + `nltk.tokenize.sent_tokenize(text, language='english')`  \n",
    "用于分割句子\n",
    "  + `nltk.tokenize.word_tokenize(text, language='english', preserve_line=False)`  \n",
    "用于分割单词\n",
    "\n",
    "\n",
    "2. 词干提取.  \n",
    "NLTK提供了`nltk.stem`这个模块.\n",
    "  + `nltk.stem.porter.PorterStemmer()`类，封装了Porter提取算法\n",
    "  + `nltk.stem.snowball`模块里提供了非英语类词干的提取方法\n",
    "  + `nltk.stem.wordnet.WordNetLemmatizer()`类，提供了词形还原的算法"
   ]
  },
  {
   "cell_type": "code",
   "execution_count": 1,
   "metadata": {},
   "outputs": [],
   "source": [
    "from nltk.tokenize import sent_tokenize, word_tokenize"
   ]
  },
  {
   "cell_type": "code",
   "execution_count": 2,
   "metadata": {},
   "outputs": [],
   "source": [
    "mytext = \"Hello Adam, how are you? I hope everything is going well. Today is a good day, see you dude.\""
   ]
  },
  {
   "cell_type": "code",
   "execution_count": 3,
   "metadata": {},
   "outputs": [
    {
     "data": {
      "text/plain": [
       "['Hello Adam, how are you?',\n",
       " 'I hope everything is going well.',\n",
       " 'Today is a good day, see you dude.']"
      ]
     },
     "execution_count": 3,
     "metadata": {},
     "output_type": "execute_result"
    }
   ],
   "source": [
    "sent_tokenize(mytext)"
   ]
  },
  {
   "cell_type": "code",
   "execution_count": 4,
   "metadata": {},
   "outputs": [
    {
     "data": {
      "text/plain": [
       "['Hello',\n",
       " 'Adam',\n",
       " ',',\n",
       " 'how',\n",
       " 'are',\n",
       " 'you',\n",
       " '?',\n",
       " 'I',\n",
       " 'hope',\n",
       " 'everything',\n",
       " 'is',\n",
       " 'going',\n",
       " 'well',\n",
       " '.',\n",
       " 'Today',\n",
       " 'is',\n",
       " 'a',\n",
       " 'good',\n",
       " 'day',\n",
       " ',',\n",
       " 'see',\n",
       " 'you',\n",
       " 'dude',\n",
       " '.']"
      ]
     },
     "execution_count": 4,
     "metadata": {},
     "output_type": "execute_result"
    }
   ],
   "source": [
    "word_tokenize(mytext)"
   ]
  },
  {
   "cell_type": "code",
   "execution_count": 7,
   "metadata": {},
   "outputs": [
    {
     "name": "stdout",
     "output_type": "stream",
     "text": [
      "work\n",
      "work\n",
      "work\n"
     ]
    }
   ],
   "source": [
    "from nltk.stem import PorterStemmer\n",
    "\n",
    "porter_stemmer = PorterStemmer()\n",
    "\n",
    "print(porter_stemmer.stem('working'))\n",
    "print(porter_stemmer.stem('works'))\n",
    "print(porter_stemmer.stem('worked'))"
   ]
  },
  {
   "cell_type": "code",
   "execution_count": 10,
   "metadata": {},
   "outputs": [
    {
     "name": "stdout",
     "output_type": "stream",
     "text": [
      "increase\n",
      "increased\n",
      "wa\n"
     ]
    }
   ],
   "source": [
    "from nltk.stem import WordNetLemmatizer\n",
    "\n",
    "lemmatizer = WordNetLemmatizer()\n",
    "\n",
    "print(lemmatizer.lemmatize('increases'))\n",
    "print(lemmatizer.lemmatize('increased'))\n",
    "print(lemmatizer.lemmatize('was'))"
   ]
  },
  {
   "cell_type": "markdown",
   "metadata": {},
   "source": [
    "# spaCy使用\n",
    "\n",
    "spaCy的使用和NLTK完全不同，NLTK大体上还是面向过程的调用函数方式来完成任务，而spaCy是采用的pipeline方式完成.  \n",
    "\n",
    "spaCy的使用步骤如下：\n",
    "1. 载入语言模型.  \n",
    "每个语言模型里，基于所选的语言，封装了一系列对文件进行处理的Pipeline.\n",
    "```python\n",
    "nlp = spacy.load('en_core_web_sm')\n",
    "```\n",
    "2. 将需要处理的文本传递给语言模型，生成一个`Doc`对象——它包含了一系列对文本进行处理的步骤，封装成一个Pipeline，其中第一步就是分词\n",
    "```python\n",
    "doc = nlp(\"Text to be process\")\n",
    "```\n",
    "3. 调用`Doc`对象的各种方法，获取不同的内容."
   ]
  },
  {
   "cell_type": "code",
   "execution_count": 71,
   "metadata": {},
   "outputs": [
    {
     "data": {
      "text/plain": [
       "spacy.lang.en.English"
      ]
     },
     "execution_count": 71,
     "metadata": {},
     "output_type": "execute_result"
    }
   ],
   "source": [
    "import spacy\n",
    "# 首先必须载入一个语言模型\n",
    "nlp = spacy.load('en_core_web_sm')\n",
    "nlp.__class__"
   ]
  },
  {
   "cell_type": "code",
   "execution_count": 72,
   "metadata": {},
   "outputs": [
    {
     "data": {
      "text/plain": [
       "['tagger', 'parser', 'ner']"
      ]
     },
     "execution_count": 72,
     "metadata": {},
     "output_type": "execute_result"
    }
   ],
   "source": [
    "# 检查当前pipeline里的步骤名称\n",
    "nlp.pipe_names"
   ]
  },
  {
   "cell_type": "code",
   "execution_count": 14,
   "metadata": {},
   "outputs": [
    {
     "data": {
      "text/plain": [
       "spacy.tokens.doc.Doc"
      ]
     },
     "execution_count": 14,
     "metadata": {},
     "output_type": "execute_result"
    }
   ],
   "source": [
    "# 获取Doc对象\n",
    "text = \"Apple is looking at buying U.K. startup for $1 billion\"\n",
    "doc = nlp(text)\n",
    "doc.__class__"
   ]
  },
  {
   "cell_type": "code",
   "execution_count": 18,
   "metadata": {},
   "outputs": [
    {
     "name": "stdout",
     "output_type": "stream",
     "text": [
      "token.text token.lemma_\n",
      "Apple Apple\n",
      "is be\n",
      "looking look\n",
      "at at\n",
      "buying buy\n",
      "U.K. U.K.\n",
      "startup startup\n",
      "for for\n",
      "$ $\n",
      "1 1\n",
      "billion billion\n"
     ]
    }
   ],
   "source": [
    "print(\"token.text\", \"token.lemma_\")\n",
    "for token in doc:\n",
    "    print(token.text,  token.lemma_)"
   ]
  },
  {
   "cell_type": "markdown",
   "metadata": {},
   "source": [
    "----"
   ]
  },
  {
   "cell_type": "markdown",
   "metadata": {},
   "source": [
    "# 文本数据集\n",
    "\n",
    "这里有 3 份数据集，分别是\n",
    "1. IMDB电影评分数据集\n",
    "2. sklearn自带的新闻数据集\n",
    "3. 《python数据挖掘入门》里文本处理使用的tweet数据集"
   ]
  },
  {
   "cell_type": "markdown",
   "metadata": {},
   "source": [
    "## IMDB电影评分数据集"
   ]
  },
  {
   "cell_type": "code",
   "execution_count": null,
   "metadata": {},
   "outputs": [],
   "source": []
  },
  {
   "cell_type": "markdown",
   "metadata": {},
   "source": [
    "## sklearn自带的数据集"
   ]
  },
  {
   "cell_type": "code",
   "execution_count": 31,
   "metadata": {},
   "outputs": [],
   "source": [
    "from sklearn.datasets import fetch_20newsgroups"
   ]
  },
  {
   "cell_type": "code",
   "execution_count": 32,
   "metadata": {},
   "outputs": [],
   "source": [
    "# 这里指定了数据集下载的文件夹，第一次使用时，会下载相关的数据集到这个文件夹里\n",
    "data = fetch_20newsgroups(data_home='datasets/sklearn-news-data/', subset='all')\n",
    "# print(data.__class__)\n",
    "\n",
    "# 显示新闻数据集里文章有哪些分类\n",
    "# display(data.target_names)"
   ]
  },
  {
   "cell_type": "code",
   "execution_count": 33,
   "metadata": {},
   "outputs": [
    {
     "name": "stdout",
     "output_type": "stream",
     "text": [
      "2300 (2300,)\n",
      "1531 (1531,)\n"
     ]
    }
   ],
   "source": [
    "# 这里只需要部分分类的数据集\n",
    "categories = [\n",
    "    'sci.space',\n",
    "    'rec.sport.baseball',\n",
    "    'talk.politics.mideast',\n",
    "    'talk.politics.guns'\n",
    "]\n",
    "\n",
    "# 训练集\n",
    "train = fetch_20newsgroups(data_home='datasets/sklearn-news-data/', subset='train', categories=categories)\n",
    "# 测试集\n",
    "test = fetch_20newsgroups(data_home='datasets/sklearn-news-data/', subset='test', categories=categories)\n",
    "\n",
    "# 查看数据集大小\n",
    "print(len(train.data), train.target.shape)\n",
    "print(len(test.data), test.target.shape)"
   ]
  },
  {
   "cell_type": "code",
   "execution_count": 36,
   "metadata": {},
   "outputs": [
    {
     "data": {
      "text/plain": [
       "list"
      ]
     },
     "execution_count": 36,
     "metadata": {},
     "output_type": "execute_result"
    }
   ],
   "source": [
    "train.data.__class__"
   ]
  },
  {
   "cell_type": "code",
   "execution_count": 37,
   "metadata": {},
   "outputs": [
    {
     "data": {
      "text/plain": [
       "str"
      ]
     },
     "execution_count": 37,
     "metadata": {},
     "output_type": "execute_result"
    }
   ],
   "source": [
    "train.data[0].__class__"
   ]
  },
  {
   "cell_type": "code",
   "execution_count": 25,
   "metadata": {},
   "outputs": [
    {
     "data": {
      "text/plain": [
       "'From: tclock@orion.oac.uci.edu (Tim Clock)\\nSubject: Re: Final Solution for Gaza ?\\nNntp-Posting-Host: orion.oac.uci.edu\\nOrganization: University of California, Irvine\\nLines: 66\\n\\nIn article <1483500354@igc.apc.org> Center for Policy Research <cpr@igc.apc.org> writes:\\n>\\n>From: Center for Policy Research <cpr>\\n>Subject: Final Solution for Gaza ?\\n>\\n>While Israeli Jews fete the uprising of the Warsaw ghetto,\\n\\n\"fete\"??? Since this word both formally and commonly refers to\\npositive/joyous events, your misuse of it here is rather unsettling.\\n \\n>they repress by violent means the uprising of the Gaza ghetto \\n>and attempt to starve the Gazans.\\n\\nI certainly abhor those Israeli policies and attitudes that are\\nabusive towards the Palestinians/Gazans. Given that, however, there \\n*is no comparison* between the reality of the Warsaw Ghetto and in \\nGaza.  \\n>\\n>The right of the Gazan population to resist occupation is\\n>recognized in international law and by any person with a sense of\\n>justice. \\n\\nJust as international law recognizes the right of the occupying \\nentity to maintain order, especially in the face of elements\\nthat are consciously attempting to disrupt the civil structure. \\nIronically, international law recognizes each of these focusses\\n(that of the occupied and the occupier) even though they are \\ninherently in conflict.\\n>\\n>As Israel denies Gazans the only two options which are compatible\\n>with basic human rights and international law, that of becoming\\n>Israeli citizens with full rights or respecting their right for\\n>self-determination, it must be concluded that the Israeli Jewish\\n>society does not consider Gazans full human beings.\\n\\nIsrael certainly cannot, and should not, continue its present\\npolicies towards Gazan residents. There is, however, a third \\nalternative- the creation and implementation of a jewish \"dhimmi\"\\nsystem with Gazans/Palestinians as benignly \"protected\" citizens.\\nWould you find THAT as acceptable in that form as you do with\\nregard to Islam\\'s policies towards its minorities?\\n \\n>Whether they have some Final Solution up their sleeve ?\\n\\nIt is a race, then? Between Israel\\'s anti-Palestinian/Gazan\\n\"Final Solution\" and the Arab World\\'s anti-Israel/jewish\\n\"Final Solution\". Do you favor one? neither? \\n>\\n>I urge all those who have slight human compassion to do whatever\\n>they can to help the Gazans regain their full human, civil and\\n>political rights, to which they are entitled as human beings.\\n\\nSince there is justifiable worry by various parties that Israel\\nand Arab/Palestinian \"final solution\" intentions exist, isn\\'t it\\nimportant that BOTH Israeli *and* Palestinian/Gazan \"rights\"\\nbe secured?\\n>\\n>Elias Davidsson Iceland\\n>\\n\\n\\n--\\nTim Clock                                   Ph.D./Graduate student\\nUCI  tel#: 714,8565361                      Department of Politics and Society\\n     fax#: 714,8568441                      University of California - Irvine\\nHome tel#: 714,8563446                      Irvine, CA 92717\\n'"
      ]
     },
     "execution_count": 25,
     "metadata": {},
     "output_type": "execute_result"
    }
   ],
   "source": [
    "# 随便看一下里面的一篇文章\n",
    "train.data[1]"
   ]
  },
  {
   "cell_type": "code",
   "execution_count": 34,
   "metadata": {},
   "outputs": [
    {
     "data": {
      "text/plain": [
       "0    597\n",
       "1    593\n",
       "3    564\n",
       "2    546\n",
       "dtype: int64"
      ]
     },
     "execution_count": 34,
     "metadata": {},
     "output_type": "execute_result"
    }
   ],
   "source": [
    "# 看看类别是否均衡\n",
    "pd.Series(train.target).value_counts()"
   ]
  },
  {
   "cell_type": "markdown",
   "metadata": {},
   "source": [
    "# 朴素贝叶斯文本分类示例"
   ]
  },
  {
   "cell_type": "code",
   "execution_count": 38,
   "metadata": {},
   "outputs": [],
   "source": [
    "from sklearn.feature_extraction.text import CountVectorizer, TfidfVectorizer, TfidfTransformer"
   ]
  },
  {
   "cell_type": "code",
   "execution_count": 89,
   "metadata": {},
   "outputs": [
    {
     "data": {
      "text/plain": [
       "'!\"#$%&\\'()*+,-./:;<=>?@[\\\\]^_`{|}~'"
      ]
     },
     "execution_count": 89,
     "metadata": {},
     "output_type": "execute_result"
    }
   ],
   "source": [
    "import string\n",
    "string.punctuation"
   ]
  },
  {
   "cell_type": "code",
   "execution_count": 90,
   "metadata": {},
   "outputs": [],
   "source": [
    "# 先取一部分子集看下效果\n",
    "part = train.data[:10]\n",
    "\n",
    "cnt_vec = CountVectorizer()\n",
    "cnt_vec.fit(part)\n",
    "\n",
    "part_ = pd.DataFrame(cnt_vec.transform(part).toarray(), columns=cnt_vec.get_feature_names())"
   ]
  },
  {
   "cell_type": "code",
   "execution_count": 93,
   "metadata": {},
   "outputs": [],
   "source": [
    "# 使用spaCy对文件进行处理\n",
    "# 这里使用spaCy的词形还原，但是分词器使用的是scikit-learn里提供的正则表达式\n",
    "regexp = re.compile('(?u)\\\\b\\\\w\\\\w+\\\\b')\n",
    "en_nlp = spacy.load('en_core_web_sm')\n",
    "old_tokenizer = en_nlp.tokenizer\n",
    "en_nlp.tokenizer = lambda string: old_tokenizer.tokens_from_list(regexp.findall(string))\n",
    "\n",
    "# 自定义的分词函数\n",
    "def custom_tokenizer(document):\n",
    "    doc_spacy = en_nlp(document)\n",
    "    return [token.lemma_ for token in doc_spacy]"
   ]
  },
  {
   "cell_type": "code",
   "execution_count": 99,
   "metadata": {},
   "outputs": [
    {
     "name": "stderr",
     "output_type": "stream",
     "text": [
      "C:\\MyProgramFiles\\Anaconda\\lib\\site-packages\\sklearn\\feature_extraction\\text.py:507: UserWarning: The parameter 'token_pattern' will not be used since 'tokenizer' is not None'\n",
      "  warnings.warn(\"The parameter 'token_pattern' will not be used\"\n",
      "C:\\MyProgramFiles\\Anaconda\\lib\\site-packages\\ipykernel_launcher.py:6: DeprecationWarning: [W002] Tokenizer.from_list is now deprecated. Create a new Doc object instead and pass in the strings as the `words` keyword argument, for example:\n",
      "from spacy.tokens import Doc\n",
      "doc = Doc(nlp.vocab, words=[...])\n",
      "  \n"
     ]
    },
    {
     "data": {
      "text/plain": [
       "CountVectorizer(analyzer='word', binary=False, decode_error='strict',\n",
       "                dtype=<class 'numpy.int64'>, encoding='utf-8', input='content',\n",
       "                lowercase=True, max_df=0.95, max_features=None, min_df=5,\n",
       "                ngram_range=(1, 1), preprocessor=None, stop_words=None,\n",
       "                strip_accents=None, token_pattern='(?u)\\\\b\\\\w\\\\w+\\\\b',\n",
       "                tokenizer=<function custom_tokenizer at 0x000001F16CC768B8>,\n",
       "                vocabulary=None)"
      ]
     },
     "execution_count": 99,
     "metadata": {},
     "output_type": "execute_result"
    }
   ],
   "source": [
    "lemma_vect = CountVectorizer(tokenizer=custom_tokenizer, min_df=5, max_df=0.95)\n",
    "# lemma_vect.fit(part)\n",
    "# part_ = pd.DataFrame(cnt_vec.transform(part).toarray(), columns=cnt_vec.get_feature_names())\n",
    "lemma_vect.fit(train.data)"
   ]
  },
  {
   "cell_type": "code",
   "execution_count": 100,
   "metadata": {},
   "outputs": [
    {
     "name": "stderr",
     "output_type": "stream",
     "text": [
      "C:\\MyProgramFiles\\Anaconda\\lib\\site-packages\\ipykernel_launcher.py:6: DeprecationWarning: [W002] Tokenizer.from_list is now deprecated. Create a new Doc object instead and pass in the strings as the `words` keyword argument, for example:\n",
      "from spacy.tokens import Doc\n",
      "doc = Doc(nlp.vocab, words=[...])\n",
      "  \n"
     ]
    }
   ],
   "source": [
    "train_token = lemma_vect.transform(train.data)\n",
    "test_token = lemma_vect.transform(test.data)\n",
    "train_y = train.target\n",
    "test_y = test.target"
   ]
  },
  {
   "cell_type": "code",
   "execution_count": 102,
   "metadata": {},
   "outputs": [
    {
     "data": {
      "text/plain": [
       "(2300, 8448)"
      ]
     },
     "execution_count": 102,
     "metadata": {},
     "output_type": "execute_result"
    }
   ],
   "source": [
    "train_token.shape"
   ]
  },
  {
   "cell_type": "code",
   "execution_count": 104,
   "metadata": {},
   "outputs": [
    {
     "data": {
      "text/plain": [
       "(1531, 8448)"
      ]
     },
     "execution_count": 104,
     "metadata": {},
     "output_type": "execute_result"
    }
   ],
   "source": [
    "test_token.shape"
   ]
  },
  {
   "cell_type": "code",
   "execution_count": 101,
   "metadata": {},
   "outputs": [],
   "source": [
    "from sklearn.naive_bayes import BernoulliNB, MultinomialNB"
   ]
  },
  {
   "cell_type": "code",
   "execution_count": 113,
   "metadata": {},
   "outputs": [
    {
     "data": {
      "text/plain": [
       "MultinomialNB(alpha=1.0, class_prior=None, fit_prior=True)"
      ]
     },
     "execution_count": 113,
     "metadata": {},
     "output_type": "execute_result"
    }
   ],
   "source": [
    "berNB = BernoulliNB()\n",
    "multiNB = MultinomialNB()\n",
    "\n",
    "berNB.fit(train_token, train_y)\n",
    "multiNB.fit(train_token, train_y)"
   ]
  },
  {
   "cell_type": "code",
   "execution_count": 114,
   "metadata": {},
   "outputs": [],
   "source": [
    "berNB_score = berNB.score(test_token, test_y)\n",
    "multiNB_score = multiNB.score(test_token, test_y)"
   ]
  },
  {
   "cell_type": "code",
   "execution_count": 115,
   "metadata": {},
   "outputs": [
    {
     "data": {
      "text/plain": [
       "0.8883082952318746"
      ]
     },
     "execution_count": 115,
     "metadata": {},
     "output_type": "execute_result"
    }
   ],
   "source": [
    "berNB_score"
   ]
  },
  {
   "cell_type": "code",
   "execution_count": 117,
   "metadata": {},
   "outputs": [
    {
     "data": {
      "text/plain": [
       "0.9738732854343566"
      ]
     },
     "execution_count": 117,
     "metadata": {},
     "output_type": "execute_result"
    }
   ],
   "source": [
    "multiNB_score"
   ]
  },
  {
   "cell_type": "code",
   "execution_count": 118,
   "metadata": {},
   "outputs": [],
   "source": [
    "berNB_y_pred = berNB.predict(test_token)\n",
    "multiNB_y_pred = multiNB.predict(test_token)"
   ]
  },
  {
   "cell_type": "code",
   "execution_count": 119,
   "metadata": {},
   "outputs": [],
   "source": [
    "from sklearn.metrics import accuracy_score"
   ]
  },
  {
   "cell_type": "code",
   "execution_count": 120,
   "metadata": {},
   "outputs": [],
   "source": [
    "berNB_pred_score = accuracy_score(y_true=test_y, y_pred=berNB_y_pred)\n",
    "multiNB_pred_score = accuracy_score(y_true=test_y, y_pred=multiNB_y_pred)"
   ]
  },
  {
   "cell_type": "code",
   "execution_count": 121,
   "metadata": {},
   "outputs": [
    {
     "data": {
      "text/plain": [
       "0.8883082952318746"
      ]
     },
     "execution_count": 121,
     "metadata": {},
     "output_type": "execute_result"
    }
   ],
   "source": [
    "berNB_pred_score"
   ]
  },
  {
   "cell_type": "code",
   "execution_count": 122,
   "metadata": {},
   "outputs": [
    {
     "data": {
      "text/plain": [
       "0.9738732854343566"
      ]
     },
     "execution_count": 122,
     "metadata": {},
     "output_type": "execute_result"
    }
   ],
   "source": [
    "multiNB_pred_score"
   ]
  },
  {
   "cell_type": "code",
   "execution_count": null,
   "metadata": {},
   "outputs": [],
   "source": []
  }
 ],
 "metadata": {
  "kernelspec": {
   "display_name": "BaseEnv(3.7.6)",
   "language": "python",
   "name": "base-env"
  },
  "language_info": {
   "codemirror_mode": {
    "name": "ipython",
    "version": 3
   },
   "file_extension": ".py",
   "mimetype": "text/x-python",
   "name": "python",
   "nbconvert_exporter": "python",
   "pygments_lexer": "ipython3",
   "version": "3.7.6"
  }
 },
 "nbformat": 4,
 "nbformat_minor": 4
}
