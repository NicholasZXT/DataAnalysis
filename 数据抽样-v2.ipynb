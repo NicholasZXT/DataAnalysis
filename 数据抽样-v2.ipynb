{
 "cells": [
  {
   "cell_type": "code",
   "execution_count": 1,
   "metadata": {},
   "outputs": [],
   "source": [
    "import openpyxl\n",
    "import json\n",
    "from collections import Counter\n",
    "import pandas as pd\n",
    "import re\n",
    "from collections import Counter, defaultdict\n",
    "import random\n",
    "from copy import deepcopy\n",
    "import pdb"
   ]
  },
  {
   "cell_type": "code",
   "execution_count": 13,
   "metadata": {},
   "outputs": [],
   "source": [
    "def load_xlsx_data(filename, sheetname=\"Sheet1\", header=True):\n",
    "    \"\"\" Load xls data\n",
    "    \"\"\"\n",
    "    workbook = openpyxl.load_workbook(filename)\n",
    "    worksheet = workbook[sheetname]\n",
    "    headers = []\n",
    "    contents = []\n",
    "    for idx, row in enumerate(worksheet.iter_rows()):\n",
    "        row_values = [cell.value for cell in row]\n",
    "        if idx == 0 and header:\n",
    "            headers = row_values\n",
    "            continue\n",
    "        if header:\n",
    "            row_values = dict(zip(headers, row_values))\n",
    "        contents.append(row_values)\n",
    "    return contents\n",
    "\n",
    "\n",
    "RGX_INTENTS = re.compile('intents\":(.*?])}]')\n",
    "RGX_SN = re.compile('\"sn\":.*?\"(.*?)\"')\n",
    "RGX_QUERY = re.compile('\"raw_query\":.*?\"(.*?)\"')\n",
    "\n",
    "\n",
    "def find_dr(target, rgx=RGX_INTENTS):\n",
    "    res = rgx.findall(target)\n",
    "    if not res:\n",
    "        return []\n",
    "    targ_str = res[0]\n",
    "    try:\n",
    "        res = json.loads(targ_str)\n",
    "    except:\n",
    "        res = []\n",
    "    return res\n",
    "    \n",
    "    \n",
    "def find_sn(target, rgx=RGX_SN):\n",
    "    res = rgx.findall(target)\n",
    "    if res:\n",
    "        return res[0]\n",
    "    return \"\"\n",
    "\n",
    "\n",
    "def find_query(target, rgx=RGX_QUERY):\n",
    "    res = rgx.findall(target)\n",
    "    if res:\n",
    "        return res[0]\n",
    "    return \"\"\n",
    "\n",
    "\n",
    "def convert_data(rec):\n",
    "    rank_order = [x.split(\"|\") for x in rec[\"rank_order\"].split(\"\\n\") if x] if rec[\"rank_order\"] else []\n",
    "    rank_order = [{\"domain\": x[0], \"intent\": x[1]} for x in rank_order if len(x) == 2]\n",
    "    try:\n",
    "        nlu_model = json.loads(rec[\"nlu_model_nlp\"])\n",
    "    except:\n",
    "        nlu_model = {}\n",
    "    try:\n",
    "        grammar_body = json.loads(rec[\"grammar_process_responsebody\"])\n",
    "        gram_intents = grammar_body.get(\"intents\", [])\n",
    "    except:\n",
    "        grammar_body = {}\n",
    "        gram_intents = []\n",
    "    try:\n",
    "        model_top1 = json.loads(rec[\"result\"])\n",
    "    except:\n",
    "        model_top1 = []\n",
    "    try:\n",
    "        dialog_root = json.loads(rec[\"dialog_root_responsebody\"])\n",
    "        sn = dialog_root[\"sn\"]\n",
    "        nlu_res = (dialog_root.get(\"nlu_res\") or [{}])[0]\n",
    "        sorted_intents = nlu_res.get(\"intents\", [])\n",
    "        raw_query = dialog_root.get(\"raw_query\")\n",
    "        dr_entities = nlu_res[\"entities\"]\n",
    "    except:\n",
    "        sn = find_sn(rec[\"dialog_root_responsebody\"])\n",
    "        sorted_intents = find_dr(rec[\"dialog_root_responsebody\"])\n",
    "        raw_query = find_query(rec[\"dialog_root_responsebody\"])\n",
    "        dr_entities = []\n",
    "    query = grammar_body.get(\"query\") or raw_query\n",
    "    entities = grammar_body.get(\"entities\") or dr_entities\n",
    "    res = {\n",
    "        \"sn\": sn,\n",
    "        \"model_topn\": nlu_model,\n",
    "        \"query\": query,\n",
    "        \"entities\": entities,\n",
    "        \"grammar_topn\": gram_intents or sorted_intents,\n",
    "        \"rank_order\": rank_order,\n",
    "        \"use_nlu_model\": rec[\"should_use_this\"],\n",
    "        \"grammar_top1\": sorted_intents and [sorted_intents[0]],\n",
    "        \"traceid\": rec[\"p_traceid\"],\n",
    "        \"model_top1\": model_top1\n",
    "    }\n",
    "    return res"
   ]
  },
  {
   "cell_type": "code",
   "execution_count": 48,
   "metadata": {
    "collapsed": true,
    "jupyter": {
     "outputs_hidden": true
    }
   },
   "outputs": [
    {
     "ename": "KeyboardInterrupt",
     "evalue": "",
     "output_type": "error",
     "traceback": [
      "\u001b[0;31m---------------------------------------------------------------------------\u001b[0m",
      "\u001b[0;31mKeyboardInterrupt\u001b[0m                         Traceback (most recent call last)",
      "\u001b[0;32m<ipython-input-48-1020b22f5a06>\u001b[0m in \u001b[0;36m<module>\u001b[0;34m\u001b[0m\n\u001b[0;32m----> 1\u001b[0;31m \u001b[0mraw_data\u001b[0m \u001b[0;34m=\u001b[0m \u001b[0mload_xlsx_data\u001b[0m\u001b[0;34m(\u001b[0m\u001b[0;34m\"./MINI-NLU-全量数据(6.15-6.21).xlsx\"\u001b[0m\u001b[0;34m,\u001b[0m \u001b[0msheetname\u001b[0m\u001b[0;34m=\u001b[0m\u001b[0;34m\"domain.intent\"\u001b[0m\u001b[0;34m)\u001b[0m\u001b[0;34m\u001b[0m\u001b[0;34m\u001b[0m\u001b[0m\n\u001b[0m",
      "\u001b[0;32m<ipython-input-13-68d4e4b8eef1>\u001b[0m in \u001b[0;36mload_xlsx_data\u001b[0;34m(filename, sheetname, header)\u001b[0m\n\u001b[1;32m      2\u001b[0m     \"\"\" Load xls data\n\u001b[1;32m      3\u001b[0m     \"\"\"\n\u001b[0;32m----> 4\u001b[0;31m     \u001b[0mworkbook\u001b[0m \u001b[0;34m=\u001b[0m \u001b[0mopenpyxl\u001b[0m\u001b[0;34m.\u001b[0m\u001b[0mload_workbook\u001b[0m\u001b[0;34m(\u001b[0m\u001b[0mfilename\u001b[0m\u001b[0;34m)\u001b[0m\u001b[0;34m\u001b[0m\u001b[0;34m\u001b[0m\u001b[0m\n\u001b[0m\u001b[1;32m      5\u001b[0m     \u001b[0mworksheet\u001b[0m \u001b[0;34m=\u001b[0m \u001b[0mworkbook\u001b[0m\u001b[0;34m[\u001b[0m\u001b[0msheetname\u001b[0m\u001b[0;34m]\u001b[0m\u001b[0;34m\u001b[0m\u001b[0;34m\u001b[0m\u001b[0m\n\u001b[1;32m      6\u001b[0m     \u001b[0mheaders\u001b[0m \u001b[0;34m=\u001b[0m \u001b[0;34m[\u001b[0m\u001b[0;34m]\u001b[0m\u001b[0;34m\u001b[0m\u001b[0;34m\u001b[0m\u001b[0m\n",
      "\u001b[0;32m~/miniconda3/envs/tch36/lib/python3.6/site-packages/openpyxl/reader/excel.py\u001b[0m in \u001b[0;36mload_workbook\u001b[0;34m(filename, read_only, keep_vba, data_only, keep_links)\u001b[0m\n\u001b[1;32m    315\u001b[0m     reader = ExcelReader(filename, read_only, keep_vba,\n\u001b[1;32m    316\u001b[0m                         data_only, keep_links)\n\u001b[0;32m--> 317\u001b[0;31m     \u001b[0mreader\u001b[0m\u001b[0;34m.\u001b[0m\u001b[0mread\u001b[0m\u001b[0;34m(\u001b[0m\u001b[0;34m)\u001b[0m\u001b[0;34m\u001b[0m\u001b[0;34m\u001b[0m\u001b[0m\n\u001b[0m\u001b[1;32m    318\u001b[0m     \u001b[0;32mreturn\u001b[0m \u001b[0mreader\u001b[0m\u001b[0;34m.\u001b[0m\u001b[0mwb\u001b[0m\u001b[0;34m\u001b[0m\u001b[0;34m\u001b[0m\u001b[0m\n",
      "\u001b[0;32m~/miniconda3/envs/tch36/lib/python3.6/site-packages/openpyxl/reader/excel.py\u001b[0m in \u001b[0;36mread\u001b[0;34m(self)\u001b[0m\n\u001b[1;32m    272\u001b[0m     \u001b[0;32mdef\u001b[0m \u001b[0mread\u001b[0m\u001b[0;34m(\u001b[0m\u001b[0mself\u001b[0m\u001b[0;34m)\u001b[0m\u001b[0;34m:\u001b[0m\u001b[0;34m\u001b[0m\u001b[0;34m\u001b[0m\u001b[0m\n\u001b[1;32m    273\u001b[0m         \u001b[0mself\u001b[0m\u001b[0;34m.\u001b[0m\u001b[0mread_manifest\u001b[0m\u001b[0;34m(\u001b[0m\u001b[0;34m)\u001b[0m\u001b[0;34m\u001b[0m\u001b[0;34m\u001b[0m\u001b[0m\n\u001b[0;32m--> 274\u001b[0;31m         \u001b[0mself\u001b[0m\u001b[0;34m.\u001b[0m\u001b[0mread_strings\u001b[0m\u001b[0;34m(\u001b[0m\u001b[0;34m)\u001b[0m\u001b[0;34m\u001b[0m\u001b[0;34m\u001b[0m\u001b[0m\n\u001b[0m\u001b[1;32m    275\u001b[0m         \u001b[0mself\u001b[0m\u001b[0;34m.\u001b[0m\u001b[0mread_workbook\u001b[0m\u001b[0;34m(\u001b[0m\u001b[0;34m)\u001b[0m\u001b[0;34m\u001b[0m\u001b[0;34m\u001b[0m\u001b[0m\n\u001b[1;32m    276\u001b[0m         \u001b[0mself\u001b[0m\u001b[0;34m.\u001b[0m\u001b[0mread_properties\u001b[0m\u001b[0;34m(\u001b[0m\u001b[0;34m)\u001b[0m\u001b[0;34m\u001b[0m\u001b[0;34m\u001b[0m\u001b[0m\n",
      "\u001b[0;32m~/miniconda3/envs/tch36/lib/python3.6/site-packages/openpyxl/reader/excel.py\u001b[0m in \u001b[0;36mread_strings\u001b[0;34m(self)\u001b[0m\n\u001b[1;32m    142\u001b[0m             \u001b[0mstrings_path\u001b[0m \u001b[0;34m=\u001b[0m \u001b[0mct\u001b[0m\u001b[0;34m.\u001b[0m\u001b[0mPartName\u001b[0m\u001b[0;34m[\u001b[0m\u001b[0;36m1\u001b[0m\u001b[0;34m:\u001b[0m\u001b[0;34m]\u001b[0m\u001b[0;34m\u001b[0m\u001b[0;34m\u001b[0m\u001b[0m\n\u001b[1;32m    143\u001b[0m             \u001b[0;32mwith\u001b[0m \u001b[0mself\u001b[0m\u001b[0;34m.\u001b[0m\u001b[0marchive\u001b[0m\u001b[0;34m.\u001b[0m\u001b[0mopen\u001b[0m\u001b[0;34m(\u001b[0m\u001b[0mstrings_path\u001b[0m\u001b[0;34m,\u001b[0m\u001b[0;34m)\u001b[0m \u001b[0;32mas\u001b[0m \u001b[0msrc\u001b[0m\u001b[0;34m:\u001b[0m\u001b[0;34m\u001b[0m\u001b[0;34m\u001b[0m\u001b[0m\n\u001b[0;32m--> 144\u001b[0;31m                 \u001b[0mself\u001b[0m\u001b[0;34m.\u001b[0m\u001b[0mshared_strings\u001b[0m \u001b[0;34m=\u001b[0m \u001b[0mread_string_table\u001b[0m\u001b[0;34m(\u001b[0m\u001b[0msrc\u001b[0m\u001b[0;34m)\u001b[0m\u001b[0;34m\u001b[0m\u001b[0;34m\u001b[0m\u001b[0m\n\u001b[0m\u001b[1;32m    145\u001b[0m \u001b[0;34m\u001b[0m\u001b[0m\n\u001b[1;32m    146\u001b[0m \u001b[0;34m\u001b[0m\u001b[0m\n",
      "\u001b[0;32m~/miniconda3/envs/tch36/lib/python3.6/site-packages/openpyxl/reader/strings.py\u001b[0m in \u001b[0;36mread_string_table\u001b[0;34m(xml_source)\u001b[0m\n\u001b[1;32m     15\u001b[0m     \u001b[0;32mfor\u001b[0m \u001b[0m_\u001b[0m\u001b[0;34m,\u001b[0m \u001b[0mnode\u001b[0m \u001b[0;32min\u001b[0m \u001b[0miterparse\u001b[0m\u001b[0;34m(\u001b[0m\u001b[0mxml_source\u001b[0m\u001b[0;34m)\u001b[0m\u001b[0;34m:\u001b[0m\u001b[0;34m\u001b[0m\u001b[0;34m\u001b[0m\u001b[0m\n\u001b[1;32m     16\u001b[0m         \u001b[0;32mif\u001b[0m \u001b[0mnode\u001b[0m\u001b[0;34m.\u001b[0m\u001b[0mtag\u001b[0m \u001b[0;34m==\u001b[0m \u001b[0mSTRING_TAG\u001b[0m\u001b[0;34m:\u001b[0m\u001b[0;34m\u001b[0m\u001b[0;34m\u001b[0m\u001b[0m\n\u001b[0;32m---> 17\u001b[0;31m             \u001b[0mtext\u001b[0m \u001b[0;34m=\u001b[0m \u001b[0mText\u001b[0m\u001b[0;34m.\u001b[0m\u001b[0mfrom_tree\u001b[0m\u001b[0;34m(\u001b[0m\u001b[0mnode\u001b[0m\u001b[0;34m)\u001b[0m\u001b[0;34m.\u001b[0m\u001b[0mcontent\u001b[0m\u001b[0;34m\u001b[0m\u001b[0;34m\u001b[0m\u001b[0m\n\u001b[0m\u001b[1;32m     18\u001b[0m             \u001b[0mtext\u001b[0m \u001b[0;34m=\u001b[0m \u001b[0mtext\u001b[0m\u001b[0;34m.\u001b[0m\u001b[0mreplace\u001b[0m\u001b[0;34m(\u001b[0m\u001b[0;34m'x005F_'\u001b[0m\u001b[0;34m,\u001b[0m \u001b[0;34m''\u001b[0m\u001b[0;34m)\u001b[0m\u001b[0;34m\u001b[0m\u001b[0;34m\u001b[0m\u001b[0m\n\u001b[1;32m     19\u001b[0m             \u001b[0mnode\u001b[0m\u001b[0;34m.\u001b[0m\u001b[0mclear\u001b[0m\u001b[0;34m(\u001b[0m\u001b[0;34m)\u001b[0m\u001b[0;34m\u001b[0m\u001b[0;34m\u001b[0m\u001b[0m\n",
      "\u001b[0;32m~/miniconda3/envs/tch36/lib/python3.6/site-packages/openpyxl/descriptors/serialisable.py\u001b[0m in \u001b[0;36mfrom_tree\u001b[0;34m(cls, node)\u001b[0m\n\u001b[1;32m     72\u001b[0m \u001b[0;34m\u001b[0m\u001b[0m\n\u001b[1;32m     73\u001b[0m         \u001b[0;32mfor\u001b[0m \u001b[0mel\u001b[0m \u001b[0;32min\u001b[0m \u001b[0mnode\u001b[0m\u001b[0;34m:\u001b[0m\u001b[0;34m\u001b[0m\u001b[0;34m\u001b[0m\u001b[0m\n\u001b[0;32m---> 74\u001b[0;31m             \u001b[0mtag\u001b[0m \u001b[0;34m=\u001b[0m \u001b[0mlocalname\u001b[0m\u001b[0;34m(\u001b[0m\u001b[0mel\u001b[0m\u001b[0;34m)\u001b[0m\u001b[0;34m\u001b[0m\u001b[0;34m\u001b[0m\u001b[0m\n\u001b[0m\u001b[1;32m     75\u001b[0m             \u001b[0;32mif\u001b[0m \u001b[0mtag\u001b[0m \u001b[0;32min\u001b[0m \u001b[0mKEYWORDS\u001b[0m\u001b[0;34m:\u001b[0m\u001b[0;34m\u001b[0m\u001b[0;34m\u001b[0m\u001b[0m\n\u001b[1;32m     76\u001b[0m                 \u001b[0mtag\u001b[0m \u001b[0;34m=\u001b[0m \u001b[0;34m\"_\"\u001b[0m \u001b[0;34m+\u001b[0m \u001b[0mtag\u001b[0m\u001b[0;34m\u001b[0m\u001b[0;34m\u001b[0m\u001b[0m\n",
      "\u001b[0;31mKeyboardInterrupt\u001b[0m: "
     ]
    }
   ],
   "source": [
    "raw_data = load_xlsx_data(\"./MINI-NLU-全量数据(6.15-6.21).xlsx\", sheetname=\"Sheet\")"
   ]
  },
  {
   "cell_type": "code",
   "execution_count": 53,
   "metadata": {
    "scrolled": true
   },
   "outputs": [
    {
     "data": {
      "text/plain": [
       "{'alarm_1',\n",
       " 'alarm_3',\n",
       " 'fm_1',\n",
       " 'fm_2',\n",
       " 'global_command',\n",
       " 'music_1',\n",
       " 'music_2',\n",
       " 'other',\n",
       " 'weather_1'}"
      ]
     },
     "execution_count": 53,
     "metadata": {},
     "output_type": "execute_result"
    }
   ],
   "source": [
    "domain_scope = load_xlsx_data(\"./domain_scope.xlsx\", sheetname=\"domain.intent\")\n",
    "DOMAINS = set(x[\"MINI_DOMAIN\"] for x in domain_scope if x[\"MINI_DOMAIN\"])\n",
    "DOMAINS"
   ]
  },
  {
   "cell_type": "code",
   "execution_count": 15,
   "metadata": {
    "scrolled": true
   },
   "outputs": [],
   "source": [
    "data = [convert_data(x) for x in raw_data]"
   ]
  },
  {
   "cell_type": "code",
   "execution_count": 87,
   "metadata": {},
   "outputs": [
    {
     "name": "stdout",
     "output_type": "stream",
     "text": [
      "今天天气好不好\n"
     ]
    }
   ],
   "source": [
    "def clean_str(target):\n",
    "    if not target:\n",
    "        return \"\"\n",
    "    res = target.strip().lower()\n",
    "    res = re.sub(r'^[^\\w\\s]', '', res)\n",
    "    res = re.sub(r'[^\\w\\s]$', '', res)\n",
    "    return res\n",
    "\n",
    "print(clean_str(\" 今天天气好不好？ \"))\n",
    "\n",
    "\n",
    "AWAKENS = [\"小豹\", \"小雅\"]\n",
    "\n",
    "def all_awakens(target, awakens=AWAKENS):\n",
    "    if len(target) % 2 != 0:\n",
    "        return False\n",
    "    parts = [target[i: i + 2] for i in range(0, len(target), 2)]\n",
    "    parts = set(parts)\n",
    "    return all(x in awakens for x in parts)\n",
    "\n",
    "\n",
    "\n",
    "def get_top1_domain(rec):\n",
    "    global DOMAINS\n",
    "    domain_1st = None\n",
    "    domain_2nd = None\n",
    "    domain_3rd = None\n",
    "    for intent in rec.get(\"grammar_topn\", []):\n",
    "        domain = intent.get(\"grammar_pkg_name\") or intent.get(\"domain_name\") or intent.get(\"domain\")\n",
    "        if not domain:\n",
    "            raise ValueError(domain)\n",
    "        if domain.startswith(\"music_\"):\n",
    "            domain_1st = \"music\"\n",
    "            break\n",
    "        if domain.startswith(\"fm_\"):\n",
    "            domain_1st = \"fm\"\n",
    "            break\n",
    "        if domain.startswith(\"video_\"):\n",
    "            domain_1st = \"video\"\n",
    "            break\n",
    "        if domain == \"other\" or domain not in DOMAINS:\n",
    "            domain_3rd = \"3rd\"\n",
    "        else:\n",
    "            domain_2nd = \"2nd\"\n",
    "    if domain_1st:\n",
    "        return domain_1st\n",
    "    for intent in rec.get(\"model_topn\", []):\n",
    "        domain = intent[\"domain\"]\n",
    "        if domain.startswith(\"music_\"):\n",
    "            domain_1st = \"music\"\n",
    "            break\n",
    "        if domain.startswith(\"fm_\"):\n",
    "            domain_1st = \"fm\"\n",
    "            break\n",
    "        if domain.startswith(\"video_\"):\n",
    "            domain_1st = \"video\"\n",
    "            break\n",
    "        if domain == \"other\" or domain not in DOMAINS:\n",
    "            if not domain_3rd:\n",
    "                domain_3rd = \"3rd\"\n",
    "        elif not domain_2nd:\n",
    "            domain_2nd = \"2nd\"\n",
    "    if domain_1st:\n",
    "        return domain_1st\n",
    "    if domain_2nd:\n",
    "        return domain_2nd\n",
    "    return domain_3rd\n",
    "\n",
    "\n",
    "def sample_records(data, total=2000):\n",
    "    valid_count = 0\n",
    "    t2idx = defaultdict(list)\n",
    "    qcounts = Counter()\n",
    "    for idx, rec in enumerate(data):\n",
    "        query = rec.get(\"query\", \"\")\n",
    "        norm_query = clean_str(query)\n",
    "        rec[\"norm_query\"] = norm_query\n",
    "        if not norm_query:\n",
    "            t2idx[\"empty\"].append(idx)\n",
    "            continue\n",
    "        if all_awakens(norm_query):\n",
    "            t2idx[\"awakens\"].append(idx)\n",
    "            continue\n",
    "        qcounts[norm_query] += 1\n",
    "        domain_x = get_top1_domain(rec)\n",
    "        if domain_x is None:\n",
    "            continue\n",
    "        t2idx[domain_x].append(idx)\n",
    "        if domain_x != \"3rd\":\n",
    "            valid_count += 1\n",
    "    samples = []\n",
    "    aggregates = 0\n",
    "    currents = set()\n",
    "    pseudo_domains = [\"3rd\"]\n",
    "    pseudo_domains.extend(\n",
    "        x for x in t2idx if x not in pseudo_domains and x not in (\"empty\", \"awakens\"))\n",
    "    domain_counts = {}\n",
    "    for idx, domain_x in enumerate(pseudo_domains):\n",
    "        raw_indexes = t2idx[domain_x]\n",
    "        indexes = [i for i in raw_indexes if data[i][\"norm_query\"] not in currents]\n",
    "        valid_len = len(indexes)\n",
    "        idxlen = len(raw_indexes)\n",
    "        num_max = total - aggregates\n",
    "        if domain_x == \"3rd\":\n",
    "            num = int(total * 0.2)\n",
    "        else:\n",
    "            num = min(num_max, int(total * .8 * idxlen / valid_count))\n",
    "        if (idx + 1) == len(pseudo_domains):\n",
    "            num = max(num, num_max)\n",
    "        aggregates += num\n",
    "        if not num:\n",
    "            continue\n",
    "        count = 0\n",
    "        while count < num:\n",
    "            if not indexes:\n",
    "                break\n",
    "            idx = random.choice(indexes)\n",
    "            rec = data[idx]\n",
    "            query = rec[\"norm_query\"]\n",
    "            indexes.remove(idx)\n",
    "            if query in currents:\n",
    "                continue\n",
    "            currents.add(query)\n",
    "            rec = deepcopy(data[idx])\n",
    "            rec[\"dtype\"] = domain_x\n",
    "            rec[\"dcount\"] = idxlen\n",
    "            rec[\"qcount\"] = qcounts[query]\n",
    "            samples.append(rec)\n",
    "            count += 1\n",
    "        print(domain_x, num, count, aggregates)\n",
    "    return samples, t2idx, qcounts"
   ]
  },
  {
   "cell_type": "code",
   "execution_count": 88,
   "metadata": {
    "scrolled": true
   },
   "outputs": [
    {
     "name": "stdout",
     "output_type": "stream",
     "text": [
      "3rd 400 400 400\n",
      "music 842 842 1242\n",
      "2nd 387 387 1629\n",
      "fm 188 188 1817\n",
      "video 183 183 2000\n"
     ]
    }
   ],
   "source": [
    "samples, t2idx, qcounts = sample_records(data)"
   ]
  },
  {
   "cell_type": "code",
   "execution_count": 89,
   "metadata": {},
   "outputs": [
    {
     "data": {
      "text/plain": [
       "2000"
      ]
     },
     "execution_count": 89,
     "metadata": {},
     "output_type": "execute_result"
    }
   ],
   "source": [
    "len(set(x[\"query\"] for x in samples))"
   ]
  },
  {
   "cell_type": "code",
   "execution_count": 90,
   "metadata": {},
   "outputs": [
    {
     "name": "stdout",
     "output_type": "stream",
     "text": [
      "grammar_topn Counter({'total': 123534, 'valid': 120070, 'other': 56968, 'music': 20491, 'video': 14052, 'global_command': 9740, 'alarm': 7516, 'general_command_3': 6918, 'fm': 5954, 'awakens': 3418, 'weather_1': 2044, 'en_word_3': 1988, 'album_preview_3': 1684, 'general_command_2': 1529, 'album_2': 1319, 'camera_2': 1291, 'smart_home_1': 1042, 'smart_home_3': 783, 'weather': 712, 'navigation_1': 657, 'general': 583, 'camera_1': 520, 'album_1': 448, 'videocall_1': 419, 'smart_home_2': 316, 'camera_take_3': 312, 'alarm_1': 268, 'alarm_3': 247, 'videocall_2': 123, 'camera_view_3': 113, 'navigation_2': 92, 'find_3': 80, 'applet_1': 78, 'album_list_3': 66, 'go_back_3': 56, 'children_mode_2': 50, 'empty': 46, 'en_word_2': 33, 'launcher_3': 32, 'chat_1': 32, 'applet_3': 19, 'weather_test': 16, 'testyzh': 15, 'location_3': 14, 'child_mode_3': 11, 'test1': 11, 'aiqytest_2': 10, 'cricetinae': 6, 'movie': 1, 'alarm_wy': 1, 'wjj_1585906237': 1})\n",
      "model_topn Counter({'total': 123534, 'valid': 120070, 'music': 62878, 'other': 51068, 'fm': 30618, 'alarm_1': 14195, 'global_command': 7121, 'weather_1': 4051, 'awakens': 3418, 'alarm_3': 173, 'empty': 46})\n",
      "grammar_topn Counter({'total': 2000, 'valid': 2000, 'other': 979, 'music': 330, 'video': 214, 'global_command': 130, 'alarm': 121, 'general_command_3': 116, 'fm': 71, 'weather_1': 42, 'en_word_3': 40, 'smart_home_1': 18, 'album_2': 18, 'album_preview_3': 18, 'general_command_2': 18, 'camera_2': 16, 'smart_home_3': 15, 'navigation_1': 8, 'weather': 8, 'camera_1': 6, 'videocall_1': 6, 'camera_take_3': 6, 'album_1': 5, 'smart_home_2': 4, 'general': 4, 'alarm_3': 4, 'alarm_1': 4, 'videocall_2': 3, 'applet_1': 2, 'camera_view_3': 2, 'go_back_3': 1, 'applet_3': 1, 'chat_1': 1, 'testyzh': 1, 'test1': 1, 'launcher_3': 1, 'location_3': 1})\n",
      "model_topn Counter({'total': 2000, 'valid': 2000, 'music': 1016, 'other': 860, 'fm': 482, 'alarm_1': 227, 'global_command': 109, 'weather_1': 81, 'alarm_3': 1})\n"
     ]
    }
   ],
   "source": [
    "\n",
    "def get_domains(target):\n",
    "    for intent in target:\n",
    "        domain = intent.get(\"grammar_pkg_name\", intent.get(\"domain_name\", intent.get(\"domain\")))\n",
    "        if domain.startswith(\"music_\"):\n",
    "            yield \"music\"\n",
    "            continue\n",
    "        if domain.startswith(\"fm_\"):\n",
    "            yield \"fm\"\n",
    "            continue\n",
    "        if domain.startswith(\"video_\"):\n",
    "            yield \"video\"\n",
    "            continue\n",
    "        yield domain\n",
    "\n",
    "def describe_data(data, target=\"grammar_topn\"):\n",
    "    qcounts = Counter()\n",
    "    for rec in data:\n",
    "        qcounts[\"total\"] += 1\n",
    "        query = rec.get(\"query\", \"\")\n",
    "        norm_query = clean_str(query)\n",
    "        rec[\"norm_query\"] = norm_query\n",
    "        if not norm_query:\n",
    "            qcounts[\"empty\"] += 1\n",
    "            continue\n",
    "        if all_awakens(norm_query):\n",
    "            qcounts[\"awakens\"] += 1\n",
    "            continue\n",
    "        qcounts[\"valid\"] += 1\n",
    "        domains = list(set(x for x in get_domains(rec.get(target, []))))\n",
    "        if not domains:\n",
    "            domains = [\"other\"]\n",
    "        qcounts.update(domains)\n",
    "    print(target, qcounts)\n",
    "    return qcounts\n",
    "\n",
    "\n",
    "raw_grammar_topn_counts = describe_data(data)\n",
    "raw_model_topn_counts = describe_data(data, target=\"model_topn\")\n",
    "sample_grammar_topn_counts = describe_data(samples)\n",
    "sample_model_topn_counts = describe_data(samples, target=\"model_topn\")"
   ]
  },
  {
   "cell_type": "code",
   "execution_count": 36,
   "metadata": {},
   "outputs": [],
   "source": [
    "def save_jsonl(data, filename, descs):\n",
    "    with open(filename, \"w\") as fout:\n",
    "        line = json.dumps(descs, ensure_ascii=False)\n",
    "        fout.write(\"#\" + line + \"\\n\")\n",
    "        for rec in data:\n",
    "            line = json.dumps(rec, ensure_ascii=False)\n",
    "            fout.write(line)\n",
    "            fout.write(\"\\n\")"
   ]
  },
  {
   "cell_type": "code",
   "execution_count": 91,
   "metadata": {},
   "outputs": [],
   "source": [
    "save_jsonl(\n",
    "    filename=\"2020-06-22.jsonl\",\n",
    "    data=samples,\n",
    "    descs={\n",
    "        \"query_counts\": {k: len(v) for k, v in t2idx.items()},\n",
    "        \"original_grammar_topn_counts\": raw_grammar_topn_counts,\n",
    "        \"original_model_topn_counts\": raw_model_topn_counts,\n",
    "        \"sample_grammar_topn_counts\": sample_grammar_topn_counts,\n",
    "        \"sample_model_topn_counts\": sample_model_topn_counts,\n",
    "    })"
   ]
  }
 ],
 "metadata": {
  "kernelspec": {
   "display_name": "Python 3",
   "language": "python",
   "name": "python3"
  },
  "language_info": {
   "codemirror_mode": {
    "name": "ipython",
    "version": 3
   },
   "file_extension": ".py",
   "mimetype": "text/x-python",
   "name": "python",
   "nbconvert_exporter": "python",
   "pygments_lexer": "ipython3",
   "version": "3.7.7"
  }
 },
 "nbformat": 4,
 "nbformat_minor": 4
}
