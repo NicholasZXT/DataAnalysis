{
 "cells": [
  {
   "cell_type": "code",
   "execution_count": 3,
   "metadata": {},
   "outputs": [
    {
     "name": "stdout",
     "output_type": "stream",
     "text": [
      "package版本信息：\n",
      "numpy:       1.21.2\n",
      "pandas:      1.3.3\n",
      "matplotlib:  3.4.3\n",
      "sklearn:     0.24.2\n",
      "seaborn:     0.11.2\n"
     ]
    }
   ],
   "source": [
    "import numpy as np\n",
    "import pandas as pd\n",
    "import matplotlib.pyplot as plt\n",
    "import seaborn as sns\n",
    "from IPython.display import display\n",
    "\n",
    "import matplotlib\n",
    "import sklearn\n",
    "print(\"package版本信息：\")\n",
    "print(\"numpy:      \", np.__version__)\n",
    "print(\"pandas:     \", pd.__version__)\n",
    "print(\"matplotlib: \", matplotlib.__version__)\n",
    "print(\"sklearn:    \", sklearn.__version__)\n",
    "print(\"seaborn:    \", sns.__version__)"
   ]
  },
  {
   "cell_type": "code",
   "execution_count": 4,
   "metadata": {},
   "outputs": [],
   "source": [
    "# TAB自动补全\n",
    "# %config Completer.use_jedi = False\n",
    "\n",
    "# 可选的package\n",
    "# import plotly\n",
    "# print(\"plotly:     \", plotly.__version__)\n",
    "# import plotly.express as px\n",
    "# from plotly import graph_objects as go"
   ]
  },
  {
   "cell_type": "markdown",
   "metadata": {},
   "source": [
    "# Sklearn中的决策树\n",
    "\n",
    "整体介绍可以参考官方文档 [Decision Trees](https://scikit-learn.org/stable/modules/tree.html#tree)."
   ]
  },
  {
   "cell_type": "markdown",
   "metadata": {},
   "source": [
    "## 分类树\n",
    "\n",
    "官方文档 [sklearn.tree.DecisionTreeClassifier](https://scikit-learn.org/stable/modules/generated/sklearn.tree.DecisionTreeClassifier.html#sklearn.tree.DecisionTreeClassifier).\n",
    "\n",
    "`DecisionTreeClassifier()`\n",
    "\n",
    "+ 重要的实例化参数（粗体表示调优中需要重点关注的参数）：\n",
    "  + criterion：{“gini”, “entropy”}, default=”gini”\n",
    "  + **max_depth**：树的最大深度\n",
    "  + min_samples_split：int or float, default=2\n",
    "  + min_samples_leaf：int or float, default=1\n",
    "  + min_weight_fraction_leaf：float, default=0.0\n",
    "  + **max_features**：int, float or {“auto”, “sqrt”, “log2”}, default=None. 训练过程中，每一层选择的最大特征个数。取值及其含义如下：\n",
    "    + int，指定特征个数\n",
    "    + float，指定特征比例\n",
    "    + auto，使用$\\sqrt{q}$个特征\n",
    "    + sqrt，使用$\\sqrt{q}$个特征\n",
    "    + log2，使用$log_2{q}$个特征\n",
    "    + None，使用所有特征\n",
    "  + random_state：int\n",
    "  + **min_impurity_decrease**：float, default=0.0\n",
    "  + **ccp_alpha**：non-negative float, default=0.0, 用于决策树剪枝的参数\n",
    "\n",
    "\n",
    "  \n",
    "+ 常用属性：\n",
    "  + classes_\n",
    "  + n_classes_\n",
    "  + max_features_：int\n",
    "  + n_outputs_：int\n",
    "  + feature_importances_：属性重要性度量\n",
    "  + tree_：它是一个`sklearn.tree._tree.Tree`的实例类，里面存储了许多有关底层构建的二叉树的内容\n",
    "\n",
    "\n",
    "  \n",
    "+ 常用方法：\n",
    "  + `fit(X, y)`\n",
    "  + `score(X, Y)`\n",
    "  + `predict(X)`\n",
    "  + `predict_prob(X)`\n",
    "  + `predcit_log_prob(X)`\n",
    "  + `apply(X)`：给出`X`中每个样本最后所归属的叶子节点编号\n",
    "  + `decision_path(X)`：给出`X`中每个样本的判定路径\n"
   ]
  },
  {
   "cell_type": "code",
   "execution_count": 5,
   "metadata": {},
   "outputs": [],
   "source": [
    "from sklearn.tree import DecisionTreeClassifier\n",
    "\n",
    "from sklearn.datasets import load_iris\n",
    "X_train, y_train = load_iris(return_X_y=True, as_frame=True)"
   ]
  },
  {
   "cell_type": "code",
   "execution_count": 6,
   "metadata": {},
   "outputs": [
    {
     "data": {
      "text/plain": "   sepal length (cm)  sepal width (cm)  petal length (cm)  petal width (cm)\n0                5.1               3.5                1.4               0.2\n1                4.9               3.0                1.4               0.2\n2                4.7               3.2                1.3               0.2\n3                4.6               3.1                1.5               0.2\n4                5.0               3.6                1.4               0.2",
      "text/html": "<div>\n<style scoped>\n    .dataframe tbody tr th:only-of-type {\n        vertical-align: middle;\n    }\n\n    .dataframe tbody tr th {\n        vertical-align: top;\n    }\n\n    .dataframe thead th {\n        text-align: right;\n    }\n</style>\n<table border=\"1\" class=\"dataframe\">\n  <thead>\n    <tr style=\"text-align: right;\">\n      <th></th>\n      <th>sepal length (cm)</th>\n      <th>sepal width (cm)</th>\n      <th>petal length (cm)</th>\n      <th>petal width (cm)</th>\n    </tr>\n  </thead>\n  <tbody>\n    <tr>\n      <th>0</th>\n      <td>5.1</td>\n      <td>3.5</td>\n      <td>1.4</td>\n      <td>0.2</td>\n    </tr>\n    <tr>\n      <th>1</th>\n      <td>4.9</td>\n      <td>3.0</td>\n      <td>1.4</td>\n      <td>0.2</td>\n    </tr>\n    <tr>\n      <th>2</th>\n      <td>4.7</td>\n      <td>3.2</td>\n      <td>1.3</td>\n      <td>0.2</td>\n    </tr>\n    <tr>\n      <th>3</th>\n      <td>4.6</td>\n      <td>3.1</td>\n      <td>1.5</td>\n      <td>0.2</td>\n    </tr>\n    <tr>\n      <th>4</th>\n      <td>5.0</td>\n      <td>3.6</td>\n      <td>1.4</td>\n      <td>0.2</td>\n    </tr>\n  </tbody>\n</table>\n</div>"
     },
     "execution_count": 6,
     "metadata": {},
     "output_type": "execute_result"
    }
   ],
   "source": [
    "X_train.head()"
   ]
  },
  {
   "cell_type": "code",
   "execution_count": 7,
   "metadata": {},
   "outputs": [
    {
     "data": {
      "text/plain": "DecisionTreeClassifier(criterion='entropy', max_depth=3, random_state=29)"
     },
     "execution_count": 7,
     "metadata": {},
     "output_type": "execute_result"
    }
   ],
   "source": [
    "tree_clf = DecisionTreeClassifier(criterion='entropy', max_depth=3, random_state=29)\n",
    "tree_clf.fit(X_train, y_train)"
   ]
  },
  {
   "cell_type": "code",
   "execution_count": 8,
   "metadata": {},
   "outputs": [
    {
     "name": "stdout",
     "output_type": "stream",
     "text": [
      "3\n",
      "[0 1 2]\n",
      "4\n",
      "4\n",
      "4\n",
      "1\n"
     ]
    }
   ],
   "source": [
    "print(tree_clf.n_classes_)\n",
    "print(tree_clf.classes_)\n",
    "print(tree_clf.max_features_)\n",
    "print(tree_clf.n_features_)\n",
    "print(tree_clf.n_features_in_)\n",
    "print(tree_clf.n_outputs_)"
   ]
  },
  {
   "cell_type": "code",
   "execution_count": 9,
   "metadata": {},
   "outputs": [
    {
     "data": {
      "text/plain": "0.9733333333333334"
     },
     "execution_count": 9,
     "metadata": {},
     "output_type": "execute_result"
    }
   ],
   "source": [
    "tree_clf.score(X_train, y_train)"
   ]
  },
  {
   "cell_type": "code",
   "execution_count": 10,
   "metadata": {},
   "outputs": [
    {
     "data": {
      "text/plain": "array([[1, 1, 0, ..., 0, 0, 0],\n       [1, 1, 0, ..., 0, 0, 0],\n       [1, 1, 0, ..., 0, 0, 0],\n       ...,\n       [1, 0, 1, ..., 1, 0, 1],\n       [1, 0, 1, ..., 1, 0, 1],\n       [1, 0, 1, ..., 1, 0, 1]], dtype=int64)"
     },
     "execution_count": 10,
     "metadata": {},
     "output_type": "execute_result"
    }
   ],
   "source": [
    "# 每个样本的决策路径\n",
    "samples_path = np.array(tree_clf.decision_path(X_train).todense())\n",
    "samples_path"
   ]
  },
  {
   "cell_type": "code",
   "execution_count": 11,
   "metadata": {},
   "outputs": [
    {
     "data": {
      "text/plain": "array([1, 1, 1, 1, 1, 1, 1, 1, 1, 1, 1, 1, 1, 1, 1, 1, 1, 1, 1, 1, 1, 1,\n       1, 1, 1, 1, 1, 1, 1, 1, 1, 1, 1, 1, 1, 1, 1, 1, 1, 1, 1, 1, 1, 1,\n       1, 1, 1, 1, 1, 1, 4, 4, 4, 4, 4, 4, 4, 4, 4, 4, 4, 4, 4, 4, 4, 4,\n       4, 4, 4, 4, 7, 4, 4, 4, 4, 4, 4, 5, 4, 4, 4, 4, 4, 5, 4, 4, 4, 4,\n       4, 4, 4, 4, 4, 4, 4, 4, 4, 4, 4, 4, 8, 8, 8, 8, 8, 8, 4, 8, 8, 8,\n       8, 8, 8, 8, 8, 8, 8, 8, 8, 5, 8, 8, 8, 8, 8, 8, 7, 8, 8, 5, 8, 8,\n       8, 5, 5, 8, 8, 8, 7, 8, 8, 8, 8, 8, 8, 8, 8, 8, 8, 8], dtype=int64)"
     },
     "execution_count": 11,
     "metadata": {},
     "output_type": "execute_result"
    }
   ],
   "source": [
    "# 每个样本最终到达的叶子节点\n",
    "samples_leaf_idx = tree_clf.apply(X_train)\n",
    "samples_leaf_idx"
   ]
  },
  {
   "cell_type": "markdown",
   "metadata": {},
   "source": [
    "## 回归树\n",
    "\n",
    "官方文档 [sklearn.tree.DecisionTreeRegressor](https://scikit-learn.org/stable/modules/generated/sklearn.tree.DecisionTreeRegressor.html#sklearn.tree.DecisionTreeRegressor).\n",
    "\n",
    "`DecisionTreeRegressor()`"
   ]
  },
  {
   "cell_type": "markdown",
   "source": [
    "## 决策树结构`Tree`\n",
    "\n",
    "有关`sklearn.tree._tree.Tree`类，可以参考官方文档 [Understanding the decision tree structure](https://scikit-learn.org/stable/auto_examples/tree/plot_unveil_tree_structure.html#sphx-glr-auto-examples-tree-plot-unveil-tree-structure-py).\n",
    "可以通过如下语句查看该类的帮助文档：\n",
    "```python\n",
    "from sklearn.tree._tree import Tree, TREE_LEAF\n",
    "help(Tree)\n",
    "```\n",
    "总结说来，该类对象存储了决策树对应的二叉树结构，它是以数组的形式存放各种信息的，有如下属性\n",
    "+ node_count：整个数的节点个数（内部节点+叶子节点）\n",
    "+ capacity：存储数的array容量，至少等于node_count\n",
    "+ max_depth：\n",
    "+ max_n_classess：类别数量\n",
    "+ n_features:\n",
    "+ n_leaves：\n",
    "\n",
    "存储二叉树的数组信息如下：\n",
    "+ children_left : array of int, shape=(node_count,)，存储每个节点的左子节点\n",
    "  + 对于叶子节点，children_left[i] == `TREE_LEAF`，它是`sklearn.tree._tree`里的一个常量，通常为 -1\n",
    "  + 对于内部节点有，children_left[i] > i，并且分割规则为 X[:, feature[i]] <= threshold[i].\n",
    "\n",
    "+ children_right : array of int, shape=(node_count,)，存储每个节点的右子节点\n",
    "  + 对于叶子节点，children_left[i] == `TREE_LEAF`，通常为-1\n",
    "  + 对于内部节点有，children_left[i] > i，并且分割规则为 X[:, feature[i]] > threshold[i].\n",
    "\n",
    "+ feature : array of int, shape=(node_count,)，每个**内部**节点选择的分割特征的下标\n",
    "\n",
    "+ threshold : array of double, shape=(node_count,)，每个**内部**节点所选择的分割特征的分割值\n",
    "\n",
    "+ value : array of double, shape=(node_count, n_outputs, max_n_classes)，每个节点的预测值.\n",
    "  + 单个节点shape=(n_outputs, max_n_clases)\n",
    "\n",
    "+ impurity : array of double, shape=(node_count,)，每个节点的不纯度\n",
    "\n",
    "+ n_node_samples : array of int, shape=(node_count,)，每个节点的样本数量\n",
    "\n",
    "+ weighted_n_node_samples : array of int, shape=(node_count,)"
   ],
   "metadata": {
    "collapsed": false
   }
  },
  {
   "cell_type": "code",
   "execution_count": 30,
   "outputs": [
    {
     "name": "stdout",
     "output_type": "stream",
     "text": [
      "Help on class Tree in module sklearn.tree._tree:\n",
      "\n",
      "class Tree(builtins.object)\n",
      " |  Array-based representation of a binary decision tree.\n",
      " |  \n",
      " |  The binary tree is represented as a number of parallel arrays. The i-th\n",
      " |  element of each array holds information about the node `i`. Node 0 is the\n",
      " |  tree's root. You can find a detailed description of all arrays in\n",
      " |  `_tree.pxd`. NOTE: Some of the arrays only apply to either leaves or split\n",
      " |  nodes, resp. In this case the values of nodes of the other type are\n",
      " |  arbitrary!\n",
      " |  \n",
      " |  Attributes\n",
      " |  ----------\n",
      " |  node_count : int\n",
      " |      The number of nodes (internal nodes + leaves) in the tree.\n",
      " |  \n",
      " |  capacity : int\n",
      " |      The current capacity (i.e., size) of the arrays, which is at least as\n",
      " |      great as `node_count`.\n",
      " |  \n",
      " |  max_depth : int\n",
      " |      The depth of the tree, i.e. the maximum depth of its leaves.\n",
      " |  \n",
      " |  children_left : array of int, shape [node_count]\n",
      " |      children_left[i] holds the node id of the left child of node i.\n",
      " |      For leaves, children_left[i] == TREE_LEAF. Otherwise,\n",
      " |      children_left[i] > i. This child handles the case where\n",
      " |      X[:, feature[i]] <= threshold[i].\n",
      " |  \n",
      " |  children_right : array of int, shape [node_count]\n",
      " |      children_right[i] holds the node id of the right child of node i.\n",
      " |      For leaves, children_right[i] == TREE_LEAF. Otherwise,\n",
      " |      children_right[i] > i. This child handles the case where\n",
      " |      X[:, feature[i]] > threshold[i].\n",
      " |  \n",
      " |  feature : array of int, shape [node_count]\n",
      " |      feature[i] holds the feature to split on, for the internal node i.\n",
      " |  \n",
      " |  threshold : array of double, shape [node_count]\n",
      " |      threshold[i] holds the threshold for the internal node i.\n",
      " |  \n",
      " |  value : array of double, shape [node_count, n_outputs, max_n_classes]\n",
      " |      Contains the constant prediction value of each node.\n",
      " |  \n",
      " |  impurity : array of double, shape [node_count]\n",
      " |      impurity[i] holds the impurity (i.e., the value of the splitting\n",
      " |      criterion) at node i.\n",
      " |  \n",
      " |  n_node_samples : array of int, shape [node_count]\n",
      " |      n_node_samples[i] holds the number of training samples reaching node i.\n",
      " |  \n",
      " |  weighted_n_node_samples : array of int, shape [node_count]\n",
      " |      weighted_n_node_samples[i] holds the weighted number of training samples\n",
      " |      reaching node i.\n",
      " |  \n",
      " |  Methods defined here:\n",
      " |  \n",
      " |  __getstate__(...)\n",
      " |      Getstate re-implementation, for pickling.\n",
      " |  \n",
      " |  __reduce__(...)\n",
      " |      Reduce re-implementation, for pickling.\n",
      " |  \n",
      " |  __setstate__(...)\n",
      " |      Setstate re-implementation, for unpickling.\n",
      " |  \n",
      " |  apply(...)\n",
      " |      Finds the terminal region (=leaf node) for each sample in X.\n",
      " |  \n",
      " |  compute_feature_importances(...)\n",
      " |      Computes the importance of each feature (aka variable).\n",
      " |  \n",
      " |  compute_partial_dependence(...)\n",
      " |      Partial dependence of the response on the ``target_feature`` set.\n",
      " |      \n",
      " |      For each sample in ``X`` a tree traversal is performed.\n",
      " |      Each traversal starts from the root with weight 1.0.\n",
      " |      \n",
      " |      At each non-leaf node that splits on a target feature, either\n",
      " |      the left child or the right child is visited based on the feature\n",
      " |      value of the current sample, and the weight is not modified.\n",
      " |      At each non-leaf node that splits on a complementary feature,\n",
      " |      both children are visited and the weight is multiplied by the fraction\n",
      " |      of training samples which went to each child.\n",
      " |      \n",
      " |      At each leaf, the value of the node is multiplied by the current\n",
      " |      weight (weights sum to 1 for all visited terminal nodes).\n",
      " |      \n",
      " |      Parameters\n",
      " |      ----------\n",
      " |      X : view on 2d ndarray, shape (n_samples, n_target_features)\n",
      " |          The grid points on which the partial dependence should be\n",
      " |          evaluated.\n",
      " |      target_features : view on 1d ndarray, shape (n_target_features)\n",
      " |          The set of target features for which the partial dependence\n",
      " |          should be evaluated.\n",
      " |      out : view on 1d ndarray, shape (n_samples)\n",
      " |          The value of the partial dependence function on each grid\n",
      " |          point.\n",
      " |  \n",
      " |  decision_path(...)\n",
      " |      Finds the decision path (=node) for each sample in X.\n",
      " |  \n",
      " |  predict(...)\n",
      " |      Predict target for X.\n",
      " |  \n",
      " |  ----------------------------------------------------------------------\n",
      " |  Static methods defined here:\n",
      " |  \n",
      " |  __new__(*args, **kwargs) from builtins.type\n",
      " |      Create and return a new object.  See help(type) for accurate signature.\n",
      " |  \n",
      " |  ----------------------------------------------------------------------\n",
      " |  Data descriptors defined here:\n",
      " |  \n",
      " |  capacity\n",
      " |  \n",
      " |  children_left\n",
      " |  \n",
      " |  children_right\n",
      " |  \n",
      " |  feature\n",
      " |  \n",
      " |  impurity\n",
      " |  \n",
      " |  max_depth\n",
      " |  \n",
      " |  max_n_classes\n",
      " |  \n",
      " |  n_classes\n",
      " |  \n",
      " |  n_features\n",
      " |  \n",
      " |  n_leaves\n",
      " |  \n",
      " |  n_node_samples\n",
      " |  \n",
      " |  n_outputs\n",
      " |  \n",
      " |  node_count\n",
      " |  \n",
      " |  threshold\n",
      " |  \n",
      " |  value\n",
      " |  \n",
      " |  weighted_n_node_samples\n",
      " |  \n",
      " |  ----------------------------------------------------------------------\n",
      " |  Data and other attributes defined here:\n",
      " |  \n",
      " |  __pyx_vtable__ = <capsule object NULL>\n",
      "\n"
     ]
    }
   ],
   "source": [
    "from sklearn.tree._tree import Tree, TREE_LEAF\n",
    "help(Tree)"
   ],
   "metadata": {
    "collapsed": false,
    "pycharm": {
     "name": "#%%\n"
    }
   }
  },
  {
   "cell_type": "code",
   "execution_count": 31,
   "outputs": [
    {
     "data": {
      "text/plain": "-1"
     },
     "execution_count": 31,
     "metadata": {},
     "output_type": "execute_result"
    }
   ],
   "source": [
    "TREE_LEAF"
   ],
   "metadata": {
    "collapsed": false,
    "pycharm": {
     "name": "#%%\n"
    }
   }
  },
  {
   "cell_type": "code",
   "execution_count": 19,
   "outputs": [
    {
     "data": {
      "text/plain": "<sklearn.tree._tree.Tree at 0x1a370082340>"
     },
     "execution_count": 19,
     "metadata": {},
     "output_type": "execute_result"
    }
   ],
   "source": [
    "tree_Tree = tree_clf.tree_\n",
    "tree_Tree"
   ],
   "metadata": {
    "collapsed": false,
    "pycharm": {
     "name": "#%%\n"
    }
   }
  },
  {
   "cell_type": "code",
   "execution_count": 42,
   "outputs": [
    {
     "name": "stdout",
     "output_type": "stream",
     "text": [
      "(9, 1, 3)\n"
     ]
    },
    {
     "data": {
      "text/plain": "array([[[50., 50., 50.]],\n\n       [[50.,  0.,  0.]],\n\n       [[ 0., 50., 50.]],\n\n       [[ 0., 49.,  5.]],\n\n       [[ 0., 47.,  1.]],\n\n       [[ 0.,  2.,  4.]],\n\n       [[ 0.,  1., 45.]],\n\n       [[ 0.,  1.,  2.]],\n\n       [[ 0.,  0., 43.]]])"
     },
     "execution_count": 42,
     "metadata": {},
     "output_type": "execute_result"
    }
   ],
   "source": [
    "print(tree_Tree.value.shape)\n",
    "tree_Tree.value"
   ],
   "metadata": {
    "collapsed": false,
    "pycharm": {
     "name": "#%%\n"
    }
   }
  },
  {
   "cell_type": "code",
   "execution_count": 37,
   "outputs": [
    {
     "data": {
      "text/plain": "{0: 'sepal length (cm)',\n 1: 'sepal width (cm)',\n 2: 'petal length (cm)',\n 3: 'petal width (cm)'}"
     },
     "execution_count": 37,
     "metadata": {},
     "output_type": "execute_result"
    }
   ],
   "source": [],
   "metadata": {
    "collapsed": false,
    "pycharm": {
     "name": "#%%\n"
    }
   }
  },
  {
   "cell_type": "code",
   "execution_count": 50,
   "outputs": [
    {
     "data": {
      "text/plain": "   node  left_child  right_child  split_feature split_feature_names  \\\n0     0           1            2              3    petal width (cm)   \n1     1          -1           -1             -2                None   \n2     2           3            6              3    petal width (cm)   \n3     3           4            5              2   petal length (cm)   \n4     4          -1           -1             -2                None   \n5     5          -1           -1             -2                None   \n6     6           7            8              2   petal length (cm)   \n7     7          -1           -1             -2                None   \n8     8          -1           -1             -2                None   \n\n   feature_threshold  samples   entropy   node_class_values  \n0               0.80      150  1.584963  [50.0, 50.0, 50.0]  \n1              -2.00       50  0.000000    [50.0, 0.0, 0.0]  \n2               1.75      100  1.000000   [0.0, 50.0, 50.0]  \n3               4.95       54  0.445065    [0.0, 49.0, 5.0]  \n4              -2.00       48  0.146094    [0.0, 47.0, 1.0]  \n5              -2.00        6  0.918296     [0.0, 2.0, 4.0]  \n6               4.85       46  0.151097    [0.0, 1.0, 45.0]  \n7              -2.00        3  0.918296     [0.0, 1.0, 2.0]  \n8              -2.00       43  0.000000    [0.0, 0.0, 43.0]  ",
      "text/html": "<div>\n<style scoped>\n    .dataframe tbody tr th:only-of-type {\n        vertical-align: middle;\n    }\n\n    .dataframe tbody tr th {\n        vertical-align: top;\n    }\n\n    .dataframe thead th {\n        text-align: right;\n    }\n</style>\n<table border=\"1\" class=\"dataframe\">\n  <thead>\n    <tr style=\"text-align: right;\">\n      <th></th>\n      <th>node</th>\n      <th>left_child</th>\n      <th>right_child</th>\n      <th>split_feature</th>\n      <th>split_feature_names</th>\n      <th>feature_threshold</th>\n      <th>samples</th>\n      <th>entropy</th>\n      <th>node_class_values</th>\n    </tr>\n  </thead>\n  <tbody>\n    <tr>\n      <th>0</th>\n      <td>0</td>\n      <td>1</td>\n      <td>2</td>\n      <td>3</td>\n      <td>petal width (cm)</td>\n      <td>0.80</td>\n      <td>150</td>\n      <td>1.584963</td>\n      <td>[50.0, 50.0, 50.0]</td>\n    </tr>\n    <tr>\n      <th>1</th>\n      <td>1</td>\n      <td>-1</td>\n      <td>-1</td>\n      <td>-2</td>\n      <td>None</td>\n      <td>-2.00</td>\n      <td>50</td>\n      <td>0.000000</td>\n      <td>[50.0, 0.0, 0.0]</td>\n    </tr>\n    <tr>\n      <th>2</th>\n      <td>2</td>\n      <td>3</td>\n      <td>6</td>\n      <td>3</td>\n      <td>petal width (cm)</td>\n      <td>1.75</td>\n      <td>100</td>\n      <td>1.000000</td>\n      <td>[0.0, 50.0, 50.0]</td>\n    </tr>\n    <tr>\n      <th>3</th>\n      <td>3</td>\n      <td>4</td>\n      <td>5</td>\n      <td>2</td>\n      <td>petal length (cm)</td>\n      <td>4.95</td>\n      <td>54</td>\n      <td>0.445065</td>\n      <td>[0.0, 49.0, 5.0]</td>\n    </tr>\n    <tr>\n      <th>4</th>\n      <td>4</td>\n      <td>-1</td>\n      <td>-1</td>\n      <td>-2</td>\n      <td>None</td>\n      <td>-2.00</td>\n      <td>48</td>\n      <td>0.146094</td>\n      <td>[0.0, 47.0, 1.0]</td>\n    </tr>\n    <tr>\n      <th>5</th>\n      <td>5</td>\n      <td>-1</td>\n      <td>-1</td>\n      <td>-2</td>\n      <td>None</td>\n      <td>-2.00</td>\n      <td>6</td>\n      <td>0.918296</td>\n      <td>[0.0, 2.0, 4.0]</td>\n    </tr>\n    <tr>\n      <th>6</th>\n      <td>6</td>\n      <td>7</td>\n      <td>8</td>\n      <td>2</td>\n      <td>petal length (cm)</td>\n      <td>4.85</td>\n      <td>46</td>\n      <td>0.151097</td>\n      <td>[0.0, 1.0, 45.0]</td>\n    </tr>\n    <tr>\n      <th>7</th>\n      <td>7</td>\n      <td>-1</td>\n      <td>-1</td>\n      <td>-2</td>\n      <td>None</td>\n      <td>-2.00</td>\n      <td>3</td>\n      <td>0.918296</td>\n      <td>[0.0, 1.0, 2.0]</td>\n    </tr>\n    <tr>\n      <th>8</th>\n      <td>8</td>\n      <td>-1</td>\n      <td>-1</td>\n      <td>-2</td>\n      <td>None</td>\n      <td>-2.00</td>\n      <td>43</td>\n      <td>0.000000</td>\n      <td>[0.0, 0.0, 43.0]</td>\n    </tr>\n  </tbody>\n</table>\n</div>"
     },
     "execution_count": 50,
     "metadata": {},
     "output_type": "execute_result"
    }
   ],
   "source": [
    "# 将特征下标映射成名称\n",
    "feature_names = X_train.columns.tolist()\n",
    "feature_map = zip(np.arange(len(feature_names)), feature_names)\n",
    "feature_map = dict(feature_map)\n",
    "split_feature_names = [feature_map.get(feature_idx, None) for feature_idx in tree_Tree.feature]\n",
    "# 每个节点中的样本在各个类上的频数\n",
    "node_class_values = tree_Tree.value.reshape(9,3).tolist()\n",
    "# 将各个部分的信息组织成DF\n",
    "tree_dict = {\n",
    "    'node': np.arange(0, tree_Tree.node_count),\n",
    "    'left_child': tree_Tree.children_left,\n",
    "    'right_child': tree_Tree.children_right,\n",
    "    'split_feature': tree_Tree.feature,\n",
    "    'split_feature_names': split_feature_names,\n",
    "    'feature_threshold': tree_Tree.threshold,\n",
    "    'samples': tree_Tree.n_node_samples,\n",
    "    'entropy': tree_Tree.impurity,\n",
    "    'node_class_values': node_class_values\n",
    "}\n",
    "tree_df = pd.DataFrame(tree_dict)\n",
    "tree_df"
   ],
   "metadata": {
    "collapsed": false,
    "pycharm": {
     "name": "#%%\n"
    }
   }
  },
  {
   "cell_type": "markdown",
   "metadata": {},
   "source": [
    "## 绘制决策树\n",
    "\n",
    "参考官方文档 [Decision Trees](https://scikit-learn.org/stable/modules/tree.html#tree).\n",
    "\n",
    "有两种绘制方式：\n",
    "1. 使用`sklearn.tree`里自带的`plot_tree`函数\n",
    "2. 使用`graphviz`模块绘制"
   ]
  },
  {
   "cell_type": "markdown",
   "metadata": {},
   "source": [
    "### `plot_tree()`\n",
    "\n",
    "文档 [sklearn.tree.plot_tree](https://scikit-learn.org/stable/modules/generated/sklearn.tree.plot_tree.html#sklearn.tree.plot_tree).\n",
    "\n",
    "\n",
    "`plot_tree(decision_tree, *, max_depth=None, feature_names=None, class_names=None, label='all', filled=False, impurity=True, node_ids=False, proportion=False, rounded=False, precision=3, ax=None, fontsize=None)`\n",
    "\n",
    "常用参数：\n",
    "+ decision_tree，决策树模型对象\n",
    "+ max_depth\n",
    "+ feature_names：list of strings, default=None，特征名称\n",
    "+ class_names：list of str or bool, default=None，类别名称\n",
    "+ filled：bool, default=False，是否填充\n",
    "+ impurity：bool, default=True，是否显示不纯度\n",
    "+ node_ids：bool, default=False，是否显示node_id\n",
    "+ rounded：bool, default=False，是否使用圆角矩形表示节点\n",
    "+ ax：matplotlib axis, default=None，指定绘图使用的 axes\n",
    "+ fontsize：int, default=None，字体大小\n",
    "\n",
    "返回值是 annotations：list of artists."
   ]
  },
  {
   "cell_type": "code",
   "execution_count": 12,
   "metadata": {},
   "outputs": [],
   "source": [
    "from sklearn.tree import plot_tree"
   ]
  },
  {
   "cell_type": "code",
   "execution_count": 13,
   "metadata": {
    "collapsed": true,
    "jupyter": {
     "outputs_hidden": true
    },
    "tags": []
   },
   "outputs": [
    {
     "data": {
      "text/plain": "[Text(313.875, 475.65000000000003, 'node #0\\npetal width (cm) <= 0.8\\nentropy = 1.585\\nsamples = 150\\nvalue = [50, 50, 50]'),\n Text(209.25, 339.75, 'node #1\\nentropy = 0.0\\nsamples = 50\\nvalue = [50, 0, 0]'),\n Text(418.5, 339.75, 'node #2\\npetal width (cm) <= 1.75\\nentropy = 1.0\\nsamples = 100\\nvalue = [0, 50, 50]'),\n Text(209.25, 203.85000000000002, 'node #3\\npetal length (cm) <= 4.95\\nentropy = 0.445\\nsamples = 54\\nvalue = [0, 49, 5]'),\n Text(104.625, 67.94999999999999, 'node #4\\nentropy = 0.146\\nsamples = 48\\nvalue = [0, 47, 1]'),\n Text(313.875, 67.94999999999999, 'node #5\\nentropy = 0.918\\nsamples = 6\\nvalue = [0, 2, 4]'),\n Text(627.75, 203.85000000000002, 'node #6\\npetal length (cm) <= 4.85\\nentropy = 0.151\\nsamples = 46\\nvalue = [0, 1, 45]'),\n Text(523.125, 67.94999999999999, 'node #7\\nentropy = 0.918\\nsamples = 3\\nvalue = [0, 1, 2]'),\n Text(732.375, 67.94999999999999, 'node #8\\nentropy = 0.0\\nsamples = 43\\nvalue = [0, 0, 43]')]"
     },
     "execution_count": 13,
     "metadata": {},
     "output_type": "execute_result"
    },
    {
     "data": {
      "text/plain": "<Figure size 1080x720 with 1 Axes>",
      "image/png": "[encoded data removed]"
     },
     "metadata": {
      "needs_background": "light"
     },
     "output_type": "display_data"
    }
   ],
   "source": [
    "fig, axes = plt.subplots(ncols=1, nrows=1, figsize=(15, 10))\n",
    "plot_tree(tree_clf, feature_names=X_train.columns.tolist(), filled=True, node_ids=True, rounded=True, ax=axes)"
   ]
  },
  {
   "cell_type": "markdown",
   "metadata": {},
   "source": [
    "### graphviz\n",
    "\n",
    "分为两步：\n",
    "1. 先使用`export_graphviz()`函数导出树的结构\n",
    "2. 再使用`graphviz`包进行绘制\n",
    "\n",
    "可以使用下面两种方式安装`graphviz`包\n",
    "+ `conda install python-graphviz`\n",
    "+ `pip install graphviz`\n",
    "\n",
    "`sklearn.tree.export_graphviz()`，参考文档 [sklearn.tree.export_graphviz](https://scikit-learn.org/stable/modules/generated/sklearn.tree.export_graphviz.html#sklearn.tree.export_graphviz)\n",
    "\n",
    "导出参数大部分和`plot_tree()`一样，下面列出了主要的：\n",
    "+ decision_treed：ecision tree classifier\n",
    "+ out_file：object or str, default=None。导出的文件名\n",
    "+ rotate：bool, default=False，是否旋转"
   ]
  },
  {
   "cell_type": "code",
   "execution_count": 14,
   "metadata": {},
   "outputs": [],
   "source": [
    "import graphviz\n",
    "from sklearn.tree import export_graphviz"
   ]
  },
  {
   "cell_type": "code",
   "execution_count": 15,
   "metadata": {},
   "outputs": [],
   "source": [
    "tree_dot = export_graphviz(tree_clf, out_file=None,feature_names=X_train.columns.tolist(), filled=True, node_ids=True, rounded=True)\n",
    "graph = graphviz.Source(tree_dot)\n",
    "# 调用下面这个，会导出成pdf文件\n",
    "# graph.render('iris')"
   ]
  },
  {
   "cell_type": "code",
   "execution_count": 16,
   "metadata": {
    "collapsed": true,
    "jupyter": {
     "outputs_hidden": true
    },
    "tags": []
   },
   "outputs": [
    {
     "data": {
      "text/plain": "<graphviz.files.Source at 0x1a3707af760>",
      "image/svg+xml": "<?xml version=\"1.0\" encoding=\"UTF-8\" standalone=\"no\"?>\r\n<!DOCTYPE svg PUBLIC \"-//W3C//DTD SVG 1.1//EN\"\r\n \"http://www.w3.org/Graphics/SVG/1.1/DTD/svg11.dtd\">\r\n<!-- Generated by graphviz version 2.38.0 (20140413.2041)\r\n -->\r\n<!-- Title: Tree Pages: 1 -->\r\n<svg width=\"566pt\" height=\"433pt\"\r\n viewBox=\"0.00 0.00 566.00 433.00\" xmlns=\"http://www.w3.org/2000/svg\" xmlns:xlink=\"http://www.w3.org/1999/xlink\">\r\n<g id=\"graph0\" class=\"graph\" transform=\"scale(1 1) rotate(0) translate(4 429)\">\r\n<title>Tree</title>\r\n<polygon fill=\"white\" stroke=\"none\" points=\"-4,4 -4,-429 562,-429 562,4 -4,4\"/>\r\n<!-- 0 -->\r\n<g id=\"node1\" class=\"node\"><title>0</title>\r\n<path fill=\"#ffffff\" stroke=\"black\" d=\"M264.5,-425C264.5,-425 128.5,-425 128.5,-425 122.5,-425 116.5,-419 116.5,-413 116.5,-413 116.5,-354 116.5,-354 116.5,-348 122.5,-342 128.5,-342 128.5,-342 264.5,-342 264.5,-342 270.5,-342 276.5,-348 276.5,-354 276.5,-354 276.5,-413 276.5,-413 276.5,-419 270.5,-425 264.5,-425\"/>\r\n<text text-anchor=\"middle\" x=\"196.5\" y=\"-409.8\" font-family=\"Helvetica,sans-Serif\" font-size=\"14.00\">node #0</text>\r\n<text text-anchor=\"middle\" x=\"196.5\" y=\"-394.8\" font-family=\"Helvetica,sans-Serif\" font-size=\"14.00\">petal width (cm) &lt;= 0.8</text>\r\n<text text-anchor=\"middle\" x=\"196.5\" y=\"-379.8\" font-family=\"Helvetica,sans-Serif\" font-size=\"14.00\">entropy = 1.585</text>\r\n<text text-anchor=\"middle\" x=\"196.5\" y=\"-364.8\" font-family=\"Helvetica,sans-Serif\" font-size=\"14.00\">samples = 150</text>\r\n<text text-anchor=\"middle\" x=\"196.5\" y=\"-349.8\" font-family=\"Helvetica,sans-Serif\" font-size=\"14.00\">value = [50, 50, 50]</text>\r\n</g>\r\n<!-- 1 -->\r\n<g id=\"node2\" class=\"node\"><title>1</title>\r\n<path fill=\"#e58139\" stroke=\"black\" d=\"M164,-298.5C164,-298.5 67,-298.5 67,-298.5 61,-298.5 55,-292.5 55,-286.5 55,-286.5 55,-242.5 55,-242.5 55,-236.5 61,-230.5 67,-230.5 67,-230.5 164,-230.5 164,-230.5 170,-230.5 176,-236.5 176,-242.5 176,-242.5 176,-286.5 176,-286.5 176,-292.5 170,-298.5 164,-298.5\"/>\r\n<text text-anchor=\"middle\" x=\"115.5\" y=\"-283.3\" font-family=\"Helvetica,sans-Serif\" font-size=\"14.00\">node #1</text>\r\n<text text-anchor=\"middle\" x=\"115.5\" y=\"-268.3\" font-family=\"Helvetica,sans-Serif\" font-size=\"14.00\">entropy = 0.0</text>\r\n<text text-anchor=\"middle\" x=\"115.5\" y=\"-253.3\" font-family=\"Helvetica,sans-Serif\" font-size=\"14.00\">samples = 50</text>\r\n<text text-anchor=\"middle\" x=\"115.5\" y=\"-238.3\" font-family=\"Helvetica,sans-Serif\" font-size=\"14.00\">value = [50, 0, 0]</text>\r\n</g>\r\n<!-- 0&#45;&gt;1 -->\r\n<g id=\"edge1\" class=\"edge\"><title>0&#45;&gt;1</title>\r\n<path fill=\"none\" stroke=\"black\" d=\"M168.397,-341.907C160.605,-330.652 152.136,-318.418 144.304,-307.106\"/>\r\n<polygon fill=\"black\" stroke=\"black\" points=\"147.032,-304.897 138.462,-298.667 141.276,-308.881 147.032,-304.897\"/>\r\n<text text-anchor=\"middle\" x=\"133.99\" y=\"-319.564\" font-family=\"Helvetica,sans-Serif\" font-size=\"14.00\">True</text>\r\n</g>\r\n<!-- 2 -->\r\n<g id=\"node3\" class=\"node\"><title>2</title>\r\n<path fill=\"#ffffff\" stroke=\"black\" d=\"M350.5,-306C350.5,-306 206.5,-306 206.5,-306 200.5,-306 194.5,-300 194.5,-294 194.5,-294 194.5,-235 194.5,-235 194.5,-229 200.5,-223 206.5,-223 206.5,-223 350.5,-223 350.5,-223 356.5,-223 362.5,-229 362.5,-235 362.5,-235 362.5,-294 362.5,-294 362.5,-300 356.5,-306 350.5,-306\"/>\r\n<text text-anchor=\"middle\" x=\"278.5\" y=\"-290.8\" font-family=\"Helvetica,sans-Serif\" font-size=\"14.00\">node #2</text>\r\n<text text-anchor=\"middle\" x=\"278.5\" y=\"-275.8\" font-family=\"Helvetica,sans-Serif\" font-size=\"14.00\">petal width (cm) &lt;= 1.75</text>\r\n<text text-anchor=\"middle\" x=\"278.5\" y=\"-260.8\" font-family=\"Helvetica,sans-Serif\" font-size=\"14.00\">entropy = 1.0</text>\r\n<text text-anchor=\"middle\" x=\"278.5\" y=\"-245.8\" font-family=\"Helvetica,sans-Serif\" font-size=\"14.00\">samples = 100</text>\r\n<text text-anchor=\"middle\" x=\"278.5\" y=\"-230.8\" font-family=\"Helvetica,sans-Serif\" font-size=\"14.00\">value = [0, 50, 50]</text>\r\n</g>\r\n<!-- 0&#45;&gt;2 -->\r\n<g id=\"edge2\" class=\"edge\"><title>0&#45;&gt;2</title>\r\n<path fill=\"none\" stroke=\"black\" d=\"M224.949,-341.907C231.183,-333.014 237.844,-323.509 244.277,-314.331\"/>\r\n<polygon fill=\"black\" stroke=\"black\" points=\"247.228,-316.219 250.101,-306.021 241.495,-312.201 247.228,-316.219\"/>\r\n<text text-anchor=\"middle\" x=\"254.431\" y=\"-326.943\" font-family=\"Helvetica,sans-Serif\" font-size=\"14.00\">False</text>\r\n</g>\r\n<!-- 3 -->\r\n<g id=\"node4\" class=\"node\"><title>3</title>\r\n<path fill=\"#4de88e\" stroke=\"black\" d=\"M257.5,-187C257.5,-187 107.5,-187 107.5,-187 101.5,-187 95.5,-181 95.5,-175 95.5,-175 95.5,-116 95.5,-116 95.5,-110 101.5,-104 107.5,-104 107.5,-104 257.5,-104 257.5,-104 263.5,-104 269.5,-110 269.5,-116 269.5,-116 269.5,-175 269.5,-175 269.5,-181 263.5,-187 257.5,-187\"/>\r\n<text text-anchor=\"middle\" x=\"182.5\" y=\"-171.8\" font-family=\"Helvetica,sans-Serif\" font-size=\"14.00\">node #3</text>\r\n<text text-anchor=\"middle\" x=\"182.5\" y=\"-156.8\" font-family=\"Helvetica,sans-Serif\" font-size=\"14.00\">petal length (cm) &lt;= 4.95</text>\r\n<text text-anchor=\"middle\" x=\"182.5\" y=\"-141.8\" font-family=\"Helvetica,sans-Serif\" font-size=\"14.00\">entropy = 0.445</text>\r\n<text text-anchor=\"middle\" x=\"182.5\" y=\"-126.8\" font-family=\"Helvetica,sans-Serif\" font-size=\"14.00\">samples = 54</text>\r\n<text text-anchor=\"middle\" x=\"182.5\" y=\"-111.8\" font-family=\"Helvetica,sans-Serif\" font-size=\"14.00\">value = [0, 49, 5]</text>\r\n</g>\r\n<!-- 2&#45;&gt;3 -->\r\n<g id=\"edge3\" class=\"edge\"><title>2&#45;&gt;3</title>\r\n<path fill=\"none\" stroke=\"black\" d=\"M245.193,-222.907C237.747,-213.832 229.779,-204.121 222.106,-194.769\"/>\r\n<polygon fill=\"black\" stroke=\"black\" points=\"224.797,-192.531 215.748,-187.021 219.385,-196.972 224.797,-192.531\"/>\r\n</g>\r\n<!-- 6 -->\r\n<g id=\"node7\" class=\"node\"><title>6</title>\r\n<path fill=\"#843de6\" stroke=\"black\" d=\"M449.5,-187C449.5,-187 299.5,-187 299.5,-187 293.5,-187 287.5,-181 287.5,-175 287.5,-175 287.5,-116 287.5,-116 287.5,-110 293.5,-104 299.5,-104 299.5,-104 449.5,-104 449.5,-104 455.5,-104 461.5,-110 461.5,-116 461.5,-116 461.5,-175 461.5,-175 461.5,-181 455.5,-187 449.5,-187\"/>\r\n<text text-anchor=\"middle\" x=\"374.5\" y=\"-171.8\" font-family=\"Helvetica,sans-Serif\" font-size=\"14.00\">node #6</text>\r\n<text text-anchor=\"middle\" x=\"374.5\" y=\"-156.8\" font-family=\"Helvetica,sans-Serif\" font-size=\"14.00\">petal length (cm) &lt;= 4.85</text>\r\n<text text-anchor=\"middle\" x=\"374.5\" y=\"-141.8\" font-family=\"Helvetica,sans-Serif\" font-size=\"14.00\">entropy = 0.151</text>\r\n<text text-anchor=\"middle\" x=\"374.5\" y=\"-126.8\" font-family=\"Helvetica,sans-Serif\" font-size=\"14.00\">samples = 46</text>\r\n<text text-anchor=\"middle\" x=\"374.5\" y=\"-111.8\" font-family=\"Helvetica,sans-Serif\" font-size=\"14.00\">value = [0, 1, 45]</text>\r\n</g>\r\n<!-- 2&#45;&gt;6 -->\r\n<g id=\"edge6\" class=\"edge\"><title>2&#45;&gt;6</title>\r\n<path fill=\"none\" stroke=\"black\" d=\"M311.807,-222.907C319.253,-213.832 327.221,-204.121 334.894,-194.769\"/>\r\n<polygon fill=\"black\" stroke=\"black\" points=\"337.615,-196.972 341.252,-187.021 332.203,-192.531 337.615,-196.972\"/>\r\n</g>\r\n<!-- 4 -->\r\n<g id=\"node5\" class=\"node\"><title>4</title>\r\n<path fill=\"#3de684\" stroke=\"black\" d=\"M109,-68C109,-68 12,-68 12,-68 6,-68 0,-62 0,-56 0,-56 0,-12 0,-12 0,-6 6,-0 12,-0 12,-0 109,-0 109,-0 115,-0 121,-6 121,-12 121,-12 121,-56 121,-56 121,-62 115,-68 109,-68\"/>\r\n<text text-anchor=\"middle\" x=\"60.5\" y=\"-52.8\" font-family=\"Helvetica,sans-Serif\" font-size=\"14.00\">node #4</text>\r\n<text text-anchor=\"middle\" x=\"60.5\" y=\"-37.8\" font-family=\"Helvetica,sans-Serif\" font-size=\"14.00\">entropy = 0.146</text>\r\n<text text-anchor=\"middle\" x=\"60.5\" y=\"-22.8\" font-family=\"Helvetica,sans-Serif\" font-size=\"14.00\">samples = 48</text>\r\n<text text-anchor=\"middle\" x=\"60.5\" y=\"-7.8\" font-family=\"Helvetica,sans-Serif\" font-size=\"14.00\">value = [0, 47, 1]</text>\r\n</g>\r\n<!-- 3&#45;&gt;4 -->\r\n<g id=\"edge4\" class=\"edge\"><title>3&#45;&gt;4</title>\r\n<path fill=\"none\" stroke=\"black\" d=\"M137.072,-103.726C126.605,-94.3318 115.482,-84.349 105.053,-74.9883\"/>\r\n<polygon fill=\"black\" stroke=\"black\" points=\"107.381,-72.3744 97.6009,-68.2996 102.705,-77.5839 107.381,-72.3744\"/>\r\n</g>\r\n<!-- 5 -->\r\n<g id=\"node6\" class=\"node\"><title>5</title>\r\n<path fill=\"#c09cf2\" stroke=\"black\" d=\"M243.5,-68C243.5,-68 151.5,-68 151.5,-68 145.5,-68 139.5,-62 139.5,-56 139.5,-56 139.5,-12 139.5,-12 139.5,-6 145.5,-0 151.5,-0 151.5,-0 243.5,-0 243.5,-0 249.5,-0 255.5,-6 255.5,-12 255.5,-12 255.5,-56 255.5,-56 255.5,-62 249.5,-68 243.5,-68\"/>\r\n<text text-anchor=\"middle\" x=\"197.5\" y=\"-52.8\" font-family=\"Helvetica,sans-Serif\" font-size=\"14.00\">node #5</text>\r\n<text text-anchor=\"middle\" x=\"197.5\" y=\"-37.8\" font-family=\"Helvetica,sans-Serif\" font-size=\"14.00\">entropy = 0.918</text>\r\n<text text-anchor=\"middle\" x=\"197.5\" y=\"-22.8\" font-family=\"Helvetica,sans-Serif\" font-size=\"14.00\">samples = 6</text>\r\n<text text-anchor=\"middle\" x=\"197.5\" y=\"-7.8\" font-family=\"Helvetica,sans-Serif\" font-size=\"14.00\">value = [0, 2, 4]</text>\r\n</g>\r\n<!-- 3&#45;&gt;5 -->\r\n<g id=\"edge5\" class=\"edge\"><title>3&#45;&gt;5</title>\r\n<path fill=\"none\" stroke=\"black\" d=\"M188.085,-103.726C189.222,-95.4263 190.422,-86.6671 191.571,-78.2834\"/>\r\n<polygon fill=\"black\" stroke=\"black\" points=\"195.049,-78.6821 192.938,-68.2996 188.114,-77.732 195.049,-78.6821\"/>\r\n</g>\r\n<!-- 7 -->\r\n<g id=\"node8\" class=\"node\"><title>7</title>\r\n<path fill=\"#c09cf2\" stroke=\"black\" d=\"M406.5,-68C406.5,-68 314.5,-68 314.5,-68 308.5,-68 302.5,-62 302.5,-56 302.5,-56 302.5,-12 302.5,-12 302.5,-6 308.5,-0 314.5,-0 314.5,-0 406.5,-0 406.5,-0 412.5,-0 418.5,-6 418.5,-12 418.5,-12 418.5,-56 418.5,-56 418.5,-62 412.5,-68 406.5,-68\"/>\r\n<text text-anchor=\"middle\" x=\"360.5\" y=\"-52.8\" font-family=\"Helvetica,sans-Serif\" font-size=\"14.00\">node #7</text>\r\n<text text-anchor=\"middle\" x=\"360.5\" y=\"-37.8\" font-family=\"Helvetica,sans-Serif\" font-size=\"14.00\">entropy = 0.918</text>\r\n<text text-anchor=\"middle\" x=\"360.5\" y=\"-22.8\" font-family=\"Helvetica,sans-Serif\" font-size=\"14.00\">samples = 3</text>\r\n<text text-anchor=\"middle\" x=\"360.5\" y=\"-7.8\" font-family=\"Helvetica,sans-Serif\" font-size=\"14.00\">value = [0, 1, 2]</text>\r\n</g>\r\n<!-- 6&#45;&gt;7 -->\r\n<g id=\"edge7\" class=\"edge\"><title>6&#45;&gt;7</title>\r\n<path fill=\"none\" stroke=\"black\" d=\"M369.287,-103.726C368.226,-95.4263 367.106,-86.6671 366.034,-78.2834\"/>\r\n<polygon fill=\"black\" stroke=\"black\" points=\"369.498,-77.7749 364.757,-68.2996 362.554,-78.6628 369.498,-77.7749\"/>\r\n</g>\r\n<!-- 8 -->\r\n<g id=\"node9\" class=\"node\"><title>8</title>\r\n<path fill=\"#8139e5\" stroke=\"black\" d=\"M546,-68C546,-68 449,-68 449,-68 443,-68 437,-62 437,-56 437,-56 437,-12 437,-12 437,-6 443,-0 449,-0 449,-0 546,-0 546,-0 552,-0 558,-6 558,-12 558,-12 558,-56 558,-56 558,-62 552,-68 546,-68\"/>\r\n<text text-anchor=\"middle\" x=\"497.5\" y=\"-52.8\" font-family=\"Helvetica,sans-Serif\" font-size=\"14.00\">node #8</text>\r\n<text text-anchor=\"middle\" x=\"497.5\" y=\"-37.8\" font-family=\"Helvetica,sans-Serif\" font-size=\"14.00\">entropy = 0.0</text>\r\n<text text-anchor=\"middle\" x=\"497.5\" y=\"-22.8\" font-family=\"Helvetica,sans-Serif\" font-size=\"14.00\">samples = 43</text>\r\n<text text-anchor=\"middle\" x=\"497.5\" y=\"-7.8\" font-family=\"Helvetica,sans-Serif\" font-size=\"14.00\">value = [0, 0, 43]</text>\r\n</g>\r\n<!-- 6&#45;&gt;8 -->\r\n<g id=\"edge8\" class=\"edge\"><title>6&#45;&gt;8</title>\r\n<path fill=\"none\" stroke=\"black\" d=\"M420.301,-103.726C430.853,-94.3318 442.067,-84.349 452.582,-74.9883\"/>\r\n<polygon fill=\"black\" stroke=\"black\" points=\"454.953,-77.5631 460.095,-68.2996 450.299,-72.3347 454.953,-77.5631\"/>\r\n</g>\r\n</g>\r\n</svg>\r\n"
     },
     "execution_count": 16,
     "metadata": {},
     "output_type": "execute_result"
    }
   ],
   "source": [
    "graph"
   ]
  },
  {
   "cell_type": "markdown",
   "source": [
    "## 探索决策树的结构\n",
    "\n",
    "以上述的 Iris 数据集为例，结合绘制的决策树图，来研究决策树算法的一些细节。"
   ],
   "metadata": {
    "collapsed": false,
    "pycharm": {
     "name": "#%% md\n"
    }
   }
  },
  {
   "cell_type": "code",
   "execution_count": 51,
   "outputs": [
    {
     "data": {
      "text/plain": "   node  left_child  right_child  split_feature split_feature_names  \\\n0     0           1            2              3    petal width (cm)   \n1     1          -1           -1             -2                None   \n2     2           3            6              3    petal width (cm)   \n3     3           4            5              2   petal length (cm)   \n4     4          -1           -1             -2                None   \n5     5          -1           -1             -2                None   \n6     6           7            8              2   petal length (cm)   \n7     7          -1           -1             -2                None   \n8     8          -1           -1             -2                None   \n\n   feature_threshold  samples   entropy   node_class_values  \n0               0.80      150  1.584963  [50.0, 50.0, 50.0]  \n1              -2.00       50  0.000000    [50.0, 0.0, 0.0]  \n2               1.75      100  1.000000   [0.0, 50.0, 50.0]  \n3               4.95       54  0.445065    [0.0, 49.0, 5.0]  \n4              -2.00       48  0.146094    [0.0, 47.0, 1.0]  \n5              -2.00        6  0.918296     [0.0, 2.0, 4.0]  \n6               4.85       46  0.151097    [0.0, 1.0, 45.0]  \n7              -2.00        3  0.918296     [0.0, 1.0, 2.0]  \n8              -2.00       43  0.000000    [0.0, 0.0, 43.0]  ",
      "text/html": "<div>\n<style scoped>\n    .dataframe tbody tr th:only-of-type {\n        vertical-align: middle;\n    }\n\n    .dataframe tbody tr th {\n        vertical-align: top;\n    }\n\n    .dataframe thead th {\n        text-align: right;\n    }\n</style>\n<table border=\"1\" class=\"dataframe\">\n  <thead>\n    <tr style=\"text-align: right;\">\n      <th></th>\n      <th>node</th>\n      <th>left_child</th>\n      <th>right_child</th>\n      <th>split_feature</th>\n      <th>split_feature_names</th>\n      <th>feature_threshold</th>\n      <th>samples</th>\n      <th>entropy</th>\n      <th>node_class_values</th>\n    </tr>\n  </thead>\n  <tbody>\n    <tr>\n      <th>0</th>\n      <td>0</td>\n      <td>1</td>\n      <td>2</td>\n      <td>3</td>\n      <td>petal width (cm)</td>\n      <td>0.80</td>\n      <td>150</td>\n      <td>1.584963</td>\n      <td>[50.0, 50.0, 50.0]</td>\n    </tr>\n    <tr>\n      <th>1</th>\n      <td>1</td>\n      <td>-1</td>\n      <td>-1</td>\n      <td>-2</td>\n      <td>None</td>\n      <td>-2.00</td>\n      <td>50</td>\n      <td>0.000000</td>\n      <td>[50.0, 0.0, 0.0]</td>\n    </tr>\n    <tr>\n      <th>2</th>\n      <td>2</td>\n      <td>3</td>\n      <td>6</td>\n      <td>3</td>\n      <td>petal width (cm)</td>\n      <td>1.75</td>\n      <td>100</td>\n      <td>1.000000</td>\n      <td>[0.0, 50.0, 50.0]</td>\n    </tr>\n    <tr>\n      <th>3</th>\n      <td>3</td>\n      <td>4</td>\n      <td>5</td>\n      <td>2</td>\n      <td>petal length (cm)</td>\n      <td>4.95</td>\n      <td>54</td>\n      <td>0.445065</td>\n      <td>[0.0, 49.0, 5.0]</td>\n    </tr>\n    <tr>\n      <th>4</th>\n      <td>4</td>\n      <td>-1</td>\n      <td>-1</td>\n      <td>-2</td>\n      <td>None</td>\n      <td>-2.00</td>\n      <td>48</td>\n      <td>0.146094</td>\n      <td>[0.0, 47.0, 1.0]</td>\n    </tr>\n    <tr>\n      <th>5</th>\n      <td>5</td>\n      <td>-1</td>\n      <td>-1</td>\n      <td>-2</td>\n      <td>None</td>\n      <td>-2.00</td>\n      <td>6</td>\n      <td>0.918296</td>\n      <td>[0.0, 2.0, 4.0]</td>\n    </tr>\n    <tr>\n      <th>6</th>\n      <td>6</td>\n      <td>7</td>\n      <td>8</td>\n      <td>2</td>\n      <td>petal length (cm)</td>\n      <td>4.85</td>\n      <td>46</td>\n      <td>0.151097</td>\n      <td>[0.0, 1.0, 45.0]</td>\n    </tr>\n    <tr>\n      <th>7</th>\n      <td>7</td>\n      <td>-1</td>\n      <td>-1</td>\n      <td>-2</td>\n      <td>None</td>\n      <td>-2.00</td>\n      <td>3</td>\n      <td>0.918296</td>\n      <td>[0.0, 1.0, 2.0]</td>\n    </tr>\n    <tr>\n      <th>8</th>\n      <td>8</td>\n      <td>-1</td>\n      <td>-1</td>\n      <td>-2</td>\n      <td>None</td>\n      <td>-2.00</td>\n      <td>43</td>\n      <td>0.000000</td>\n      <td>[0.0, 0.0, 43.0]</td>\n    </tr>\n  </tbody>\n</table>\n</div>"
     },
     "execution_count": 51,
     "metadata": {},
     "output_type": "execute_result"
    }
   ],
   "source": [
    "tree_df"
   ],
   "metadata": {
    "collapsed": false,
    "pycharm": {
     "name": "#%%\n"
    }
   }
  },
  {
   "cell_type": "markdown",
   "metadata": {},
   "source": [
    "-----\n",
    "\n",
    "# 孤立森林\n",
    "\n",
    "`sklearn.ensemble.IsolationForest`，用于异常值检测.\n",
    "\n",
    "`IsolationForest(*, n_estimators=100, max_samples='auto', contamination='auto', max_features=1.0, bootstrap=False, n_jobs=None, random_state=None, verbose=0, warm_start=False)`\n",
    "\n",
    "+ 实例化参数\n",
    "  + `n_estimators`，用于计算的树的个数\n",
    "  + `max_samples`，每棵树中，用于构建的最大样本数，有如下取值：\n",
    "    + int, 指定使用的最大样本数\n",
    "    + float, 指定使用的比例\n",
    "    + `\"auto\"`, 那么取值为 $min(256, n\\_samples)$\n",
    "  \n",
    "  其他的不重要.\n",
    "\n",
    "\n",
    "+ 属性\n",
    "  + `base_estimator_`, \n",
    "  + `estimators_`, 拟合的所有的树的列表\n",
    "  + `max_samples_`, 使用的最大样本数\n",
    "  + `n_features_`, \n",
    "\n",
    "\n",
    "+ 方法\n",
    "  + `decision_function(X)`, 计算每个样本在所有base estimator中的 anomaly score 的均值.  \n",
    "  返回值是一个 `shape=(n_samples,)` 的ndarray.\n",
    "  + `fit_predict(X)`, `predict(X)`, 判断样本是否为异常点.  \n",
    "  返回值为 `shape=(n_samples,)`，1 表示正常， -1 表示异常值.\n",
    "  + `score_samples(X)`, 计算每个样本的 anomaly score 的负值？？？？？   \n",
    "  返回值为 ndarray of `shape=(n_samples,)`.\n",
    "  \n",
    "\n",
    "下面的例子来源于sklearn官方文档 [IsolationForest Sample](https://scikit-learn.org/stable/auto_examples/ensemble/plot_isolation_forest.html#sphx-glr-auto-examples-ensemble-plot-isolation-forest-py)."
   ]
  },
  {
   "cell_type": "code",
   "execution_count": 2,
   "metadata": {},
   "outputs": [],
   "source": [
    "from sklearn.ensemble import IsolationForest"
   ]
  },
  {
   "cell_type": "code",
   "execution_count": 3,
   "metadata": {},
   "outputs": [],
   "source": [
    "rng = np.random.RandomState(42)\n",
    "\n",
    "X = 0.5*rng.randn(100, 2)\n",
    "\n",
    "# 产生两个中心点，一个往左下方移动 2, 一个往右上方移动 2\n",
    "X = pd.DataFrame(np.vstack([X-2, X+2]), columns=['x', 'y'])\n",
    "\n",
    "# 产生一些异常点，从 [-4, 4]的区间的均匀分布产生\n",
    "X_outliers = pd.DataFrame(rng.uniform(low=-4, high=4, size=(20, 2)),  columns=['x', 'y'])"
   ]
  },
  {
   "cell_type": "code",
   "execution_count": 18,
   "metadata": {},
   "outputs": [],
   "source": [
    "ifrest = IsolationForest(n_estimators=20, max_samples=100)\n",
    "\n",
    "X_all = pd.concat([X, X_outliers], axis=0)\n",
    "ifrest.fit(X_all)\n",
    "y_pred = ifrest.predict(X_all)"
   ]
  },
  {
   "cell_type": "code",
   "execution_count": 19,
   "metadata": {},
   "outputs": [
    {
     "data": {
      "text/plain": [
       "array([ 21,  28, 188, 204,  11, 160,  72,  76, 106, 150, 185,  93,  56,\n",
       "        31, 141, 156,  14, 147, 171,  96, 127,  77, 173,  51,  10, 201,\n",
       "         9, 219,  69, 199,  78,  13, 153, 133, 176,  55, 132,  41,  91,\n",
       "       118, 208,  33, 158, 100, 125, 108,  32, 197, 192,  20, 113, 103,\n",
       "        37,  94,  67, 144,  17, 124, 206, 128, 216,  61,  70, 196,  47,\n",
       "        60,  87, 194, 203,  49,  63,  83,  34, 187, 149,  22, 121,  36,\n",
       "       212, 122, 175, 168, 112,  97,  19,   4, 105, 174, 110,  89, 191,\n",
       "       207, 190,  73,  27, 186, 178, 193,  90,   3])"
      ]
     },
     "execution_count": 19,
     "metadata": {},
     "output_type": "execute_result"
    }
   ],
   "source": [
    "ifrest.estimators_samples_[0]"
   ]
  },
  {
   "cell_type": "code",
   "execution_count": 20,
   "metadata": {},
   "outputs": [
    {
     "data": {
      "text/plain": [
       "array([ 1,  1,  1,  1,  1,  1, -1, -1,  1, -1])"
      ]
     },
     "execution_count": 20,
     "metadata": {},
     "output_type": "execute_result"
    }
   ],
   "source": [
    "y_pred[:10]"
   ]
  },
  {
   "cell_type": "code",
   "execution_count": 21,
   "metadata": {},
   "outputs": [],
   "source": [
    "outliers_pred = X_all[y_pred == -1]"
   ]
  },
  {
   "cell_type": "code",
   "execution_count": 23,
   "metadata": {},
   "outputs": [
    {
     "data": {
      "text/plain": [
       "(60, 2)"
      ]
     },
     "execution_count": 23,
     "metadata": {},
     "output_type": "execute_result"
    }
   ],
   "source": [
    "outliers_pred.shape"
   ]
  },
  {
   "cell_type": "code",
   "execution_count": 42,
   "metadata": {},
   "outputs": [
    {
     "data": {
      "application/vnd.plotly.v1+json": {
       "config": {
        "plotlyServerURL": "https://plot.ly"
       },
       "data": [
        {
         "hovertemplate": "x=%{x}<br>y=%{y}<extra></extra>",
         "legendgroup": "",
         "marker": {
          "color": "blue",
          "symbol": "circle"
         },
         "mode": "markers",
         "name": "actual data",
         "orientation": "v",
         "showlegend": true,
         "type": "scatter",
         "x": [
          -1.7516429234943836,
          -1.6761557309496538,
          -2.117076687361668,
          -1.2103935922463043,
          -2.234737192967476,
          -2.231708846406231,
          -1.879018864216983,
          -2.862458916256516,
          -2.506415560167212,
          -2.4540120377606054,
          -1.267175615539223,
          -1.9662358976560381,
          -2.2721913622625913,
          -2.5754967887111513,
          -2.3003193449594024,
          -2.3008533061146985,
          -2.006748612368967,
          -1.5887275439484054,
          -1.8955682024976224,
          -2.6640930244492154,
          -1.6307667100022947,
          -2.05782414119412,
          -2.739260995183714,
          -2.230319385479894,
          -1.8281908552157693,
          -1.8379580153026025,
          -2.3384610001529795,
          -1.4845002387520245,
          -2.419608761611319,
          -1.834368284298218,
          -2.239587118922645,
          -2.553167487003014,
          -1.593737088802901,
          -2.036005060790167,
          -1.819181987476183,
          -1.819302197245793,
          -2.017913019554976,
          -3.3098725520448724,
          -1.9564764658809144,
          -1.9541196117322488,
          -2.109835943918756,
          -1.2610529776292418,
          -2.4042468014465936,
          -1.542298941148963,
          -2.264880101883519,
          -1.9514612253259798,
          -2.351026546938676,
          -2.196054076566079,
          -1.851939861467712,
          -1.9974432716787696,
          -2.707685371025207,
          -2.171357258263385,
          -2.0806428558330046,
          -1.0569070493947348,
          -1.8712248046386177,
          -2.9593856076495206,
          -1.9698848950294867,
          -2.096180482390561,
          -2.0173558848526216,
          -1.4285885927424897,
          -1.6044840264784765,
          -1.2986028445319504,
          -1.7065714530998648,
          -2.495268162565344,
          -1.9501743174561794,
          -2.775331715533066,
          -2.5311518568630524,
          -2.4597121171169016,
          -2.3916266461681186,
          -1.593241391315165,
          -1.8862700326979354,
          -2.8037416172806138,
          -1.8700586028757882,
          -2.618475355439041,
          -1.7390292171915511,
          -1.8747535748270616,
          -2.3400123607892453,
          -1.8534637633506594,
          -1.0671127444276216,
          -2.595651748601324,
          -2.4873408351136606,
          -1.420702210496298,
          -1.5183119353778392,
          -1.588969920002755,
          -2.1226940580014353,
          -2.4447572148127614,
          -2.038550854707052,
          -1.8616546003349905,
          -1.9934990540610464,
          -2.132328416618978,
          -1.687166326117497,
          -2.535446249030556,
          -2.1117313926629255,
          -1.7633811877132275,
          -2.4233968590342023,
          -2.2232574760335106,
          -1.8929531279348981,
          -1.913409537074409,
          -2.4419287181005664,
          -1.970895640777,
          2.2483570765056164,
          2.3238442690503462,
          1.882923312638332,
          2.7896064077536957,
          1.765262807032524,
          1.7682911535937689,
          2.1209811357830173,
          1.1375410837434836,
          1.4935844398327882,
          1.5459879622393946,
          2.732824384460777,
          2.033764102343962,
          1.7278086377374087,
          1.4245032112888487,
          1.6996806550405976,
          1.6991466938853015,
          1.993251387631033,
          2.4112724560515946,
          2.104431797502378,
          1.3359069755507846,
          2.3692332899977053,
          1.9421758588058797,
          1.2607390048162863,
          1.7696806145201063,
          2.1718091447842305,
          2.1620419846973977,
          1.6615389998470207,
          2.5154997612479755,
          1.5803912383886807,
          2.165631715701782,
          1.760412881077355,
          1.446832512996986,
          2.406262911197099,
          1.963994939209833,
          2.180818012523817,
          2.180697802754207,
          1.9820869804450243,
          0.6901274479551278,
          2.043523534119086,
          2.045880388267751,
          1.890164056081244,
          2.738947022370758,
          1.5957531985534061,
          2.457701058851037,
          1.7351198981164806,
          2.0485387746740202,
          1.6489734530613238,
          1.8039459234339212,
          2.148060138532288,
          2.0025567283212307,
          1.2923146289747929,
          1.8286427417366153,
          1.9193571441669954,
          2.943092950605265,
          2.1287751953613823,
          1.0406143923504794,
          2.030115104970513,
          1.9038195176094388,
          1.9826441151473784,
          2.5714114072575103,
          2.3955159735215235,
          2.7013971554680496,
          2.293428546900135,
          1.5047318374346559,
          2.049825682543821,
          1.2246682844669337,
          1.4688481431369476,
          1.5402878828830984,
          1.6083733538318814,
          2.406758608684835,
          2.113729967302065,
          1.1962583827193862,
          2.129941397124212,
          1.381524644560959,
          2.2609707828084487,
          2.1252464251729384,
          1.6599876392107547,
          2.146536236649341,
          2.9328872555723784,
          1.4043482513986758,
          1.5126591648863392,
          2.579297789503702,
          2.481688064622161,
          2.411030079997245,
          1.8773059419985647,
          1.5552427851872384,
          1.961449145292948,
          2.1383453996650097,
          2.0065009459389533,
          1.867671583381022,
          2.312833673882503,
          1.464553750969444,
          1.8882686073370745,
          2.2366188122867725,
          1.5766031409657975,
          1.7767425239664894,
          2.107046872065102,
          2.086590462925591,
          1.5580712818994336,
          2.029104359223
         ],
         "xaxis": "x",
         "y": [
          -2.069132150585592,
          -1.2384850717959872,
          -2.1170684784745903,
          -1.6162826354235456,
          -1.7287199782070177,
          -2.2328648767851282,
          -2.956640122328899,
          -2.281143764620486,
          -1.842876333702363,
          -2.706151850667646,
          -2.112888150243268,
          -2.712374093106728,
          -1.9445387051450669,
          -1.812150990827164,
          -2.1458468748966384,
          -1.073860907745531,
          -2.5288554644779504,
          -2.610421824985511,
          -2.979835061939888,
          -1.9015693820654382,
          -1.9143158594050147,
          -2.1505518477946444,
          -2.3599221041973544,
          -1.4714388868905421,
          -2.881520077681367,
          -2.1925411402081583,
          -1.6941618555795661,
          -1.5343599404419006,
          -2.1546061879256073,
          -1.5122274364388204,
          -2.0928294883319087,
          -2.5981033120403354,
          -1.3218799857145886,
          -1.498233551053988,
          -2.322559877302562,
          -1.2309817167670154,
          -1.217678172092997,
          -1.589048747812388,
          -2.1495036752329337,
          -2.993784457300446,
          -1.8214437142441269,
          -2.2591351091368237,
          -2.250878521792268,
          -1.8356244451701578,
          -1.743366283443322,
          -1.5156775047335553,
          -2.163831073298884,
          -2.7317574740660593,
          -1.8694723639100554,
          -2.1172935666875734,
          -2.2103226613826794,
          -2.4011386346108097,
          -1.7979745715927309,
          -1.9127110935840805,
          -2.037222957883084,
          -2.0132569377246083,
          -0.7683789437573569,
          -1.8492263288331938,
          -2.584339018809766,
          -1.6240334836566128,
          -2.4546937273973697,
          -2.7009255313961402,
          -0.9047721870950107,
          -2.283148864801386,
          -2.2517378270580997,
          -1.9657185125969863,
          -1.7632037846824091,
          -1.2250327974912303,
          -2.1610307581028376,
          -2.6154321582169775,
          -1.3464286228587858,
          -1.907683070733848,
          -1.6090885641113448,
          -2.6602283065421384,
          -1.8515076633834069,
          -1.826775895251512,
          -1.8838731514194982,
          -2.357175709013184,
          -1.7630835395441062,
          -1.6717231956830851,
          -1.606457698128774,
          -2.4103411591758555,
          -1.7936095365317508,
          -1.0516035086730264,
          -2.3768680821787447,
          -2.4079051424827194,
          -1.829424012591678,
          -1.5864083754819882,
          -1.2732329614213416,
          -0.6399154167051906,
          -2.4285787782081414,
          -1.7587637923784074,
          -1.642999752953954,
          -2.0364144563284365,
          -2.757423612342932,
          -1.5718006028382638,
          -2.6228693893559942,
          -1.8073413101355815,
          -1.923137447027236,
          -2.5714851489153117,
          1.9308678494144076,
          2.761514928204013,
          1.8829315215254097,
          2.3837173645764542,
          2.2712800217929825,
          1.7671351232148715,
          1.043359877671101,
          1.7188562353795136,
          2.157123666297637,
          1.2938481493323541,
          1.887111849756732,
          1.2876259068932716,
          2.055461294854933,
          2.1878490091728358,
          1.8541531251033616,
          2.926139092254469,
          1.4711445355220498,
          1.3895781750144889,
          1.020164938060112,
          2.0984306179345618,
          2.085684140594985,
          1.8494481522053556,
          1.6400778958026456,
          2.5285611131094576,
          1.118479922318633,
          1.8074588597918417,
          2.305838144420434,
          2.4656400595580994,
          1.8453938120743927,
          2.4877725635611796,
          1.9071705116680915,
          1.4018966879596646,
          2.6781200142854114,
          2.501766448946012,
          1.6774401226974378,
          2.7690182832329846,
          2.782321827907003,
          2.410951252187612,
          1.8504963247670663,
          1.0062155426995536,
          2.178556285755873,
          1.7408648908631763,
          1.7491214782077318,
          2.1643755548298422,
          2.256633716556678,
          2.4843224952664444,
          1.8361689267011159,
          1.2682425259339407,
          2.1305276360899446,
          1.8827064333124266,
          1.7896773386173206,
          1.5988613653891905,
          2.202025428407269,
          2.0872889064159197,
          1.9627770421169164,
          1.9867430622753917,
          3.231621056242643,
          2.150773671166806,
          1.4156609811902339,
          2.375966516343387,
          1.5453062726026305,
          1.2990744686038596,
          3.095227812904989,
          1.716851135198614,
          1.7482621729419003,
          2.0342814874030135,
          2.236796215317591,
          2.77496720250877,
          1.8389692418971622,
          1.3845678417830225,
          2.653571377141214,
          2.0923169292661523,
          2.390911435888655,
          1.3397716934578618,
          2.148492336616593,
          2.173224104748488,
          2.116126848580502,
          1.642824290986816,
          2.2369164604558938,
          2.328276804316915,
          2.393542301871226,
          1.5896588408241448,
          2.206390463468249,
          2.9483964913269736,
          1.6231319178212553,
          1.5920948575172809,
          2.170575987408322,
          2.413591624518012,
          2.726767038578658,
          3.3600845832948094,
          1.5714212217918586,
          2.2412362076215926,
          2.357000247046046,
          1.9635855436715637,
          1.2425763876570677,
          2.428199397161736,
          1.377130610644006,
          2.1926586898644183,
          2.076862552972764,
          1.4285148510846883
         ],
         "yaxis": "y"
        },
        {
         "marker": {
          "color": "red"
         },
         "mode": "markers",
         "name": "actual outliers",
         "type": "scatter",
         "x": [
          3.0189845754236435,
          1.5761259279621438,
          -1.1240707902419587,
          2.474889243828109,
          2.9365785486408296,
          0.09073919088750237,
          2.3863614317342012,
          1.6157350180616268,
          3.1200427345405304,
          -0.9953363788804479,
          0.6262411279693918,
          -0.27521585494031875,
          -1.7076699829737247,
          -3.7559980004876046,
          2.580804485277266,
          -2.9835158987849217,
          2.1599484247888867,
          0.983123806552002,
          -3.5865462306511384,
          0.32508097288085214
         ],
         "xaxis": "x",
         "y": [
          1.9261489420336355,
          1.6198726718968741,
          -1.651265245884053,
          2.480907157433446,
          3.3059244204517704,
          0.012130357497596833,
          1.1997114462221212,
          2.3663413554888084,
          -1.2960387451877136,
          -3.248144481273048,
          -3.7124618096260633,
          0.341157077660613,
          0.726666084552086,
          -3.7012144900062847,
          -1.1184748687098969,
          0.17794608043843496,
          -2.2734317800252546,
          -3.317220280049856,
          0.25083705254518396,
          1.0994392119856524
         ],
         "yaxis": "y"
        },
        {
         "marker": {
          "color": "green"
         },
         "mode": "markers",
         "name": "all data",
         "type": "scatter",
         "x": [
          -1.7516429234943836,
          -1.6761557309496538,
          -2.117076687361668,
          -1.2103935922463043,
          -2.234737192967476,
          -2.231708846406231,
          -1.879018864216983,
          -2.862458916256516,
          -2.506415560167212,
          -2.4540120377606054,
          -1.267175615539223,
          -1.9662358976560381,
          -2.2721913622625913,
          -2.5754967887111513,
          -2.3003193449594024,
          -2.3008533061146985,
          -2.006748612368967,
          -1.5887275439484054,
          -1.8955682024976224,
          -2.6640930244492154,
          -1.6307667100022947,
          -2.05782414119412,
          -2.739260995183714,
          -2.230319385479894,
          -1.8281908552157693,
          -1.8379580153026025,
          -2.3384610001529795,
          -1.4845002387520245,
          -2.419608761611319,
          -1.834368284298218,
          -2.239587118922645,
          -2.553167487003014,
          -1.593737088802901,
          -2.036005060790167,
          -1.819181987476183,
          -1.819302197245793,
          -2.017913019554976,
          -3.3098725520448724,
          -1.9564764658809144,
          -1.9541196117322488,
          -2.109835943918756,
          -1.2610529776292418,
          -2.4042468014465936,
          -1.542298941148963,
          -2.264880101883519,
          -1.9514612253259798,
          -2.351026546938676,
          -2.196054076566079,
          -1.851939861467712,
          -1.9974432716787696,
          -2.707685371025207,
          -2.171357258263385,
          -2.0806428558330046,
          -1.0569070493947348,
          -1.8712248046386177,
          -2.9593856076495206,
          -1.9698848950294867,
          -2.096180482390561,
          -2.0173558848526216,
          -1.4285885927424897,
          -1.6044840264784765,
          -1.2986028445319504,
          -1.7065714530998648,
          -2.495268162565344,
          -1.9501743174561794,
          -2.775331715533066,
          -2.5311518568630524,
          -2.4597121171169016,
          -2.3916266461681186,
          -1.593241391315165,
          -1.8862700326979354,
          -2.8037416172806138,
          -1.8700586028757882,
          -2.618475355439041,
          -1.7390292171915511,
          -1.8747535748270616,
          -2.3400123607892453,
          -1.8534637633506594,
          -1.0671127444276216,
          -2.595651748601324,
          -2.4873408351136606,
          -1.420702210496298,
          -1.5183119353778392,
          -1.588969920002755,
          -2.1226940580014353,
          -2.4447572148127614,
          -2.038550854707052,
          -1.8616546003349905,
          -1.9934990540610464,
          -2.132328416618978,
          -1.687166326117497,
          -2.535446249030556,
          -2.1117313926629255,
          -1.7633811877132275,
          -2.4233968590342023,
          -2.2232574760335106,
          -1.8929531279348981,
          -1.913409537074409,
          -2.4419287181005664,
          -1.970895640777,
          2.2483570765056164,
          2.3238442690503462,
          1.882923312638332,
          2.7896064077536957,
          1.765262807032524,
          1.7682911535937689,
          2.1209811357830173,
          1.1375410837434836,
          1.4935844398327882,
          1.5459879622393946,
          2.732824384460777,
          2.033764102343962,
          1.7278086377374087,
          1.4245032112888487,
          1.6996806550405976,
          1.6991466938853015,
          1.993251387631033,
          2.4112724560515946,
          2.104431797502378,
          1.3359069755507846,
          2.3692332899977053,
          1.9421758588058797,
          1.2607390048162863,
          1.7696806145201063,
          2.1718091447842305,
          2.1620419846973977,
          1.6615389998470207,
          2.5154997612479755,
          1.5803912383886807,
          2.165631715701782,
          1.760412881077355,
          1.446832512996986,
          2.406262911197099,
          1.963994939209833,
          2.180818012523817,
          2.180697802754207,
          1.9820869804450243,
          0.6901274479551278,
          2.043523534119086,
          2.045880388267751,
          1.890164056081244,
          2.738947022370758,
          1.5957531985534061,
          2.457701058851037,
          1.7351198981164806,
          2.0485387746740202,
          1.6489734530613238,
          1.8039459234339212,
          2.148060138532288,
          2.0025567283212307,
          1.2923146289747929,
          1.8286427417366153,
          1.9193571441669954,
          2.943092950605265,
          2.1287751953613823,
          1.0406143923504794,
          2.030115104970513,
          1.9038195176094388,
          1.9826441151473784,
          2.5714114072575103,
          2.3955159735215235,
          2.7013971554680496,
          2.293428546900135,
          1.5047318374346559,
          2.049825682543821,
          1.2246682844669337,
          1.4688481431369476,
          1.5402878828830984,
          1.6083733538318814,
          2.406758608684835,
          2.113729967302065,
          1.1962583827193862,
          2.129941397124212,
          1.381524644560959,
          2.2609707828084487,
          2.1252464251729384,
          1.6599876392107547,
          2.146536236649341,
          2.9328872555723784,
          1.4043482513986758,
          1.5126591648863392,
          2.579297789503702,
          2.481688064622161,
          2.411030079997245,
          1.8773059419985647,
          1.5552427851872384,
          1.961449145292948,
          2.1383453996650097,
          2.0065009459389533,
          1.867671583381022,
          2.312833673882503,
          1.464553750969444,
          1.8882686073370745,
          2.2366188122867725,
          1.5766031409657975,
          1.7767425239664894,
          2.107046872065102,
          2.086590462925591,
          1.5580712818994336,
          2.029104359223,
          3.0189845754236435,
          1.5761259279621438,
          -1.1240707902419587,
          2.474889243828109,
          2.9365785486408296,
          0.09073919088750237,
          2.3863614317342012,
          1.6157350180616268,
          3.1200427345405304,
          -0.9953363788804479,
          0.6262411279693918,
          -0.27521585494031875,
          -1.7076699829737247,
          -3.7559980004876046,
          2.580804485277266,
          -2.9835158987849217,
          2.1599484247888867,
          0.983123806552002,
          -3.5865462306511384,
          0.32508097288085214
         ],
         "xaxis": "x2",
         "y": [
          -2.069132150585592,
          -1.2384850717959872,
          -2.1170684784745903,
          -1.6162826354235456,
          -1.7287199782070177,
          -2.2328648767851282,
          -2.956640122328899,
          -2.281143764620486,
          -1.842876333702363,
          -2.706151850667646,
          -2.112888150243268,
          -2.712374093106728,
          -1.9445387051450669,
          -1.812150990827164,
          -2.1458468748966384,
          -1.073860907745531,
          -2.5288554644779504,
          -2.610421824985511,
          -2.979835061939888,
          -1.9015693820654382,
          -1.9143158594050147,
          -2.1505518477946444,
          -2.3599221041973544,
          -1.4714388868905421,
          -2.881520077681367,
          -2.1925411402081583,
          -1.6941618555795661,
          -1.5343599404419006,
          -2.1546061879256073,
          -1.5122274364388204,
          -2.0928294883319087,
          -2.5981033120403354,
          -1.3218799857145886,
          -1.498233551053988,
          -2.322559877302562,
          -1.2309817167670154,
          -1.217678172092997,
          -1.589048747812388,
          -2.1495036752329337,
          -2.993784457300446,
          -1.8214437142441269,
          -2.2591351091368237,
          -2.250878521792268,
          -1.8356244451701578,
          -1.743366283443322,
          -1.5156775047335553,
          -2.163831073298884,
          -2.7317574740660593,
          -1.8694723639100554,
          -2.1172935666875734,
          -2.2103226613826794,
          -2.4011386346108097,
          -1.7979745715927309,
          -1.9127110935840805,
          -2.037222957883084,
          -2.0132569377246083,
          -0.7683789437573569,
          -1.8492263288331938,
          -2.584339018809766,
          -1.6240334836566128,
          -2.4546937273973697,
          -2.7009255313961402,
          -0.9047721870950107,
          -2.283148864801386,
          -2.2517378270580997,
          -1.9657185125969863,
          -1.7632037846824091,
          -1.2250327974912303,
          -2.1610307581028376,
          -2.6154321582169775,
          -1.3464286228587858,
          -1.907683070733848,
          -1.6090885641113448,
          -2.6602283065421384,
          -1.8515076633834069,
          -1.826775895251512,
          -1.8838731514194982,
          -2.357175709013184,
          -1.7630835395441062,
          -1.6717231956830851,
          -1.606457698128774,
          -2.4103411591758555,
          -1.7936095365317508,
          -1.0516035086730264,
          -2.3768680821787447,
          -2.4079051424827194,
          -1.829424012591678,
          -1.5864083754819882,
          -1.2732329614213416,
          -0.6399154167051906,
          -2.4285787782081414,
          -1.7587637923784074,
          -1.642999752953954,
          -2.0364144563284365,
          -2.757423612342932,
          -1.5718006028382638,
          -2.6228693893559942,
          -1.8073413101355815,
          -1.923137447027236,
          -2.5714851489153117,
          1.9308678494144076,
          2.761514928204013,
          1.8829315215254097,
          2.3837173645764542,
          2.2712800217929825,
          1.7671351232148715,
          1.043359877671101,
          1.7188562353795136,
          2.157123666297637,
          1.2938481493323541,
          1.887111849756732,
          1.2876259068932716,
          2.055461294854933,
          2.1878490091728358,
          1.8541531251033616,
          2.926139092254469,
          1.4711445355220498,
          1.3895781750144889,
          1.020164938060112,
          2.0984306179345618,
          2.085684140594985,
          1.8494481522053556,
          1.6400778958026456,
          2.5285611131094576,
          1.118479922318633,
          1.8074588597918417,
          2.305838144420434,
          2.4656400595580994,
          1.8453938120743927,
          2.4877725635611796,
          1.9071705116680915,
          1.4018966879596646,
          2.6781200142854114,
          2.501766448946012,
          1.6774401226974378,
          2.7690182832329846,
          2.782321827907003,
          2.410951252187612,
          1.8504963247670663,
          1.0062155426995536,
          2.178556285755873,
          1.7408648908631763,
          1.7491214782077318,
          2.1643755548298422,
          2.256633716556678,
          2.4843224952664444,
          1.8361689267011159,
          1.2682425259339407,
          2.1305276360899446,
          1.8827064333124266,
          1.7896773386173206,
          1.5988613653891905,
          2.202025428407269,
          2.0872889064159197,
          1.9627770421169164,
          1.9867430622753917,
          3.231621056242643,
          2.150773671166806,
          1.4156609811902339,
          2.375966516343387,
          1.5453062726026305,
          1.2990744686038596,
          3.095227812904989,
          1.716851135198614,
          1.7482621729419003,
          2.0342814874030135,
          2.236796215317591,
          2.77496720250877,
          1.8389692418971622,
          1.3845678417830225,
          2.653571377141214,
          2.0923169292661523,
          2.390911435888655,
          1.3397716934578618,
          2.148492336616593,
          2.173224104748488,
          2.116126848580502,
          1.642824290986816,
          2.2369164604558938,
          2.328276804316915,
          2.393542301871226,
          1.5896588408241448,
          2.206390463468249,
          2.9483964913269736,
          1.6231319178212553,
          1.5920948575172809,
          2.170575987408322,
          2.413591624518012,
          2.726767038578658,
          3.3600845832948094,
          1.5714212217918586,
          2.2412362076215926,
          2.357000247046046,
          1.9635855436715637,
          1.2425763876570677,
          2.428199397161736,
          1.377130610644006,
          2.1926586898644183,
          2.076862552972764,
          1.4285148510846883,
          1.9261489420336355,
          1.6198726718968741,
          -1.651265245884053,
          2.480907157433446,
          3.3059244204517704,
          0.012130357497596833,
          1.1997114462221212,
          2.3663413554888084,
          -1.2960387451877136,
          -3.248144481273048,
          -3.7124618096260633,
          0.341157077660613,
          0.726666084552086,
          -3.7012144900062847,
          -1.1184748687098969,
          0.17794608043843496,
          -2.2734317800252546,
          -3.317220280049856,
          0.25083705254518396,
          1.0994392119856524
         ],
         "yaxis": "y2"
        },
        {
         "marker": {
          "color": "magenta"
         },
         "mode": "markers",
         "name": "detected_outliers",
         "type": "scatter",
         "x": [
          -1.879018864216983,
          -2.862458916256516,
          -2.4540120377606054,
          -1.9662358976560381,
          -2.3008533061146985,
          -1.8955682024976224,
          -2.739260995183714,
          -1.8281908552157693,
          -2.553167487003014,
          -3.3098725520448724,
          -1.9541196117322488,
          -1.2610529776292418,
          -2.196054076566079,
          -2.707685371025207,
          -2.9593856076495206,
          -1.9698848950294867,
          -1.2986028445319504,
          -1.7065714530998648,
          -2.495268162565344,
          -2.775331715533066,
          -2.8037416172806138,
          -2.618475355439041,
          -1.0671127444276216,
          -2.595651748601324,
          -2.4447572148127614,
          -2.132328416618978,
          -2.4233968590342023,
          2.3238442690503462,
          2.7896064077536957,
          1.6991466938853015,
          1.7696806145201063,
          2.406262911197099,
          2.180697802754207,
          1.9820869804450243,
          0.6901274479551278,
          2.943092950605265,
          2.030115104970513,
          2.293428546900135,
          1.5402878828830984,
          2.113729967302065,
          2.9328872555723784,
          2.411030079997245,
          2.0065009459389533,
          1.867671583381022,
          3.0189845754236435,
          -1.1240707902419587,
          2.9365785486408296,
          0.09073919088750237,
          3.1200427345405304,
          -0.9953363788804479,
          0.6262411279693918,
          -0.27521585494031875,
          -1.7076699829737247,
          -3.7559980004876046,
          2.580804485277266,
          -2.9835158987849217,
          2.1599484247888867,
          0.983123806552002,
          -3.5865462306511384,
          0.32508097288085214
         ],
         "xaxis": "x2",
         "y": [
          -2.956640122328899,
          -2.281143764620486,
          -2.706151850667646,
          -2.712374093106728,
          -1.073860907745531,
          -2.979835061939888,
          -2.3599221041973544,
          -2.881520077681367,
          -2.5981033120403354,
          -1.589048747812388,
          -2.993784457300446,
          -2.2591351091368237,
          -2.7317574740660593,
          -2.2103226613826794,
          -2.0132569377246083,
          -0.7683789437573569,
          -2.7009255313961402,
          -0.9047721870950107,
          -2.283148864801386,
          -1.9657185125969863,
          -1.907683070733848,
          -2.6602283065421384,
          -1.7630835395441062,
          -1.6717231956830851,
          -2.4079051424827194,
          -0.6399154167051906,
          -2.757423612342932,
          2.761514928204013,
          2.3837173645764542,
          2.926139092254469,
          2.5285611131094576,
          2.6781200142854114,
          2.7690182832329846,
          2.782321827907003,
          2.410951252187612,
          2.0872889064159197,
          3.231621056242643,
          3.095227812904989,
          2.77496720250877,
          2.653571377141214,
          2.2369164604558938,
          2.9483964913269736,
          2.726767038578658,
          3.3600845832948094,
          1.9261489420336355,
          -1.651265245884053,
          3.3059244204517704,
          0.012130357497596833,
          -1.2960387451877136,
          -3.248144481273048,
          -3.7124618096260633,
          0.341157077660613,
          0.726666084552086,
          -3.7012144900062847,
          -1.1184748687098969,
          0.17794608043843496,
          -2.2734317800252546,
          -3.317220280049856,
          0.25083705254518396,
          1.0994392119856524
         ],
         "yaxis": "y2"
        }
       ],
       "layout": {
        "autosize": true,
        "margin": {
         "b": 40,
         "l": 40,
         "r": 40,
         "t": 40
        },
        "template": {
         "data": {
          "bar": [
           {
            "error_x": {
             "color": "#2a3f5f"
            },
            "error_y": {
             "color": "#2a3f5f"
            },
            "marker": {
             "line": {
              "color": "#E5ECF6",
              "width": 0.5
             }
            },
            "type": "bar"
           }
          ],
          "barpolar": [
           {
            "marker": {
             "line": {
              "color": "#E5ECF6",
              "width": 0.5
             }
            },
            "type": "barpolar"
           }
          ],
          "carpet": [
           {
            "aaxis": {
             "endlinecolor": "#2a3f5f",
             "gridcolor": "white",
             "linecolor": "white",
             "minorgridcolor": "white",
             "startlinecolor": "#2a3f5f"
            },
            "baxis": {
             "endlinecolor": "#2a3f5f",
             "gridcolor": "white",
             "linecolor": "white",
             "minorgridcolor": "white",
             "startlinecolor": "#2a3f5f"
            },
            "type": "carpet"
           }
          ],
          "choropleth": [
           {
            "colorbar": {
             "outlinewidth": 0,
             "ticks": ""
            },
            "type": "choropleth"
           }
          ],
          "contour": [
           {
            "colorbar": {
             "outlinewidth": 0,
             "ticks": ""
            },
            "colorscale": [
             [
              0,
              "#0d0887"
             ],
             [
              0.1111111111111111,
              "#46039f"
             ],
             [
              0.2222222222222222,
              "#7201a8"
             ],
             [
              0.3333333333333333,
              "#9c179e"
             ],
             [
              0.4444444444444444,
              "#bd3786"
             ],
             [
              0.5555555555555556,
              "#d8576b"
             ],
             [
              0.6666666666666666,
              "#ed7953"
             ],
             [
              0.7777777777777778,
              "#fb9f3a"
             ],
             [
              0.8888888888888888,
              "#fdca26"
             ],
             [
              1,
              "#f0f921"
             ]
            ],
            "type": "contour"
           }
          ],
          "contourcarpet": [
           {
            "colorbar": {
             "outlinewidth": 0,
             "ticks": ""
            },
            "type": "contourcarpet"
           }
          ],
          "heatmap": [
           {
            "colorbar": {
             "outlinewidth": 0,
             "ticks": ""
            },
            "colorscale": [
             [
              0,
              "#0d0887"
             ],
             [
              0.1111111111111111,
              "#46039f"
             ],
             [
              0.2222222222222222,
              "#7201a8"
             ],
             [
              0.3333333333333333,
              "#9c179e"
             ],
             [
              0.4444444444444444,
              "#bd3786"
             ],
             [
              0.5555555555555556,
              "#d8576b"
             ],
             [
              0.6666666666666666,
              "#ed7953"
             ],
             [
              0.7777777777777778,
              "#fb9f3a"
             ],
             [
              0.8888888888888888,
              "#fdca26"
             ],
             [
              1,
              "#f0f921"
             ]
            ],
            "type": "heatmap"
           }
          ],
          "heatmapgl": [
           {
            "colorbar": {
             "outlinewidth": 0,
             "ticks": ""
            },
            "colorscale": [
             [
              0,
              "#0d0887"
             ],
             [
              0.1111111111111111,
              "#46039f"
             ],
             [
              0.2222222222222222,
              "#7201a8"
             ],
             [
              0.3333333333333333,
              "#9c179e"
             ],
             [
              0.4444444444444444,
              "#bd3786"
             ],
             [
              0.5555555555555556,
              "#d8576b"
             ],
             [
              0.6666666666666666,
              "#ed7953"
             ],
             [
              0.7777777777777778,
              "#fb9f3a"
             ],
             [
              0.8888888888888888,
              "#fdca26"
             ],
             [
              1,
              "#f0f921"
             ]
            ],
            "type": "heatmapgl"
           }
          ],
          "histogram": [
           {
            "marker": {
             "colorbar": {
              "outlinewidth": 0,
              "ticks": ""
             }
            },
            "type": "histogram"
           }
          ],
          "histogram2d": [
           {
            "colorbar": {
             "outlinewidth": 0,
             "ticks": ""
            },
            "colorscale": [
             [
              0,
              "#0d0887"
             ],
             [
              0.1111111111111111,
              "#46039f"
             ],
             [
              0.2222222222222222,
              "#7201a8"
             ],
             [
              0.3333333333333333,
              "#9c179e"
             ],
             [
              0.4444444444444444,
              "#bd3786"
             ],
             [
              0.5555555555555556,
              "#d8576b"
             ],
             [
              0.6666666666666666,
              "#ed7953"
             ],
             [
              0.7777777777777778,
              "#fb9f3a"
             ],
             [
              0.8888888888888888,
              "#fdca26"
             ],
             [
              1,
              "#f0f921"
             ]
            ],
            "type": "histogram2d"
           }
          ],
          "histogram2dcontour": [
           {
            "colorbar": {
             "outlinewidth": 0,
             "ticks": ""
            },
            "colorscale": [
             [
              0,
              "#0d0887"
             ],
             [
              0.1111111111111111,
              "#46039f"
             ],
             [
              0.2222222222222222,
              "#7201a8"
             ],
             [
              0.3333333333333333,
              "#9c179e"
             ],
             [
              0.4444444444444444,
              "#bd3786"
             ],
             [
              0.5555555555555556,
              "#d8576b"
             ],
             [
              0.6666666666666666,
              "#ed7953"
             ],
             [
              0.7777777777777778,
              "#fb9f3a"
             ],
             [
              0.8888888888888888,
              "#fdca26"
             ],
             [
              1,
              "#f0f921"
             ]
            ],
            "type": "histogram2dcontour"
           }
          ],
          "mesh3d": [
           {
            "colorbar": {
             "outlinewidth": 0,
             "ticks": ""
            },
            "type": "mesh3d"
           }
          ],
          "parcoords": [
           {
            "line": {
             "colorbar": {
              "outlinewidth": 0,
              "ticks": ""
             }
            },
            "type": "parcoords"
           }
          ],
          "pie": [
           {
            "automargin": true,
            "type": "pie"
           }
          ],
          "scatter": [
           {
            "marker": {
             "colorbar": {
              "outlinewidth": 0,
              "ticks": ""
             }
            },
            "type": "scatter"
           }
          ],
          "scatter3d": [
           {
            "line": {
             "colorbar": {
              "outlinewidth": 0,
              "ticks": ""
             }
            },
            "marker": {
             "colorbar": {
              "outlinewidth": 0,
              "ticks": ""
             }
            },
            "type": "scatter3d"
           }
          ],
          "scattercarpet": [
           {
            "marker": {
             "colorbar": {
              "outlinewidth": 0,
              "ticks": ""
             }
            },
            "type": "scattercarpet"
           }
          ],
          "scattergeo": [
           {
            "marker": {
             "colorbar": {
              "outlinewidth": 0,
              "ticks": ""
             }
            },
            "type": "scattergeo"
           }
          ],
          "scattergl": [
           {
            "marker": {
             "colorbar": {
              "outlinewidth": 0,
              "ticks": ""
             }
            },
            "type": "scattergl"
           }
          ],
          "scattermapbox": [
           {
            "marker": {
             "colorbar": {
              "outlinewidth": 0,
              "ticks": ""
             }
            },
            "type": "scattermapbox"
           }
          ],
          "scatterpolar": [
           {
            "marker": {
             "colorbar": {
              "outlinewidth": 0,
              "ticks": ""
             }
            },
            "type": "scatterpolar"
           }
          ],
          "scatterpolargl": [
           {
            "marker": {
             "colorbar": {
              "outlinewidth": 0,
              "ticks": ""
             }
            },
            "type": "scatterpolargl"
           }
          ],
          "scatterternary": [
           {
            "marker": {
             "colorbar": {
              "outlinewidth": 0,
              "ticks": ""
             }
            },
            "type": "scatterternary"
           }
          ],
          "surface": [
           {
            "colorbar": {
             "outlinewidth": 0,
             "ticks": ""
            },
            "colorscale": [
             [
              0,
              "#0d0887"
             ],
             [
              0.1111111111111111,
              "#46039f"
             ],
             [
              0.2222222222222222,
              "#7201a8"
             ],
             [
              0.3333333333333333,
              "#9c179e"
             ],
             [
              0.4444444444444444,
              "#bd3786"
             ],
             [
              0.5555555555555556,
              "#d8576b"
             ],
             [
              0.6666666666666666,
              "#ed7953"
             ],
             [
              0.7777777777777778,
              "#fb9f3a"
             ],
             [
              0.8888888888888888,
              "#fdca26"
             ],
             [
              1,
              "#f0f921"
             ]
            ],
            "type": "surface"
           }
          ],
          "table": [
           {
            "cells": {
             "fill": {
              "color": "#EBF0F8"
             },
             "line": {
              "color": "white"
             }
            },
            "header": {
             "fill": {
              "color": "#C8D4E3"
             },
             "line": {
              "color": "white"
             }
            },
            "type": "table"
           }
          ]
         },
         "layout": {
          "annotationdefaults": {
           "arrowcolor": "#2a3f5f",
           "arrowhead": 0,
           "arrowwidth": 1
          },
          "autotypenumbers": "strict",
          "coloraxis": {
           "colorbar": {
            "outlinewidth": 0,
            "ticks": ""
           }
          },
          "colorscale": {
           "diverging": [
            [
             0,
             "#8e0152"
            ],
            [
             0.1,
             "#c51b7d"
            ],
            [
             0.2,
             "#de77ae"
            ],
            [
             0.3,
             "#f1b6da"
            ],
            [
             0.4,
             "#fde0ef"
            ],
            [
             0.5,
             "#f7f7f7"
            ],
            [
             0.6,
             "#e6f5d0"
            ],
            [
             0.7,
             "#b8e186"
            ],
            [
             0.8,
             "#7fbc41"
            ],
            [
             0.9,
             "#4d9221"
            ],
            [
             1,
             "#276419"
            ]
           ],
           "sequential": [
            [
             0,
             "#0d0887"
            ],
            [
             0.1111111111111111,
             "#46039f"
            ],
            [
             0.2222222222222222,
             "#7201a8"
            ],
            [
             0.3333333333333333,
             "#9c179e"
            ],
            [
             0.4444444444444444,
             "#bd3786"
            ],
            [
             0.5555555555555556,
             "#d8576b"
            ],
            [
             0.6666666666666666,
             "#ed7953"
            ],
            [
             0.7777777777777778,
             "#fb9f3a"
            ],
            [
             0.8888888888888888,
             "#fdca26"
            ],
            [
             1,
             "#f0f921"
            ]
           ],
           "sequentialminus": [
            [
             0,
             "#0d0887"
            ],
            [
             0.1111111111111111,
             "#46039f"
            ],
            [
             0.2222222222222222,
             "#7201a8"
            ],
            [
             0.3333333333333333,
             "#9c179e"
            ],
            [
             0.4444444444444444,
             "#bd3786"
            ],
            [
             0.5555555555555556,
             "#d8576b"
            ],
            [
             0.6666666666666666,
             "#ed7953"
            ],
            [
             0.7777777777777778,
             "#fb9f3a"
            ],
            [
             0.8888888888888888,
             "#fdca26"
            ],
            [
             1,
             "#f0f921"
            ]
           ]
          },
          "colorway": [
           "#636efa",
           "#EF553B",
           "#00cc96",
           "#ab63fa",
           "#FFA15A",
           "#19d3f3",
           "#FF6692",
           "#B6E880",
           "#FF97FF",
           "#FECB52"
          ],
          "font": {
           "color": "#2a3f5f"
          },
          "geo": {
           "bgcolor": "white",
           "lakecolor": "white",
           "landcolor": "#E5ECF6",
           "showlakes": true,
           "showland": true,
           "subunitcolor": "white"
          },
          "hoverlabel": {
           "align": "left"
          },
          "hovermode": "closest",
          "mapbox": {
           "style": "light"
          },
          "paper_bgcolor": "white",
          "plot_bgcolor": "#E5ECF6",
          "polar": {
           "angularaxis": {
            "gridcolor": "white",
            "linecolor": "white",
            "ticks": ""
           },
           "bgcolor": "#E5ECF6",
           "radialaxis": {
            "gridcolor": "white",
            "linecolor": "white",
            "ticks": ""
           }
          },
          "scene": {
           "xaxis": {
            "backgroundcolor": "#E5ECF6",
            "gridcolor": "white",
            "gridwidth": 2,
            "linecolor": "white",
            "showbackground": true,
            "ticks": "",
            "zerolinecolor": "white"
           },
           "yaxis": {
            "backgroundcolor": "#E5ECF6",
            "gridcolor": "white",
            "gridwidth": 2,
            "linecolor": "white",
            "showbackground": true,
            "ticks": "",
            "zerolinecolor": "white"
           },
           "zaxis": {
            "backgroundcolor": "#E5ECF6",
            "gridcolor": "white",
            "gridwidth": 2,
            "linecolor": "white",
            "showbackground": true,
            "ticks": "",
            "zerolinecolor": "white"
           }
          },
          "shapedefaults": {
           "line": {
            "color": "#2a3f5f"
           }
          },
          "ternary": {
           "aaxis": {
            "gridcolor": "white",
            "linecolor": "white",
            "ticks": ""
           },
           "baxis": {
            "gridcolor": "white",
            "linecolor": "white",
            "ticks": ""
           },
           "bgcolor": "#E5ECF6",
           "caxis": {
            "gridcolor": "white",
            "linecolor": "white",
            "ticks": ""
           }
          },
          "title": {
           "x": 0.05
          },
          "xaxis": {
           "automargin": true,
           "gridcolor": "white",
           "linecolor": "white",
           "ticks": "",
           "title": {
            "standoff": 15
           },
           "zerolinecolor": "white",
           "zerolinewidth": 2
          },
          "yaxis": {
           "automargin": true,
           "gridcolor": "white",
           "linecolor": "white",
           "ticks": "",
           "title": {
            "standoff": 15
           },
           "zerolinecolor": "white",
           "zerolinewidth": 2
          }
         }
        },
        "xaxis": {
         "anchor": "y",
         "autorange": true,
         "domain": [
          0,
          0.45
         ],
         "range": [
          -4.208778123000944,
          3.5728228570538705
         ],
         "type": "linear"
        },
        "xaxis2": {
         "anchor": "y2",
         "autorange": true,
         "domain": [
          0.55,
          1
         ],
         "range": [
          -4.208778123000945,
          3.5728228570538705
         ],
         "type": "linear"
        },
        "yaxis": {
         "anchor": "x",
         "autorange": true,
         "domain": [
          0,
          1
         ],
         "range": [
          -4.195915441707444,
          3.8435382153761903
         ],
         "type": "linear"
        },
        "yaxis2": {
         "anchor": "x2",
         "autorange": true,
         "domain": [
          0,
          1
         ],
         "range": [
          -4.195915441707444,
          3.8435382153761903
         ],
         "type": "linear"
        }
       }
      },
      "image/png": "[encoded data removed]",
      "text/html": [
       "<div>                            <div id=\"200ab348-2f0e-4920-83b1-fea7acb9ec95\" class=\"plotly-graph-div\" style=\"height:525px; width:100%;\"></div>            <script type=\"text/javascript\">                require([\"plotly\"], function(Plotly) {                    window.PLOTLYENV=window.PLOTLYENV || {};                                    if (document.getElementById(\"200ab348-2f0e-4920-83b1-fea7acb9ec95\")) {                    Plotly.newPlot(                        \"200ab348-2f0e-4920-83b1-fea7acb9ec95\",                        [{\"hovertemplate\": \"x=%{x}<br>y=%{y}<extra></extra>\", \"legendgroup\": \"\", \"marker\": {\"color\": \"blue\", \"symbol\": \"circle\"}, \"mode\": \"markers\", \"name\": \"actual data\", \"orientation\": \"v\", \"showlegend\": true, \"type\": \"scatter\", \"x\": [-1.7516429234943836, -1.6761557309496538, -2.117076687361668, -1.2103935922463043, -2.234737192967476, -2.231708846406231, -1.879018864216983, -2.862458916256516, -2.506415560167212, -2.4540120377606054, -1.267175615539223, -1.9662358976560381, -2.2721913622625913, -2.5754967887111513, -2.3003193449594024, -2.3008533061146985, -2.006748612368967, -1.5887275439484054, -1.8955682024976224, -2.6640930244492154, -1.6307667100022947, -2.05782414119412, -2.739260995183714, -2.230319385479894, -1.8281908552157693, -1.8379580153026025, -2.3384610001529795, -1.4845002387520245, -2.419608761611319, -1.834368284298218, -2.239587118922645, -2.553167487003014, -1.593737088802901, -2.036005060790167, -1.819181987476183, -1.819302197245793, -2.017913019554976, -3.3098725520448724, -1.9564764658809144, -1.9541196117322488, -2.109835943918756, -1.2610529776292418, -2.4042468014465936, -1.542298941148963, -2.264880101883519, -1.9514612253259798, -2.351026546938676, -2.196054076566079, -1.851939861467712, -1.9974432716787696, -2.707685371025207, -2.171357258263385, -2.0806428558330046, -1.0569070493947348, -1.8712248046386177, -2.9593856076495206, -1.9698848950294867, -2.096180482390561, -2.0173558848526216, -1.4285885927424897, -1.6044840264784765, -1.2986028445319504, -1.7065714530998648, -2.495268162565344, -1.9501743174561794, -2.775331715533066, -2.5311518568630524, -2.4597121171169016, -2.3916266461681186, -1.593241391315165, -1.8862700326979354, -2.8037416172806138, -1.8700586028757882, -2.618475355439041, -1.7390292171915511, -1.8747535748270616, -2.3400123607892453, -1.8534637633506594, -1.0671127444276216, -2.595651748601324, -2.4873408351136606, -1.420702210496298, -1.5183119353778392, -1.588969920002755, -2.1226940580014353, -2.4447572148127614, -2.038550854707052, -1.8616546003349905, -1.9934990540610464, -2.132328416618978, -1.687166326117497, -2.535446249030556, -2.1117313926629255, -1.7633811877132275, -2.4233968590342023, -2.2232574760335106, -1.8929531279348981, -1.913409537074409, -2.4419287181005664, -1.970895640777, 2.2483570765056164, 2.3238442690503462, 1.882923312638332, 2.7896064077536957, 1.765262807032524, 1.7682911535937689, 2.1209811357830173, 1.1375410837434836, 1.4935844398327882, 1.5459879622393946, 2.732824384460777, 2.033764102343962, 1.7278086377374087, 1.4245032112888487, 1.6996806550405976, 1.6991466938853015, 1.993251387631033, 2.4112724560515946, 2.104431797502378, 1.3359069755507846, 2.3692332899977053, 1.9421758588058797, 1.2607390048162863, 1.7696806145201063, 2.1718091447842305, 2.1620419846973977, 1.6615389998470207, 2.5154997612479755, 1.5803912383886807, 2.165631715701782, 1.760412881077355, 1.446832512996986, 2.406262911197099, 1.963994939209833, 2.180818012523817, 2.180697802754207, 1.9820869804450243, 0.6901274479551278, 2.043523534119086, 2.045880388267751, 1.890164056081244, 2.738947022370758, 1.5957531985534061, 2.457701058851037, 1.7351198981164806, 2.0485387746740202, 1.6489734530613238, 1.8039459234339212, 2.148060138532288, 2.0025567283212307, 1.2923146289747929, 1.8286427417366153, 1.9193571441669954, 2.943092950605265, 2.1287751953613823, 1.0406143923504794, 2.030115104970513, 1.9038195176094388, 1.9826441151473784, 2.5714114072575103, 2.3955159735215235, 2.7013971554680496, 2.293428546900135, 1.5047318374346559, 2.049825682543821, 1.2246682844669337, 1.4688481431369476, 1.5402878828830984, 1.6083733538318814, 2.406758608684835, 2.113729967302065, 1.1962583827193862, 2.129941397124212, 1.381524644560959, 2.2609707828084487, 2.1252464251729384, 1.6599876392107547, 2.146536236649341, 2.9328872555723784, 1.4043482513986758, 1.5126591648863392, 2.579297789503702, 2.481688064622161, 2.411030079997245, 1.8773059419985647, 1.5552427851872384, 1.961449145292948, 2.1383453996650097, 2.0065009459389533, 1.867671583381022, 2.312833673882503, 1.464553750969444, 1.8882686073370745, 2.2366188122867725, 1.5766031409657975, 1.7767425239664894, 2.107046872065102, 2.086590462925591, 1.5580712818994336, 2.029104359223], \"xaxis\": \"x\", \"y\": [-2.069132150585592, -1.2384850717959872, -2.1170684784745903, -1.6162826354235456, -1.7287199782070177, -2.2328648767851282, -2.956640122328899, -2.281143764620486, -1.842876333702363, -2.706151850667646, -2.112888150243268, -2.712374093106728, -1.9445387051450669, -1.812150990827164, -2.1458468748966384, -1.073860907745531, -2.5288554644779504, -2.610421824985511, -2.979835061939888, -1.9015693820654382, -1.9143158594050147, -2.1505518477946444, -2.3599221041973544, -1.4714388868905421, -2.881520077681367, -2.1925411402081583, -1.6941618555795661, -1.5343599404419006, -2.1546061879256073, -1.5122274364388204, -2.0928294883319087, -2.5981033120403354, -1.3218799857145886, -1.498233551053988, -2.322559877302562, -1.2309817167670154, -1.217678172092997, -1.589048747812388, -2.1495036752329337, -2.993784457300446, -1.8214437142441269, -2.2591351091368237, -2.250878521792268, -1.8356244451701578, -1.743366283443322, -1.5156775047335553, -2.163831073298884, -2.7317574740660593, -1.8694723639100554, -2.1172935666875734, -2.2103226613826794, -2.4011386346108097, -1.7979745715927309, -1.9127110935840805, -2.037222957883084, -2.0132569377246083, -0.7683789437573569, -1.8492263288331938, -2.584339018809766, -1.6240334836566128, -2.4546937273973697, -2.7009255313961402, -0.9047721870950107, -2.283148864801386, -2.2517378270580997, -1.9657185125969863, -1.7632037846824091, -1.2250327974912303, -2.1610307581028376, -2.6154321582169775, -1.3464286228587858, -1.907683070733848, -1.6090885641113448, -2.6602283065421384, -1.8515076633834069, -1.826775895251512, -1.8838731514194982, -2.357175709013184, -1.7630835395441062, -1.6717231956830851, -1.606457698128774, -2.4103411591758555, -1.7936095365317508, -1.0516035086730264, -2.3768680821787447, -2.4079051424827194, -1.829424012591678, -1.5864083754819882, -1.2732329614213416, -0.6399154167051906, -2.4285787782081414, -1.7587637923784074, -1.642999752953954, -2.0364144563284365, -2.757423612342932, -1.5718006028382638, -2.6228693893559942, -1.8073413101355815, -1.923137447027236, -2.5714851489153117, 1.9308678494144076, 2.761514928204013, 1.8829315215254097, 2.3837173645764542, 2.2712800217929825, 1.7671351232148715, 1.043359877671101, 1.7188562353795136, 2.157123666297637, 1.2938481493323541, 1.887111849756732, 1.2876259068932716, 2.055461294854933, 2.1878490091728358, 1.8541531251033616, 2.926139092254469, 1.4711445355220498, 1.3895781750144889, 1.020164938060112, 2.0984306179345618, 2.085684140594985, 1.8494481522053556, 1.6400778958026456, 2.5285611131094576, 1.118479922318633, 1.8074588597918417, 2.305838144420434, 2.4656400595580994, 1.8453938120743927, 2.4877725635611796, 1.9071705116680915, 1.4018966879596646, 2.6781200142854114, 2.501766448946012, 1.6774401226974378, 2.7690182832329846, 2.782321827907003, 2.410951252187612, 1.8504963247670663, 1.0062155426995536, 2.178556285755873, 1.7408648908631763, 1.7491214782077318, 2.1643755548298422, 2.256633716556678, 2.4843224952664444, 1.8361689267011159, 1.2682425259339407, 2.1305276360899446, 1.8827064333124266, 1.7896773386173206, 1.5988613653891905, 2.202025428407269, 2.0872889064159197, 1.9627770421169164, 1.9867430622753917, 3.231621056242643, 2.150773671166806, 1.4156609811902339, 2.375966516343387, 1.5453062726026305, 1.2990744686038596, 3.095227812904989, 1.716851135198614, 1.7482621729419003, 2.0342814874030135, 2.236796215317591, 2.77496720250877, 1.8389692418971622, 1.3845678417830225, 2.653571377141214, 2.0923169292661523, 2.390911435888655, 1.3397716934578618, 2.148492336616593, 2.173224104748488, 2.116126848580502, 1.642824290986816, 2.2369164604558938, 2.328276804316915, 2.393542301871226, 1.5896588408241448, 2.206390463468249, 2.9483964913269736, 1.6231319178212553, 1.5920948575172809, 2.170575987408322, 2.413591624518012, 2.726767038578658, 3.3600845832948094, 1.5714212217918586, 2.2412362076215926, 2.357000247046046, 1.9635855436715637, 1.2425763876570677, 2.428199397161736, 1.377130610644006, 2.1926586898644183, 2.076862552972764, 1.4285148510846883], \"yaxis\": \"y\"}, {\"marker\": {\"color\": \"red\"}, \"mode\": \"markers\", \"name\": \"actual outliers\", \"type\": \"scatter\", \"x\": [3.0189845754236435, 1.5761259279621438, -1.1240707902419587, 2.474889243828109, 2.9365785486408296, 0.09073919088750237, 2.3863614317342012, 1.6157350180616268, 3.1200427345405304, -0.9953363788804479, 0.6262411279693918, -0.27521585494031875, -1.7076699829737247, -3.7559980004876046, 2.580804485277266, -2.9835158987849217, 2.1599484247888867, 0.983123806552002, -3.5865462306511384, 0.32508097288085214], \"xaxis\": \"x\", \"y\": [1.9261489420336355, 1.6198726718968741, -1.651265245884053, 2.480907157433446, 3.3059244204517704, 0.012130357497596833, 1.1997114462221212, 2.3663413554888084, -1.2960387451877136, -3.248144481273048, -3.7124618096260633, 0.341157077660613, 0.726666084552086, -3.7012144900062847, -1.1184748687098969, 0.17794608043843496, -2.2734317800252546, -3.317220280049856, 0.25083705254518396, 1.0994392119856524], \"yaxis\": \"y\"}, {\"marker\": {\"color\": \"green\"}, \"mode\": \"markers\", \"name\": \"all data\", \"type\": \"scatter\", \"x\": [-1.7516429234943836, -1.6761557309496538, -2.117076687361668, -1.2103935922463043, -2.234737192967476, -2.231708846406231, -1.879018864216983, -2.862458916256516, -2.506415560167212, -2.4540120377606054, -1.267175615539223, -1.9662358976560381, -2.2721913622625913, -2.5754967887111513, -2.3003193449594024, -2.3008533061146985, -2.006748612368967, -1.5887275439484054, -1.8955682024976224, -2.6640930244492154, -1.6307667100022947, -2.05782414119412, -2.739260995183714, -2.230319385479894, -1.8281908552157693, -1.8379580153026025, -2.3384610001529795, -1.4845002387520245, -2.419608761611319, -1.834368284298218, -2.239587118922645, -2.553167487003014, -1.593737088802901, -2.036005060790167, -1.819181987476183, -1.819302197245793, -2.017913019554976, -3.3098725520448724, -1.9564764658809144, -1.9541196117322488, -2.109835943918756, -1.2610529776292418, -2.4042468014465936, -1.542298941148963, -2.264880101883519, -1.9514612253259798, -2.351026546938676, -2.196054076566079, -1.851939861467712, -1.9974432716787696, -2.707685371025207, -2.171357258263385, -2.0806428558330046, -1.0569070493947348, -1.8712248046386177, -2.9593856076495206, -1.9698848950294867, -2.096180482390561, -2.0173558848526216, -1.4285885927424897, -1.6044840264784765, -1.2986028445319504, -1.7065714530998648, -2.495268162565344, -1.9501743174561794, -2.775331715533066, -2.5311518568630524, -2.4597121171169016, -2.3916266461681186, -1.593241391315165, -1.8862700326979354, -2.8037416172806138, -1.8700586028757882, -2.618475355439041, -1.7390292171915511, -1.8747535748270616, -2.3400123607892453, -1.8534637633506594, -1.0671127444276216, -2.595651748601324, -2.4873408351136606, -1.420702210496298, -1.5183119353778392, -1.588969920002755, -2.1226940580014353, -2.4447572148127614, -2.038550854707052, -1.8616546003349905, -1.9934990540610464, -2.132328416618978, -1.687166326117497, -2.535446249030556, -2.1117313926629255, -1.7633811877132275, -2.4233968590342023, -2.2232574760335106, -1.8929531279348981, -1.913409537074409, -2.4419287181005664, -1.970895640777, 2.2483570765056164, 2.3238442690503462, 1.882923312638332, 2.7896064077536957, 1.765262807032524, 1.7682911535937689, 2.1209811357830173, 1.1375410837434836, 1.4935844398327882, 1.5459879622393946, 2.732824384460777, 2.033764102343962, 1.7278086377374087, 1.4245032112888487, 1.6996806550405976, 1.6991466938853015, 1.993251387631033, 2.4112724560515946, 2.104431797502378, 1.3359069755507846, 2.3692332899977053, 1.9421758588058797, 1.2607390048162863, 1.7696806145201063, 2.1718091447842305, 2.1620419846973977, 1.6615389998470207, 2.5154997612479755, 1.5803912383886807, 2.165631715701782, 1.760412881077355, 1.446832512996986, 2.406262911197099, 1.963994939209833, 2.180818012523817, 2.180697802754207, 1.9820869804450243, 0.6901274479551278, 2.043523534119086, 2.045880388267751, 1.890164056081244, 2.738947022370758, 1.5957531985534061, 2.457701058851037, 1.7351198981164806, 2.0485387746740202, 1.6489734530613238, 1.8039459234339212, 2.148060138532288, 2.0025567283212307, 1.2923146289747929, 1.8286427417366153, 1.9193571441669954, 2.943092950605265, 2.1287751953613823, 1.0406143923504794, 2.030115104970513, 1.9038195176094388, 1.9826441151473784, 2.5714114072575103, 2.3955159735215235, 2.7013971554680496, 2.293428546900135, 1.5047318374346559, 2.049825682543821, 1.2246682844669337, 1.4688481431369476, 1.5402878828830984, 1.6083733538318814, 2.406758608684835, 2.113729967302065, 1.1962583827193862, 2.129941397124212, 1.381524644560959, 2.2609707828084487, 2.1252464251729384, 1.6599876392107547, 2.146536236649341, 2.9328872555723784, 1.4043482513986758, 1.5126591648863392, 2.579297789503702, 2.481688064622161, 2.411030079997245, 1.8773059419985647, 1.5552427851872384, 1.961449145292948, 2.1383453996650097, 2.0065009459389533, 1.867671583381022, 2.312833673882503, 1.464553750969444, 1.8882686073370745, 2.2366188122867725, 1.5766031409657975, 1.7767425239664894, 2.107046872065102, 2.086590462925591, 1.5580712818994336, 2.029104359223, 3.0189845754236435, 1.5761259279621438, -1.1240707902419587, 2.474889243828109, 2.9365785486408296, 0.09073919088750237, 2.3863614317342012, 1.6157350180616268, 3.1200427345405304, -0.9953363788804479, 0.6262411279693918, -0.27521585494031875, -1.7076699829737247, -3.7559980004876046, 2.580804485277266, -2.9835158987849217, 2.1599484247888867, 0.983123806552002, -3.5865462306511384, 0.32508097288085214], \"xaxis\": \"x2\", \"y\": [-2.069132150585592, -1.2384850717959872, -2.1170684784745903, -1.6162826354235456, -1.7287199782070177, -2.2328648767851282, -2.956640122328899, -2.281143764620486, -1.842876333702363, -2.706151850667646, -2.112888150243268, -2.712374093106728, -1.9445387051450669, -1.812150990827164, -2.1458468748966384, -1.073860907745531, -2.5288554644779504, -2.610421824985511, -2.979835061939888, -1.9015693820654382, -1.9143158594050147, -2.1505518477946444, -2.3599221041973544, -1.4714388868905421, -2.881520077681367, -2.1925411402081583, -1.6941618555795661, -1.5343599404419006, -2.1546061879256073, -1.5122274364388204, -2.0928294883319087, -2.5981033120403354, -1.3218799857145886, -1.498233551053988, -2.322559877302562, -1.2309817167670154, -1.217678172092997, -1.589048747812388, -2.1495036752329337, -2.993784457300446, -1.8214437142441269, -2.2591351091368237, -2.250878521792268, -1.8356244451701578, -1.743366283443322, -1.5156775047335553, -2.163831073298884, -2.7317574740660593, -1.8694723639100554, -2.1172935666875734, -2.2103226613826794, -2.4011386346108097, -1.7979745715927309, -1.9127110935840805, -2.037222957883084, -2.0132569377246083, -0.7683789437573569, -1.8492263288331938, -2.584339018809766, -1.6240334836566128, -2.4546937273973697, -2.7009255313961402, -0.9047721870950107, -2.283148864801386, -2.2517378270580997, -1.9657185125969863, -1.7632037846824091, -1.2250327974912303, -2.1610307581028376, -2.6154321582169775, -1.3464286228587858, -1.907683070733848, -1.6090885641113448, -2.6602283065421384, -1.8515076633834069, -1.826775895251512, -1.8838731514194982, -2.357175709013184, -1.7630835395441062, -1.6717231956830851, -1.606457698128774, -2.4103411591758555, -1.7936095365317508, -1.0516035086730264, -2.3768680821787447, -2.4079051424827194, -1.829424012591678, -1.5864083754819882, -1.2732329614213416, -0.6399154167051906, -2.4285787782081414, -1.7587637923784074, -1.642999752953954, -2.0364144563284365, -2.757423612342932, -1.5718006028382638, -2.6228693893559942, -1.8073413101355815, -1.923137447027236, -2.5714851489153117, 1.9308678494144076, 2.761514928204013, 1.8829315215254097, 2.3837173645764542, 2.2712800217929825, 1.7671351232148715, 1.043359877671101, 1.7188562353795136, 2.157123666297637, 1.2938481493323541, 1.887111849756732, 1.2876259068932716, 2.055461294854933, 2.1878490091728358, 1.8541531251033616, 2.926139092254469, 1.4711445355220498, 1.3895781750144889, 1.020164938060112, 2.0984306179345618, 2.085684140594985, 1.8494481522053556, 1.6400778958026456, 2.5285611131094576, 1.118479922318633, 1.8074588597918417, 2.305838144420434, 2.4656400595580994, 1.8453938120743927, 2.4877725635611796, 1.9071705116680915, 1.4018966879596646, 2.6781200142854114, 2.501766448946012, 1.6774401226974378, 2.7690182832329846, 2.782321827907003, 2.410951252187612, 1.8504963247670663, 1.0062155426995536, 2.178556285755873, 1.7408648908631763, 1.7491214782077318, 2.1643755548298422, 2.256633716556678, 2.4843224952664444, 1.8361689267011159, 1.2682425259339407, 2.1305276360899446, 1.8827064333124266, 1.7896773386173206, 1.5988613653891905, 2.202025428407269, 2.0872889064159197, 1.9627770421169164, 1.9867430622753917, 3.231621056242643, 2.150773671166806, 1.4156609811902339, 2.375966516343387, 1.5453062726026305, 1.2990744686038596, 3.095227812904989, 1.716851135198614, 1.7482621729419003, 2.0342814874030135, 2.236796215317591, 2.77496720250877, 1.8389692418971622, 1.3845678417830225, 2.653571377141214, 2.0923169292661523, 2.390911435888655, 1.3397716934578618, 2.148492336616593, 2.173224104748488, 2.116126848580502, 1.642824290986816, 2.2369164604558938, 2.328276804316915, 2.393542301871226, 1.5896588408241448, 2.206390463468249, 2.9483964913269736, 1.6231319178212553, 1.5920948575172809, 2.170575987408322, 2.413591624518012, 2.726767038578658, 3.3600845832948094, 1.5714212217918586, 2.2412362076215926, 2.357000247046046, 1.9635855436715637, 1.2425763876570677, 2.428199397161736, 1.377130610644006, 2.1926586898644183, 2.076862552972764, 1.4285148510846883, 1.9261489420336355, 1.6198726718968741, -1.651265245884053, 2.480907157433446, 3.3059244204517704, 0.012130357497596833, 1.1997114462221212, 2.3663413554888084, -1.2960387451877136, -3.248144481273048, -3.7124618096260633, 0.341157077660613, 0.726666084552086, -3.7012144900062847, -1.1184748687098969, 0.17794608043843496, -2.2734317800252546, -3.317220280049856, 0.25083705254518396, 1.0994392119856524], \"yaxis\": \"y2\"}, {\"marker\": {\"color\": \"magenta\"}, \"mode\": \"markers\", \"name\": \"detected_outliers\", \"type\": \"scatter\", \"x\": [-1.879018864216983, -2.862458916256516, -2.4540120377606054, -1.9662358976560381, -2.3008533061146985, -1.8955682024976224, -2.739260995183714, -1.8281908552157693, -2.553167487003014, -3.3098725520448724, -1.9541196117322488, -1.2610529776292418, -2.196054076566079, -2.707685371025207, -2.9593856076495206, -1.9698848950294867, -1.2986028445319504, -1.7065714530998648, -2.495268162565344, -2.775331715533066, -2.8037416172806138, -2.618475355439041, -1.0671127444276216, -2.595651748601324, -2.4447572148127614, -2.132328416618978, -2.4233968590342023, 2.3238442690503462, 2.7896064077536957, 1.6991466938853015, 1.7696806145201063, 2.406262911197099, 2.180697802754207, 1.9820869804450243, 0.6901274479551278, 2.943092950605265, 2.030115104970513, 2.293428546900135, 1.5402878828830984, 2.113729967302065, 2.9328872555723784, 2.411030079997245, 2.0065009459389533, 1.867671583381022, 3.0189845754236435, -1.1240707902419587, 2.9365785486408296, 0.09073919088750237, 3.1200427345405304, -0.9953363788804479, 0.6262411279693918, -0.27521585494031875, -1.7076699829737247, -3.7559980004876046, 2.580804485277266, -2.9835158987849217, 2.1599484247888867, 0.983123806552002, -3.5865462306511384, 0.32508097288085214], \"xaxis\": \"x2\", \"y\": [-2.956640122328899, -2.281143764620486, -2.706151850667646, -2.712374093106728, -1.073860907745531, -2.979835061939888, -2.3599221041973544, -2.881520077681367, -2.5981033120403354, -1.589048747812388, -2.993784457300446, -2.2591351091368237, -2.7317574740660593, -2.2103226613826794, -2.0132569377246083, -0.7683789437573569, -2.7009255313961402, -0.9047721870950107, -2.283148864801386, -1.9657185125969863, -1.907683070733848, -2.6602283065421384, -1.7630835395441062, -1.6717231956830851, -2.4079051424827194, -0.6399154167051906, -2.757423612342932, 2.761514928204013, 2.3837173645764542, 2.926139092254469, 2.5285611131094576, 2.6781200142854114, 2.7690182832329846, 2.782321827907003, 2.410951252187612, 2.0872889064159197, 3.231621056242643, 3.095227812904989, 2.77496720250877, 2.653571377141214, 2.2369164604558938, 2.9483964913269736, 2.726767038578658, 3.3600845832948094, 1.9261489420336355, -1.651265245884053, 3.3059244204517704, 0.012130357497596833, -1.2960387451877136, -3.248144481273048, -3.7124618096260633, 0.341157077660613, 0.726666084552086, -3.7012144900062847, -1.1184748687098969, 0.17794608043843496, -2.2734317800252546, -3.317220280049856, 0.25083705254518396, 1.0994392119856524], \"yaxis\": \"y2\"}],                        {\"margin\": {\"b\": 40, \"l\": 40, \"r\": 40, \"t\": 40}, \"template\": {\"data\": {\"bar\": [{\"error_x\": {\"color\": \"#2a3f5f\"}, \"error_y\": {\"color\": \"#2a3f5f\"}, \"marker\": {\"line\": {\"color\": \"#E5ECF6\", \"width\": 0.5}}, \"type\": \"bar\"}], \"barpolar\": [{\"marker\": {\"line\": {\"color\": \"#E5ECF6\", \"width\": 0.5}}, \"type\": \"barpolar\"}], \"carpet\": [{\"aaxis\": {\"endlinecolor\": \"#2a3f5f\", \"gridcolor\": \"white\", \"linecolor\": \"white\", \"minorgridcolor\": \"white\", \"startlinecolor\": \"#2a3f5f\"}, \"baxis\": {\"endlinecolor\": \"#2a3f5f\", \"gridcolor\": \"white\", \"linecolor\": \"white\", \"minorgridcolor\": \"white\", \"startlinecolor\": \"#2a3f5f\"}, \"type\": \"carpet\"}], \"choropleth\": [{\"colorbar\": {\"outlinewidth\": 0, \"ticks\": \"\"}, \"type\": \"choropleth\"}], \"contour\": [{\"colorbar\": {\"outlinewidth\": 0, \"ticks\": \"\"}, \"colorscale\": [[0.0, \"#0d0887\"], [0.1111111111111111, \"#46039f\"], [0.2222222222222222, \"#7201a8\"], [0.3333333333333333, \"#9c179e\"], [0.4444444444444444, \"#bd3786\"], [0.5555555555555556, \"#d8576b\"], [0.6666666666666666, \"#ed7953\"], [0.7777777777777778, \"#fb9f3a\"], [0.8888888888888888, \"#fdca26\"], [1.0, \"#f0f921\"]], \"type\": \"contour\"}], \"contourcarpet\": [{\"colorbar\": {\"outlinewidth\": 0, \"ticks\": \"\"}, \"type\": \"contourcarpet\"}], \"heatmap\": [{\"colorbar\": {\"outlinewidth\": 0, \"ticks\": \"\"}, \"colorscale\": [[0.0, \"#0d0887\"], [0.1111111111111111, \"#46039f\"], [0.2222222222222222, \"#7201a8\"], [0.3333333333333333, \"#9c179e\"], [0.4444444444444444, \"#bd3786\"], [0.5555555555555556, \"#d8576b\"], [0.6666666666666666, \"#ed7953\"], [0.7777777777777778, \"#fb9f3a\"], [0.8888888888888888, \"#fdca26\"], [1.0, \"#f0f921\"]], \"type\": \"heatmap\"}], \"heatmapgl\": [{\"colorbar\": {\"outlinewidth\": 0, \"ticks\": \"\"}, \"colorscale\": [[0.0, \"#0d0887\"], [0.1111111111111111, \"#46039f\"], [0.2222222222222222, \"#7201a8\"], [0.3333333333333333, \"#9c179e\"], [0.4444444444444444, \"#bd3786\"], [0.5555555555555556, \"#d8576b\"], [0.6666666666666666, \"#ed7953\"], [0.7777777777777778, \"#fb9f3a\"], [0.8888888888888888, \"#fdca26\"], [1.0, \"#f0f921\"]], \"type\": \"heatmapgl\"}], \"histogram\": [{\"marker\": {\"colorbar\": {\"outlinewidth\": 0, \"ticks\": \"\"}}, \"type\": \"histogram\"}], \"histogram2d\": [{\"colorbar\": {\"outlinewidth\": 0, \"ticks\": \"\"}, \"colorscale\": [[0.0, \"#0d0887\"], [0.1111111111111111, \"#46039f\"], [0.2222222222222222, \"#7201a8\"], [0.3333333333333333, \"#9c179e\"], [0.4444444444444444, \"#bd3786\"], [0.5555555555555556, \"#d8576b\"], [0.6666666666666666, \"#ed7953\"], [0.7777777777777778, \"#fb9f3a\"], [0.8888888888888888, \"#fdca26\"], [1.0, \"#f0f921\"]], \"type\": \"histogram2d\"}], \"histogram2dcontour\": [{\"colorbar\": {\"outlinewidth\": 0, \"ticks\": \"\"}, \"colorscale\": [[0.0, \"#0d0887\"], [0.1111111111111111, \"#46039f\"], [0.2222222222222222, \"#7201a8\"], [0.3333333333333333, \"#9c179e\"], [0.4444444444444444, \"#bd3786\"], [0.5555555555555556, \"#d8576b\"], [0.6666666666666666, \"#ed7953\"], [0.7777777777777778, \"#fb9f3a\"], [0.8888888888888888, \"#fdca26\"], [1.0, \"#f0f921\"]], \"type\": \"histogram2dcontour\"}], \"mesh3d\": [{\"colorbar\": {\"outlinewidth\": 0, \"ticks\": \"\"}, \"type\": \"mesh3d\"}], \"parcoords\": [{\"line\": {\"colorbar\": {\"outlinewidth\": 0, \"ticks\": \"\"}}, \"type\": \"parcoords\"}], \"pie\": [{\"automargin\": true, \"type\": \"pie\"}], \"scatter\": [{\"marker\": {\"colorbar\": {\"outlinewidth\": 0, \"ticks\": \"\"}}, \"type\": \"scatter\"}], \"scatter3d\": [{\"line\": {\"colorbar\": {\"outlinewidth\": 0, \"ticks\": \"\"}}, \"marker\": {\"colorbar\": {\"outlinewidth\": 0, \"ticks\": \"\"}}, \"type\": \"scatter3d\"}], \"scattercarpet\": [{\"marker\": {\"colorbar\": {\"outlinewidth\": 0, \"ticks\": \"\"}}, \"type\": \"scattercarpet\"}], \"scattergeo\": [{\"marker\": {\"colorbar\": {\"outlinewidth\": 0, \"ticks\": \"\"}}, \"type\": \"scattergeo\"}], \"scattergl\": [{\"marker\": {\"colorbar\": {\"outlinewidth\": 0, \"ticks\": \"\"}}, \"type\": \"scattergl\"}], \"scattermapbox\": [{\"marker\": {\"colorbar\": {\"outlinewidth\": 0, \"ticks\": \"\"}}, \"type\": \"scattermapbox\"}], \"scatterpolar\": [{\"marker\": {\"colorbar\": {\"outlinewidth\": 0, \"ticks\": \"\"}}, \"type\": \"scatterpolar\"}], \"scatterpolargl\": [{\"marker\": {\"colorbar\": {\"outlinewidth\": 0, \"ticks\": \"\"}}, \"type\": \"scatterpolargl\"}], \"scatterternary\": [{\"marker\": {\"colorbar\": {\"outlinewidth\": 0, \"ticks\": \"\"}}, \"type\": \"scatterternary\"}], \"surface\": [{\"colorbar\": {\"outlinewidth\": 0, \"ticks\": \"\"}, \"colorscale\": [[0.0, \"#0d0887\"], [0.1111111111111111, \"#46039f\"], [0.2222222222222222, \"#7201a8\"], [0.3333333333333333, \"#9c179e\"], [0.4444444444444444, \"#bd3786\"], [0.5555555555555556, \"#d8576b\"], [0.6666666666666666, \"#ed7953\"], [0.7777777777777778, \"#fb9f3a\"], [0.8888888888888888, \"#fdca26\"], [1.0, \"#f0f921\"]], \"type\": \"surface\"}], \"table\": [{\"cells\": {\"fill\": {\"color\": \"#EBF0F8\"}, \"line\": {\"color\": \"white\"}}, \"header\": {\"fill\": {\"color\": \"#C8D4E3\"}, \"line\": {\"color\": \"white\"}}, \"type\": \"table\"}]}, \"layout\": {\"annotationdefaults\": {\"arrowcolor\": \"#2a3f5f\", \"arrowhead\": 0, \"arrowwidth\": 1}, \"autotypenumbers\": \"strict\", \"coloraxis\": {\"colorbar\": {\"outlinewidth\": 0, \"ticks\": \"\"}}, \"colorscale\": {\"diverging\": [[0, \"#8e0152\"], [0.1, \"#c51b7d\"], [0.2, \"#de77ae\"], [0.3, \"#f1b6da\"], [0.4, \"#fde0ef\"], [0.5, \"#f7f7f7\"], [0.6, \"#e6f5d0\"], [0.7, \"#b8e186\"], [0.8, \"#7fbc41\"], [0.9, \"#4d9221\"], [1, \"#276419\"]], \"sequential\": [[0.0, \"#0d0887\"], [0.1111111111111111, \"#46039f\"], [0.2222222222222222, \"#7201a8\"], [0.3333333333333333, \"#9c179e\"], [0.4444444444444444, \"#bd3786\"], [0.5555555555555556, \"#d8576b\"], [0.6666666666666666, \"#ed7953\"], [0.7777777777777778, \"#fb9f3a\"], [0.8888888888888888, \"#fdca26\"], [1.0, \"#f0f921\"]], \"sequentialminus\": [[0.0, \"#0d0887\"], [0.1111111111111111, \"#46039f\"], [0.2222222222222222, \"#7201a8\"], [0.3333333333333333, \"#9c179e\"], [0.4444444444444444, \"#bd3786\"], [0.5555555555555556, \"#d8576b\"], [0.6666666666666666, \"#ed7953\"], [0.7777777777777778, \"#fb9f3a\"], [0.8888888888888888, \"#fdca26\"], [1.0, \"#f0f921\"]]}, \"colorway\": [\"#636efa\", \"#EF553B\", \"#00cc96\", \"#ab63fa\", \"#FFA15A\", \"#19d3f3\", \"#FF6692\", \"#B6E880\", \"#FF97FF\", \"#FECB52\"], \"font\": {\"color\": \"#2a3f5f\"}, \"geo\": {\"bgcolor\": \"white\", \"lakecolor\": \"white\", \"landcolor\": \"#E5ECF6\", \"showlakes\": true, \"showland\": true, \"subunitcolor\": \"white\"}, \"hoverlabel\": {\"align\": \"left\"}, \"hovermode\": \"closest\", \"mapbox\": {\"style\": \"light\"}, \"paper_bgcolor\": \"white\", \"plot_bgcolor\": \"#E5ECF6\", \"polar\": {\"angularaxis\": {\"gridcolor\": \"white\", \"linecolor\": \"white\", \"ticks\": \"\"}, \"bgcolor\": \"#E5ECF6\", \"radialaxis\": {\"gridcolor\": \"white\", \"linecolor\": \"white\", \"ticks\": \"\"}}, \"scene\": {\"xaxis\": {\"backgroundcolor\": \"#E5ECF6\", \"gridcolor\": \"white\", \"gridwidth\": 2, \"linecolor\": \"white\", \"showbackground\": true, \"ticks\": \"\", \"zerolinecolor\": \"white\"}, \"yaxis\": {\"backgroundcolor\": \"#E5ECF6\", \"gridcolor\": \"white\", \"gridwidth\": 2, \"linecolor\": \"white\", \"showbackground\": true, \"ticks\": \"\", \"zerolinecolor\": \"white\"}, \"zaxis\": {\"backgroundcolor\": \"#E5ECF6\", \"gridcolor\": \"white\", \"gridwidth\": 2, \"linecolor\": \"white\", \"showbackground\": true, \"ticks\": \"\", \"zerolinecolor\": \"white\"}}, \"shapedefaults\": {\"line\": {\"color\": \"#2a3f5f\"}}, \"ternary\": {\"aaxis\": {\"gridcolor\": \"white\", \"linecolor\": \"white\", \"ticks\": \"\"}, \"baxis\": {\"gridcolor\": \"white\", \"linecolor\": \"white\", \"ticks\": \"\"}, \"bgcolor\": \"#E5ECF6\", \"caxis\": {\"gridcolor\": \"white\", \"linecolor\": \"white\", \"ticks\": \"\"}}, \"title\": {\"x\": 0.05}, \"xaxis\": {\"automargin\": true, \"gridcolor\": \"white\", \"linecolor\": \"white\", \"ticks\": \"\", \"title\": {\"standoff\": 15}, \"zerolinecolor\": \"white\", \"zerolinewidth\": 2}, \"yaxis\": {\"automargin\": true, \"gridcolor\": \"white\", \"linecolor\": \"white\", \"ticks\": \"\", \"title\": {\"standoff\": 15}, \"zerolinecolor\": \"white\", \"zerolinewidth\": 2}}}, \"xaxis\": {\"anchor\": \"y\", \"domain\": [0.0, 0.45]}, \"xaxis2\": {\"anchor\": \"y2\", \"domain\": [0.55, 1.0]}, \"yaxis\": {\"anchor\": \"x\", \"domain\": [0.0, 1.0]}, \"yaxis2\": {\"anchor\": \"x2\", \"domain\": [0.0, 1.0]}},                        {\"responsive\": true}                    ).then(function(){\n",
       "                            \n",
       "var gd = document.getElementById('200ab348-2f0e-4920-83b1-fea7acb9ec95');\n",
       "var x = new MutationObserver(function (mutations, observer) {{\n",
       "        var display = window.getComputedStyle(gd).display;\n",
       "        if (!display || display === 'none') {{\n",
       "            console.log([gd, 'removed!']);\n",
       "            Plotly.purge(gd);\n",
       "            observer.disconnect();\n",
       "        }}\n",
       "}});\n",
       "\n",
       "// Listen for the removal of the full notebook cells\n",
       "var notebookContainer = gd.closest('#notebook-container');\n",
       "if (notebookContainer) {{\n",
       "    x.observe(notebookContainer, {childList: true});\n",
       "}}\n",
       "\n",
       "// Listen for the clearing of the current output cell\n",
       "var outputEl = gd.closest('.output');\n",
       "if (outputEl) {{\n",
       "    x.observe(outputEl, {childList: true});\n",
       "}}\n",
       "\n",
       "                        })                };                });            </script>        </div>"
      ]
     },
     "metadata": {},
     "output_type": "display_data"
    }
   ],
   "source": [
    "import plotly.graph_objects as go\n",
    "import plotly.express as px\n",
    "from plotly.subplots import make_subplots\n",
    "\n",
    "fig = make_subplots(rows=1, cols=2, row_heights=[400], column_widths=[500, 500])\n",
    "\n",
    "subfig = px.scatter(X, x='x', y='y', color_discrete_sequence=['blue'])\n",
    "subfig.data[0].name=\"actual data\"\n",
    "subfig.data[0].showlegend=True\n",
    "fig.add_trace(subfig.data[0], row=1, col=1)\n",
    "# subfig.data[0].showlegend=False\n",
    "# fig.add_trace(subfig.data[0], row=1, col=2)\n",
    "\n",
    "fig.add_trace(\n",
    "    go.Scatter(x=X_outliers['x'], y=X_outliers['y'], mode='markers',\n",
    "               marker=dict(color='red')\n",
    "               , name=\"actual outliers\"\n",
    "              ),\n",
    "    row=1, col=1\n",
    ")\n",
    "\n",
    "fig.add_trace(\n",
    "    go.Scatter(x=X_all['x'], y=X_all['y'], mode='markers',\n",
    "               marker=dict(color='green'),\n",
    "               name=\"all data\"\n",
    "              ),\n",
    "    row=1, col=2\n",
    ")\n",
    "\n",
    "\n",
    "fig.add_trace(\n",
    "    go.Scatter(x=outliers_pred['x'], y=outliers_pred['y'], mode='markers',\n",
    "              marker=dict(color='magenta'),\n",
    "               name=\"detected_outliers\"\n",
    "              ),\n",
    "    row=1, col=2\n",
    ")\n",
    "\n",
    "fig.update_layout(margin=dict(l=40, r=40, t=40, b=40))\n",
    "\n",
    "fig.show()"
   ]
  },
  {
   "cell_type": "code",
   "execution_count": null,
   "metadata": {},
   "outputs": [],
   "source": []
  }
 ],
 "metadata": {
  "kernelspec": {
   "display_name": "base",
   "language": "python",
   "name": "base"
  },
  "language_info": {
   "codemirror_mode": {
    "name": "ipython",
    "version": 3
   },
   "file_extension": ".py",
   "mimetype": "text/x-python",
   "name": "python",
   "nbconvert_exporter": "python",
   "pygments_lexer": "ipython3",
   "version": "3.8.8"
  },
  "toc-autonumbering": true
 },
 "nbformat": 4,
 "nbformat_minor": 4
}