{
 "cells": [
  {
   "cell_type": "markdown",
   "id": "d527e96b-f1d7-4832-96b1-44a800cf984f",
   "metadata": {},
   "source": [
    "# Hyperopt\n",
    "\n",
    "Github地址 [Hyperopt: Distributed Hyperparameter Optimization](https://github.com/hyperopt/hyperopt).\n",
    "\n",
    "> hyperopt的官方文档写的并不好，很分散，好在整个package使用起来不是特别复杂。\n",
    "\n",
    "相关教程文档：\n",
    "+ [Basic Tutorial](https://github.com/hyperopt/hyperopt/wiki/FMin)\n",
    "+ [CSDN: Hyperopt 入门指南](https://blog.csdn.net/FontThrone/article/details/85100328)，这份文档写的还不错\n"
   ]
  },
  {
   "cell_type": "markdown",
   "id": "884a5625-3768-407c-a1f9-8f24d06f37d8",
   "metadata": {},
   "source": [
    "hyperopt的使用步骤如下：\n",
    "1. 定义一个待优化的目标函数，要求是 minimize 类型\n",
    "2. 定义参数搜索空间\n",
    "3. 指定存储搜索参数存储的数据库——这一步是可选的\n",
    "4. 指定搜索算法"
   ]
  },
  {
   "cell_type": "markdown",
   "id": "8832149b-37e3-4758-be5b-f69def812655",
   "metadata": {},
   "source": [
    "## 简单示例"
   ]
  },
  {
   "cell_type": "code",
   "execution_count": 1,
   "id": "c5bd138f-d9ad-4e87-9aa0-999070ad0798",
   "metadata": {},
   "outputs": [],
   "source": [
    "from hyperopt import hp, fmin, tpe, Trials, STATUS_OK\n",
    "from hyperopt.early_stop import no_progress_loss"
   ]
  },
  {
   "cell_type": "markdown",
   "id": "55137ed9-ce5a-4465-8542-39f724485fb2",
   "metadata": {},
   "source": [
    "（1）定义待优化的目标函数"
   ]
  },
  {
   "cell_type": "code",
   "execution_count": 17,
   "id": "37691907-1750-44af-ab46-43744407d754",
   "metadata": {},
   "outputs": [],
   "source": [
    "def obj_fun_simple(space):\n",
    "    \"\"\"space是参数空间，对应 fmin() 函数中 space= 参数的传入值，可以是dict，也可以是单个值\"\"\"\n",
    "    # print(\"x_space: \", space)\n",
    "    x = space\n",
    "    return (x - 5)**2"
   ]
  },
  {
   "cell_type": "markdown",
   "id": "7142c00d-c6b2-40d8-8c60-4968ebbd286f",
   "metadata": {},
   "source": [
    "（2）定义参数空间"
   ]
  },
  {
   "cell_type": "code",
   "execution_count": 18,
   "id": "64886073-5bb2-4bcb-a669-7da1995f0ab0",
   "metadata": {},
   "outputs": [],
   "source": [
    "x_space = hp.uniform('x', 0, 10)"
   ]
  },
  {
   "cell_type": "markdown",
   "id": "84259515-fc63-492a-9034-f8b9845f5176",
   "metadata": {},
   "source": [
    "（3）执行优化过程，这里跳过了存储数据库"
   ]
  },
  {
   "cell_type": "code",
   "execution_count": 19,
   "id": "c90648d0-f182-4e76-8eb7-80f6dd4bf4be",
   "metadata": {
    "tags": []
   },
   "outputs": [
    {
     "name": "stdout",
     "output_type": "stream",
     "text": [
      "100%|█████████████████████████████████████████████████████████████████████████████████████████████████████████████████████████████████████| 50/50 [00:00<00:00, 819.38trial/s, best loss: 0.0021205822033894383]\n"
     ]
    }
   ],
   "source": [
    "best = fmin(fn=obj_fun_simple, space=x_space, algo=tpe.suggest, max_evals=50)"
   ]
  },
  {
   "cell_type": "code",
   "execution_count": 20,
   "id": "47e1d02a-b43e-4302-849a-d734ecd74395",
   "metadata": {},
   "outputs": [
    {
     "name": "stdout",
     "output_type": "stream",
     "text": [
      "<class 'dict'>\n"
     ]
    }
   ],
   "source": [
    "print(best.__class__)"
   ]
  },
  {
   "cell_type": "code",
   "execution_count": 21,
   "id": "eebd8f32-d3b7-4026-a6e7-dfd4e77f94c7",
   "metadata": {},
   "outputs": [
    {
     "data": {
      "text/plain": [
       "{'x': 4.953950220376321}"
      ]
     },
     "execution_count": 21,
     "metadata": {},
     "output_type": "execute_result"
    }
   ],
   "source": [
    "best"
   ]
  },
  {
   "cell_type": "markdown",
   "id": "2a7b866c-0dd1-4415-8696-21f3f1c0bd55",
   "metadata": {},
   "source": [
    "## 复杂示例\n",
    "\n",
    "定义目标函数时，除了像上面返回一个目标函数值，也可以返回一个dict，用来存放更加丰富的信息。\n",
    "\n",
    "不过此时需要在返回的dict中设置如下两个特殊的key：\n",
    "+ `status`，通常是`hyperopt.STATUS_{STRING}`，用于表示此次状态，只有`ok`的记录会被输出\n",
    "+ `loss`, 浮点数，存放目标函数的值\n",
    "\n",
    "其他一些可选的key有：\n",
    "+ `loss_vairance`\n",
    "+ `true_loss`\n",
    "+ `true_loss_variance`\n",
    "+ `attachments`\n",
    "\n",
    "此外的一个要求就是返回的dict能够被JSON序列化。\n",
    "\n",
    "为了拿到返回的dict里的自定义信息，需要使用`Trials`对象，它有如下几个封装的属性/方法：\n",
    "+ `trials`: list of dict, 存放每次迭代时使用的搜索信息\n",
    "+ `results`: list of dict, 每个dict就是一次迭代中目标函数的返回值\n",
    "+ `losses()`: list of loss，其中每个loss对应于status=ok的记录\n",
    "+ `statuses()`: list of status string"
   ]
  },
  {
   "cell_type": "code",
   "execution_count": 2,
   "id": "9ddb410e-6cde-46bb-b710-c37bb39780c8",
   "metadata": {},
   "outputs": [],
   "source": [
    "def obj_fun(space):\n",
    "    # print(\"x_space: \", space)\n",
    "    x = space\n",
    "    # 返回一个字典，除了两个必须的key，还有一个要求就是需要能JSON序列化\n",
    "    return {'loss': (x - 5)**2, 'status': STATUS_OK, 'x_value': x}"
   ]
  },
  {
   "cell_type": "code",
   "execution_count": 3,
   "id": "73d93e77-72c7-4323-ab7e-090eed7e498a",
   "metadata": {},
   "outputs": [],
   "source": [
    "x_space = hp.uniform('x', 0, 10)"
   ]
  },
  {
   "cell_type": "code",
   "execution_count": 4,
   "id": "0539e83b-5ca2-4f32-90a5-8269d7bd5ab4",
   "metadata": {},
   "outputs": [],
   "source": [
    "trials = Trials()"
   ]
  },
  {
   "cell_type": "code",
   "execution_count": 6,
   "id": "aa48ebb2-ab29-48f1-8bdc-9b4dfd3e96a3",
   "metadata": {},
   "outputs": [
    {
     "name": "stdout",
     "output_type": "stream",
     "text": [
      "100%|█████████████████████████████████████████████████████████████████████████████████████████████████████████████████████████████████████████| 10/10 [00:00<00:00, 1999.29trial/s, best loss: 1.52186024686751]\n"
     ]
    }
   ],
   "source": [
    "best = fmin(fn=obj_fun, space=x_space, algo=tpe.suggest, max_evals=10, trials=trials)"
   ]
  },
  {
   "cell_type": "code",
   "execution_count": 7,
   "id": "5b0cad58-96c1-40d4-87fe-12e08dda5617",
   "metadata": {},
   "outputs": [
    {
     "name": "stdout",
     "output_type": "stream",
     "text": [
      "<class 'dict'>\n"
     ]
    }
   ],
   "source": [
    "print(best.__class__)"
   ]
  },
  {
   "cell_type": "code",
   "execution_count": 8,
   "id": "4613a5e0-5f6e-4569-831b-04ed87ca3116",
   "metadata": {},
   "outputs": [
    {
     "data": {
      "text/plain": [
       "{'x': 6.233636999634621}"
      ]
     },
     "execution_count": 8,
     "metadata": {},
     "output_type": "execute_result"
    }
   ],
   "source": [
    "best"
   ]
  },
  {
   "cell_type": "code",
   "execution_count": 9,
   "id": "0260b571-35e5-4388-a52a-e525b1fc61aa",
   "metadata": {},
   "outputs": [
    {
     "data": {
      "text/plain": [
       "<hyperopt.base.Trials at 0x1d5ceb4b220>"
      ]
     },
     "execution_count": 9,
     "metadata": {},
     "output_type": "execute_result"
    }
   ],
   "source": [
    "trials"
   ]
  },
  {
   "cell_type": "code",
   "execution_count": 10,
   "id": "b8d0e264-d554-451a-9951-893af0657242",
   "metadata": {},
   "outputs": [
    {
     "data": {
      "text/plain": [
       "10"
      ]
     },
     "execution_count": 10,
     "metadata": {},
     "output_type": "execute_result"
    }
   ],
   "source": [
    "len(trials.trials)"
   ]
  },
  {
   "cell_type": "code",
   "execution_count": 12,
   "id": "d54a2d25-2202-4f30-8e5f-a771a3a21e2a",
   "metadata": {},
   "outputs": [
    {
     "data": {
      "text/plain": [
       "{'state': 2,\n",
       " 'tid': 9,\n",
       " 'spec': None,\n",
       " 'result': {'loss': 4.4650657730384795,\n",
       "  'status': 'ok',\n",
       "  'x_value': 7.113070224350928},\n",
       " 'misc': {'tid': 9,\n",
       "  'cmd': ('domain_attachment', 'FMinIter_Domain'),\n",
       "  'workdir': None,\n",
       "  'idxs': {'x': [9]},\n",
       "  'vals': {'x': [7.113070224350928]}},\n",
       " 'exp_key': None,\n",
       " 'owner': None,\n",
       " 'version': 0,\n",
       " 'book_time': datetime.datetime(2024, 9, 19, 5, 57, 47, 694000),\n",
       " 'refresh_time': datetime.datetime(2024, 9, 19, 5, 57, 47, 694000)}"
      ]
     },
     "execution_count": 12,
     "metadata": {},
     "output_type": "execute_result"
    }
   ],
   "source": [
    "trials.trials[-1]"
   ]
  },
  {
   "cell_type": "code",
   "execution_count": 13,
   "id": "13c6a837-0a21-445e-8b19-5a8fe1019992",
   "metadata": {},
   "outputs": [
    {
     "data": {
      "text/plain": [
       "10"
      ]
     },
     "execution_count": 13,
     "metadata": {},
     "output_type": "execute_result"
    }
   ],
   "source": [
    "len(trials.results)"
   ]
  },
  {
   "cell_type": "code",
   "execution_count": 14,
   "id": "81ee4d1d-6d87-4836-90f3-be76e51db3a7",
   "metadata": {},
   "outputs": [
    {
     "data": {
      "text/plain": [
       "{'loss': 4.4650657730384795, 'status': 'ok', 'x_value': 7.113070224350928}"
      ]
     },
     "execution_count": 14,
     "metadata": {},
     "output_type": "execute_result"
    }
   ],
   "source": [
    "trials.results[-1]"
   ]
  },
  {
   "cell_type": "code",
   "execution_count": 15,
   "id": "2612b46c-6a67-4cc5-aec3-da96b0aae365",
   "metadata": {
    "tags": []
   },
   "outputs": [
    {
     "data": {
      "text/plain": [
       "[7.756750873823032,\n",
       " 3.775427069181573,\n",
       " 5.468446540517656,\n",
       " 1.52186024686751,\n",
       " 8.172681854620194,\n",
       " 2.7049878541541466,\n",
       " 11.471850048348234,\n",
       " 2.468664444376138,\n",
       " 5.9996284069549,\n",
       " 4.4650657730384795]"
      ]
     },
     "execution_count": 15,
     "metadata": {},
     "output_type": "execute_result"
    }
   ],
   "source": [
    "trials.losses()"
   ]
  },
  {
   "cell_type": "code",
   "execution_count": 16,
   "id": "d7e785c5-4179-4c38-b871-6dc87ce91465",
   "metadata": {
    "tags": []
   },
   "outputs": [
    {
     "data": {
      "text/plain": [
       "['ok', 'ok', 'ok', 'ok', 'ok', 'ok', 'ok', 'ok', 'ok', 'ok']"
      ]
     },
     "execution_count": 16,
     "metadata": {},
     "output_type": "execute_result"
    }
   ],
   "source": [
    "trials.statuses()"
   ]
  },
  {
   "cell_type": "code",
   "execution_count": 17,
   "id": "5079345c-fa2d-48c9-a696-c24d3d19dbf3",
   "metadata": {},
   "outputs": [
    {
     "data": {
      "text/plain": [
       "{'state': 2,\n",
       " 'tid': 3,\n",
       " 'spec': None,\n",
       " 'result': {'loss': 1.52186024686751,\n",
       "  'status': 'ok',\n",
       "  'x_value': 6.233636999634621},\n",
       " 'misc': {'tid': 3,\n",
       "  'cmd': ('domain_attachment', 'FMinIter_Domain'),\n",
       "  'workdir': None,\n",
       "  'idxs': {'x': [3]},\n",
       "  'vals': {'x': [6.233636999634621]}},\n",
       " 'exp_key': None,\n",
       " 'owner': None,\n",
       " 'version': 0,\n",
       " 'book_time': datetime.datetime(2024, 9, 19, 5, 57, 47, 692000),\n",
       " 'refresh_time': datetime.datetime(2024, 9, 19, 5, 57, 47, 692000)}"
      ]
     },
     "execution_count": 17,
     "metadata": {},
     "output_type": "execute_result"
    }
   ],
   "source": [
    "trials.best_trial"
   ]
  },
  {
   "cell_type": "code",
   "execution_count": 18,
   "id": "7d9fa951-6e72-49b3-baec-20bb24206732",
   "metadata": {},
   "outputs": [
    {
     "data": {
      "text/plain": [
       "{'x': [2.214905589782811,\n",
       "  3.0569541772820763,\n",
       "  7.338470983467115,\n",
       "  6.233636999634621,\n",
       "  7.858790278180649,\n",
       "  6.644684727889861,\n",
       "  1.6129880353993087,\n",
       "  3.4288015897487236,\n",
       "  2.5505861095039695,\n",
       "  7.113070224350928]}"
      ]
     },
     "execution_count": 18,
     "metadata": {},
     "output_type": "execute_result"
    }
   ],
   "source": [
    "trials.vals"
   ]
  },
  {
   "cell_type": "code",
   "execution_count": 19,
   "id": "353107b7-ede4-452a-aa0a-1c82e6695295",
   "metadata": {
    "collapsed": true,
    "jupyter": {
     "outputs_hidden": true
    },
    "tags": []
   },
   "outputs": [
    {
     "data": {
      "text/plain": [
       "[{'tid': 0,\n",
       "  'cmd': ('domain_attachment', 'FMinIter_Domain'),\n",
       "  'workdir': None,\n",
       "  'idxs': {'x': [0]},\n",
       "  'vals': {'x': [2.214905589782811]}},\n",
       " {'tid': 1,\n",
       "  'cmd': ('domain_attachment', 'FMinIter_Domain'),\n",
       "  'workdir': None,\n",
       "  'idxs': {'x': [1]},\n",
       "  'vals': {'x': [3.0569541772820763]}},\n",
       " {'tid': 2,\n",
       "  'cmd': ('domain_attachment', 'FMinIter_Domain'),\n",
       "  'workdir': None,\n",
       "  'idxs': {'x': [2]},\n",
       "  'vals': {'x': [7.338470983467115]}},\n",
       " {'tid': 3,\n",
       "  'cmd': ('domain_attachment', 'FMinIter_Domain'),\n",
       "  'workdir': None,\n",
       "  'idxs': {'x': [3]},\n",
       "  'vals': {'x': [6.233636999634621]}},\n",
       " {'tid': 4,\n",
       "  'cmd': ('domain_attachment', 'FMinIter_Domain'),\n",
       "  'workdir': None,\n",
       "  'idxs': {'x': [4]},\n",
       "  'vals': {'x': [7.858790278180649]}},\n",
       " {'tid': 5,\n",
       "  'cmd': ('domain_attachment', 'FMinIter_Domain'),\n",
       "  'workdir': None,\n",
       "  'idxs': {'x': [5]},\n",
       "  'vals': {'x': [6.644684727889861]}},\n",
       " {'tid': 6,\n",
       "  'cmd': ('domain_attachment', 'FMinIter_Domain'),\n",
       "  'workdir': None,\n",
       "  'idxs': {'x': [6]},\n",
       "  'vals': {'x': [1.6129880353993087]}},\n",
       " {'tid': 7,\n",
       "  'cmd': ('domain_attachment', 'FMinIter_Domain'),\n",
       "  'workdir': None,\n",
       "  'idxs': {'x': [7]},\n",
       "  'vals': {'x': [3.4288015897487236]}},\n",
       " {'tid': 8,\n",
       "  'cmd': ('domain_attachment', 'FMinIter_Domain'),\n",
       "  'workdir': None,\n",
       "  'idxs': {'x': [8]},\n",
       "  'vals': {'x': [2.5505861095039695]}},\n",
       " {'tid': 9,\n",
       "  'cmd': ('domain_attachment', 'FMinIter_Domain'),\n",
       "  'workdir': None,\n",
       "  'idxs': {'x': [9]},\n",
       "  'vals': {'x': [7.113070224350928]}}]"
      ]
     },
     "execution_count": 19,
     "metadata": {},
     "output_type": "execute_result"
    }
   ],
   "source": [
    "trials.miscs"
   ]
  },
  {
   "cell_type": "markdown",
   "id": "f9f262f7-1f71-4929-a9b9-ac5a322573a3",
   "metadata": {},
   "source": [
    "## 参数空间定义\n",
    "\n",
    "hyperopt里参数空间的定义是通过 `hyperopt.hp` 模块提供的函数实现的，常用函数如下：\n",
    "\n",
    "+ `hp.randint(label, upper)`    \n",
    "从 $[0, upper)$ 区间里随机采样。\n",
    "\n",
    "\n",
    "+ `hp.uniform(label, low, high)`    \n",
    "从 $[low, high]$ 区间里均匀采样。\n",
    "\n",
    "+ `hp.quniform(label, low, high, q)`    \n",
    "返回 round(uniform(low, high) / q) * q 的离散采样值。\n",
    "\n",
    "+ `hp.loguniform(label, low, high)`    \n",
    "从 $[exp(low), exp(high)]$ 区间里均匀采样，相当于 exp(uniform(low, high))。\n",
    "\n",
    "+ `hp.qloguniform(label, low, high, q)`   \n",
    "相当于 round(exp(uniform(low, high)) / q) * q。\n",
    "\n",
    "+ `hp.normal(label, mu, sigma)`    \n",
    "从正态分布 $N(\\mu, \\sigma)$ 里采样。\n",
    "\n",
    "+ `hp.qnormal(label, mu, sigma, q)`   \n",
    "相当于 round(normal(mu, sigma) / q) * q。\n",
    "\n",
    "+ `hp.lognormal(label, mu, sigma)`   \n",
    "相当于 exp(normal(mu, sigma))。\n",
    "\n",
    "+ `hp.qlognormal(label, mu, sigma, q)`   \n",
    "相当于 round(exp(normal(mu, sigma)) / q) * q 。\n",
    "\n",
    "+ `hp.choice(label, options)`   \n",
    "离散采样，`options`是一个list, 随机返回其中的一个项目，对于字符串类型的参数通常使用这个。\n",
    "\n",
    "\n",
    "上述函数返回只是一个变量，并不是立马完成采样过程，它们只是定义了如何从参数空间中采样，实际采样过程是由 `hyperopt.pyll.stochastic` 模块实现的。"
   ]
  },
  {
   "cell_type": "code",
   "execution_count": 31,
   "id": "82e72b47-2df9-43e4-b942-197b398069ff",
   "metadata": {},
   "outputs": [],
   "source": [
    "# 实际的参数空间采样过程由下面的模块封装\n",
    "from hyperopt.pyll.stochastic import sample"
   ]
  },
  {
   "cell_type": "code",
   "execution_count": 25,
   "id": "5b81db2c-dbbf-48ba-a9e6-4de75fb884e7",
   "metadata": {},
   "outputs": [],
   "source": [
    "space = hp.randint('i', 10)"
   ]
  },
  {
   "cell_type": "code",
   "execution_count": 27,
   "id": "bf225e01-f8a5-4fd2-851e-6c873ff5e46c",
   "metadata": {},
   "outputs": [
    {
     "data": {
      "text/plain": [
       "<hyperopt.pyll.base.Apply at 0x1d5d3910c70>"
      ]
     },
     "execution_count": 27,
     "metadata": {},
     "output_type": "execute_result"
    }
   ],
   "source": [
    "space"
   ]
  },
  {
   "cell_type": "code",
   "execution_count": 28,
   "id": "d1678c52-9e29-4491-af3e-d55a6a057e09",
   "metadata": {},
   "outputs": [
    {
     "data": {
      "text/plain": [
       "'hyperopt_param'"
      ]
     },
     "execution_count": 28,
     "metadata": {},
     "output_type": "execute_result"
    }
   ],
   "source": [
    "space.name"
   ]
  },
  {
   "cell_type": "code",
   "execution_count": 32,
   "id": "a851ef61-caaa-4b1b-8fbc-34dd91e87f0f",
   "metadata": {},
   "outputs": [
    {
     "data": {
      "text/plain": [
       "array(4, dtype=int64)"
      ]
     },
     "execution_count": 32,
     "metadata": {},
     "output_type": "execute_result"
    }
   ],
   "source": [
    "sample(space)"
   ]
  },
  {
   "cell_type": "markdown",
   "id": "ac7a23b1-35bf-477b-8b7c-175955d52593",
   "metadata": {},
   "source": [
    "+ choice的使用示例"
   ]
  },
  {
   "cell_type": "code",
   "execution_count": 39,
   "id": "857f80a4-43ce-4fcd-8ef4-804485575bb4",
   "metadata": {},
   "outputs": [],
   "source": [
    "space = hp.choice('p1', ['v1', 'v2', 'v3'])"
   ]
  },
  {
   "cell_type": "code",
   "execution_count": 40,
   "id": "5c618386-d631-49cf-8609-0d2bf5132efc",
   "metadata": {},
   "outputs": [
    {
     "data": {
      "text/plain": [
       "'v2'"
      ]
     },
     "execution_count": 40,
     "metadata": {},
     "output_type": "execute_result"
    }
   ],
   "source": [
    "sample(space)"
   ]
  },
  {
   "cell_type": "code",
   "execution_count": 42,
   "id": "76fa5002-8756-4e92-96e6-47cad2b97d58",
   "metadata": {},
   "outputs": [
    {
     "data": {
      "text/plain": [
       "'v1'"
      ]
     },
     "execution_count": 42,
     "metadata": {},
     "output_type": "execute_result"
    }
   ],
   "source": [
    "sample(space)"
   ]
  },
  {
   "cell_type": "markdown",
   "id": "826c8a06-fb15-4114-931b-6ab9ea788dfc",
   "metadata": {},
   "source": [
    "+ choice的一个更复杂的例子"
   ]
  },
  {
   "cell_type": "code",
   "execution_count": 44,
   "id": "e75b124c-ab9c-449c-bd75-9da54759dc40",
   "metadata": {},
   "outputs": [],
   "source": [
    "space = hp.choice(\n",
    "    'p2',\n",
    "    [\n",
    "        ('case 1', 1 + hp.lognormal('c1', 0, 1)),\n",
    "        ('case 2', hp.uniform('c2', -10, 10))\n",
    "    ]\n",
    ")"
   ]
  },
  {
   "cell_type": "code",
   "execution_count": 45,
   "id": "47815fcb-0468-407c-a7ca-893ddaf50b7e",
   "metadata": {},
   "outputs": [
    {
     "data": {
      "text/plain": [
       "('case 2', 7.205905545901672)"
      ]
     },
     "execution_count": 45,
     "metadata": {},
     "output_type": "execute_result"
    }
   ],
   "source": [
    "sample(space)"
   ]
  },
  {
   "cell_type": "code",
   "execution_count": 46,
   "id": "e7b89dd9-5af9-4e03-aabe-6cbfd99a3bb9",
   "metadata": {},
   "outputs": [
    {
     "data": {
      "text/plain": [
       "('case 1', 1.3548668499043126)"
      ]
     },
     "execution_count": 46,
     "metadata": {},
     "output_type": "execute_result"
    }
   ],
   "source": [
    "sample(space)"
   ]
  },
  {
   "cell_type": "markdown",
   "id": "f66818df-3045-43e1-ae51-eb13e15a3d61",
   "metadata": {},
   "source": [
    "---\n",
    "\n",
    "# Optuna\n",
    "\n",
    "Github地址 [Optuna: A hyperparameter optimization framework](https://github.com/optuna/optuna).\n",
    "\n",
    "相关教程文档：\n",
    "+ [Optuna英文文档](https://optuna.readthedocs.io/en/stable/)\n",
    "+ [Optuna中文文档](https://optuna.readthedocs.io/zh-cn/latest/)，这个的版本更新会有些落后，但是也有参考意义"
   ]
  },
  {
   "cell_type": "markdown",
   "id": "3b24da57-779f-4c04-954b-6235f04e98f4",
   "metadata": {},
   "source": [
    "Optuna的使用和Hyperopt不一样，它的参数空间定义是写在目标函数里面的，而不是单独定义。\n",
    "一般分为3步：\n",
    "1. 使用 `optuna.study.create_study` 创建一个 `Study` 对象\n",
    "2. 定义目标函数，并在目标函数里通过`optuna.trial`提供的一系列方法设置参数空间\n",
    "3. 使用 `optuna.optimize` 运行优化过程，获取结果\n",
    "\n",
    "Optuna被设计成使用某个数据库作为后端来存储搜索过程，并实现并行搜索的。"
   ]
  },
  {
   "cell_type": "code",
   "execution_count": 84,
   "id": "e6f931ae-bd7b-44ec-a524-32b78a32f208",
   "metadata": {},
   "outputs": [],
   "source": [
    "from optuna import create_study\n",
    "from optuna.trial import Trial"
   ]
  },
  {
   "cell_type": "markdown",
   "id": "d9c065d3-8aef-474d-ad47-802d9cbbbc81",
   "metadata": {},
   "source": [
    "（1）定义 Study 对象"
   ]
  },
  {
   "cell_type": "code",
   "execution_count": 106,
   "id": "44aff598-e226-4076-99ac-961c37eefe66",
   "metadata": {},
   "outputs": [
    {
     "name": "stderr",
     "output_type": "stream",
     "text": [
      "[I 2024-09-19 16:11:36,784] A new study created in memory with name: example-study\n"
     ]
    }
   ],
   "source": [
    "# 设置日志输出，可选项\n",
    "# optuna.logging.get_logger(\"optuna\").addHandler(logging.StreamHandler(sys.stdout))\n",
    "\n",
    "study_name = \"example-study\"  # Unique identifier of the study.\n",
    "# 设置存储的数据库后端\n",
    "# storage_name = \"sqlite:///{}.db\".format(study_name)\n",
    "# 如果设置为 None 或者不传入，就会存放在内存中，不进行持久化\n",
    "storage_name = None\n",
    "\n",
    "study = create_study(study_name=study_name, storage=storage_name)"
   ]
  },
  {
   "cell_type": "code",
   "execution_count": 107,
   "id": "ef8e885c-3ec0-403c-ae5b-7009daff1cdf",
   "metadata": {},
   "outputs": [
    {
     "data": {
      "text/plain": [
       "<optuna.study.study.Study at 0x1d5d6419430>"
      ]
     },
     "execution_count": 107,
     "metadata": {},
     "output_type": "execute_result"
    }
   ],
   "source": [
    "study"
   ]
  },
  {
   "cell_type": "markdown",
   "id": "3173f6f9-27e4-447e-8fa5-e26569922540",
   "metadata": {},
   "source": [
    "（2）定义目标函数"
   ]
  },
  {
   "cell_type": "code",
   "execution_count": 108,
   "id": "8d3694a8-ae28-4196-97b7-82c84846f997",
   "metadata": {},
   "outputs": [],
   "source": [
    "def obj_fun_simple(trial: Trial):\n",
    "    # 目标函数的参数是 trial 对象，里面封装了一系列生产参数空间的方法\n",
    "    x = trial.suggest_float(\"x\", -10, 10)\n",
    "    # print(x)\n",
    "    # 使用 Trial 对象记录自定义的信息\n",
    "    trial.set_user_attr('x_value', x)\n",
    "    return (x - 2) ** 2"
   ]
  },
  {
   "cell_type": "markdown",
   "id": "f2f3d11a-e45b-44b0-bc44-baddb02c72ad",
   "metadata": {},
   "source": [
    "（3）运行优化过程"
   ]
  },
  {
   "cell_type": "code",
   "execution_count": 110,
   "id": "c279f0de-536e-42db-9e10-2d80a3062fc9",
   "metadata": {},
   "outputs": [
    {
     "name": "stderr",
     "output_type": "stream",
     "text": [
      "[I 2024-09-19 16:11:44,328] Trial 0 finished with value: 4.053126933147154 and parameters: {'x': -0.013237922637847177}. Best is trial 0 with value: 4.053126933147154.\n",
      "[I 2024-09-19 16:11:44,329] Trial 1 finished with value: 42.482525812898935 and parameters: {'x': 8.517862058443622}. Best is trial 0 with value: 4.053126933147154.\n",
      "[I 2024-09-19 16:11:44,330] Trial 2 finished with value: 27.210341633410053 and parameters: {'x': 7.21635328878423}. Best is trial 0 with value: 4.053126933147154.\n",
      "[I 2024-09-19 16:11:44,331] Trial 3 finished with value: 0.3386616872704957 and parameters: {'x': 2.5819464642649663}. Best is trial 3 with value: 0.3386616872704957.\n",
      "[I 2024-09-19 16:11:44,332] Trial 4 finished with value: 29.65044738811833 and parameters: {'x': 7.445222436973381}. Best is trial 3 with value: 0.3386616872704957.\n"
     ]
    }
   ],
   "source": [
    "study.optimize(obj_fun_simple, n_trials=5)"
   ]
  },
  {
   "cell_type": "code",
   "execution_count": 111,
   "id": "5ae9b009-11ab-4a60-8abf-036f50021af6",
   "metadata": {},
   "outputs": [
    {
     "data": {
      "text/plain": [
       "5"
      ]
     },
     "execution_count": 111,
     "metadata": {},
     "output_type": "execute_result"
    }
   ],
   "source": [
    "len(study.trials)"
   ]
  },
  {
   "cell_type": "code",
   "execution_count": 112,
   "id": "552ff488-2fe2-4463-b158-e17b79cfa329",
   "metadata": {},
   "outputs": [
    {
     "data": {
      "text/plain": [
       "0.3386616872704957"
      ]
     },
     "execution_count": 112,
     "metadata": {},
     "output_type": "execute_result"
    }
   ],
   "source": [
    "study.best_value"
   ]
  },
  {
   "cell_type": "code",
   "execution_count": 113,
   "id": "a4ebb16e-7daa-4a8a-8245-cdac1509ff84",
   "metadata": {},
   "outputs": [
    {
     "data": {
      "text/plain": [
       "{'x': 2.5819464642649663}"
      ]
     },
     "execution_count": 113,
     "metadata": {},
     "output_type": "execute_result"
    }
   ],
   "source": [
    "study.best_params"
   ]
  },
  {
   "cell_type": "code",
   "execution_count": 114,
   "id": "ea35c91d-b5ce-415f-bb95-bc3fdbb4bc22",
   "metadata": {},
   "outputs": [
    {
     "data": {
      "text/plain": [
       "FrozenTrial(number=3, state=TrialState.COMPLETE, values=[0.3386616872704957], datetime_start=datetime.datetime(2024, 9, 19, 16, 11, 44, 331595), datetime_complete=datetime.datetime(2024, 9, 19, 16, 11, 44, 331595), params={'x': 2.5819464642649663}, user_attrs={'x_value': 2.5819464642649663}, system_attrs={}, intermediate_values={}, distributions={'x': FloatDistribution(high=10.0, log=False, low=-10.0, step=None)}, trial_id=3, value=None)"
      ]
     },
     "execution_count": 114,
     "metadata": {},
     "output_type": "execute_result"
    }
   ],
   "source": [
    "study.best_trial"
   ]
  },
  {
   "cell_type": "code",
   "execution_count": 117,
   "id": "79c52afc-3db6-4ce5-a6bc-eb686c578c08",
   "metadata": {},
   "outputs": [
    {
     "data": {
      "text/plain": [
       "{'x_value': 2.5819464642649663}"
      ]
     },
     "execution_count": 117,
     "metadata": {},
     "output_type": "execute_result"
    }
   ],
   "source": [
    "study.best_trial.user_attrs"
   ]
  },
  {
   "cell_type": "code",
   "execution_count": 115,
   "id": "ab63ffbe-893e-4cb7-ab3e-ff017323b0e8",
   "metadata": {},
   "outputs": [
    {
     "data": {
      "text/plain": [
       "[FrozenTrial(number=3, state=TrialState.COMPLETE, values=[0.3386616872704957], datetime_start=datetime.datetime(2024, 9, 19, 16, 11, 44, 331595), datetime_complete=datetime.datetime(2024, 9, 19, 16, 11, 44, 331595), params={'x': 2.5819464642649663}, user_attrs={'x_value': 2.5819464642649663}, system_attrs={}, intermediate_values={}, distributions={'x': FloatDistribution(high=10.0, log=False, low=-10.0, step=None)}, trial_id=3, value=None)]"
      ]
     },
     "execution_count": 115,
     "metadata": {},
     "output_type": "execute_result"
    }
   ],
   "source": [
    "study.best_trials"
   ]
  },
  {
   "cell_type": "code",
   "execution_count": 116,
   "id": "63dde628-20da-454f-bdc0-32d59ec3e7ab",
   "metadata": {},
   "outputs": [
    {
     "data": {
      "text/html": [
       "<div>\n",
       "<style scoped>\n",
       "    .dataframe tbody tr th:only-of-type {\n",
       "        vertical-align: middle;\n",
       "    }\n",
       "\n",
       "    .dataframe tbody tr th {\n",
       "        vertical-align: top;\n",
       "    }\n",
       "\n",
       "    .dataframe thead th {\n",
       "        text-align: right;\n",
       "    }\n",
       "</style>\n",
       "<table border=\"1\" class=\"dataframe\">\n",
       "  <thead>\n",
       "    <tr style=\"text-align: right;\">\n",
       "      <th></th>\n",
       "      <th>number</th>\n",
       "      <th>value</th>\n",
       "      <th>datetime_start</th>\n",
       "      <th>datetime_complete</th>\n",
       "      <th>duration</th>\n",
       "      <th>params_x</th>\n",
       "      <th>user_attrs_x_value</th>\n",
       "      <th>state</th>\n",
       "    </tr>\n",
       "  </thead>\n",
       "  <tbody>\n",
       "    <tr>\n",
       "      <th>0</th>\n",
       "      <td>0</td>\n",
       "      <td>4.053127</td>\n",
       "      <td>2024-09-19 16:11:44.326595</td>\n",
       "      <td>2024-09-19 16:11:44.327594</td>\n",
       "      <td>0 days 00:00:00.000999</td>\n",
       "      <td>-0.013238</td>\n",
       "      <td>-0.013238</td>\n",
       "      <td>COMPLETE</td>\n",
       "    </tr>\n",
       "    <tr>\n",
       "      <th>1</th>\n",
       "      <td>1</td>\n",
       "      <td>42.482526</td>\n",
       "      <td>2024-09-19 16:11:44.329595</td>\n",
       "      <td>2024-09-19 16:11:44.329595</td>\n",
       "      <td>0 days 00:00:00</td>\n",
       "      <td>8.517862</td>\n",
       "      <td>8.517862</td>\n",
       "      <td>COMPLETE</td>\n",
       "    </tr>\n",
       "    <tr>\n",
       "      <th>2</th>\n",
       "      <td>2</td>\n",
       "      <td>27.210342</td>\n",
       "      <td>2024-09-19 16:11:44.329595</td>\n",
       "      <td>2024-09-19 16:11:44.329595</td>\n",
       "      <td>0 days 00:00:00</td>\n",
       "      <td>7.216353</td>\n",
       "      <td>7.216353</td>\n",
       "      <td>COMPLETE</td>\n",
       "    </tr>\n",
       "    <tr>\n",
       "      <th>3</th>\n",
       "      <td>3</td>\n",
       "      <td>0.338662</td>\n",
       "      <td>2024-09-19 16:11:44.331595</td>\n",
       "      <td>2024-09-19 16:11:44.331595</td>\n",
       "      <td>0 days 00:00:00</td>\n",
       "      <td>2.581946</td>\n",
       "      <td>2.581946</td>\n",
       "      <td>COMPLETE</td>\n",
       "    </tr>\n",
       "    <tr>\n",
       "      <th>4</th>\n",
       "      <td>4</td>\n",
       "      <td>29.650447</td>\n",
       "      <td>2024-09-19 16:11:44.332595</td>\n",
       "      <td>2024-09-19 16:11:44.332595</td>\n",
       "      <td>0 days 00:00:00</td>\n",
       "      <td>7.445222</td>\n",
       "      <td>7.445222</td>\n",
       "      <td>COMPLETE</td>\n",
       "    </tr>\n",
       "  </tbody>\n",
       "</table>\n",
       "</div>"
      ],
      "text/plain": [
       "   number      value             datetime_start          datetime_complete  \\\n",
       "0       0   4.053127 2024-09-19 16:11:44.326595 2024-09-19 16:11:44.327594   \n",
       "1       1  42.482526 2024-09-19 16:11:44.329595 2024-09-19 16:11:44.329595   \n",
       "2       2  27.210342 2024-09-19 16:11:44.329595 2024-09-19 16:11:44.329595   \n",
       "3       3   0.338662 2024-09-19 16:11:44.331595 2024-09-19 16:11:44.331595   \n",
       "4       4  29.650447 2024-09-19 16:11:44.332595 2024-09-19 16:11:44.332595   \n",
       "\n",
       "                duration  params_x  user_attrs_x_value     state  \n",
       "0 0 days 00:00:00.000999 -0.013238           -0.013238  COMPLETE  \n",
       "1        0 days 00:00:00  8.517862            8.517862  COMPLETE  \n",
       "2        0 days 00:00:00  7.216353            7.216353  COMPLETE  \n",
       "3        0 days 00:00:00  2.581946            2.581946  COMPLETE  \n",
       "4        0 days 00:00:00  7.445222            7.445222  COMPLETE  "
      ]
     },
     "execution_count": 116,
     "metadata": {},
     "output_type": "execute_result"
    }
   ],
   "source": [
    "study.trials_dataframe()"
   ]
  },
  {
   "cell_type": "code",
   "execution_count": null,
   "id": "c05e685d-0335-45dd-a771-a9d50d495b43",
   "metadata": {},
   "outputs": [],
   "source": []
  }
 ],
 "metadata": {
  "kernelspec": {
   "display_name": "Data-Analysis",
   "language": "python",
   "name": "data-analysis"
  },
  "language_info": {
   "codemirror_mode": {
    "name": "ipython",
    "version": 3
   },
   "file_extension": ".py",
   "mimetype": "text/x-python",
   "name": "python",
   "nbconvert_exporter": "python",
   "pygments_lexer": "ipython3",
   "version": "3.8.13"
  }
 },
 "nbformat": 4,
 "nbformat_minor": 5
}
