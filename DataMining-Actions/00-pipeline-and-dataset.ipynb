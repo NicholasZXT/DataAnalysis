{
 "cells": [
  {
   "cell_type": "code",
   "execution_count": 78,
   "id": "f02b1349-1669-4287-861c-b8c5c0e4dfbb",
   "metadata": {},
   "outputs": [
    {
     "name": "stdout",
     "output_type": "stream",
     "text": [
      "package版本信息：\n",
      "numpy:       1.23.3\n",
      "pandas:      1.4.4\n",
      "matplotlib:  3.5.3\n",
      "sklearn:     1.1.2\n",
      "seaborn:     0.12.1\n"
     ]
    }
   ],
   "source": [
    "import numpy as np\n",
    "import pandas as pd\n",
    "import matplotlib.pyplot as plt\n",
    "import seaborn as sns\n",
    "# import plotly.express as px\n",
    "# from plotly import graph_objects as go\n",
    "\n",
    "import matplotlib\n",
    "\n",
    "# import plotly\n",
    "import sklearn\n",
    "\n",
    "print(\"package版本信息：\")\n",
    "print(\"numpy:      \", np.__version__)\n",
    "print(\"pandas:     \", pd.__version__)\n",
    "print(\"matplotlib: \", matplotlib.__version__)\n",
    "print(\"sklearn:    \", sklearn.__version__)\n",
    "print(\"seaborn:    \", sns.__version__)\n",
    "# print(\"plotly:     \", plotly.__version__)"
   ]
  },
  {
   "cell_type": "code",
   "execution_count": 2,
   "id": "5a545c19-1843-48e6-8f98-0abb64a01131",
   "metadata": {},
   "outputs": [],
   "source": [
    "# 设置显示所有的列\n",
    "pd.options.display.max_columns = None\n",
    "# 设置显示所有的行\n",
    "pd.options.display.max_rows = None\n",
    "\n",
    "# 阻止waring显示\n",
    "import warnings\n",
    "warnings.filterwarnings('ignore')\n",
    "\n",
    "# jupyter notebook设置同一个cell打印多个结果\n",
    "from IPython.display import display\n",
    "# 然后使用\n",
    "# display(\"a\")\n",
    "# display(\"b\")"
   ]
  },
  {
   "cell_type": "code",
   "execution_count": 3,
   "id": "de91182f-4fe3-422a-89f9-3c46c297b722",
   "metadata": {},
   "outputs": [
    {
     "name": "stdout",
     "output_type": "stream",
     "text": [
      "/Users/daniel/Documents/Python-Projects/Data-Analysis\n"
     ]
    }
   ],
   "source": [
    "%cd .."
   ]
  },
  {
   "cell_type": "code",
   "execution_count": 4,
   "id": "34cbc817-e32c-49ce-9c19-9d8ec5bc9876",
   "metadata": {
    "collapsed": false,
    "jupyter": {
     "outputs_hidden": false
    },
    "pycharm": {
     "name": "#%%\n"
    }
   },
   "outputs": [
    {
     "data": {
      "text/plain": [
       "'/Users/daniel/Documents/Python-Projects/Data-Analysis'"
      ]
     },
     "execution_count": 4,
     "metadata": {},
     "output_type": "execute_result"
    }
   ],
   "source": [
    "%pwd"
   ]
  },
  {
   "cell_type": "markdown",
   "id": "98c83bdd-fc10-4b40-af0b-2b60b5ec30c0",
   "metadata": {},
   "source": [
    "本文档内容分为两部分：\n",
    "1. 整理Sklearn里提供的数据集工具\n",
    "2. 讨论使用sklearn构建机器学习的流水线，实现一步到位的处理过程。\n",
    "\n",
    "参考文档：\n",
    "+ [sklearn User Guide -> 7. Dataset loading utilities](https://scikit-learn.org/1.4/datasets.html)\n",
    "+ [sklearn User Guide -> 6.1. Pipelines and composite estimators](https://scikit-learn.org/stable/modules/compose.html#pipelines-and-composite-estimators)\n"
   ]
  },
  {
   "cell_type": "markdown",
   "id": "a6e102fe-87a5-4400-9a72-68058f3148db",
   "metadata": {},
   "source": [
    "# Sklearn数据集工具\n",
    "\n",
    "sklearn里提供了3种类型的数据集工具\n",
    "1. **The dataset loaders**: 提供了一些 toy dataset，无需下载，sklearn自带\n",
    "2. **The dataset fetchers**: 提供了一些 online dataset，需要联网下载，机器学习中常被用作benchmark的真实数据集\n",
    "3. **The dataset generation functions**: 提供了特定分布的数据集生成工具\n",
    "\n",
    "loaders 和 fetchers 工具函数返回的都是 `Bunch` 对象，它继承了`dict`，并扩展了一些功能（主要是支持通过`.attr`的方式访问属性），它通常有如下key:\n",
    "+ `data`: 存放数据的array, shape=`n_samples`*`n_features`\n",
    "+ `target`: 包含目标值的array\n",
    "+ `DESC`: 数据集描述，可选\n",
    "+ `feature_names` 和 `target_names`: 特征名称和目标名称，可选\n",
    "\n",
    "generation functions 工具通常返回的是一个元组 `(X, y)`。\n"
   ]
  },
  {
   "cell_type": "markdown",
   "id": "bed4d48e-2147-466f-ae65-4bee0854d696",
   "metadata": {},
   "source": [
    "## Dataset loaders\n",
    "包括如下数据集：\n",
    "\n",
    "| 任务类型 | 函数                                                         | 描述                                                         |\n",
    "| -------- | ------------------------------------------------------------ | ------------------------------------------------------------ |\n",
    "| 分类     | [`load_iris`](https://scikit-learn.org/1.4/modules/generated/sklearn.datasets.load_iris.html#sklearn.datasets.load_iris)(*[, return_X_y, as_frame]) | Load and return the iris dataset (classification).           |\n",
    "| 回归     | [`load_diabetes`](https://scikit-learn.org/1.4/modules/generated/sklearn.datasets.load_diabetes.html#sklearn.datasets.load_diabetes)(*[, return_X_y, as_frame, scaled]) | Load and return the diabetes dataset (regression).           |\n",
    "| 分类     | [`load_digits`](https://scikit-learn.org/1.4/modules/generated/sklearn.datasets.load_digits.html#sklearn.datasets.load_digits)(*[, n_class, return_X_y, as_frame]) | Load and return the digits dataset (classification).         |\n",
    "| 分类     | [`load_wine`](https://scikit-learn.org/1.4/modules/generated/sklearn.datasets.load_wine.html#sklearn.datasets.load_wine)(*[, return_X_y, as_frame]) | Load and return the wine dataset (classification).           |\n",
    "| 分类     | [`load_breast_cancer`](https://scikit-learn.org/1.4/modules/generated/sklearn.datasets.load_breast_cancer.html#sklearn.datasets.load_breast_cancer)(*[, return_X_y, as_frame]) | Load and return the breast cancer wisconsin dataset (classification). |\n",
    "|          | [`load_linnerud`](https://scikit-learn.org/1.4/modules/generated/sklearn.datasets.load_linnerud.html#sklearn.datasets.load_linnerud)(*[, return_X_y, as_frame]) | Load and return the physical exercise Linnerud dataset.      |\n",
    "\n",
    "通用的一些参数含义如下：\n",
    "+ `return_X_y`: bool，默认`False`，是否返回`(data, target)`的二元组，而非`Bunch`对象\n",
    "+ `as_frame`: bool，默认`False`，返回的`Bunch`对象里，`frame`是否以dataframe的形式保存数据\n"
   ]
  },
  {
   "cell_type": "markdown",
   "id": "fa6b3f6a-ebbc-4377-9dad-cfbff6e07953",
   "metadata": {},
   "source": [
    "### 分类数据示例"
   ]
  },
  {
   "cell_type": "code",
   "execution_count": 22,
   "id": "01e27a86-19aa-4212-9908-3d7757e96c33",
   "metadata": {},
   "outputs": [],
   "source": [
    "from sklearn.datasets import load_iris"
   ]
  },
  {
   "cell_type": "code",
   "execution_count": 2,
   "id": "570341d1-d20c-4086-a890-a5e5b7b2db0f",
   "metadata": {},
   "outputs": [],
   "source": [
    "iris_data_v1 = load_iris()"
   ]
  },
  {
   "cell_type": "code",
   "execution_count": 5,
   "id": "52eb88fc-7917-4a95-a028-c7fe792a9169",
   "metadata": {},
   "outputs": [
    {
     "name": "stdout",
     "output_type": "stream",
     "text": [
      "<class 'sklearn.utils._bunch.Bunch'>\n"
     ]
    }
   ],
   "source": [
    "print(iris_data_v1.__class__)"
   ]
  },
  {
   "cell_type": "code",
   "execution_count": 4,
   "id": "4eae66a5-ad78-4652-8ef2-c331b603f2ea",
   "metadata": {},
   "outputs": [
    {
     "name": "stdout",
     "output_type": "stream",
     "text": [
      "dict_keys(['data', 'target', 'frame', 'target_names', 'DESCR', 'feature_names', 'filename', 'data_module'])\n"
     ]
    }
   ],
   "source": [
    "print(iris_data_v1.keys())"
   ]
  },
  {
   "cell_type": "code",
   "execution_count": 15,
   "id": "b6062181-ded0-4eaf-bf48-1c48b4858875",
   "metadata": {},
   "outputs": [
    {
     "data": {
      "text/plain": [
       "'iris.csv'"
      ]
     },
     "execution_count": 15,
     "metadata": {},
     "output_type": "execute_result"
    }
   ],
   "source": [
    "iris_data_v1.filename"
   ]
  },
  {
   "cell_type": "code",
   "execution_count": 16,
   "id": "e10b6fd9-c7b8-4f52-8d30-78074165a3f9",
   "metadata": {},
   "outputs": [
    {
     "data": {
      "text/plain": [
       "array(['setosa', 'versicolor', 'virginica'], dtype='<U10')"
      ]
     },
     "execution_count": 16,
     "metadata": {},
     "output_type": "execute_result"
    }
   ],
   "source": [
    "iris_data_v1.target_names"
   ]
  },
  {
   "cell_type": "code",
   "execution_count": 17,
   "id": "33cd4e39-ad64-4a12-bb8f-f359232cb347",
   "metadata": {},
   "outputs": [
    {
     "data": {
      "text/plain": [
       "['sepal length (cm)',\n",
       " 'sepal width (cm)',\n",
       " 'petal length (cm)',\n",
       " 'petal width (cm)']"
      ]
     },
     "execution_count": 17,
     "metadata": {},
     "output_type": "execute_result"
    }
   ],
   "source": [
    "iris_data_v1.feature_names"
   ]
  },
  {
   "cell_type": "code",
   "execution_count": 18,
   "id": "dc7dbd92-d319-404f-b672-050791efc33e",
   "metadata": {},
   "outputs": [
    {
     "data": {
      "text/plain": [
       "(150, 4)"
      ]
     },
     "execution_count": 18,
     "metadata": {},
     "output_type": "execute_result"
    }
   ],
   "source": [
    "iris_data_v1.data.shape"
   ]
  },
  {
   "cell_type": "code",
   "execution_count": 19,
   "id": "4652697b-d63e-4b8b-92c7-d2b385e41c39",
   "metadata": {},
   "outputs": [
    {
     "data": {
      "text/plain": [
       "(150,)"
      ]
     },
     "execution_count": 19,
     "metadata": {},
     "output_type": "execute_result"
    }
   ],
   "source": [
    "iris_data_v1.target.shape"
   ]
  },
  {
   "cell_type": "code",
   "execution_count": 21,
   "id": "6003003e-b6d0-4583-a4d4-683e664310bd",
   "metadata": {},
   "outputs": [
    {
     "name": "stdout",
     "output_type": "stream",
     "text": [
      ".. _iris_dataset:\n",
      "\n",
      "Iris plants dataset\n",
      "--------------------\n",
      "\n",
      "**Data Set Characteristics:**\n",
      "\n",
      "    :Number of Instances: 150 (50 in each of three classes)\n",
      "    :Number of Attributes: 4 numeric, predictive attributes and the class\n",
      "    :Attribute Information:\n",
      "        - sepal length in cm\n",
      "        - sepal width in cm\n",
      "        - petal length in cm\n",
      "        - petal width in cm\n",
      "        - class:\n",
      "                - Iris-Setosa\n",
      "                - Iris-Versicolour\n",
      "                - Iris-Virginica\n",
      "                \n",
      "    :Summary Statistics:\n",
      "\n",
      "    ============== ==== ==== ======= ===== ====================\n",
      "                    Min  Max   Mean    SD   Class Correlation\n",
      "    ============== ==== ==== ======= ===== ====================\n",
      "    sepal length:   4.3  7.9   5.84   0.83    0.7826\n",
      "    sepal width:    2.0  4.4   3.05   0.43   -0.4194\n",
      "    petal length:   1.0  6.9   3.76   1.76    0.9490  (high!)\n",
      "    petal width:    0.1  2.5   1.20   0.76    0.9565  (high!)\n",
      "    ============== ==== ==== ======= ===== ====================\n",
      "\n",
      "    :Missing Attribute Values: None\n",
      "    :Class Distribution: 33.3% for each of 3 classes.\n",
      "    :Creator: R.A. Fisher\n",
      "    :Donor: Michael Marshall (MARSHALL%PLU@io.arc.nasa.gov)\n",
      "    :Date: July, 1988\n",
      "\n",
      "The famous Iris database, first used by Sir R.A. Fisher. The dataset is taken\n",
      "from Fisher's paper. Note that it's the same as in R, but not as in the UCI\n",
      "Machine Learning Repository, which has two wrong data points.\n",
      "\n",
      "This is perhaps the best known database to be found in the\n",
      "pattern recognition literature.  Fisher's paper is a classic in the field and\n",
      "is referenced frequently to this day.  (See Duda & Hart, for example.)  The\n",
      "data set contains 3 classes of 50 instances each, where each class refers to a\n",
      "type of iris plant.  One class is linearly separable from the other 2; the\n",
      "latter are NOT linearly separable from each other.\n",
      "\n",
      ".. topic:: References\n",
      "\n",
      "   - Fisher, R.A. \"The use of multiple measurements in taxonomic problems\"\n",
      "     Annual Eugenics, 7, Part II, 179-188 (1936); also in \"Contributions to\n",
      "     Mathematical Statistics\" (John Wiley, NY, 1950).\n",
      "   - Duda, R.O., & Hart, P.E. (1973) Pattern Classification and Scene Analysis.\n",
      "     (Q327.D83) John Wiley & Sons.  ISBN 0-471-22361-1.  See page 218.\n",
      "   - Dasarathy, B.V. (1980) \"Nosing Around the Neighborhood: A New System\n",
      "     Structure and Classification Rule for Recognition in Partially Exposed\n",
      "     Environments\".  IEEE Transactions on Pattern Analysis and Machine\n",
      "     Intelligence, Vol. PAMI-2, No. 1, 67-71.\n",
      "   - Gates, G.W. (1972) \"The Reduced Nearest Neighbor Rule\".  IEEE Transactions\n",
      "     on Information Theory, May 1972, 431-433.\n",
      "   - See also: 1988 MLC Proceedings, 54-64.  Cheeseman et al\"s AUTOCLASS II\n",
      "     conceptual clustering system finds 3 classes in the data.\n",
      "   - Many, many more ...\n"
     ]
    }
   ],
   "source": [
    "print(iris_data_v1.DESCR)"
   ]
  },
  {
   "cell_type": "code",
   "execution_count": 38,
   "id": "27c33d5d-fa82-433c-b3e3-79e62902817a",
   "metadata": {},
   "outputs": [
    {
     "name": "stdout",
     "output_type": "stream",
     "text": [
      "None\n"
     ]
    }
   ],
   "source": [
    "# 此时 frame 里没有数据\n",
    "print(iris_data_v1.frame)"
   ]
  },
  {
   "cell_type": "code",
   "execution_count": 36,
   "id": "e569fdb1-d3e6-4127-996a-11ae6595d2ea",
   "metadata": {},
   "outputs": [],
   "source": [
    "iris_data_v2 = load_iris(as_frame=True)"
   ]
  },
  {
   "cell_type": "code",
   "execution_count": 37,
   "id": "635ee1d9-97ab-45d3-bd23-2ecd6ac43dec",
   "metadata": {},
   "outputs": [
    {
     "name": "stdout",
     "output_type": "stream",
     "text": [
      "<class 'sklearn.utils._bunch.Bunch'>\n"
     ]
    }
   ],
   "source": [
    "print(iris_data_v2.__class__)"
   ]
  },
  {
   "cell_type": "code",
   "execution_count": 39,
   "id": "20c9bfaa-b2ce-48d1-a9f4-1c0f065cbd53",
   "metadata": {},
   "outputs": [
    {
     "data": {
      "text/plain": [
       "dict_keys(['data', 'target', 'frame', 'target_names', 'DESCR', 'feature_names', 'filename', 'data_module'])"
      ]
     },
     "execution_count": 39,
     "metadata": {},
     "output_type": "execute_result"
    }
   ],
   "source": [
    "iris_data_v2.keys()"
   ]
  },
  {
   "cell_type": "code",
   "execution_count": 59,
   "id": "2fffed81-d0a2-4c1f-bcbc-8fd8e76568e6",
   "metadata": {},
   "outputs": [
    {
     "data": {
      "text/html": [
       "<div>\n",
       "<style scoped>\n",
       "    .dataframe tbody tr th:only-of-type {\n",
       "        vertical-align: middle;\n",
       "    }\n",
       "\n",
       "    .dataframe tbody tr th {\n",
       "        vertical-align: top;\n",
       "    }\n",
       "\n",
       "    .dataframe thead th {\n",
       "        text-align: right;\n",
       "    }\n",
       "</style>\n",
       "<table border=\"1\" class=\"dataframe\">\n",
       "  <thead>\n",
       "    <tr style=\"text-align: right;\">\n",
       "      <th></th>\n",
       "      <th>sepal length (cm)</th>\n",
       "      <th>sepal width (cm)</th>\n",
       "      <th>petal length (cm)</th>\n",
       "      <th>petal width (cm)</th>\n",
       "      <th>target</th>\n",
       "    </tr>\n",
       "  </thead>\n",
       "  <tbody>\n",
       "    <tr>\n",
       "      <th>0</th>\n",
       "      <td>5.1</td>\n",
       "      <td>3.5</td>\n",
       "      <td>1.4</td>\n",
       "      <td>0.2</td>\n",
       "      <td>0</td>\n",
       "    </tr>\n",
       "    <tr>\n",
       "      <th>1</th>\n",
       "      <td>4.9</td>\n",
       "      <td>3.0</td>\n",
       "      <td>1.4</td>\n",
       "      <td>0.2</td>\n",
       "      <td>0</td>\n",
       "    </tr>\n",
       "    <tr>\n",
       "      <th>2</th>\n",
       "      <td>4.7</td>\n",
       "      <td>3.2</td>\n",
       "      <td>1.3</td>\n",
       "      <td>0.2</td>\n",
       "      <td>0</td>\n",
       "    </tr>\n",
       "    <tr>\n",
       "      <th>3</th>\n",
       "      <td>4.6</td>\n",
       "      <td>3.1</td>\n",
       "      <td>1.5</td>\n",
       "      <td>0.2</td>\n",
       "      <td>0</td>\n",
       "    </tr>\n",
       "    <tr>\n",
       "      <th>4</th>\n",
       "      <td>5.0</td>\n",
       "      <td>3.6</td>\n",
       "      <td>1.4</td>\n",
       "      <td>0.2</td>\n",
       "      <td>0</td>\n",
       "    </tr>\n",
       "  </tbody>\n",
       "</table>\n",
       "</div>"
      ],
      "text/plain": [
       "   sepal length (cm)  sepal width (cm)  petal length (cm)  petal width (cm)  \\\n",
       "0                5.1               3.5                1.4               0.2   \n",
       "1                4.9               3.0                1.4               0.2   \n",
       "2                4.7               3.2                1.3               0.2   \n",
       "3                4.6               3.1                1.5               0.2   \n",
       "4                5.0               3.6                1.4               0.2   \n",
       "\n",
       "   target  \n",
       "0       0  \n",
       "1       0  \n",
       "2       0  \n",
       "3       0  \n",
       "4       0  "
      ]
     },
     "execution_count": 59,
     "metadata": {},
     "output_type": "execute_result"
    }
   ],
   "source": [
    "# 现在有数据了，而且是 DataFrame 对象\n",
    "iris_data_v2.frame.head(5)"
   ]
  },
  {
   "cell_type": "code",
   "execution_count": 41,
   "id": "21981947-93bb-4849-bffd-0f60ff18614a",
   "metadata": {},
   "outputs": [],
   "source": [
    "iris_data_v3 = load_iris(return_X_y=True)"
   ]
  },
  {
   "cell_type": "code",
   "execution_count": 42,
   "id": "df65a7e0-1477-4162-b2a2-58de11480909",
   "metadata": {},
   "outputs": [
    {
     "name": "stdout",
     "output_type": "stream",
     "text": [
      "<class 'tuple'>\n"
     ]
    }
   ],
   "source": [
    "print(iris_data_v3.__class__)"
   ]
  },
  {
   "cell_type": "code",
   "execution_count": 43,
   "id": "92ccea5a-c3b9-4f15-827a-42a9228039cb",
   "metadata": {},
   "outputs": [
    {
     "data": {
      "text/plain": [
       "(150, 4)"
      ]
     },
     "execution_count": 43,
     "metadata": {},
     "output_type": "execute_result"
    }
   ],
   "source": [
    "iris_data_v3[0].shape"
   ]
  },
  {
   "cell_type": "code",
   "execution_count": 44,
   "id": "d6652b0f-89f9-4940-a4a7-38a06b588463",
   "metadata": {},
   "outputs": [
    {
     "data": {
      "text/plain": [
       "(150,)"
      ]
     },
     "execution_count": 44,
     "metadata": {},
     "output_type": "execute_result"
    }
   ],
   "source": [
    "iris_data_v3[1].shape"
   ]
  },
  {
   "cell_type": "markdown",
   "id": "61fdc82d-65a2-42af-86e6-4ed63b007bbf",
   "metadata": {},
   "source": [
    "### 回归数据示例"
   ]
  },
  {
   "cell_type": "code",
   "execution_count": 23,
   "id": "34313751-1ddf-4eff-90e8-aff583a2a731",
   "metadata": {},
   "outputs": [],
   "source": [
    "from sklearn.datasets import load_iris, load_diabetes"
   ]
  },
  {
   "cell_type": "code",
   "execution_count": 45,
   "id": "eddbb149-32fc-485b-817d-446fc974f302",
   "metadata": {},
   "outputs": [],
   "source": [
    "diabetes_data = load_diabetes()"
   ]
  },
  {
   "cell_type": "code",
   "execution_count": 46,
   "id": "934b92ce-7014-4390-be5d-0d0ec747df75",
   "metadata": {},
   "outputs": [
    {
     "data": {
      "text/plain": [
       "dict_keys(['data', 'target', 'frame', 'DESCR', 'feature_names', 'data_filename', 'target_filename', 'data_module'])"
      ]
     },
     "execution_count": 46,
     "metadata": {},
     "output_type": "execute_result"
    }
   ],
   "source": [
    "diabetes_data.keys()"
   ]
  },
  {
   "cell_type": "code",
   "execution_count": 47,
   "id": "3db3b140-7265-450b-b3cc-f50efa608f7b",
   "metadata": {},
   "outputs": [
    {
     "data": {
      "text/plain": [
       "['age', 'sex', 'bmi', 'bp', 's1', 's2', 's3', 's4', 's5', 's6']"
      ]
     },
     "execution_count": 47,
     "metadata": {},
     "output_type": "execute_result"
    }
   ],
   "source": [
    "diabetes_data.feature_names"
   ]
  },
  {
   "cell_type": "code",
   "execution_count": 49,
   "id": "81e2150b-fed8-42d8-a226-4ecc71c66ec3",
   "metadata": {},
   "outputs": [
    {
     "data": {
      "text/plain": [
       "(442, 10)"
      ]
     },
     "execution_count": 49,
     "metadata": {},
     "output_type": "execute_result"
    }
   ],
   "source": [
    "diabetes_data.data.shape"
   ]
  },
  {
   "cell_type": "code",
   "execution_count": 50,
   "id": "4d8d58da-0c90-4a08-b95b-90f24972e753",
   "metadata": {},
   "outputs": [
    {
     "data": {
      "text/plain": [
       "(442,)"
      ]
     },
     "execution_count": 50,
     "metadata": {},
     "output_type": "execute_result"
    }
   ],
   "source": [
    "diabetes_data.target.shape"
   ]
  },
  {
   "cell_type": "code",
   "execution_count": 54,
   "id": "edd5335a-c227-432f-925a-ecdab76296d0",
   "metadata": {},
   "outputs": [
    {
     "name": "stdout",
     "output_type": "stream",
     "text": [
      ".. _diabetes_dataset:\n",
      "\n",
      "Diabetes dataset\n",
      "----------------\n",
      "\n",
      "Ten baseline variables, age, sex, body mass index, average blood\n",
      "pressure, and six blood serum measurements were obtained for each of n =\n",
      "442 diabetes patients, as well as the response of interest, a\n",
      "quantitative measure of disease progression one year after baseline.\n",
      "\n",
      "**Data Set Characteristics:**\n",
      "\n",
      "  :Number of Instances: 442\n",
      "\n",
      "  :Number of Attributes: First 10 columns are numeric predictive values\n",
      "\n",
      "  :Target: Column 11 is a quantitative measure of disease progression one year after baseline\n",
      "\n",
      "  :Attribute Information:\n",
      "      - age     age in years\n",
      "      - sex\n",
      "      - bmi     body mass index\n",
      "      - bp      average blood pressure\n",
      "      - s1      tc, total serum cholesterol\n",
      "      - s2      ldl, low-density lipoproteins\n",
      "      - s3      hdl, high-density lipoproteins\n",
      "      - s4      tch, total cholesterol / HDL\n",
      "      - s5      ltg, possibly log of serum triglycerides level\n",
      "      - s6      glu, blood sugar level\n",
      "\n",
      "Note: Each of these 10 feature variables have been mean centered and scaled by the standard deviation times the square root of `n_samples` (i.e. the sum of squares of each column totals 1).\n",
      "\n",
      "Source URL:\n",
      "https://www4.stat.ncsu.edu/~boos/var.select/diabetes.html\n",
      "\n",
      "For more information see:\n",
      "Bradley Efron, Trevor Hastie, Iain Johnstone and Robert Tibshirani (2004) \"Least Angle Regression,\" Annals of Statistics (with discussion), 407-499.\n",
      "(https://web.stanford.edu/~hastie/Papers/LARS/LeastAngle_2002.pdf)\n",
      "\n"
     ]
    }
   ],
   "source": [
    "print(diabetes_data.DESCR)"
   ]
  },
  {
   "cell_type": "code",
   "execution_count": 56,
   "id": "702a55fd-9e06-46f0-acf9-5006ae4f382e",
   "metadata": {},
   "outputs": [
    {
     "name": "stdout",
     "output_type": "stream",
     "text": [
      "None\n"
     ]
    }
   ],
   "source": [
    "print(diabetes_data.frame)"
   ]
  },
  {
   "cell_type": "code",
   "execution_count": 57,
   "id": "cbbb70d6-30ef-4b7a-9bb9-6a86b08bad25",
   "metadata": {},
   "outputs": [],
   "source": [
    "diabetes_data_v2 = load_diabetes(as_frame=True)"
   ]
  },
  {
   "cell_type": "code",
   "execution_count": 58,
   "id": "03455474-6589-4aaf-a0d9-2feb58fa25b9",
   "metadata": {},
   "outputs": [
    {
     "data": {
      "text/html": [
       "<div>\n",
       "<style scoped>\n",
       "    .dataframe tbody tr th:only-of-type {\n",
       "        vertical-align: middle;\n",
       "    }\n",
       "\n",
       "    .dataframe tbody tr th {\n",
       "        vertical-align: top;\n",
       "    }\n",
       "\n",
       "    .dataframe thead th {\n",
       "        text-align: right;\n",
       "    }\n",
       "</style>\n",
       "<table border=\"1\" class=\"dataframe\">\n",
       "  <thead>\n",
       "    <tr style=\"text-align: right;\">\n",
       "      <th></th>\n",
       "      <th>age</th>\n",
       "      <th>sex</th>\n",
       "      <th>bmi</th>\n",
       "      <th>bp</th>\n",
       "      <th>s1</th>\n",
       "      <th>s2</th>\n",
       "      <th>s3</th>\n",
       "      <th>s4</th>\n",
       "      <th>s5</th>\n",
       "      <th>s6</th>\n",
       "      <th>target</th>\n",
       "    </tr>\n",
       "  </thead>\n",
       "  <tbody>\n",
       "    <tr>\n",
       "      <th>0</th>\n",
       "      <td>0.038076</td>\n",
       "      <td>0.050680</td>\n",
       "      <td>0.061696</td>\n",
       "      <td>0.021872</td>\n",
       "      <td>-0.044223</td>\n",
       "      <td>-0.034821</td>\n",
       "      <td>-0.043401</td>\n",
       "      <td>-0.002592</td>\n",
       "      <td>0.019907</td>\n",
       "      <td>-0.017646</td>\n",
       "      <td>151.0</td>\n",
       "    </tr>\n",
       "    <tr>\n",
       "      <th>1</th>\n",
       "      <td>-0.001882</td>\n",
       "      <td>-0.044642</td>\n",
       "      <td>-0.051474</td>\n",
       "      <td>-0.026328</td>\n",
       "      <td>-0.008449</td>\n",
       "      <td>-0.019163</td>\n",
       "      <td>0.074412</td>\n",
       "      <td>-0.039493</td>\n",
       "      <td>-0.068332</td>\n",
       "      <td>-0.092204</td>\n",
       "      <td>75.0</td>\n",
       "    </tr>\n",
       "    <tr>\n",
       "      <th>2</th>\n",
       "      <td>0.085299</td>\n",
       "      <td>0.050680</td>\n",
       "      <td>0.044451</td>\n",
       "      <td>-0.005670</td>\n",
       "      <td>-0.045599</td>\n",
       "      <td>-0.034194</td>\n",
       "      <td>-0.032356</td>\n",
       "      <td>-0.002592</td>\n",
       "      <td>0.002861</td>\n",
       "      <td>-0.025930</td>\n",
       "      <td>141.0</td>\n",
       "    </tr>\n",
       "    <tr>\n",
       "      <th>3</th>\n",
       "      <td>-0.089063</td>\n",
       "      <td>-0.044642</td>\n",
       "      <td>-0.011595</td>\n",
       "      <td>-0.036656</td>\n",
       "      <td>0.012191</td>\n",
       "      <td>0.024991</td>\n",
       "      <td>-0.036038</td>\n",
       "      <td>0.034309</td>\n",
       "      <td>0.022688</td>\n",
       "      <td>-0.009362</td>\n",
       "      <td>206.0</td>\n",
       "    </tr>\n",
       "    <tr>\n",
       "      <th>4</th>\n",
       "      <td>0.005383</td>\n",
       "      <td>-0.044642</td>\n",
       "      <td>-0.036385</td>\n",
       "      <td>0.021872</td>\n",
       "      <td>0.003935</td>\n",
       "      <td>0.015596</td>\n",
       "      <td>0.008142</td>\n",
       "      <td>-0.002592</td>\n",
       "      <td>-0.031988</td>\n",
       "      <td>-0.046641</td>\n",
       "      <td>135.0</td>\n",
       "    </tr>\n",
       "  </tbody>\n",
       "</table>\n",
       "</div>"
      ],
      "text/plain": [
       "        age       sex       bmi        bp        s1        s2        s3  \\\n",
       "0  0.038076  0.050680  0.061696  0.021872 -0.044223 -0.034821 -0.043401   \n",
       "1 -0.001882 -0.044642 -0.051474 -0.026328 -0.008449 -0.019163  0.074412   \n",
       "2  0.085299  0.050680  0.044451 -0.005670 -0.045599 -0.034194 -0.032356   \n",
       "3 -0.089063 -0.044642 -0.011595 -0.036656  0.012191  0.024991 -0.036038   \n",
       "4  0.005383 -0.044642 -0.036385  0.021872  0.003935  0.015596  0.008142   \n",
       "\n",
       "         s4        s5        s6  target  \n",
       "0 -0.002592  0.019907 -0.017646   151.0  \n",
       "1 -0.039493 -0.068332 -0.092204    75.0  \n",
       "2 -0.002592  0.002861 -0.025930   141.0  \n",
       "3  0.034309  0.022688 -0.009362   206.0  \n",
       "4 -0.002592 -0.031988 -0.046641   135.0  "
      ]
     },
     "execution_count": 58,
     "metadata": {},
     "output_type": "execute_result"
    }
   ],
   "source": [
    "diabetes_data_v2.frame.head(5)"
   ]
  },
  {
   "cell_type": "markdown",
   "id": "1add2bd7-3629-4b02-958d-70bc14d29fce",
   "metadata": {
    "tags": []
   },
   "source": [
    "## Dataset fetchers\n",
    "包含如下数据集：\n",
    "\n",
    "\n",
    "| 任务类型 | 函数                                                         | 说明                                                         |\n",
    "| -------- | ------------------------------------------------------------ | ------------------------------------------------------------ |\n",
    "| 分类     | [`fetch_olivetti_faces`](https://scikit-learn.org/1.4/modules/generated/sklearn.datasets.fetch_olivetti_faces.html#sklearn.datasets.fetch_olivetti_faces)(*[, data_home, ...]) | Load the Olivetti faces data-set from AT&T (classification). |\n",
    "| 分类     | [`fetch_20newsgroups`](https://scikit-learn.org/1.4/modules/generated/sklearn.datasets.fetch_20newsgroups.html#sklearn.datasets.fetch_20newsgroups)(*[, data_home, subset, ...]) | Load the filenames and data from the 20 newsgroups dataset (classification). |\n",
    "| 分类     | [`fetch_20newsgroups_vectorized`](https://scikit-learn.org/1.4/modules/generated/sklearn.datasets.fetch_20newsgroups_vectorized.html#sklearn.datasets.fetch_20newsgroups_vectorized)(*[, subset, ...]) | Load and vectorize the 20 newsgroups dataset (classification). |\n",
    "| 分类     | [`fetch_lfw_people`](https://scikit-learn.org/1.4/modules/generated/sklearn.datasets.fetch_lfw_people.html#sklearn.datasets.fetch_lfw_people)(*[, data_home, funneled, ...]) | Load the Labeled Faces in the Wild (LFW) people dataset (classification). |\n",
    "| 分类     | [`fetch_lfw_pairs`](https://scikit-learn.org/1.4/modules/generated/sklearn.datasets.fetch_lfw_pairs.html#sklearn.datasets.fetch_lfw_pairs)(*[, subset, data_home, ...]) | Load the Labeled Faces in the Wild (LFW) pairs dataset (classification). |\n",
    "| 分类     | [`fetch_covtype`](https://scikit-learn.org/1.4/modules/generated/sklearn.datasets.fetch_covtype.html#sklearn.datasets.fetch_covtype)(*[, data_home, ...]) | Load the covertype dataset (classification).                 |\n",
    "| 分类     | [`fetch_rcv1`](https://scikit-learn.org/1.4/modules/generated/sklearn.datasets.fetch_rcv1.html#sklearn.datasets.fetch_rcv1)(*[, data_home, subset, ...]) | Load the RCV1 multilabel dataset (classification).           |\n",
    "| 分类     | [`fetch_kddcup99`](https://scikit-learn.org/1.4/modules/generated/sklearn.datasets.fetch_kddcup99.html#sklearn.datasets.fetch_kddcup99)(*[, subset, data_home, ...]) | Load the kddcup99 dataset (classification).                  |\n",
    "| 回归     | [`fetch_california_housing`](https://scikit-learn.org/1.4/modules/generated/sklearn.datasets.fetch_california_housing.html#sklearn.datasets.fetch_california_housing)(*[, data_home, ...]) | Load the California housing dataset (regression).            |\n",
    "|          | [`fetch_species_distributions`](https://scikit-learn.org/1.4/modules/generated/sklearn.datasets.fetch_species_distributions.html#sklearn.datasets.fetch_species_distributions)(*[, data_home, ...]) | Loader for species distribution dataset from Phillips et.    |"
   ]
  },
  {
   "cell_type": "markdown",
   "id": "033e7e1e-9be3-4984-b0ee-710dc148dbf5",
   "metadata": {},
   "source": [
    "### 分类数据示例\n",
    "\n",
    "感觉这些分类数据都不太合适。。。"
   ]
  },
  {
   "cell_type": "markdown",
   "id": "8f5541b2-dac1-4574-92ac-5289275e630b",
   "metadata": {},
   "source": [
    "### 回归数据示例\n",
    "\n",
    "只提供了一个回归数据集。"
   ]
  },
  {
   "cell_type": "code",
   "execution_count": 60,
   "id": "ab0918a0-8476-4d51-91cf-b0760f879914",
   "metadata": {},
   "outputs": [],
   "source": [
    "from sklearn.datasets import fetch_california_housing"
   ]
  },
  {
   "cell_type": "code",
   "execution_count": 67,
   "id": "ef241db5-64c4-43d8-a7c3-5f12054d4c8e",
   "metadata": {},
   "outputs": [],
   "source": [
    "house_data = fetch_california_housing(as_frame=True)"
   ]
  },
  {
   "cell_type": "code",
   "execution_count": 68,
   "id": "b4dbe128-81fe-42c7-a59e-1187396ee97b",
   "metadata": {},
   "outputs": [
    {
     "name": "stdout",
     "output_type": "stream",
     "text": [
      "<class 'sklearn.utils._bunch.Bunch'>\n"
     ]
    }
   ],
   "source": [
    "print(house_data.__class__)"
   ]
  },
  {
   "cell_type": "code",
   "execution_count": 69,
   "id": "443cd145-06c2-49fb-9fd6-9a34b2e63101",
   "metadata": {},
   "outputs": [
    {
     "name": "stdout",
     "output_type": "stream",
     "text": [
      "dict_keys(['data', 'target', 'frame', 'target_names', 'feature_names', 'DESCR'])\n"
     ]
    }
   ],
   "source": [
    "print(house_data.keys())"
   ]
  },
  {
   "cell_type": "code",
   "execution_count": 70,
   "id": "382aa627-e7ee-4c0c-b2ab-071e26a78264",
   "metadata": {},
   "outputs": [
    {
     "name": "stdout",
     "output_type": "stream",
     "text": [
      "['MedInc', 'HouseAge', 'AveRooms', 'AveBedrms', 'Population', 'AveOccup', 'Latitude', 'Longitude']\n"
     ]
    }
   ],
   "source": [
    "print(house_data.feature_names)"
   ]
  },
  {
   "cell_type": "code",
   "execution_count": 71,
   "id": "12157adc-fdb6-4389-83dd-418b5b03d72e",
   "metadata": {},
   "outputs": [
    {
     "name": "stdout",
     "output_type": "stream",
     "text": [
      "['MedHouseVal']\n"
     ]
    }
   ],
   "source": [
    "print(house_data.target_names)"
   ]
  },
  {
   "cell_type": "code",
   "execution_count": 73,
   "id": "ab641714-260f-4132-ac9f-abd1d3d2d683",
   "metadata": {},
   "outputs": [
    {
     "name": "stdout",
     "output_type": "stream",
     "text": [
      "(20640, 8)\n"
     ]
    }
   ],
   "source": [
    "print(house_data.data.shape)"
   ]
  },
  {
   "cell_type": "code",
   "execution_count": 72,
   "id": "a752bb59-03b2-4692-8b78-f4acb56039b9",
   "metadata": {},
   "outputs": [
    {
     "name": "stdout",
     "output_type": "stream",
     "text": [
      ".. _california_housing_dataset:\n",
      "\n",
      "California Housing dataset\n",
      "--------------------------\n",
      "\n",
      "**Data Set Characteristics:**\n",
      "\n",
      "    :Number of Instances: 20640\n",
      "\n",
      "    :Number of Attributes: 8 numeric, predictive attributes and the target\n",
      "\n",
      "    :Attribute Information:\n",
      "        - MedInc        median income in block group\n",
      "        - HouseAge      median house age in block group\n",
      "        - AveRooms      average number of rooms per household\n",
      "        - AveBedrms     average number of bedrooms per household\n",
      "        - Population    block group population\n",
      "        - AveOccup      average number of household members\n",
      "        - Latitude      block group latitude\n",
      "        - Longitude     block group longitude\n",
      "\n",
      "    :Missing Attribute Values: None\n",
      "\n",
      "This dataset was obtained from the StatLib repository.\n",
      "https://www.dcc.fc.up.pt/~ltorgo/Regression/cal_housing.html\n",
      "\n",
      "The target variable is the median house value for California districts,\n",
      "expressed in hundreds of thousands of dollars ($100,000).\n",
      "\n",
      "This dataset was derived from the 1990 U.S. census, using one row per census\n",
      "block group. A block group is the smallest geographical unit for which the U.S.\n",
      "Census Bureau publishes sample data (a block group typically has a population\n",
      "of 600 to 3,000 people).\n",
      "\n",
      "An household is a group of people residing within a home. Since the average\n",
      "number of rooms and bedrooms in this dataset are provided per household, these\n",
      "columns may take surpinsingly large values for block groups with few households\n",
      "and many empty houses, such as vacation resorts.\n",
      "\n",
      "It can be downloaded/loaded using the\n",
      ":func:`sklearn.datasets.fetch_california_housing` function.\n",
      "\n",
      ".. topic:: References\n",
      "\n",
      "    - Pace, R. Kelley and Ronald Barry, Sparse Spatial Autoregressions,\n",
      "      Statistics and Probability Letters, 33 (1997) 291-297\n",
      "\n"
     ]
    }
   ],
   "source": [
    "print(house_data.DESCR)"
   ]
  },
  {
   "cell_type": "code",
   "execution_count": 74,
   "id": "ba28e27d-91ab-4ee2-b596-14994f2c210f",
   "metadata": {},
   "outputs": [
    {
     "data": {
      "text/html": [
       "<div>\n",
       "<style scoped>\n",
       "    .dataframe tbody tr th:only-of-type {\n",
       "        vertical-align: middle;\n",
       "    }\n",
       "\n",
       "    .dataframe tbody tr th {\n",
       "        vertical-align: top;\n",
       "    }\n",
       "\n",
       "    .dataframe thead th {\n",
       "        text-align: right;\n",
       "    }\n",
       "</style>\n",
       "<table border=\"1\" class=\"dataframe\">\n",
       "  <thead>\n",
       "    <tr style=\"text-align: right;\">\n",
       "      <th></th>\n",
       "      <th>MedInc</th>\n",
       "      <th>HouseAge</th>\n",
       "      <th>AveRooms</th>\n",
       "      <th>AveBedrms</th>\n",
       "      <th>Population</th>\n",
       "      <th>AveOccup</th>\n",
       "      <th>Latitude</th>\n",
       "      <th>Longitude</th>\n",
       "      <th>MedHouseVal</th>\n",
       "    </tr>\n",
       "  </thead>\n",
       "  <tbody>\n",
       "    <tr>\n",
       "      <th>0</th>\n",
       "      <td>8.3252</td>\n",
       "      <td>41.0</td>\n",
       "      <td>6.984127</td>\n",
       "      <td>1.023810</td>\n",
       "      <td>322.0</td>\n",
       "      <td>2.555556</td>\n",
       "      <td>37.88</td>\n",
       "      <td>-122.23</td>\n",
       "      <td>4.526</td>\n",
       "    </tr>\n",
       "    <tr>\n",
       "      <th>1</th>\n",
       "      <td>8.3014</td>\n",
       "      <td>21.0</td>\n",
       "      <td>6.238137</td>\n",
       "      <td>0.971880</td>\n",
       "      <td>2401.0</td>\n",
       "      <td>2.109842</td>\n",
       "      <td>37.86</td>\n",
       "      <td>-122.22</td>\n",
       "      <td>3.585</td>\n",
       "    </tr>\n",
       "    <tr>\n",
       "      <th>2</th>\n",
       "      <td>7.2574</td>\n",
       "      <td>52.0</td>\n",
       "      <td>8.288136</td>\n",
       "      <td>1.073446</td>\n",
       "      <td>496.0</td>\n",
       "      <td>2.802260</td>\n",
       "      <td>37.85</td>\n",
       "      <td>-122.24</td>\n",
       "      <td>3.521</td>\n",
       "    </tr>\n",
       "    <tr>\n",
       "      <th>3</th>\n",
       "      <td>5.6431</td>\n",
       "      <td>52.0</td>\n",
       "      <td>5.817352</td>\n",
       "      <td>1.073059</td>\n",
       "      <td>558.0</td>\n",
       "      <td>2.547945</td>\n",
       "      <td>37.85</td>\n",
       "      <td>-122.25</td>\n",
       "      <td>3.413</td>\n",
       "    </tr>\n",
       "    <tr>\n",
       "      <th>4</th>\n",
       "      <td>3.8462</td>\n",
       "      <td>52.0</td>\n",
       "      <td>6.281853</td>\n",
       "      <td>1.081081</td>\n",
       "      <td>565.0</td>\n",
       "      <td>2.181467</td>\n",
       "      <td>37.85</td>\n",
       "      <td>-122.25</td>\n",
       "      <td>3.422</td>\n",
       "    </tr>\n",
       "  </tbody>\n",
       "</table>\n",
       "</div>"
      ],
      "text/plain": [
       "   MedInc  HouseAge  AveRooms  AveBedrms  Population  AveOccup  Latitude  \\\n",
       "0  8.3252      41.0  6.984127   1.023810       322.0  2.555556     37.88   \n",
       "1  8.3014      21.0  6.238137   0.971880      2401.0  2.109842     37.86   \n",
       "2  7.2574      52.0  8.288136   1.073446       496.0  2.802260     37.85   \n",
       "3  5.6431      52.0  5.817352   1.073059       558.0  2.547945     37.85   \n",
       "4  3.8462      52.0  6.281853   1.081081       565.0  2.181467     37.85   \n",
       "\n",
       "   Longitude  MedHouseVal  \n",
       "0    -122.23        4.526  \n",
       "1    -122.22        3.585  \n",
       "2    -122.24        3.521  \n",
       "3    -122.25        3.413  \n",
       "4    -122.25        3.422  "
      ]
     },
     "execution_count": 74,
     "metadata": {},
     "output_type": "execute_result"
    }
   ],
   "source": [
    "house_data.frame.head(5)"
   ]
  },
  {
   "cell_type": "markdown",
   "id": "faa2420d-b1bf-4e0f-854d-5668800ebe32",
   "metadata": {},
   "source": [
    "## Dataset generation\n",
    "\n",
    "分成如下几类：\n"
   ]
  },
  {
   "cell_type": "markdown",
   "id": "e3d846ef-4f46-4303-888f-dd91a6b9e977",
   "metadata": {},
   "source": [
    "<font color=\"blue\">**单标签数据生成**</font>\n",
    "\n",
    "这个比较常用\n",
    "\n",
    "```python\n",
    "# 生成 两类 2-D 月牙形分布数据\n",
    "make_moons(n_samples=100, *, shuffle=True, noise=None, random_state=None)\n",
    "\n",
    "# 生成 两类 2-D 圆形分布数据\n",
    "make_circles(n_samples=100, *, shuffle=True, noise=None, random_state=None, factor=0.8)\n",
    "\n",
    "# 简单聚类的高斯分布\n",
    "make_blobs(\n",
    "    n_samples=100, n_features=2, *, centers=None, cluster_std=1.0, center_box=(-10.0, 10.0), shuffle=True, random_state=None, return_centers=False\n",
    ")\n",
    "\n",
    "# 复杂高斯分布，通过引入相关的，冗余的和未知的噪音特征来混淆高斯分布\n",
    "make_classification(\n",
    "    n_samples=100, \n",
    "    n_features=20, # 特征总数，包括 n_informative 信息特征、n_redundant冗余特征、n_repeated重复特征和 n_features-n_informative-n_redundant-n_repeated随机抽取的无用特征\n",
    "    *, \n",
    "    n_informative=2, n_redundant=2, n_repeated=0, \n",
    "    n_classes=2,              # 分类问题的类（或标签）数\n",
    "    n_clusters_per_class=2,   # 每个类的集群数\n",
    "    weights=None, flip_y=0.01, class_sep=1.0, hypercube=True, shift=0.0, scale=1.0, shuffle=True, random_state=None\n",
    ")\n",
    "```\n"
   ]
  },
  {
   "cell_type": "code",
   "execution_count": 75,
   "id": "9ed17f3c-6326-4b90-9448-34c72ec97686",
   "metadata": {},
   "outputs": [],
   "source": [
    "from sklearn.datasets import make_moons, make_circles, make_blobs, make_classification"
   ]
  },
  {
   "cell_type": "code",
   "execution_count": 98,
   "id": "62d7bbf6-f3fc-470e-93a8-2366a00c12dc",
   "metadata": {},
   "outputs": [],
   "source": [
    "# 可以通过 noise 来调整分布的方差\n",
    "moons_X, moons_y = make_moons(noise=0.05)\n",
    "circles_X, circles_y = make_circles(noise=0.03)"
   ]
  },
  {
   "cell_type": "code",
   "execution_count": 113,
   "id": "d4ab03ee-c863-4a1f-85e5-3385de0d65a6",
   "metadata": {},
   "outputs": [
    {
     "name": "stdout",
     "output_type": "stream",
     "text": [
      "moons data shape:  (100, 2) ;  (100,)\n",
      "circles data shape:  (100, 2) ;  (100,)\n"
     ]
    }
   ],
   "source": [
    "print('moons data shape: ', moons_X.shape, '; ' , moons_y.shape)\n",
    "print('circles data shape: ', circles_X.shape, '; ' , circles_y.shape)"
   ]
  },
  {
   "cell_type": "code",
   "execution_count": 103,
   "id": "18554348-d680-45f1-a8a2-8fe50c85a8da",
   "metadata": {},
   "outputs": [
    {
     "data": {
      "text/plain": [
       "<matplotlib.collections.PathCollection at 0x193ed4857c0>"
      ]
     },
     "execution_count": 103,
     "metadata": {},
     "output_type": "execute_result"
    },
    {
     "data": {
      "image/png": "[encoded data removed]",
      "text/plain": [
       "<Figure size 1000x400 with 2 Axes>"
      ]
     },
     "metadata": {},
     "output_type": "display_data"
    }
   ],
   "source": [
    "fig = plt.figure(figsize=(10,4))\n",
    "ax1 = fig.add_subplot(121)\n",
    "ax2 = fig.add_subplot(122)\n",
    "ax1.set_title(\"moon data\")\n",
    "ax2.set_title(\"circle data\")\n",
    "ax1.scatter(moons_X[:, 0], moons_X[:,1], c=moons_y)\n",
    "ax2.scatter(circles_X[:, 0], circles_X[:,1], c=circles_y)"
   ]
  },
  {
   "cell_type": "code",
   "execution_count": 131,
   "id": "66449a41-7f46-412b-a266-c7a007cb11be",
   "metadata": {},
   "outputs": [],
   "source": [
    "blobs_X, blobs_y = make_blobs(n_samples=120, n_features=2, centers=3, cluster_std=0.8)"
   ]
  },
  {
   "cell_type": "code",
   "execution_count": 141,
   "id": "7d7e94e6-1819-4aad-bd44-7d990df6e9f1",
   "metadata": {},
   "outputs": [],
   "source": [
    "cls_X, cls_y = make_classification(n_samples=120, n_features=2, n_informative=2, n_redundant=0, n_repeated=0, n_classes=2, n_clusters_per_class=2, class_sep=1.5)"
   ]
  },
  {
   "cell_type": "code",
   "execution_count": 142,
   "id": "2124839e-a61e-4a47-ad4a-6c48ccb10382",
   "metadata": {},
   "outputs": [
    {
     "name": "stdout",
     "output_type": "stream",
     "text": [
      "blobs data shape:  (120, 2) ;  (120,)\n",
      "cls data shape:  (120, 2) ;  (120,)\n"
     ]
    }
   ],
   "source": [
    "print('blobs data shape: ', blobs_X.shape, '; ' , blobs_y.shape)\n",
    "print('cls data shape: ', cls_X.shape, '; ' , cls_y.shape)"
   ]
  },
  {
   "cell_type": "code",
   "execution_count": 143,
   "id": "9aa94f17-4d58-49fe-872e-69b790d67ec0",
   "metadata": {},
   "outputs": [
    {
     "data": {
      "text/plain": [
       "<matplotlib.collections.PathCollection at 0x193f1d0e580>"
      ]
     },
     "execution_count": 143,
     "metadata": {},
     "output_type": "execute_result"
    },
    {
     "data": {
      "image/png": "[encoded data removed]",
      "text/plain": [
       "<Figure size 1000x400 with 2 Axes>"
      ]
     },
     "metadata": {},
     "output_type": "display_data"
    }
   ],
   "source": [
    "fig = plt.figure(figsize=(10,4))\n",
    "ax1 = fig.add_subplot(121)\n",
    "ax2 = fig.add_subplot(122)\n",
    "ax1.set_title(\"blob data\")\n",
    "ax2.set_title(\"cls data\")\n",
    "ax1.scatter(blobs_X[:, 0], blobs_X[:,1], c=blobs_y)\n",
    "ax2.scatter(cls_X[:, 0], cls_X[:,1], c=cls_y)"
   ]
  },
  {
   "cell_type": "markdown",
   "id": "8307b400-43dc-454c-a8ac-3e579fae8f26",
   "metadata": {},
   "source": [
    "<font color=\"blue\">**多标签数据生成**</font>\n",
    "\n",
    "```python\n",
    "make_multilabel_classification(\n",
    "    n_samples=100, n_features=20, *, n_classes=5, n_labels=2, \n",
    "    length=50, allow_unlabeled=True, sparse=False, return_indicator='dense', return_distributions=False, random_state=None\n",
    ")\n",
    "```"
   ]
  },
  {
   "cell_type": "code",
   "execution_count": 145,
   "id": "592484ef-a3fb-4ba4-97e1-e405af92bd22",
   "metadata": {},
   "outputs": [],
   "source": [
    "from sklearn.datasets import make_multilabel_classification"
   ]
  },
  {
   "cell_type": "code",
   "execution_count": 152,
   "id": "7478316a-fd17-44c5-b09d-f8ff095e222f",
   "metadata": {},
   "outputs": [],
   "source": [
    "multi_X, multi_y = make_multilabel_classification(n_samples=120, n_features=20, n_classes=3, n_labels=4, random_state=42)"
   ]
  },
  {
   "cell_type": "code",
   "execution_count": 153,
   "id": "cb7174a6-b75e-4c9e-8f44-6e4c96b4348b",
   "metadata": {},
   "outputs": [
    {
     "name": "stdout",
     "output_type": "stream",
     "text": [
      "(120, 20)\n",
      "(120, 3)\n"
     ]
    }
   ],
   "source": [
    "print(multi_X.shape)\n",
    "print(multi_y.shape)"
   ]
  },
  {
   "cell_type": "code",
   "execution_count": 154,
   "id": "8750a640-c5fa-445a-805c-1708eaf65ded",
   "metadata": {},
   "outputs": [
    {
     "data": {
      "text/plain": [
       "array([[3., 3., 4., 2., 2., 1., 1., 6., 0., 3., 5., 2., 0., 4., 0., 4.,\n",
       "        8., 5., 1., 0.],\n",
       "       [1., 4., 3., 0., 2., 5., 3., 2., 3., 0., 3., 2., 0., 5., 3., 2.,\n",
       "        2., 1., 2., 3.],\n",
       "       [2., 0., 3., 2., 2., 3., 2., 2., 4., 1., 3., 3., 1., 4., 3., 4.,\n",
       "        4., 3., 3., 5.],\n",
       "       [3., 4., 2., 2., 1., 2., 2., 1., 2., 2., 9., 0., 1., 3., 4., 2.,\n",
       "        4., 0., 2., 1.],\n",
       "       [1., 9., 0., 0., 2., 1., 0., 4., 4., 1., 2., 0., 1., 6., 1., 1.,\n",
       "        8., 8., 0., 1.]])"
      ]
     },
     "execution_count": 154,
     "metadata": {},
     "output_type": "execute_result"
    }
   ],
   "source": [
    "multi_X[:5]"
   ]
  },
  {
   "cell_type": "code",
   "execution_count": 155,
   "id": "762db65e-ffe8-4b73-b08a-9f4befde6ad2",
   "metadata": {},
   "outputs": [
    {
     "data": {
      "text/plain": [
       "array([[1, 1, 1],\n",
       "       [0, 1, 1],\n",
       "       [1, 1, 1],\n",
       "       [1, 1, 0],\n",
       "       [0, 1, 0]])"
      ]
     },
     "execution_count": 155,
     "metadata": {},
     "output_type": "execute_result"
    }
   ],
   "source": [
    "multi_y[:5]"
   ]
  },
  {
   "cell_type": "markdown",
   "id": "b7eb5dde-9997-4a87-9889-2d4680dc3553",
   "metadata": {},
   "source": [
    "<font color=\"blue\">**聚类数据生成**</font>"
   ]
  },
  {
   "cell_type": "markdown",
   "id": "c7368313-ff11-48c9-8fca-d0ad3c1219e3",
   "metadata": {},
   "source": [
    "<font color=\"blue\">**回归数据生成**</font>"
   ]
  },
  {
   "cell_type": "markdown",
   "id": "13e389cb-74b0-4eae-8f5d-77dd9971074e",
   "metadata": {},
   "source": [
    "<font color=\"blue\">**流行学习数据生成**</font>"
   ]
  },
  {
   "cell_type": "markdown",
   "id": "aa98add3-ab37-4fce-a866-509cd657c789",
   "metadata": {},
   "source": [
    "# 流水线\n",
    "\n",
    "sklearn中流水线功能主要由 `sklearn.pipeline` 这个模块提供，主要是如下的`Pipeline`类\n",
    "\n",
    "`Pipeline(steps, *, memory=None, verbose=False)`类\n",
    "+ 主要参数\n",
    "  + `steps`：list of (name, transformer) tuples，其中每个transformer都必须实现`fit`/`transform`方法，最后一个必须是estimator\n",
    "\n",
    "此外，还有一个`make_pipeline()`函数，用于快速创建一个`Pipeline`对象。"
   ]
  },
  {
   "cell_type": "code",
   "execution_count": 8,
   "id": "72f1522a-2fa3-4aef-b1ed-05190cfb0c4e",
   "metadata": {},
   "outputs": [],
   "source": [
    "from sklearn.pipeline import Pipeline, make_pipeline\n",
    "from sklearn.svm import SVC\n",
    "from sklearn.decomposition import PCA"
   ]
  },
  {
   "cell_type": "code",
   "execution_count": 7,
   "id": "4d9b0f59-64a2-48f9-b942-13822c155073",
   "metadata": {},
   "outputs": [
    {
     "data": {
      "text/plain": [
       "Pipeline(steps=[('reduce_dim', PCA()), ('clf', SVC())])"
      ]
     },
     "execution_count": 7,
     "metadata": {},
     "output_type": "execute_result"
    }
   ],
   "source": [
    "estimators = [('reduce_dim', PCA()), ('clf', SVC())]\n",
    "pipe = Pipeline(estimators)\n",
    "pipe"
   ]
  },
  {
   "cell_type": "code",
   "execution_count": 10,
   "id": "1a415c0d-13b1-4c94-82f1-fcfa45b62368",
   "metadata": {},
   "outputs": [
    {
     "data": {
      "text/plain": [
       "Pipeline(steps=[('pca', PCA()), ('svc', SVC())])"
      ]
     },
     "execution_count": 10,
     "metadata": {},
     "output_type": "execute_result"
    }
   ],
   "source": [
    "# 或者使用 make_pipeline，会自动生成每个步骤的名字\n",
    "pipe2 = make_pipeline(PCA(), SVC())\n",
    "pipe2"
   ]
  },
  {
   "cell_type": "markdown",
   "id": "9a524061-4014-461d-9f6a-d2cc574dac30",
   "metadata": {},
   "source": [
    "# 多类型数据转换\n",
    "\n",
    "通常数据的特征会有多种类型，比如同时含有类别型和数值型特征，此时在pipeline中添加数据预处理步骤时，需要对不同的特征使用不同的变换器，比如对于类别型使用one-hot编码，对于计数型特征使用分箱KBinarize。  \n",
    "\n",
    "此时就需要`sklearn.compose`模块中的`ColumnTransformer`类的协助：   \n",
    "\n",
    "`ColumnTransformer(transformers, *, remainder='drop', sparse_threshold=0.3, n_jobs=None, transformer_weights=None, verbose=False, verbose_feature_names_out=True)`\n",
    "+ `transformers`：   \n",
    "  List of (name, transformer, columns) tuples，用于指定各个列的转换器\n",
    "  + name：str，转换器的名称\n",
    "  + transformer：estimator对象 或者 {‘drop’, ‘passthrough’}，estimator时使用对应的转换器，'drop'表示该列特征被丢弃，'passthrough'表示该列不做任何处理\n",
    "  + columns：指定该转换器对应的列，str, array-like of str 时指定列名称，int, array-like of int时指定列的索引\n",
    "+ `remainder`：指定剩余列如何处理\n",
    "  + 'drop'，丢弃剩余列，这是**默认值**\n",
    "  + 'passthrough'，不做任何处理\n",
    "  + estimator，使用指定的估计器处理剩余列\n",
    "  \n",
    "\n",
    "> 注意，经过转换后的特征顺序，由传入的`transformers`里出现的顺序确定，其中没有指定的列，在`remainder='passthrough'`下，会被添加到最后。\n",
    "  \n",
    "此外，还有一个`make_column_transformer()`函数，用于快速创建。"
   ]
  },
  {
   "cell_type": "code",
   "execution_count": 6,
   "id": "ee6a81e1-f590-4eef-a04a-be0030a7f7d2",
   "metadata": {},
   "outputs": [],
   "source": [
    "import pandas as pd\n",
    "from sklearn.preprocessing import MinMaxScaler, OneHotEncoder\n",
    "from sklearn.compose import ColumnTransformer, make_column_transformer"
   ]
  },
  {
   "cell_type": "code",
   "execution_count": 7,
   "id": "67fd5266-d930-44ce-83df-38af06489e4f",
   "metadata": {},
   "outputs": [
    {
     "data": {
      "text/html": [
       "<div>\n",
       "<style scoped>\n",
       "    .dataframe tbody tr th:only-of-type {\n",
       "        vertical-align: middle;\n",
       "    }\n",
       "\n",
       "    .dataframe tbody tr th {\n",
       "        vertical-align: top;\n",
       "    }\n",
       "\n",
       "    .dataframe thead th {\n",
       "        text-align: right;\n",
       "    }\n",
       "</style>\n",
       "<table border=\"1\" class=\"dataframe\">\n",
       "  <thead>\n",
       "    <tr style=\"text-align: right;\">\n",
       "      <th></th>\n",
       "      <th>col1</th>\n",
       "      <th>col2</th>\n",
       "      <th>col3</th>\n",
       "    </tr>\n",
       "  </thead>\n",
       "  <tbody>\n",
       "    <tr>\n",
       "      <th>0</th>\n",
       "      <td>a</td>\n",
       "      <td>1</td>\n",
       "      <td>6</td>\n",
       "    </tr>\n",
       "    <tr>\n",
       "      <th>1</th>\n",
       "      <td>b</td>\n",
       "      <td>5</td>\n",
       "      <td>7</td>\n",
       "    </tr>\n",
       "    <tr>\n",
       "      <th>2</th>\n",
       "      <td>a</td>\n",
       "      <td>2</td>\n",
       "      <td>8</td>\n",
       "    </tr>\n",
       "    <tr>\n",
       "      <th>3</th>\n",
       "      <td>b</td>\n",
       "      <td>3</td>\n",
       "      <td>9</td>\n",
       "    </tr>\n",
       "    <tr>\n",
       "      <th>4</th>\n",
       "      <td>a</td>\n",
       "      <td>4</td>\n",
       "      <td>10</td>\n",
       "    </tr>\n",
       "  </tbody>\n",
       "</table>\n",
       "</div>"
      ],
      "text/plain": [
       "  col1  col2  col3\n",
       "0    a     1     6\n",
       "1    b     5     7\n",
       "2    a     2     8\n",
       "3    b     3     9\n",
       "4    a     4    10"
      ]
     },
     "execution_count": 7,
     "metadata": {},
     "output_type": "execute_result"
    }
   ],
   "source": [
    "df = pd.DataFrame({\n",
    "    'col1': ['a', 'b', 'a', 'b', 'a'],\n",
    "    'col2': [1, 5, 2, 3, 4],\n",
    "    'col3': [6, 7, 8, 9, 10]\n",
    "})\n",
    "df"
   ]
  },
  {
   "cell_type": "code",
   "execution_count": 10,
   "id": "f76705c1-1973-4134-8101-0718ed8a9e47",
   "metadata": {},
   "outputs": [],
   "source": [
    "# 注意，输出的特征顺序由这里传入的顺序决定\n",
    "transformers=[('min-max', MinMaxScaler(), ['col2']), ('one-hot', OneHotEncoder(), ['col1'])]\n",
    "ctf = ColumnTransformer(transformers=transformers, remainder='drop')"
   ]
  },
  {
   "cell_type": "code",
   "execution_count": 11,
   "id": "11b89b52-eab0-4c38-af9f-46a22332abb9",
   "metadata": {},
   "outputs": [
    {
     "data": {
      "text/html": [
       "<style>#sk-container-id-1 {color: black;background-color: white;}#sk-container-id-1 pre{padding: 0;}#sk-container-id-1 div.sk-toggleable {background-color: white;}#sk-container-id-1 label.sk-toggleable__label {cursor: pointer;display: block;width: 100%;margin-bottom: 0;padding: 0.3em;box-sizing: border-box;text-align: center;}#sk-container-id-1 label.sk-toggleable__label-arrow:before {content: \"▸\";float: left;margin-right: 0.25em;color: #696969;}#sk-container-id-1 label.sk-toggleable__label-arrow:hover:before {color: black;}#sk-container-id-1 div.sk-estimator:hover label.sk-toggleable__label-arrow:before {color: black;}#sk-container-id-1 div.sk-toggleable__content {max-height: 0;max-width: 0;overflow: hidden;text-align: left;background-color: #f0f8ff;}#sk-container-id-1 div.sk-toggleable__content pre {margin: 0.2em;color: black;border-radius: 0.25em;background-color: #f0f8ff;}#sk-container-id-1 input.sk-toggleable__control:checked~div.sk-toggleable__content {max-height: 200px;max-width: 100%;overflow: auto;}#sk-container-id-1 input.sk-toggleable__control:checked~label.sk-toggleable__label-arrow:before {content: \"▾\";}#sk-container-id-1 div.sk-estimator input.sk-toggleable__control:checked~label.sk-toggleable__label {background-color: #d4ebff;}#sk-container-id-1 div.sk-label input.sk-toggleable__control:checked~label.sk-toggleable__label {background-color: #d4ebff;}#sk-container-id-1 input.sk-hidden--visually {border: 0;clip: rect(1px 1px 1px 1px);clip: rect(1px, 1px, 1px, 1px);height: 1px;margin: -1px;overflow: hidden;padding: 0;position: absolute;width: 1px;}#sk-container-id-1 div.sk-estimator {font-family: monospace;background-color: #f0f8ff;border: 1px dotted black;border-radius: 0.25em;box-sizing: border-box;margin-bottom: 0.5em;}#sk-container-id-1 div.sk-estimator:hover {background-color: #d4ebff;}#sk-container-id-1 div.sk-parallel-item::after {content: \"\";width: 100%;border-bottom: 1px solid gray;flex-grow: 1;}#sk-container-id-1 div.sk-label:hover label.sk-toggleable__label {background-color: #d4ebff;}#sk-container-id-1 div.sk-serial::before {content: \"\";position: absolute;border-left: 1px solid gray;box-sizing: border-box;top: 0;bottom: 0;left: 50%;z-index: 0;}#sk-container-id-1 div.sk-serial {display: flex;flex-direction: column;align-items: center;background-color: white;padding-right: 0.2em;padding-left: 0.2em;position: relative;}#sk-container-id-1 div.sk-item {position: relative;z-index: 1;}#sk-container-id-1 div.sk-parallel {display: flex;align-items: stretch;justify-content: center;background-color: white;position: relative;}#sk-container-id-1 div.sk-item::before, #sk-container-id-1 div.sk-parallel-item::before {content: \"\";position: absolute;border-left: 1px solid gray;box-sizing: border-box;top: 0;bottom: 0;left: 50%;z-index: -1;}#sk-container-id-1 div.sk-parallel-item {display: flex;flex-direction: column;z-index: 1;position: relative;background-color: white;}#sk-container-id-1 div.sk-parallel-item:first-child::after {align-self: flex-end;width: 50%;}#sk-container-id-1 div.sk-parallel-item:last-child::after {align-self: flex-start;width: 50%;}#sk-container-id-1 div.sk-parallel-item:only-child::after {width: 0;}#sk-container-id-1 div.sk-dashed-wrapped {border: 1px dashed gray;margin: 0 0.4em 0.5em 0.4em;box-sizing: border-box;padding-bottom: 0.4em;background-color: white;}#sk-container-id-1 div.sk-label label {font-family: monospace;font-weight: bold;display: inline-block;line-height: 1.2em;}#sk-container-id-1 div.sk-label-container {text-align: center;}#sk-container-id-1 div.sk-container {/* jupyter's `normalize.less` sets `[hidden] { display: none; }` but bootstrap.min.css set `[hidden] { display: none !important; }` so we also need the `!important` here to be able to override the default hidden behavior on the sphinx rendered scikit-learn.org. See: https://github.com/scikit-learn/scikit-learn/issues/21755 */display: inline-block !important;position: relative;}#sk-container-id-1 div.sk-text-repr-fallback {display: none;}</style><div id=\"sk-container-id-1\" class=\"sk-top-container\"><div class=\"sk-text-repr-fallback\"><pre>ColumnTransformer(transformers=[(&#x27;min-max&#x27;, MinMaxScaler(), [&#x27;col2&#x27;]),\n",
       "                                (&#x27;one-hot&#x27;, OneHotEncoder(), [&#x27;col1&#x27;])])</pre><b>In a Jupyter environment, please rerun this cell to show the HTML representation or trust the notebook. <br />On GitHub, the HTML representation is unable to render, please try loading this page with nbviewer.org.</b></div><div class=\"sk-container\" hidden><div class=\"sk-item sk-dashed-wrapped\"><div class=\"sk-label-container\"><div class=\"sk-label sk-toggleable\"><input class=\"sk-toggleable__control sk-hidden--visually\" id=\"sk-estimator-id-1\" type=\"checkbox\" ><label for=\"sk-estimator-id-1\" class=\"sk-toggleable__label sk-toggleable__label-arrow\">ColumnTransformer</label><div class=\"sk-toggleable__content\"><pre>ColumnTransformer(transformers=[(&#x27;min-max&#x27;, MinMaxScaler(), [&#x27;col2&#x27;]),\n",
       "                                (&#x27;one-hot&#x27;, OneHotEncoder(), [&#x27;col1&#x27;])])</pre></div></div></div><div class=\"sk-parallel\"><div class=\"sk-parallel-item\"><div class=\"sk-item\"><div class=\"sk-label-container\"><div class=\"sk-label sk-toggleable\"><input class=\"sk-toggleable__control sk-hidden--visually\" id=\"sk-estimator-id-2\" type=\"checkbox\" ><label for=\"sk-estimator-id-2\" class=\"sk-toggleable__label sk-toggleable__label-arrow\">min-max</label><div class=\"sk-toggleable__content\"><pre>[&#x27;col2&#x27;]</pre></div></div></div><div class=\"sk-serial\"><div class=\"sk-item\"><div class=\"sk-estimator sk-toggleable\"><input class=\"sk-toggleable__control sk-hidden--visually\" id=\"sk-estimator-id-3\" type=\"checkbox\" ><label for=\"sk-estimator-id-3\" class=\"sk-toggleable__label sk-toggleable__label-arrow\">MinMaxScaler</label><div class=\"sk-toggleable__content\"><pre>MinMaxScaler()</pre></div></div></div></div></div></div><div class=\"sk-parallel-item\"><div class=\"sk-item\"><div class=\"sk-label-container\"><div class=\"sk-label sk-toggleable\"><input class=\"sk-toggleable__control sk-hidden--visually\" id=\"sk-estimator-id-4\" type=\"checkbox\" ><label for=\"sk-estimator-id-4\" class=\"sk-toggleable__label sk-toggleable__label-arrow\">one-hot</label><div class=\"sk-toggleable__content\"><pre>[&#x27;col1&#x27;]</pre></div></div></div><div class=\"sk-serial\"><div class=\"sk-item\"><div class=\"sk-estimator sk-toggleable\"><input class=\"sk-toggleable__control sk-hidden--visually\" id=\"sk-estimator-id-5\" type=\"checkbox\" ><label for=\"sk-estimator-id-5\" class=\"sk-toggleable__label sk-toggleable__label-arrow\">OneHotEncoder</label><div class=\"sk-toggleable__content\"><pre>OneHotEncoder()</pre></div></div></div></div></div></div></div></div></div></div>"
      ],
      "text/plain": [
       "ColumnTransformer(transformers=[('min-max', MinMaxScaler(), ['col2']),\n",
       "                                ('one-hot', OneHotEncoder(), ['col1'])])"
      ]
     },
     "execution_count": 11,
     "metadata": {},
     "output_type": "execute_result"
    }
   ],
   "source": [
    "ctf.fit(df)"
   ]
  },
  {
   "cell_type": "code",
   "execution_count": 12,
   "id": "858e98cd-dce0-48d5-bdfe-0ad7af7b50b7",
   "metadata": {},
   "outputs": [
    {
     "data": {
      "text/plain": [
       "[('min-max', MinMaxScaler(), ['col2']), ('one-hot', OneHotEncoder(), ['col1'])]"
      ]
     },
     "execution_count": 12,
     "metadata": {},
     "output_type": "execute_result"
    }
   ],
   "source": [
    "ctf.transformers"
   ]
  },
  {
   "cell_type": "code",
   "execution_count": 13,
   "id": "17230486-08d0-4116-99a7-8616822f8c67",
   "metadata": {},
   "outputs": [
    {
     "data": {
      "text/plain": [
       "array([[0.  , 1.  , 0.  ],\n",
       "       [1.  , 0.  , 1.  ],\n",
       "       [0.25, 1.  , 0.  ],\n",
       "       [0.5 , 0.  , 1.  ],\n",
       "       [0.75, 1.  , 0.  ]])"
      ]
     },
     "execution_count": 13,
     "metadata": {},
     "output_type": "execute_result"
    }
   ],
   "source": [
    "# col1 列使用 one-hot编码，产生2个特征，col2列只是缩放，仍然输出一个特征，col3没有指定转换器，处理方式为drop，所以最后的输出中被丢弃了\n",
    "# 所以最后输出 3 列\n",
    "ctf.transform(df)"
   ]
  },
  {
   "cell_type": "code",
   "execution_count": 14,
   "id": "f1fe64f8-9c6f-4341-9485-53a75f5f0970",
   "metadata": {},
   "outputs": [
    {
     "data": {
      "text/plain": [
       "array([[ 0.  ,  1.  ,  0.  ,  6.  ],\n",
       "       [ 1.  ,  0.  ,  1.  ,  7.  ],\n",
       "       [ 0.25,  1.  ,  0.  ,  8.  ],\n",
       "       [ 0.5 ,  0.  ,  1.  ,  9.  ],\n",
       "       [ 0.75,  1.  ,  0.  , 10.  ]])"
      ]
     },
     "execution_count": 14,
     "metadata": {},
     "output_type": "execute_result"
    }
   ],
   "source": [
    "# col1 列使用 one-hot编码，产生2个特征，col2列只是缩放，仍然输出一个特征，col3没有指定转换器，处理方式为passthrough，所以最后的输出保持不变\n",
    "# 所以最后输出 4 列\n",
    "ctf = ColumnTransformer(transformers=transformers, remainder='passthrough')\n",
    "ctf.fit_transform(df)"
   ]
  },
  {
   "cell_type": "markdown",
   "id": "9cd0754a-dbbd-4145-be28-89a5b79cb2d4",
   "metadata": {
    "tags": []
   },
   "source": [
    "# 封装自定义转换函数\n",
    "\n",
    "如果要实现自定义转换，则需要使用`sklearn.preprocess`包中的`FunctionTransformer`类，对自定义处理流程进行包装。\n",
    "\n",
    "`FunctionTransformer(func=None, inverse_func=None, *, validate=False, accept_sparse=False, check_inverse=True, feature_names_out=None, kw_args=None, inv_kw_args=None)`\n",
    "+ `func`，自定义的处理流程函数\n",
    "+ `inverse_func`，逆变换函数，可以为None，此时逆变换为等值变换\n",
    "+ `kw_args`，dict, default=None，传递给自定义`func`的参数\n",
    "\n",
    "注意，**这样封装的变换一般是stateless的，比如单纯的对数转换之类的，不需要保存状态**。"
   ]
  },
  {
   "cell_type": "code",
   "execution_count": null,
   "id": "4000e3ec-6156-4dcc-847d-a529469c0020",
   "metadata": {},
   "outputs": [],
   "source": []
  },
  {
   "cell_type": "markdown",
   "id": "5061fac2-0d48-4466-945e-42e8814a328c",
   "metadata": {},
   "source": [
    "# 实现自定义转换器\n",
    "\n",
    "如果要实现自定义转换器，则需要实现一个继承`BaseEstimator`和`TransformerMixin`（均位于`sklearn.base`包）的类，然后重写其中的`fit()`和`transform()`方法。"
   ]
  },
  {
   "cell_type": "markdown",
   "id": "a49d6e55-65ee-4b96-bee9-56ccfd7e2759",
   "metadata": {},
   "source": [
    "下面是一个自定义转换器的例子，它可以同时对类别特征进行one-hot编码以及对计数特征进行分箱。"
   ]
  },
  {
   "cell_type": "code",
   "execution_count": 7,
   "id": "0c29b2a1-be7c-4732-84b9-892440a125e0",
   "metadata": {},
   "outputs": [],
   "source": [
    "from sklearn.base import BaseEstimator, TransformerMixin\n",
    "from sklearn.compose import ColumnTransformer, make_column_transformer\n",
    "from sklearn.preprocessing import OneHotEncoder, KBinsDiscretizer"
   ]
  },
  {
   "cell_type": "code",
   "execution_count": 8,
   "id": "d1a65e4a-edb2-4e12-be4d-a0e3cf710572",
   "metadata": {},
   "outputs": [],
   "source": [
    "class FeaturesTransformer(BaseEstimator, TransformerMixin):\n",
    "    def __init__(self, onehot_encoder, onehot_cols, kbins_discretizer, kbin_cols, other_cols):\n",
    "        # 只要是在形参中出现过的参数，名称必须和形参一样，因为 BaseEstimator 的 get_params() 方法会遍历函数签名中的形参，\n",
    "        # 如果不一致，会导致 get_params() 方法报错\n",
    "        self.onehot_encoder = onehot_encoder\n",
    "        self.onehot_cols = onehot_cols\n",
    "        self.kbins_discretizer = kbins_discretizer\n",
    "        self.kbin_cols = kbin_cols\n",
    "        self.other_cols = other_cols\n",
    "        \n",
    "        # 使用 ColumnTransformer 来对不同的列进行不同的特征处理\n",
    "        transformers = [(self.onehot_encoder, onehot_cols), (self.kbins_discretizer, kbin_cols)]\n",
    "        self.cols_transformer = make_column_transformer(*transformers, remainder='passthrough')\n",
    "        self.onehot_cols_res = []\n",
    "\n",
    "    def make_onehot_cols_res(self):\n",
    "        # 拼凑出one-hot编码之后的特征名称\n",
    "        onehot = self.cols_transformer.named_transformers_['onehotencoder']\n",
    "        onehot_drop_method = onehot.get_params()['drop']\n",
    "        if onehot_drop_method == 'first':\n",
    "            for idx, col in enumerate(onehot_cols):\n",
    "                self.onehot_cols_res.extend([col + '_' + v for v in onehot.categories_[idx].tolist()[1:]])\n",
    "        else:\n",
    "            for idx, col in enumerate(onehot_cols):\n",
    "                self.onehot_cols_res.extend([col + '_' + v for v in onehot.categories_[idx].tolist()])\n",
    "\n",
    "    def fit(self, X, y=None):\n",
    "        self.cols_transformer.fit(X)\n",
    "        self.make_onehot_cols_res()\n",
    "        \n",
    "        # 为了支持 fit_transform() 方法里执行的链式调用 fit(X).transform(X)，这里必须要返回 self\n",
    "        return self\n",
    "\n",
    "    def transform(self, X):\n",
    "        X_ = self.cols_transformer.transform(X)\n",
    "        # return X_\n",
    "        X_cols = self.onehot_cols_res + self.kbin_cols + self.other_cols\n",
    "        X = pd.DataFrame(X_, columns=X_cols)\n",
    "        # 分箱特征的初始值设为从1开始，而不是从0开始\n",
    "        X[self.kbin_cols] = X[self.kbin_cols] + 1\n",
    "        return X"
   ]
  },
  {
   "cell_type": "code",
   "execution_count": 13,
   "id": "db095fe7-6a2f-4b44-aa5e-592b1f909ce0",
   "metadata": {},
   "outputs": [
    {
     "data": {
      "text/html": [
       "<div>\n",
       "<style scoped>\n",
       "    .dataframe tbody tr th:only-of-type {\n",
       "        vertical-align: middle;\n",
       "    }\n",
       "\n",
       "    .dataframe tbody tr th {\n",
       "        vertical-align: top;\n",
       "    }\n",
       "\n",
       "    .dataframe thead th {\n",
       "        text-align: right;\n",
       "    }\n",
       "</style>\n",
       "<table border=\"1\" class=\"dataframe\">\n",
       "  <thead>\n",
       "    <tr style=\"text-align: right;\">\n",
       "      <th></th>\n",
       "      <th>col1</th>\n",
       "      <th>col2</th>\n",
       "      <th>col3</th>\n",
       "    </tr>\n",
       "  </thead>\n",
       "  <tbody>\n",
       "    <tr>\n",
       "      <th>0</th>\n",
       "      <td>a</td>\n",
       "      <td>1</td>\n",
       "      <td>6</td>\n",
       "    </tr>\n",
       "    <tr>\n",
       "      <th>1</th>\n",
       "      <td>b</td>\n",
       "      <td>5</td>\n",
       "      <td>7</td>\n",
       "    </tr>\n",
       "    <tr>\n",
       "      <th>2</th>\n",
       "      <td>a</td>\n",
       "      <td>2</td>\n",
       "      <td>8</td>\n",
       "    </tr>\n",
       "    <tr>\n",
       "      <th>3</th>\n",
       "      <td>b</td>\n",
       "      <td>3</td>\n",
       "      <td>9</td>\n",
       "    </tr>\n",
       "    <tr>\n",
       "      <th>4</th>\n",
       "      <td>c</td>\n",
       "      <td>4</td>\n",
       "      <td>10</td>\n",
       "    </tr>\n",
       "  </tbody>\n",
       "</table>\n",
       "</div>"
      ],
      "text/plain": [
       "  col1  col2  col3\n",
       "0    a     1     6\n",
       "1    b     5     7\n",
       "2    a     2     8\n",
       "3    b     3     9\n",
       "4    c     4    10"
      ]
     },
     "execution_count": 13,
     "metadata": {},
     "output_type": "execute_result"
    }
   ],
   "source": [
    "df = pd.DataFrame({\n",
    "    'col1': ['a', 'b', 'a', 'b', 'c'],\n",
    "    'col2': [1, 5, 2, 3, 4],\n",
    "    'col3': [6, 7, 8, 9, 10]\n",
    "})\n",
    "df"
   ]
  },
  {
   "cell_type": "code",
   "execution_count": 14,
   "id": "c174e703-626a-408d-8421-c17e85e1a0c8",
   "metadata": {},
   "outputs": [
    {
     "data": {
      "text/plain": [
       "FeaturesTransformer(kbin_cols=['col2'],\n",
       "                    kbins_discretizer=KBinsDiscretizer(encode='ordinal',\n",
       "                                                       strategy='uniform'),\n",
       "                    onehot_cols=['col1'],\n",
       "                    onehot_encoder=OneHotEncoder(drop='first', sparse=False),\n",
       "                    other_cols=['col3'])"
      ]
     },
     "execution_count": 14,
     "metadata": {},
     "output_type": "execute_result"
    }
   ],
   "source": [
    "onehot_cols = ['col1']\n",
    "kbin_cols = ['col2']\n",
    "other_cols = ['col3']\n",
    "\n",
    "onehot = OneHotEncoder(drop='first', sparse=False, handle_unknown='error')\n",
    "kbin = KBinsDiscretizer(n_bins=5, encode='ordinal', strategy='uniform')\n",
    "\n",
    "features_transformer = FeaturesTransformer(onehot, onehot_cols, kbin, kbin_cols, other_cols)\n",
    "features_transformer.fit(df)"
   ]
  },
  {
   "cell_type": "code",
   "execution_count": 15,
   "id": "98e6c6d3-af32-4380-bf5e-f20b436fd94a",
   "metadata": {},
   "outputs": [
    {
     "data": {
      "text/html": [
       "<div>\n",
       "<style scoped>\n",
       "    .dataframe tbody tr th:only-of-type {\n",
       "        vertical-align: middle;\n",
       "    }\n",
       "\n",
       "    .dataframe tbody tr th {\n",
       "        vertical-align: top;\n",
       "    }\n",
       "\n",
       "    .dataframe thead th {\n",
       "        text-align: right;\n",
       "    }\n",
       "</style>\n",
       "<table border=\"1\" class=\"dataframe\">\n",
       "  <thead>\n",
       "    <tr style=\"text-align: right;\">\n",
       "      <th></th>\n",
       "      <th>col1_b</th>\n",
       "      <th>col1_c</th>\n",
       "      <th>col2</th>\n",
       "      <th>col3</th>\n",
       "    </tr>\n",
       "  </thead>\n",
       "  <tbody>\n",
       "    <tr>\n",
       "      <th>0</th>\n",
       "      <td>0.0</td>\n",
       "      <td>0.0</td>\n",
       "      <td>1.0</td>\n",
       "      <td>6.0</td>\n",
       "    </tr>\n",
       "    <tr>\n",
       "      <th>1</th>\n",
       "      <td>1.0</td>\n",
       "      <td>0.0</td>\n",
       "      <td>5.0</td>\n",
       "      <td>7.0</td>\n",
       "    </tr>\n",
       "    <tr>\n",
       "      <th>2</th>\n",
       "      <td>0.0</td>\n",
       "      <td>0.0</td>\n",
       "      <td>2.0</td>\n",
       "      <td>8.0</td>\n",
       "    </tr>\n",
       "    <tr>\n",
       "      <th>3</th>\n",
       "      <td>1.0</td>\n",
       "      <td>0.0</td>\n",
       "      <td>3.0</td>\n",
       "      <td>9.0</td>\n",
       "    </tr>\n",
       "    <tr>\n",
       "      <th>4</th>\n",
       "      <td>0.0</td>\n",
       "      <td>1.0</td>\n",
       "      <td>4.0</td>\n",
       "      <td>10.0</td>\n",
       "    </tr>\n",
       "  </tbody>\n",
       "</table>\n",
       "</div>"
      ],
      "text/plain": [
       "   col1_b  col1_c  col2  col3\n",
       "0     0.0     0.0   1.0   6.0\n",
       "1     1.0     0.0   5.0   7.0\n",
       "2     0.0     0.0   2.0   8.0\n",
       "3     1.0     0.0   3.0   9.0\n",
       "4     0.0     1.0   4.0  10.0"
      ]
     },
     "execution_count": 15,
     "metadata": {},
     "output_type": "execute_result"
    }
   ],
   "source": [
    "features_transformer.transform(df)"
   ]
  },
  {
   "cell_type": "markdown",
   "id": "d394aedc-f714-4d7b-9aea-2d34b94f5223",
   "metadata": {
    "tags": []
   },
   "source": [
    "# 特征融合\n",
    "\n",
    "对同一组特征 **并行** 使用 $N$ 个转换器，然后将得到的 $N$ 个输出拼接成新的特征。  \n",
    "\n",
    "使用`sklearn.pipeline`模块中的`FeatureUnion`类：   \n",
    "`FeatureUnion(transformer_list, *, n_jobs=None, transformer_weights=None, verbose=False)`\n",
    "+ `transformer_list`：list of (str, transformer) tuples，指定转换器，之后这些转换器的输出会被拼接起来。\n",
    "\n",
    "还有一个`make_union()`函数方便使用。"
   ]
  },
  {
   "cell_type": "code",
   "execution_count": 28,
   "id": "ea7f034a-575e-4adf-8380-434561c67a2b",
   "metadata": {},
   "outputs": [],
   "source": [
    "from sklearn.pipeline import FeatureUnion\n",
    "from sklearn.decomposition import PCA, TruncatedSVD"
   ]
  },
  {
   "cell_type": "code",
   "execution_count": 35,
   "id": "c85d97ec-3c4d-40bc-90bc-9dcc77293bac",
   "metadata": {},
   "outputs": [
    {
     "data": {
      "text/plain": [
       "FeatureUnion(transformer_list=[('pca', PCA(n_components=2)),\n",
       "                               ('svd', TruncatedSVD())])"
      ]
     },
     "execution_count": 35,
     "metadata": {},
     "output_type": "execute_result"
    }
   ],
   "source": [
    "X = [[0., 1., 3], [2., 2., 5]]\n",
    "\n",
    "# PCA 保留2个特征， SVD 保留2个特征，最终的输出是 2+2=4 个特征\n",
    "union = FeatureUnion([(\"pca\", PCA(n_components=2)), (\"svd\", TruncatedSVD(n_components=2))])\n",
    "union.fit(X)"
   ]
  },
  {
   "cell_type": "code",
   "execution_count": 36,
   "id": "35e7d9f4-7b98-4b3e-8939-9f91f36134f7",
   "metadata": {},
   "outputs": [
    {
     "data": {
      "text/plain": [
       "array([[ 1.50000000e+00, -1.11022302e-16,  3.03954967e+00,\n",
       "         8.72432133e-01],\n",
       "       [-1.50000000e+00,  1.11022302e-16,  5.72586357e+00,\n",
       "        -4.63126787e-01]])"
      ]
     },
     "execution_count": 36,
     "metadata": {},
     "output_type": "execute_result"
    }
   ],
   "source": [
    "union.transform(X)"
   ]
  },
  {
   "cell_type": "markdown",
   "id": "c6c74ddf-f177-4ea6-a995-07e5bb11d179",
   "metadata": {},
   "source": [
    "# 目标特征转换"
   ]
  },
  {
   "cell_type": "code",
   "execution_count": null,
   "id": "74e2da50-95e9-4e48-83df-9062834fcf4b",
   "metadata": {},
   "outputs": [],
   "source": []
  }
 ],
 "metadata": {
  "kernelspec": {
   "display_name": "Data-Analysis",
   "language": "python",
   "name": "data-analysis"
  },
  "language_info": {
   "codemirror_mode": {
    "name": "ipython",
    "version": 3
   },
   "file_extension": ".py",
   "mimetype": "text/x-python",
   "name": "python",
   "nbconvert_exporter": "python",
   "pygments_lexer": "ipython3",
   "version": "3.8.13"
  }
 },
 "nbformat": 4,
 "nbformat_minor": 5
}
