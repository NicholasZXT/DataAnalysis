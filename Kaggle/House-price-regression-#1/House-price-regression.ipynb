{
 "cells": [
  {
   "cell_type": "code",
   "execution_count": 1,
   "metadata": {},
   "outputs": [],
   "source": [
    "import numpy as np\n",
    "import pandas as pd\n",
    "import matplotlib.pyplot as plt\n",
    "import seaborn as sns"
   ]
  },
  {
   "cell_type": "code",
   "execution_count": 2,
   "metadata": {},
   "outputs": [
    {
     "data": {
      "text/plain": [
       "'D:\\\\Documents\\\\MyProjects\\\\DataAnalysis\\\\Kaggle\\\\House-price-regression-#1'"
      ]
     },
     "execution_count": 2,
     "metadata": {},
     "output_type": "execute_result"
    }
   ],
   "source": [
    "pwd"
   ]
  },
  {
   "cell_type": "code",
   "execution_count": 3,
   "metadata": {},
   "outputs": [
    {
     "name": "stdout",
     "output_type": "stream",
     "text": [
      "D:\\Documents\\MyProjects\\DataAnalysis\\Kaggle\\House-price-regression-#1\\data\n"
     ]
    }
   ],
   "source": [
    "cd data"
   ]
  },
  {
   "cell_type": "markdown",
   "metadata": {},
   "source": [
    "# 数据预处理"
   ]
  },
  {
   "cell_type": "code",
   "execution_count": 65,
   "metadata": {},
   "outputs": [],
   "source": [
    "train = pd.read_csv(\"train.csv\")\n",
    "test = pd.read_csv(\"test.csv\")"
   ]
  },
  {
   "cell_type": "code",
   "execution_count": 5,
   "metadata": {},
   "outputs": [
    {
     "data": {
      "text/plain": [
       "(1460, 81)"
      ]
     },
     "execution_count": 5,
     "metadata": {},
     "output_type": "execute_result"
    }
   ],
   "source": [
    "train.shape"
   ]
  },
  {
   "cell_type": "code",
   "execution_count": 6,
   "metadata": {},
   "outputs": [
    {
     "data": {
      "text/plain": [
       "(1459, 80)"
      ]
     },
     "execution_count": 6,
     "metadata": {},
     "output_type": "execute_result"
    }
   ],
   "source": [
    "test.shape"
   ]
  },
  {
   "cell_type": "code",
   "execution_count": 7,
   "metadata": {},
   "outputs": [
    {
     "data": {
      "text/html": [
       "<div>\n",
       "<style scoped>\n",
       "    .dataframe tbody tr th:only-of-type {\n",
       "        vertical-align: middle;\n",
       "    }\n",
       "\n",
       "    .dataframe tbody tr th {\n",
       "        vertical-align: top;\n",
       "    }\n",
       "\n",
       "    .dataframe thead th {\n",
       "        text-align: right;\n",
       "    }\n",
       "</style>\n",
       "<table border=\"1\" class=\"dataframe\">\n",
       "  <thead>\n",
       "    <tr style=\"text-align: right;\">\n",
       "      <th></th>\n",
       "      <th>Id</th>\n",
       "      <th>MSSubClass</th>\n",
       "      <th>MSZoning</th>\n",
       "      <th>LotFrontage</th>\n",
       "      <th>LotArea</th>\n",
       "      <th>Street</th>\n",
       "      <th>Alley</th>\n",
       "      <th>LotShape</th>\n",
       "      <th>LandContour</th>\n",
       "      <th>Utilities</th>\n",
       "      <th>...</th>\n",
       "      <th>PoolArea</th>\n",
       "      <th>PoolQC</th>\n",
       "      <th>Fence</th>\n",
       "      <th>MiscFeature</th>\n",
       "      <th>MiscVal</th>\n",
       "      <th>MoSold</th>\n",
       "      <th>YrSold</th>\n",
       "      <th>SaleType</th>\n",
       "      <th>SaleCondition</th>\n",
       "      <th>SalePrice</th>\n",
       "    </tr>\n",
       "  </thead>\n",
       "  <tbody>\n",
       "    <tr>\n",
       "      <th>0</th>\n",
       "      <td>1</td>\n",
       "      <td>60</td>\n",
       "      <td>RL</td>\n",
       "      <td>65.0</td>\n",
       "      <td>8450</td>\n",
       "      <td>Pave</td>\n",
       "      <td>NaN</td>\n",
       "      <td>Reg</td>\n",
       "      <td>Lvl</td>\n",
       "      <td>AllPub</td>\n",
       "      <td>...</td>\n",
       "      <td>0</td>\n",
       "      <td>NaN</td>\n",
       "      <td>NaN</td>\n",
       "      <td>NaN</td>\n",
       "      <td>0</td>\n",
       "      <td>2</td>\n",
       "      <td>2008</td>\n",
       "      <td>WD</td>\n",
       "      <td>Normal</td>\n",
       "      <td>208500</td>\n",
       "    </tr>\n",
       "    <tr>\n",
       "      <th>1</th>\n",
       "      <td>2</td>\n",
       "      <td>20</td>\n",
       "      <td>RL</td>\n",
       "      <td>80.0</td>\n",
       "      <td>9600</td>\n",
       "      <td>Pave</td>\n",
       "      <td>NaN</td>\n",
       "      <td>Reg</td>\n",
       "      <td>Lvl</td>\n",
       "      <td>AllPub</td>\n",
       "      <td>...</td>\n",
       "      <td>0</td>\n",
       "      <td>NaN</td>\n",
       "      <td>NaN</td>\n",
       "      <td>NaN</td>\n",
       "      <td>0</td>\n",
       "      <td>5</td>\n",
       "      <td>2007</td>\n",
       "      <td>WD</td>\n",
       "      <td>Normal</td>\n",
       "      <td>181500</td>\n",
       "    </tr>\n",
       "    <tr>\n",
       "      <th>2</th>\n",
       "      <td>3</td>\n",
       "      <td>60</td>\n",
       "      <td>RL</td>\n",
       "      <td>68.0</td>\n",
       "      <td>11250</td>\n",
       "      <td>Pave</td>\n",
       "      <td>NaN</td>\n",
       "      <td>IR1</td>\n",
       "      <td>Lvl</td>\n",
       "      <td>AllPub</td>\n",
       "      <td>...</td>\n",
       "      <td>0</td>\n",
       "      <td>NaN</td>\n",
       "      <td>NaN</td>\n",
       "      <td>NaN</td>\n",
       "      <td>0</td>\n",
       "      <td>9</td>\n",
       "      <td>2008</td>\n",
       "      <td>WD</td>\n",
       "      <td>Normal</td>\n",
       "      <td>223500</td>\n",
       "    </tr>\n",
       "    <tr>\n",
       "      <th>3</th>\n",
       "      <td>4</td>\n",
       "      <td>70</td>\n",
       "      <td>RL</td>\n",
       "      <td>60.0</td>\n",
       "      <td>9550</td>\n",
       "      <td>Pave</td>\n",
       "      <td>NaN</td>\n",
       "      <td>IR1</td>\n",
       "      <td>Lvl</td>\n",
       "      <td>AllPub</td>\n",
       "      <td>...</td>\n",
       "      <td>0</td>\n",
       "      <td>NaN</td>\n",
       "      <td>NaN</td>\n",
       "      <td>NaN</td>\n",
       "      <td>0</td>\n",
       "      <td>2</td>\n",
       "      <td>2006</td>\n",
       "      <td>WD</td>\n",
       "      <td>Abnorml</td>\n",
       "      <td>140000</td>\n",
       "    </tr>\n",
       "    <tr>\n",
       "      <th>4</th>\n",
       "      <td>5</td>\n",
       "      <td>60</td>\n",
       "      <td>RL</td>\n",
       "      <td>84.0</td>\n",
       "      <td>14260</td>\n",
       "      <td>Pave</td>\n",
       "      <td>NaN</td>\n",
       "      <td>IR1</td>\n",
       "      <td>Lvl</td>\n",
       "      <td>AllPub</td>\n",
       "      <td>...</td>\n",
       "      <td>0</td>\n",
       "      <td>NaN</td>\n",
       "      <td>NaN</td>\n",
       "      <td>NaN</td>\n",
       "      <td>0</td>\n",
       "      <td>12</td>\n",
       "      <td>2008</td>\n",
       "      <td>WD</td>\n",
       "      <td>Normal</td>\n",
       "      <td>250000</td>\n",
       "    </tr>\n",
       "  </tbody>\n",
       "</table>\n",
       "<p>5 rows × 81 columns</p>\n",
       "</div>"
      ],
      "text/plain": [
       "   Id  MSSubClass MSZoning  LotFrontage  LotArea Street Alley LotShape  \\\n",
       "0   1          60       RL         65.0     8450   Pave   NaN      Reg   \n",
       "1   2          20       RL         80.0     9600   Pave   NaN      Reg   \n",
       "2   3          60       RL         68.0    11250   Pave   NaN      IR1   \n",
       "3   4          70       RL         60.0     9550   Pave   NaN      IR1   \n",
       "4   5          60       RL         84.0    14260   Pave   NaN      IR1   \n",
       "\n",
       "  LandContour Utilities  ... PoolArea PoolQC Fence MiscFeature MiscVal MoSold  \\\n",
       "0         Lvl    AllPub  ...        0    NaN   NaN         NaN       0      2   \n",
       "1         Lvl    AllPub  ...        0    NaN   NaN         NaN       0      5   \n",
       "2         Lvl    AllPub  ...        0    NaN   NaN         NaN       0      9   \n",
       "3         Lvl    AllPub  ...        0    NaN   NaN         NaN       0      2   \n",
       "4         Lvl    AllPub  ...        0    NaN   NaN         NaN       0     12   \n",
       "\n",
       "  YrSold  SaleType  SaleCondition  SalePrice  \n",
       "0   2008        WD         Normal     208500  \n",
       "1   2007        WD         Normal     181500  \n",
       "2   2008        WD         Normal     223500  \n",
       "3   2006        WD        Abnorml     140000  \n",
       "4   2008        WD         Normal     250000  \n",
       "\n",
       "[5 rows x 81 columns]"
      ]
     },
     "execution_count": 7,
     "metadata": {},
     "output_type": "execute_result"
    }
   ],
   "source": [
    "train.head()"
   ]
  },
  {
   "cell_type": "code",
   "execution_count": 8,
   "metadata": {
    "collapsed": true,
    "jupyter": {
     "outputs_hidden": true
    }
   },
   "outputs": [
    {
     "name": "stdout",
     "output_type": "stream",
     "text": [
      "<class 'pandas.core.frame.DataFrame'>\n",
      "RangeIndex: 1460 entries, 0 to 1459\n",
      "Data columns (total 81 columns):\n",
      " #   Column         Non-Null Count  Dtype  \n",
      "---  ------         --------------  -----  \n",
      " 0   Id             1460 non-null   int64  \n",
      " 1   MSSubClass     1460 non-null   int64  \n",
      " 2   MSZoning       1460 non-null   object \n",
      " 3   LotFrontage    1201 non-null   float64\n",
      " 4   LotArea        1460 non-null   int64  \n",
      " 5   Street         1460 non-null   object \n",
      " 6   Alley          91 non-null     object \n",
      " 7   LotShape       1460 non-null   object \n",
      " 8   LandContour    1460 non-null   object \n",
      " 9   Utilities      1460 non-null   object \n",
      " 10  LotConfig      1460 non-null   object \n",
      " 11  LandSlope      1460 non-null   object \n",
      " 12  Neighborhood   1460 non-null   object \n",
      " 13  Condition1     1460 non-null   object \n",
      " 14  Condition2     1460 non-null   object \n",
      " 15  BldgType       1460 non-null   object \n",
      " 16  HouseStyle     1460 non-null   object \n",
      " 17  OverallQual    1460 non-null   int64  \n",
      " 18  OverallCond    1460 non-null   int64  \n",
      " 19  YearBuilt      1460 non-null   int64  \n",
      " 20  YearRemodAdd   1460 non-null   int64  \n",
      " 21  RoofStyle      1460 non-null   object \n",
      " 22  RoofMatl       1460 non-null   object \n",
      " 23  Exterior1st    1460 non-null   object \n",
      " 24  Exterior2nd    1460 non-null   object \n",
      " 25  MasVnrType     1452 non-null   object \n",
      " 26  MasVnrArea     1452 non-null   float64\n",
      " 27  ExterQual      1460 non-null   object \n",
      " 28  ExterCond      1460 non-null   object \n",
      " 29  Foundation     1460 non-null   object \n",
      " 30  BsmtQual       1423 non-null   object \n",
      " 31  BsmtCond       1423 non-null   object \n",
      " 32  BsmtExposure   1422 non-null   object \n",
      " 33  BsmtFinType1   1423 non-null   object \n",
      " 34  BsmtFinSF1     1460 non-null   int64  \n",
      " 35  BsmtFinType2   1422 non-null   object \n",
      " 36  BsmtFinSF2     1460 non-null   int64  \n",
      " 37  BsmtUnfSF      1460 non-null   int64  \n",
      " 38  TotalBsmtSF    1460 non-null   int64  \n",
      " 39  Heating        1460 non-null   object \n",
      " 40  HeatingQC      1460 non-null   object \n",
      " 41  CentralAir     1460 non-null   object \n",
      " 42  Electrical     1459 non-null   object \n",
      " 43  1stFlrSF       1460 non-null   int64  \n",
      " 44  2ndFlrSF       1460 non-null   int64  \n",
      " 45  LowQualFinSF   1460 non-null   int64  \n",
      " 46  GrLivArea      1460 non-null   int64  \n",
      " 47  BsmtFullBath   1460 non-null   int64  \n",
      " 48  BsmtHalfBath   1460 non-null   int64  \n",
      " 49  FullBath       1460 non-null   int64  \n",
      " 50  HalfBath       1460 non-null   int64  \n",
      " 51  BedroomAbvGr   1460 non-null   int64  \n",
      " 52  KitchenAbvGr   1460 non-null   int64  \n",
      " 53  KitchenQual    1460 non-null   object \n",
      " 54  TotRmsAbvGrd   1460 non-null   int64  \n",
      " 55  Functional     1460 non-null   object \n",
      " 56  Fireplaces     1460 non-null   int64  \n",
      " 57  FireplaceQu    770 non-null    object \n",
      " 58  GarageType     1379 non-null   object \n",
      " 59  GarageYrBlt    1379 non-null   float64\n",
      " 60  GarageFinish   1379 non-null   object \n",
      " 61  GarageCars     1460 non-null   int64  \n",
      " 62  GarageArea     1460 non-null   int64  \n",
      " 63  GarageQual     1379 non-null   object \n",
      " 64  GarageCond     1379 non-null   object \n",
      " 65  PavedDrive     1460 non-null   object \n",
      " 66  WoodDeckSF     1460 non-null   int64  \n",
      " 67  OpenPorchSF    1460 non-null   int64  \n",
      " 68  EnclosedPorch  1460 non-null   int64  \n",
      " 69  3SsnPorch      1460 non-null   int64  \n",
      " 70  ScreenPorch    1460 non-null   int64  \n",
      " 71  PoolArea       1460 non-null   int64  \n",
      " 72  PoolQC         7 non-null      object \n",
      " 73  Fence          281 non-null    object \n",
      " 74  MiscFeature    54 non-null     object \n",
      " 75  MiscVal        1460 non-null   int64  \n",
      " 76  MoSold         1460 non-null   int64  \n",
      " 77  YrSold         1460 non-null   int64  \n",
      " 78  SaleType       1460 non-null   object \n",
      " 79  SaleCondition  1460 non-null   object \n",
      " 80  SalePrice      1460 non-null   int64  \n",
      "dtypes: float64(3), int64(35), object(43)\n",
      "memory usage: 924.0+ KB\n"
     ]
    }
   ],
   "source": [
    "train.info()"
   ]
  },
  {
   "cell_type": "code",
   "execution_count": 9,
   "metadata": {
    "collapsed": true,
    "jupyter": {
     "outputs_hidden": true
    }
   },
   "outputs": [
    {
     "name": "stdout",
     "output_type": "stream",
     "text": [
      "<class 'pandas.core.frame.DataFrame'>\n",
      "RangeIndex: 1459 entries, 0 to 1458\n",
      "Data columns (total 80 columns):\n",
      " #   Column         Non-Null Count  Dtype  \n",
      "---  ------         --------------  -----  \n",
      " 0   Id             1459 non-null   int64  \n",
      " 1   MSSubClass     1459 non-null   int64  \n",
      " 2   MSZoning       1455 non-null   object \n",
      " 3   LotFrontage    1232 non-null   float64\n",
      " 4   LotArea        1459 non-null   int64  \n",
      " 5   Street         1459 non-null   object \n",
      " 6   Alley          107 non-null    object \n",
      " 7   LotShape       1459 non-null   object \n",
      " 8   LandContour    1459 non-null   object \n",
      " 9   Utilities      1457 non-null   object \n",
      " 10  LotConfig      1459 non-null   object \n",
      " 11  LandSlope      1459 non-null   object \n",
      " 12  Neighborhood   1459 non-null   object \n",
      " 13  Condition1     1459 non-null   object \n",
      " 14  Condition2     1459 non-null   object \n",
      " 15  BldgType       1459 non-null   object \n",
      " 16  HouseStyle     1459 non-null   object \n",
      " 17  OverallQual    1459 non-null   int64  \n",
      " 18  OverallCond    1459 non-null   int64  \n",
      " 19  YearBuilt      1459 non-null   int64  \n",
      " 20  YearRemodAdd   1459 non-null   int64  \n",
      " 21  RoofStyle      1459 non-null   object \n",
      " 22  RoofMatl       1459 non-null   object \n",
      " 23  Exterior1st    1458 non-null   object \n",
      " 24  Exterior2nd    1458 non-null   object \n",
      " 25  MasVnrType     1443 non-null   object \n",
      " 26  MasVnrArea     1444 non-null   float64\n",
      " 27  ExterQual      1459 non-null   object \n",
      " 28  ExterCond      1459 non-null   object \n",
      " 29  Foundation     1459 non-null   object \n",
      " 30  BsmtQual       1415 non-null   object \n",
      " 31  BsmtCond       1414 non-null   object \n",
      " 32  BsmtExposure   1415 non-null   object \n",
      " 33  BsmtFinType1   1417 non-null   object \n",
      " 34  BsmtFinSF1     1458 non-null   float64\n",
      " 35  BsmtFinType2   1417 non-null   object \n",
      " 36  BsmtFinSF2     1458 non-null   float64\n",
      " 37  BsmtUnfSF      1458 non-null   float64\n",
      " 38  TotalBsmtSF    1458 non-null   float64\n",
      " 39  Heating        1459 non-null   object \n",
      " 40  HeatingQC      1459 non-null   object \n",
      " 41  CentralAir     1459 non-null   object \n",
      " 42  Electrical     1459 non-null   object \n",
      " 43  1stFlrSF       1459 non-null   int64  \n",
      " 44  2ndFlrSF       1459 non-null   int64  \n",
      " 45  LowQualFinSF   1459 non-null   int64  \n",
      " 46  GrLivArea      1459 non-null   int64  \n",
      " 47  BsmtFullBath   1457 non-null   float64\n",
      " 48  BsmtHalfBath   1457 non-null   float64\n",
      " 49  FullBath       1459 non-null   int64  \n",
      " 50  HalfBath       1459 non-null   int64  \n",
      " 51  BedroomAbvGr   1459 non-null   int64  \n",
      " 52  KitchenAbvGr   1459 non-null   int64  \n",
      " 53  KitchenQual    1458 non-null   object \n",
      " 54  TotRmsAbvGrd   1459 non-null   int64  \n",
      " 55  Functional     1457 non-null   object \n",
      " 56  Fireplaces     1459 non-null   int64  \n",
      " 57  FireplaceQu    729 non-null    object \n",
      " 58  GarageType     1383 non-null   object \n",
      " 59  GarageYrBlt    1381 non-null   float64\n",
      " 60  GarageFinish   1381 non-null   object \n",
      " 61  GarageCars     1458 non-null   float64\n",
      " 62  GarageArea     1458 non-null   float64\n",
      " 63  GarageQual     1381 non-null   object \n",
      " 64  GarageCond     1381 non-null   object \n",
      " 65  PavedDrive     1459 non-null   object \n",
      " 66  WoodDeckSF     1459 non-null   int64  \n",
      " 67  OpenPorchSF    1459 non-null   int64  \n",
      " 68  EnclosedPorch  1459 non-null   int64  \n",
      " 69  3SsnPorch      1459 non-null   int64  \n",
      " 70  ScreenPorch    1459 non-null   int64  \n",
      " 71  PoolArea       1459 non-null   int64  \n",
      " 72  PoolQC         3 non-null      object \n",
      " 73  Fence          290 non-null    object \n",
      " 74  MiscFeature    51 non-null     object \n",
      " 75  MiscVal        1459 non-null   int64  \n",
      " 76  MoSold         1459 non-null   int64  \n",
      " 77  YrSold         1459 non-null   int64  \n",
      " 78  SaleType       1458 non-null   object \n",
      " 79  SaleCondition  1459 non-null   object \n",
      "dtypes: float64(11), int64(26), object(43)\n",
      "memory usage: 912.0+ KB\n"
     ]
    }
   ],
   "source": [
    "test.info()"
   ]
  },
  {
   "cell_type": "markdown",
   "metadata": {},
   "source": [
    "## 缺失值处理"
   ]
  },
  {
   "cell_type": "code",
   "execution_count": 66,
   "metadata": {},
   "outputs": [],
   "source": [
    "# 找出有哪些列含有缺失值\n",
    "def col_contains_null(col):\n",
    "    return any(pd.isnull(col))"
   ]
  },
  {
   "cell_type": "code",
   "execution_count": 67,
   "metadata": {},
   "outputs": [],
   "source": [
    "col_null_train = train.apply(col_contains_null, axis = 0)"
   ]
  },
  {
   "cell_type": "code",
   "execution_count": 68,
   "metadata": {},
   "outputs": [
    {
     "name": "stdout",
     "output_type": "stream",
     "text": [
      "<class 'pandas.core.frame.DataFrame'>\n",
      "RangeIndex: 1460 entries, 0 to 1459\n",
      "Data columns (total 19 columns):\n",
      " #   Column        Non-Null Count  Dtype  \n",
      "---  ------        --------------  -----  \n",
      " 0   LotFrontage   1201 non-null   float64\n",
      " 1   Alley         91 non-null     object \n",
      " 2   MasVnrType    1452 non-null   object \n",
      " 3   MasVnrArea    1452 non-null   float64\n",
      " 4   BsmtQual      1423 non-null   object \n",
      " 5   BsmtCond      1423 non-null   object \n",
      " 6   BsmtExposure  1422 non-null   object \n",
      " 7   BsmtFinType1  1423 non-null   object \n",
      " 8   BsmtFinType2  1422 non-null   object \n",
      " 9   Electrical    1459 non-null   object \n",
      " 10  FireplaceQu   770 non-null    object \n",
      " 11  GarageType    1379 non-null   object \n",
      " 12  GarageYrBlt   1379 non-null   float64\n",
      " 13  GarageFinish  1379 non-null   object \n",
      " 14  GarageQual    1379 non-null   object \n",
      " 15  GarageCond    1379 non-null   object \n",
      " 16  PoolQC        7 non-null      object \n",
      " 17  Fence         281 non-null    object \n",
      " 18  MiscFeature   54 non-null     object \n",
      "dtypes: float64(3), object(16)\n",
      "memory usage: 216.8+ KB\n"
     ]
    }
   ],
   "source": [
    "train_null = train.loc[:, col_null_train]\n",
    "train_null.info()"
   ]
  },
  {
   "cell_type": "markdown",
   "metadata": {},
   "source": [
    "+ 对于 Alley , FireplaceQu, PoolQC, Fence, MiscFeature 这些列， 缺失的太多了，直接删除"
   ]
  },
  {
   "cell_type": "code",
   "execution_count": 69,
   "metadata": {},
   "outputs": [],
   "source": [
    "train.drop(['Alley', 'FireplaceQu', 'PoolQC', 'Fence', 'MiscFeature'], axis=1, inplace=True)\n",
    "# 注意，这个操作对于 测试集也要进行\n",
    "test.drop(['Alley', 'FireplaceQu', 'PoolQC', 'Fence', 'MiscFeature'], axis=1, inplace=True)"
   ]
  },
  {
   "cell_type": "code",
   "execution_count": 99,
   "metadata": {
    "collapsed": true,
    "jupyter": {
     "outputs_hidden": true
    }
   },
   "outputs": [
    {
     "name": "stdout",
     "output_type": "stream",
     "text": [
      "<class 'pandas.core.frame.DataFrame'>\n",
      "RangeIndex: 1460 entries, 0 to 1459\n",
      "Data columns (total 76 columns):\n",
      " #   Column         Non-Null Count  Dtype  \n",
      "---  ------         --------------  -----  \n",
      " 0   Id             1460 non-null   int64  \n",
      " 1   MSSubClass     1460 non-null   int64  \n",
      " 2   MSZoning       1460 non-null   object \n",
      " 3   LotFrontage    1201 non-null   float64\n",
      " 4   LotArea        1460 non-null   int64  \n",
      " 5   Street         1460 non-null   object \n",
      " 6   LotShape       1460 non-null   object \n",
      " 7   LandContour    1460 non-null   object \n",
      " 8   Utilities      1460 non-null   object \n",
      " 9   LotConfig      1460 non-null   object \n",
      " 10  LandSlope      1460 non-null   object \n",
      " 11  Neighborhood   1460 non-null   object \n",
      " 12  Condition1     1460 non-null   object \n",
      " 13  Condition2     1460 non-null   object \n",
      " 14  BldgType       1460 non-null   object \n",
      " 15  HouseStyle     1460 non-null   object \n",
      " 16  OverallQual    1460 non-null   int64  \n",
      " 17  OverallCond    1460 non-null   int64  \n",
      " 18  YearBuilt      1460 non-null   int64  \n",
      " 19  YearRemodAdd   1460 non-null   int64  \n",
      " 20  RoofStyle      1460 non-null   object \n",
      " 21  RoofMatl       1460 non-null   object \n",
      " 22  Exterior1st    1460 non-null   object \n",
      " 23  Exterior2nd    1460 non-null   object \n",
      " 24  MasVnrType     1452 non-null   object \n",
      " 25  MasVnrArea     1452 non-null   float64\n",
      " 26  ExterQual      1460 non-null   object \n",
      " 27  ExterCond      1460 non-null   object \n",
      " 28  Foundation     1460 non-null   object \n",
      " 29  BsmtQual       1423 non-null   object \n",
      " 30  BsmtCond       1423 non-null   object \n",
      " 31  BsmtExposure   1422 non-null   object \n",
      " 32  BsmtFinType1   1423 non-null   object \n",
      " 33  BsmtFinSF1     1460 non-null   int64  \n",
      " 34  BsmtFinType2   1422 non-null   object \n",
      " 35  BsmtFinSF2     1460 non-null   int64  \n",
      " 36  BsmtUnfSF      1460 non-null   int64  \n",
      " 37  TotalBsmtSF    1460 non-null   int64  \n",
      " 38  Heating        1460 non-null   object \n",
      " 39  HeatingQC      1460 non-null   object \n",
      " 40  CentralAir     1460 non-null   object \n",
      " 41  Electrical     1459 non-null   object \n",
      " 42  1stFlrSF       1460 non-null   int64  \n",
      " 43  2ndFlrSF       1460 non-null   int64  \n",
      " 44  LowQualFinSF   1460 non-null   int64  \n",
      " 45  GrLivArea      1460 non-null   int64  \n",
      " 46  BsmtFullBath   1460 non-null   int64  \n",
      " 47  BsmtHalfBath   1460 non-null   int64  \n",
      " 48  FullBath       1460 non-null   int64  \n",
      " 49  HalfBath       1460 non-null   int64  \n",
      " 50  BedroomAbvGr   1460 non-null   int64  \n",
      " 51  KitchenAbvGr   1460 non-null   int64  \n",
      " 52  KitchenQual    1460 non-null   object \n",
      " 53  TotRmsAbvGrd   1460 non-null   int64  \n",
      " 54  Functional     1460 non-null   object \n",
      " 55  Fireplaces     1460 non-null   int64  \n",
      " 56  GarageType     1379 non-null   object \n",
      " 57  GarageYrBlt    1379 non-null   float64\n",
      " 58  GarageFinish   1379 non-null   object \n",
      " 59  GarageCars     1460 non-null   int64  \n",
      " 60  GarageArea     1460 non-null   int64  \n",
      " 61  GarageQual     1379 non-null   object \n",
      " 62  GarageCond     1379 non-null   object \n",
      " 63  PavedDrive     1460 non-null   object \n",
      " 64  WoodDeckSF     1460 non-null   int64  \n",
      " 65  OpenPorchSF    1460 non-null   int64  \n",
      " 66  EnclosedPorch  1460 non-null   int64  \n",
      " 67  3SsnPorch      1460 non-null   int64  \n",
      " 68  ScreenPorch    1460 non-null   int64  \n",
      " 69  PoolArea       1460 non-null   int64  \n",
      " 70  MiscVal        1460 non-null   int64  \n",
      " 71  MoSold         1460 non-null   int64  \n",
      " 72  YrSold         1460 non-null   int64  \n",
      " 73  SaleType       1460 non-null   object \n",
      " 74  SaleCondition  1460 non-null   object \n",
      " 75  SalePrice      1460 non-null   int64  \n",
      "dtypes: float64(3), int64(35), object(38)\n",
      "memory usage: 867.0+ KB\n"
     ]
    }
   ],
   "source": [
    "train.info()"
   ]
  },
  {
   "cell_type": "code",
   "execution_count": 100,
   "metadata": {},
   "outputs": [],
   "source": [
    "# 获取新的缺失值列\n",
    "col_null_train = train.apply(col_contains_null, axis = 0)\n",
    "train_null = train.loc[:, col_null_train]"
   ]
  },
  {
   "cell_type": "code",
   "execution_count": 101,
   "metadata": {},
   "outputs": [],
   "source": [
    "col_null_test = test.apply(col_contains_null, axis = 0)\n",
    "test_null = test.loc[:, col_null_test]"
   ]
  },
  {
   "cell_type": "code",
   "execution_count": 102,
   "metadata": {},
   "outputs": [
    {
     "name": "stdout",
     "output_type": "stream",
     "text": [
      "<class 'pandas.core.frame.DataFrame'>\n",
      "RangeIndex: 1460 entries, 0 to 1459\n",
      "Data columns (total 14 columns):\n",
      " #   Column        Non-Null Count  Dtype  \n",
      "---  ------        --------------  -----  \n",
      " 0   LotFrontage   1201 non-null   float64\n",
      " 1   MasVnrType    1452 non-null   object \n",
      " 2   MasVnrArea    1452 non-null   float64\n",
      " 3   BsmtQual      1423 non-null   object \n",
      " 4   BsmtCond      1423 non-null   object \n",
      " 5   BsmtExposure  1422 non-null   object \n",
      " 6   BsmtFinType1  1423 non-null   object \n",
      " 7   BsmtFinType2  1422 non-null   object \n",
      " 8   Electrical    1459 non-null   object \n",
      " 9   GarageType    1379 non-null   object \n",
      " 10  GarageYrBlt   1379 non-null   float64\n",
      " 11  GarageFinish  1379 non-null   object \n",
      " 12  GarageQual    1379 non-null   object \n",
      " 13  GarageCond    1379 non-null   object \n",
      "dtypes: float64(3), object(11)\n",
      "memory usage: 159.8+ KB\n"
     ]
    }
   ],
   "source": [
    "train_null.info()"
   ]
  },
  {
   "cell_type": "markdown",
   "metadata": {},
   "source": [
    "对于字符型和数值型的特征，采用不同的填充方式。  \n",
    "\n",
    "**从一个DF中提取字符型的特征有两种方式**：\n",
    "1. `df.loc[:, df.dtypes == np.object]`\n",
    "2. `df.select_dtypes(include=['object'])`，这个是从0.14.1版本的pandas开始加入的"
   ]
  },
  {
   "cell_type": "markdown",
   "metadata": {},
   "source": [
    "### 字符型特征缺失值填充\n",
    "+ 对于字符类型的特征，采用众数填充"
   ]
  },
  {
   "cell_type": "code",
   "execution_count": 105,
   "metadata": {},
   "outputs": [],
   "source": [
    "# 对于 Oject 类型的列，采用众数填充\n",
    "from sklearn.impute import SimpleImputer\n",
    "imp_most = SimpleImputer(strategy='most_frequent')"
   ]
  },
  {
   "cell_type": "code",
   "execution_count": 106,
   "metadata": {},
   "outputs": [],
   "source": [
    "train_null_str = train_null.select_dtypes(include=['object'])\n",
    "# train_null_str.info()"
   ]
  },
  {
   "cell_type": "code",
   "execution_count": 107,
   "metadata": {},
   "outputs": [
    {
     "name": "stdout",
     "output_type": "stream",
     "text": [
      "<class 'pandas.core.frame.DataFrame'>\n",
      "RangeIndex: 1460 entries, 0 to 1459\n",
      "Data columns (total 11 columns):\n",
      " #   Column        Non-Null Count  Dtype \n",
      "---  ------        --------------  ----- \n",
      " 0   MasVnrType    1460 non-null   object\n",
      " 1   BsmtQual      1460 non-null   object\n",
      " 2   BsmtCond      1460 non-null   object\n",
      " 3   BsmtExposure  1460 non-null   object\n",
      " 4   BsmtFinType1  1460 non-null   object\n",
      " 5   BsmtFinType2  1460 non-null   object\n",
      " 6   Electrical    1460 non-null   object\n",
      " 7   GarageType    1460 non-null   object\n",
      " 8   GarageFinish  1460 non-null   object\n",
      " 9   GarageQual    1460 non-null   object\n",
      " 10  GarageCond    1460 non-null   object\n",
      "dtypes: object(11)\n",
      "memory usage: 125.6+ KB\n"
     ]
    }
   ],
   "source": [
    "imp_most.fit(train_null_str)\n",
    "train_null_str_impute = pd.DataFrame(imp_most.transform(train_null_str), columns = train_null_str.columns)\n",
    "train_null_str_impute.info()"
   ]
  },
  {
   "cell_type": "code",
   "execution_count": 108,
   "metadata": {},
   "outputs": [],
   "source": [
    "test_null_str = test_null.select_dtypes(include=['object'])\n",
    "imp_most.fit(test_null_str)\n",
    "test_null_str_impute = pd.DataFrame(imp_most.transform(test_null_str), columns = test_null_str.columns)\n",
    "# test_null_str_impute.info()"
   ]
  },
  {
   "cell_type": "markdown",
   "metadata": {},
   "source": [
    "### 数值型特征缺失值填充\n",
    "+ 对于数值型的特征，采用均值进行填充"
   ]
  },
  {
   "cell_type": "code",
   "execution_count": 109,
   "metadata": {},
   "outputs": [],
   "source": [
    "imp_mean = SimpleImputer(strategy='mean')"
   ]
  },
  {
   "cell_type": "code",
   "execution_count": 110,
   "metadata": {},
   "outputs": [
    {
     "name": "stdout",
     "output_type": "stream",
     "text": [
      "<class 'pandas.core.frame.DataFrame'>\n",
      "RangeIndex: 1460 entries, 0 to 1459\n",
      "Data columns (total 3 columns):\n",
      " #   Column       Non-Null Count  Dtype  \n",
      "---  ------       --------------  -----  \n",
      " 0   LotFrontage  1460 non-null   float64\n",
      " 1   MasVnrArea   1460 non-null   float64\n",
      " 2   GarageYrBlt  1460 non-null   float64\n",
      "dtypes: float64(3)\n",
      "memory usage: 34.3 KB\n"
     ]
    }
   ],
   "source": [
    "train_null_num = train_null.select_dtypes(exclude=['object'])\n",
    "imp_mean.fit(train_null_num)\n",
    "train_null_num_impute = pd.DataFrame(imp_mean.transform(train_null_num), columns = train_null_num.columns)\n",
    "train_null_num_impute.info()"
   ]
  },
  {
   "cell_type": "code",
   "execution_count": 111,
   "metadata": {},
   "outputs": [],
   "source": [
    "test_null_num = test_null.select_dtypes(exclude=['object'])\n",
    "imp_mean.fit(test_null_num)\n",
    "test_null_num_impute = pd.DataFrame(imp_mean.transform(test_null_num), columns = test_null_num.columns)\n",
    "# test_num_impute.info()"
   ]
  },
  {
   "cell_type": "markdown",
   "metadata": {},
   "source": [
    "### 合并数据"
   ]
  },
  {
   "cell_type": "code",
   "execution_count": 114,
   "metadata": {},
   "outputs": [
    {
     "data": {
      "text/plain": [
       "(1460, 14)"
      ]
     },
     "execution_count": 114,
     "metadata": {},
     "output_type": "execute_result"
    }
   ],
   "source": [
    "# 含有缺失值的列\n",
    "train_null_impute = pd.concat([train_null_str_impute, train_null_num_impute], axis = 1)\n",
    "train_null_impute.shape"
   ]
  },
  {
   "cell_type": "code",
   "execution_count": 129,
   "metadata": {},
   "outputs": [
    {
     "data": {
      "text/plain": [
       "(1460, 62)"
      ]
     },
     "execution_count": 129,
     "metadata": {},
     "output_type": "execute_result"
    }
   ],
   "source": [
    "# 不含缺失值的列\n",
    "train_not_null = train.loc[:,  ~ col_null_train]\n",
    "train_not_null.shape"
   ]
  },
  {
   "cell_type": "code",
   "execution_count": 127,
   "metadata": {},
   "outputs": [
    {
     "data": {
      "text/plain": [
       "(1460, 76)"
      ]
     },
     "execution_count": 127,
     "metadata": {},
     "output_type": "execute_result"
    }
   ],
   "source": [
    "train_impute = pd.concat([train_null_impute, train_not_null], axis=1)\n",
    "train_impute.shape"
   ]
  },
  {
   "cell_type": "code",
   "execution_count": 128,
   "metadata": {},
   "outputs": [
    {
     "data": {
      "text/plain": [
       "(1460, 76)"
      ]
     },
     "execution_count": 128,
     "metadata": {},
     "output_type": "execute_result"
    }
   ],
   "source": [
    "train.shape"
   ]
  },
  {
   "cell_type": "code",
   "execution_count": 130,
   "metadata": {},
   "outputs": [
    {
     "data": {
      "text/plain": [
       "(1459, 28)"
      ]
     },
     "execution_count": 130,
     "metadata": {},
     "output_type": "execute_result"
    }
   ],
   "source": [
    "test_null_impute = pd.concat([test_null_str_impute, test_null_num_impute], axis = 1)\n",
    "test_null_impute.shape"
   ]
  },
  {
   "cell_type": "code",
   "execution_count": 131,
   "metadata": {},
   "outputs": [
    {
     "data": {
      "text/plain": [
       "(1459, 47)"
      ]
     },
     "execution_count": 131,
     "metadata": {},
     "output_type": "execute_result"
    }
   ],
   "source": [
    "test_not_null = test.loc[:,  ~ col_null_test]\n",
    "test_not_null.shape"
   ]
  },
  {
   "cell_type": "code",
   "execution_count": 132,
   "metadata": {},
   "outputs": [
    {
     "data": {
      "text/plain": [
       "(1459, 75)"
      ]
     },
     "execution_count": 132,
     "metadata": {},
     "output_type": "execute_result"
    }
   ],
   "source": [
    "test_impute = pd.concat([test_null_impute, test_not_null], axis=1)\n",
    "test_impute.shape"
   ]
  },
  {
   "cell_type": "code",
   "execution_count": 133,
   "metadata": {},
   "outputs": [
    {
     "data": {
      "text/plain": [
       "(1459, 75)"
      ]
     },
     "execution_count": 133,
     "metadata": {},
     "output_type": "execute_result"
    }
   ],
   "source": [
    "test.shape"
   ]
  },
  {
   "cell_type": "code",
   "execution_count": 136,
   "metadata": {
    "collapsed": true,
    "jupyter": {
     "outputs_hidden": true
    }
   },
   "outputs": [
    {
     "name": "stdout",
     "output_type": "stream",
     "text": [
      "<class 'pandas.core.frame.DataFrame'>\n",
      "RangeIndex: 1460 entries, 0 to 1459\n",
      "Data columns (total 76 columns):\n",
      " #   Column         Non-Null Count  Dtype  \n",
      "---  ------         --------------  -----  \n",
      " 0   MasVnrType     1460 non-null   object \n",
      " 1   BsmtQual       1460 non-null   object \n",
      " 2   BsmtCond       1460 non-null   object \n",
      " 3   BsmtExposure   1460 non-null   object \n",
      " 4   BsmtFinType1   1460 non-null   object \n",
      " 5   BsmtFinType2   1460 non-null   object \n",
      " 6   Electrical     1460 non-null   object \n",
      " 7   GarageType     1460 non-null   object \n",
      " 8   GarageFinish   1460 non-null   object \n",
      " 9   GarageQual     1460 non-null   object \n",
      " 10  GarageCond     1460 non-null   object \n",
      " 11  LotFrontage    1460 non-null   float64\n",
      " 12  MasVnrArea     1460 non-null   float64\n",
      " 13  GarageYrBlt    1460 non-null   float64\n",
      " 14  Id             1460 non-null   int64  \n",
      " 15  MSSubClass     1460 non-null   int64  \n",
      " 16  MSZoning       1460 non-null   object \n",
      " 17  LotArea        1460 non-null   int64  \n",
      " 18  Street         1460 non-null   object \n",
      " 19  LotShape       1460 non-null   object \n",
      " 20  LandContour    1460 non-null   object \n",
      " 21  Utilities      1460 non-null   object \n",
      " 22  LotConfig      1460 non-null   object \n",
      " 23  LandSlope      1460 non-null   object \n",
      " 24  Neighborhood   1460 non-null   object \n",
      " 25  Condition1     1460 non-null   object \n",
      " 26  Condition2     1460 non-null   object \n",
      " 27  BldgType       1460 non-null   object \n",
      " 28  HouseStyle     1460 non-null   object \n",
      " 29  OverallQual    1460 non-null   int64  \n",
      " 30  OverallCond    1460 non-null   int64  \n",
      " 31  YearBuilt      1460 non-null   int64  \n",
      " 32  YearRemodAdd   1460 non-null   int64  \n",
      " 33  RoofStyle      1460 non-null   object \n",
      " 34  RoofMatl       1460 non-null   object \n",
      " 35  Exterior1st    1460 non-null   object \n",
      " 36  Exterior2nd    1460 non-null   object \n",
      " 37  ExterQual      1460 non-null   object \n",
      " 38  ExterCond      1460 non-null   object \n",
      " 39  Foundation     1460 non-null   object \n",
      " 40  BsmtFinSF1     1460 non-null   int64  \n",
      " 41  BsmtFinSF2     1460 non-null   int64  \n",
      " 42  BsmtUnfSF      1460 non-null   int64  \n",
      " 43  TotalBsmtSF    1460 non-null   int64  \n",
      " 44  Heating        1460 non-null   object \n",
      " 45  HeatingQC      1460 non-null   object \n",
      " 46  CentralAir     1460 non-null   object \n",
      " 47  1stFlrSF       1460 non-null   int64  \n",
      " 48  2ndFlrSF       1460 non-null   int64  \n",
      " 49  LowQualFinSF   1460 non-null   int64  \n",
      " 50  GrLivArea      1460 non-null   int64  \n",
      " 51  BsmtFullBath   1460 non-null   int64  \n",
      " 52  BsmtHalfBath   1460 non-null   int64  \n",
      " 53  FullBath       1460 non-null   int64  \n",
      " 54  HalfBath       1460 non-null   int64  \n",
      " 55  BedroomAbvGr   1460 non-null   int64  \n",
      " 56  KitchenAbvGr   1460 non-null   int64  \n",
      " 57  KitchenQual    1460 non-null   object \n",
      " 58  TotRmsAbvGrd   1460 non-null   int64  \n",
      " 59  Functional     1460 non-null   object \n",
      " 60  Fireplaces     1460 non-null   int64  \n",
      " 61  GarageCars     1460 non-null   int64  \n",
      " 62  GarageArea     1460 non-null   int64  \n",
      " 63  PavedDrive     1460 non-null   object \n",
      " 64  WoodDeckSF     1460 non-null   int64  \n",
      " 65  OpenPorchSF    1460 non-null   int64  \n",
      " 66  EnclosedPorch  1460 non-null   int64  \n",
      " 67  3SsnPorch      1460 non-null   int64  \n",
      " 68  ScreenPorch    1460 non-null   int64  \n",
      " 69  PoolArea       1460 non-null   int64  \n",
      " 70  MiscVal        1460 non-null   int64  \n",
      " 71  MoSold         1460 non-null   int64  \n",
      " 72  YrSold         1460 non-null   int64  \n",
      " 73  SaleType       1460 non-null   object \n",
      " 74  SaleCondition  1460 non-null   object \n",
      " 75  SalePrice      1460 non-null   int64  \n",
      "dtypes: float64(3), int64(35), object(38)\n",
      "memory usage: 867.0+ KB\n"
     ]
    }
   ],
   "source": [
    "train_impute.info()"
   ]
  },
  {
   "cell_type": "markdown",
   "metadata": {},
   "source": [
    "## 特征处理"
   ]
  },
  {
   "cell_type": "markdown",
   "metadata": {},
   "source": [
    "对类别变量进行变换"
   ]
  },
  {
   "cell_type": "code",
   "execution_count": 138,
   "metadata": {},
   "outputs": [
    {
     "data": {
      "text/plain": [
       "(1460, 76)"
      ]
     },
     "execution_count": 138,
     "metadata": {},
     "output_type": "execute_result"
    }
   ],
   "source": [
    "train_impute.shape"
   ]
  },
  {
   "cell_type": "code",
   "execution_count": 139,
   "metadata": {
    "collapsed": true,
    "jupyter": {
     "outputs_hidden": true
    }
   },
   "outputs": [
    {
     "name": "stdout",
     "output_type": "stream",
     "text": [
      "<class 'pandas.core.frame.DataFrame'>\n",
      "RangeIndex: 1460 entries, 0 to 1459\n",
      "Data columns (total 76 columns):\n",
      " #   Column         Non-Null Count  Dtype  \n",
      "---  ------         --------------  -----  \n",
      " 0   MasVnrType     1460 non-null   object \n",
      " 1   BsmtQual       1460 non-null   object \n",
      " 2   BsmtCond       1460 non-null   object \n",
      " 3   BsmtExposure   1460 non-null   object \n",
      " 4   BsmtFinType1   1460 non-null   object \n",
      " 5   BsmtFinType2   1460 non-null   object \n",
      " 6   Electrical     1460 non-null   object \n",
      " 7   GarageType     1460 non-null   object \n",
      " 8   GarageFinish   1460 non-null   object \n",
      " 9   GarageQual     1460 non-null   object \n",
      " 10  GarageCond     1460 non-null   object \n",
      " 11  LotFrontage    1460 non-null   float64\n",
      " 12  MasVnrArea     1460 non-null   float64\n",
      " 13  GarageYrBlt    1460 non-null   float64\n",
      " 14  Id             1460 non-null   int64  \n",
      " 15  MSSubClass     1460 non-null   int64  \n",
      " 16  MSZoning       1460 non-null   object \n",
      " 17  LotArea        1460 non-null   int64  \n",
      " 18  Street         1460 non-null   object \n",
      " 19  LotShape       1460 non-null   object \n",
      " 20  LandContour    1460 non-null   object \n",
      " 21  Utilities      1460 non-null   object \n",
      " 22  LotConfig      1460 non-null   object \n",
      " 23  LandSlope      1460 non-null   object \n",
      " 24  Neighborhood   1460 non-null   object \n",
      " 25  Condition1     1460 non-null   object \n",
      " 26  Condition2     1460 non-null   object \n",
      " 27  BldgType       1460 non-null   object \n",
      " 28  HouseStyle     1460 non-null   object \n",
      " 29  OverallQual    1460 non-null   int64  \n",
      " 30  OverallCond    1460 non-null   int64  \n",
      " 31  YearBuilt      1460 non-null   int64  \n",
      " 32  YearRemodAdd   1460 non-null   int64  \n",
      " 33  RoofStyle      1460 non-null   object \n",
      " 34  RoofMatl       1460 non-null   object \n",
      " 35  Exterior1st    1460 non-null   object \n",
      " 36  Exterior2nd    1460 non-null   object \n",
      " 37  ExterQual      1460 non-null   object \n",
      " 38  ExterCond      1460 non-null   object \n",
      " 39  Foundation     1460 non-null   object \n",
      " 40  BsmtFinSF1     1460 non-null   int64  \n",
      " 41  BsmtFinSF2     1460 non-null   int64  \n",
      " 42  BsmtUnfSF      1460 non-null   int64  \n",
      " 43  TotalBsmtSF    1460 non-null   int64  \n",
      " 44  Heating        1460 non-null   object \n",
      " 45  HeatingQC      1460 non-null   object \n",
      " 46  CentralAir     1460 non-null   object \n",
      " 47  1stFlrSF       1460 non-null   int64  \n",
      " 48  2ndFlrSF       1460 non-null   int64  \n",
      " 49  LowQualFinSF   1460 non-null   int64  \n",
      " 50  GrLivArea      1460 non-null   int64  \n",
      " 51  BsmtFullBath   1460 non-null   int64  \n",
      " 52  BsmtHalfBath   1460 non-null   int64  \n",
      " 53  FullBath       1460 non-null   int64  \n",
      " 54  HalfBath       1460 non-null   int64  \n",
      " 55  BedroomAbvGr   1460 non-null   int64  \n",
      " 56  KitchenAbvGr   1460 non-null   int64  \n",
      " 57  KitchenQual    1460 non-null   object \n",
      " 58  TotRmsAbvGrd   1460 non-null   int64  \n",
      " 59  Functional     1460 non-null   object \n",
      " 60  Fireplaces     1460 non-null   int64  \n",
      " 61  GarageCars     1460 non-null   int64  \n",
      " 62  GarageArea     1460 non-null   int64  \n",
      " 63  PavedDrive     1460 non-null   object \n",
      " 64  WoodDeckSF     1460 non-null   int64  \n",
      " 65  OpenPorchSF    1460 non-null   int64  \n",
      " 66  EnclosedPorch  1460 non-null   int64  \n",
      " 67  3SsnPorch      1460 non-null   int64  \n",
      " 68  ScreenPorch    1460 non-null   int64  \n",
      " 69  PoolArea       1460 non-null   int64  \n",
      " 70  MiscVal        1460 non-null   int64  \n",
      " 71  MoSold         1460 non-null   int64  \n",
      " 72  YrSold         1460 non-null   int64  \n",
      " 73  SaleType       1460 non-null   object \n",
      " 74  SaleCondition  1460 non-null   object \n",
      " 75  SalePrice      1460 non-null   int64  \n",
      "dtypes: float64(3), int64(35), object(38)\n",
      "memory usage: 867.0+ KB\n"
     ]
    }
   ],
   "source": [
    "train_impute.info()"
   ]
  },
  {
   "cell_type": "markdown",
   "metadata": {},
   "source": [
    "这里面的分类特征有的是分类有序变量，有的是分类标称变量，需要区别对待"
   ]
  },
  {
   "cell_type": "code",
   "execution_count": null,
   "metadata": {},
   "outputs": [],
   "source": [
    "cat_ordinal = []\n",
    "cat_nominal = []"
   ]
  }
 ],
 "metadata": {
  "kernelspec": {
   "display_name": "Python 3",
   "language": "python",
   "name": "python3"
  },
  "language_info": {
   "codemirror_mode": {
    "name": "ipython",
    "version": 3
   },
   "file_extension": ".py",
   "mimetype": "text/x-python",
   "name": "python",
   "nbconvert_exporter": "python",
   "pygments_lexer": "ipython3",
   "version": "3.7.7"
  },
  "toc-autonumbering": true,
  "toc-showtags": false
 },
 "nbformat": 4,
 "nbformat_minor": 4
}
