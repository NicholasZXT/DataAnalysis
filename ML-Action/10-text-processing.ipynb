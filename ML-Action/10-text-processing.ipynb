{
 "cells": [
  {
   "cell_type": "code",
   "execution_count": 30,
   "metadata": {},
   "outputs": [
    {
     "name": "stdout",
     "output_type": "stream",
     "text": [
      "package版本信息：\n",
      "numpy:       1.18.1\n",
      "pandas:      1.0.1\n",
      "matplotlib:  3.1.3\n",
      "sklearn:     0.22.1\n",
      "seaborn:     0.10.0\n",
      "plotly:      4.14.1\n"
     ]
    }
   ],
   "source": [
    "import numpy as np\n",
    "import pandas as pd\n",
    "import matplotlib.pyplot as plt\n",
    "import seaborn as sns\n",
    "import plotly.express as px\n",
    "from plotly import graph_objects as go\n",
    "\n",
    "import matplotlib\n",
    "import plotly\n",
    "import sklearn\n",
    "import re\n",
    "\n",
    "from IPython.display import display\n",
    "from time import time\n",
    "\n",
    "print(\"package版本信息：\")\n",
    "print(\"numpy:      \", np.__version__)\n",
    "print(\"pandas:     \", pd.__version__)\n",
    "print(\"matplotlib: \", matplotlib.__version__)\n",
    "print(\"sklearn:    \", sklearn.__version__)\n",
    "print(\"seaborn:    \", sns.__version__)\n",
    "print(\"plotly:     \", plotly.__version__)"
   ]
  },
  {
   "cell_type": "markdown",
   "metadata": {},
   "source": [
    "# 前言\n",
    "\n",
    "文本处理是属于NLP下的一个范畴，涉及面很广，这里只关注其中的两类任务：\n",
    "1. 文本聚类\n",
    "2. 文本分类\n",
    "\n",
    "上述两类任务都需要对文本数据进行处理以提取特征，以下介绍文本处理过程中的一些通用流程和概念。\n",
    "\n",
    "在文本分析的语境中，数据集通常被称为语料库（corpus），每个由单个文本表示的数据点被称为文档（ document）。\n",
    "\n",
    "+ 词袋表示法  \n",
    "舍弃输入文本中的大部分结构，如章节、段落、句子和格式，**只计算语料库中每个单词在每个文本中的出现频次** .  \n",
    "通常计算步骤分为如下 3 个：\n",
    "  1. 分词（tokenization）.将每个文档划分为出现在其中的单词（称为词例token），比如按空格和标点划分.\n",
    "  2. 构建词表（vocabulary building）。收集一个词表，里面包含出现在任意文档中的所有词，并对它们进行编号（比如按字母顺序排序）.\n",
    "  3. 编码（encoding）。对于每个文档，计算词表中每个单词在该文档中的出现频次.\n",
    "  \n",
    "  \n",
    "  \n",
    "+ Tf-idf表示法\n",
    "\n",
    "\n",
    "\n",
    "+ 此外，对于单词处理，特别是分布（Tokenization）这一步，还可以做额外的处理.  \n",
    "词表中通常同时包含某些单词的单数形式和复数形式，这个问题可以通过**用词干（word stem）表示每个单词来解决**，通常有两种方式：\n",
    "  1. 基于规则的启发法，通常将其称为**词干提取（stemming）**\n",
    "  2. 使用由已知单词形式组成的字典（明确的且经过人工验证的系统），通常称为**词形还原（lemmatization）**\n",
    "  \n",
    "  \n",
    "完成上面这些步骤，通常有两个包可以使用：\n",
    "+ NLTK\n",
    "+ Spacy"
   ]
  },
  {
   "cell_type": "markdown",
   "metadata": {},
   "source": [
    "# NLTK使用\n",
    "\n",
    "NLTK的API结构参考这里 [NLTK Python Module Index](https://www.nltk.org/py-modindex.html).\n",
    "\n",
    "\n",
    "1. 分词.  \n",
    "NLTK提供了`nltk.tokenize`这个模块，主要是如下两个分词**函数**（不是类）\n",
    "  + `nltk.tokenize.sent_tokenize(text, language='english')`  \n",
    "用于分割句子\n",
    "  + `nltk.tokenize.word_tokenize(text, language='english', preserve_line=False)`  \n",
    "用于分割单词\n",
    "\n",
    "\n",
    "2. 词干提取.  \n",
    "NLTK提供了`nltk.stem`这个模块.\n",
    "  + `nltk.stem.porter.PorterStemmer()`类，封装了Porter提取算法\n",
    "  + `nltk.stem.snowball`模块里提供了非英语类词干的提取方法\n",
    "  + `nltk.stem.wordnet.WordNetLemmatizer()`类，提供了词形还原的算法"
   ]
  },
  {
   "cell_type": "code",
   "execution_count": 1,
   "metadata": {},
   "outputs": [],
   "source": [
    "from nltk.tokenize import sent_tokenize, word_tokenize"
   ]
  },
  {
   "cell_type": "code",
   "execution_count": 2,
   "metadata": {},
   "outputs": [],
   "source": [
    "mytext = \"Hello Adam, how are you? I hope everything is going well. Today is a good day, see you dude.\""
   ]
  },
  {
   "cell_type": "code",
   "execution_count": 3,
   "metadata": {},
   "outputs": [
    {
     "data": {
      "text/plain": [
       "['Hello Adam, how are you?',\n",
       " 'I hope everything is going well.',\n",
       " 'Today is a good day, see you dude.']"
      ]
     },
     "execution_count": 3,
     "metadata": {},
     "output_type": "execute_result"
    }
   ],
   "source": [
    "sent_tokenize(mytext)"
   ]
  },
  {
   "cell_type": "code",
   "execution_count": 4,
   "metadata": {},
   "outputs": [
    {
     "data": {
      "text/plain": [
       "['Hello',\n",
       " 'Adam',\n",
       " ',',\n",
       " 'how',\n",
       " 'are',\n",
       " 'you',\n",
       " '?',\n",
       " 'I',\n",
       " 'hope',\n",
       " 'everything',\n",
       " 'is',\n",
       " 'going',\n",
       " 'well',\n",
       " '.',\n",
       " 'Today',\n",
       " 'is',\n",
       " 'a',\n",
       " 'good',\n",
       " 'day',\n",
       " ',',\n",
       " 'see',\n",
       " 'you',\n",
       " 'dude',\n",
       " '.']"
      ]
     },
     "execution_count": 4,
     "metadata": {},
     "output_type": "execute_result"
    }
   ],
   "source": [
    "word_tokenize(mytext)"
   ]
  },
  {
   "cell_type": "code",
   "execution_count": 7,
   "metadata": {},
   "outputs": [
    {
     "name": "stdout",
     "output_type": "stream",
     "text": [
      "work\n",
      "work\n",
      "work\n"
     ]
    }
   ],
   "source": [
    "from nltk.stem import PorterStemmer\n",
    "\n",
    "porter_stemmer = PorterStemmer()\n",
    "\n",
    "print(porter_stemmer.stem('working'))\n",
    "print(porter_stemmer.stem('works'))\n",
    "print(porter_stemmer.stem('worked'))"
   ]
  },
  {
   "cell_type": "code",
   "execution_count": 10,
   "metadata": {},
   "outputs": [
    {
     "name": "stdout",
     "output_type": "stream",
     "text": [
      "increase\n",
      "increased\n",
      "wa\n"
     ]
    }
   ],
   "source": [
    "from nltk.stem import WordNetLemmatizer\n",
    "\n",
    "lemmatizer = WordNetLemmatizer()\n",
    "\n",
    "print(lemmatizer.lemmatize('increases'))\n",
    "print(lemmatizer.lemmatize('increased'))\n",
    "print(lemmatizer.lemmatize('was'))"
   ]
  },
  {
   "cell_type": "markdown",
   "metadata": {},
   "source": [
    "# spaCy使用\n",
    "\n",
    "spaCy的使用和NLTK完全不同，NLTK大体上还是面向过程的调用函数方式来完成任务，而spaCy是采用的pipeline方式完成.  \n",
    "\n",
    "spaCy的使用步骤如下：\n",
    "1. 载入语言模型.  \n",
    "每个语言模型里，基于所选的语言，封装了一系列对文件进行处理的Pipeline.\n",
    "```python\n",
    "nlp = spacy.load('en_core_web_sm')\n",
    "```\n",
    "2. 将需要处理的文本传递给语言模型，生成一个`Doc`对象——它包含了一系列对文本进行处理的步骤，封装成一个Pipeline，其中第一步就是分词\n",
    "```python\n",
    "doc = nlp(\"Text to be process\")\n",
    "```\n",
    "3. 调用`Doc`对象的各种方法，获取不同的内容."
   ]
  },
  {
   "cell_type": "code",
   "execution_count": 71,
   "metadata": {},
   "outputs": [
    {
     "data": {
      "text/plain": [
       "spacy.lang.en.English"
      ]
     },
     "execution_count": 71,
     "metadata": {},
     "output_type": "execute_result"
    }
   ],
   "source": [
    "import spacy\n",
    "# 首先必须载入一个语言模型\n",
    "nlp = spacy.load('en_core_web_sm')\n",
    "nlp.__class__"
   ]
  },
  {
   "cell_type": "code",
   "execution_count": 72,
   "metadata": {},
   "outputs": [
    {
     "data": {
      "text/plain": [
       "['tagger', 'parser', 'ner']"
      ]
     },
     "execution_count": 72,
     "metadata": {},
     "output_type": "execute_result"
    }
   ],
   "source": [
    "# 检查当前pipeline里的步骤名称\n",
    "nlp.pipe_names"
   ]
  },
  {
   "cell_type": "code",
   "execution_count": 14,
   "metadata": {},
   "outputs": [
    {
     "data": {
      "text/plain": [
       "spacy.tokens.doc.Doc"
      ]
     },
     "execution_count": 14,
     "metadata": {},
     "output_type": "execute_result"
    }
   ],
   "source": [
    "# 获取Doc对象\n",
    "text = \"Apple is looking at buying U.K. startup for $1 billion\"\n",
    "doc = nlp(text)\n",
    "doc.__class__"
   ]
  },
  {
   "cell_type": "code",
   "execution_count": 18,
   "metadata": {},
   "outputs": [
    {
     "name": "stdout",
     "output_type": "stream",
     "text": [
      "token.text token.lemma_\n",
      "Apple Apple\n",
      "is be\n",
      "looking look\n",
      "at at\n",
      "buying buy\n",
      "U.K. U.K.\n",
      "startup startup\n",
      "for for\n",
      "$ $\n",
      "1 1\n",
      "billion billion\n"
     ]
    }
   ],
   "source": [
    "print(\"token.text\", \"token.lemma_\")\n",
    "for token in doc:\n",
    "    print(token.text,  token.lemma_)"
   ]
  },
  {
   "cell_type": "markdown",
   "metadata": {},
   "source": [
    "---\n",
    "\n",
    "# Gensim使用\n",
    "\n",
    "这里使用gensim生成一份词向量。"
   ]
  },
  {
   "cell_type": "code",
   "execution_count": null,
   "metadata": {},
   "outputs": [],
   "source": []
  },
  {
   "cell_type": "markdown",
   "metadata": {},
   "source": [
    "----"
   ]
  },
  {
   "cell_type": "markdown",
   "metadata": {},
   "source": [
    "# 文本数据集\n",
    "\n",
    "这里有 3 份数据集，分别是\n",
    "1. IMDB电影评分数据集\n",
    "2. sklearn自带的新闻数据集\n",
    "3. 《python数据挖掘入门》里文本处理使用的tweet数据集"
   ]
  },
  {
   "cell_type": "markdown",
   "metadata": {},
   "source": [
    "## IMDB电影评分数据集"
   ]
  },
  {
   "cell_type": "code",
   "execution_count": null,
   "metadata": {},
   "outputs": [],
   "source": []
  },
  {
   "cell_type": "markdown",
   "metadata": {},
   "source": [
    "## Sklearn自带的数据集"
   ]
  },
  {
   "cell_type": "code",
   "execution_count": 2,
   "metadata": {},
   "outputs": [],
   "source": [
    "from sklearn.datasets import fetch_20newsgroups"
   ]
  },
  {
   "cell_type": "code",
   "execution_count": 7,
   "metadata": {},
   "outputs": [
    {
     "name": "stdout",
     "output_type": "stream",
     "text": [
      "D:\\Project-Workspace\\Python-Projects\\DataAnalysis\n"
     ]
    }
   ],
   "source": [
    "cd .."
   ]
  },
  {
   "cell_type": "code",
   "execution_count": 8,
   "metadata": {},
   "outputs": [],
   "source": [
    "# 这里指定了数据集下载的文件夹，第一次使用时，会下载相关的数据集到这个文件夹里\n",
    "data = fetch_20newsgroups(data_home='datasets/sklearn-news-data/', subset='all')\n",
    "# print(data.__class__)\n",
    "\n",
    "# 显示新闻数据集里文章有哪些分类\n",
    "# display(data.target_names)"
   ]
  },
  {
   "cell_type": "code",
   "execution_count": 9,
   "metadata": {},
   "outputs": [
    {
     "name": "stdout",
     "output_type": "stream",
     "text": [
      "2300 (2300,)\n",
      "1531 (1531,)\n"
     ]
    }
   ],
   "source": [
    "# 这里只需要部分分类的数据集\n",
    "categories = [\n",
    "    'sci.space',\n",
    "    'rec.sport.baseball',\n",
    "    'talk.politics.mideast',\n",
    "    'talk.politics.guns'\n",
    "]\n",
    "\n",
    "# 训练集\n",
    "train = fetch_20newsgroups(data_home='datasets/sklearn-news-data/', subset='train', categories=categories)\n",
    "# 测试集\n",
    "test = fetch_20newsgroups(data_home='datasets/sklearn-news-data/', subset='test', categories=categories)\n",
    "\n",
    "# 查看数据集大小\n",
    "print(len(train.data), train.target.shape)\n",
    "print(len(test.data), test.target.shape)"
   ]
  },
  {
   "cell_type": "code",
   "execution_count": 10,
   "metadata": {},
   "outputs": [
    {
     "data": {
      "text/plain": [
       "list"
      ]
     },
     "execution_count": 10,
     "metadata": {},
     "output_type": "execute_result"
    }
   ],
   "source": [
    "train.data.__class__"
   ]
  },
  {
   "cell_type": "code",
   "execution_count": 11,
   "metadata": {},
   "outputs": [
    {
     "data": {
      "text/plain": [
       "str"
      ]
     },
     "execution_count": 11,
     "metadata": {},
     "output_type": "execute_result"
    }
   ],
   "source": [
    "train.data[0].__class__"
   ]
  },
  {
   "cell_type": "code",
   "execution_count": 12,
   "metadata": {},
   "outputs": [
    {
     "data": {
      "text/plain": [
       "'From: tclock@orion.oac.uci.edu (Tim Clock)\\nSubject: Re: Final Solution for Gaza ?\\nNntp-Posting-Host: orion.oac.uci.edu\\nOrganization: University of California, Irvine\\nLines: 66\\n\\nIn article <1483500354@igc.apc.org> Center for Policy Research <cpr@igc.apc.org> writes:\\n>\\n>From: Center for Policy Research <cpr>\\n>Subject: Final Solution for Gaza ?\\n>\\n>While Israeli Jews fete the uprising of the Warsaw ghetto,\\n\\n\"fete\"??? Since this word both formally and commonly refers to\\npositive/joyous events, your misuse of it here is rather unsettling.\\n \\n>they repress by violent means the uprising of the Gaza ghetto \\n>and attempt to starve the Gazans.\\n\\nI certainly abhor those Israeli policies and attitudes that are\\nabusive towards the Palestinians/Gazans. Given that, however, there \\n*is no comparison* between the reality of the Warsaw Ghetto and in \\nGaza.  \\n>\\n>The right of the Gazan population to resist occupation is\\n>recognized in international law and by any person with a sense of\\n>justice. \\n\\nJust as international law recognizes the right of the occupying \\nentity to maintain order, especially in the face of elements\\nthat are consciously attempting to disrupt the civil structure. \\nIronically, international law recognizes each of these focusses\\n(that of the occupied and the occupier) even though they are \\ninherently in conflict.\\n>\\n>As Israel denies Gazans the only two options which are compatible\\n>with basic human rights and international law, that of becoming\\n>Israeli citizens with full rights or respecting their right for\\n>self-determination, it must be concluded that the Israeli Jewish\\n>society does not consider Gazans full human beings.\\n\\nIsrael certainly cannot, and should not, continue its present\\npolicies towards Gazan residents. There is, however, a third \\nalternative- the creation and implementation of a jewish \"dhimmi\"\\nsystem with Gazans/Palestinians as benignly \"protected\" citizens.\\nWould you find THAT as acceptable in that form as you do with\\nregard to Islam\\'s policies towards its minorities?\\n \\n>Whether they have some Final Solution up their sleeve ?\\n\\nIt is a race, then? Between Israel\\'s anti-Palestinian/Gazan\\n\"Final Solution\" and the Arab World\\'s anti-Israel/jewish\\n\"Final Solution\". Do you favor one? neither? \\n>\\n>I urge all those who have slight human compassion to do whatever\\n>they can to help the Gazans regain their full human, civil and\\n>political rights, to which they are entitled as human beings.\\n\\nSince there is justifiable worry by various parties that Israel\\nand Arab/Palestinian \"final solution\" intentions exist, isn\\'t it\\nimportant that BOTH Israeli *and* Palestinian/Gazan \"rights\"\\nbe secured?\\n>\\n>Elias Davidsson Iceland\\n>\\n\\n\\n--\\nTim Clock                                   Ph.D./Graduate student\\nUCI  tel#: 714,8565361                      Department of Politics and Society\\n     fax#: 714,8568441                      University of California - Irvine\\nHome tel#: 714,8563446                      Irvine, CA 92717\\n'"
      ]
     },
     "execution_count": 12,
     "metadata": {},
     "output_type": "execute_result"
    }
   ],
   "source": [
    "# 随便看一下里面的一篇文章\n",
    "train.data[1]"
   ]
  },
  {
   "cell_type": "code",
   "execution_count": 15,
   "metadata": {},
   "outputs": [
    {
     "data": {
      "text/plain": [
       "0    597\n",
       "1    593\n",
       "3    564\n",
       "2    546\n",
       "dtype: int64"
      ]
     },
     "execution_count": 15,
     "metadata": {},
     "output_type": "execute_result"
    }
   ],
   "source": [
    "# 看看类别是否均衡\n",
    "pd.Series(train.target).value_counts()"
   ]
  },
  {
   "cell_type": "markdown",
   "metadata": {},
   "source": [
    "# 朴素贝叶斯文本分类示例"
   ]
  },
  {
   "cell_type": "code",
   "execution_count": 19,
   "metadata": {},
   "outputs": [],
   "source": [
    "from sklearn.feature_extraction.text import CountVectorizer, TfidfVectorizer, TfidfTransformer\n",
    "\n",
    "import spacy\n",
    "# 首先必须载入一个语言模型\n",
    "nlp = spacy.load('en_core_web_sm')"
   ]
  },
  {
   "cell_type": "code",
   "execution_count": 20,
   "metadata": {},
   "outputs": [
    {
     "data": {
      "text/plain": [
       "'!\"#$%&\\'()*+,-./:;<=>?@[\\\\]^_`{|}~'"
      ]
     },
     "execution_count": 20,
     "metadata": {},
     "output_type": "execute_result"
    }
   ],
   "source": [
    "import string\n",
    "string.punctuation"
   ]
  },
  {
   "cell_type": "code",
   "execution_count": 90,
   "metadata": {},
   "outputs": [],
   "source": [
    "# 先取一部分子集看下效果\n",
    "part = train.data[:10]\n",
    "\n",
    "cnt_vec = CountVectorizer()\n",
    "cnt_vec.fit(part)\n",
    "\n",
    "part_ = pd.DataFrame(cnt_vec.transform(part).toarray(), columns=cnt_vec.get_feature_names())"
   ]
  },
  {
   "cell_type": "code",
   "execution_count": 21,
   "metadata": {},
   "outputs": [],
   "source": [
    "# 使用spaCy对文件进行处理\n",
    "# 这里使用spaCy的词形还原，但是分词器使用的是scikit-learn里提供的正则表达式\n",
    "regexp = re.compile('(?u)\\\\b\\\\w\\\\w+\\\\b')\n",
    "en_nlp = spacy.load('en_core_web_sm')\n",
    "old_tokenizer = en_nlp.tokenizer\n",
    "en_nlp.tokenizer = lambda string: old_tokenizer.tokens_from_list(regexp.findall(string))\n",
    "\n",
    "# 自定义的分词函数\n",
    "def custom_tokenizer(document):\n",
    "    doc_spacy = en_nlp(document)\n",
    "    return [token.lemma_ for token in doc_spacy]"
   ]
  },
  {
   "cell_type": "code",
   "execution_count": 99,
   "metadata": {},
   "outputs": [
    {
     "name": "stderr",
     "output_type": "stream",
     "text": [
      "C:\\MyProgramFiles\\Anaconda\\lib\\site-packages\\sklearn\\feature_extraction\\text.py:507: UserWarning: The parameter 'token_pattern' will not be used since 'tokenizer' is not None'\n",
      "  warnings.warn(\"The parameter 'token_pattern' will not be used\"\n",
      "C:\\MyProgramFiles\\Anaconda\\lib\\site-packages\\ipykernel_launcher.py:6: DeprecationWarning: [W002] Tokenizer.from_list is now deprecated. Create a new Doc object instead and pass in the strings as the `words` keyword argument, for example:\n",
      "from spacy.tokens import Doc\n",
      "doc = Doc(nlp.vocab, words=[...])\n",
      "  \n"
     ]
    },
    {
     "data": {
      "text/plain": [
       "CountVectorizer(analyzer='word', binary=False, decode_error='strict',\n",
       "                dtype=<class 'numpy.int64'>, encoding='utf-8', input='content',\n",
       "                lowercase=True, max_df=0.95, max_features=None, min_df=5,\n",
       "                ngram_range=(1, 1), preprocessor=None, stop_words=None,\n",
       "                strip_accents=None, token_pattern='(?u)\\\\b\\\\w\\\\w+\\\\b',\n",
       "                tokenizer=<function custom_tokenizer at 0x000001F16CC768B8>,\n",
       "                vocabulary=None)"
      ]
     },
     "execution_count": 99,
     "metadata": {},
     "output_type": "execute_result"
    }
   ],
   "source": [
    "lemma_vect = CountVectorizer(tokenizer=custom_tokenizer, min_df=5, max_df=0.95)\n",
    "# lemma_vect.fit(part)\n",
    "# part_ = pd.DataFrame(cnt_vec.transform(part).toarray(), columns=cnt_vec.get_feature_names())\n",
    "lemma_vect.fit(train.data)"
   ]
  },
  {
   "cell_type": "code",
   "execution_count": 100,
   "metadata": {},
   "outputs": [
    {
     "name": "stderr",
     "output_type": "stream",
     "text": [
      "C:\\MyProgramFiles\\Anaconda\\lib\\site-packages\\ipykernel_launcher.py:6: DeprecationWarning: [W002] Tokenizer.from_list is now deprecated. Create a new Doc object instead and pass in the strings as the `words` keyword argument, for example:\n",
      "from spacy.tokens import Doc\n",
      "doc = Doc(nlp.vocab, words=[...])\n",
      "  \n"
     ]
    }
   ],
   "source": [
    "train_token = lemma_vect.transform(train.data)\n",
    "test_token = lemma_vect.transform(test.data)\n",
    "train_y = train.target\n",
    "test_y = test.target"
   ]
  },
  {
   "cell_type": "code",
   "execution_count": 102,
   "metadata": {},
   "outputs": [
    {
     "data": {
      "text/plain": [
       "(2300, 8448)"
      ]
     },
     "execution_count": 102,
     "metadata": {},
     "output_type": "execute_result"
    }
   ],
   "source": [
    "train_token.shape"
   ]
  },
  {
   "cell_type": "code",
   "execution_count": 104,
   "metadata": {},
   "outputs": [
    {
     "data": {
      "text/plain": [
       "(1531, 8448)"
      ]
     },
     "execution_count": 104,
     "metadata": {},
     "output_type": "execute_result"
    }
   ],
   "source": [
    "test_token.shape"
   ]
  },
  {
   "cell_type": "code",
   "execution_count": 101,
   "metadata": {},
   "outputs": [],
   "source": [
    "from sklearn.naive_bayes import BernoulliNB, MultinomialNB"
   ]
  },
  {
   "cell_type": "code",
   "execution_count": 113,
   "metadata": {},
   "outputs": [
    {
     "data": {
      "text/plain": [
       "MultinomialNB(alpha=1.0, class_prior=None, fit_prior=True)"
      ]
     },
     "execution_count": 113,
     "metadata": {},
     "output_type": "execute_result"
    }
   ],
   "source": [
    "berNB = BernoulliNB()\n",
    "multiNB = MultinomialNB()\n",
    "\n",
    "berNB.fit(train_token, train_y)\n",
    "multiNB.fit(train_token, train_y)"
   ]
  },
  {
   "cell_type": "code",
   "execution_count": 114,
   "metadata": {},
   "outputs": [],
   "source": [
    "berNB_score = berNB.score(test_token, test_y)\n",
    "multiNB_score = multiNB.score(test_token, test_y)"
   ]
  },
  {
   "cell_type": "code",
   "execution_count": 115,
   "metadata": {},
   "outputs": [
    {
     "data": {
      "text/plain": [
       "0.8883082952318746"
      ]
     },
     "execution_count": 115,
     "metadata": {},
     "output_type": "execute_result"
    }
   ],
   "source": [
    "berNB_score"
   ]
  },
  {
   "cell_type": "code",
   "execution_count": 117,
   "metadata": {},
   "outputs": [
    {
     "data": {
      "text/plain": [
       "0.9738732854343566"
      ]
     },
     "execution_count": 117,
     "metadata": {},
     "output_type": "execute_result"
    }
   ],
   "source": [
    "multiNB_score"
   ]
  },
  {
   "cell_type": "code",
   "execution_count": 118,
   "metadata": {},
   "outputs": [],
   "source": [
    "berNB_y_pred = berNB.predict(test_token)\n",
    "multiNB_y_pred = multiNB.predict(test_token)"
   ]
  },
  {
   "cell_type": "code",
   "execution_count": 119,
   "metadata": {},
   "outputs": [],
   "source": [
    "from sklearn.metrics import accuracy_score"
   ]
  },
  {
   "cell_type": "code",
   "execution_count": 120,
   "metadata": {},
   "outputs": [],
   "source": [
    "berNB_pred_score = accuracy_score(y_true=test_y, y_pred=berNB_y_pred)\n",
    "multiNB_pred_score = accuracy_score(y_true=test_y, y_pred=multiNB_y_pred)"
   ]
  },
  {
   "cell_type": "code",
   "execution_count": 121,
   "metadata": {},
   "outputs": [
    {
     "data": {
      "text/plain": [
       "0.8883082952318746"
      ]
     },
     "execution_count": 121,
     "metadata": {},
     "output_type": "execute_result"
    }
   ],
   "source": [
    "berNB_pred_score"
   ]
  },
  {
   "cell_type": "code",
   "execution_count": 122,
   "metadata": {},
   "outputs": [
    {
     "data": {
      "text/plain": [
       "0.9738732854343566"
      ]
     },
     "execution_count": 122,
     "metadata": {},
     "output_type": "execute_result"
    }
   ],
   "source": [
    "multiNB_pred_score"
   ]
  },
  {
   "cell_type": "markdown",
   "metadata": {},
   "source": [
    "----\n",
    "\n",
    "# Word2Vec"
   ]
  },
  {
   "cell_type": "code",
   "execution_count": 1,
   "metadata": {
    "collapsed": false,
    "jupyter": {
     "outputs_hidden": false
    }
   },
   "outputs": [],
   "source": [
    "import jieba\n",
    "import re\n",
    "from gensim.models import word2vec"
   ]
  },
  {
   "cell_type": "code",
   "execution_count": 22,
   "metadata": {},
   "outputs": [],
   "source": [
    "# 使用spaCy对文件进行处理\n",
    "import spacy\n",
    "# 首先必须载入一个语言模型\n",
    "nlp = spacy.load('en_core_web_sm')\n",
    "# 这里使用spaCy的词形还原，但是分词器使用的是scikit-learn里提供的正则表达式\n",
    "regexp = re.compile('(?u)\\\\b\\\\w\\\\w+\\\\b')\n",
    "en_nlp = spacy.load('en_core_web_sm')\n",
    "old_tokenizer = en_nlp.tokenizer\n",
    "en_nlp.tokenizer = lambda string: old_tokenizer.tokens_from_list(regexp.findall(string))\n",
    "\n",
    "# 自定义的分词函数\n",
    "def custom_tokenizer(document):\n",
    "    doc_spacy = en_nlp(document)\n",
    "    return [token.lemma_ for token in doc_spacy]"
   ]
  },
  {
   "cell_type": "code",
   "execution_count": 26,
   "metadata": {},
   "outputs": [
    {
     "name": "stderr",
     "output_type": "stream",
     "text": [
      "C:\\MyProgramFiles\\Anaconda\\lib\\site-packages\\ipykernel_launcher.py:9: DeprecationWarning: [W002] Tokenizer.from_list is now deprecated. Create a new Doc object instead and pass in the strings as the `words` keyword argument, for example:\n",
      "from spacy.tokens import Doc\n",
      "doc = Doc(nlp.vocab, words=[...])\n",
      "  if __name__ == '__main__':\n"
     ]
    }
   ],
   "source": [
    "# t = train.data[1]\n",
    "# t_res = custom_tokenizer(t)\n",
    "\n",
    "train_proc = [custom_tokenizer(doc) for doc in train.data]"
   ]
  },
  {
   "cell_type": "code",
   "execution_count": 33,
   "metadata": {},
   "outputs": [
    {
     "name": "stdout",
     "output_type": "stream",
     "text": [
      "runing time is :11.42\n"
     ]
    }
   ],
   "source": [
    "# %time\n",
    "# 使用gensim训练模型\n",
    "t1 = time()\n",
    "model = word2vec.Word2Vec(train_proc,iter=50, size=100, window=3, sg=0, workers=4)\n",
    "t2 = time()\n",
    "\n",
    "print(\"runing time is :{:.2f}\".format(t2-t1))"
   ]
  },
  {
   "cell_type": "code",
   "execution_count": 37,
   "metadata": {},
   "outputs": [
    {
     "name": "stdout",
     "output_type": "stream",
     "text": [
      "runing time is :10.94\n"
     ]
    }
   ],
   "source": [
    "# %time\n",
    "# 使用gensim训练模型\n",
    "t1 = time()\n",
    "model = word2vec.Word2Vec(train_proc,iter=50, size=100, window=3, sg=0, workers=8)\n",
    "t2 = time()\n",
    "\n",
    "print(\"runing time is :{:.2f}\".format(t2-t1))"
   ]
  },
  {
   "cell_type": "code",
   "execution_count": 38,
   "metadata": {},
   "outputs": [
    {
     "data": {
      "text/plain": [
       "<gensim.models.word2vec.Word2Vec at 0x1e6237ec688>"
      ]
     },
     "execution_count": 38,
     "metadata": {},
     "output_type": "execute_result"
    }
   ],
   "source": [
    "model"
   ]
  },
  {
   "cell_type": "code",
   "execution_count": 42,
   "metadata": {},
   "outputs": [
    {
     "data": {
      "text/plain": [
       "<gensim.models.keyedvectors.Word2VecKeyedVectors at 0x1e628df6d08>"
      ]
     },
     "execution_count": 42,
     "metadata": {},
     "output_type": "execute_result"
    }
   ],
   "source": [
    "model.wv"
   ]
  },
  {
   "cell_type": "code",
   "execution_count": 41,
   "metadata": {},
   "outputs": [
    {
     "data": {
      "text/plain": [
       "True"
      ]
     },
     "execution_count": 41,
     "metadata": {},
     "output_type": "execute_result"
    }
   ],
   "source": [
    "'policy' in model.wv"
   ]
  },
  {
   "cell_type": "code",
   "execution_count": 47,
   "metadata": {},
   "outputs": [
    {
     "data": {
      "text/plain": [
       "array([ 1.46654677e+00, -1.99778438e+00,  1.26974404e+00,  5.50841391e-01,\n",
       "       -6.28954530e-01,  1.28450203e+00, -7.91259587e-01, -4.42545146e-01,\n",
       "       -2.63815850e-01,  2.10831928e+00, -1.98553884e+00, -1.15344435e-01,\n",
       "       -1.62778163e+00,  1.45624906e-01, -3.31313372e-01,  2.18228966e-01,\n",
       "        1.20822871e+00, -1.04821241e+00, -2.85565615e+00, -2.82280177e-01,\n",
       "       -1.79006910e+00, -2.54633689e+00,  1.30262002e-01,  1.86022115e+00,\n",
       "        3.36442888e-01, -6.46334291e-01,  2.42829466e+00, -2.52690744e+00,\n",
       "        2.36002254e+00,  6.97122872e-01, -4.39212620e-01,  9.54245448e-01,\n",
       "        2.59631556e-02, -1.55718148e+00, -1.44868529e+00, -1.58921421e+00,\n",
       "        1.29590106e+00, -4.33103770e-01,  1.45411468e+00,  2.47827798e-01,\n",
       "       -1.26484489e+00,  1.31447625e+00,  1.01077892e-01, -4.03619200e-01,\n",
       "        1.58041000e+00,  1.13859832e+00,  9.37864125e-01,  4.93863732e-01,\n",
       "       -8.31795692e-01,  8.17711473e-01, -9.16759610e-01,  5.99537566e-02,\n",
       "       -3.73655498e-01, -4.98788387e-01, -7.69510686e-01,  2.97787488e-01,\n",
       "       -1.48637354e+00,  6.26486242e-01, -2.47621059e+00,  1.02689469e+00,\n",
       "       -4.75363344e-01, -1.83365297e+00, -1.79995263e+00,  4.07261044e-01,\n",
       "       -6.61909059e-02,  8.08036923e-02, -1.06671107e+00,  1.69375286e-01,\n",
       "       -4.73596096e-01, -8.46775949e-01, -8.46597599e-04,  6.89261675e-01,\n",
       "       -8.77974212e-01,  4.54288065e-01, -4.03399646e-01, -3.95492166e-01,\n",
       "       -1.45100272e+00,  6.51426613e-01,  5.41570365e-01,  5.38356304e-01,\n",
       "       -1.30447578e+00, -5.38048036e-02, -5.21744132e-01,  5.18297791e-01,\n",
       "       -1.21181823e-01,  9.50638771e-01, -4.40441191e-01,  5.76104164e-01,\n",
       "       -7.66472995e-01, -1.91807103e+00,  1.96406150e+00,  1.12731969e+00,\n",
       "        1.57234281e-01,  1.90286183e+00,  1.32262766e-01, -1.37146723e+00,\n",
       "       -2.17445865e-01,  2.16577077e+00,  1.17955470e+00, -5.81313074e-01],\n",
       "      dtype=float32)"
      ]
     },
     "execution_count": 47,
     "metadata": {},
     "output_type": "execute_result"
    }
   ],
   "source": [
    "model.wv['policy']"
   ]
  },
  {
   "cell_type": "code",
   "execution_count": 48,
   "metadata": {},
   "outputs": [
    {
     "data": {
      "text/plain": [
       "[('entity', 0.505190372467041),\n",
       " ('terrorism', 0.48177653551101685),\n",
       " ('regime', 0.45322495698928833),\n",
       " ('action', 0.4518165588378906),\n",
       " ('goverment', 0.4459748864173889),\n",
       " ('gazan', 0.4422627091407776),\n",
       " ('government', 0.4344480633735657),\n",
       " ('existance', 0.429462730884552),\n",
       " ('philosophy', 0.42827075719833374),\n",
       " ('Nazis', 0.4210732877254486)]"
      ]
     },
     "execution_count": 48,
     "metadata": {},
     "output_type": "execute_result"
    }
   ],
   "source": [
    "model.wv.most_similar(positive='policy')"
   ]
  },
  {
   "cell_type": "markdown",
   "metadata": {},
   "source": [
    "------\n",
    "\n",
    "以下是别人的代码"
   ]
  },
  {
   "cell_type": "code",
   "execution_count": 2,
   "metadata": {
    "collapsed": false,
    "jupyter": {
     "outputs_hidden": false
    }
   },
   "outputs": [
    {
     "name": "stdout",
     "output_type": "stream",
     "text": [
      "1893\n",
      "1892\n"
     ]
    }
   ],
   "source": [
    "#读取停用词\n",
    "stop_words = []\n",
    "with open(\"data\\stop_words.txt\", \"r\", encoding=\"utf-8\") as f_reader:\n",
    "    for line in f_reader:\n",
    "        line = line.replace(\"\\r\",\"\").replace(\"\\n\",\"\").strip()\n",
    "        stop_words.append(line)\n",
    "print(len(stop_words))\n",
    "stop_words = set(stop_words)\n",
    "print(len(stop_words))"
   ]
  },
  {
   "cell_type": "code",
   "execution_count": 3,
   "metadata": {
    "collapsed": false,
    "jupyter": {
     "outputs_hidden": false
    }
   },
   "outputs": [
    {
     "name": "stderr",
     "output_type": "stream",
     "text": [
      "Building prefix dict from the default dictionary ...\n",
      "Loading model from cache C:\\Users\\bruce\\AppData\\Local\\Temp\\jieba.cache\n",
      "Loading model cost 0.707 seconds.\n",
      "Prefix dict has been built succesfully.\n"
     ]
    }
   ],
   "source": [
    "#文本预处理\n",
    "sentecnces = []\n",
    "rules = u\"[\\u4e00-\\u9fa5]+\"\n",
    "pattern = re.compile(rules)\n",
    "f_writer = open(\"data\\分词后的天龙八部.txt\", \"w\", encoding=\"utf-8\")\n",
    "\n",
    "with open(\"data\\天龙八部.txt\", \"r\" , encoding=\"utf-8\") as f_reader:\n",
    "    for line in f_reader:\n",
    "        line = line.replace(\"\\r\",\"\").replace(\"\\n\",\"\").strip()\n",
    "        if line == \"\" or line is None:\n",
    "            continue\n",
    "        line = \" \".join(jieba.cut(line))\n",
    "        seg_list = pattern.findall(line)\n",
    "        word_list = []\n",
    "        for word in seg_list:\n",
    "            if word not in stop_words:\n",
    "                word_list.append(word)\n",
    "        if len(word_list) > 0:\n",
    "            sentecnces.append(word_list)\n",
    "            line = \" \".join(word_list)\n",
    "            f_writer.write(line + \"\\n\")\n",
    "            f_writer.flush()\n",
    "f_writer.close()"
   ]
  },
  {
   "cell_type": "code",
   "execution_count": 4,
   "metadata": {
    "collapsed": false,
    "jupyter": {
     "outputs_hidden": false
    }
   },
   "outputs": [
    {
     "name": "stdout",
     "output_type": "stream",
     "text": [
      "[['书名', '天龙八部'], ['作者', '金庸'], ['本文', '早安', '电子书', '网友', '分享', '版权', '原作者'], ['用于', '商业行为', '后果自负'], ['早安', '电子书'], ['金庸', '作品集', '三联', '版', '序'], ['小学', '时', '爱读', '课外书', '低年级', '时看', '儿童', '画报', '小朋友', '小学生', '内容', '小朋友', '文库', '似懂非懂', '阅读', '各种各样', '章回小说', '五六年', '级', '时', '看新', '文艺作品', '喜爱', '古典文学', '作品', '多于', '近代', '当代', '新文学', '个性', '使然', '朋友', '喜欢', '新文学', '不爱', '古典文学'], ['知识', '当代', '书报', '中', '寻求', '小学', '时代', '得益', '记忆', '最深', '爸爸', '哥哥', '购置', '邹韬奋', '所撰', '萍踪', '寄语', '萍踪', '忆语', '世界各地', '旅行', '记', '主编', '生活', '周报', '新', '旧', '童年时代', '深受', '邹先生', '生活', '书店', '之惠', '生活', '书店', '三联书店', '组成部分', '十多年', '前', '香港三联书店', '签', '合同', '中国', '大陆', '地区', '出版', '小说', '因事', '未果', '重', '行', '筹划', '三联书店', '独家', '出版', '中国', '大陆', '地区', '简体字', '感到', '欣慰', '回忆', '昔日', '心中', '充满', '温馨', '之意'], ['撰写', '这套', '总数', '三十六', '册', '作品集', '是从', '一九五五年', '七二年', '约', '十三', '四年', '包括', '十二部', '长篇小说', '两篇', '中篇小说', '一篇', '短篇小说', '一篇', '历史', '人物', '评传', '若干篇', '历史', '考据', '文字', '出版', '过程', '奇怪', '香港', '台湾', '海外', '地区', '中国', '大陆', '先出', '各种各样', '翻版', '盗印', '出版', '校订', '授权', '正', '版本', '中国', '大陆', '三联', '版', '出版', '天津', '百花文艺出版社', '一家', '授权', '出版', '书剑', '恩仇录', '校印', '依足', '合同', '支付', '版税', '依足', '法例', '缴付', '所得税', '余数', '捐给', '几家', '文化', '机构', '支助', '围棋', '活动', '这是', '愉快', '经验', '未经', '授权'], ['不付', '版税', '版本', '粗制滥造', '错讹', '百出', '借用', '金庸', '之名', '撰写', '出版', '武侠小说', '写', '不敢掠美', '充满', '无聊', '打斗', '色情', '描写', '之作', '令人', '不快', '出版社', '翻印', '香港', '台湾', '作家', '作品', '而用', '笔名', '出版发行', '收到', '无数', '读者', '来信', '揭露', '大表', '愤慨', '三联', '版', '发行', '制止', '种种', '讲', '道义', '侠义', '小说', '主旨', '讲', '是非', '讲', '道义', '太', '过份']]\n"
     ]
    }
   ],
   "source": [
    "print(sentecnces[:10])"
   ]
  },
  {
   "cell_type": "code",
   "execution_count": 25,
   "metadata": {
    "collapsed": true,
    "jupyter": {
     "outputs_hidden": true
    }
   },
   "outputs": [],
   "source": [
    "#模型训练\n",
    "model = word2vec.Word2Vec(sentecnces,iter=50, size=100, window=3, sg=0)"
   ]
  },
  {
   "cell_type": "code",
   "execution_count": 26,
   "metadata": {
    "collapsed": false,
    "jupyter": {
     "outputs_hidden": false
    }
   },
   "outputs": [
    {
     "name": "stdout",
     "output_type": "stream",
     "text": [
      "白世镜 0.46209681034088135\n",
      "宋长老 0.4431273341178894\n",
      "徐长老 0.40213707089424133\n",
      "玄慈 0.3699125647544861\n",
      "乔大爷 0.3584541380405426\n",
      "鲍千灵 0.3493095338344574\n",
      "谭公 0.3465454578399658\n",
      "努儿海 0.3400297462940216\n",
      "马夫人 0.33992263674736023\n",
      "陈长老 0.3371778130531311\n"
     ]
    }
   ],
   "source": [
    "#选出10个与乔峰最相近的10个词\n",
    "for e in model.most_similar(positive=[\"乔峰\"],topn=10):\n",
    "    print(e[0],e[1])"
   ]
  },
  {
   "cell_type": "code",
   "execution_count": 32,
   "metadata": {
    "collapsed": true,
    "jupyter": {
     "outputs_hidden": true
    }
   },
   "outputs": [],
   "source": [
    "#加载预料\n",
    "sentences2 = word2vec.Text8Corpus(\"data\\分词后的天龙八部.txt\")"
   ]
  },
  {
   "cell_type": "code",
   "execution_count": 33,
   "metadata": {
    "collapsed": false,
    "jupyter": {
     "outputs_hidden": false
    }
   },
   "outputs": [
    {
     "name": "stdout",
     "output_type": "stream",
     "text": [
      "<gensim.models.word2vec.Text8Corpus object at 0x000002203F199DA0>\n"
     ]
    }
   ],
   "source": [
    "print(sentences2)"
   ]
  },
  {
   "cell_type": "code",
   "execution_count": 68,
   "metadata": {
    "collapsed": false,
    "jupyter": {
     "outputs_hidden": false
    }
   },
   "outputs": [],
   "source": [
    "#训练模型\n",
    "model = word2vec.Word2Vec(sentences2)"
   ]
  },
  {
   "cell_type": "code",
   "execution_count": 69,
   "metadata": {
    "collapsed": false,
    "jupyter": {
     "outputs_hidden": false
    }
   },
   "outputs": [
    {
     "name": "stdout",
     "output_type": "stream",
     "text": [
      "阿紫道 0.996263861656189\n",
      "姊夫 0.9961894750595093\n",
      "冷冷的 0.9957616329193115\n",
      "找 0.995625376701355\n",
      "两位 0.9950875639915466\n",
      "赵钱孙 0.9950235486030579\n",
      "全冠清 0.9950124025344849\n",
      "乔帮主 0.9949069023132324\n",
      "姊姊 0.9948595762252808\n",
      "叹 0.9947936534881592\n"
     ]
    }
   ],
   "source": [
    "#选出10个与乔峰最相近的10个词\n",
    "for e in model.most_similar(positive=[\"乔峰\"],topn=10):\n",
    "    print(e[0],e[1])"
   ]
  },
  {
   "cell_type": "code",
   "execution_count": 70,
   "metadata": {
    "collapsed": true,
    "jupyter": {
     "outputs_hidden": true
    }
   },
   "outputs": [],
   "source": [
    "#保存模型\n",
    "model.save(\"data/天龙八部.model\")"
   ]
  },
  {
   "cell_type": "code",
   "execution_count": 71,
   "metadata": {
    "collapsed": true,
    "jupyter": {
     "outputs_hidden": true
    }
   },
   "outputs": [],
   "source": [
    "#加载模型\n",
    "model2 = word2vec.Word2Vec.load(\"data/天龙八部.model\")"
   ]
  },
  {
   "cell_type": "code",
   "execution_count": 72,
   "metadata": {
    "collapsed": false,
    "jupyter": {
     "outputs_hidden": false
    }
   },
   "outputs": [
    {
     "name": "stdout",
     "output_type": "stream",
     "text": [
      "阿紫道 0.996263861656189\n",
      "姊夫 0.9961894750595093\n",
      "冷冷的 0.9957616329193115\n",
      "找 0.995625376701355\n",
      "两位 0.9950875639915466\n",
      "赵钱孙 0.9950235486030579\n",
      "全冠清 0.9950124025344849\n",
      "乔帮主 0.9949069023132324\n",
      "姊姊 0.9948595762252808\n",
      "叹 0.9947936534881592\n"
     ]
    }
   ],
   "source": [
    "#选出10个与乔峰最相近的10个词\n",
    "for e in model2.most_similar(positive=[\"乔峰\"],topn=10):\n",
    "    print(e[0],e[1])"
   ]
  },
  {
   "cell_type": "code",
   "execution_count": 73,
   "metadata": {
    "collapsed": false,
    "jupyter": {
     "outputs_hidden": false
    }
   },
   "outputs": [
    {
     "name": "stdout",
     "output_type": "stream",
     "text": [
      "0.983976449658\n"
     ]
    }
   ],
   "source": [
    "#计算两个词语的相似度\n",
    "sim_value = model.similarity('乔峰','萧峰')\n",
    "print(sim_value)"
   ]
  },
  {
   "cell_type": "code",
   "execution_count": 74,
   "metadata": {
    "collapsed": false,
    "jupyter": {
     "outputs_hidden": false
    }
   },
   "outputs": [
    {
     "name": "stdout",
     "output_type": "stream",
     "text": [
      "0.988961361533\n"
     ]
    }
   ],
   "source": [
    "#计算两个集合的相似度\n",
    "list1 = ['乔峰','萧远山']\n",
    "list2= ['慕容复','慕容博']\n",
    "sim_value = model.n_similarity(list1,list2)\n",
    "print(sim_value)"
   ]
  },
  {
   "cell_type": "code",
   "execution_count": 80,
   "metadata": {
    "collapsed": false,
    "jupyter": {
     "outputs_hidden": false
    }
   },
   "outputs": [
    {
     "name": "stdout",
     "output_type": "stream",
     "text": [
      "丁春秋\n"
     ]
    }
   ],
   "source": [
    "#选出集合中不同类型的词语\n",
    "list3 = ['段誉','阿紫','王语嫣','丁春秋']\n",
    "print(model.doesnt_match(list3))"
   ]
  },
  {
   "cell_type": "code",
   "execution_count": 81,
   "metadata": {
    "collapsed": false,
    "jupyter": {
     "outputs_hidden": false
    }
   },
   "outputs": [
    {
     "name": "stdout",
     "output_type": "stream",
     "text": [
      "<class 'numpy.ndarray'>\n"
     ]
    }
   ],
   "source": [
    "#查看词向量值\n",
    "print(type(model['乔峰']))"
   ]
  },
  {
   "cell_type": "code",
   "execution_count": 82,
   "metadata": {
    "collapsed": false,
    "jupyter": {
     "outputs_hidden": false
    }
   },
   "outputs": [
    {
     "name": "stdout",
     "output_type": "stream",
     "text": [
      "100\n"
     ]
    }
   ],
   "source": [
    "print(len(model['乔峰']))"
   ]
  },
  {
   "cell_type": "code",
   "execution_count": 83,
   "metadata": {
    "collapsed": false,
    "jupyter": {
     "outputs_hidden": false
    }
   },
   "outputs": [
    {
     "name": "stdout",
     "output_type": "stream",
     "text": [
      "[-0.0956201   0.83770102 -0.50264329  0.17705031 -0.03397365  0.53726691\n",
      " -0.94604319 -0.62564951 -0.16479155 -0.56092721 -0.05749961  0.19491424\n",
      "  0.23317778  0.69680882 -0.01325463  0.49103716 -0.2274354  -0.27408433\n",
      "  0.30029318  0.30257019  0.38569745 -0.24391353 -0.20851924 -1.03797174\n",
      "  0.1151455  -0.12836897 -0.25457156 -0.21057677 -0.59543329 -0.41599837\n",
      " -0.13542509  0.23070075 -0.0045849  -0.12233413  0.35966769  0.30875343\n",
      " -0.55712724 -0.05722067 -0.20944791  0.12286058 -0.49387416  0.26767832\n",
      " -0.03382351 -0.09347658  0.6634863   0.25116423 -0.17000762 -0.41160905\n",
      "  0.26862589 -0.48492855 -0.2278533   0.45218593 -0.15033394  0.17578831\n",
      " -0.58941668 -0.0460459   0.04037135  0.27327055 -0.22823675  0.2203647\n",
      "  0.05365429 -0.04600301 -0.7688188   0.13671628 -0.53027683 -0.1469509\n",
      "  1.03760362  0.12982909 -0.22781004  0.54549789  0.05604199 -0.42564315\n",
      " -0.06961453 -0.16930862 -0.73733568 -0.40141526  0.83430684 -0.35497716\n",
      "  0.45108098  0.59830898  0.56303334  0.40351576  0.08104084 -0.05698548\n",
      " -0.54859221  0.25344476 -0.3362723  -0.22261383 -0.2233018   0.040442\n",
      "  0.42754599 -1.2365644   0.56711614  0.03170419 -0.08998632  0.26160204\n",
      "  0.18751431  0.04812396 -0.26835883  0.34943965]\n"
     ]
    }
   ],
   "source": [
    "print(model['乔峰'])"
   ]
  },
  {
   "cell_type": "code",
   "execution_count": null,
   "metadata": {},
   "outputs": [],
   "source": []
  },
  {
   "cell_type": "markdown",
   "metadata": {},
   "source": [
    "----\n",
    "\n",
    "# BERT"
   ]
  },
  {
   "cell_type": "code",
   "execution_count": null,
   "metadata": {},
   "outputs": [],
   "source": []
  }
 ],
 "metadata": {
  "kernelspec": {
   "display_name": "BaseEnv(3.7.6)",
   "language": "python",
   "name": "base-env"
  },
  "language_info": {
   "codemirror_mode": {
    "name": "ipython",
    "version": 3
   },
   "file_extension": ".py",
   "mimetype": "text/x-python",
   "name": "python",
   "nbconvert_exporter": "python",
   "pygments_lexer": "ipython3",
   "version": "3.7.6"
  }
 },
 "nbformat": 4,
 "nbformat_minor": 4
}
