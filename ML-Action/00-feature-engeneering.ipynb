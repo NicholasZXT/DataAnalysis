{
 "cells": [
  {
   "cell_type": "code",
   "execution_count": 44,
   "metadata": {},
   "outputs": [
    {
     "name": "stdout",
     "output_type": "stream",
     "text": [
      "package版本信息：\n",
      "numpy:       1.21.2\n",
      "pandas:      1.3.3\n",
      "matplotlib:  3.4.3\n",
      "sklearn:     0.24.2\n",
      "seaborn:     0.11.2\n",
      "plotly:      5.3.1\n"
     ]
    }
   ],
   "source": [
    "import numpy as np\n",
    "import pandas as pd\n",
    "import matplotlib.pyplot as plt\n",
    "import seaborn as sns\n",
    "import plotly.express as px\n",
    "from plotly import graph_objects as go\n",
    "\n",
    "import matplotlib\n",
    "import plotly\n",
    "import sklearn\n",
    "\n",
    "print(\"package版本信息：\")\n",
    "print(\"numpy:      \", np.__version__)\n",
    "print(\"pandas:     \", pd.__version__)\n",
    "print(\"matplotlib: \", matplotlib.__version__)\n",
    "print(\"sklearn:    \", sklearn.__version__)\n",
    "print(\"seaborn:    \", sns.__version__)\n",
    "print(\"plotly:     \", plotly.__version__)"
   ]
  },
  {
   "cell_type": "code",
   "execution_count": 45,
   "metadata": {},
   "outputs": [],
   "source": [
    "# 设置显示所有的列\n",
    "pd.options.display.max_columns = None\n",
    "# 设置显示所有的行\n",
    "pd.options.display.max_rows = None\n",
    "\n",
    "# 阻止waring显示\n",
    "import warnings\n",
    "warnings.filterwarnings('ignore')\n",
    "\n",
    "# jupyter notebook设置同一个cell打印多个结果\n",
    "from IPython.display import display\n",
    "# 然后使用\n",
    "# display(\"a\")\n",
    "# display(\"b\")"
   ]
  },
  {
   "cell_type": "code",
   "execution_count": 46,
   "metadata": {},
   "outputs": [
    {
     "name": "stdout",
     "output_type": "stream",
     "text": [
      "D:\\Project-Workspace\\Python-Projects\n"
     ]
    }
   ],
   "source": [
    "%cd .."
   ]
  },
  {
   "cell_type": "code",
   "execution_count": 49,
   "metadata": {
    "collapsed": false,
    "jupyter": {
     "outputs_hidden": false
    },
    "pycharm": {
     "name": "#%%\n"
    }
   },
   "outputs": [
    {
     "data": {
      "text/plain": [
       "'D:\\\\Project-Workspace\\\\Python-Projects\\\\DataAnalysis'"
      ]
     },
     "execution_count": 49,
     "metadata": {},
     "output_type": "execute_result"
    }
   ],
   "source": [
    "%pwd"
   ]
  },
  {
   "cell_type": "markdown",
   "metadata": {},
   "source": [
    "# 数据预处理\n",
    "\n",
    "+ 数据预处理是从数据中检测，纠正或删除损坏，不准确或不适用于模型的记录的过程。\n",
    "+ 可能面对的问题有：数据类型不同，比如有的是文字，有的是数字，有的含时间序列，有的连续，有的间断。  \n",
    "也可能数据的质量不行，有噪声，有异常，有缺失，数据出错，量纲不一，有重复，数据是偏态，数据量太\n",
    "大或太小\n",
    "+ 数据预处理的目的：让数据适应模型，匹配模型的需求"
   ]
  },
  {
   "cell_type": "markdown",
   "metadata": {
    "pycharm": {
     "name": "#%% md\n"
    }
   },
   "source": [
    "## 特征类型\n",
    "\n",
    "特征（属性）的不同类型，通常用该属性支持的数学操作来定义，常用的数学操作有：\n",
    "  1. 相异性：$=$ 和 $\\not=$\n",
    "  2. 顺序比较：$\\le$ 和 $\\ge$\n",
    "  3. 加减法：$+$ 和 $-$\n",
    "  4. 乘除法：$\\times$ 和 $/$\n",
    "\n",
    "利用上述的性质，可以定义如下四种类型的特征（属性）\n",
    "\n",
    "+ 类别属性（定性）\n",
    "  + 标称属性，只支持 $=$ 和 $\\not=$ 的操作（也就是离散属性）——**这类属性需要进行one-hot编码**  \n",
    "    例子：性别\n",
    "  + 序数属性，进一步支持 $\\le$ 和 $\\ge$ 操作——这类属性**不能使用one-hot编码，应当编码为整数序号**  \n",
    "    例子：等级\n",
    "+ 数值属性（定量）\n",
    "  + 区间属性，进一步支持 $+$ 和 $-$ 操作，属性值之间的和与差是有意义的  \n",
    "    例子：**日期**\n",
    "  + 比率属性，支持 $\\times$ 和 $/$ 操作，属性值之间的差、积、商都是有意义的  \n",
    "    比率属性的**取值通常是无数个**，并且可以进一步细分为：\n",
    "    + **实数**型，这类特征就是通常意义上的连续属性\n",
    "    + **正整数**，这类特征通常是**计数属性**，并且需要做处理，不能直接当连续型来使用\n",
    "\n",
    "> 实际操作中，对于比率属性，特别要注意的是**检查取值范围和分布**，如果横跨多个数量级，一般情况下需要进行**分箱操作**。\n",
    ">\n",
    "> 特别是计数属性，通常**计数属性的分布很不均匀**，横跨的数量级也很大，通常采用二值化或者分箱操作。\n",
    "\n"
   ]
  },
  {
   "cell_type": "markdown",
   "metadata": {},
   "source": [
    "## 缺失值处理\n",
    "\n",
    "有两个处理框架：\n",
    "\n",
    "+ `sklearn.impute`中提供了进行缺失值填充的类，主要有：\n",
    "  1. `SimpleImputer()`，提供了如下填充策略 (`strategy=`)：\n",
    "    + `mean`，均值填充，仅适用于数值型\n",
    "    + `median`，中位数填充，仅适用于数值型\n",
    "    + `most_frequent`，众数填充，对数值型和**字符型**特征都可用\n",
    "    + `constant`，常数填充，配合`fill_value`参数使用，对数值型和**字符型**特征都可用\n",
    "  2. `KNNImputer()`\n",
    "\n",
    "\n",
    "+ pandas提供的`DataFrame.fillna()` ：\n",
    "提供了向前填充，向后填充，常数填充这几种填充策略。\n",
    "\n",
    "一般来说，使用pandas进行填充比较方便，不过如果要使用均值等统计量来填充，使用sklearn更为方便。\n",
    "特别要注意的是，**sklearn中的策略是对所有特征一起使用的，如果传入的数据里字符型和数值型特征混用，会报错**。\n",
    "\n",
    "所以，**推荐使用pandas进行缺失值处理**。"
   ]
  },
  {
   "cell_type": "code",
   "execution_count": 3,
   "metadata": {
    "collapsed": false,
    "jupyter": {
     "outputs_hidden": false
    },
    "pycharm": {
     "name": "#%%\n"
    }
   },
   "outputs": [],
   "source": [
    "from sklearn.impute import SimpleImputer"
   ]
  },
  {
   "cell_type": "code",
   "execution_count": 4,
   "metadata": {
    "collapsed": false,
    "jupyter": {
     "outputs_hidden": false
    },
    "pycharm": {
     "name": "#%%\n"
    }
   },
   "outputs": [],
   "source": [
    "# df1 中含有非数值的列\n",
    "df1 = pd.DataFrame({'a':[1,2,2,np.nan], 'b':['A','A',None, 'B']})\n",
    "\n",
    "# df2中全是数值\n",
    "df2 = pd.DataFrame({'a':[1,2,2,np.nan], 'b':[10,None,15,20]})"
   ]
  },
  {
   "cell_type": "markdown",
   "metadata": {},
   "source": [
    "+ 可以看出，pandas中的`fillna()`可以处理**非数值列**，而sklearn不行"
   ]
  },
  {
   "cell_type": "code",
   "execution_count": 5,
   "metadata": {
    "collapsed": false,
    "jupyter": {
     "outputs_hidden": false
    },
    "pycharm": {
     "name": "#%%\n"
    }
   },
   "outputs": [
    {
     "data": {
      "text/html": [
       "<div>\n",
       "<style scoped>\n",
       "    .dataframe tbody tr th:only-of-type {\n",
       "        vertical-align: middle;\n",
       "    }\n",
       "\n",
       "    .dataframe tbody tr th {\n",
       "        vertical-align: top;\n",
       "    }\n",
       "\n",
       "    .dataframe thead th {\n",
       "        text-align: right;\n",
       "    }\n",
       "</style>\n",
       "<table border=\"1\" class=\"dataframe\">\n",
       "  <thead>\n",
       "    <tr style=\"text-align: right;\">\n",
       "      <th></th>\n",
       "      <th>a</th>\n",
       "      <th>b</th>\n",
       "    </tr>\n",
       "  </thead>\n",
       "  <tbody>\n",
       "    <tr>\n",
       "      <th>0</th>\n",
       "      <td>1.0</td>\n",
       "      <td>A</td>\n",
       "    </tr>\n",
       "    <tr>\n",
       "      <th>1</th>\n",
       "      <td>2.0</td>\n",
       "      <td>A</td>\n",
       "    </tr>\n",
       "    <tr>\n",
       "      <th>2</th>\n",
       "      <td>2.0</td>\n",
       "      <td>0</td>\n",
       "    </tr>\n",
       "    <tr>\n",
       "      <th>3</th>\n",
       "      <td>0.0</td>\n",
       "      <td>B</td>\n",
       "    </tr>\n",
       "  </tbody>\n",
       "</table>\n",
       "</div>"
      ],
      "text/plain": [
       "     a  b\n",
       "0  1.0  A\n",
       "1  2.0  A\n",
       "2  2.0  0\n",
       "3  0.0  B"
      ]
     },
     "execution_count": 5,
     "metadata": {},
     "output_type": "execute_result"
    }
   ],
   "source": [
    "df1.fillna(0)"
   ]
  },
  {
   "cell_type": "code",
   "execution_count": 7,
   "metadata": {
    "collapsed": false,
    "jupyter": {
     "outputs_hidden": false
    },
    "pycharm": {
     "name": "#%%\n"
    }
   },
   "outputs": [
    {
     "data": {
      "text/html": [
       "<div>\n",
       "<style scoped>\n",
       "    .dataframe tbody tr th:only-of-type {\n",
       "        vertical-align: middle;\n",
       "    }\n",
       "\n",
       "    .dataframe tbody tr th {\n",
       "        vertical-align: top;\n",
       "    }\n",
       "\n",
       "    .dataframe thead th {\n",
       "        text-align: right;\n",
       "    }\n",
       "</style>\n",
       "<table border=\"1\" class=\"dataframe\">\n",
       "  <thead>\n",
       "    <tr style=\"text-align: right;\">\n",
       "      <th></th>\n",
       "      <th>a</th>\n",
       "      <th>b</th>\n",
       "    </tr>\n",
       "  </thead>\n",
       "  <tbody>\n",
       "    <tr>\n",
       "      <th>0</th>\n",
       "      <td>1.0</td>\n",
       "      <td>A</td>\n",
       "    </tr>\n",
       "    <tr>\n",
       "      <th>1</th>\n",
       "      <td>2.0</td>\n",
       "      <td>A</td>\n",
       "    </tr>\n",
       "    <tr>\n",
       "      <th>2</th>\n",
       "      <td>2.0</td>\n",
       "      <td>A</td>\n",
       "    </tr>\n",
       "    <tr>\n",
       "      <th>3</th>\n",
       "      <td>2.0</td>\n",
       "      <td>B</td>\n",
       "    </tr>\n",
       "  </tbody>\n",
       "</table>\n",
       "</div>"
      ],
      "text/plain": [
       "     a  b\n",
       "0  1.0  A\n",
       "1  2.0  A\n",
       "2  2.0  A\n",
       "3  2.0  B"
      ]
     },
     "execution_count": 7,
     "metadata": {},
     "output_type": "execute_result"
    }
   ],
   "source": [
    "df1.fillna(method='ffill')"
   ]
  },
  {
   "cell_type": "code",
   "execution_count": 9,
   "metadata": {
    "collapsed": false,
    "jupyter": {
     "outputs_hidden": false
    },
    "pycharm": {
     "name": "#%%\n"
    }
   },
   "outputs": [
    {
     "data": {
      "text/html": [
       "<div>\n",
       "<style scoped>\n",
       "    .dataframe tbody tr th:only-of-type {\n",
       "        vertical-align: middle;\n",
       "    }\n",
       "\n",
       "    .dataframe tbody tr th {\n",
       "        vertical-align: top;\n",
       "    }\n",
       "\n",
       "    .dataframe thead th {\n",
       "        text-align: right;\n",
       "    }\n",
       "</style>\n",
       "<table border=\"1\" class=\"dataframe\">\n",
       "  <thead>\n",
       "    <tr style=\"text-align: right;\">\n",
       "      <th></th>\n",
       "      <th>a</th>\n",
       "      <th>b</th>\n",
       "    </tr>\n",
       "  </thead>\n",
       "  <tbody>\n",
       "    <tr>\n",
       "      <th>0</th>\n",
       "      <td>1.0</td>\n",
       "      <td>A</td>\n",
       "    </tr>\n",
       "    <tr>\n",
       "      <th>1</th>\n",
       "      <td>2.0</td>\n",
       "      <td>A</td>\n",
       "    </tr>\n",
       "    <tr>\n",
       "      <th>2</th>\n",
       "      <td>2.0</td>\n",
       "      <td>B</td>\n",
       "    </tr>\n",
       "    <tr>\n",
       "      <th>3</th>\n",
       "      <td>NaN</td>\n",
       "      <td>B</td>\n",
       "    </tr>\n",
       "  </tbody>\n",
       "</table>\n",
       "</div>"
      ],
      "text/plain": [
       "     a  b\n",
       "0  1.0  A\n",
       "1  2.0  A\n",
       "2  2.0  B\n",
       "3  NaN  B"
      ]
     },
     "execution_count": 9,
     "metadata": {},
     "output_type": "execute_result"
    }
   ],
   "source": [
    "df1.fillna(method='backfill')"
   ]
  },
  {
   "cell_type": "code",
   "execution_count": 12,
   "metadata": {
    "collapsed": false,
    "jupyter": {
     "outputs_hidden": false
    },
    "pycharm": {
     "name": "#%%\n"
    }
   },
   "outputs": [
    {
     "data": {
      "text/plain": [
       "SimpleImputer(add_indicator=False, copy=True, fill_value='FILL',\n",
       "              missing_values=nan, strategy='constant', verbose=0)"
      ]
     },
     "execution_count": 12,
     "metadata": {},
     "output_type": "execute_result"
    }
   ],
   "source": [
    "# imp = SimpleImputer(strategy='mean')\n",
    "# imp = SimpleImputer(strategy='most_frequent')\n",
    "imp = SimpleImputer(strategy='constant', fill_value='FILL')\n",
    "imp.fit(df1)"
   ]
  },
  {
   "cell_type": "code",
   "execution_count": 13,
   "metadata": {
    "collapsed": false,
    "jupyter": {
     "outputs_hidden": false
    },
    "pycharm": {
     "name": "#%%\n"
    }
   },
   "outputs": [
    {
     "data": {
      "text/plain": [
       "array([[1.0, 'A'],\n",
       "       [2.0, 'A'],\n",
       "       [2.0, None],\n",
       "       ['FILL', 'B']], dtype=object)"
      ]
     },
     "execution_count": 13,
     "metadata": {},
     "output_type": "execute_result"
    }
   ],
   "source": [
    "imp.transform(df1)"
   ]
  },
  {
   "cell_type": "markdown",
   "metadata": {},
   "source": [
    "+ 统计各列缺失值信息的函数"
   ]
  },
  {
   "cell_type": "code",
   "execution_count": 22,
   "metadata": {
    "collapsed": false,
    "jupyter": {
     "outputs_hidden": false
    },
    "pycharm": {
     "name": "#%%\n"
    }
   },
   "outputs": [],
   "source": [
    "def miss_stat(df):\n",
    "    \"\"\"\n",
    "    用于统计DF中各列的缺失值信息和占比\n",
    "    \"\"\"\n",
    "    miss_num = df.isnull().sum()\n",
    "    # 只展示有缺失值的特征\n",
    "    miss_num = miss_num[miss_num > 0]\n",
    "    total = df.shape[0]\n",
    "    miss_percent = miss_num/total*100\n",
    "    miss_info = pd.concat([miss_num, miss_percent, df.dtypes], axis = 1, keys=['miss_num', 'miss_percent','dtype'])\n",
    "    miss_info['total'] = total\n",
    "    miss_info = miss_info[['miss_num','total','miss_percent','dtype']]\n",
    "    miss_info.dropna(inplace=True)\n",
    "#     降序排列，同时设置小数点的位数\n",
    "    miss_info = miss_info.sort_values(by=['miss_num'],ascending=False).round(decimals=3)\n",
    "#     打印\n",
    "#     from IPython.display import display\n",
    "    print(\"miss_stat.shape: \", miss_info.shape)\n",
    "    print(\"miss_stat:\")\n",
    "    display(miss_info)\n",
    "#     print(miss_info)\n",
    "    return miss_info"
   ]
  },
  {
   "cell_type": "markdown",
   "metadata": {},
   "source": [
    "+ 对缺失值进行填充的函数"
   ]
  },
  {
   "cell_type": "code",
   "execution_count": 199,
   "metadata": {
    "collapsed": false,
    "jupyter": {
     "outputs_hidden": false
    },
    "pycharm": {
     "name": "#%%\n"
    }
   },
   "outputs": [],
   "source": [
    "# 缺失值填充函数\n",
    "def Fill_na(df, numerical_cols=None, discrete_cols=None):\n",
    "    \"\"\"\n",
    "    对数值特征使用均值填充，对离散特征使用众数填充\n",
    "    \"\"\"\n",
    "    df = df.copy()\n",
    "    if numerical_cols is not None:\n",
    "        # df.mean()返回的是一个series，可以直接用.to_dict()\n",
    "        num_mean_dict = df[numerical_cols].mean(axis=0).to_dict()\n",
    "        # 不知道为什么，下面这一句，是对 copy 进行的操作，而不是对 view 进行的操作\n",
    "        # df[numerical_cols].fillna(value=num_mean_dict, inplace=True)\n",
    "        df[numerical_cols] = df[numerical_cols].fillna(value=num_mean_dict)\n",
    "\n",
    "    if discrete_cols is not None:\n",
    "        # df.mode() 返回的是一个DataFrame，调用to_dict()后还需要进一步处理\n",
    "        mode_dict = df[discrete_cols].mode(axis=0).to_dict()\n",
    "        discrete_mode_dict = {}\n",
    "        for key in mode_dict.keys():\n",
    "            discrete_mode_dict[key] = mode_dict[key][0]\n",
    "        # df[discrete_cols].fillna(value=discrete_mode_dict, inplace=True)\n",
    "        df[discrete_cols] = df[discrete_cols].fillna(value=discrete_mode_dict)\n",
    "    return df"
   ]
  },
  {
   "cell_type": "markdown",
   "metadata": {
    "pycharm": {
     "name": "#%% md\n"
    }
   },
   "source": [
    "## 数值特征检查\n",
    "\n",
    "一般对于数值型特征，需要考虑做如下的检查：\n",
    "\n",
    "1. 数量级  \n",
    "   比如特征是否均为正值，一般的数量级是多少\n",
    "   \n",
    "2. 尺度  \n",
    "   比如特征的**取值范围**，是否横跨多个数量级，这个很重要——**如果模型是输入特征的平滑函数，那么该模型对于特征的尺度是非常敏感的**：\n",
    "   + 所有使用欧式距离的模型，比如$y=3\\times x+1$，k-均值聚类等，输入特征的尺度变化会直接影响模型输出。  \n",
    "     对于这类模型，通常需要将特征进行**标准化**，以便将输出控制在期望的范围之内。\n",
    "   + 逻辑回归对于输入特征的尺度并不敏感\n",
    "   + 一般来说，树模型对于输入特征的尺度也不敏感\n",
    "   \n",
    "3. 分布  \n",
    "   通常会要求输入特征服从高斯分布，可以考虑使用**对数变换**实现。  \n",
    "   此外，更加常见的情况是，预测目标也需要做这样的对数变换！！！"
   ]
  },
  {
   "cell_type": "markdown",
   "metadata": {
    "tags": []
   },
   "source": [
    "## 特征缩放\n",
    "\n",
    "定义：`将不同规格的数据转换到同一规格，或不同分布的数据转换到某个特定分布`。  \n",
    "\n",
    "作用：\n",
    "+ 在**以梯度和矩阵为核心**的算法中，譬如逻辑回归，支持向量机，神经网络，特征缩放可以加快求解速度\n",
    "+ 涉及到**距离计算**的模型，譬如K近邻，K-Means聚类中，特征缩放可以帮我们**提升模型精度，避免某一个取值范围特别大的特征对距离计算造成影响**\n",
    "\n",
    "注意：\n",
    "> + 对于树模型，一般不需要做特征缩放处理，因为它们对于特征尺度并不敏感。  \n",
    "> + 对于大部分为0的稀疏数据，不要使用上述的缩放，特别是min-max和标准化，因为这两种变换都会将原始值平移一段距离，因此**会将稀疏特征向量变成密集特征向量**！！！\n",
    "\n",
    "\n",
    "常见的特征缩放有如下方式："
   ]
  },
  {
   "cell_type": "markdown",
   "metadata": {
    "tags": []
   },
   "source": [
    "### 归一化  \n",
    "\n",
    "使用最大值和最小值来进行归一化，将数据缩放到 $[0, 1]$ 之间.\n",
    "\n",
    "sklearn中提供了如下的类实现该操作，并且在标准的基础上增加了缩放到指定区间（feature_range参数）的操作，原理如下.  \n",
    "设 feature_range= $[min, max]$，给定数据X，最大值和最小值分别为 $[X_{min}, X_{max}]$，那么归一化公式为：  \n",
    "\n",
    "$\\tilde{x} = \\frac{x - X_{min}}{X_{max} -- X_{min}} (max - min) + min = x  \\frac{max - min}{X_{max} -- X_{min}} + min - X_{min} \\frac{max-min}{X_{max} -- X_{min}}$,  \n",
    "\n",
    "其中的 $\\frac{max - min}{X_{max} -- X_{min}}$ 被称为 scale，$min - X_{min} \\frac{max-min}{X_{max} -- X_{min}}$ 被称为 min。\n",
    "\n",
    "+ `preprocessing.MinMaxScaler(feature_range=(0, 1), *, copy=True, clip=False)`  \n",
    "  对象属性：\n",
    "  + min_: shape=(n_features, )\n",
    "  + scale_: shape=(n_features, )\n",
    "  + data_min_, data_max_: shape=(n_features, )，每个特征实际的最大、最小值\n",
    "  + data_range_: shape=(n_features, )，每个特征的数据范围，注意，它是最大值-最小值\n",
    "  + n_features_in_: 特征数量\n",
    "  + n_samples_seen_: 样本数量\n",
    "  + features_names_in_: shape=(n_features, )\n"
   ]
  },
  {
   "cell_type": "code",
   "execution_count": 11,
   "metadata": {},
   "outputs": [
    {
     "name": "stdout",
     "output_type": "stream",
     "text": [
      "[[1 2]\n",
      " [3 4]\n",
      " [5 6]]\n"
     ]
    },
    {
     "data": {
      "text/plain": [
       "MinMaxScaler()"
      ]
     },
     "execution_count": 11,
     "metadata": {},
     "output_type": "execute_result"
    }
   ],
   "source": [
    "from sklearn.preprocessing import MinMaxScaler\n",
    "\n",
    "scaler = MinMaxScaler()\n",
    "X = np.array([[1, 2], [3, 4], [5, 6]])\n",
    "print(X)\n",
    "scaler.fit(X)"
   ]
  },
  {
   "cell_type": "code",
   "execution_count": 17,
   "metadata": {},
   "outputs": [
    {
     "name": "stdout",
     "output_type": "stream",
     "text": [
      "scaler.min_:  [-0.25 -0.5 ]\n",
      "scaler.scale_:  [0.25 0.25]\n",
      "scaler.data_min_:  [1. 2.]\n",
      "scaler.data_max_:  [5. 6.]\n",
      "scaler.data_range_:  [4. 4.]\n",
      "scaler.n_features_in_:  2\n",
      "scaler.n_samples_seen_:  3\n"
     ]
    }
   ],
   "source": [
    "print('scaler.min_: ', scaler.min_)\n",
    "print('scaler.scale_: ', scaler.scale_)\n",
    "print('scaler.data_min_: ', scaler.data_min_)\n",
    "print('scaler.data_max_: ', scaler.data_max_)\n",
    "print('scaler.data_range_: ', scaler.data_range_)\n",
    "print('scaler.n_features_in_: ', scaler.n_features_in_)\n",
    "print('scaler.n_samples_seen_: ', scaler.n_samples_seen_)"
   ]
  },
  {
   "cell_type": "code",
   "execution_count": 18,
   "metadata": {},
   "outputs": [
    {
     "data": {
      "text/plain": [
       "array([[0. , 0. ],\n",
       "       [0.5, 0.5],\n",
       "       [1. , 1. ]])"
      ]
     },
     "execution_count": 18,
     "metadata": {},
     "output_type": "execute_result"
    }
   ],
   "source": [
    "scaler.transform(X)"
   ]
  },
  {
   "cell_type": "markdown",
   "metadata": {},
   "source": [
    "根据上面的公式，归一化的结果也可用下面的方式得到："
   ]
  },
  {
   "cell_type": "code",
   "execution_count": 19,
   "metadata": {},
   "outputs": [
    {
     "data": {
      "text/plain": [
       "array([[0. , 0. ],\n",
       "       [0.5, 0.5],\n",
       "       [1. , 1. ]])"
      ]
     },
     "execution_count": 19,
     "metadata": {},
     "output_type": "execute_result"
    }
   ],
   "source": [
    "X * scaler.scale_ + scaler.min_"
   ]
  },
  {
   "cell_type": "markdown",
   "metadata": {
    "jp-MarkdownHeadingCollapsed": true,
    "tags": []
   },
   "source": [
    "### 标准化  \n",
    "\n",
    "减去均值，然后除以标准差，实现均值=0，方差=1的标准化.  \n",
    "\n",
    "+ `preprocessing.StandardScaler(copy=True, with_mean=True, with_std=True)`   \n",
    "  参数\n",
    "  + with_mean: 是否减去均值，默认为True\n",
    "  + with_std: 是否除以方差，默认为True\n",
    "  \n",
    "  属性\n",
    "  + scale_: 每个特征的系数\n",
    "  + mean_: 每个特征的均值\n",
    "  + var_: 每个特征的方差\n",
    "  + n_features_in_: 特征数量\n",
    "  + n_samples_seen_: 样本数量\n",
    "  + features_names_in_: shape=(n_features, )"
   ]
  },
  {
   "cell_type": "code",
   "execution_count": 24,
   "metadata": {},
   "outputs": [
    {
     "name": "stdout",
     "output_type": "stream",
     "text": [
      "[[1 2]\n",
      " [3 4]\n",
      " [5 6]]\n"
     ]
    },
    {
     "data": {
      "text/plain": [
       "StandardScaler()"
      ]
     },
     "execution_count": 24,
     "metadata": {},
     "output_type": "execute_result"
    }
   ],
   "source": [
    "from sklearn.preprocessing import StandardScaler\n",
    "\n",
    "scaler = StandardScaler()\n",
    "X = np.array([[1, 2], [3, 4], [5, 6]])\n",
    "print(X)\n",
    "scaler.fit(X)"
   ]
  },
  {
   "cell_type": "code",
   "execution_count": 31,
   "metadata": {},
   "outputs": [
    {
     "name": "stdout",
     "output_type": "stream",
     "text": [
      "scaler.mean_:  [3. 4.]\n",
      "scaler.scale_:  [1.63299316 1.63299316]\n",
      "scaler.var_:  [2.66666667 2.66666667]\n",
      "np.sqrt(scaler.var_):  [1.63299316 1.63299316]\n",
      "scaler.n_features_in_:  2\n",
      "scaler.n_samples_seen_:  3\n"
     ]
    }
   ],
   "source": [
    "print('scaler.mean_: ', scaler.mean_)\n",
    "print('scaler.scale_: ', scaler.scale_)\n",
    "print('scaler.var_: ', scaler.var_)\n",
    "# 实际上 scale_ 就是 var_ 开方得到\n",
    "print('np.sqrt(scaler.var_): ', np.sqrt(scaler.var_))\n",
    "print('scaler.n_features_in_: ', scaler.n_features_in_)\n",
    "print('scaler.n_samples_seen_: ', scaler.n_samples_seen_)"
   ]
  },
  {
   "cell_type": "code",
   "execution_count": 26,
   "metadata": {},
   "outputs": [
    {
     "data": {
      "text/plain": [
       "array([[-1.22474487, -1.22474487],\n",
       "       [ 0.        ,  0.        ],\n",
       "       [ 1.22474487,  1.22474487]])"
      ]
     },
     "execution_count": 26,
     "metadata": {},
     "output_type": "execute_result"
    }
   ],
   "source": [
    "scaler.transform(X)"
   ]
  },
  {
   "cell_type": "markdown",
   "metadata": {},
   "source": [
    "也可以通过下述方式得到同样的结果："
   ]
  },
  {
   "cell_type": "code",
   "execution_count": 28,
   "metadata": {},
   "outputs": [
    {
     "data": {
      "text/plain": [
       "array([[-1.22474487, -1.22474487],\n",
       "       [ 0.        ,  0.        ],\n",
       "       [ 1.22474487,  1.22474487]])"
      ]
     },
     "execution_count": 28,
     "metadata": {},
     "output_type": "execute_result"
    }
   ],
   "source": [
    "(X - scaler.mean_)/scaler.scale_"
   ]
  },
  {
   "cell_type": "markdown",
   "metadata": {
    "jp-MarkdownHeadingCollapsed": true,
    "tags": []
   },
   "source": [
    "### 中心化  \n",
    "中心化直接通过pandas实现就好了，不需要sklearn"
   ]
  },
  {
   "cell_type": "markdown",
   "metadata": {
    "jp-MarkdownHeadingCollapsed": true,
    "tags": []
   },
   "source": [
    "### 范数归一化  \n",
    "`preprocessing.Normalizer()`"
   ]
  },
  {
   "cell_type": "markdown",
   "metadata": {
    "jp-MarkdownHeadingCollapsed": true,
    "tags": []
   },
   "source": [
    "### 分位数标准化  \n",
    "`preprocessing.RobustScaler()`"
   ]
  },
  {
   "cell_type": "markdown",
   "metadata": {
    "tags": []
   },
   "source": [
    "# 特征编码"
   ]
  },
  {
   "cell_type": "markdown",
   "metadata": {
    "pycharm": {
     "name": "#%% md\n"
    }
   },
   "source": [
    "## One-Hot编码、Dummy编码和Effective编码\n",
    "\n",
    "+ One-Hot编码：将有$k$类别的分类变量编码成一个长度为$k$的 0-1 向量，不过这种方式使用的比特位要多一位，它有$k$个自由度。\n",
    "+ Dummy编码(dummy coding)：只使用长度为$k-1$的 0-1 向量，也因此只有$k-1$个自由度。\n",
    "+ Effective编码(effective coding)：和虚拟编码类似，但是它的参照类取值是-1，而不是0，相比较于虚拟编码，它的区别在于使线性模型更加容易解释。\n",
    "\n",
    "pandas中提供了用于实现前两种编码的方法：  \n",
    "+ `pandas.get_dummies(data, columns=None, drop_first=False, dtype=np.unit8, prefix=None, prefix_sep='_', sparse=False)`\n",
    "  + data：数据\n",
    "  + columns: list，指定需要编码的列名\n",
    "  + drop_first: 是否保留第一个level的编码，也就是在one-hot和dummy中选择，默认为False，也就是one-hot编码\n",
    "  + dtype: 注意，默认下编码后的特征列的类型为`np.unit8`，它是**无符号整数**。\n",
    "  \n",
    "但是pandas的函数问题在于，只能用于训练数据，它不方便在预测数据上重复相同的操作——也就是无法作为pipeline。"
   ]
  },
  {
   "cell_type": "code",
   "execution_count": 14,
   "metadata": {
    "collapsed": false,
    "jupyter": {
     "outputs_hidden": false
    },
    "pycharm": {
     "name": "#%%\n"
    }
   },
   "outputs": [],
   "source": [
    "df = pd.DataFrame({\n",
    "    'City': ['SF', 'SF', 'SF', 'NYC', 'NYC', 'NYC', 'Seattle', 'Seattle', 'Seattle'],\n",
    "    'Rent': [3999, 4000, 4001, 3499, 3500, 3501, 2499, 2500, 2501]\n",
    "})"
   ]
  },
  {
   "cell_type": "code",
   "execution_count": 17,
   "metadata": {
    "collapsed": false,
    "jupyter": {
     "outputs_hidden": false
    },
    "pycharm": {
     "name": "#%%\n"
    }
   },
   "outputs": [
    {
     "data": {
      "text/html": [
       "<div>\n",
       "<style scoped>\n",
       "    .dataframe tbody tr th:only-of-type {\n",
       "        vertical-align: middle;\n",
       "    }\n",
       "\n",
       "    .dataframe tbody tr th {\n",
       "        vertical-align: top;\n",
       "    }\n",
       "\n",
       "    .dataframe thead th {\n",
       "        text-align: right;\n",
       "    }\n",
       "</style>\n",
       "<table border=\"1\" class=\"dataframe\">\n",
       "  <thead>\n",
       "    <tr style=\"text-align: right;\">\n",
       "      <th></th>\n",
       "      <th>Rent</th>\n",
       "      <th>City_NYC</th>\n",
       "      <th>City_SF</th>\n",
       "      <th>City_Seattle</th>\n",
       "    </tr>\n",
       "  </thead>\n",
       "  <tbody>\n",
       "    <tr>\n",
       "      <th>0</th>\n",
       "      <td>3999</td>\n",
       "      <td>0</td>\n",
       "      <td>1</td>\n",
       "      <td>0</td>\n",
       "    </tr>\n",
       "    <tr>\n",
       "      <th>1</th>\n",
       "      <td>4000</td>\n",
       "      <td>0</td>\n",
       "      <td>1</td>\n",
       "      <td>0</td>\n",
       "    </tr>\n",
       "    <tr>\n",
       "      <th>2</th>\n",
       "      <td>4001</td>\n",
       "      <td>0</td>\n",
       "      <td>1</td>\n",
       "      <td>0</td>\n",
       "    </tr>\n",
       "    <tr>\n",
       "      <th>3</th>\n",
       "      <td>3499</td>\n",
       "      <td>1</td>\n",
       "      <td>0</td>\n",
       "      <td>0</td>\n",
       "    </tr>\n",
       "    <tr>\n",
       "      <th>4</th>\n",
       "      <td>3500</td>\n",
       "      <td>1</td>\n",
       "      <td>0</td>\n",
       "      <td>0</td>\n",
       "    </tr>\n",
       "    <tr>\n",
       "      <th>5</th>\n",
       "      <td>3501</td>\n",
       "      <td>1</td>\n",
       "      <td>0</td>\n",
       "      <td>0</td>\n",
       "    </tr>\n",
       "    <tr>\n",
       "      <th>6</th>\n",
       "      <td>2499</td>\n",
       "      <td>0</td>\n",
       "      <td>0</td>\n",
       "      <td>1</td>\n",
       "    </tr>\n",
       "    <tr>\n",
       "      <th>7</th>\n",
       "      <td>2500</td>\n",
       "      <td>0</td>\n",
       "      <td>0</td>\n",
       "      <td>1</td>\n",
       "    </tr>\n",
       "    <tr>\n",
       "      <th>8</th>\n",
       "      <td>2501</td>\n",
       "      <td>0</td>\n",
       "      <td>0</td>\n",
       "      <td>1</td>\n",
       "    </tr>\n",
       "  </tbody>\n",
       "</table>\n",
       "</div>"
      ],
      "text/plain": [
       "   Rent  City_NYC  City_SF  City_Seattle\n",
       "0  3999         0        1             0\n",
       "1  4000         0        1             0\n",
       "2  4001         0        1             0\n",
       "3  3499         1        0             0\n",
       "4  3500         1        0             0\n",
       "5  3501         1        0             0\n",
       "6  2499         0        0             1\n",
       "7  2500         0        0             1\n",
       "8  2501         0        0             1"
      ]
     },
     "execution_count": 17,
     "metadata": {},
     "output_type": "execute_result"
    }
   ],
   "source": [
    "# 默认下是 one-hot 编码， k 个自由度\n",
    "pd.get_dummies(df, columns=['City'])"
   ]
  },
  {
   "cell_type": "code",
   "execution_count": 18,
   "metadata": {
    "collapsed": false,
    "jupyter": {
     "outputs_hidden": false
    },
    "pycharm": {
     "name": "#%%\n"
    }
   },
   "outputs": [
    {
     "data": {
      "text/html": [
       "<div>\n",
       "<style scoped>\n",
       "    .dataframe tbody tr th:only-of-type {\n",
       "        vertical-align: middle;\n",
       "    }\n",
       "\n",
       "    .dataframe tbody tr th {\n",
       "        vertical-align: top;\n",
       "    }\n",
       "\n",
       "    .dataframe thead th {\n",
       "        text-align: right;\n",
       "    }\n",
       "</style>\n",
       "<table border=\"1\" class=\"dataframe\">\n",
       "  <thead>\n",
       "    <tr style=\"text-align: right;\">\n",
       "      <th></th>\n",
       "      <th>Rent</th>\n",
       "      <th>City_SF</th>\n",
       "      <th>City_Seattle</th>\n",
       "    </tr>\n",
       "  </thead>\n",
       "  <tbody>\n",
       "    <tr>\n",
       "      <th>0</th>\n",
       "      <td>3999</td>\n",
       "      <td>1</td>\n",
       "      <td>0</td>\n",
       "    </tr>\n",
       "    <tr>\n",
       "      <th>1</th>\n",
       "      <td>4000</td>\n",
       "      <td>1</td>\n",
       "      <td>0</td>\n",
       "    </tr>\n",
       "    <tr>\n",
       "      <th>2</th>\n",
       "      <td>4001</td>\n",
       "      <td>1</td>\n",
       "      <td>0</td>\n",
       "    </tr>\n",
       "    <tr>\n",
       "      <th>3</th>\n",
       "      <td>3499</td>\n",
       "      <td>0</td>\n",
       "      <td>0</td>\n",
       "    </tr>\n",
       "    <tr>\n",
       "      <th>4</th>\n",
       "      <td>3500</td>\n",
       "      <td>0</td>\n",
       "      <td>0</td>\n",
       "    </tr>\n",
       "    <tr>\n",
       "      <th>5</th>\n",
       "      <td>3501</td>\n",
       "      <td>0</td>\n",
       "      <td>0</td>\n",
       "    </tr>\n",
       "    <tr>\n",
       "      <th>6</th>\n",
       "      <td>2499</td>\n",
       "      <td>0</td>\n",
       "      <td>1</td>\n",
       "    </tr>\n",
       "    <tr>\n",
       "      <th>7</th>\n",
       "      <td>2500</td>\n",
       "      <td>0</td>\n",
       "      <td>1</td>\n",
       "    </tr>\n",
       "    <tr>\n",
       "      <th>8</th>\n",
       "      <td>2501</td>\n",
       "      <td>0</td>\n",
       "      <td>1</td>\n",
       "    </tr>\n",
       "  </tbody>\n",
       "</table>\n",
       "</div>"
      ],
      "text/plain": [
       "   Rent  City_SF  City_Seattle\n",
       "0  3999        1             0\n",
       "1  4000        1             0\n",
       "2  4001        1             0\n",
       "3  3499        0             0\n",
       "4  3500        0             0\n",
       "5  3501        0             0\n",
       "6  2499        0             1\n",
       "7  2500        0             1\n",
       "8  2501        0             1"
      ]
     },
     "execution_count": 18,
     "metadata": {},
     "output_type": "execute_result"
    }
   ],
   "source": [
    "# 使用 drop_first=True 来实现 dummy 编码，k-1 个自由度\n",
    "# 此时被省略的是第一个level，也就是 NYC 对应的编码，它为全0\n",
    "pd.get_dummies(df, columns=['City'], drop_first=True)"
   ]
  },
  {
   "cell_type": "code",
   "execution_count": 19,
   "metadata": {
    "collapsed": false,
    "jupyter": {
     "outputs_hidden": false
    },
    "pycharm": {
     "name": "#%%\n"
    }
   },
   "outputs": [
    {
     "data": {
      "text/html": [
       "<div>\n",
       "<style scoped>\n",
       "    .dataframe tbody tr th:only-of-type {\n",
       "        vertical-align: middle;\n",
       "    }\n",
       "\n",
       "    .dataframe tbody tr th {\n",
       "        vertical-align: top;\n",
       "    }\n",
       "\n",
       "    .dataframe thead th {\n",
       "        text-align: right;\n",
       "    }\n",
       "</style>\n",
       "<table border=\"1\" class=\"dataframe\">\n",
       "  <thead>\n",
       "    <tr style=\"text-align: right;\">\n",
       "      <th></th>\n",
       "      <th>Rent</th>\n",
       "      <th>City_SF</th>\n",
       "      <th>City_Seattle</th>\n",
       "    </tr>\n",
       "  </thead>\n",
       "  <tbody>\n",
       "    <tr>\n",
       "      <th>0</th>\n",
       "      <td>3999</td>\n",
       "      <td>1</td>\n",
       "      <td>0</td>\n",
       "    </tr>\n",
       "    <tr>\n",
       "      <th>1</th>\n",
       "      <td>4000</td>\n",
       "      <td>1</td>\n",
       "      <td>0</td>\n",
       "    </tr>\n",
       "    <tr>\n",
       "      <th>2</th>\n",
       "      <td>4001</td>\n",
       "      <td>1</td>\n",
       "      <td>0</td>\n",
       "    </tr>\n",
       "    <tr>\n",
       "      <th>3</th>\n",
       "      <td>3499</td>\n",
       "      <td>-1</td>\n",
       "      <td>-1</td>\n",
       "    </tr>\n",
       "    <tr>\n",
       "      <th>4</th>\n",
       "      <td>3500</td>\n",
       "      <td>-1</td>\n",
       "      <td>-1</td>\n",
       "    </tr>\n",
       "    <tr>\n",
       "      <th>5</th>\n",
       "      <td>3501</td>\n",
       "      <td>-1</td>\n",
       "      <td>-1</td>\n",
       "    </tr>\n",
       "    <tr>\n",
       "      <th>6</th>\n",
       "      <td>2499</td>\n",
       "      <td>0</td>\n",
       "      <td>1</td>\n",
       "    </tr>\n",
       "    <tr>\n",
       "      <th>7</th>\n",
       "      <td>2500</td>\n",
       "      <td>0</td>\n",
       "      <td>1</td>\n",
       "    </tr>\n",
       "    <tr>\n",
       "      <th>8</th>\n",
       "      <td>2501</td>\n",
       "      <td>0</td>\n",
       "      <td>1</td>\n",
       "    </tr>\n",
       "  </tbody>\n",
       "</table>\n",
       "</div>"
      ],
      "text/plain": [
       "   Rent  City_SF  City_Seattle\n",
       "0  3999        1             0\n",
       "1  4000        1             0\n",
       "2  4001        1             0\n",
       "3  3499       -1            -1\n",
       "4  3500       -1            -1\n",
       "5  3501       -1            -1\n",
       "6  2499        0             1\n",
       "7  2500        0             1\n",
       "8  2501        0             1"
      ]
     },
     "execution_count": 19,
     "metadata": {},
     "output_type": "execute_result"
    }
   ],
   "source": [
    "# 将 dummy 编码转成 effective编码.\n",
    "# 注意要设置 dtypes=np.int，因为默认下，get-dummies 得到的编码特征是 np.unit8(无符号整数)，它不能被赋值为负数\n",
    "df_dummy = pd.get_dummies(df, columns=['City'], drop_first=True, dtype=np.int)\n",
    "df_effect = df_dummy.copy()\n",
    "df_effect.loc[((df_effect['City_SF']==0) & (df_effect['City_Seattle']==0)), ['City_SF', 'City_Seattle']] = -1\n",
    "df_effect"
   ]
  },
  {
   "cell_type": "markdown",
   "metadata": {},
   "source": [
    "### 3种编码的优缺点\n",
    "\n",
    "+ one-hot编码\n",
    "  + 优点：分类特征的每个取值都明确对应于一个新特征，并且可以把缺失数据编码为全零向量\n",
    "  + 缺点：分类特征转换成的 k 个新特征之间是线性相关的，导致编码有冗余，可能使得同一个模型有多个解\n",
    "  \n",
    "+ dummy编码\n",
    "  + 优点：编码没有冗余，得到的解通常是唯一的\n",
    "  + 缺点：不太容易处理缺失数据（因为全0向量已经作为参照level了）；每个新特征的系数是参照level的相对值，不那么直观\n",
    "  \n",
    "+ effective编码\n",
    "  + 优点：同dummy编码；参照level使用全为 -1 的向量表示，因此每个新特征的系数\n",
    "  + 缺点：全 -1 的参照level是个密集向量，计算和存储的成本都比较高\n",
    "  \n",
    "> 上述3中编码都**只适用于分类特征的类别数量不多的情况**，如果类别数量很多，上述3中编码方式效率都不高，需要采用其他的方式。"
   ]
  },
  {
   "cell_type": "markdown",
   "metadata": {},
   "source": [
    "### sklearn中的分类特征编码\n",
    "\n",
    "sklearn中提供了如下的类用于实现对分类特征进行编码的操作："
   ]
  },
  {
   "cell_type": "markdown",
   "metadata": {},
   "source": [
    "#### LabelEncoder()\n",
    "\n",
    "目标变量是类别型，需要进行编码.\n",
    "`preprocessing.LabelEncoder()`，这个类适用于对**目标变量**进行序数编码的。   \n",
    "它的使用很简单，没有参数，支持将数值或者字符串编码为从 0 开始的数字"
   ]
  },
  {
   "cell_type": "code",
   "execution_count": 50,
   "metadata": {},
   "outputs": [
    {
     "name": "stdout",
     "output_type": "stream",
     "text": [
      "encoder.classes_:  [1 3 6]\n",
      "encoder.transform(y):  [0 1 2 2]\n",
      "encoder.inverse_transform([2, 0, 1]) :  [6 1 3]\n",
      "-------------------------------------------------\n",
      "encoder.classes_:  ['a' 'b' 'c' 'e']\n",
      "encoder.transform(y):  [0 2 1 3]\n",
      "encoder.inverse_transform([2, 0, 3, 1]) :  ['c' 'a' 'e' 'b']\n"
     ]
    }
   ],
   "source": [
    "from sklearn.preprocessing import LabelEncoder\n",
    "encoder = LabelEncoder()\n",
    "\n",
    "# 目标变量为数字\n",
    "y = [1, 3, 6, 6]\n",
    "encoder.fit(y)\n",
    "print('encoder.classes_: ', encoder.classes_)\n",
    "print('encoder.transform(y): ', encoder.transform(y))\n",
    "print('encoder.inverse_transform([2, 0, 1]) : ', encoder.inverse_transform([2, 0, 1]))\n",
    "\n",
    "print('-------------------------------------------------')\n",
    "# 目标变量为字符串\n",
    "y = ['a', 'c', 'b', 'e']\n",
    "encoder.fit(y)\n",
    "print('encoder.classes_: ', encoder.classes_)\n",
    "print('encoder.transform(y): ', encoder.transform(y))\n",
    "print('encoder.inverse_transform([2, 0, 3, 1]) : ', encoder.inverse_transform([2, 0, 3, 1]))"
   ]
  },
  {
   "cell_type": "markdown",
   "metadata": {},
   "source": [
    "#### OridinalEncoder()\n",
    "\n",
    "分类特征是**有序的**，需要编码成有序数值  \n",
    "`preprocessing.OrdinalEncoder(categories='auto', dtype=<class 'numpy.float64'>, handle_unknown='error', unknown_value=None)`   \n",
    "\n",
    "参数：\n",
    "  + categories: 指定类别，有如下两个选择\n",
    "    + `'auto'`表示自动从数据中获取；\n",
    "    + list of array, 给每个特征单独指定取值类别\n",
    "  + handle_unkown: 如何处理未知的值，有如下两种选择\n",
    "    + `'error'`，遇到未知值则抛出异常\n",
    "    + `'use_encoded_value'`，将所有未知的值设置为`unknow_value`参数指定的值\n",
    "  + unknow_value: 未知类别的默认值，int或者np.nan    \n",
    "  \n",
    "属性：\n",
    "  + categories_：list of array ，每个特征的类别\n",
    "  + n_features_in_: int，特征的数目\n",
    "  + features_name_in_"
   ]
  },
  {
   "cell_type": "code",
   "execution_count": 66,
   "metadata": {},
   "outputs": [
    {
     "name": "stdout",
     "output_type": "stream",
     "text": [
      "enc.categories_:  [array(['Female', 'Male'], dtype=object), array(['a', 'b', 'c'], dtype=object)]\n"
     ]
    },
    {
     "data": {
      "text/plain": [
       "array([[0., 2.],\n",
       "       [1., 0.]])"
      ]
     },
     "metadata": {},
     "output_type": "display_data"
    },
    {
     "data": {
      "text/plain": [
       "array([['Male', 'a'],\n",
       "       ['Female', 'b']], dtype=object)"
      ]
     },
     "metadata": {},
     "output_type": "display_data"
    }
   ],
   "source": [
    "from sklearn.preprocessing import OrdinalEncoder\n",
    "\n",
    "X = [['Male', 'a'], ['Female', 'c'], ['Female', 'b']]\n",
    "\n",
    "enc = OrdinalEncoder()\n",
    "enc.fit(X)\n",
    "\n",
    "print('enc.categories_: ', enc.categories_)\n",
    "\n",
    "display(enc.transform([['Female', 'c'], ['Male', 'a']]))\n",
    "\n",
    "display(enc.inverse_transform([[1, 0], [0, 1]]))"
   ]
  },
  {
   "cell_type": "code",
   "execution_count": 67,
   "metadata": {},
   "outputs": [
    {
     "name": "stdout",
     "output_type": "stream",
     "text": [
      "enc.categories_:  [array(['Male', 'Female'], dtype=object), array(['c', 'b', 'a'], dtype=object)]\n"
     ]
    },
    {
     "data": {
      "text/plain": [
       "array([[ 1.,  0.],\n",
       "       [ 0.,  2.],\n",
       "       [nan, nan]])"
      ]
     },
     "metadata": {},
     "output_type": "display_data"
    },
    {
     "data": {
      "text/plain": [
       "array([['Female', 'c'],\n",
       "       ['Male', 'b']], dtype=object)"
      ]
     },
     "metadata": {},
     "output_type": "display_data"
    }
   ],
   "source": [
    "enc = OrdinalEncoder(categories=[['Male', 'Female'], ['c', 'b', 'a']], handle_unknown='use_encoded_value', unknown_value=np.nan)\n",
    "enc.fit(X)\n",
    "print('enc.categories_: ', enc.categories_)\n",
    "\n",
    "display(enc.transform([['Female', 'c'], ['Male', 'a'], ['sex', 'e']]))\n",
    "\n",
    "display(enc.inverse_transform([[1, 0], [0, 1]]))"
   ]
  },
  {
   "cell_type": "markdown",
   "metadata": {},
   "source": [
    "#### OneHotEncoder()\n",
    "\n",
    "分类特征仅仅用于区分，没有顺序关系，也就是名义变量，使用 One-Hot 编码  \n",
    "`preprocessing.OneHotEncoder(categories='auto', drop=None, sparse=True, dtype=<class 'numpy.float64'>, handle_unknown='error')`  \n",
    "\n",
    "参数：\n",
    "  + categories: 指定类别，有如下两个选择\n",
    "    + `'auto'`表示自动从数据中获取；\n",
    "    + list of array, 给每个特征单独指定取值类别\n",
    "  + drop: 指定编码方式，有如下选择\n",
    "    + None，保留所有取值，也就是 one-hot 编码\n",
    "    + first，丢弃第一个取值，也就是 dummy 编码。注意，如果该特征只有一个取值，那么整个特征都会被丢弃。\n",
    "    + if_binary，只有在类别数=2时才会丢弃第一个取值，类别数>2时不会丢弃\n",
    "    + array，array[i]指定了第 i 个特征中应当丢弃的取值\n",
    "  + sparse: 是否返回稀疏矩阵，默认是True\n",
    "  + handle_unkown: 如何处理未知的值，有如下两种选择\n",
    "    + `'error'`，遇到未知值则抛出异常\n",
    "    + `'ignore'`，忽略未知值，该未知值会被编码成全0向量；逆变换时，会被转换成None.   \n",
    "\n",
    "属性：\n",
    "  + categories_: list of array，每个特征的编码\n",
    "  + drop_idx: shape=(n_features, )，每个特征被丢弃的取值，有如下两种情况：\n",
    "    + drop_idx=None，表示没有取值被丢弃\n",
    "    + drop_idx[i] 表示第 i 个特征被丢弃的取值，None表示该特征没有被丢弃的值\n",
    "  + n_features_in_: int，特征的数目\n",
    "  + features_name_in_\n",
    "  \n",
    "> 注意，drop=first时，handle_unknow必须为error，此时不能处理未知值的情况。"
   ]
  },
  {
   "cell_type": "code",
   "execution_count": 86,
   "metadata": {},
   "outputs": [
    {
     "name": "stdout",
     "output_type": "stream",
     "text": [
      "enc.categories_:  [array(['Female', 'Male'], dtype=object), array(['a', 'b', 'c'], dtype=object)]\n",
      "enc.drop_idx_:  None\n"
     ]
    }
   ],
   "source": [
    "from sklearn.preprocessing import OneHotEncoder\n",
    "\n",
    "X = [['Male', 'a'], ['Female', 'c'], ['Female', 'b']]\n",
    "\n",
    "enc = OneHotEncoder(sparse=False, handle_unknown='ignore')\n",
    "enc.fit(X)\n",
    "\n",
    "print('enc.categories_: ', enc.categories_)\n",
    "print('enc.drop_idx_: ', enc.drop_idx_)"
   ]
  },
  {
   "cell_type": "code",
   "execution_count": 87,
   "metadata": {},
   "outputs": [
    {
     "data": {
      "text/plain": [
       "array([[0., 1., 1., 0., 0.],\n",
       "       [1., 0., 0., 0., 1.],\n",
       "       [1., 0., 0., 1., 0.]])"
      ]
     },
     "metadata": {},
     "output_type": "display_data"
    },
    {
     "data": {
      "text/plain": [
       "array([[1., 0., 0., 0., 1.],\n",
       "       [0., 1., 0., 0., 0.]])"
      ]
     },
     "metadata": {},
     "output_type": "display_data"
    },
    {
     "data": {
      "text/plain": [
       "array([['Female', 'a'],\n",
       "       ['Male', 'b'],\n",
       "       ['Male', None]], dtype=object)"
      ]
     },
     "metadata": {},
     "output_type": "display_data"
    }
   ],
   "source": [
    "# 一共 2 个特征，第一个特征类别数=2，第二个特征类别数=3，one-hot编码之后的特征数为 2+3=5\n",
    "display(enc.transform(X))\n",
    "\n",
    "# 第2行的 e 对应于未知值，所以全为0\n",
    "display(enc.transform([['Female', 'c'], ['Male', 'e']]))\n",
    "\n",
    "# 逆变换\n",
    "# 其中第 3 行 后面 3 列的 0,0,0 对应于未知值，会被转成None\n",
    "display(enc.inverse_transform([[1, 0, 1, 0, 0], [0, 1, 0, 1, 0], [0, 1, 0, 0, 0]]))"
   ]
  },
  {
   "cell_type": "code",
   "execution_count": 88,
   "metadata": {},
   "outputs": [
    {
     "name": "stdout",
     "output_type": "stream",
     "text": [
      "enc.categories_:  [array(['Female', 'Male'], dtype=object), array(['a', 'b', 'c'], dtype=object)]\n",
      "enc.drop_idx_:  [0 0]\n"
     ]
    }
   ],
   "source": [
    "# 如果使用了 drop=first，就是 dummy 编码\n",
    "enc = OneHotEncoder(sparse=False, drop='first')\n",
    "enc.fit(X)\n",
    "\n",
    "print('enc.categories_: ', enc.categories_)\n",
    "print('enc.drop_idx_: ', enc.drop_idx_)"
   ]
  },
  {
   "cell_type": "code",
   "execution_count": 90,
   "metadata": {},
   "outputs": [
    {
     "data": {
      "text/plain": [
       "array([[1., 0., 0.],\n",
       "       [0., 0., 1.],\n",
       "       [0., 1., 0.]])"
      ]
     },
     "metadata": {},
     "output_type": "display_data"
    }
   ],
   "source": [
    "# 每个特征都丢弃了第一个取值，特征数目就是 (2-1)+(3-1)=3\n",
    "display(enc.transform(X))"
   ]
  },
  {
   "cell_type": "code",
   "execution_count": 93,
   "metadata": {},
   "outputs": [
    {
     "ename": "ValueError",
     "evalue": "Found unknown categories ['e'] in column 1 during transform",
     "output_type": "error",
     "traceback": [
      "\u001b[1;31m---------------------------------------------------------------------------\u001b[0m",
      "\u001b[1;31mValueError\u001b[0m                                Traceback (most recent call last)",
      "\u001b[1;32mC:\\Users\\DANIEL~1\\AppData\\Local\\Temp/ipykernel_35872/3946641389.py\u001b[0m in \u001b[0;36m<module>\u001b[1;34m\u001b[0m\n\u001b[0;32m      1\u001b[0m \u001b[1;31m# 此时不能处理含有 未知值 的情况\u001b[0m\u001b[1;33m\u001b[0m\u001b[1;33m\u001b[0m\u001b[1;33m\u001b[0m\u001b[0m\n\u001b[1;32m----> 2\u001b[1;33m \u001b[0mdisplay\u001b[0m\u001b[1;33m(\u001b[0m\u001b[0menc\u001b[0m\u001b[1;33m.\u001b[0m\u001b[0mtransform\u001b[0m\u001b[1;33m(\u001b[0m\u001b[1;33m[\u001b[0m\u001b[1;33m[\u001b[0m\u001b[1;34m'Female'\u001b[0m\u001b[1;33m,\u001b[0m \u001b[1;34m'c'\u001b[0m\u001b[1;33m]\u001b[0m\u001b[1;33m,\u001b[0m \u001b[1;33m[\u001b[0m\u001b[1;34m'Male'\u001b[0m\u001b[1;33m,\u001b[0m \u001b[1;34m'e'\u001b[0m\u001b[1;33m]\u001b[0m\u001b[1;33m]\u001b[0m\u001b[1;33m)\u001b[0m\u001b[1;33m)\u001b[0m\u001b[1;33m\u001b[0m\u001b[1;33m\u001b[0m\u001b[0m\n\u001b[0m",
      "\u001b[1;32mC:\\Miniconda\\lib\\site-packages\\sklearn\\preprocessing\\_encoders.py\u001b[0m in \u001b[0;36mtransform\u001b[1;34m(self, X)\u001b[0m\n\u001b[0;32m    469\u001b[0m         \u001b[0mcheck_is_fitted\u001b[0m\u001b[1;33m(\u001b[0m\u001b[0mself\u001b[0m\u001b[1;33m)\u001b[0m\u001b[1;33m\u001b[0m\u001b[1;33m\u001b[0m\u001b[0m\n\u001b[0;32m    470\u001b[0m         \u001b[1;31m# validation of X happens in _check_X called by _transform\u001b[0m\u001b[1;33m\u001b[0m\u001b[1;33m\u001b[0m\u001b[1;33m\u001b[0m\u001b[0m\n\u001b[1;32m--> 471\u001b[1;33m         X_int, X_mask = self._transform(X, handle_unknown=self.handle_unknown,\n\u001b[0m\u001b[0;32m    472\u001b[0m                                         force_all_finite='allow-nan')\n\u001b[0;32m    473\u001b[0m \u001b[1;33m\u001b[0m\u001b[0m\n",
      "\u001b[1;32mC:\\Miniconda\\lib\\site-packages\\sklearn\\preprocessing\\_encoders.py\u001b[0m in \u001b[0;36m_transform\u001b[1;34m(self, X, handle_unknown, force_all_finite)\u001b[0m\n\u001b[0;32m    134\u001b[0m                     msg = (\"Found unknown categories {0} in column {1}\"\n\u001b[0;32m    135\u001b[0m                            \" during transform\".format(diff, i))\n\u001b[1;32m--> 136\u001b[1;33m                     \u001b[1;32mraise\u001b[0m \u001b[0mValueError\u001b[0m\u001b[1;33m(\u001b[0m\u001b[0mmsg\u001b[0m\u001b[1;33m)\u001b[0m\u001b[1;33m\u001b[0m\u001b[1;33m\u001b[0m\u001b[0m\n\u001b[0m\u001b[0;32m    137\u001b[0m                 \u001b[1;32melse\u001b[0m\u001b[1;33m:\u001b[0m\u001b[1;33m\u001b[0m\u001b[1;33m\u001b[0m\u001b[0m\n\u001b[0;32m    138\u001b[0m                     \u001b[1;31m# Set the problematic rows to an acceptable value and\u001b[0m\u001b[1;33m\u001b[0m\u001b[1;33m\u001b[0m\u001b[1;33m\u001b[0m\u001b[0m\n",
      "\u001b[1;31mValueError\u001b[0m: Found unknown categories ['e'] in column 1 during transform"
     ]
    }
   ],
   "source": [
    "# 此时不能处理含有 未知值 的情况\n",
    "display(enc.transform([['Female', 'c'], ['Male', 'e']]))"
   ]
  },
  {
   "cell_type": "markdown",
   "metadata": {
    "tags": []
   },
   "source": [
    "## 连续特征的编码\n",
    "\n",
    "\n",
    "### 二值化\n",
    "根据某个阈值，将连续特征转换为0或1。\n",
    "+ `preprocessing.Binarizer(threshold=0.0, copy=True)`  \n",
    "  + 这个类的`.fit()`方法没啥用，只是用于兼容，不会做任何操作"
   ]
  },
  {
   "cell_type": "code",
   "execution_count": 25,
   "metadata": {},
   "outputs": [
    {
     "data": {
      "text/plain": [
       "array([[0, 1, 2],\n",
       "       [3, 4, 5]])"
      ]
     },
     "metadata": {},
     "output_type": "display_data"
    },
    {
     "data": {
      "text/plain": [
       "array([[0, 0, 0],\n",
       "       [1, 1, 1]])"
      ]
     },
     "execution_count": 25,
     "metadata": {},
     "output_type": "execute_result"
    }
   ],
   "source": [
    "from sklearn.preprocessing import Binarizer\n",
    "\n",
    "x = np.arange(6).reshape(2,3)\n",
    "display(x)\n",
    "\n",
    "# 阈值设为 2.5\n",
    "binarizer = Binarizer(threshold=2.5)\n",
    "# binarizer.fit_transform(x)\n",
    "binarizer.transform(x)"
   ]
  },
  {
   "cell_type": "markdown",
   "metadata": {},
   "source": [
    "### 分段 \n",
    "将连续型特征分段取值，类似于频率直方图的操作.\n",
    "+ `preprocessing.KBinsDiscretizer(n_bins=5, encode='onehot', strategy='quantile', dtype=None)`\n",
    "  + n_bins: 分段数；也可以是一个长度=n_features的list of int，用于指定每个特征的分段数\n",
    "  + encode: 编码方式，取值如下：\n",
    "    + one-hot, 返回one-hot编码的**稀疏矩阵**格式\n",
    "    + onehot-dense, 返回正常one-hot编码格式\n",
    "    + ordinal, 使用分段后的序号表示\n",
    "  + strategy: 分段的策略，取值如下：\n",
    "    + uniform, 等距分段\n",
    "    + quantile, 分位数分段，每段中的数据点数一样\n",
    "    + kmeans\n",
    "  + dtype: 输出的类型，只支持np.float32或者np.float64."
   ]
  },
  {
   "cell_type": "code",
   "execution_count": 26,
   "metadata": {},
   "outputs": [
    {
     "data": {
      "text/plain": [
       "KBinsDiscretizer(encode='ordinal', strategy='uniform')"
      ]
     },
     "execution_count": 26,
     "metadata": {},
     "output_type": "execute_result"
    }
   ],
   "source": [
    "from sklearn.preprocessing import KBinsDiscretizer\n",
    "\n",
    "# 这里采用 ordinal 编码方式，分箱策略为 uniform\n",
    "kbin = KBinsDiscretizer(n_bins=5, encode='ordinal',strategy='uniform')\n",
    "X = np.arange(1,11).reshape(-1,1)\n",
    "kbin.fit(X)"
   ]
  },
  {
   "cell_type": "markdown",
   "metadata": {},
   "source": [
    "上述 1 ~ 10 共10个数，分成 5 箱，采用 uniform 策略，使每箱之间的间隔相等，得到的每箱宽度就是 (10 - 1) / 5 = 1.8，区间是左闭右开的，但是开头和末尾的两个点除外。  \n",
    "\n",
    "实际得到的区间是 [-inf, 2.8), [2.8, 4.6), [4.6, 6.4), [6.4, 8.2), [8.2, inf)，数值的边界点 1 和 10 只是为了进行逆变换而保留下来的，实际代表的是 -inf 和 inf "
   ]
  },
  {
   "cell_type": "code",
   "execution_count": 34,
   "metadata": {},
   "outputs": [
    {
     "data": {
      "text/plain": [
       "array([array([ 1. ,  2.8,  4.6,  6.4,  8.2, 10. ])], dtype=object)"
      ]
     },
     "metadata": {},
     "output_type": "display_data"
    },
    {
     "data": {
      "text/plain": [
       "array([ 1. ,  2.8,  4.6,  6.4,  8.2, 10. ])"
      ]
     },
     "execution_count": 34,
     "metadata": {},
     "output_type": "execute_result"
    }
   ],
   "source": [
    "# 注意，下面范围是一个array对象，里面的每个元素仍然是一个array——对应于每个特征的bin_edges_\n",
    "display(kbin.bin_edges_)\n",
    "\n",
    "#这里只有一个特征，所以里面只有一个元素\n",
    "kbin.bin_edges_[0]"
   ]
  },
  {
   "cell_type": "markdown",
   "metadata": {},
   "source": [
    "下面是测试不在取值范围的数和边界点的数。\n",
    "\n",
    "虽然bin_edges_的第一个值是1，但是它表示 -inf，所以下面的 0 对应的箱子序号为 0；2.8 是边界点，但是边界是左闭右开的，所以它的箱子序号是 1。"
   ]
  },
  {
   "cell_type": "code",
   "execution_count": 35,
   "metadata": {},
   "outputs": [
    {
     "data": {
      "text/plain": [
       "array([[0.],\n",
       "       [1.],\n",
       "       [4.],\n",
       "       [4.]])"
      ]
     },
     "execution_count": 35,
     "metadata": {},
     "output_type": "execute_result"
    }
   ],
   "source": [
    "X1 = np.array([0, 2.8, 10, 11]).reshape(-1,1)\n",
    "kbin.transform(X1)"
   ]
  },
  {
   "cell_type": "markdown",
   "metadata": {},
   "source": [
    "+ onehot-dense编码"
   ]
  },
  {
   "cell_type": "code",
   "execution_count": 38,
   "metadata": {},
   "outputs": [
    {
     "data": {
      "text/plain": [
       "array([array([-2., -1.,  0.,  1.]), array([1., 2., 3., 4.]),\n",
       "       array([-4., -3., -2., -1.]), array([-1.,  0.,  1.,  2.])],\n",
       "      dtype=object)"
      ]
     },
     "execution_count": 38,
     "metadata": {},
     "output_type": "execute_result"
    }
   ],
   "source": [
    "X = [[-2, 1, -4,   -1],\n",
    "     [-1, 2, -3, -0.5],\n",
    "     [ 0, 3, -2,  0.5],\n",
    "     [ 1, 4, -1,    2]]\n",
    "X = np.array(X)\n",
    "\n",
    "# 编码为onehot-dense\n",
    "kbd = KBinsDiscretizer(n_bins=3, encode='onehot-dense', strategy='uniform')\n",
    "kbd.fit(X)\n",
    "\n",
    "# 每个特征分箱的边界\n",
    "# X有4列，每一列都有一个分箱\n",
    "kbd.bin_edges_"
   ]
  },
  {
   "cell_type": "code",
   "execution_count": 39,
   "metadata": {},
   "outputs": [
    {
     "name": "stdout",
     "output_type": "stream",
     "text": [
      "X_fit.shape:  (4, 12)\n"
     ]
    },
    {
     "data": {
      "text/plain": [
       "array([[1., 0., 0., 1., 0., 0., 1., 0., 0., 1., 0., 0.],\n",
       "       [0., 1., 0., 0., 1., 0., 0., 1., 0., 1., 0., 0.],\n",
       "       [0., 0., 1., 0., 0., 1., 0., 0., 1., 0., 1., 0.],\n",
       "       [0., 0., 1., 0., 0., 1., 0., 0., 1., 0., 0., 1.]])"
      ]
     },
     "execution_count": 39,
     "metadata": {},
     "output_type": "execute_result"
    }
   ],
   "source": [
    "# 原本有4个特征，每个特征分3个箱，使用onehot编码的话，就变成了 4x3=12 个特征\n",
    "X_fit = kbd.transform(X)\n",
    "print('X_fit.shape: ', X_fit.shape)\n",
    "X_fit"
   ]
  },
  {
   "cell_type": "markdown",
   "metadata": {},
   "source": [
    "+ 使用序数编码，特征数不变"
   ]
  },
  {
   "cell_type": "code",
   "execution_count": 41,
   "metadata": {},
   "outputs": [
    {
     "data": {
      "text/plain": [
       "array([array([-2., -1.,  0.,  1.]), array([1., 2., 3., 4.]),\n",
       "       array([-4., -3., -2., -1.]), array([-1.,  0.,  1.,  2.])],\n",
       "      dtype=object)"
      ]
     },
     "metadata": {},
     "output_type": "display_data"
    },
    {
     "name": "stdout",
     "output_type": "stream",
     "text": [
      "X_fit.shape:  (4, 4)\n"
     ]
    },
    {
     "data": {
      "text/plain": [
       "array([[0., 0., 0., 0.],\n",
       "       [1., 1., 1., 0.],\n",
       "       [2., 2., 2., 1.],\n",
       "       [2., 2., 2., 2.]])"
      ]
     },
     "execution_count": 41,
     "metadata": {},
     "output_type": "execute_result"
    }
   ],
   "source": [
    "kbd = KBinsDiscretizer(n_bins=3, encode='ordinal', strategy='uniform')\n",
    "kbd.fit(X)\n",
    "display(kbd.bin_edges_)\n",
    "\n",
    "X_fit = kbd.transform(X)\n",
    "print('X_fit.shape: ', X_fit.shape)\n",
    "X_fit"
   ]
  },
  {
   "cell_type": "markdown",
   "metadata": {},
   "source": [
    "### 连续特征分段的例子\n",
    "\n",
    "下面的例子来自于sklearn的官网文档 [Using KBinsDiscretizer to discretize continuous features](https://scikit-learn.org/stable/auto_examples/preprocessing/plot_discretization.html)，展示了使用`KBinsDiscretizer`将连续特征离散化的作用。"
   ]
  },
  {
   "cell_type": "code",
   "execution_count": 2,
   "metadata": {},
   "outputs": [],
   "source": [
    "from sklearn.linear_model import LinearRegression\n",
    "from sklearn.preprocessing import KBinsDiscretizer\n",
    "from sklearn.tree import DecisionTreeRegressor"
   ]
  },
  {
   "cell_type": "code",
   "execution_count": 16,
   "metadata": {},
   "outputs": [],
   "source": [
    "# construct the dataset\n",
    "rnd = np.random.RandomState(42)\n",
    "X = rnd.uniform(-3, 3, size=100)\n",
    "y = np.sin(X) + rnd.normal(size=len(X)) / 3\n",
    "# X = X.reshape(-1, 1)"
   ]
  },
  {
   "cell_type": "code",
   "execution_count": 23,
   "metadata": {},
   "outputs": [
    {
     "data": {
      "text/plain": [
       "(100, 2)"
      ]
     },
     "execution_count": 23,
     "metadata": {},
     "output_type": "execute_result"
    }
   ],
   "source": [
    "data = np.vstack((X,y)).T\n",
    "data.shape"
   ]
  },
  {
   "cell_type": "code",
   "execution_count": 24,
   "metadata": {},
   "outputs": [],
   "source": [
    "data = pd.DataFrame(data, columns=['x','y'])\n",
    "data.head()"
   ]
  },
  {
   "cell_type": "code",
   "execution_count": 36,
   "metadata": {},
   "outputs": [
    {
     "data": {
      "image/png": "[encoded data removed]",
      "text/plain": [
       "<Figure size 576x288 with 1 Axes>"
      ]
     },
     "metadata": {
      "needs_background": "light"
     },
     "output_type": "display_data"
    }
   ],
   "source": [
    "g = sns.relplot(data=data, x='x', y='y')\n",
    "g.fig.set_size_inches(8,4)"
   ]
  },
  {
   "cell_type": "code",
   "execution_count": 66,
   "metadata": {},
   "outputs": [
    {
     "data": {
      "text/plain": [
       "(100, 10)"
      ]
     },
     "execution_count": 66,
     "metadata": {},
     "output_type": "execute_result"
    }
   ],
   "source": [
    "# transform the dataset with KBinsDiscretizer\n",
    "enc = KBinsDiscretizer(n_bins=10, encode='onehot-dense')\n",
    "X_binned = enc.fit_transform(X.reshape(-1,1))\n",
    "X_binned.shape"
   ]
  },
  {
   "cell_type": "code",
   "execution_count": 67,
   "metadata": {},
   "outputs": [
    {
     "data": {
      "text/plain": [
       "array([[-0.75275929],\n",
       "       [ 2.70428584],\n",
       "       [ 1.39196365],\n",
       "       [ 0.59195091],\n",
       "       [-2.06388816]])"
      ]
     },
     "execution_count": 67,
     "metadata": {},
     "output_type": "execute_result"
    }
   ],
   "source": [
    "X[:5]"
   ]
  },
  {
   "cell_type": "code",
   "execution_count": 68,
   "metadata": {},
   "outputs": [
    {
     "data": {
      "text/plain": [
       "array([-2.9668673 , -2.55299973, -2.0639171 , -1.3945301 , -1.02797432,\n",
       "       -0.21514527,  0.44239288,  1.14612193,  1.63693428,  2.32784522,\n",
       "        2.92132162])"
      ]
     },
     "execution_count": 68,
     "metadata": {},
     "output_type": "execute_result"
    }
   ],
   "source": [
    "enc.bin_edges_[0]"
   ]
  },
  {
   "cell_type": "code",
   "execution_count": 69,
   "metadata": {},
   "outputs": [
    {
     "data": {
      "text/plain": [
       "array([[0., 0., 0., 0., 1., 0., 0., 0., 0., 0.],\n",
       "       [0., 0., 0., 0., 0., 0., 0., 0., 0., 1.],\n",
       "       [0., 0., 0., 0., 0., 0., 0., 1., 0., 0.],\n",
       "       [0., 0., 0., 0., 0., 0., 1., 0., 0., 0.],\n",
       "       [0., 0., 1., 0., 0., 0., 0., 0., 0., 0.]])"
      ]
     },
     "execution_count": 69,
     "metadata": {},
     "output_type": "execute_result"
    }
   ],
   "source": [
    "X_binned[:5,:]"
   ]
  },
  {
   "cell_type": "markdown",
   "metadata": {},
   "source": [
    "+ 使用原始数据建模"
   ]
  },
  {
   "cell_type": "code",
   "execution_count": 70,
   "metadata": {},
   "outputs": [],
   "source": [
    "# predict with original dataset\n",
    "X = X.reshape(-1,1)\n",
    "\n",
    "lr = LinearRegression().fit(X, y)\n",
    "dtr = DecisionTreeRegressor(min_samples_split=3, random_state=0).fit(X, y)"
   ]
  },
  {
   "cell_type": "markdown",
   "metadata": {},
   "source": [
    "+ 使用分箱后的数据建模"
   ]
  },
  {
   "cell_type": "code",
   "execution_count": 71,
   "metadata": {},
   "outputs": [],
   "source": [
    "# predict with transformed dataset\n",
    "lr_bin = LinearRegression().fit(X_binned, y)\n",
    "dtr_bin = DecisionTreeRegressor(min_samples_split=3,random_state=0).fit(X_binned, y)"
   ]
  },
  {
   "cell_type": "markdown",
   "metadata": {},
   "source": [
    "+ 绘图"
   ]
  },
  {
   "cell_type": "code",
   "execution_count": 73,
   "metadata": {},
   "outputs": [
    {
     "data": {
      "image/png": "[encoded data removed]",
      "text/plain": [
       "<Figure size 1080x360 with 2 Axes>"
      ]
     },
     "metadata": {
      "needs_background": "light"
     },
     "output_type": "display_data"
    }
   ],
   "source": [
    "line = np.linspace(-3, 3, 1000, endpoint=False).reshape(-1, 1)\n",
    "line_binned = enc.transform(line)\n",
    "\n",
    "fig, (ax1, ax2) = plt.subplots(ncols=2, sharey=True, figsize=(15, 5))\n",
    "\n",
    "ax1.plot(X[:, 0], y, 'o', c='k')\n",
    "ax1.plot(line, lr.predict(line), linewidth=2, color='green',\n",
    "         label=\"linear regression\")\n",
    "ax1.plot(line, dtr.predict(line), linewidth=2, color='red',\n",
    "         label=\"decision tree\")\n",
    "ax1.legend(loc=\"best\")\n",
    "ax1.set_ylabel(\"Regression output\")\n",
    "ax1.set_xlabel(\"Input feature\")\n",
    "ax1.set_title(\"Result before discretization\")\n",
    "\n",
    "\n",
    "ax2.plot(X[:, 0], y, 'o', c='k')\n",
    "ax2.plot(line, lr_bin.predict(line_binned), linewidth=2, color='green',\n",
    "         linestyle='-', label='linear regression')\n",
    "ax2.plot(line, dtr_bin.predict(line_binned), linewidth=2, color='red',\n",
    "         linestyle=':', label='decision tree')\n",
    "# 绘制分箱的线\n",
    "ax2.vlines(enc.bin_edges_[0], *plt.gca().get_ylim(), linewidth=1, alpha=.2)\n",
    "ax2.legend(loc=\"best\")\n",
    "ax2.set_xlabel(\"Input feature\")\n",
    "ax2.set_title(\"Result after discretization\")\n",
    "\n",
    "plt.tight_layout()"
   ]
  },
  {
   "cell_type": "markdown",
   "metadata": {},
   "source": [
    "使用 分箱+onehot 编码的方式，相当于扩充了特征个数，在更高维度上，数据集更有可能是线性可分的。  \n",
    "但是对于 分箱+ordinal 编码的方式，则不一定。"
   ]
  },
  {
   "cell_type": "markdown",
   "metadata": {},
   "source": [
    "+ 换一种分箱方式"
   ]
  },
  {
   "cell_type": "code",
   "execution_count": 55,
   "metadata": {},
   "outputs": [
    {
     "data": {
      "text/plain": [
       "(100, 1)"
      ]
     },
     "execution_count": 55,
     "metadata": {},
     "output_type": "execute_result"
    }
   ],
   "source": [
    "# transform the dataset with KBinsDiscretizer\n",
    "enc = KBinsDiscretizer(n_bins=10, encode='ordinal')\n",
    "X_binned = enc.fit_transform(X.reshape(-1,1))\n",
    "X_binned.shape"
   ]
  },
  {
   "cell_type": "code",
   "execution_count": 56,
   "metadata": {},
   "outputs": [
    {
     "data": {
      "text/plain": [
       "array([[-0.75275929],\n",
       "       [ 2.70428584],\n",
       "       [ 1.39196365],\n",
       "       [ 0.59195091],\n",
       "       [-2.06388816]])"
      ]
     },
     "execution_count": 56,
     "metadata": {},
     "output_type": "execute_result"
    }
   ],
   "source": [
    "X[:5]"
   ]
  },
  {
   "cell_type": "code",
   "execution_count": 57,
   "metadata": {},
   "outputs": [
    {
     "data": {
      "text/plain": [
       "array([[4.],\n",
       "       [9.],\n",
       "       [7.],\n",
       "       [6.],\n",
       "       [2.]])"
      ]
     },
     "execution_count": 57,
     "metadata": {},
     "output_type": "execute_result"
    }
   ],
   "source": [
    "X_binned[:5,:]"
   ]
  },
  {
   "cell_type": "code",
   "execution_count": 62,
   "metadata": {},
   "outputs": [
    {
     "data": {
      "image/png": "[encoded data removed]",
      "text/plain": [
       "<Figure size 1080x360 with 2 Axes>"
      ]
     },
     "metadata": {
      "needs_background": "light"
     },
     "output_type": "display_data"
    }
   ],
   "source": [
    "# predict with transformed dataset\n",
    "lr_bin = LinearRegression().fit(X_binned, y)\n",
    "dtr_bin = DecisionTreeRegressor(min_samples_split=3,random_state=0).fit(X_binned, y)\n",
    "\n",
    "\n",
    "# 绘图\n",
    "line = np.linspace(-3, 3, 1000, endpoint=False).reshape(-1, 1)\n",
    "line_binned = enc.transform(line)\n",
    "\n",
    "fig, (ax1, ax2) = plt.subplots(ncols=2, sharey=True, figsize=(15, 5))\n",
    "\n",
    "ax1.plot(X[:, 0], y, 'o', c='k')\n",
    "ax1.plot(line, lr.predict(line), linewidth=2, color='green',\n",
    "         label=\"linear regression\")\n",
    "ax1.plot(line, dtr.predict(line), linewidth=2, color='red',\n",
    "         label=\"decision tree\")\n",
    "ax1.legend(loc=\"best\")\n",
    "ax1.set_ylabel(\"Regression output\")\n",
    "ax1.set_xlabel(\"Input feature\")\n",
    "ax1.set_title(\"Result before discretization\")\n",
    "\n",
    "\n",
    "ax2.plot(X[:, 0], y, 'o', c='k')\n",
    "ax2.plot(line, lr_bin.predict(line_binned), linewidth=2, color='green',\n",
    "         linestyle='-', label='linear regression')\n",
    "ax2.plot(line, dtr_bin.predict(line_binned), linewidth=2, color='red',\n",
    "         linestyle=':', label='decision tree')\n",
    "ax2.vlines(enc.bin_edges_[0], *plt.gca().get_ylim(), linewidth=1, alpha=.2)\n",
    "ax2.legend(loc=\"best\")\n",
    "ax2.set_xlabel(\"Input feature\")\n",
    "ax2.set_title(\"Result after discretization\")\n",
    "\n",
    "plt.tight_layout()"
   ]
  },
  {
   "cell_type": "markdown",
   "metadata": {},
   "source": [
    "## 特征压缩\n",
    "\n",
    "当分类特征的取值数量很大时，可以考虑对特征进行压缩，通常会使用如下两种方式：\n",
    "1. 特征散列\n",
    "2. 分箱计数"
   ]
  },
  {
   "cell_type": "markdown",
   "metadata": {},
   "source": [
    "### 特征散列-???"
   ]
  },
  {
   "cell_type": "markdown",
   "metadata": {},
   "source": [
    "### 分箱计数-KEY\n",
    "\n",
    "> 参考《精通特征工程》-> 5.2.2 分箱计数.\n",
    "\n",
    "这里的分箱计数不同于“连续变量的分段”，上述连续变量的分段只是考虑了变量本身，没有考虑目标变量。   \n",
    "\n",
    "而分箱计数的思想是：**不是直接使用分类变量的值作为特征，而是使用目标变量取这个值的`条件概率`。**   \n",
    "换句话说，不是对分类变量的值进行编码，而是计算分类变量值与目标变量之间的相关统计量"
   ]
  },
  {
   "cell_type": "markdown",
   "metadata": {},
   "source": [
    "### 卡方分箱-KEY\n",
    "\n",
    "\n",
    "+ 定义\n",
    "  + 对于**数值型**特征，分箱是将其划分为若干个有限的区间\n",
    "  + 对于**类别型**特征，分箱是将其合并成个数较少的几个类别，针对的是**取值过多的**情况\n",
    "\n",
    "  分箱的目标是：\n",
    "  > **将相似度高的样本划分到同一组**\n",
    "\n",
    "\n",
    "+ 引入分箱的原因\n",
    "  + 提高模型结果的稳定性\n",
    "  + 对于类别型特征，分箱可以显著减少one-hot编码的特征个数\n",
    "\n",
    "\n",
    "+ **卡方分箱法**  \n",
    "  ChiMerge法采取**自底向上不断合并**的方法完成分箱操作，核心思想是：\n",
    "  > 如果相邻两个区间的卡方值是最小的，意味着这两组样本的目标变量分布相似，可以合并\n",
    "\n",
    "  \n",
    "+ 卡方分箱大体步骤如下：\n",
    "\n",
    "  1. 对特征$A$进行数值编码——以便支持排序\n",
    "     + 对于**数值型**和**有序型**特征，它们本身就支持排序，可以跳过此步骤；\n",
    "     + 对于**标称型**的特征，需要将其进行数值编码，以便能进行**排序**——常用的数值编码是对应取值的坏样本率\n",
    "  2. 将特征 $A$ **排序** 后分成区间较多的若干组，设为 $A_1, A_2,..., A_n$\n",
    "  3. 计算相邻两组样本的卡方值\n",
    "  4. 找出上一步中卡方值最小的**相邻**两个组，将其合并成新的一箱\n",
    "  5. 重复2和3，直到满足终止条件。\n",
    "\n",
    "  \n",
    "  常用的终止条件如下：\n",
    "  + 某次合并后，最小卡方值的p值超过 0.9（意味着相邻两个区间的差异已经足够大）\n",
    "  + 某次合并后，总的合并区间到达指定数量\n",
    "\n",
    "\n",
    "+ 卡方分箱中的 **两个难点**  \n",
    "  实际操作中，通常会对卡方分箱的结果有如下两个要求：\n",
    "  1. 每箱同时包含好坏样本\n",
    "  2. 分箱之后，各箱之间的坏样本率单调"
   ]
  },
  {
   "attachments": {
    "255ad20c-2ab6-4e99-942b-ae88510e625f.png": {
     "image/png": "[encoded data removed]"
    }
   },
   "cell_type": "markdown",
   "metadata": {},
   "source": [
    "+ **WOE编码和特征信息值IV**\n",
    "\n",
    "![image.png](attachment:255ad20c-2ab6-4e99-942b-ae88510e625f.png)\n",
    "\n",
    "$WOE_i > 0$ 表示该箱里好样本的比例高于总体平均，也就是坏样本率低于总体平均"
   ]
  },
  {
   "cell_type": "markdown",
   "metadata": {
    "tags": []
   },
   "source": [
    "-----\n",
    "\n",
    "# 特征分布变换\n",
    "\n",
    "这里涉及到的内容是对数据做一些初始变换"
   ]
  },
  {
   "cell_type": "markdown",
   "metadata": {},
   "source": [
    "## 对数变换和指数变换\n",
    "\n",
    "对于分布严重偏斜的**正值数据**，可以通过进行**对数变换**的方式，缓解分布过于偏态的情况 。   \n",
    "\n",
    "**对数函数可以对 $[1, \\inf]$ 大数值的范围进行压缩，对 $[0, 1]$ 这部分小数值的范围进行扩展** 。  \n",
    "\n",
    "通常经过对数变换之后，分布会接近于正态分布.\n",
    "\n",
    "指数变换是个变换族，**对数变换只是它的一个特例**。用统计学术语来说，它们都是**方差稳定化**变换。"
   ]
  },
  {
   "cell_type": "markdown",
   "metadata": {},
   "source": [
    "## Box-Cox变换\n",
    "\n",
    "Box-Cox 变换是更加广义的一个变换，它可以 **将非正态分布的数据（正值）转换成近似正态分布的数据**."
   ]
  },
  {
   "cell_type": "markdown",
   "metadata": {},
   "source": [
    "--------------------\n",
    "\n",
    "# 特征选择\n",
    "\n",
    "> 特征选择技术可以精简掉无用的特征，以降低最终模型的复杂性.  \n",
    "> 它的最终目的是得到一个简约模型，**在不降低预测准确率或对预测准确率影响不大的情况下提高计算速度**。  ——《精通特征工程》"
   ]
  },
  {
   "cell_type": "markdown",
   "metadata": {},
   "source": [
    "## 方差过滤\n",
    "\n",
    "通过特征本身的方差来筛选特征的类。  \n",
    "比如一个特征本身的方差很小，就表示样本在这个特征上基本没有差异，可能特征中的大多数值都一样，甚至整个特征的取值都相同，那这个特征对于样本区分没有什么作用。  \n",
    "所以**无论接下来的特征工程要做什么，都要优先消除方差近似于0的特征**.\n",
    "\n",
    "sklearn中提供了如下类来完成此步骤：   \n",
    "`feature_selection.VarianceThreshold(threshold=0.0)`  \n",
    "\n",
    "+ 参数\n",
    "  + threshold:过滤的方差阈值\n",
    "\n",
    "\n",
    "+ 属性\n",
    "  + variance_: shape=(n_featuers, )，记录了各个特征的方差\n",
    "  + n_features_in_:\n",
    "\n",
    "\n",
    "+ 方法\n",
    "  + get_support(indices=False)，获取过滤的特征   \n",
    "    + indices=False，返回的就是掩码\n",
    "    + indices=True，返回的就是过滤后的特征索引"
   ]
  },
  {
   "cell_type": "code",
   "execution_count": 108,
   "metadata": {},
   "outputs": [
    {
     "data": {
      "text/plain": [
       "array([[0, 1, 0, 3],\n",
       "       [0, 2, 4, 3],\n",
       "       [0, 2, 1, 3]])"
      ]
     },
     "metadata": {},
     "output_type": "display_data"
    },
    {
     "name": "stdout",
     "output_type": "stream",
     "text": [
      "\n",
      "variance_filter.threshold :  0.1\n",
      "\n",
      "variance_filter.variances_ :  [0.         0.22222222 2.88888889 0.        ]\n",
      "\n",
      "variance_filter.get_support(indices=False):  [False  True  True False]\n",
      "\n",
      "variance_filter.get_support(indices=True):  [1 2]\n",
      "\n",
      "X_filter:\n"
     ]
    },
    {
     "data": {
      "text/plain": [
       "array([[1, 0],\n",
       "       [2, 4],\n",
       "       [2, 1]])"
      ]
     },
     "metadata": {},
     "output_type": "display_data"
    },
    {
     "name": "stdout",
     "output_type": "stream",
     "text": [
      "\n",
      "X_filter_inverse:\n"
     ]
    },
    {
     "data": {
      "text/plain": [
       "array([[0, 1, 0, 0],\n",
       "       [0, 2, 4, 0],\n",
       "       [0, 2, 1, 0]])"
      ]
     },
     "metadata": {},
     "output_type": "display_data"
    }
   ],
   "source": [
    "from sklearn.feature_selection import VarianceThreshold\n",
    "\n",
    "X = np.array([[0, 1, 0, 3], [0, 2, 4, 3], [0, 2, 1, 3]])\n",
    "variance_filter = VarianceThreshold(0.1)\n",
    "display(X)\n",
    "\n",
    "# 训练\n",
    "variance_filter.fit(X)\n",
    "\n",
    "# 查看过滤的方差阈值\n",
    "print(\"\\nvariance_filter.threshold : \", variance_filter.threshold)\n",
    "\n",
    "# 查看每个特征的方差\n",
    "print(\"\\nvariance_filter.variances_ : \", variance_filter.variances_)\n",
    "\n",
    "# 查看需要过滤的特征的掩码\n",
    "print(\"\\nvariance_filter.get_support(indices=False): \", variance_filter.get_support(indices=False))\n",
    "\n",
    "# 查看过滤后剩余特征的index\n",
    "print(\"\\nvariance_filter.get_support(indices=True): \", variance_filter.get_support(indices=True))\n",
    "\n",
    "# 转换\n",
    "X_filter = variance_filter.transform(X)\n",
    "print('\\nX_filter:')\n",
    "display(X_filter)\n",
    "\n",
    "# 逆变换，无法还原原来的值，用0代替\n",
    "print('\\nX_filter_inverse:')\n",
    "display(variance_filter.inverse_transform(X_filter))"
   ]
  },
  {
   "cell_type": "markdown",
   "metadata": {
    "tags": []
   },
   "source": [
    "## 相关性过滤-KEY\n",
    "\n",
    "这部分又叫 **单变量过滤**，通常希望选出与标签相关且有意义的特征，因为这样的特征能够为我们提供大量信息。如果特征与标签无关，那只会白白浪费我们的计算内存，可能还会给模型带来噪音。  \n",
    "\n",
    "在sklearn当中，我们有三种常用的方法来评判特征与标签之间的相关性：\n",
    "1. 卡方 $\\chi^2$ 检验   \n",
    "卡方过滤是专门针对**离散型标签（即分类问题）**的相关性过滤。  \n",
    "卡方检验函数`feature_selection.chi2`计算每个**非负特征**和标签之间的卡方统计量，并依照卡方统计量由高到低为特征排名。  \n",
    "\n",
    "\n",
    "2. $F$ 检验  \n",
    "又称ANOVA，方差齐性检验，是用来捕捉每个特征与标签之间 **线性关系** 的过滤方法。  \n",
    "它即可以做回归也可以做分类，因此包含如下两个函数：\n",
    "   + `feature_selection.f_classif`（F检验分类），用于标签是离散型变量的数据\n",
    "   + `feature_selection.f_regression`（F检验回归），用于标签是连续型变量的数据。  \n",
    "\n",
    "   需要注意的是，F检验在数据服从正态分布时效果会非常稳定，因此如果使用F检验过滤，通常会先将数据转换成服从正态分布的方式.\n",
    "\n",
    "3. 互信息  \n",
    "互信息法是用来捕捉每个特征与标签之间的任意关系（包括线性和非线性关系）的过滤方法。  \n",
    "和F检验相似，它既可以做回归也可以做分类，包含两个函数：\n",
    "   + `feature_selection.mutual_info_classif`（互信息分类）\n",
    "   + `feature_selection.mutual_info_regression`（互信息回归）.    \n",
    "   \n",
    "   这两个类的用法和参数都和F检验一模一样，不过**互信息法比F检验更加强大，F检验只能够找出线性关系，而互信息法可以找出任意关系**.   \n",
    "   **互信息法不返回p值或F值类似的统计量，它返回“每个特征与目标之间的互信息量的估计”，这个估计量在[0,1]之间取值，为0则表示两个变量独立，为1则表示两个变量完全相关**."
   ]
  },
  {
   "cell_type": "markdown",
   "metadata": {},
   "source": [
    "上述三种检验方法都需要结合`feature_selection.SelectKBest()`类使用，该类可以输入”评分标准“来选出前K个分数最高的特征，借此除去最可能独立于标签，与我们分类目的无关的特征.\n",
    "\n",
    "\n",
    "`feature_selection.SelectKBest(score_func=<function f_classif>, *, k=10)`——这是类，根据传入的`score_func`计算各个特征的指标，然后选择前k个特征。  \n",
    "+ 参数：\n",
    "  + `score_func`，计算特征指标的函数，需要能接受 X, y两个参数，然后计算对应样本的score\n",
    "  + `k`    \n",
    "+ 返回值\n",
    "  + `scores_`, shape=(n_features, )，各个特征的score\n",
    "  + `pvalues_`, shape=(n_features, )，特征score对应的p值\n",
    "+ 方法\n",
    "  + get_support(indices=False)，获取过滤后的特征：indices=False返回掩码，indices=True返回特征的索引\n",
    "\n",
    "**下面这三个都是函数，不是类**.  \n",
    "\n",
    "1、卡方值  \n",
    "`feature_selection.chi2(X, y)` —— 计算 X 中各个 **非负**特征 和 目标变量 y 的卡方值。  \n",
    "返回值如下：\n",
    "  + `chi`，各个特征的卡方值\n",
    "  + `pval`，每个特征卡方值对应的p值\n",
    "  \n",
    "\n",
    "2、F检验  \n",
    "`feature_selection.f_classif(X, y)` —— 分类；  \n",
    "`feature_selection.f_regression(X, y, *, center=True)` —— 回归 ，`center`为True，就会对 X,y 进行中心化处理.  \n",
    "返回值\n",
    "  + `F`，各个特征的F值\n",
    "  + `pval`，各个特征对应的p值\n",
    "  \n",
    "  \n",
    "3、互信息  \n",
    "`feature_selection.mutual_info_classif(X, y, *, discrete_features='auto', n_neighbors=3, copy=True, random_state=None)` —— 分类  \n",
    "`feature_selection.mutual_info_regression(X, y, *, discrete_features='auto', n_neighbors=3, copy=True, random_state=None)` —— 回归  \n",
    "  + `discrete_features`，用于决定每个特征是连续还是类别变量  \n",
    "  取值为 `{‘auto’, bool, array-like}`, default=’auto’，\n",
    "  + `n_neighbors`，int，用于指定计算互信息的neighbors\n",
    "  + `copy`，布尔值，默认为True. 表示是否在原数组上进行操作  \n",
    "  返回值\n",
    "  + `mi`，各个特征的互信息\n",
    "  \n",
    "  \n",
    "sklearn官方文档提供了一个Demo [Univariate Feature Selection](https://scikit-learn.org/stable/auto_examples/feature_selection/plot_feature_selection.html#sphx-glr-auto-examples-feature-selection-plot-feature-selection-py)."
   ]
  },
  {
   "cell_type": "code",
   "execution_count": 27,
   "metadata": {},
   "outputs": [],
   "source": [
    "from sklearn.feature_selection import SelectKBest, chi2, f_classif, f_regression, mutual_info_classif, mutual_info_regression\n",
    "from sklearn.datasets import load_digits"
   ]
  },
  {
   "cell_type": "code",
   "execution_count": 39,
   "metadata": {},
   "outputs": [
    {
     "data": {
      "text/plain": [
       "(1797, 64)"
      ]
     },
     "metadata": {},
     "output_type": "display_data"
    },
    {
     "data": {
      "text/plain": [
       "(1797,)"
      ]
     },
     "metadata": {},
     "output_type": "display_data"
    }
   ],
   "source": [
    "X, y = load_digits(return_X_y=True)\n",
    "# 下面这个数据集比较大\n",
    "# data = pd.read_csv(\"datasets/Digit-Recognizor.csv\")\n",
    "# X = data.iloc[:, 1:]\n",
    "# y = data.iloc[:, 0]\n",
    "\n",
    "display(X.shape)\n",
    "display(y.shape)"
   ]
  },
  {
   "cell_type": "code",
   "execution_count": 30,
   "metadata": {},
   "outputs": [
    {
     "data": {
      "text/plain": [
       "(1797, 61)"
      ]
     },
     "execution_count": 30,
     "metadata": {},
     "output_type": "execute_result"
    }
   ],
   "source": [
    "# 进行 相关性过滤 之前，必须要先做方差过滤处理\n",
    "variance_filter = VarianceThreshold()\n",
    "X_var_filter = variance_filter.fit_transform(X)\n",
    "X_var_filter.shape"
   ]
  },
  {
   "cell_type": "code",
   "execution_count": 31,
   "metadata": {},
   "outputs": [
    {
     "data": {
      "text/plain": [
       "SelectKBest(k=30, score_func=<function chi2 at 0x000001F3771B29D8>)"
      ]
     },
     "execution_count": 31,
     "metadata": {},
     "output_type": "execute_result"
    }
   ],
   "source": [
    "# 这里选择 30 个特征\n",
    "selector_chi2 = SelectKBest(score_func=chi2, k=30)\n",
    "selector_chi2.fit(X, y)"
   ]
  },
  {
   "cell_type": "code",
   "execution_count": 32,
   "metadata": {},
   "outputs": [
    {
     "data": {
      "text/plain": [
       "array([          nan,  811.90700411, 3501.28249552,  698.9252572 ,\n",
       "        438.52969882, 3879.81925999, 3969.45823205, 1193.5608181 ,\n",
       "         24.79521396, 2953.83108764, 2583.65198939,  388.24205944,\n",
       "        824.69094853, 3676.48924765, 1983.5796061 ,  597.24198237,\n",
       "          8.95886124, 1924.21690377, 2409.27140681, 3556.31594594,\n",
       "       4871.94194551, 4782.19921618, 2155.17378998,  376.76583333,\n",
       "          7.90090158, 2471.82418401, 4515.48149826, 2986.64314847,\n",
       "       3724.09567634, 3208.64686641, 5138.07412439,   35.71270718,\n",
       "                 nan, 5688.25079535, 5262.46646904, 3165.0605867 ,\n",
       "       3231.63943369, 2532.99695611, 3288.81403655,           nan,\n",
       "        142.85082873, 3863.85787901, 6416.0867248 , 5448.25154235,\n",
       "       4079.73153383, 2134.02540236, 4486.34097862,  313.53898127,\n",
       "         70.39927392,  449.72327313, 2801.97224468, 1527.54519627,\n",
       "       1653.15892311, 3073.99803898, 5251.21748723,  683.88227339,\n",
       "          9.15254237,  851.06791492, 3800.2473108 ,  730.92975659,\n",
       "       1859.53966338, 4379.2250408 , 5059.00551511, 2281.32864013])"
      ]
     },
     "execution_count": 32,
     "metadata": {},
     "output_type": "execute_result"
    }
   ],
   "source": [
    "selector_chi2.scores_"
   ]
  },
  {
   "cell_type": "code",
   "execution_count": 33,
   "metadata": {},
   "outputs": [
    {
     "data": {
      "text/plain": [
       "array([            nan, 5.81310493e-169, 0.00000000e+000, 1.17740541e-144,\n",
       "       8.11314242e-089, 0.00000000e+000, 0.00000000e+000, 2.97727113e-251,\n",
       "       3.20626273e-003, 0.00000000e+000, 0.00000000e+000, 4.41344943e-078,\n",
       "       1.02825052e-171, 0.00000000e+000, 0.00000000e+000, 8.18335060e-123,\n",
       "       4.41080315e-001, 0.00000000e+000, 0.00000000e+000, 0.00000000e+000,\n",
       "       0.00000000e+000, 0.00000000e+000, 0.00000000e+000, 1.23435651e-075,\n",
       "       5.44163062e-001, 0.00000000e+000, 0.00000000e+000, 0.00000000e+000,\n",
       "       0.00000000e+000, 0.00000000e+000, 0.00000000e+000, 4.45801029e-005,\n",
       "                   nan, 0.00000000e+000, 0.00000000e+000, 0.00000000e+000,\n",
       "       0.00000000e+000, 0.00000000e+000, 0.00000000e+000,             nan,\n",
       "       2.65875300e-026, 0.00000000e+000, 0.00000000e+000, 0.00000000e+000,\n",
       "       0.00000000e+000, 0.00000000e+000, 0.00000000e+000, 3.49452723e-062,\n",
       "       1.27145348e-011, 3.28604761e-091, 0.00000000e+000, 0.00000000e+000,\n",
       "       0.00000000e+000, 0.00000000e+000, 0.00000000e+000, 2.01600539e-141,\n",
       "       4.23314114e-001, 2.14859356e-177, 0.00000000e+000, 1.54562173e-151,\n",
       "       0.00000000e+000, 0.00000000e+000, 0.00000000e+000, 0.00000000e+000])"
      ]
     },
     "execution_count": 33,
     "metadata": {},
     "output_type": "execute_result"
    }
   ],
   "source": [
    "selector_chi2.pvalues_"
   ]
  },
  {
   "cell_type": "code",
   "execution_count": 38,
   "metadata": {},
   "outputs": [
    {
     "data": {
      "text/plain": [
       "(1797, 30)"
      ]
     },
     "execution_count": 38,
     "metadata": {},
     "output_type": "execute_result"
    }
   ],
   "source": [
    "chi2_features = selector_chi2.transform(X)\n",
    "chi2_features.shape"
   ]
  },
  {
   "cell_type": "markdown",
   "metadata": {},
   "source": [
    "## Embedded嵌入法-KEY\n",
    "\n",
    "嵌入法是一种让算法自己决定使用哪些特征的方法，即特征选择和算法训练同时进行。  \n",
    "在使用嵌入法时，**先使用某些机器学习的算法和模型进行训练，得到各个特征的权值系数，根据权值系数从大到小选择特征**.\n",
    "\n",
    "`feature_selection.SelectFromModel(estimator, *, threshold=None, prefit=False, norm_order=1, max_features=None, importance_getter='auto')`\n",
    "\n",
    "+ 参数\n",
    "  + `estimator`，使用的模型评估器，这个估计器必须要有`.feature_importance_`或者`.coef_`属性，用于评估特征.   \n",
    "    **只要是带`feature_importances_`或者`coef_`属性，或带有l1和l2惩罚项的模型都可以使用**.\n",
    "  + `threshold`，特征重要性的阈值，重要性低于这个阈值的特征都将被删除。  \n",
    "  可以填 string 或者 float：\n",
    "    + string时，可以是`mean`，`median`，表示阈值为所有特征重要性的均值或者中位数；\n",
    "    + float时，直接指定的是阈值.\n",
    "  + `prefit`，默认False.  \n",
    "  如果传入的estimator已经调用过`.fit`方法进行训练了，这里就可以设置为True，此时就不会再对estimator进行训练。否则后续还需要调用`.fit`方式进行训练.\n",
    "  + `norm_order`，尚不清楚如何使用\n",
    "  + `max_features`，表示保留特征的最大个数.\n",
    "  + `importance_getter`\n",
    "\n",
    "\n",
    "+ `SelectFromModel`实例对象的属性\n",
    "  + `estimator_`，基础的估计器\n",
    "  + `threshhold_`，使用的特征重要性阈值\n",
    "\n",
    "\n",
    "\n",
    "+ `SelectFromModel`实例对象的方法\n",
    "  + `.fit(X,y)` 、`.transform(X,y)`或者 `.fit_transform(X,y)` 方法\n",
    "  + `get_support(indices=False)`，获取筛选出来的特征的掩码或者index（indices=True）."
   ]
  },
  {
   "cell_type": "code",
   "execution_count": 42,
   "metadata": {},
   "outputs": [],
   "source": [
    "from sklearn.feature_selection import SelectFromModel\n",
    "from sklearn.ensemble import RandomForestClassifier"
   ]
  },
  {
   "cell_type": "code",
   "execution_count": 45,
   "metadata": {},
   "outputs": [
    {
     "data": {
      "text/plain": [
       "SelectFromModel(estimator=RandomForestClassifier(bootstrap=True, ccp_alpha=0.0,\n",
       "                                                 class_weight=None,\n",
       "                                                 criterion='gini',\n",
       "                                                 max_depth=None,\n",
       "                                                 max_features='auto',\n",
       "                                                 max_leaf_nodes=None,\n",
       "                                                 max_samples=None,\n",
       "                                                 min_impurity_decrease=0.0,\n",
       "                                                 min_impurity_split=None,\n",
       "                                                 min_samples_leaf=1,\n",
       "                                                 min_samples_split=2,\n",
       "                                                 min_weight_fraction_leaf=0.0,\n",
       "                                                 n_estimators=10, n_jobs=None,\n",
       "                                                 oob_score=False,\n",
       "                                                 random_state=None, verbose=0,\n",
       "                                                 warm_start=False),\n",
       "                max_features=None, norm_order=1, prefit=False, threshold=0.005)"
      ]
     },
     "execution_count": 45,
     "metadata": {},
     "output_type": "execute_result"
    }
   ],
   "source": [
    "rfc = RandomForestClassifier(n_estimators=10)\n",
    "# 嵌入法选择特征\n",
    "rfc_embedded = SelectFromModel(estimator=rfc, threshold=0.005)\n",
    "rfc_embedded.fit(X, y)"
   ]
  },
  {
   "cell_type": "code",
   "execution_count": 46,
   "metadata": {},
   "outputs": [],
   "source": [
    "X_embedded = rfc_embedded.transform(X)"
   ]
  },
  {
   "cell_type": "code",
   "execution_count": 47,
   "metadata": {},
   "outputs": [
    {
     "data": {
      "text/plain": [
       "(1797, 64)"
      ]
     },
     "metadata": {},
     "output_type": "display_data"
    },
    {
     "data": {
      "text/plain": [
       "(1797, 44)"
      ]
     },
     "metadata": {},
     "output_type": "display_data"
    }
   ],
   "source": [
    "display(X.shape)\n",
    "display(X_embedded.shape)"
   ]
  },
  {
   "cell_type": "code",
   "execution_count": 50,
   "metadata": {},
   "outputs": [
    {
     "data": {
      "text/plain": [
       "array([ 2,  3,  4,  5,  6,  9, 10, 11, 12, 13, 17, 18, 19, 20, 21, 22, 25,\n",
       "       26, 27, 28, 29, 30, 33, 34, 35, 36, 37, 38, 41, 42, 43, 44, 45, 46,\n",
       "       50, 51, 52, 53, 54, 58, 59, 60, 61, 62], dtype=int64)"
      ]
     },
     "execution_count": 50,
     "metadata": {},
     "output_type": "execute_result"
    }
   ],
   "source": [
    "# 获取被选择的特征的index\n",
    "rfc_embedded.get_support(indices=True)"
   ]
  },
  {
   "cell_type": "code",
   "execution_count": 51,
   "metadata": {},
   "outputs": [
    {
     "data": {
      "text/plain": [
       "RandomForestClassifier(bootstrap=True, ccp_alpha=0.0, class_weight=None,\n",
       "                       criterion='gini', max_depth=None, max_features='auto',\n",
       "                       max_leaf_nodes=None, max_samples=None,\n",
       "                       min_impurity_decrease=0.0, min_impurity_split=None,\n",
       "                       min_samples_leaf=1, min_samples_split=2,\n",
       "                       min_weight_fraction_leaf=0.0, n_estimators=10,\n",
       "                       n_jobs=None, oob_score=False, random_state=None,\n",
       "                       verbose=0, warm_start=False)"
      ]
     },
     "execution_count": 51,
     "metadata": {},
     "output_type": "execute_result"
    }
   ],
   "source": [
    "rfc_embedded.estimator_"
   ]
  },
  {
   "cell_type": "code",
   "execution_count": 52,
   "metadata": {},
   "outputs": [
    {
     "data": {
      "text/plain": [
       "0.005"
      ]
     },
     "execution_count": 52,
     "metadata": {},
     "output_type": "execute_result"
    }
   ],
   "source": [
    "rfc_embedded.threshold_"
   ]
  },
  {
   "cell_type": "markdown",
   "metadata": {},
   "source": [
    "## Wrapper包装法\n",
    "\n",
    "包装法也是一个特征选择和算法训练同时进行的方法，与嵌入法十分相似，它也是依赖于算法自身的选择，比如coef_属性或feature_importances_属性来完成特征选择。  \n",
    "但不同的是，包装法**往往使用一个目标函数作为黑盒来帮助我们选取特征，而不是自己输入某个评估指标或统计量的阈值**。  \n",
    "包装法的步骤如下：\n",
    "1. 在初始特征集上训练评估器，并且通过 `coef_` 属性或通过 `feature_importances_` 属性获得每个特征的重要性\n",
    "2. 从当前的一组特征中修剪最不重要的特征\n",
    "3. 在修剪过特征之后的特征集上再次进行1、2中的评估\n",
    "4. 直到减小至设置的特征数量.\n",
    "\n",
    "包装法和嵌入法的区别在于：**嵌入法一次训练即可，包装法要不断的减少特征子集并进行多次训练，所以包装法的计算成本很大**.\n",
    "\n",
    "sklearn中的包装法主要是RFE方法——Recursive Feature Elimination.\n",
    "+ `feature_selection.RFE(estimator, *, n_features_to_select=None, step=1, verbose=0, importance_getter='auto')`\n",
    "  + `estimator`，使用的模型评估器，这个估计器必须要有`.feature_importance_`或者`.coef_`属性，用于评估特征\n",
    "  + `n_features_to_select`，最终留下的特征数量，可以是：\n",
    "    + `int`，直接指定留下的特征数\n",
    "    + `float`，$[0, 1]$ 之间，表示留下的特征比例.\n",
    "  + `step`，每一步中需要消除的特征个数\n",
    "    + `int`，直接是特征个数\n",
    "    + `float`，$[0, 1]$ 之间，每一步中消除的特征比例.\n",
    "  + `importance_getter`\n",
    "  \n",
    "+ `RFE`实例对象的属性：\n",
    "  + `estimator_`\n",
    "  + `n_features_`\n",
    "  + `ranking_`\n",
    "  + `support_`\n",
    "  \n",
    "+ `RFE`实例对象的方法：\n",
    "  + `fit`、`transform` 和 `fit_transform` 方法\n",
    "  + `get_support_(indice=False)`，获取筛选出来的特征\n",
    "  + `decision_function(X)`，\n",
    "  + `predict(X)`\n",
    "  + `predict_proba(X)`\n",
    "  + `predict_log_proba(X)`"
   ]
  },
  {
   "cell_type": "code",
   "execution_count": 53,
   "metadata": {},
   "outputs": [],
   "source": [
    "from sklearn.feature_selection import RFE"
   ]
  },
  {
   "cell_type": "code",
   "execution_count": 55,
   "metadata": {},
   "outputs": [
    {
     "data": {
      "text/plain": [
       "RFE(estimator=RandomForestClassifier(bootstrap=True, ccp_alpha=0.0,\n",
       "                                     class_weight=None, criterion='gini',\n",
       "                                     max_depth=None, max_features='auto',\n",
       "                                     max_leaf_nodes=None, max_samples=None,\n",
       "                                     min_impurity_decrease=0.0,\n",
       "                                     min_impurity_split=None,\n",
       "                                     min_samples_leaf=1, min_samples_split=2,\n",
       "                                     min_weight_fraction_leaf=0.0,\n",
       "                                     n_estimators=10, n_jobs=None,\n",
       "                                     oob_score=False, random_state=None,\n",
       "                                     verbose=0, warm_start=False),\n",
       "    n_features_to_select=40, step=2, verbose=0)"
      ]
     },
     "execution_count": 55,
     "metadata": {},
     "output_type": "execute_result"
    }
   ],
   "source": [
    "rfc = RandomForestClassifier(n_estimators=10)\n",
    "# 嵌入法选择特征\n",
    "rfc_rfe = RFE(estimator=rfc, n_features_to_select=40, step=2)\n",
    "rfc_rfe.fit(X, y)"
   ]
  },
  {
   "cell_type": "code",
   "execution_count": 56,
   "metadata": {},
   "outputs": [],
   "source": [
    "X_rfc = rfc_rfe.transform(X)"
   ]
  },
  {
   "cell_type": "code",
   "execution_count": 57,
   "metadata": {},
   "outputs": [
    {
     "data": {
      "text/plain": [
       "(1797, 40)"
      ]
     },
     "execution_count": 57,
     "metadata": {},
     "output_type": "execute_result"
    }
   ],
   "source": [
    "X_rfc.shape"
   ]
  },
  {
   "cell_type": "code",
   "execution_count": 58,
   "metadata": {},
   "outputs": [
    {
     "data": {
      "text/plain": [
       "array([ 2,  3,  4,  5,  9, 10, 11, 12, 13, 17, 18, 19, 20, 21, 25, 26, 27,\n",
       "       28, 29, 30, 33, 34, 35, 36, 37, 38, 42, 43, 44, 45, 46, 50, 51, 52,\n",
       "       53, 54, 58, 60, 61, 62], dtype=int64)"
      ]
     },
     "execution_count": 58,
     "metadata": {},
     "output_type": "execute_result"
    }
   ],
   "source": [
    "rfc_rfe.get_support(indices=True)"
   ]
  },
  {
   "cell_type": "markdown",
   "metadata": {},
   "source": [
    "--------------------\n",
    "\n",
    "# 特征降维"
   ]
  },
  {
   "cell_type": "code",
   "execution_count": 60,
   "metadata": {},
   "outputs": [],
   "source": [
    "import numpy as np\n",
    "import pandas as pd\n",
    "import matplotlib.pyplot as plt\n",
    "from sklearn.datasets import load_iris\n",
    "from sklearn.decomposition import PCA"
   ]
  },
  {
   "cell_type": "code",
   "execution_count": 61,
   "metadata": {},
   "outputs": [
    {
     "data": {
      "text/plain": [
       "dict_keys(['data', 'target', 'target_names', 'DESCR', 'feature_names', 'filename'])"
      ]
     },
     "metadata": {},
     "output_type": "display_data"
    },
    {
     "name": "stdout",
     "output_type": "stream",
     "text": [
      "['sepal length (cm)', 'sepal width (cm)', 'petal length (cm)', 'petal width (cm)']\n"
     ]
    }
   ],
   "source": [
    "iris = load_iris()\n",
    "display(iris.keys())\n",
    "print(iris.feature_names)"
   ]
  },
  {
   "cell_type": "code",
   "execution_count": 63,
   "metadata": {},
   "outputs": [
    {
     "data": {
      "text/plain": [
       "(150, 4)"
      ]
     },
     "metadata": {},
     "output_type": "display_data"
    },
    {
     "data": {
      "text/plain": [
       "(150,)"
      ]
     },
     "metadata": {},
     "output_type": "display_data"
    },
    {
     "data": {
      "text/html": [
       "<div>\n",
       "<style scoped>\n",
       "    .dataframe tbody tr th:only-of-type {\n",
       "        vertical-align: middle;\n",
       "    }\n",
       "\n",
       "    .dataframe tbody tr th {\n",
       "        vertical-align: top;\n",
       "    }\n",
       "\n",
       "    .dataframe thead th {\n",
       "        text-align: right;\n",
       "    }\n",
       "</style>\n",
       "<table border=\"1\" class=\"dataframe\">\n",
       "  <thead>\n",
       "    <tr style=\"text-align: right;\">\n",
       "      <th></th>\n",
       "      <th>sepal length (cm)</th>\n",
       "      <th>sepal width (cm)</th>\n",
       "      <th>petal length (cm)</th>\n",
       "      <th>petal width (cm)</th>\n",
       "    </tr>\n",
       "  </thead>\n",
       "  <tbody>\n",
       "    <tr>\n",
       "      <th>0</th>\n",
       "      <td>5.1</td>\n",
       "      <td>3.5</td>\n",
       "      <td>1.4</td>\n",
       "      <td>0.2</td>\n",
       "    </tr>\n",
       "    <tr>\n",
       "      <th>1</th>\n",
       "      <td>4.9</td>\n",
       "      <td>3.0</td>\n",
       "      <td>1.4</td>\n",
       "      <td>0.2</td>\n",
       "    </tr>\n",
       "    <tr>\n",
       "      <th>2</th>\n",
       "      <td>4.7</td>\n",
       "      <td>3.2</td>\n",
       "      <td>1.3</td>\n",
       "      <td>0.2</td>\n",
       "    </tr>\n",
       "    <tr>\n",
       "      <th>3</th>\n",
       "      <td>4.6</td>\n",
       "      <td>3.1</td>\n",
       "      <td>1.5</td>\n",
       "      <td>0.2</td>\n",
       "    </tr>\n",
       "    <tr>\n",
       "      <th>4</th>\n",
       "      <td>5.0</td>\n",
       "      <td>3.6</td>\n",
       "      <td>1.4</td>\n",
       "      <td>0.2</td>\n",
       "    </tr>\n",
       "  </tbody>\n",
       "</table>\n",
       "</div>"
      ],
      "text/plain": [
       "   sepal length (cm)  sepal width (cm)  petal length (cm)  petal width (cm)\n",
       "0                5.1               3.5                1.4               0.2\n",
       "1                4.9               3.0                1.4               0.2\n",
       "2                4.7               3.2                1.3               0.2\n",
       "3                4.6               3.1                1.5               0.2\n",
       "4                5.0               3.6                1.4               0.2"
      ]
     },
     "execution_count": 63,
     "metadata": {},
     "output_type": "execute_result"
    }
   ],
   "source": [
    "X = pd.DataFrame(iris.data, columns=iris.feature_names)\n",
    "y = iris.target\n",
    "display(X.shape)\n",
    "display(y.shape)\n",
    "X.head()"
   ]
  },
  {
   "cell_type": "markdown",
   "metadata": {},
   "source": [
    "## PCA降维"
   ]
  },
  {
   "cell_type": "code",
   "execution_count": 64,
   "metadata": {},
   "outputs": [
    {
     "data": {
      "text/plain": [
       "PCA(copy=True, iterated_power='auto', n_components=2, random_state=None,\n",
       "    svd_solver='auto', tol=0.0, whiten=False)"
      ]
     },
     "execution_count": 64,
     "metadata": {},
     "output_type": "execute_result"
    }
   ],
   "source": [
    "pca = PCA(n_components=2)\n",
    "pca.fit(X)"
   ]
  },
  {
   "cell_type": "code",
   "execution_count": 66,
   "metadata": {},
   "outputs": [
    {
     "data": {
      "text/plain": [
       "(150, 2)"
      ]
     },
     "execution_count": 66,
     "metadata": {},
     "output_type": "execute_result"
    }
   ],
   "source": [
    "X_rd = pca.transform(X)\n",
    "X_rd.shape"
   ]
  },
  {
   "cell_type": "code",
   "execution_count": 67,
   "metadata": {},
   "outputs": [
    {
     "data": {
      "text/plain": [
       "array([0, 1, 2])"
      ]
     },
     "execution_count": 67,
     "metadata": {},
     "output_type": "execute_result"
    }
   ],
   "source": [
    "np.unique(y)"
   ]
  },
  {
   "cell_type": "markdown",
   "metadata": {},
   "source": [
    "绘制降维后的图像"
   ]
  },
  {
   "cell_type": "code",
   "execution_count": 68,
   "metadata": {},
   "outputs": [
    {
     "data": {
      "text/plain": [
       "Text(0.5, 1.0, 'PCA of iris data')"
      ]
     },
     "execution_count": 68,
     "metadata": {},
     "output_type": "execute_result"
    },
    {
     "data": {
      "image/png": "[encoded data removed]",
      "text/plain": [
       "<Figure size 432x288 with 1 Axes>"
      ]
     },
     "metadata": {
      "needs_background": "light"
     },
     "output_type": "display_data"
    }
   ],
   "source": [
    "colors = ['red','blue','orange']\n",
    "plt.figure()\n",
    "for y_value in np.unique(y):\n",
    "    plt.scatter(X_rd[y == y_value,0], X_rd[y == y_value, 1], alpha=0.6, c=colors[y_value], label = iris.target_names[y_value])\n",
    "plt.legend()\n",
    "plt.title(\"PCA of iris data\")"
   ]
  },
  {
   "cell_type": "code",
   "execution_count": 69,
   "metadata": {},
   "outputs": [
    {
     "data": {
      "text/plain": [
       "array([4.22824171, 0.24267075])"
      ]
     },
     "execution_count": 69,
     "metadata": {},
     "output_type": "execute_result"
    }
   ],
   "source": [
    "# 查看前n个主成分的方差\n",
    "pca.explained_variance_"
   ]
  },
  {
   "cell_type": "code",
   "execution_count": 70,
   "metadata": {},
   "outputs": [
    {
     "data": {
      "text/plain": [
       "array([0.92461872, 0.05306648])"
      ]
     },
     "execution_count": 70,
     "metadata": {},
     "output_type": "execute_result"
    }
   ],
   "source": [
    "pca.explained_variance_ratio_"
   ]
  },
  {
   "cell_type": "code",
   "execution_count": 71,
   "metadata": {},
   "outputs": [
    {
     "data": {
      "text/plain": [
       "array([[ 0.36138659, -0.08452251,  0.85667061,  0.3582892 ],\n",
       "       [ 0.65658877,  0.73016143, -0.17337266, -0.07548102]])"
      ]
     },
     "execution_count": 71,
     "metadata": {},
     "output_type": "execute_result"
    }
   ],
   "source": [
    "# 查看两个主成分\n",
    "# 2行对应于提取出的两个主成分，4对应于原有的4个特征\n",
    "pca.components_"
   ]
  },
  {
   "cell_type": "code",
   "execution_count": 72,
   "metadata": {},
   "outputs": [
    {
     "data": {
      "text/plain": [
       "(2, 4)"
      ]
     },
     "execution_count": 72,
     "metadata": {},
     "output_type": "execute_result"
    }
   ],
   "source": [
    "pca.components_.shape"
   ]
  },
  {
   "cell_type": "markdown",
   "metadata": {},
   "source": [
    "### 利用PCA降维探索人脸数据集"
   ]
  },
  {
   "cell_type": "code",
   "execution_count": 73,
   "metadata": {},
   "outputs": [
    {
     "name": "stderr",
     "output_type": "stream",
     "text": [
      "Downloading LFW metadata: https://ndownloader.figshare.com/files/5976012\n",
      "Downloading LFW metadata: https://ndownloader.figshare.com/files/5976009\n",
      "Downloading LFW metadata: https://ndownloader.figshare.com/files/5976006\n",
      "Downloading LFW data (~200MB): https://ndownloader.figshare.com/files/5976015\n"
     ]
    }
   ],
   "source": [
    "from sklearn.datasets import fetch_lfw_people\n",
    "faces = fetch_lfw_people(min_faces_per_person=60)"
   ]
  },
  {
   "cell_type": "code",
   "execution_count": 36,
   "metadata": {},
   "outputs": [
    {
     "data": {
      "text/plain": [
       "sklearn.utils.Bunch"
      ]
     },
     "execution_count": 36,
     "metadata": {},
     "output_type": "execute_result"
    }
   ],
   "source": [
    "type(faces)"
   ]
  },
  {
   "cell_type": "code",
   "execution_count": 37,
   "metadata": {},
   "outputs": [
    {
     "data": {
      "text/plain": [
       "dict_keys(['data', 'images', 'target', 'target_names', 'DESCR'])"
      ]
     },
     "execution_count": 37,
     "metadata": {},
     "output_type": "execute_result"
    }
   ],
   "source": [
    "faces.keys()"
   ]
  },
  {
   "cell_type": "markdown",
   "metadata": {},
   "source": [
    "faces里是1348张人脸图片，存储在images里，每张图片是62*47个像素大小\n",
    "data里有1348行，对应于1348张图片，每张图片在这里被拉成了一个行向量"
   ]
  },
  {
   "cell_type": "code",
   "execution_count": 39,
   "metadata": {},
   "outputs": [
    {
     "data": {
      "text/plain": [
       "(1348, 2914)"
      ]
     },
     "execution_count": 39,
     "metadata": {},
     "output_type": "execute_result"
    }
   ],
   "source": [
    "faces.data.shape"
   ]
  },
  {
   "cell_type": "code",
   "execution_count": 41,
   "metadata": {},
   "outputs": [
    {
     "data": {
      "text/plain": [
       "(1348, 62, 47)"
      ]
     },
     "execution_count": 41,
     "metadata": {},
     "output_type": "execute_result"
    }
   ],
   "source": [
    "faces.images.shape"
   ]
  },
  {
   "cell_type": "markdown",
   "metadata": {},
   "source": [
    "可视化原有图像"
   ]
  },
  {
   "cell_type": "code",
   "execution_count": 43,
   "metadata": {},
   "outputs": [
    {
     "data": {
      "image/png": "[encoded data removed]",
      "text/plain": [
       "<Figure size 576x288 with 20 Axes>"
      ]
     },
     "metadata": {},
     "output_type": "display_data"
    }
   ],
   "source": [
    "fig, axes = plt.subplots( nrows=4, ncols=5, figsize = (8,4), subplot_kw={\"xticks\":[], \"yticks\":[]})\n",
    "for i, ax in enumerate(axes.flat):\n",
    "    ax.imshow(faces.images[i,:,:], cmap = 'gray')"
   ]
  },
  {
   "cell_type": "markdown",
   "metadata": {},
   "source": [
    "建模降维"
   ]
  },
  {
   "cell_type": "code",
   "execution_count": 54,
   "metadata": {},
   "outputs": [
    {
     "data": {
      "text/plain": [
       "PCA(copy=True, iterated_power='auto', n_components=150, random_state=None,\n",
       "    svd_solver='auto', tol=0.0, whiten=False)"
      ]
     },
     "execution_count": 54,
     "metadata": {},
     "output_type": "execute_result"
    }
   ],
   "source": [
    "# 原本的数据有2914维（data里的），现在降到150维\n",
    "pca = PCA(n_components=150)\n",
    "pca.fit(faces.data)"
   ]
  },
  {
   "cell_type": "code",
   "execution_count": 80,
   "metadata": {},
   "outputs": [],
   "source": [
    "components = pca.components_\n",
    "data_rd = pca.transform(faces.data)\n",
    "data_reverse = pca.inverse_transform(data_rd)"
   ]
  },
  {
   "cell_type": "code",
   "execution_count": 81,
   "metadata": {},
   "outputs": [
    {
     "data": {
      "text/plain": [
       "(1348, 2914)"
      ]
     },
     "execution_count": 81,
     "metadata": {},
     "output_type": "execute_result"
    }
   ],
   "source": [
    "faces.data.shape"
   ]
  },
  {
   "cell_type": "code",
   "execution_count": 82,
   "metadata": {},
   "outputs": [
    {
     "data": {
      "text/plain": [
       "(150, 2914)"
      ]
     },
     "execution_count": 82,
     "metadata": {},
     "output_type": "execute_result"
    }
   ],
   "source": [
    "components.shape"
   ]
  },
  {
   "cell_type": "code",
   "execution_count": 83,
   "metadata": {},
   "outputs": [
    {
     "data": {
      "text/plain": [
       "(1348, 150)"
      ]
     },
     "execution_count": 83,
     "metadata": {},
     "output_type": "execute_result"
    }
   ],
   "source": [
    "data_rd.shape"
   ]
  },
  {
   "cell_type": "code",
   "execution_count": 84,
   "metadata": {},
   "outputs": [
    {
     "data": {
      "text/plain": [
       "(1348, 2914)"
      ]
     },
     "execution_count": 84,
     "metadata": {},
     "output_type": "execute_result"
    }
   ],
   "source": [
    "data_reverse.shape"
   ]
  },
  {
   "cell_type": "code",
   "execution_count": 79,
   "metadata": {},
   "outputs": [
    {
     "data": {
      "image/png": "[encoded data removed]",
      "text/plain": [
       "<Figure size 576x288 with 20 Axes>"
      ]
     },
     "metadata": {},
     "output_type": "display_data"
    }
   ],
   "source": [
    "fig, axes = plt.subplots( nrows=4, ncols=5, figsize = (8,4), subplot_kw={\"xticks\":[], \"yticks\":[]})\n",
    "for i, ax in enumerate(axes.flat):\n",
    "    ax.imshow(components[i,:].reshape(62,47), cmap = 'gray')"
   ]
  },
  {
   "cell_type": "code",
   "execution_count": 85,
   "metadata": {},
   "outputs": [
    {
     "data": {
      "image/png": "[encoded data removed]",
      "text/plain": [
       "<Figure size 576x288 with 20 Axes>"
      ]
     },
     "metadata": {},
     "output_type": "display_data"
    }
   ],
   "source": [
    "fig, axes = plt.subplots( nrows=4, ncols=5, figsize = (8,4), subplot_kw={\"xticks\":[], \"yticks\":[]})\n",
    "for i, ax in enumerate(axes.flat):\n",
    "    ax.imshow(data_reverse[i,:].reshape(62,47), cmap = 'gray')"
   ]
  },
  {
   "cell_type": "markdown",
   "metadata": {},
   "source": [
    "## T-SNE"
   ]
  },
  {
   "cell_type": "code",
   "execution_count": 52,
   "metadata": {},
   "outputs": [
    {
     "name": "stderr",
     "output_type": "stream",
     "text": [
      "C:\\Users\\cm\\Anaconda3\\lib\\importlib\\_bootstrap.py:219: RuntimeWarning: numpy.ufunc size changed, may indicate binary incompatibility. Expected 192 from C header, got 216 from PyObject\n",
      "  return f(*args, **kwds)\n"
     ]
    }
   ],
   "source": [
    "import numpy as np\n",
    "import pandas as pd\n",
    "import seaborn as sns\n",
    "\n",
    "from sklearn.datasets import load_iris\n",
    "from sklearn.manifold import TSNE"
   ]
  },
  {
   "cell_type": "code",
   "execution_count": 32,
   "metadata": {},
   "outputs": [],
   "source": [
    "iris = load_iris()\n",
    "data = pd.DataFrame(iris.data,columns=iris.feature_names)"
   ]
  },
  {
   "cell_type": "code",
   "execution_count": 71,
   "metadata": {},
   "outputs": [],
   "source": [
    "tsne = TSNE(n_components=2)\n",
    "df_trans = tsne.fit_transform(data)"
   ]
  },
  {
   "cell_type": "code",
   "execution_count": 72,
   "metadata": {},
   "outputs": [
    {
     "data": {
      "text/plain": [
       "(150, 2)"
      ]
     },
     "execution_count": 72,
     "metadata": {},
     "output_type": "execute_result"
    }
   ],
   "source": [
    "df_trans.shape"
   ]
  },
  {
   "cell_type": "code",
   "execution_count": 130,
   "metadata": {},
   "outputs": [],
   "source": [
    "data_trans = pd.DataFrame(np.hstack((df_trans, iris.target.reshape(-1,1))), columns=['x','y','category'])"
   ]
  },
  {
   "cell_type": "code",
   "execution_count": 131,
   "metadata": {},
   "outputs": [
    {
     "data": {
      "text/plain": [
       "(150, 3)"
      ]
     },
     "execution_count": 131,
     "metadata": {},
     "output_type": "execute_result"
    }
   ],
   "source": [
    "data_trans.shape"
   ]
  },
  {
   "cell_type": "code",
   "execution_count": 132,
   "metadata": {},
   "outputs": [
    {
     "data": {
      "text/html": [
       "<div>\n",
       "<style scoped>\n",
       "    .dataframe tbody tr th:only-of-type {\n",
       "        vertical-align: middle;\n",
       "    }\n",
       "\n",
       "    .dataframe tbody tr th {\n",
       "        vertical-align: top;\n",
       "    }\n",
       "\n",
       "    .dataframe thead th {\n",
       "        text-align: right;\n",
       "    }\n",
       "</style>\n",
       "<table border=\"1\" class=\"dataframe\">\n",
       "  <thead>\n",
       "    <tr style=\"text-align: right;\">\n",
       "      <th></th>\n",
       "      <th>x</th>\n",
       "      <th>y</th>\n",
       "      <th>category</th>\n",
       "    </tr>\n",
       "  </thead>\n",
       "  <tbody>\n",
       "    <tr>\n",
       "      <th>0</th>\n",
       "      <td>-22.406197</td>\n",
       "      <td>10.156743</td>\n",
       "      <td>0.0</td>\n",
       "    </tr>\n",
       "    <tr>\n",
       "      <th>1</th>\n",
       "      <td>-20.005274</td>\n",
       "      <td>9.633954</td>\n",
       "      <td>0.0</td>\n",
       "    </tr>\n",
       "    <tr>\n",
       "      <th>2</th>\n",
       "      <td>-19.642643</td>\n",
       "      <td>10.316407</td>\n",
       "      <td>0.0</td>\n",
       "    </tr>\n",
       "    <tr>\n",
       "      <th>3</th>\n",
       "      <td>-19.413977</td>\n",
       "      <td>10.521431</td>\n",
       "      <td>0.0</td>\n",
       "    </tr>\n",
       "    <tr>\n",
       "      <th>4</th>\n",
       "      <td>-22.438202</td>\n",
       "      <td>10.598161</td>\n",
       "      <td>0.0</td>\n",
       "    </tr>\n",
       "  </tbody>\n",
       "</table>\n",
       "</div>"
      ],
      "text/plain": [
       "           x          y  category\n",
       "0 -22.406197  10.156743       0.0\n",
       "1 -20.005274   9.633954       0.0\n",
       "2 -19.642643  10.316407       0.0\n",
       "3 -19.413977  10.521431       0.0\n",
       "4 -22.438202  10.598161       0.0"
      ]
     },
     "execution_count": 132,
     "metadata": {},
     "output_type": "execute_result"
    }
   ],
   "source": [
    "data_trans.head()"
   ]
  },
  {
   "cell_type": "code",
   "execution_count": 133,
   "metadata": {},
   "outputs": [
    {
     "data": {
      "text/plain": [
       "2.0    50\n",
       "1.0    50\n",
       "0.0    50\n",
       "Name: category, dtype: int64"
      ]
     },
     "execution_count": 133,
     "metadata": {},
     "output_type": "execute_result"
    }
   ],
   "source": [
    "data_trans['category'].value_counts()"
   ]
  },
  {
   "cell_type": "code",
   "execution_count": 134,
   "metadata": {},
   "outputs": [],
   "source": [
    "d = dict(zip([0,1,2], list(iris.target_names)))\n",
    "data_trans['category_name'] = data_trans['category'].replace(d)"
   ]
  },
  {
   "cell_type": "code",
   "execution_count": 135,
   "metadata": {},
   "outputs": [
    {
     "data": {
      "text/html": [
       "<div>\n",
       "<style scoped>\n",
       "    .dataframe tbody tr th:only-of-type {\n",
       "        vertical-align: middle;\n",
       "    }\n",
       "\n",
       "    .dataframe tbody tr th {\n",
       "        vertical-align: top;\n",
       "    }\n",
       "\n",
       "    .dataframe thead th {\n",
       "        text-align: right;\n",
       "    }\n",
       "</style>\n",
       "<table border=\"1\" class=\"dataframe\">\n",
       "  <thead>\n",
       "    <tr style=\"text-align: right;\">\n",
       "      <th></th>\n",
       "      <th>x</th>\n",
       "      <th>y</th>\n",
       "      <th>category</th>\n",
       "      <th>category_name</th>\n",
       "    </tr>\n",
       "  </thead>\n",
       "  <tbody>\n",
       "    <tr>\n",
       "      <th>0</th>\n",
       "      <td>-22.406197</td>\n",
       "      <td>10.156743</td>\n",
       "      <td>0.0</td>\n",
       "      <td>setosa</td>\n",
       "    </tr>\n",
       "    <tr>\n",
       "      <th>1</th>\n",
       "      <td>-20.005274</td>\n",
       "      <td>9.633954</td>\n",
       "      <td>0.0</td>\n",
       "      <td>setosa</td>\n",
       "    </tr>\n",
       "    <tr>\n",
       "      <th>2</th>\n",
       "      <td>-19.642643</td>\n",
       "      <td>10.316407</td>\n",
       "      <td>0.0</td>\n",
       "      <td>setosa</td>\n",
       "    </tr>\n",
       "    <tr>\n",
       "      <th>3</th>\n",
       "      <td>-19.413977</td>\n",
       "      <td>10.521431</td>\n",
       "      <td>0.0</td>\n",
       "      <td>setosa</td>\n",
       "    </tr>\n",
       "    <tr>\n",
       "      <th>4</th>\n",
       "      <td>-22.438202</td>\n",
       "      <td>10.598161</td>\n",
       "      <td>0.0</td>\n",
       "      <td>setosa</td>\n",
       "    </tr>\n",
       "  </tbody>\n",
       "</table>\n",
       "</div>"
      ],
      "text/plain": [
       "           x          y  category category_name\n",
       "0 -22.406197  10.156743       0.0        setosa\n",
       "1 -20.005274   9.633954       0.0        setosa\n",
       "2 -19.642643  10.316407       0.0        setosa\n",
       "3 -19.413977  10.521431       0.0        setosa\n",
       "4 -22.438202  10.598161       0.0        setosa"
      ]
     },
     "execution_count": 135,
     "metadata": {},
     "output_type": "execute_result"
    }
   ],
   "source": [
    "data_trans.head()"
   ]
  },
  {
   "cell_type": "code",
   "execution_count": 136,
   "metadata": {},
   "outputs": [
    {
     "data": {
      "text/plain": [
       "<matplotlib.axes._subplots.AxesSubplot at 0x206d2ee2308>"
      ]
     },
     "execution_count": 136,
     "metadata": {},
     "output_type": "execute_result"
    },
    {
     "data": {
      "image/png": "[encoded data removed]",
      "text/plain": [
       "<Figure size 432x288 with 1 Axes>"
      ]
     },
     "metadata": {
      "needs_background": "light"
     },
     "output_type": "display_data"
    }
   ],
   "source": [
    "sns.scatterplot(data=data_trans, x='x',y='y', hue='category_name')"
   ]
  },
  {
   "cell_type": "markdown",
   "metadata": {},
   "source": [
    "--------------------\n",
    "\n",
    "# 特征提取\n",
    "\n",
    "特征提取也是特征工程的一种，不过特征提取涵盖的范围很大，所以这里单独拿出来讲了。\n",
    "\n",
    "下面是sklearn中的特征映射类.  \n",
    "\n",
    "`feature_extraction.DictVectorizer(dtype=<class 'numpy.float64'>, separator='=', sparse=True, sort=True)` .    \n",
    "+ Transforms lists of feature-value mappings to vectors —— 这个类会将lists of mappings (dict-like objects)转换成numpy类型的特征值，list中的每个元素都是一个 feature_name -> feature_value 的键值对.\n",
    "+ 默认以稀疏矩阵的形式存储。   \n",
    "+ 当list的映射元素中，特征的值是string的时候，会使用oneHot编码.\n",
    "\n",
    "类的初始化参数列表：\n",
    "+ `dtype`，特征的值的类型, default=np.float64\n",
    "+ **separator**：string, default=”=”.  对string类型的特征值进行One-Hot编码时，特征名称之间的分割符\n",
    "+ **sparse**：boolean, optional. 是否以稀疏矩阵的形式返回，默认为True.\n",
    "\n",
    "\n",
    "类对象的属性：\n",
    "+ **vocabulary_**：dict, 一个将feature_name映射到特征的indice的字典.\n",
    "+ **feature_names_**：list, 一个包含特征名称的列表.\n",
    "\n",
    "类的重要实例方法：\n",
    "+ `fit(self, X[, y])` Learn a list of feature name -> indices mappings.\n",
    "+ `transform(self, X)` Transform feature->value dicts to array or sparse matrix.\n",
    "+ `fit_transform(self, X[, y])` Learn a list of feature name -> indices mappings and transform X.\n",
    "+ `get_feature_names(self)` Returns a list of feature names, ordered by their indices.\n",
    "+ `inverse_transform(self, X[, dict_type])` Transform array or sparse matrix X back to feature mappings.\n",
    "+ `restrict(self, support[, indices])` Restrict the features to those in support using feature selection."
   ]
  },
  {
   "cell_type": "code",
   "execution_count": 1,
   "metadata": {},
   "outputs": [],
   "source": [
    "from sklearn.feature_extraction import DictVectorizer"
   ]
  },
  {
   "cell_type": "code",
   "execution_count": 23,
   "metadata": {},
   "outputs": [],
   "source": [
    "# 默认会使用稀疏表示，这里关闭了这个选项\n",
    "v = DictVectorizer(sparse=False)"
   ]
  },
  {
   "cell_type": "code",
   "execution_count": 24,
   "metadata": {},
   "outputs": [
    {
     "data": {
      "text/plain": [
       "DictVectorizer(dtype=<class 'numpy.float64'>, separator='=', sort=True,\n",
       "               sparse=False)"
      ]
     },
     "execution_count": 24,
     "metadata": {},
     "output_type": "execute_result"
    }
   ],
   "source": [
    "# 输入是一个字典构成的列表，每一个字典对应于一个观测\n",
    "X = [{'feature-1': 1, 'feature-2': 2}, {'feature-1': 3, 'feature-3': 1}]\n",
    "\n",
    "# 学习字典中的特征映射\n",
    "v.fit(X)"
   ]
  },
  {
   "cell_type": "code",
   "execution_count": 25,
   "metadata": {},
   "outputs": [
    {
     "data": {
      "text/plain": [
       "{'feature-1': 0, 'feature-2': 1, 'feature-3': 2}"
      ]
     },
     "execution_count": 25,
     "metadata": {},
     "output_type": "execute_result"
    }
   ],
   "source": [
    "v.vocabulary_"
   ]
  },
  {
   "cell_type": "code",
   "execution_count": 26,
   "metadata": {},
   "outputs": [
    {
     "data": {
      "text/plain": [
       "['feature-1', 'feature-2', 'feature-3']"
      ]
     },
     "execution_count": 26,
     "metadata": {},
     "output_type": "execute_result"
    }
   ],
   "source": [
    "v.feature_names_"
   ]
  },
  {
   "cell_type": "code",
   "execution_count": 27,
   "metadata": {},
   "outputs": [
    {
     "data": {
      "text/plain": [
       "array([[1., 2., 0.],\n",
       "       [3., 0., 1.]])"
      ]
     },
     "execution_count": 27,
     "metadata": {},
     "output_type": "execute_result"
    }
   ],
   "source": [
    "# 将原有的 list of dict 转成特征矩阵\n",
    "# X 中有两个dict，对应于两个观测，一共有三个特征，所以有三个特征列，没有出现的特征取值为0\n",
    "X_fit = v.transform(X)\n",
    "X_fit"
   ]
  },
  {
   "cell_type": "code",
   "execution_count": 28,
   "metadata": {},
   "outputs": [
    {
     "data": {
      "text/plain": [
       "[{'feature-1': 1.0, 'feature-2': 2.0}, {'feature-1': 3.0, 'feature-3': 1.0}]"
      ]
     },
     "execution_count": 28,
     "metadata": {},
     "output_type": "execute_result"
    }
   ],
   "source": [
    "# 逆变换\n",
    "v.inverse_transform(X_fit)"
   ]
  },
  {
   "cell_type": "code",
   "execution_count": 29,
   "metadata": {},
   "outputs": [
    {
     "data": {
      "text/plain": [
       "array([[4., 0., 0.]])"
      ]
     },
     "execution_count": 29,
     "metadata": {},
     "output_type": "execute_result"
    }
   ],
   "source": [
    "# 对于 训练集 中没有出现过的特征，会直接被忽略\n",
    "v.transform({'feature-1': 4, 'unseen_feature': 3})"
   ]
  },
  {
   "cell_type": "code",
   "execution_count": 30,
   "metadata": {},
   "outputs": [
    {
     "data": {
      "text/plain": [
       "DictVectorizer(dtype=<class 'numpy.float64'>, separator='=', sort=True,\n",
       "               sparse=False)"
      ]
     },
     "execution_count": 30,
     "metadata": {},
     "output_type": "execute_result"
    }
   ],
   "source": [
    "# 如果特征的value 不是数值而是string，就采用one-hot编码\n",
    "v = DictVectorizer(sparse=False)\n",
    "X = [{'feature-1': 'a', 'feature-2': 'b'}, {'feature-1': 'c', 'feature-3': 'd'}]\n",
    "v.fit(X)"
   ]
  },
  {
   "cell_type": "code",
   "execution_count": 33,
   "metadata": {},
   "outputs": [
    {
     "data": {
      "text/plain": [
       "['feature-1=a', 'feature-1=c', 'feature-2=b', 'feature-3=d']"
      ]
     },
     "execution_count": 33,
     "metadata": {},
     "output_type": "execute_result"
    }
   ],
   "source": [
    "# 这里 one-hot 编码时，特征名称之间默认使用 = 号连接\n",
    "v.feature_names_"
   ]
  },
  {
   "cell_type": "code",
   "execution_count": 34,
   "metadata": {},
   "outputs": [
    {
     "data": {
      "text/plain": [
       "{'feature-1=a': 0, 'feature-1=c': 1, 'feature-2=b': 2, 'feature-3=d': 3}"
      ]
     },
     "execution_count": 34,
     "metadata": {},
     "output_type": "execute_result"
    }
   ],
   "source": [
    "v.vocabulary_"
   ]
  },
  {
   "cell_type": "code",
   "execution_count": 35,
   "metadata": {},
   "outputs": [
    {
     "data": {
      "text/plain": [
       "array([[1., 0., 1., 0.],\n",
       "       [0., 1., 0., 1.]])"
      ]
     },
     "execution_count": 35,
     "metadata": {},
     "output_type": "execute_result"
    }
   ],
   "source": [
    "v.transform(X)"
   ]
  },
  {
   "cell_type": "markdown",
   "metadata": {},
   "source": [
    "## 文本特征提取\n",
    "\n",
    "`sklearn.feature_extraction.text`这个子模块提供了一些文本特征提取的类."
   ]
  },
  {
   "cell_type": "markdown",
   "metadata": {},
   "source": [
    "### Bag-of-word表示\n",
    "\n",
    "用于将一系列文本文档转换成 a matrix of token counts，也就是 **Bag-of-word** 特征 . \n",
    "\n",
    "`text.CountVectorizer(*, input='content', encoding='utf-8', decode_error='strict', strip_accents=None, lowercase=True, preprocessor=None, tokenizer=None, stop_words=None, token_pattern='(?u)\\b\\w\\w+\\b', ngram_range=(1, 1), analyzer='word', max_df=1.0, min_df=1, max_features=None, vocabulary=None, binary=False, dtype=<class 'numpy.int64'>)`  \n",
    "\n",
    "类的构造参数：\n",
    "+ `input`：string {‘filename’, ‘file’, ‘content’}\n",
    "+ `encoding`：string, ‘utf-8’ by default\n",
    "+ `decode_error`：{‘strict’, ‘ignore’, ‘replace’}, default=’strict’\n",
    "+ `strip_accents`：{‘ascii’, ‘unicode’}, default=None\n",
    "+ **`lowercase`：boolean, True by default.  是否先转成小写**\n",
    "+ `preprocessor`：callable, default=None. 自定义预处理的函数\n",
    "+ `tokenizer`：callable, default=None.  自定义分词的函数\n",
    "+ **`stop_words`：string {‘english’}, list, or None (default). 停用词的集合，默认下为空。**  \n",
    "  + 如果为`english`，使用的默认的一个英语停用词集合，这个集合不是很实用\n",
    "  + 自定义的话，传入一个停用词组成的list，只在`analyzer='word'`时生效\n",
    "  + `None`表示不使用停用词集合\n",
    "+ `token_pattern`，用于提取词语(token)的正则表达式，符合这个表达式的词语会被提取出来\n",
    "+ `ngram_range`：tuple (min_n, max_n), default=(1, 1). 指定n-gram模型的单词个数\n",
    "+ `analyzer`：{‘word’, ‘char’, ‘char_wb’} or callable, default=’word’. 指定词法分析器，设置为 word 级别还是 character 级别.\n",
    "+ `vocabulary`：Mapping or iterable, default=None. **手动指定词表和相应的特征映射关系** .   \n",
    "如果手动指定了这个参数，那么下面的`min_df`和`max_df`都会被忽略。\n",
    "+ `min_df`：default=1. 用于设置单词至少在多少个文档中出现，才会被计入特征，取值有两种：\n",
    "  + int，设置最低出现的文档次数\n",
    "  + float in range[0, 1]，设置最低出现的比例\n",
    "+ `max_df`：default=None. 用于过滤频次过高的token，取值和`min_df`一样\n",
    "+ `max_features`：int, default=1. 设置最大的特征个数，会按照频次从高到低依次取.\n",
    "+ `binary`，是否采用0-1表示，也就是单词出现了就为1，不出现为0，忽略count. 默认为`False`.\n",
    "+ `dtype`，返回的矩阵的元素类型\n",
    "\n",
    "\n",
    "类对象的属性：\n",
    "+ `vocabulary_`：dict，记录了将word映射到特征的index.\n",
    "+ `fixed_vocabulary_`: boolean, `True`表示 word -> index 的特征映射词典的顺序是由用户指定的，也就是`vocabulary`这个参数由用户指定.\n",
    "+ `stop_words_`：set  \n",
    "被当做停用词忽略的词:\n",
    "  occurred in too many documents (max_df)；\n",
    "  occurred in too few documents (min_df)；\n",
    "  were cut off by feature selection (max_features).\n",
    "\n",
    "\n",
    "类对象的方法：\n",
    "\n",
    "+ `fit(self, raw_documents[, y])`Learn a vocabulary dictionary of all tokens in the raw documents.\n",
    "\n",
    "+ `transform(self, raw_documents)` Transform documents to document-term matrix.\n",
    "\n",
    "+ `fit_transform(self, raw_documents[, y])` Learn the vocabulary dictionary and return term-document matrix.\n",
    "\n",
    "+ `get_feature_names(self)` Array mapping from feature integer indices to feature name.\n",
    "\n",
    "+ `get_params(self[, deep])` Get parameters for this estimator.\n",
    "\n",
    "+ `get_stop_words(self)` Build or fetch the effective stop words list.\n",
    "\n",
    "+ `inverse_transform(self, X)` Return terms per document with nonzero entries in X.\n",
    "\n",
    "+ `set_params(self, \\*\\*params)` Set the parameters of this estimator.\n",
    "\n",
    "+ `decode(self, doc)` Decode the input into a string of unicode symbols."
   ]
  },
  {
   "cell_type": "code",
   "execution_count": 36,
   "metadata": {},
   "outputs": [],
   "source": [
    "from sklearn.feature_extraction.text import CountVectorizer"
   ]
  },
  {
   "cell_type": "code",
   "execution_count": 48,
   "metadata": {},
   "outputs": [],
   "source": [
    "corpus = [\n",
    "    'This is the first document. This is the first document.',\n",
    "    'This document is the second document.',\n",
    "    'And this is the third one.',\n",
    "    'Is this the first document?'\n",
    "]"
   ]
  },
  {
   "cell_type": "code",
   "execution_count": 39,
   "metadata": {},
   "outputs": [
    {
     "data": {
      "text/plain": [
       "CountVectorizer(analyzer='word', binary=False, decode_error='strict',\n",
       "                dtype=<class 'numpy.int64'>, encoding='utf-8', input='content',\n",
       "                lowercase=True, max_df=1.0, max_features=None, min_df=1,\n",
       "                ngram_range=(1, 1), preprocessor=None, stop_words=None,\n",
       "                strip_accents=None, token_pattern='(?u)\\\\b\\\\w\\\\w+\\\\b',\n",
       "                tokenizer=None, vocabulary=None)"
      ]
     },
     "execution_count": 39,
     "metadata": {},
     "output_type": "execute_result"
    }
   ],
   "source": [
    "vectorizer = CountVectorizer()\n",
    "vectorizer.fit(corpus)"
   ]
  },
  {
   "cell_type": "code",
   "execution_count": 51,
   "metadata": {},
   "outputs": [
    {
     "data": {
      "text/plain": [
       "{'this': 8,\n",
       " 'is': 3,\n",
       " 'the': 6,\n",
       " 'first': 2,\n",
       " 'document': 1,\n",
       " 'second': 5,\n",
       " 'and': 0,\n",
       " 'third': 7,\n",
       " 'one': 4}"
      ]
     },
     "execution_count": 51,
     "metadata": {},
     "output_type": "execute_result"
    }
   ],
   "source": [
    "# 构造特征的 词表\n",
    "vectorizer.vocabulary_"
   ]
  },
  {
   "cell_type": "code",
   "execution_count": 41,
   "metadata": {},
   "outputs": [
    {
     "data": {
      "text/plain": [
       "False"
      ]
     },
     "execution_count": 41,
     "metadata": {},
     "output_type": "execute_result"
    }
   ],
   "source": [
    "vectorizer.fixed_vocabulary_"
   ]
  },
  {
   "cell_type": "code",
   "execution_count": 42,
   "metadata": {},
   "outputs": [
    {
     "data": {
      "text/plain": [
       "set()"
      ]
     },
     "execution_count": 42,
     "metadata": {},
     "output_type": "execute_result"
    }
   ],
   "source": [
    "vectorizer.stop_words_"
   ]
  },
  {
   "cell_type": "code",
   "execution_count": 45,
   "metadata": {},
   "outputs": [],
   "source": [
    "vectorizer.get_stop_words()"
   ]
  },
  {
   "cell_type": "code",
   "execution_count": 44,
   "metadata": {},
   "outputs": [
    {
     "data": {
      "text/plain": [
       "['and', 'document', 'first', 'is', 'one', 'second', 'the', 'third', 'this']"
      ]
     },
     "execution_count": 44,
     "metadata": {},
     "output_type": "execute_result"
    }
   ],
   "source": [
    "vectorizer.get_feature_names()"
   ]
  },
  {
   "cell_type": "code",
   "execution_count": 49,
   "metadata": {},
   "outputs": [
    {
     "data": {
      "text/plain": [
       "array([[0, 2, 2, 2, 0, 0, 2, 0, 2],\n",
       "       [0, 2, 0, 1, 0, 1, 1, 0, 1],\n",
       "       [1, 0, 0, 1, 1, 0, 1, 1, 1],\n",
       "       [0, 1, 1, 1, 0, 0, 1, 0, 1]], dtype=int64)"
      ]
     },
     "execution_count": 49,
     "metadata": {},
     "output_type": "execute_result"
    }
   ],
   "source": [
    "corpus_fit = vectorizer.transform(corpus)\n",
    "# 得到的是一个稀疏矩阵\n",
    "corpus_fit.toarray()"
   ]
  },
  {
   "cell_type": "code",
   "execution_count": 50,
   "metadata": {},
   "outputs": [
    {
     "data": {
      "text/plain": [
       "array([[0, 1, 1, 1, 0, 0, 1, 0, 1],\n",
       "       [0, 1, 0, 1, 0, 1, 1, 0, 1],\n",
       "       [1, 0, 0, 1, 1, 0, 1, 1, 1],\n",
       "       [0, 1, 1, 1, 0, 0, 1, 0, 1]], dtype=int64)"
      ]
     },
     "execution_count": 50,
     "metadata": {},
     "output_type": "execute_result"
    }
   ],
   "source": [
    "# 这里选择使用 binary 表示\n",
    "vectorizer = CountVectorizer(binary=True)\n",
    "vectorizer.fit(corpus)\n",
    "corpus_fit = vectorizer.transform(corpus)\n",
    "# 得到的是一个稀疏矩阵\n",
    "corpus_fit.toarray()"
   ]
  },
  {
   "cell_type": "markdown",
   "metadata": {},
   "source": [
    "### TF-IDF表示\n",
    "\n",
    "sklearn提供了两个类来进行IF-IDF特征提取：\n",
    "1. `text.TfidfTransformer()`\n",
    "  + **这个类接受`CountVectorizer()`生成的稀疏矩阵，将其转换成 tf-idf 特征**\n",
    "  + `text.TfidfTransformer(*, norm='l2', use_idf=True, smooth_idf=True, sublinear_tf=False)`  \n",
    "  + 这个类的构造参数不用做什么变动，直接接受`CountVectorizer()`的结果就行了.\n",
    "2. `text.TfidfVectorizer()`  \n",
    "  + **这个类直接从原始文本中生成 tf-idf 特征**\n",
    "  + `text.TfidfVectorizer(*, input='content', encoding='utf-8', decode_error='strict', strip_accents=None, lowercase=True, preprocessor=None, tokenizer=None, analyzer='word', stop_words=None, token_pattern='(?u)\\b\\w\\w+\\b', ngram_range=(1, 1), max_df=1.0, min_df=1, max_features=None, vocabulary=None, binary=False, dtype=<class 'numpy.float64'>, norm='l2', use_idf=True, smooth_idf=True, sublinear_tf=False)`  \n",
    "  + 这个类的参数和`CountVectorizer()`是一致的，最后的几个参数也不用管.\n",
    "  \n",
    "上述两个类的属性值\n",
    "+ `text.TfidfTransformer()`只有一个`.idf_`属性，记录的是各个文档对应的idf\n",
    "+ `text.TfidfVectorizer()`含有的属性值和`DictVectorizer()`一样，此外还多一个`.idf_`"
   ]
  },
  {
   "cell_type": "code",
   "execution_count": 53,
   "metadata": {},
   "outputs": [],
   "source": [
    "from sklearn.feature_extraction.text import TfidfTransformer, TfidfVectorizer"
   ]
  },
  {
   "cell_type": "code",
   "execution_count": 54,
   "metadata": {},
   "outputs": [],
   "source": [
    "corpus = [\n",
    "    'This is the first document. This is the first document.',\n",
    "    'This document is the second document.',\n",
    "    'And this is the third one.',\n",
    "    'Is this the first document?'\n",
    "]"
   ]
  },
  {
   "cell_type": "code",
   "execution_count": 55,
   "metadata": {},
   "outputs": [],
   "source": [
    "cnt_vec = CountVectorizer()\n",
    "tfidf_trans = TfidfTransformer()\n",
    "tfidf_vec = TfidfVectorizer()"
   ]
  },
  {
   "cell_type": "code",
   "execution_count": 60,
   "metadata": {},
   "outputs": [],
   "source": [
    "# 使用 TfidfTransformer() 要先使用 DictVectorize() 类生成 BOW 的频数矩阵\n",
    "cnt_vec.fit(corpus)\n",
    "corpus_cnt = cnt_vec.transform(corpus)\n",
    "# 输入必须是 count 的（稀疏）矩阵\n",
    "tfidf_trans.fit(corpus_cnt)\n",
    "corpus_trans = tfidf_trans.transform(corpus_cnt)"
   ]
  },
  {
   "cell_type": "code",
   "execution_count": 61,
   "metadata": {},
   "outputs": [],
   "source": [
    "# TfidfVectorizer() 相当于 DictVectorize() + TfidfTransformer()，一步完成\n",
    "tfidf_vec.fit(corpus)\n",
    "corpus_vec = tfidf_vec.transform(corpus)"
   ]
  },
  {
   "cell_type": "code",
   "execution_count": 62,
   "metadata": {},
   "outputs": [
    {
     "data": {
      "text/plain": [
       "array([[0.        , 0.46979139, 0.58028582, 0.38408524, 0.        ,\n",
       "        0.        , 0.38408524, 0.        , 0.38408524],\n",
       "       [0.        , 0.6876236 , 0.        , 0.28108867, 0.        ,\n",
       "        0.53864762, 0.28108867, 0.        , 0.28108867],\n",
       "       [0.51184851, 0.        , 0.        , 0.26710379, 0.51184851,\n",
       "        0.        , 0.26710379, 0.51184851, 0.26710379],\n",
       "       [0.        , 0.46979139, 0.58028582, 0.38408524, 0.        ,\n",
       "        0.        , 0.38408524, 0.        , 0.38408524]])"
      ]
     },
     "execution_count": 62,
     "metadata": {},
     "output_type": "execute_result"
    }
   ],
   "source": [
    "corpus_trans.toarray()"
   ]
  },
  {
   "cell_type": "code",
   "execution_count": 63,
   "metadata": {},
   "outputs": [
    {
     "data": {
      "text/plain": [
       "array([[0.        , 0.46979139, 0.58028582, 0.38408524, 0.        ,\n",
       "        0.        , 0.38408524, 0.        , 0.38408524],\n",
       "       [0.        , 0.6876236 , 0.        , 0.28108867, 0.        ,\n",
       "        0.53864762, 0.28108867, 0.        , 0.28108867],\n",
       "       [0.51184851, 0.        , 0.        , 0.26710379, 0.51184851,\n",
       "        0.        , 0.26710379, 0.51184851, 0.26710379],\n",
       "       [0.        , 0.46979139, 0.58028582, 0.38408524, 0.        ,\n",
       "        0.        , 0.38408524, 0.        , 0.38408524]])"
      ]
     },
     "execution_count": 63,
     "metadata": {},
     "output_type": "execute_result"
    }
   ],
   "source": [
    "corpus_vec.toarray()"
   ]
  },
  {
   "cell_type": "code",
   "execution_count": 64,
   "metadata": {},
   "outputs": [
    {
     "data": {
      "text/plain": [
       "array([1.91629073, 1.22314355, 1.51082562, 1.        , 1.91629073,\n",
       "       1.91629073, 1.        , 1.91629073, 1.        ])"
      ]
     },
     "execution_count": 64,
     "metadata": {},
     "output_type": "execute_result"
    }
   ],
   "source": [
    "tfidf_trans.idf_"
   ]
  },
  {
   "cell_type": "code",
   "execution_count": 65,
   "metadata": {},
   "outputs": [
    {
     "data": {
      "text/plain": [
       "array([1.91629073, 1.22314355, 1.51082562, 1.        , 1.91629073,\n",
       "       1.91629073, 1.        , 1.91629073, 1.        ])"
      ]
     },
     "execution_count": 65,
     "metadata": {},
     "output_type": "execute_result"
    }
   ],
   "source": [
    "tfidf_vec.idf_"
   ]
  },
  {
   "cell_type": "markdown",
   "metadata": {},
   "source": [
    "--------------------\n",
    "\n",
    "# 特征创造-Todo"
   ]
  },
  {
   "cell_type": "markdown",
   "metadata": {},
   "source": [
    "# 样本不平衡问题\n",
    "\n",
    "python中专门处理样本不平衡的package是`imbalanced-learn`，GitHub地址为[imbalanced-learn](https://github.com/scikit-learn-contrib/imbalanced-learn)，文档地址为[Welcome to imbalanced-learn documentation!](https://imbalanced-learn.readthedocs.io/en/stable/index.html)。\n",
    "\n",
    "安装  \n",
    "```python\n",
    "conda install -c conda-forge imbalanced-learn=0.6.2\n",
    "```\n",
    "\n",
    "注意，`imbalanced-learn`对于scikit-learn的版本有要求，最新的0.7.0版imbalanced-learn对scikit-learn的要求是 0.23 以上，但是 conda 的库里最新的scikit-learn是 0.22 的，会导致使用imbalanced-learn 时报错，所以需要安装 0.6.2 版本的。"
   ]
  },
  {
   "cell_type": "markdown",
   "metadata": {},
   "source": [
    "## SMOTE\n",
    "\n",
    "对少数类样本进行合成过采样，使用`imblearn.over_sampling.SMOTE`来完成.\n",
    "\n",
    "类的初始化签名为：`class imblearn.over_sampling.SMOTE(sampling_strategy='auto', random_state=None, k_neighbors=5, n_jobs=1)`\n",
    "+ `sampling_strategy`: 可以是 float, str, dict or callable, (default=’auto’). 这里主要介绍 float 和 str 这两种参数.\n",
    "  + 传入的值为 float 时，表示的是如下比例：少数类过采样后的样本数 / 多数类的样本数，需要注意的是，**float 只能用于 二分类问题**。\n",
    "  + 传入的值为 str 时，可以取如下值：\n",
    "    + \n",
    "+ `random_state`:int, RandomState instance or None, optional (default=None)——也就是随机数生成的种子（状态）.\n",
    "+ `k_neighbors`:int or object, optional (default=5) —— 合成样本时使用的最近邻个数.\n",
    "\n",
    "初始化后，调用`.fit_resample(X,y)`方法即可."
   ]
  },
  {
   "cell_type": "code",
   "execution_count": 8,
   "metadata": {},
   "outputs": [
    {
     "name": "stdout",
     "output_type": "stream",
     "text": [
      "slearn version:    0.22.1\n",
      "imblearn version:  0.6.2\n"
     ]
    }
   ],
   "source": [
    "from collections import Counter\n",
    "from sklearn.datasets import make_classification\n",
    "from imblearn.over_sampling import SMOTE\n",
    "import sklearn\n",
    "import imblearn\n",
    "\n",
    "print(\"slearn version:   \",sklearn.__version__)\n",
    "print(\"imblearn version: \",imblearn.__version__)"
   ]
  },
  {
   "cell_type": "code",
   "execution_count": 12,
   "metadata": {},
   "outputs": [
    {
     "name": "stdout",
     "output_type": "stream",
     "text": [
      "(1000, 2)\n",
      "(1000,)\n",
      "Original dataset distribution: Counter({1: 900, 0: 100})\n"
     ]
    }
   ],
   "source": [
    "# 构建1000个样本，总共 2 个特征，都是有效特征，二分类，每个类别只有一个中心，每个类别的数量占比为 1:9\n",
    "X, y = make_classification(n_samples=1000, n_features=2, n_informative=2, n_redundant=0, n_repeated=0, n_classes=2, n_clusters_per_class=1,\n",
    "                           weights=[0.1, 0.9], class_sep=2,  flip_y=0, random_state=10)\n",
    "\n",
    "print(X.shape)\n",
    "print(y.shape)\n",
    "print('Original dataset distribution: {}'.format(Counter(y)))"
   ]
  },
  {
   "cell_type": "code",
   "execution_count": 11,
   "metadata": {},
   "outputs": [
    {
     "name": "stdout",
     "output_type": "stream",
     "text": [
      "(1800, 2)\n",
      "(1800,)\n",
      "Resampled dataset distribution: Counter({1: 900, 0: 900})\n"
     ]
    }
   ],
   "source": [
    "sm = SMOTE(random_state=42)\n",
    "X_res, y_res = sm.fit_resample(X, y)\n",
    "print(X_res.shape)\n",
    "print(y_res.shape)\n",
    "print('Resampled dataset distribution: {}'.format(Counter(y_res)))"
   ]
  },
  {
   "cell_type": "markdown",
   "metadata": {},
   "source": [
    "---------------------\n",
    "\n",
    "# 常用的一些pandas函数"
   ]
  },
  {
   "cell_type": "code",
   "execution_count": 5,
   "metadata": {},
   "outputs": [],
   "source": [
    "data = {'one' : pd.Series([1.,2.,3.],index=['a', 'b', 'c']),\n",
    "   'two' : pd.Series([1.,2.,3.,4.],index=['a', 'b', 'c', 'd']),\n",
    "   'three':pd.Series([5,6,7,8],index=['a','b','c','d'])}\n",
    "df = pd.DataFrame(data)"
   ]
  },
  {
   "cell_type": "code",
   "execution_count": 6,
   "metadata": {},
   "outputs": [
    {
     "data": {
      "text/html": [
       "<div>\n",
       "<style scoped>\n",
       "    .dataframe tbody tr th:only-of-type {\n",
       "        vertical-align: middle;\n",
       "    }\n",
       "\n",
       "    .dataframe tbody tr th {\n",
       "        vertical-align: top;\n",
       "    }\n",
       "\n",
       "    .dataframe thead th {\n",
       "        text-align: right;\n",
       "    }\n",
       "</style>\n",
       "<table border=\"1\" class=\"dataframe\">\n",
       "  <thead>\n",
       "    <tr style=\"text-align: right;\">\n",
       "      <th></th>\n",
       "      <th>one</th>\n",
       "      <th>two</th>\n",
       "      <th>three</th>\n",
       "    </tr>\n",
       "  </thead>\n",
       "  <tbody>\n",
       "    <tr>\n",
       "      <th>a</th>\n",
       "      <td>1.0</td>\n",
       "      <td>1.0</td>\n",
       "      <td>5</td>\n",
       "    </tr>\n",
       "    <tr>\n",
       "      <th>b</th>\n",
       "      <td>2.0</td>\n",
       "      <td>2.0</td>\n",
       "      <td>6</td>\n",
       "    </tr>\n",
       "    <tr>\n",
       "      <th>c</th>\n",
       "      <td>3.0</td>\n",
       "      <td>3.0</td>\n",
       "      <td>7</td>\n",
       "    </tr>\n",
       "    <tr>\n",
       "      <th>d</th>\n",
       "      <td>NaN</td>\n",
       "      <td>4.0</td>\n",
       "      <td>8</td>\n",
       "    </tr>\n",
       "  </tbody>\n",
       "</table>\n",
       "</div>"
      ],
      "text/plain": [
       "   one  two  three\n",
       "a  1.0  1.0      5\n",
       "b  2.0  2.0      6\n",
       "c  3.0  3.0      7\n",
       "d  NaN  4.0      8"
      ]
     },
     "execution_count": 6,
     "metadata": {},
     "output_type": "execute_result"
    }
   ],
   "source": [
    "df"
   ]
  },
  {
   "cell_type": "code",
   "execution_count": 7,
   "metadata": {},
   "outputs": [
    {
     "data": {
      "text/html": [
       "<div>\n",
       "<style scoped>\n",
       "    .dataframe tbody tr th:only-of-type {\n",
       "        vertical-align: middle;\n",
       "    }\n",
       "\n",
       "    .dataframe tbody tr th {\n",
       "        vertical-align: top;\n",
       "    }\n",
       "\n",
       "    .dataframe thead th {\n",
       "        text-align: right;\n",
       "    }\n",
       "</style>\n",
       "<table border=\"1\" class=\"dataframe\">\n",
       "  <thead>\n",
       "    <tr style=\"text-align: right;\">\n",
       "      <th></th>\n",
       "      <th>one</th>\n",
       "      <th>two</th>\n",
       "      <th>three</th>\n",
       "    </tr>\n",
       "  </thead>\n",
       "  <tbody>\n",
       "    <tr>\n",
       "      <th>a</th>\n",
       "      <td>1.0</td>\n",
       "      <td>1.0</td>\n",
       "      <td>5</td>\n",
       "    </tr>\n",
       "    <tr>\n",
       "      <th>b</th>\n",
       "      <td>2.0</td>\n",
       "      <td>2.0</td>\n",
       "      <td>6</td>\n",
       "    </tr>\n",
       "    <tr>\n",
       "      <th>c</th>\n",
       "      <td>3.0</td>\n",
       "      <td>3.0</td>\n",
       "      <td>7</td>\n",
       "    </tr>\n",
       "    <tr>\n",
       "      <th>d</th>\n",
       "      <td>NaN</td>\n",
       "      <td>4.0</td>\n",
       "      <td>8</td>\n",
       "    </tr>\n",
       "  </tbody>\n",
       "</table>\n",
       "</div>"
      ],
      "text/plain": [
       "   one  two  three\n",
       "a  1.0  1.0      5\n",
       "b  2.0  2.0      6\n",
       "c  3.0  3.0      7\n",
       "d  NaN  4.0      8"
      ]
     },
     "metadata": {},
     "output_type": "display_data"
    },
    {
     "data": {
      "text/html": [
       "<div>\n",
       "<style scoped>\n",
       "    .dataframe tbody tr th:only-of-type {\n",
       "        vertical-align: middle;\n",
       "    }\n",
       "\n",
       "    .dataframe tbody tr th {\n",
       "        vertical-align: top;\n",
       "    }\n",
       "\n",
       "    .dataframe thead th {\n",
       "        text-align: right;\n",
       "    }\n",
       "</style>\n",
       "<table border=\"1\" class=\"dataframe\">\n",
       "  <thead>\n",
       "    <tr style=\"text-align: right;\">\n",
       "      <th></th>\n",
       "      <th>one</th>\n",
       "      <th>two</th>\n",
       "      <th>three</th>\n",
       "    </tr>\n",
       "  </thead>\n",
       "  <tbody>\n",
       "    <tr>\n",
       "      <th>a</th>\n",
       "      <td>1.0</td>\n",
       "      <td>1.0</td>\n",
       "      <td>5</td>\n",
       "    </tr>\n",
       "    <tr>\n",
       "      <th>b</th>\n",
       "      <td>2.0</td>\n",
       "      <td>2.0</td>\n",
       "      <td>6</td>\n",
       "    </tr>\n",
       "    <tr>\n",
       "      <th>c</th>\n",
       "      <td>3.0</td>\n",
       "      <td>3.0</td>\n",
       "      <td>7</td>\n",
       "    </tr>\n",
       "    <tr>\n",
       "      <th>d</th>\n",
       "      <td>NaN</td>\n",
       "      <td>4.0</td>\n",
       "      <td>8</td>\n",
       "    </tr>\n",
       "  </tbody>\n",
       "</table>\n",
       "</div>"
      ],
      "text/plain": [
       "   one  two  three\n",
       "a  1.0  1.0      5\n",
       "b  2.0  2.0      6\n",
       "c  3.0  3.0      7\n",
       "d  NaN  4.0      8"
      ]
     },
     "execution_count": 7,
     "metadata": {},
     "output_type": "execute_result"
    }
   ],
   "source": [
    "# 同一个cell输出多个结果\n",
    "display(df)\n",
    "df"
   ]
  },
  {
   "cell_type": "markdown",
   "metadata": {},
   "source": [
    "+ 检查缺失值位置"
   ]
  },
  {
   "cell_type": "code",
   "execution_count": 8,
   "metadata": {},
   "outputs": [
    {
     "data": {
      "text/html": [
       "<div>\n",
       "<style scoped>\n",
       "    .dataframe tbody tr th:only-of-type {\n",
       "        vertical-align: middle;\n",
       "    }\n",
       "\n",
       "    .dataframe tbody tr th {\n",
       "        vertical-align: top;\n",
       "    }\n",
       "\n",
       "    .dataframe thead th {\n",
       "        text-align: right;\n",
       "    }\n",
       "</style>\n",
       "<table border=\"1\" class=\"dataframe\">\n",
       "  <thead>\n",
       "    <tr style=\"text-align: right;\">\n",
       "      <th></th>\n",
       "      <th>one</th>\n",
       "      <th>two</th>\n",
       "      <th>three</th>\n",
       "    </tr>\n",
       "  </thead>\n",
       "  <tbody>\n",
       "    <tr>\n",
       "      <th>a</th>\n",
       "      <td>False</td>\n",
       "      <td>False</td>\n",
       "      <td>False</td>\n",
       "    </tr>\n",
       "    <tr>\n",
       "      <th>b</th>\n",
       "      <td>False</td>\n",
       "      <td>False</td>\n",
       "      <td>False</td>\n",
       "    </tr>\n",
       "    <tr>\n",
       "      <th>c</th>\n",
       "      <td>False</td>\n",
       "      <td>False</td>\n",
       "      <td>False</td>\n",
       "    </tr>\n",
       "    <tr>\n",
       "      <th>d</th>\n",
       "      <td>True</td>\n",
       "      <td>False</td>\n",
       "      <td>False</td>\n",
       "    </tr>\n",
       "  </tbody>\n",
       "</table>\n",
       "</div>"
      ],
      "text/plain": [
       "     one    two  three\n",
       "a  False  False  False\n",
       "b  False  False  False\n",
       "c  False  False  False\n",
       "d   True  False  False"
      ]
     },
     "execution_count": 8,
     "metadata": {},
     "output_type": "execute_result"
    }
   ],
   "source": [
    "df.isnull()"
   ]
  },
  {
   "cell_type": "code",
   "execution_count": 9,
   "metadata": {},
   "outputs": [
    {
     "data": {
      "text/plain": [
       "one      1\n",
       "two      0\n",
       "three    0\n",
       "dtype: int64"
      ]
     },
     "execution_count": 9,
     "metadata": {},
     "output_type": "execute_result"
    }
   ],
   "source": [
    "df.isnull().sum()"
   ]
  },
  {
   "cell_type": "markdown",
   "metadata": {},
   "source": [
    "+ 判断DF中是否含有某些元素"
   ]
  },
  {
   "cell_type": "code",
   "execution_count": 10,
   "metadata": {},
   "outputs": [
    {
     "data": {
      "text/html": [
       "<div>\n",
       "<style scoped>\n",
       "    .dataframe tbody tr th:only-of-type {\n",
       "        vertical-align: middle;\n",
       "    }\n",
       "\n",
       "    .dataframe tbody tr th {\n",
       "        vertical-align: top;\n",
       "    }\n",
       "\n",
       "    .dataframe thead th {\n",
       "        text-align: right;\n",
       "    }\n",
       "</style>\n",
       "<table border=\"1\" class=\"dataframe\">\n",
       "  <thead>\n",
       "    <tr style=\"text-align: right;\">\n",
       "      <th></th>\n",
       "      <th>one</th>\n",
       "      <th>two</th>\n",
       "      <th>three</th>\n",
       "    </tr>\n",
       "  </thead>\n",
       "  <tbody>\n",
       "    <tr>\n",
       "      <th>a</th>\n",
       "      <td>False</td>\n",
       "      <td>False</td>\n",
       "      <td>False</td>\n",
       "    </tr>\n",
       "    <tr>\n",
       "      <th>b</th>\n",
       "      <td>False</td>\n",
       "      <td>False</td>\n",
       "      <td>True</td>\n",
       "    </tr>\n",
       "    <tr>\n",
       "      <th>c</th>\n",
       "      <td>False</td>\n",
       "      <td>False</td>\n",
       "      <td>True</td>\n",
       "    </tr>\n",
       "    <tr>\n",
       "      <th>d</th>\n",
       "      <td>False</td>\n",
       "      <td>False</td>\n",
       "      <td>False</td>\n",
       "    </tr>\n",
       "  </tbody>\n",
       "</table>\n",
       "</div>"
      ],
      "text/plain": [
       "     one    two  three\n",
       "a  False  False  False\n",
       "b  False  False   True\n",
       "c  False  False   True\n",
       "d  False  False  False"
      ]
     },
     "execution_count": 10,
     "metadata": {},
     "output_type": "execute_result"
    }
   ],
   "source": [
    "df.isin([6,7])"
   ]
  },
  {
   "cell_type": "code",
   "execution_count": 11,
   "metadata": {},
   "outputs": [
    {
     "data": {
      "text/plain": [
       "a    False\n",
       "b     True\n",
       "c     True\n",
       "d    False\n",
       "Name: three, dtype: bool"
      ]
     },
     "execution_count": 11,
     "metadata": {},
     "output_type": "execute_result"
    }
   ],
   "source": [
    "df['three'].isin([6,7])"
   ]
  },
  {
   "cell_type": "code",
   "execution_count": 12,
   "metadata": {},
   "outputs": [
    {
     "data": {
      "text/html": [
       "<div>\n",
       "<style scoped>\n",
       "    .dataframe tbody tr th:only-of-type {\n",
       "        vertical-align: middle;\n",
       "    }\n",
       "\n",
       "    .dataframe tbody tr th {\n",
       "        vertical-align: top;\n",
       "    }\n",
       "\n",
       "    .dataframe thead th {\n",
       "        text-align: right;\n",
       "    }\n",
       "</style>\n",
       "<table border=\"1\" class=\"dataframe\">\n",
       "  <thead>\n",
       "    <tr style=\"text-align: right;\">\n",
       "      <th></th>\n",
       "      <th>one</th>\n",
       "      <th>two</th>\n",
       "      <th>three</th>\n",
       "    </tr>\n",
       "  </thead>\n",
       "  <tbody>\n",
       "    <tr>\n",
       "      <th>b</th>\n",
       "      <td>2.0</td>\n",
       "      <td>2.0</td>\n",
       "      <td>6</td>\n",
       "    </tr>\n",
       "    <tr>\n",
       "      <th>c</th>\n",
       "      <td>3.0</td>\n",
       "      <td>3.0</td>\n",
       "      <td>7</td>\n",
       "    </tr>\n",
       "  </tbody>\n",
       "</table>\n",
       "</div>"
      ],
      "text/plain": [
       "   one  two  three\n",
       "b  2.0  2.0      6\n",
       "c  3.0  3.0      7"
      ]
     },
     "execution_count": 12,
     "metadata": {},
     "output_type": "execute_result"
    }
   ],
   "source": [
    "# 过滤出 three 这一列包含 [6,7] 的记录\n",
    "df.loc[df['three'].isin([6,7])]"
   ]
  },
  {
   "cell_type": "markdown",
   "metadata": {},
   "source": [
    "+ 排序相关"
   ]
  },
  {
   "cell_type": "code",
   "execution_count": 13,
   "metadata": {},
   "outputs": [
    {
     "data": {
      "text/html": [
       "<div>\n",
       "<style scoped>\n",
       "    .dataframe tbody tr th:only-of-type {\n",
       "        vertical-align: middle;\n",
       "    }\n",
       "\n",
       "    .dataframe tbody tr th {\n",
       "        vertical-align: top;\n",
       "    }\n",
       "\n",
       "    .dataframe thead th {\n",
       "        text-align: right;\n",
       "    }\n",
       "</style>\n",
       "<table border=\"1\" class=\"dataframe\">\n",
       "  <thead>\n",
       "    <tr style=\"text-align: right;\">\n",
       "      <th></th>\n",
       "      <th>one</th>\n",
       "      <th>two</th>\n",
       "      <th>three</th>\n",
       "    </tr>\n",
       "  </thead>\n",
       "  <tbody>\n",
       "    <tr>\n",
       "      <th>d</th>\n",
       "      <td>NaN</td>\n",
       "      <td>4.0</td>\n",
       "      <td>8</td>\n",
       "    </tr>\n",
       "    <tr>\n",
       "      <th>c</th>\n",
       "      <td>3.0</td>\n",
       "      <td>3.0</td>\n",
       "      <td>7</td>\n",
       "    </tr>\n",
       "    <tr>\n",
       "      <th>b</th>\n",
       "      <td>2.0</td>\n",
       "      <td>2.0</td>\n",
       "      <td>6</td>\n",
       "    </tr>\n",
       "    <tr>\n",
       "      <th>a</th>\n",
       "      <td>1.0</td>\n",
       "      <td>1.0</td>\n",
       "      <td>5</td>\n",
       "    </tr>\n",
       "  </tbody>\n",
       "</table>\n",
       "</div>"
      ],
      "text/plain": [
       "   one  two  three\n",
       "d  NaN  4.0      8\n",
       "c  3.0  3.0      7\n",
       "b  2.0  2.0      6\n",
       "a  1.0  1.0      5"
      ]
     },
     "execution_count": 13,
     "metadata": {},
     "output_type": "execute_result"
    }
   ],
   "source": [
    "df.sort_values(by=['three'], axis=0, ascending=False, inplace=False)"
   ]
  },
  {
   "cell_type": "markdown",
   "metadata": {},
   "source": [
    "+ 计算某一列的取值个数, 注意，只有Series有这个函数，DF没有"
   ]
  },
  {
   "cell_type": "code",
   "execution_count": 14,
   "metadata": {},
   "outputs": [
    {
     "data": {
      "text/plain": [
       "7    1\n",
       "6    1\n",
       "5    1\n",
       "8    1\n",
       "Name: three, dtype: int64"
      ]
     },
     "execution_count": 14,
     "metadata": {},
     "output_type": "execute_result"
    }
   ],
   "source": [
    "df['three'].value_counts()"
   ]
  },
  {
   "cell_type": "markdown",
   "metadata": {},
   "source": [
    "+ 错行（列）相减  \n",
    "可以使用`df.shift()`和`df.diff()`两种函数实现"
   ]
  },
  {
   "cell_type": "code",
   "execution_count": 15,
   "metadata": {},
   "outputs": [
    {
     "data": {
      "text/html": [
       "<div>\n",
       "<style scoped>\n",
       "    .dataframe tbody tr th:only-of-type {\n",
       "        vertical-align: middle;\n",
       "    }\n",
       "\n",
       "    .dataframe tbody tr th {\n",
       "        vertical-align: top;\n",
       "    }\n",
       "\n",
       "    .dataframe thead th {\n",
       "        text-align: right;\n",
       "    }\n",
       "</style>\n",
       "<table border=\"1\" class=\"dataframe\">\n",
       "  <thead>\n",
       "    <tr style=\"text-align: right;\">\n",
       "      <th></th>\n",
       "      <th>one</th>\n",
       "      <th>two</th>\n",
       "      <th>three</th>\n",
       "    </tr>\n",
       "  </thead>\n",
       "  <tbody>\n",
       "    <tr>\n",
       "      <th>a</th>\n",
       "      <td>1.0</td>\n",
       "      <td>1.0</td>\n",
       "      <td>5</td>\n",
       "    </tr>\n",
       "    <tr>\n",
       "      <th>b</th>\n",
       "      <td>2.0</td>\n",
       "      <td>2.0</td>\n",
       "      <td>6</td>\n",
       "    </tr>\n",
       "    <tr>\n",
       "      <th>c</th>\n",
       "      <td>3.0</td>\n",
       "      <td>3.0</td>\n",
       "      <td>7</td>\n",
       "    </tr>\n",
       "    <tr>\n",
       "      <th>d</th>\n",
       "      <td>NaN</td>\n",
       "      <td>4.0</td>\n",
       "      <td>8</td>\n",
       "    </tr>\n",
       "  </tbody>\n",
       "</table>\n",
       "</div>"
      ],
      "text/plain": [
       "   one  two  three\n",
       "a  1.0  1.0      5\n",
       "b  2.0  2.0      6\n",
       "c  3.0  3.0      7\n",
       "d  NaN  4.0      8"
      ]
     },
     "execution_count": 15,
     "metadata": {},
     "output_type": "execute_result"
    }
   ],
   "source": [
    "df"
   ]
  },
  {
   "cell_type": "code",
   "execution_count": 16,
   "metadata": {},
   "outputs": [
    {
     "data": {
      "text/html": [
       "<div>\n",
       "<style scoped>\n",
       "    .dataframe tbody tr th:only-of-type {\n",
       "        vertical-align: middle;\n",
       "    }\n",
       "\n",
       "    .dataframe tbody tr th {\n",
       "        vertical-align: top;\n",
       "    }\n",
       "\n",
       "    .dataframe thead th {\n",
       "        text-align: right;\n",
       "    }\n",
       "</style>\n",
       "<table border=\"1\" class=\"dataframe\">\n",
       "  <thead>\n",
       "    <tr style=\"text-align: right;\">\n",
       "      <th></th>\n",
       "      <th>one</th>\n",
       "      <th>two</th>\n",
       "      <th>three</th>\n",
       "    </tr>\n",
       "  </thead>\n",
       "  <tbody>\n",
       "    <tr>\n",
       "      <th>a</th>\n",
       "      <td>NaN</td>\n",
       "      <td>NaN</td>\n",
       "      <td>NaN</td>\n",
       "    </tr>\n",
       "    <tr>\n",
       "      <th>b</th>\n",
       "      <td>1.0</td>\n",
       "      <td>1.0</td>\n",
       "      <td>5.0</td>\n",
       "    </tr>\n",
       "    <tr>\n",
       "      <th>c</th>\n",
       "      <td>2.0</td>\n",
       "      <td>2.0</td>\n",
       "      <td>6.0</td>\n",
       "    </tr>\n",
       "    <tr>\n",
       "      <th>d</th>\n",
       "      <td>3.0</td>\n",
       "      <td>3.0</td>\n",
       "      <td>7.0</td>\n",
       "    </tr>\n",
       "  </tbody>\n",
       "</table>\n",
       "</div>"
      ],
      "text/plain": [
       "   one  two  three\n",
       "a  NaN  NaN    NaN\n",
       "b  1.0  1.0    5.0\n",
       "c  2.0  2.0    6.0\n",
       "d  3.0  3.0    7.0"
      ]
     },
     "execution_count": 16,
     "metadata": {},
     "output_type": "execute_result"
    }
   ],
   "source": [
    "df.shift(periods=1)"
   ]
  },
  {
   "cell_type": "code",
   "execution_count": 17,
   "metadata": {},
   "outputs": [
    {
     "data": {
      "text/html": [
       "<div>\n",
       "<style scoped>\n",
       "    .dataframe tbody tr th:only-of-type {\n",
       "        vertical-align: middle;\n",
       "    }\n",
       "\n",
       "    .dataframe tbody tr th {\n",
       "        vertical-align: top;\n",
       "    }\n",
       "\n",
       "    .dataframe thead th {\n",
       "        text-align: right;\n",
       "    }\n",
       "</style>\n",
       "<table border=\"1\" class=\"dataframe\">\n",
       "  <thead>\n",
       "    <tr style=\"text-align: right;\">\n",
       "      <th></th>\n",
       "      <th>one</th>\n",
       "      <th>two</th>\n",
       "      <th>three</th>\n",
       "    </tr>\n",
       "  </thead>\n",
       "  <tbody>\n",
       "    <tr>\n",
       "      <th>a</th>\n",
       "      <td>NaN</td>\n",
       "      <td>NaN</td>\n",
       "      <td>NaN</td>\n",
       "    </tr>\n",
       "    <tr>\n",
       "      <th>b</th>\n",
       "      <td>1.0</td>\n",
       "      <td>1.0</td>\n",
       "      <td>1.0</td>\n",
       "    </tr>\n",
       "    <tr>\n",
       "      <th>c</th>\n",
       "      <td>1.0</td>\n",
       "      <td>1.0</td>\n",
       "      <td>1.0</td>\n",
       "    </tr>\n",
       "    <tr>\n",
       "      <th>d</th>\n",
       "      <td>NaN</td>\n",
       "      <td>1.0</td>\n",
       "      <td>1.0</td>\n",
       "    </tr>\n",
       "  </tbody>\n",
       "</table>\n",
       "</div>"
      ],
      "text/plain": [
       "   one  two  three\n",
       "a  NaN  NaN    NaN\n",
       "b  1.0  1.0    1.0\n",
       "c  1.0  1.0    1.0\n",
       "d  NaN  1.0    1.0"
      ]
     },
     "execution_count": 17,
     "metadata": {},
     "output_type": "execute_result"
    }
   ],
   "source": [
    "df.diff()"
   ]
  },
  {
   "cell_type": "markdown",
   "metadata": {},
   "source": [
    "## TODO"
   ]
  },
  {
   "cell_type": "markdown",
   "metadata": {},
   "source": [
    "+ 下面的例子中， `df[ ['col1','col2']  ]` 得到的是 view，但是紧随其后使用`.fillna()`时，却是在 copy 上执行的，不知道为什么"
   ]
  },
  {
   "cell_type": "code",
   "execution_count": null,
   "metadata": {},
   "outputs": [],
   "source": [
    "df = pd.DataFrame(np.arange(6).reshape(2,3), columns=['a','b','c'])\n",
    "df.iloc[0,:] = np.nan\n",
    "df"
   ]
  },
  {
   "cell_type": "code",
   "execution_count": 168,
   "metadata": {},
   "outputs": [
    {
     "data": {
      "text/html": [
       "<div>\n",
       "<style scoped>\n",
       "    .dataframe tbody tr th:only-of-type {\n",
       "        vertical-align: middle;\n",
       "    }\n",
       "\n",
       "    .dataframe tbody tr th {\n",
       "        vertical-align: top;\n",
       "    }\n",
       "\n",
       "    .dataframe thead th {\n",
       "        text-align: right;\n",
       "    }\n",
       "</style>\n",
       "<table border=\"1\" class=\"dataframe\">\n",
       "  <thead>\n",
       "    <tr style=\"text-align: right;\">\n",
       "      <th></th>\n",
       "      <th>a</th>\n",
       "      <th>b</th>\n",
       "      <th>c</th>\n",
       "    </tr>\n",
       "  </thead>\n",
       "  <tbody>\n",
       "    <tr>\n",
       "      <th>0</th>\n",
       "      <td>NaN</td>\n",
       "      <td>NaN</td>\n",
       "      <td>NaN</td>\n",
       "    </tr>\n",
       "    <tr>\n",
       "      <th>1</th>\n",
       "      <td>3.0</td>\n",
       "      <td>4.0</td>\n",
       "      <td>5.0</td>\n",
       "    </tr>\n",
       "  </tbody>\n",
       "</table>\n",
       "</div>"
      ],
      "text/plain": [
       "     a    b    c\n",
       "0  NaN  NaN  NaN\n",
       "1  3.0  4.0  5.0"
      ]
     },
     "execution_count": 168,
     "metadata": {},
     "output_type": "execute_result"
    }
   ],
   "source": [
    "# df[['a','b']] = 10\n",
    "# df[['a','b']].fillna(0, inplace=True)\n",
    "# df.loc[:,['a','b']] = 10\n",
    "df.loc[:,['a','b']].fillna(0, inplace=True)\n",
    "df"
   ]
  }
 ],
 "metadata": {
  "kernelspec": {
   "display_name": "BaseEnv(Python3.8.10)",
   "language": "python",
   "name": "base"
  },
  "language_info": {
   "codemirror_mode": {
    "name": "ipython",
    "version": 3
   },
   "file_extension": ".py",
   "mimetype": "text/x-python",
   "name": "python",
   "nbconvert_exporter": "python",
   "pygments_lexer": "ipython3",
   "version": "3.8.10"
  },
  "toc-autonumbering": true
 },
 "nbformat": 4,
 "nbformat_minor": 4
}
