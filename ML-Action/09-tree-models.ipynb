{
 "cells": [
  {
   "cell_type": "code",
   "execution_count": 1,
   "metadata": {},
   "outputs": [
    {
     "name": "stdout",
     "output_type": "stream",
     "text": [
      "package版本信息：\n",
      "numpy:       1.19.2\n",
      "pandas:      1.2.2\n",
      "matplotlib:  3.3.4\n",
      "sklearn:     0.23.2\n",
      "seaborn:     0.11.1\n",
      "plotly:      4.14.3\n"
     ]
    }
   ],
   "source": [
    "import numpy as np\n",
    "import pandas as pd\n",
    "import matplotlib.pyplot as plt\n",
    "import seaborn as sns\n",
    "import plotly.express as px\n",
    "from plotly import graph_objects as go\n",
    "\n",
    "import matplotlib\n",
    "import plotly\n",
    "import sklearn\n",
    "\n",
    "from IPython.display import display\n",
    "\n",
    "# TAB自动补全\n",
    "%config Completer.use_jedi = False\n",
    "\n",
    "print(\"package版本信息：\")\n",
    "print(\"numpy:      \", np.__version__)\n",
    "print(\"pandas:     \", pd.__version__)\n",
    "print(\"matplotlib: \", matplotlib.__version__)\n",
    "print(\"sklearn:    \", sklearn.__version__)\n",
    "print(\"seaborn:    \", sns.__version__)\n",
    "print(\"plotly:     \", plotly.__version__)"
   ]
  },
  {
   "cell_type": "markdown",
   "metadata": {},
   "source": [
    "# Sklearn中的决策树"
   ]
  },
  {
   "cell_type": "code",
   "execution_count": 3,
   "metadata": {},
   "outputs": [],
   "source": [
    "from sklearn.tree import DecisionTreeClassifier, export_graphviz,plot_tree\n",
    "from sklearn.datasets import load_wine"
   ]
  },
  {
   "cell_type": "code",
   "execution_count": 4,
   "metadata": {},
   "outputs": [],
   "source": [
    "wine = load_wine()"
   ]
  },
  {
   "cell_type": "code",
   "execution_count": 5,
   "metadata": {},
   "outputs": [
    {
     "data": {
      "text/plain": [
       "dict_keys(['data', 'target', 'target_names', 'DESCR', 'feature_names'])"
      ]
     },
     "execution_count": 5,
     "metadata": {},
     "output_type": "execute_result"
    }
   ],
   "source": [
    "wine.keys()"
   ]
  },
  {
   "cell_type": "code",
   "execution_count": 6,
   "metadata": {},
   "outputs": [
    {
     "data": {
      "text/plain": [
       "(178, 13)"
      ]
     },
     "execution_count": 6,
     "metadata": {},
     "output_type": "execute_result"
    }
   ],
   "source": [
    "wine.data.shape"
   ]
  },
  {
   "cell_type": "code",
   "execution_count": 7,
   "metadata": {},
   "outputs": [
    {
     "data": {
      "text/plain": [
       "['alcohol',\n",
       " 'malic_acid',\n",
       " 'ash',\n",
       " 'alcalinity_of_ash',\n",
       " 'magnesium',\n",
       " 'total_phenols',\n",
       " 'flavanoids',\n",
       " 'nonflavanoid_phenols',\n",
       " 'proanthocyanins',\n",
       " 'color_intensity',\n",
       " 'hue',\n",
       " 'od280/od315_of_diluted_wines',\n",
       " 'proline']"
      ]
     },
     "execution_count": 7,
     "metadata": {},
     "output_type": "execute_result"
    }
   ],
   "source": [
    "wine.feature_names"
   ]
  },
  {
   "cell_type": "code",
   "execution_count": 8,
   "metadata": {},
   "outputs": [
    {
     "data": {
      "text/plain": [
       "(178,)"
      ]
     },
     "execution_count": 8,
     "metadata": {},
     "output_type": "execute_result"
    }
   ],
   "source": [
    "wine.target.shape"
   ]
  },
  {
   "cell_type": "code",
   "execution_count": 9,
   "metadata": {},
   "outputs": [
    {
     "data": {
      "text/plain": [
       "array(['class_0', 'class_1', 'class_2'], dtype='<U7')"
      ]
     },
     "execution_count": 9,
     "metadata": {},
     "output_type": "execute_result"
    }
   ],
   "source": [
    "wine.target_names"
   ]
  },
  {
   "cell_type": "markdown",
   "metadata": {},
   "source": [
    "训练一棵树"
   ]
  },
  {
   "cell_type": "code",
   "execution_count": 10,
   "metadata": {},
   "outputs": [
    {
     "data": {
      "text/plain": [
       "DecisionTreeClassifier(ccp_alpha=0.0, class_weight=None, criterion='gini',\n",
       "                       max_depth=None, max_features=None, max_leaf_nodes=None,\n",
       "                       min_impurity_decrease=0.0, min_impurity_split=None,\n",
       "                       min_samples_leaf=1, min_samples_split=2,\n",
       "                       min_weight_fraction_leaf=0.0, presort='deprecated',\n",
       "                       random_state=None, splitter='best')"
      ]
     },
     "execution_count": 10,
     "metadata": {},
     "output_type": "execute_result"
    }
   ],
   "source": [
    "clf = DecisionTreeClassifier()\n",
    "clf.fit(wine.data,wine.target)"
   ]
  },
  {
   "cell_type": "code",
   "execution_count": 11,
   "metadata": {},
   "outputs": [
    {
     "data": {
      "text/plain": [
       "1.0"
      ]
     },
     "execution_count": 11,
     "metadata": {},
     "output_type": "execute_result"
    }
   ],
   "source": [
    "clf.score(wine.data,wine.target)"
   ]
  },
  {
   "cell_type": "markdown",
   "metadata": {},
   "source": [
    "绘制决策树\n",
    "有两种绘制方式：\n",
    "1. 使用`sklearn.tree`里自带的`plot_tree`函数\n",
    "2. 使用`graphviz`模块绘制"
   ]
  },
  {
   "cell_type": "code",
   "execution_count": 12,
   "metadata": {},
   "outputs": [],
   "source": [
    "import graphviz"
   ]
  },
  {
   "cell_type": "code",
   "execution_count": 13,
   "metadata": {},
   "outputs": [],
   "source": [
    "tree_dot = export_graphviz(clf)"
   ]
  },
  {
   "cell_type": "code",
   "execution_count": 17,
   "metadata": {},
   "outputs": [],
   "source": [
    "graph = graphviz.Source(tree_dot)"
   ]
  },
  {
   "cell_type": "code",
   "execution_count": 18,
   "metadata": {
    "collapsed": true,
    "jupyter": {
     "outputs_hidden": true
    }
   },
   "outputs": [
    {
     "ename": "ExecutableNotFound",
     "evalue": "failed to execute ['dot', '-Tsvg'], make sure the Graphviz executables are on your systems' PATH",
     "output_type": "error",
     "traceback": [
      "\u001b[0;31m---------------------------------------------------------------------------\u001b[0m",
      "\u001b[0;31mFileNotFoundError\u001b[0m                         Traceback (most recent call last)",
      "\u001b[0;32m~/anaconda3/lib/python3.6/site-packages/graphviz/backend.py\u001b[0m in \u001b[0;36mrun\u001b[0;34m(cmd, input, capture_output, check, quiet, **kwargs)\u001b[0m\n\u001b[1;32m    158\u001b[0m     \u001b[0;32mtry\u001b[0m\u001b[0;34m:\u001b[0m\u001b[0;34m\u001b[0m\u001b[0;34m\u001b[0m\u001b[0m\n\u001b[0;32m--> 159\u001b[0;31m         \u001b[0mproc\u001b[0m \u001b[0;34m=\u001b[0m \u001b[0msubprocess\u001b[0m\u001b[0;34m.\u001b[0m\u001b[0mPopen\u001b[0m\u001b[0;34m(\u001b[0m\u001b[0mcmd\u001b[0m\u001b[0;34m,\u001b[0m \u001b[0mstartupinfo\u001b[0m\u001b[0;34m=\u001b[0m\u001b[0mget_startupinfo\u001b[0m\u001b[0;34m(\u001b[0m\u001b[0;34m)\u001b[0m\u001b[0;34m,\u001b[0m \u001b[0;34m**\u001b[0m\u001b[0mkwargs\u001b[0m\u001b[0;34m)\u001b[0m\u001b[0;34m\u001b[0m\u001b[0;34m\u001b[0m\u001b[0m\n\u001b[0m\u001b[1;32m    160\u001b[0m     \u001b[0;32mexcept\u001b[0m \u001b[0mOSError\u001b[0m \u001b[0;32mas\u001b[0m \u001b[0me\u001b[0m\u001b[0;34m:\u001b[0m\u001b[0;34m\u001b[0m\u001b[0;34m\u001b[0m\u001b[0m\n",
      "\u001b[0;32m~/anaconda3/lib/python3.6/subprocess.py\u001b[0m in \u001b[0;36m__init__\u001b[0;34m(self, args, bufsize, executable, stdin, stdout, stderr, preexec_fn, close_fds, shell, cwd, env, universal_newlines, startupinfo, creationflags, restore_signals, start_new_session, pass_fds, encoding, errors)\u001b[0m\n\u001b[1;32m    728\u001b[0m                                 \u001b[0merrread\u001b[0m\u001b[0;34m,\u001b[0m \u001b[0merrwrite\u001b[0m\u001b[0;34m,\u001b[0m\u001b[0;34m\u001b[0m\u001b[0;34m\u001b[0m\u001b[0m\n\u001b[0;32m--> 729\u001b[0;31m                                 restore_signals, start_new_session)\n\u001b[0m\u001b[1;32m    730\u001b[0m         \u001b[0;32mexcept\u001b[0m\u001b[0;34m:\u001b[0m\u001b[0;34m\u001b[0m\u001b[0;34m\u001b[0m\u001b[0m\n",
      "\u001b[0;32m~/anaconda3/lib/python3.6/subprocess.py\u001b[0m in \u001b[0;36m_execute_child\u001b[0;34m(self, args, executable, preexec_fn, close_fds, pass_fds, cwd, env, startupinfo, creationflags, shell, p2cread, p2cwrite, c2pread, c2pwrite, errread, errwrite, restore_signals, start_new_session)\u001b[0m\n\u001b[1;32m   1363\u001b[0m                             \u001b[0merr_msg\u001b[0m \u001b[0;34m+=\u001b[0m \u001b[0;34m': '\u001b[0m \u001b[0;34m+\u001b[0m \u001b[0mrepr\u001b[0m\u001b[0;34m(\u001b[0m\u001b[0merr_filename\u001b[0m\u001b[0;34m)\u001b[0m\u001b[0;34m\u001b[0m\u001b[0;34m\u001b[0m\u001b[0m\n\u001b[0;32m-> 1364\u001b[0;31m                     \u001b[0;32mraise\u001b[0m \u001b[0mchild_exception_type\u001b[0m\u001b[0;34m(\u001b[0m\u001b[0merrno_num\u001b[0m\u001b[0;34m,\u001b[0m \u001b[0merr_msg\u001b[0m\u001b[0;34m,\u001b[0m \u001b[0merr_filename\u001b[0m\u001b[0;34m)\u001b[0m\u001b[0;34m\u001b[0m\u001b[0;34m\u001b[0m\u001b[0m\n\u001b[0m\u001b[1;32m   1365\u001b[0m                 \u001b[0;32mraise\u001b[0m \u001b[0mchild_exception_type\u001b[0m\u001b[0;34m(\u001b[0m\u001b[0merr_msg\u001b[0m\u001b[0;34m)\u001b[0m\u001b[0;34m\u001b[0m\u001b[0;34m\u001b[0m\u001b[0m\n",
      "\u001b[0;31mFileNotFoundError\u001b[0m: [Errno 2] No such file or directory: 'dot': 'dot'",
      "\nDuring handling of the above exception, another exception occurred:\n",
      "\u001b[0;31mExecutableNotFound\u001b[0m                        Traceback (most recent call last)",
      "\u001b[0;32m~/anaconda3/lib/python3.6/site-packages/IPython/core/formatters.py\u001b[0m in \u001b[0;36m__call__\u001b[0;34m(self, obj)\u001b[0m\n\u001b[1;32m    343\u001b[0m             \u001b[0mmethod\u001b[0m \u001b[0;34m=\u001b[0m \u001b[0mget_real_method\u001b[0m\u001b[0;34m(\u001b[0m\u001b[0mobj\u001b[0m\u001b[0;34m,\u001b[0m \u001b[0mself\u001b[0m\u001b[0;34m.\u001b[0m\u001b[0mprint_method\u001b[0m\u001b[0;34m)\u001b[0m\u001b[0;34m\u001b[0m\u001b[0;34m\u001b[0m\u001b[0m\n\u001b[1;32m    344\u001b[0m             \u001b[0;32mif\u001b[0m \u001b[0mmethod\u001b[0m \u001b[0;32mis\u001b[0m \u001b[0;32mnot\u001b[0m \u001b[0;32mNone\u001b[0m\u001b[0;34m:\u001b[0m\u001b[0;34m\u001b[0m\u001b[0;34m\u001b[0m\u001b[0m\n\u001b[0;32m--> 345\u001b[0;31m                 \u001b[0;32mreturn\u001b[0m \u001b[0mmethod\u001b[0m\u001b[0;34m(\u001b[0m\u001b[0;34m)\u001b[0m\u001b[0;34m\u001b[0m\u001b[0;34m\u001b[0m\u001b[0m\n\u001b[0m\u001b[1;32m    346\u001b[0m             \u001b[0;32mreturn\u001b[0m \u001b[0;32mNone\u001b[0m\u001b[0;34m\u001b[0m\u001b[0;34m\u001b[0m\u001b[0m\n\u001b[1;32m    347\u001b[0m         \u001b[0;32melse\u001b[0m\u001b[0;34m:\u001b[0m\u001b[0;34m\u001b[0m\u001b[0;34m\u001b[0m\u001b[0m\n",
      "\u001b[0;32m~/anaconda3/lib/python3.6/site-packages/graphviz/files.py\u001b[0m in \u001b[0;36m_repr_svg_\u001b[0;34m(self)\u001b[0m\n\u001b[1;32m    111\u001b[0m \u001b[0;34m\u001b[0m\u001b[0m\n\u001b[1;32m    112\u001b[0m     \u001b[0;32mdef\u001b[0m \u001b[0m_repr_svg_\u001b[0m\u001b[0;34m(\u001b[0m\u001b[0mself\u001b[0m\u001b[0;34m)\u001b[0m\u001b[0;34m:\u001b[0m\u001b[0;34m\u001b[0m\u001b[0;34m\u001b[0m\u001b[0m\n\u001b[0;32m--> 113\u001b[0;31m         \u001b[0;32mreturn\u001b[0m \u001b[0mself\u001b[0m\u001b[0;34m.\u001b[0m\u001b[0mpipe\u001b[0m\u001b[0;34m(\u001b[0m\u001b[0mformat\u001b[0m\u001b[0;34m=\u001b[0m\u001b[0;34m'svg'\u001b[0m\u001b[0;34m)\u001b[0m\u001b[0;34m.\u001b[0m\u001b[0mdecode\u001b[0m\u001b[0;34m(\u001b[0m\u001b[0mself\u001b[0m\u001b[0;34m.\u001b[0m\u001b[0m_encoding\u001b[0m\u001b[0;34m)\u001b[0m\u001b[0;34m\u001b[0m\u001b[0;34m\u001b[0m\u001b[0m\n\u001b[0m\u001b[1;32m    114\u001b[0m \u001b[0;34m\u001b[0m\u001b[0m\n\u001b[1;32m    115\u001b[0m     \u001b[0;32mdef\u001b[0m \u001b[0mpipe\u001b[0m\u001b[0;34m(\u001b[0m\u001b[0mself\u001b[0m\u001b[0;34m,\u001b[0m \u001b[0mformat\u001b[0m\u001b[0;34m=\u001b[0m\u001b[0;32mNone\u001b[0m\u001b[0;34m,\u001b[0m \u001b[0mrenderer\u001b[0m\u001b[0;34m=\u001b[0m\u001b[0;32mNone\u001b[0m\u001b[0;34m,\u001b[0m \u001b[0mformatter\u001b[0m\u001b[0;34m=\u001b[0m\u001b[0;32mNone\u001b[0m\u001b[0;34m,\u001b[0m \u001b[0mquiet\u001b[0m\u001b[0;34m=\u001b[0m\u001b[0;32mFalse\u001b[0m\u001b[0;34m)\u001b[0m\u001b[0;34m:\u001b[0m\u001b[0;34m\u001b[0m\u001b[0;34m\u001b[0m\u001b[0m\n",
      "\u001b[0;32m~/anaconda3/lib/python3.6/site-packages/graphviz/files.py\u001b[0m in \u001b[0;36mpipe\u001b[0;34m(self, format, renderer, formatter, quiet)\u001b[0m\n\u001b[1;32m    136\u001b[0m         out = backend.pipe(self._engine, format, data,\n\u001b[1;32m    137\u001b[0m                            \u001b[0mrenderer\u001b[0m\u001b[0;34m=\u001b[0m\u001b[0mrenderer\u001b[0m\u001b[0;34m,\u001b[0m \u001b[0mformatter\u001b[0m\u001b[0;34m=\u001b[0m\u001b[0mformatter\u001b[0m\u001b[0;34m,\u001b[0m\u001b[0;34m\u001b[0m\u001b[0;34m\u001b[0m\u001b[0m\n\u001b[0;32m--> 138\u001b[0;31m                            quiet=quiet)\n\u001b[0m\u001b[1;32m    139\u001b[0m \u001b[0;34m\u001b[0m\u001b[0m\n\u001b[1;32m    140\u001b[0m         \u001b[0;32mreturn\u001b[0m \u001b[0mout\u001b[0m\u001b[0;34m\u001b[0m\u001b[0;34m\u001b[0m\u001b[0m\n",
      "\u001b[0;32m~/anaconda3/lib/python3.6/site-packages/graphviz/backend.py\u001b[0m in \u001b[0;36mpipe\u001b[0;34m(engine, format, data, renderer, formatter, quiet)\u001b[0m\n\u001b[1;32m    227\u001b[0m     \"\"\"\n\u001b[1;32m    228\u001b[0m     \u001b[0mcmd\u001b[0m\u001b[0;34m,\u001b[0m \u001b[0m_\u001b[0m \u001b[0;34m=\u001b[0m \u001b[0mcommand\u001b[0m\u001b[0;34m(\u001b[0m\u001b[0mengine\u001b[0m\u001b[0;34m,\u001b[0m \u001b[0mformat\u001b[0m\u001b[0;34m,\u001b[0m \u001b[0;32mNone\u001b[0m\u001b[0;34m,\u001b[0m \u001b[0mrenderer\u001b[0m\u001b[0;34m,\u001b[0m \u001b[0mformatter\u001b[0m\u001b[0;34m)\u001b[0m\u001b[0;34m\u001b[0m\u001b[0;34m\u001b[0m\u001b[0m\n\u001b[0;32m--> 229\u001b[0;31m     \u001b[0mout\u001b[0m\u001b[0;34m,\u001b[0m \u001b[0m_\u001b[0m \u001b[0;34m=\u001b[0m \u001b[0mrun\u001b[0m\u001b[0;34m(\u001b[0m\u001b[0mcmd\u001b[0m\u001b[0;34m,\u001b[0m \u001b[0minput\u001b[0m\u001b[0;34m=\u001b[0m\u001b[0mdata\u001b[0m\u001b[0;34m,\u001b[0m \u001b[0mcapture_output\u001b[0m\u001b[0;34m=\u001b[0m\u001b[0;32mTrue\u001b[0m\u001b[0;34m,\u001b[0m \u001b[0mcheck\u001b[0m\u001b[0;34m=\u001b[0m\u001b[0;32mTrue\u001b[0m\u001b[0;34m,\u001b[0m \u001b[0mquiet\u001b[0m\u001b[0;34m=\u001b[0m\u001b[0mquiet\u001b[0m\u001b[0;34m)\u001b[0m\u001b[0;34m\u001b[0m\u001b[0;34m\u001b[0m\u001b[0m\n\u001b[0m\u001b[1;32m    230\u001b[0m     \u001b[0;32mreturn\u001b[0m \u001b[0mout\u001b[0m\u001b[0;34m\u001b[0m\u001b[0;34m\u001b[0m\u001b[0m\n\u001b[1;32m    231\u001b[0m \u001b[0;34m\u001b[0m\u001b[0m\n",
      "\u001b[0;32m~/anaconda3/lib/python3.6/site-packages/graphviz/backend.py\u001b[0m in \u001b[0;36mrun\u001b[0;34m(cmd, input, capture_output, check, quiet, **kwargs)\u001b[0m\n\u001b[1;32m    160\u001b[0m     \u001b[0;32mexcept\u001b[0m \u001b[0mOSError\u001b[0m \u001b[0;32mas\u001b[0m \u001b[0me\u001b[0m\u001b[0;34m:\u001b[0m\u001b[0;34m\u001b[0m\u001b[0;34m\u001b[0m\u001b[0m\n\u001b[1;32m    161\u001b[0m         \u001b[0;32mif\u001b[0m \u001b[0me\u001b[0m\u001b[0;34m.\u001b[0m\u001b[0merrno\u001b[0m \u001b[0;34m==\u001b[0m \u001b[0merrno\u001b[0m\u001b[0;34m.\u001b[0m\u001b[0mENOENT\u001b[0m\u001b[0;34m:\u001b[0m\u001b[0;34m\u001b[0m\u001b[0;34m\u001b[0m\u001b[0m\n\u001b[0;32m--> 162\u001b[0;31m             \u001b[0;32mraise\u001b[0m \u001b[0mExecutableNotFound\u001b[0m\u001b[0;34m(\u001b[0m\u001b[0mcmd\u001b[0m\u001b[0;34m)\u001b[0m\u001b[0;34m\u001b[0m\u001b[0;34m\u001b[0m\u001b[0m\n\u001b[0m\u001b[1;32m    163\u001b[0m         \u001b[0;32melse\u001b[0m\u001b[0;34m:\u001b[0m\u001b[0;34m\u001b[0m\u001b[0;34m\u001b[0m\u001b[0m\n\u001b[1;32m    164\u001b[0m             \u001b[0;32mraise\u001b[0m\u001b[0;34m\u001b[0m\u001b[0;34m\u001b[0m\u001b[0m\n",
      "\u001b[0;31mExecutableNotFound\u001b[0m: failed to execute ['dot', '-Tsvg'], make sure the Graphviz executables are on your systems' PATH"
     ]
    },
    {
     "data": {
      "text/plain": [
       "<graphviz.files.Source at 0x1a2154a780>"
      ]
     },
     "execution_count": 18,
     "metadata": {},
     "output_type": "execute_result"
    }
   ],
   "source": [
    "graph"
   ]
  },
  {
   "cell_type": "code",
   "execution_count": 16,
   "metadata": {
    "collapsed": true,
    "jupyter": {
     "outputs_hidden": true
    }
   },
   "outputs": [
    {
     "data": {
      "text/plain": [
       "[Text(189.42631578947368, 199.32, 'X[12] <= 755.0\\ngini = 0.658\\nsamples = 178\\nvalue = [59, 71, 48]'),\n",
       " Text(114.53684210526316, 163.07999999999998, 'X[11] <= 2.115\\ngini = 0.492\\nsamples = 111\\nvalue = [2, 67, 42]'),\n",
       " Text(70.48421052631579, 126.83999999999999, 'X[10] <= 0.935\\ngini = 0.227\\nsamples = 46\\nvalue = [0, 6, 40]'),\n",
       " Text(35.242105263157896, 90.6, 'X[6] <= 1.58\\ngini = 0.049\\nsamples = 40\\nvalue = [0, 1, 39]'),\n",
       " Text(17.621052631578948, 54.359999999999985, 'gini = 0.0\\nsamples = 39\\nvalue = [0, 0, 39]'),\n",
       " Text(52.863157894736844, 54.359999999999985, 'gini = 0.0\\nsamples = 1\\nvalue = [0, 1, 0]'),\n",
       " Text(105.72631578947369, 90.6, 'X[1] <= 2.395\\ngini = 0.278\\nsamples = 6\\nvalue = [0, 5, 1]'),\n",
       " Text(88.10526315789474, 54.359999999999985, 'gini = 0.0\\nsamples = 5\\nvalue = [0, 5, 0]'),\n",
       " Text(123.34736842105264, 54.359999999999985, 'gini = 0.0\\nsamples = 1\\nvalue = [0, 0, 1]'),\n",
       " Text(158.58947368421053, 126.83999999999999, 'X[6] <= 0.795\\ngini = 0.117\\nsamples = 65\\nvalue = [2, 61, 2]'),\n",
       " Text(140.96842105263158, 90.6, 'gini = 0.0\\nsamples = 2\\nvalue = [0, 0, 2]'),\n",
       " Text(176.21052631578948, 90.6, 'X[0] <= 13.175\\ngini = 0.061\\nsamples = 63\\nvalue = [2, 61, 0]'),\n",
       " Text(158.58947368421053, 54.359999999999985, 'gini = 0.0\\nsamples = 58\\nvalue = [0, 58, 0]'),\n",
       " Text(193.83157894736843, 54.359999999999985, 'X[9] <= 4.06\\ngini = 0.48\\nsamples = 5\\nvalue = [2, 3, 0]'),\n",
       " Text(176.21052631578948, 18.119999999999976, 'gini = 0.0\\nsamples = 3\\nvalue = [0, 3, 0]'),\n",
       " Text(211.45263157894738, 18.119999999999976, 'gini = 0.0\\nsamples = 2\\nvalue = [2, 0, 0]'),\n",
       " Text(264.3157894736842, 163.07999999999998, 'X[6] <= 2.165\\ngini = 0.265\\nsamples = 67\\nvalue = [57, 4, 6]'),\n",
       " Text(229.07368421052632, 126.83999999999999, 'X[10] <= 0.803\\ngini = 0.375\\nsamples = 8\\nvalue = [0, 2, 6]'),\n",
       " Text(211.45263157894738, 90.6, 'gini = 0.0\\nsamples = 6\\nvalue = [0, 0, 6]'),\n",
       " Text(246.69473684210527, 90.6, 'gini = 0.0\\nsamples = 2\\nvalue = [0, 2, 0]'),\n",
       " Text(299.5578947368421, 126.83999999999999, 'X[4] <= 135.5\\ngini = 0.065\\nsamples = 59\\nvalue = [57, 2, 0]'),\n",
       " Text(281.93684210526317, 90.6, 'gini = 0.0\\nsamples = 57\\nvalue = [57, 0, 0]'),\n",
       " Text(317.17894736842106, 90.6, 'gini = 0.0\\nsamples = 2\\nvalue = [0, 2, 0]')]"
      ]
     },
     "execution_count": 16,
     "metadata": {},
     "output_type": "execute_result"
    },
    {
     "data": {
      "image/png": "[encoded data removed]",
      "text/plain": [
       "<Figure size 432x288 with 1 Axes>"
      ]
     },
     "metadata": {
      "needs_background": "light"
     },
     "output_type": "display_data"
    }
   ],
   "source": [
    "plot_tree(clf)"
   ]
  },
  {
   "cell_type": "markdown",
   "metadata": {},
   "source": [
    "探索决策树"
   ]
  },
  {
   "cell_type": "code",
   "execution_count": null,
   "metadata": {},
   "outputs": [],
   "source": [
    "clf.feature_importances_"
   ]
  },
  {
   "cell_type": "code",
   "execution_count": null,
   "metadata": {},
   "outputs": [],
   "source": []
  },
  {
   "cell_type": "markdown",
   "metadata": {},
   "source": [
    "-----\n",
    "\n",
    "# 孤立森林\n",
    "\n",
    "`sklearn.ensemble.IsolationForest`，用于异常值检测.\n",
    "\n",
    "`IsolationForest(*, n_estimators=100, max_samples='auto', contamination='auto', max_features=1.0, bootstrap=False, n_jobs=None, random_state=None, verbose=0, warm_start=False)`\n",
    "\n",
    "+ 实例化参数\n",
    "  + `n_estimators`，用于计算的树的个数\n",
    "  + `max_samples`，每棵树中，用于构建的最大样本数，有如下取值：\n",
    "    + int, 指定使用的最大样本数\n",
    "    + float, 指定使用的比例\n",
    "    + `\"auto\"`, 那么取值为 $min(256, n\\_samples)$\n",
    "  \n",
    "  其他的不重要.\n",
    "\n",
    "\n",
    "+ 属性\n",
    "  + `base_estimator_`, \n",
    "  + `estimators_`, 拟合的所有的树的列表\n",
    "  + `max_samples_`, 使用的最大样本数\n",
    "  + `n_features_`, \n",
    "\n",
    "\n",
    "+ 方法\n",
    "  + `decision_function(X)`, 计算每个样本在所有base estimator中的 anomaly score 的均值.  \n",
    "  返回值是一个 `shape=(n_samples,)` 的ndarray.\n",
    "  + `fit_predict(X)`, `predict(X)`, 判断样本是否为异常点.  \n",
    "  返回值为 `shape=(n_samples,)`，1 表示正常， -1 表示异常值.\n",
    "  + `score_samples(X)`, 计算每个样本的 anomaly score 的负值？？？？？   \n",
    "  返回值为 ndarray of `shape=(n_samples,)`.\n",
    "  \n",
    "\n",
    "下面的例子来源于sklearn官方文档 [IsolationForest Sample](https://scikit-learn.org/stable/auto_examples/ensemble/plot_isolation_forest.html#sphx-glr-auto-examples-ensemble-plot-isolation-forest-py)."
   ]
  },
  {
   "cell_type": "code",
   "execution_count": 2,
   "metadata": {},
   "outputs": [],
   "source": [
    "from sklearn.ensemble import IsolationForest"
   ]
  },
  {
   "cell_type": "code",
   "execution_count": 3,
   "metadata": {},
   "outputs": [],
   "source": [
    "rng = np.random.RandomState(42)\n",
    "\n",
    "X = 0.5*rng.randn(100, 2)\n",
    "\n",
    "# 产生两个中心点，一个往左下方移动 2, 一个往右上方移动 2\n",
    "X = pd.DataFrame(np.vstack([X-2, X+2]), columns=['x', 'y'])\n",
    "\n",
    "# 产生一些异常点，从 [-4, 4]的区间的均匀分布产生\n",
    "X_outliers = pd.DataFrame(rng.uniform(low=-4, high=4, size=(20, 2)),  columns=['x', 'y'])"
   ]
  },
  {
   "cell_type": "code",
   "execution_count": 18,
   "metadata": {},
   "outputs": [],
   "source": [
    "ifrest = IsolationForest(n_estimators=20, max_samples=100)\n",
    "\n",
    "X_all = pd.concat([X, X_outliers], axis=0)\n",
    "ifrest.fit(X_all)\n",
    "y_pred = ifrest.predict(X_all)"
   ]
  },
  {
   "cell_type": "code",
   "execution_count": 19,
   "metadata": {},
   "outputs": [
    {
     "data": {
      "text/plain": [
       "array([ 21,  28, 188, 204,  11, 160,  72,  76, 106, 150, 185,  93,  56,\n",
       "        31, 141, 156,  14, 147, 171,  96, 127,  77, 173,  51,  10, 201,\n",
       "         9, 219,  69, 199,  78,  13, 153, 133, 176,  55, 132,  41,  91,\n",
       "       118, 208,  33, 158, 100, 125, 108,  32, 197, 192,  20, 113, 103,\n",
       "        37,  94,  67, 144,  17, 124, 206, 128, 216,  61,  70, 196,  47,\n",
       "        60,  87, 194, 203,  49,  63,  83,  34, 187, 149,  22, 121,  36,\n",
       "       212, 122, 175, 168, 112,  97,  19,   4, 105, 174, 110,  89, 191,\n",
       "       207, 190,  73,  27, 186, 178, 193,  90,   3])"
      ]
     },
     "execution_count": 19,
     "metadata": {},
     "output_type": "execute_result"
    }
   ],
   "source": [
    "ifrest.estimators_samples_[0]"
   ]
  },
  {
   "cell_type": "code",
   "execution_count": 20,
   "metadata": {},
   "outputs": [
    {
     "data": {
      "text/plain": [
       "array([ 1,  1,  1,  1,  1,  1, -1, -1,  1, -1])"
      ]
     },
     "execution_count": 20,
     "metadata": {},
     "output_type": "execute_result"
    }
   ],
   "source": [
    "y_pred[:10]"
   ]
  },
  {
   "cell_type": "code",
   "execution_count": 21,
   "metadata": {},
   "outputs": [],
   "source": [
    "outliers_pred = X_all[y_pred == -1]"
   ]
  },
  {
   "cell_type": "code",
   "execution_count": 23,
   "metadata": {},
   "outputs": [
    {
     "data": {
      "text/plain": [
       "(60, 2)"
      ]
     },
     "execution_count": 23,
     "metadata": {},
     "output_type": "execute_result"
    }
   ],
   "source": [
    "outliers_pred.shape"
   ]
  },
  {
   "cell_type": "code",
   "execution_count": 42,
   "metadata": {},
   "outputs": [
    {
     "data": {
      "application/vnd.plotly.v1+json": {
       "config": {
        "plotlyServerURL": "https://plot.ly"
       },
       "data": [
        {
         "hovertemplate": "x=%{x}<br>y=%{y}<extra></extra>",
         "legendgroup": "",
         "marker": {
          "color": "blue",
          "symbol": "circle"
         },
         "mode": "markers",
         "name": "actual data",
         "orientation": "v",
         "showlegend": true,
         "type": "scatter",
         "x": [
          -1.7516429234943836,
          -1.6761557309496538,
          -2.117076687361668,
          -1.2103935922463043,
          -2.234737192967476,
          -2.231708846406231,
          -1.879018864216983,
          -2.862458916256516,
          -2.506415560167212,
          -2.4540120377606054,
          -1.267175615539223,
          -1.9662358976560381,
          -2.2721913622625913,
          -2.5754967887111513,
          -2.3003193449594024,
          -2.3008533061146985,
          -2.006748612368967,
          -1.5887275439484054,
          -1.8955682024976224,
          -2.6640930244492154,
          -1.6307667100022947,
          -2.05782414119412,
          -2.739260995183714,
          -2.230319385479894,
          -1.8281908552157693,
          -1.8379580153026025,
          -2.3384610001529795,
          -1.4845002387520245,
          -2.419608761611319,
          -1.834368284298218,
          -2.239587118922645,
          -2.553167487003014,
          -1.593737088802901,
          -2.036005060790167,
          -1.819181987476183,
          -1.819302197245793,
          -2.017913019554976,
          -3.3098725520448724,
          -1.9564764658809144,
          -1.9541196117322488,
          -2.109835943918756,
          -1.2610529776292418,
          -2.4042468014465936,
          -1.542298941148963,
          -2.264880101883519,
          -1.9514612253259798,
          -2.351026546938676,
          -2.196054076566079,
          -1.851939861467712,
          -1.9974432716787696,
          -2.707685371025207,
          -2.171357258263385,
          -2.0806428558330046,
          -1.0569070493947348,
          -1.8712248046386177,
          -2.9593856076495206,
          -1.9698848950294867,
          -2.096180482390561,
          -2.0173558848526216,
          -1.4285885927424897,
          -1.6044840264784765,
          -1.2986028445319504,
          -1.7065714530998648,
          -2.495268162565344,
          -1.9501743174561794,
          -2.775331715533066,
          -2.5311518568630524,
          -2.4597121171169016,
          -2.3916266461681186,
          -1.593241391315165,
          -1.8862700326979354,
          -2.8037416172806138,
          -1.8700586028757882,
          -2.618475355439041,
          -1.7390292171915511,
          -1.8747535748270616,
          -2.3400123607892453,
          -1.8534637633506594,
          -1.0671127444276216,
          -2.595651748601324,
          -2.4873408351136606,
          -1.420702210496298,
          -1.5183119353778392,
          -1.588969920002755,
          -2.1226940580014353,
          -2.4447572148127614,
          -2.038550854707052,
          -1.8616546003349905,
          -1.9934990540610464,
          -2.132328416618978,
          -1.687166326117497,
          -2.535446249030556,
          -2.1117313926629255,
          -1.7633811877132275,
          -2.4233968590342023,
          -2.2232574760335106,
          -1.8929531279348981,
          -1.913409537074409,
          -2.4419287181005664,
          -1.970895640777,
          2.2483570765056164,
          2.3238442690503462,
          1.882923312638332,
          2.7896064077536957,
          1.765262807032524,
          1.7682911535937689,
          2.1209811357830173,
          1.1375410837434836,
          1.4935844398327882,
          1.5459879622393946,
          2.732824384460777,
          2.033764102343962,
          1.7278086377374087,
          1.4245032112888487,
          1.6996806550405976,
          1.6991466938853015,
          1.993251387631033,
          2.4112724560515946,
          2.104431797502378,
          1.3359069755507846,
          2.3692332899977053,
          1.9421758588058797,
          1.2607390048162863,
          1.7696806145201063,
          2.1718091447842305,
          2.1620419846973977,
          1.6615389998470207,
          2.5154997612479755,
          1.5803912383886807,
          2.165631715701782,
          1.760412881077355,
          1.446832512996986,
          2.406262911197099,
          1.963994939209833,
          2.180818012523817,
          2.180697802754207,
          1.9820869804450243,
          0.6901274479551278,
          2.043523534119086,
          2.045880388267751,
          1.890164056081244,
          2.738947022370758,
          1.5957531985534061,
          2.457701058851037,
          1.7351198981164806,
          2.0485387746740202,
          1.6489734530613238,
          1.8039459234339212,
          2.148060138532288,
          2.0025567283212307,
          1.2923146289747929,
          1.8286427417366153,
          1.9193571441669954,
          2.943092950605265,
          2.1287751953613823,
          1.0406143923504794,
          2.030115104970513,
          1.9038195176094388,
          1.9826441151473784,
          2.5714114072575103,
          2.3955159735215235,
          2.7013971554680496,
          2.293428546900135,
          1.5047318374346559,
          2.049825682543821,
          1.2246682844669337,
          1.4688481431369476,
          1.5402878828830984,
          1.6083733538318814,
          2.406758608684835,
          2.113729967302065,
          1.1962583827193862,
          2.129941397124212,
          1.381524644560959,
          2.2609707828084487,
          2.1252464251729384,
          1.6599876392107547,
          2.146536236649341,
          2.9328872555723784,
          1.4043482513986758,
          1.5126591648863392,
          2.579297789503702,
          2.481688064622161,
          2.411030079997245,
          1.8773059419985647,
          1.5552427851872384,
          1.961449145292948,
          2.1383453996650097,
          2.0065009459389533,
          1.867671583381022,
          2.312833673882503,
          1.464553750969444,
          1.8882686073370745,
          2.2366188122867725,
          1.5766031409657975,
          1.7767425239664894,
          2.107046872065102,
          2.086590462925591,
          1.5580712818994336,
          2.029104359223
         ],
         "xaxis": "x",
         "y": [
          -2.069132150585592,
          -1.2384850717959872,
          -2.1170684784745903,
          -1.6162826354235456,
          -1.7287199782070177,
          -2.2328648767851282,
          -2.956640122328899,
          -2.281143764620486,
          -1.842876333702363,
          -2.706151850667646,
          -2.112888150243268,
          -2.712374093106728,
          -1.9445387051450669,
          -1.812150990827164,
          -2.1458468748966384,
          -1.073860907745531,
          -2.5288554644779504,
          -2.610421824985511,
          -2.979835061939888,
          -1.9015693820654382,
          -1.9143158594050147,
          -2.1505518477946444,
          -2.3599221041973544,
          -1.4714388868905421,
          -2.881520077681367,
          -2.1925411402081583,
          -1.6941618555795661,
          -1.5343599404419006,
          -2.1546061879256073,
          -1.5122274364388204,
          -2.0928294883319087,
          -2.5981033120403354,
          -1.3218799857145886,
          -1.498233551053988,
          -2.322559877302562,
          -1.2309817167670154,
          -1.217678172092997,
          -1.589048747812388,
          -2.1495036752329337,
          -2.993784457300446,
          -1.8214437142441269,
          -2.2591351091368237,
          -2.250878521792268,
          -1.8356244451701578,
          -1.743366283443322,
          -1.5156775047335553,
          -2.163831073298884,
          -2.7317574740660593,
          -1.8694723639100554,
          -2.1172935666875734,
          -2.2103226613826794,
          -2.4011386346108097,
          -1.7979745715927309,
          -1.9127110935840805,
          -2.037222957883084,
          -2.0132569377246083,
          -0.7683789437573569,
          -1.8492263288331938,
          -2.584339018809766,
          -1.6240334836566128,
          -2.4546937273973697,
          -2.7009255313961402,
          -0.9047721870950107,
          -2.283148864801386,
          -2.2517378270580997,
          -1.9657185125969863,
          -1.7632037846824091,
          -1.2250327974912303,
          -2.1610307581028376,
          -2.6154321582169775,
          -1.3464286228587858,
          -1.907683070733848,
          -1.6090885641113448,
          -2.6602283065421384,
          -1.8515076633834069,
          -1.826775895251512,
          -1.8838731514194982,
          -2.357175709013184,
          -1.7630835395441062,
          -1.6717231956830851,
          -1.606457698128774,
          -2.4103411591758555,
          -1.7936095365317508,
          -1.0516035086730264,
          -2.3768680821787447,
          -2.4079051424827194,
          -1.829424012591678,
          -1.5864083754819882,
          -1.2732329614213416,
          -0.6399154167051906,
          -2.4285787782081414,
          -1.7587637923784074,
          -1.642999752953954,
          -2.0364144563284365,
          -2.757423612342932,
          -1.5718006028382638,
          -2.6228693893559942,
          -1.8073413101355815,
          -1.923137447027236,
          -2.5714851489153117,
          1.9308678494144076,
          2.761514928204013,
          1.8829315215254097,
          2.3837173645764542,
          2.2712800217929825,
          1.7671351232148715,
          1.043359877671101,
          1.7188562353795136,
          2.157123666297637,
          1.2938481493323541,
          1.887111849756732,
          1.2876259068932716,
          2.055461294854933,
          2.1878490091728358,
          1.8541531251033616,
          2.926139092254469,
          1.4711445355220498,
          1.3895781750144889,
          1.020164938060112,
          2.0984306179345618,
          2.085684140594985,
          1.8494481522053556,
          1.6400778958026456,
          2.5285611131094576,
          1.118479922318633,
          1.8074588597918417,
          2.305838144420434,
          2.4656400595580994,
          1.8453938120743927,
          2.4877725635611796,
          1.9071705116680915,
          1.4018966879596646,
          2.6781200142854114,
          2.501766448946012,
          1.6774401226974378,
          2.7690182832329846,
          2.782321827907003,
          2.410951252187612,
          1.8504963247670663,
          1.0062155426995536,
          2.178556285755873,
          1.7408648908631763,
          1.7491214782077318,
          2.1643755548298422,
          2.256633716556678,
          2.4843224952664444,
          1.8361689267011159,
          1.2682425259339407,
          2.1305276360899446,
          1.8827064333124266,
          1.7896773386173206,
          1.5988613653891905,
          2.202025428407269,
          2.0872889064159197,
          1.9627770421169164,
          1.9867430622753917,
          3.231621056242643,
          2.150773671166806,
          1.4156609811902339,
          2.375966516343387,
          1.5453062726026305,
          1.2990744686038596,
          3.095227812904989,
          1.716851135198614,
          1.7482621729419003,
          2.0342814874030135,
          2.236796215317591,
          2.77496720250877,
          1.8389692418971622,
          1.3845678417830225,
          2.653571377141214,
          2.0923169292661523,
          2.390911435888655,
          1.3397716934578618,
          2.148492336616593,
          2.173224104748488,
          2.116126848580502,
          1.642824290986816,
          2.2369164604558938,
          2.328276804316915,
          2.393542301871226,
          1.5896588408241448,
          2.206390463468249,
          2.9483964913269736,
          1.6231319178212553,
          1.5920948575172809,
          2.170575987408322,
          2.413591624518012,
          2.726767038578658,
          3.3600845832948094,
          1.5714212217918586,
          2.2412362076215926,
          2.357000247046046,
          1.9635855436715637,
          1.2425763876570677,
          2.428199397161736,
          1.377130610644006,
          2.1926586898644183,
          2.076862552972764,
          1.4285148510846883
         ],
         "yaxis": "y"
        },
        {
         "marker": {
          "color": "red"
         },
         "mode": "markers",
         "name": "actual outliers",
         "type": "scatter",
         "x": [
          3.0189845754236435,
          1.5761259279621438,
          -1.1240707902419587,
          2.474889243828109,
          2.9365785486408296,
          0.09073919088750237,
          2.3863614317342012,
          1.6157350180616268,
          3.1200427345405304,
          -0.9953363788804479,
          0.6262411279693918,
          -0.27521585494031875,
          -1.7076699829737247,
          -3.7559980004876046,
          2.580804485277266,
          -2.9835158987849217,
          2.1599484247888867,
          0.983123806552002,
          -3.5865462306511384,
          0.32508097288085214
         ],
         "xaxis": "x",
         "y": [
          1.9261489420336355,
          1.6198726718968741,
          -1.651265245884053,
          2.480907157433446,
          3.3059244204517704,
          0.012130357497596833,
          1.1997114462221212,
          2.3663413554888084,
          -1.2960387451877136,
          -3.248144481273048,
          -3.7124618096260633,
          0.341157077660613,
          0.726666084552086,
          -3.7012144900062847,
          -1.1184748687098969,
          0.17794608043843496,
          -2.2734317800252546,
          -3.317220280049856,
          0.25083705254518396,
          1.0994392119856524
         ],
         "yaxis": "y"
        },
        {
         "marker": {
          "color": "green"
         },
         "mode": "markers",
         "name": "all data",
         "type": "scatter",
         "x": [
          -1.7516429234943836,
          -1.6761557309496538,
          -2.117076687361668,
          -1.2103935922463043,
          -2.234737192967476,
          -2.231708846406231,
          -1.879018864216983,
          -2.862458916256516,
          -2.506415560167212,
          -2.4540120377606054,
          -1.267175615539223,
          -1.9662358976560381,
          -2.2721913622625913,
          -2.5754967887111513,
          -2.3003193449594024,
          -2.3008533061146985,
          -2.006748612368967,
          -1.5887275439484054,
          -1.8955682024976224,
          -2.6640930244492154,
          -1.6307667100022947,
          -2.05782414119412,
          -2.739260995183714,
          -2.230319385479894,
          -1.8281908552157693,
          -1.8379580153026025,
          -2.3384610001529795,
          -1.4845002387520245,
          -2.419608761611319,
          -1.834368284298218,
          -2.239587118922645,
          -2.553167487003014,
          -1.593737088802901,
          -2.036005060790167,
          -1.819181987476183,
          -1.819302197245793,
          -2.017913019554976,
          -3.3098725520448724,
          -1.9564764658809144,
          -1.9541196117322488,
          -2.109835943918756,
          -1.2610529776292418,
          -2.4042468014465936,
          -1.542298941148963,
          -2.264880101883519,
          -1.9514612253259798,
          -2.351026546938676,
          -2.196054076566079,
          -1.851939861467712,
          -1.9974432716787696,
          -2.707685371025207,
          -2.171357258263385,
          -2.0806428558330046,
          -1.0569070493947348,
          -1.8712248046386177,
          -2.9593856076495206,
          -1.9698848950294867,
          -2.096180482390561,
          -2.0173558848526216,
          -1.4285885927424897,
          -1.6044840264784765,
          -1.2986028445319504,
          -1.7065714530998648,
          -2.495268162565344,
          -1.9501743174561794,
          -2.775331715533066,
          -2.5311518568630524,
          -2.4597121171169016,
          -2.3916266461681186,
          -1.593241391315165,
          -1.8862700326979354,
          -2.8037416172806138,
          -1.8700586028757882,
          -2.618475355439041,
          -1.7390292171915511,
          -1.8747535748270616,
          -2.3400123607892453,
          -1.8534637633506594,
          -1.0671127444276216,
          -2.595651748601324,
          -2.4873408351136606,
          -1.420702210496298,
          -1.5183119353778392,
          -1.588969920002755,
          -2.1226940580014353,
          -2.4447572148127614,
          -2.038550854707052,
          -1.8616546003349905,
          -1.9934990540610464,
          -2.132328416618978,
          -1.687166326117497,
          -2.535446249030556,
          -2.1117313926629255,
          -1.7633811877132275,
          -2.4233968590342023,
          -2.2232574760335106,
          -1.8929531279348981,
          -1.913409537074409,
          -2.4419287181005664,
          -1.970895640777,
          2.2483570765056164,
          2.3238442690503462,
          1.882923312638332,
          2.7896064077536957,
          1.765262807032524,
          1.7682911535937689,
          2.1209811357830173,
          1.1375410837434836,
          1.4935844398327882,
          1.5459879622393946,
          2.732824384460777,
          2.033764102343962,
          1.7278086377374087,
          1.4245032112888487,
          1.6996806550405976,
          1.6991466938853015,
          1.993251387631033,
          2.4112724560515946,
          2.104431797502378,
          1.3359069755507846,
          2.3692332899977053,
          1.9421758588058797,
          1.2607390048162863,
          1.7696806145201063,
          2.1718091447842305,
          2.1620419846973977,
          1.6615389998470207,
          2.5154997612479755,
          1.5803912383886807,
          2.165631715701782,
          1.760412881077355,
          1.446832512996986,
          2.406262911197099,
          1.963994939209833,
          2.180818012523817,
          2.180697802754207,
          1.9820869804450243,
          0.6901274479551278,
          2.043523534119086,
          2.045880388267751,
          1.890164056081244,
          2.738947022370758,
          1.5957531985534061,
          2.457701058851037,
          1.7351198981164806,
          2.0485387746740202,
          1.6489734530613238,
          1.8039459234339212,
          2.148060138532288,
          2.0025567283212307,
          1.2923146289747929,
          1.8286427417366153,
          1.9193571441669954,
          2.943092950605265,
          2.1287751953613823,
          1.0406143923504794,
          2.030115104970513,
          1.9038195176094388,
          1.9826441151473784,
          2.5714114072575103,
          2.3955159735215235,
          2.7013971554680496,
          2.293428546900135,
          1.5047318374346559,
          2.049825682543821,
          1.2246682844669337,
          1.4688481431369476,
          1.5402878828830984,
          1.6083733538318814,
          2.406758608684835,
          2.113729967302065,
          1.1962583827193862,
          2.129941397124212,
          1.381524644560959,
          2.2609707828084487,
          2.1252464251729384,
          1.6599876392107547,
          2.146536236649341,
          2.9328872555723784,
          1.4043482513986758,
          1.5126591648863392,
          2.579297789503702,
          2.481688064622161,
          2.411030079997245,
          1.8773059419985647,
          1.5552427851872384,
          1.961449145292948,
          2.1383453996650097,
          2.0065009459389533,
          1.867671583381022,
          2.312833673882503,
          1.464553750969444,
          1.8882686073370745,
          2.2366188122867725,
          1.5766031409657975,
          1.7767425239664894,
          2.107046872065102,
          2.086590462925591,
          1.5580712818994336,
          2.029104359223,
          3.0189845754236435,
          1.5761259279621438,
          -1.1240707902419587,
          2.474889243828109,
          2.9365785486408296,
          0.09073919088750237,
          2.3863614317342012,
          1.6157350180616268,
          3.1200427345405304,
          -0.9953363788804479,
          0.6262411279693918,
          -0.27521585494031875,
          -1.7076699829737247,
          -3.7559980004876046,
          2.580804485277266,
          -2.9835158987849217,
          2.1599484247888867,
          0.983123806552002,
          -3.5865462306511384,
          0.32508097288085214
         ],
         "xaxis": "x2",
         "y": [
          -2.069132150585592,
          -1.2384850717959872,
          -2.1170684784745903,
          -1.6162826354235456,
          -1.7287199782070177,
          -2.2328648767851282,
          -2.956640122328899,
          -2.281143764620486,
          -1.842876333702363,
          -2.706151850667646,
          -2.112888150243268,
          -2.712374093106728,
          -1.9445387051450669,
          -1.812150990827164,
          -2.1458468748966384,
          -1.073860907745531,
          -2.5288554644779504,
          -2.610421824985511,
          -2.979835061939888,
          -1.9015693820654382,
          -1.9143158594050147,
          -2.1505518477946444,
          -2.3599221041973544,
          -1.4714388868905421,
          -2.881520077681367,
          -2.1925411402081583,
          -1.6941618555795661,
          -1.5343599404419006,
          -2.1546061879256073,
          -1.5122274364388204,
          -2.0928294883319087,
          -2.5981033120403354,
          -1.3218799857145886,
          -1.498233551053988,
          -2.322559877302562,
          -1.2309817167670154,
          -1.217678172092997,
          -1.589048747812388,
          -2.1495036752329337,
          -2.993784457300446,
          -1.8214437142441269,
          -2.2591351091368237,
          -2.250878521792268,
          -1.8356244451701578,
          -1.743366283443322,
          -1.5156775047335553,
          -2.163831073298884,
          -2.7317574740660593,
          -1.8694723639100554,
          -2.1172935666875734,
          -2.2103226613826794,
          -2.4011386346108097,
          -1.7979745715927309,
          -1.9127110935840805,
          -2.037222957883084,
          -2.0132569377246083,
          -0.7683789437573569,
          -1.8492263288331938,
          -2.584339018809766,
          -1.6240334836566128,
          -2.4546937273973697,
          -2.7009255313961402,
          -0.9047721870950107,
          -2.283148864801386,
          -2.2517378270580997,
          -1.9657185125969863,
          -1.7632037846824091,
          -1.2250327974912303,
          -2.1610307581028376,
          -2.6154321582169775,
          -1.3464286228587858,
          -1.907683070733848,
          -1.6090885641113448,
          -2.6602283065421384,
          -1.8515076633834069,
          -1.826775895251512,
          -1.8838731514194982,
          -2.357175709013184,
          -1.7630835395441062,
          -1.6717231956830851,
          -1.606457698128774,
          -2.4103411591758555,
          -1.7936095365317508,
          -1.0516035086730264,
          -2.3768680821787447,
          -2.4079051424827194,
          -1.829424012591678,
          -1.5864083754819882,
          -1.2732329614213416,
          -0.6399154167051906,
          -2.4285787782081414,
          -1.7587637923784074,
          -1.642999752953954,
          -2.0364144563284365,
          -2.757423612342932,
          -1.5718006028382638,
          -2.6228693893559942,
          -1.8073413101355815,
          -1.923137447027236,
          -2.5714851489153117,
          1.9308678494144076,
          2.761514928204013,
          1.8829315215254097,
          2.3837173645764542,
          2.2712800217929825,
          1.7671351232148715,
          1.043359877671101,
          1.7188562353795136,
          2.157123666297637,
          1.2938481493323541,
          1.887111849756732,
          1.2876259068932716,
          2.055461294854933,
          2.1878490091728358,
          1.8541531251033616,
          2.926139092254469,
          1.4711445355220498,
          1.3895781750144889,
          1.020164938060112,
          2.0984306179345618,
          2.085684140594985,
          1.8494481522053556,
          1.6400778958026456,
          2.5285611131094576,
          1.118479922318633,
          1.8074588597918417,
          2.305838144420434,
          2.4656400595580994,
          1.8453938120743927,
          2.4877725635611796,
          1.9071705116680915,
          1.4018966879596646,
          2.6781200142854114,
          2.501766448946012,
          1.6774401226974378,
          2.7690182832329846,
          2.782321827907003,
          2.410951252187612,
          1.8504963247670663,
          1.0062155426995536,
          2.178556285755873,
          1.7408648908631763,
          1.7491214782077318,
          2.1643755548298422,
          2.256633716556678,
          2.4843224952664444,
          1.8361689267011159,
          1.2682425259339407,
          2.1305276360899446,
          1.8827064333124266,
          1.7896773386173206,
          1.5988613653891905,
          2.202025428407269,
          2.0872889064159197,
          1.9627770421169164,
          1.9867430622753917,
          3.231621056242643,
          2.150773671166806,
          1.4156609811902339,
          2.375966516343387,
          1.5453062726026305,
          1.2990744686038596,
          3.095227812904989,
          1.716851135198614,
          1.7482621729419003,
          2.0342814874030135,
          2.236796215317591,
          2.77496720250877,
          1.8389692418971622,
          1.3845678417830225,
          2.653571377141214,
          2.0923169292661523,
          2.390911435888655,
          1.3397716934578618,
          2.148492336616593,
          2.173224104748488,
          2.116126848580502,
          1.642824290986816,
          2.2369164604558938,
          2.328276804316915,
          2.393542301871226,
          1.5896588408241448,
          2.206390463468249,
          2.9483964913269736,
          1.6231319178212553,
          1.5920948575172809,
          2.170575987408322,
          2.413591624518012,
          2.726767038578658,
          3.3600845832948094,
          1.5714212217918586,
          2.2412362076215926,
          2.357000247046046,
          1.9635855436715637,
          1.2425763876570677,
          2.428199397161736,
          1.377130610644006,
          2.1926586898644183,
          2.076862552972764,
          1.4285148510846883,
          1.9261489420336355,
          1.6198726718968741,
          -1.651265245884053,
          2.480907157433446,
          3.3059244204517704,
          0.012130357497596833,
          1.1997114462221212,
          2.3663413554888084,
          -1.2960387451877136,
          -3.248144481273048,
          -3.7124618096260633,
          0.341157077660613,
          0.726666084552086,
          -3.7012144900062847,
          -1.1184748687098969,
          0.17794608043843496,
          -2.2734317800252546,
          -3.317220280049856,
          0.25083705254518396,
          1.0994392119856524
         ],
         "yaxis": "y2"
        },
        {
         "marker": {
          "color": "magenta"
         },
         "mode": "markers",
         "name": "detected_outliers",
         "type": "scatter",
         "x": [
          -1.879018864216983,
          -2.862458916256516,
          -2.4540120377606054,
          -1.9662358976560381,
          -2.3008533061146985,
          -1.8955682024976224,
          -2.739260995183714,
          -1.8281908552157693,
          -2.553167487003014,
          -3.3098725520448724,
          -1.9541196117322488,
          -1.2610529776292418,
          -2.196054076566079,
          -2.707685371025207,
          -2.9593856076495206,
          -1.9698848950294867,
          -1.2986028445319504,
          -1.7065714530998648,
          -2.495268162565344,
          -2.775331715533066,
          -2.8037416172806138,
          -2.618475355439041,
          -1.0671127444276216,
          -2.595651748601324,
          -2.4447572148127614,
          -2.132328416618978,
          -2.4233968590342023,
          2.3238442690503462,
          2.7896064077536957,
          1.6991466938853015,
          1.7696806145201063,
          2.406262911197099,
          2.180697802754207,
          1.9820869804450243,
          0.6901274479551278,
          2.943092950605265,
          2.030115104970513,
          2.293428546900135,
          1.5402878828830984,
          2.113729967302065,
          2.9328872555723784,
          2.411030079997245,
          2.0065009459389533,
          1.867671583381022,
          3.0189845754236435,
          -1.1240707902419587,
          2.9365785486408296,
          0.09073919088750237,
          3.1200427345405304,
          -0.9953363788804479,
          0.6262411279693918,
          -0.27521585494031875,
          -1.7076699829737247,
          -3.7559980004876046,
          2.580804485277266,
          -2.9835158987849217,
          2.1599484247888867,
          0.983123806552002,
          -3.5865462306511384,
          0.32508097288085214
         ],
         "xaxis": "x2",
         "y": [
          -2.956640122328899,
          -2.281143764620486,
          -2.706151850667646,
          -2.712374093106728,
          -1.073860907745531,
          -2.979835061939888,
          -2.3599221041973544,
          -2.881520077681367,
          -2.5981033120403354,
          -1.589048747812388,
          -2.993784457300446,
          -2.2591351091368237,
          -2.7317574740660593,
          -2.2103226613826794,
          -2.0132569377246083,
          -0.7683789437573569,
          -2.7009255313961402,
          -0.9047721870950107,
          -2.283148864801386,
          -1.9657185125969863,
          -1.907683070733848,
          -2.6602283065421384,
          -1.7630835395441062,
          -1.6717231956830851,
          -2.4079051424827194,
          -0.6399154167051906,
          -2.757423612342932,
          2.761514928204013,
          2.3837173645764542,
          2.926139092254469,
          2.5285611131094576,
          2.6781200142854114,
          2.7690182832329846,
          2.782321827907003,
          2.410951252187612,
          2.0872889064159197,
          3.231621056242643,
          3.095227812904989,
          2.77496720250877,
          2.653571377141214,
          2.2369164604558938,
          2.9483964913269736,
          2.726767038578658,
          3.3600845832948094,
          1.9261489420336355,
          -1.651265245884053,
          3.3059244204517704,
          0.012130357497596833,
          -1.2960387451877136,
          -3.248144481273048,
          -3.7124618096260633,
          0.341157077660613,
          0.726666084552086,
          -3.7012144900062847,
          -1.1184748687098969,
          0.17794608043843496,
          -2.2734317800252546,
          -3.317220280049856,
          0.25083705254518396,
          1.0994392119856524
         ],
         "yaxis": "y2"
        }
       ],
       "layout": {
        "autosize": true,
        "margin": {
         "b": 40,
         "l": 40,
         "r": 40,
         "t": 40
        },
        "template": {
         "data": {
          "bar": [
           {
            "error_x": {
             "color": "#2a3f5f"
            },
            "error_y": {
             "color": "#2a3f5f"
            },
            "marker": {
             "line": {
              "color": "#E5ECF6",
              "width": 0.5
             }
            },
            "type": "bar"
           }
          ],
          "barpolar": [
           {
            "marker": {
             "line": {
              "color": "#E5ECF6",
              "width": 0.5
             }
            },
            "type": "barpolar"
           }
          ],
          "carpet": [
           {
            "aaxis": {
             "endlinecolor": "#2a3f5f",
             "gridcolor": "white",
             "linecolor": "white",
             "minorgridcolor": "white",
             "startlinecolor": "#2a3f5f"
            },
            "baxis": {
             "endlinecolor": "#2a3f5f",
             "gridcolor": "white",
             "linecolor": "white",
             "minorgridcolor": "white",
             "startlinecolor": "#2a3f5f"
            },
            "type": "carpet"
           }
          ],
          "choropleth": [
           {
            "colorbar": {
             "outlinewidth": 0,
             "ticks": ""
            },
            "type": "choropleth"
           }
          ],
          "contour": [
           {
            "colorbar": {
             "outlinewidth": 0,
             "ticks": ""
            },
            "colorscale": [
             [
              0,
              "#0d0887"
             ],
             [
              0.1111111111111111,
              "#46039f"
             ],
             [
              0.2222222222222222,
              "#7201a8"
             ],
             [
              0.3333333333333333,
              "#9c179e"
             ],
             [
              0.4444444444444444,
              "#bd3786"
             ],
             [
              0.5555555555555556,
              "#d8576b"
             ],
             [
              0.6666666666666666,
              "#ed7953"
             ],
             [
              0.7777777777777778,
              "#fb9f3a"
             ],
             [
              0.8888888888888888,
              "#fdca26"
             ],
             [
              1,
              "#f0f921"
             ]
            ],
            "type": "contour"
           }
          ],
          "contourcarpet": [
           {
            "colorbar": {
             "outlinewidth": 0,
             "ticks": ""
            },
            "type": "contourcarpet"
           }
          ],
          "heatmap": [
           {
            "colorbar": {
             "outlinewidth": 0,
             "ticks": ""
            },
            "colorscale": [
             [
              0,
              "#0d0887"
             ],
             [
              0.1111111111111111,
              "#46039f"
             ],
             [
              0.2222222222222222,
              "#7201a8"
             ],
             [
              0.3333333333333333,
              "#9c179e"
             ],
             [
              0.4444444444444444,
              "#bd3786"
             ],
             [
              0.5555555555555556,
              "#d8576b"
             ],
             [
              0.6666666666666666,
              "#ed7953"
             ],
             [
              0.7777777777777778,
              "#fb9f3a"
             ],
             [
              0.8888888888888888,
              "#fdca26"
             ],
             [
              1,
              "#f0f921"
             ]
            ],
            "type": "heatmap"
           }
          ],
          "heatmapgl": [
           {
            "colorbar": {
             "outlinewidth": 0,
             "ticks": ""
            },
            "colorscale": [
             [
              0,
              "#0d0887"
             ],
             [
              0.1111111111111111,
              "#46039f"
             ],
             [
              0.2222222222222222,
              "#7201a8"
             ],
             [
              0.3333333333333333,
              "#9c179e"
             ],
             [
              0.4444444444444444,
              "#bd3786"
             ],
             [
              0.5555555555555556,
              "#d8576b"
             ],
             [
              0.6666666666666666,
              "#ed7953"
             ],
             [
              0.7777777777777778,
              "#fb9f3a"
             ],
             [
              0.8888888888888888,
              "#fdca26"
             ],
             [
              1,
              "#f0f921"
             ]
            ],
            "type": "heatmapgl"
           }
          ],
          "histogram": [
           {
            "marker": {
             "colorbar": {
              "outlinewidth": 0,
              "ticks": ""
             }
            },
            "type": "histogram"
           }
          ],
          "histogram2d": [
           {
            "colorbar": {
             "outlinewidth": 0,
             "ticks": ""
            },
            "colorscale": [
             [
              0,
              "#0d0887"
             ],
             [
              0.1111111111111111,
              "#46039f"
             ],
             [
              0.2222222222222222,
              "#7201a8"
             ],
             [
              0.3333333333333333,
              "#9c179e"
             ],
             [
              0.4444444444444444,
              "#bd3786"
             ],
             [
              0.5555555555555556,
              "#d8576b"
             ],
             [
              0.6666666666666666,
              "#ed7953"
             ],
             [
              0.7777777777777778,
              "#fb9f3a"
             ],
             [
              0.8888888888888888,
              "#fdca26"
             ],
             [
              1,
              "#f0f921"
             ]
            ],
            "type": "histogram2d"
           }
          ],
          "histogram2dcontour": [
           {
            "colorbar": {
             "outlinewidth": 0,
             "ticks": ""
            },
            "colorscale": [
             [
              0,
              "#0d0887"
             ],
             [
              0.1111111111111111,
              "#46039f"
             ],
             [
              0.2222222222222222,
              "#7201a8"
             ],
             [
              0.3333333333333333,
              "#9c179e"
             ],
             [
              0.4444444444444444,
              "#bd3786"
             ],
             [
              0.5555555555555556,
              "#d8576b"
             ],
             [
              0.6666666666666666,
              "#ed7953"
             ],
             [
              0.7777777777777778,
              "#fb9f3a"
             ],
             [
              0.8888888888888888,
              "#fdca26"
             ],
             [
              1,
              "#f0f921"
             ]
            ],
            "type": "histogram2dcontour"
           }
          ],
          "mesh3d": [
           {
            "colorbar": {
             "outlinewidth": 0,
             "ticks": ""
            },
            "type": "mesh3d"
           }
          ],
          "parcoords": [
           {
            "line": {
             "colorbar": {
              "outlinewidth": 0,
              "ticks": ""
             }
            },
            "type": "parcoords"
           }
          ],
          "pie": [
           {
            "automargin": true,
            "type": "pie"
           }
          ],
          "scatter": [
           {
            "marker": {
             "colorbar": {
              "outlinewidth": 0,
              "ticks": ""
             }
            },
            "type": "scatter"
           }
          ],
          "scatter3d": [
           {
            "line": {
             "colorbar": {
              "outlinewidth": 0,
              "ticks": ""
             }
            },
            "marker": {
             "colorbar": {
              "outlinewidth": 0,
              "ticks": ""
             }
            },
            "type": "scatter3d"
           }
          ],
          "scattercarpet": [
           {
            "marker": {
             "colorbar": {
              "outlinewidth": 0,
              "ticks": ""
             }
            },
            "type": "scattercarpet"
           }
          ],
          "scattergeo": [
           {
            "marker": {
             "colorbar": {
              "outlinewidth": 0,
              "ticks": ""
             }
            },
            "type": "scattergeo"
           }
          ],
          "scattergl": [
           {
            "marker": {
             "colorbar": {
              "outlinewidth": 0,
              "ticks": ""
             }
            },
            "type": "scattergl"
           }
          ],
          "scattermapbox": [
           {
            "marker": {
             "colorbar": {
              "outlinewidth": 0,
              "ticks": ""
             }
            },
            "type": "scattermapbox"
           }
          ],
          "scatterpolar": [
           {
            "marker": {
             "colorbar": {
              "outlinewidth": 0,
              "ticks": ""
             }
            },
            "type": "scatterpolar"
           }
          ],
          "scatterpolargl": [
           {
            "marker": {
             "colorbar": {
              "outlinewidth": 0,
              "ticks": ""
             }
            },
            "type": "scatterpolargl"
           }
          ],
          "scatterternary": [
           {
            "marker": {
             "colorbar": {
              "outlinewidth": 0,
              "ticks": ""
             }
            },
            "type": "scatterternary"
           }
          ],
          "surface": [
           {
            "colorbar": {
             "outlinewidth": 0,
             "ticks": ""
            },
            "colorscale": [
             [
              0,
              "#0d0887"
             ],
             [
              0.1111111111111111,
              "#46039f"
             ],
             [
              0.2222222222222222,
              "#7201a8"
             ],
             [
              0.3333333333333333,
              "#9c179e"
             ],
             [
              0.4444444444444444,
              "#bd3786"
             ],
             [
              0.5555555555555556,
              "#d8576b"
             ],
             [
              0.6666666666666666,
              "#ed7953"
             ],
             [
              0.7777777777777778,
              "#fb9f3a"
             ],
             [
              0.8888888888888888,
              "#fdca26"
             ],
             [
              1,
              "#f0f921"
             ]
            ],
            "type": "surface"
           }
          ],
          "table": [
           {
            "cells": {
             "fill": {
              "color": "#EBF0F8"
             },
             "line": {
              "color": "white"
             }
            },
            "header": {
             "fill": {
              "color": "#C8D4E3"
             },
             "line": {
              "color": "white"
             }
            },
            "type": "table"
           }
          ]
         },
         "layout": {
          "annotationdefaults": {
           "arrowcolor": "#2a3f5f",
           "arrowhead": 0,
           "arrowwidth": 1
          },
          "autotypenumbers": "strict",
          "coloraxis": {
           "colorbar": {
            "outlinewidth": 0,
            "ticks": ""
           }
          },
          "colorscale": {
           "diverging": [
            [
             0,
             "#8e0152"
            ],
            [
             0.1,
             "#c51b7d"
            ],
            [
             0.2,
             "#de77ae"
            ],
            [
             0.3,
             "#f1b6da"
            ],
            [
             0.4,
             "#fde0ef"
            ],
            [
             0.5,
             "#f7f7f7"
            ],
            [
             0.6,
             "#e6f5d0"
            ],
            [
             0.7,
             "#b8e186"
            ],
            [
             0.8,
             "#7fbc41"
            ],
            [
             0.9,
             "#4d9221"
            ],
            [
             1,
             "#276419"
            ]
           ],
           "sequential": [
            [
             0,
             "#0d0887"
            ],
            [
             0.1111111111111111,
             "#46039f"
            ],
            [
             0.2222222222222222,
             "#7201a8"
            ],
            [
             0.3333333333333333,
             "#9c179e"
            ],
            [
             0.4444444444444444,
             "#bd3786"
            ],
            [
             0.5555555555555556,
             "#d8576b"
            ],
            [
             0.6666666666666666,
             "#ed7953"
            ],
            [
             0.7777777777777778,
             "#fb9f3a"
            ],
            [
             0.8888888888888888,
             "#fdca26"
            ],
            [
             1,
             "#f0f921"
            ]
           ],
           "sequentialminus": [
            [
             0,
             "#0d0887"
            ],
            [
             0.1111111111111111,
             "#46039f"
            ],
            [
             0.2222222222222222,
             "#7201a8"
            ],
            [
             0.3333333333333333,
             "#9c179e"
            ],
            [
             0.4444444444444444,
             "#bd3786"
            ],
            [
             0.5555555555555556,
             "#d8576b"
            ],
            [
             0.6666666666666666,
             "#ed7953"
            ],
            [
             0.7777777777777778,
             "#fb9f3a"
            ],
            [
             0.8888888888888888,
             "#fdca26"
            ],
            [
             1,
             "#f0f921"
            ]
           ]
          },
          "colorway": [
           "#636efa",
           "#EF553B",
           "#00cc96",
           "#ab63fa",
           "#FFA15A",
           "#19d3f3",
           "#FF6692",
           "#B6E880",
           "#FF97FF",
           "#FECB52"
          ],
          "font": {
           "color": "#2a3f5f"
          },
          "geo": {
           "bgcolor": "white",
           "lakecolor": "white",
           "landcolor": "#E5ECF6",
           "showlakes": true,
           "showland": true,
           "subunitcolor": "white"
          },
          "hoverlabel": {
           "align": "left"
          },
          "hovermode": "closest",
          "mapbox": {
           "style": "light"
          },
          "paper_bgcolor": "white",
          "plot_bgcolor": "#E5ECF6",
          "polar": {
           "angularaxis": {
            "gridcolor": "white",
            "linecolor": "white",
            "ticks": ""
           },
           "bgcolor": "#E5ECF6",
           "radialaxis": {
            "gridcolor": "white",
            "linecolor": "white",
            "ticks": ""
           }
          },
          "scene": {
           "xaxis": {
            "backgroundcolor": "#E5ECF6",
            "gridcolor": "white",
            "gridwidth": 2,
            "linecolor": "white",
            "showbackground": true,
            "ticks": "",
            "zerolinecolor": "white"
           },
           "yaxis": {
            "backgroundcolor": "#E5ECF6",
            "gridcolor": "white",
            "gridwidth": 2,
            "linecolor": "white",
            "showbackground": true,
            "ticks": "",
            "zerolinecolor": "white"
           },
           "zaxis": {
            "backgroundcolor": "#E5ECF6",
            "gridcolor": "white",
            "gridwidth": 2,
            "linecolor": "white",
            "showbackground": true,
            "ticks": "",
            "zerolinecolor": "white"
           }
          },
          "shapedefaults": {
           "line": {
            "color": "#2a3f5f"
           }
          },
          "ternary": {
           "aaxis": {
            "gridcolor": "white",
            "linecolor": "white",
            "ticks": ""
           },
           "baxis": {
            "gridcolor": "white",
            "linecolor": "white",
            "ticks": ""
           },
           "bgcolor": "#E5ECF6",
           "caxis": {
            "gridcolor": "white",
            "linecolor": "white",
            "ticks": ""
           }
          },
          "title": {
           "x": 0.05
          },
          "xaxis": {
           "automargin": true,
           "gridcolor": "white",
           "linecolor": "white",
           "ticks": "",
           "title": {
            "standoff": 15
           },
           "zerolinecolor": "white",
           "zerolinewidth": 2
          },
          "yaxis": {
           "automargin": true,
           "gridcolor": "white",
           "linecolor": "white",
           "ticks": "",
           "title": {
            "standoff": 15
           },
           "zerolinecolor": "white",
           "zerolinewidth": 2
          }
         }
        },
        "xaxis": {
         "anchor": "y",
         "autorange": true,
         "domain": [
          0,
          0.45
         ],
         "range": [
          -4.200687300050207,
          3.564732034103133
         ],
         "type": "linear"
        },
        "xaxis2": {
         "anchor": "y2",
         "autorange": true,
         "domain": [
          0.55,
          1
         ],
         "range": [
          -4.200687300050207,
          3.564732034103133
         ],
         "type": "linear"
        },
        "yaxis": {
         "anchor": "x",
         "autorange": true,
         "domain": [
          0,
          1
         ],
         "range": [
          -4.195915441707444,
          3.8435382153761903
         ],
         "type": "linear"
        },
        "yaxis2": {
         "anchor": "x2",
         "autorange": true,
         "domain": [
          0,
          1
         ],
         "range": [
          -4.195915441707444,
          3.8435382153761903
         ],
         "type": "linear"
        }
       }
      },
      "image/png": "[encoded data removed]",
      "text/html": [
       "<div>                            <div id=\"200ab348-2f0e-4920-83b1-fea7acb9ec95\" class=\"plotly-graph-div\" style=\"height:525px; width:100%;\"></div>            <script type=\"text/javascript\">                require([\"plotly\"], function(Plotly) {                    window.PLOTLYENV=window.PLOTLYENV || {};                                    if (document.getElementById(\"200ab348-2f0e-4920-83b1-fea7acb9ec95\")) {                    Plotly.newPlot(                        \"200ab348-2f0e-4920-83b1-fea7acb9ec95\",                        [{\"hovertemplate\": \"x=%{x}<br>y=%{y}<extra></extra>\", \"legendgroup\": \"\", \"marker\": {\"color\": \"blue\", \"symbol\": \"circle\"}, \"mode\": \"markers\", \"name\": \"actual data\", \"orientation\": \"v\", \"showlegend\": true, \"type\": \"scatter\", \"x\": [-1.7516429234943836, -1.6761557309496538, -2.117076687361668, -1.2103935922463043, -2.234737192967476, -2.231708846406231, -1.879018864216983, -2.862458916256516, -2.506415560167212, -2.4540120377606054, -1.267175615539223, -1.9662358976560381, -2.2721913622625913, -2.5754967887111513, -2.3003193449594024, -2.3008533061146985, -2.006748612368967, -1.5887275439484054, -1.8955682024976224, -2.6640930244492154, -1.6307667100022947, -2.05782414119412, -2.739260995183714, -2.230319385479894, -1.8281908552157693, -1.8379580153026025, -2.3384610001529795, -1.4845002387520245, -2.419608761611319, -1.834368284298218, -2.239587118922645, -2.553167487003014, -1.593737088802901, -2.036005060790167, -1.819181987476183, -1.819302197245793, -2.017913019554976, -3.3098725520448724, -1.9564764658809144, -1.9541196117322488, -2.109835943918756, -1.2610529776292418, -2.4042468014465936, -1.542298941148963, -2.264880101883519, -1.9514612253259798, -2.351026546938676, -2.196054076566079, -1.851939861467712, -1.9974432716787696, -2.707685371025207, -2.171357258263385, -2.0806428558330046, -1.0569070493947348, -1.8712248046386177, -2.9593856076495206, -1.9698848950294867, -2.096180482390561, -2.0173558848526216, -1.4285885927424897, -1.6044840264784765, -1.2986028445319504, -1.7065714530998648, -2.495268162565344, -1.9501743174561794, -2.775331715533066, -2.5311518568630524, -2.4597121171169016, -2.3916266461681186, -1.593241391315165, -1.8862700326979354, -2.8037416172806138, -1.8700586028757882, -2.618475355439041, -1.7390292171915511, -1.8747535748270616, -2.3400123607892453, -1.8534637633506594, -1.0671127444276216, -2.595651748601324, -2.4873408351136606, -1.420702210496298, -1.5183119353778392, -1.588969920002755, -2.1226940580014353, -2.4447572148127614, -2.038550854707052, -1.8616546003349905, -1.9934990540610464, -2.132328416618978, -1.687166326117497, -2.535446249030556, -2.1117313926629255, -1.7633811877132275, -2.4233968590342023, -2.2232574760335106, -1.8929531279348981, -1.913409537074409, -2.4419287181005664, -1.970895640777, 2.2483570765056164, 2.3238442690503462, 1.882923312638332, 2.7896064077536957, 1.765262807032524, 1.7682911535937689, 2.1209811357830173, 1.1375410837434836, 1.4935844398327882, 1.5459879622393946, 2.732824384460777, 2.033764102343962, 1.7278086377374087, 1.4245032112888487, 1.6996806550405976, 1.6991466938853015, 1.993251387631033, 2.4112724560515946, 2.104431797502378, 1.3359069755507846, 2.3692332899977053, 1.9421758588058797, 1.2607390048162863, 1.7696806145201063, 2.1718091447842305, 2.1620419846973977, 1.6615389998470207, 2.5154997612479755, 1.5803912383886807, 2.165631715701782, 1.760412881077355, 1.446832512996986, 2.406262911197099, 1.963994939209833, 2.180818012523817, 2.180697802754207, 1.9820869804450243, 0.6901274479551278, 2.043523534119086, 2.045880388267751, 1.890164056081244, 2.738947022370758, 1.5957531985534061, 2.457701058851037, 1.7351198981164806, 2.0485387746740202, 1.6489734530613238, 1.8039459234339212, 2.148060138532288, 2.0025567283212307, 1.2923146289747929, 1.8286427417366153, 1.9193571441669954, 2.943092950605265, 2.1287751953613823, 1.0406143923504794, 2.030115104970513, 1.9038195176094388, 1.9826441151473784, 2.5714114072575103, 2.3955159735215235, 2.7013971554680496, 2.293428546900135, 1.5047318374346559, 2.049825682543821, 1.2246682844669337, 1.4688481431369476, 1.5402878828830984, 1.6083733538318814, 2.406758608684835, 2.113729967302065, 1.1962583827193862, 2.129941397124212, 1.381524644560959, 2.2609707828084487, 2.1252464251729384, 1.6599876392107547, 2.146536236649341, 2.9328872555723784, 1.4043482513986758, 1.5126591648863392, 2.579297789503702, 2.481688064622161, 2.411030079997245, 1.8773059419985647, 1.5552427851872384, 1.961449145292948, 2.1383453996650097, 2.0065009459389533, 1.867671583381022, 2.312833673882503, 1.464553750969444, 1.8882686073370745, 2.2366188122867725, 1.5766031409657975, 1.7767425239664894, 2.107046872065102, 2.086590462925591, 1.5580712818994336, 2.029104359223], \"xaxis\": \"x\", \"y\": [-2.069132150585592, -1.2384850717959872, -2.1170684784745903, -1.6162826354235456, -1.7287199782070177, -2.2328648767851282, -2.956640122328899, -2.281143764620486, -1.842876333702363, -2.706151850667646, -2.112888150243268, -2.712374093106728, -1.9445387051450669, -1.812150990827164, -2.1458468748966384, -1.073860907745531, -2.5288554644779504, -2.610421824985511, -2.979835061939888, -1.9015693820654382, -1.9143158594050147, -2.1505518477946444, -2.3599221041973544, -1.4714388868905421, -2.881520077681367, -2.1925411402081583, -1.6941618555795661, -1.5343599404419006, -2.1546061879256073, -1.5122274364388204, -2.0928294883319087, -2.5981033120403354, -1.3218799857145886, -1.498233551053988, -2.322559877302562, -1.2309817167670154, -1.217678172092997, -1.589048747812388, -2.1495036752329337, -2.993784457300446, -1.8214437142441269, -2.2591351091368237, -2.250878521792268, -1.8356244451701578, -1.743366283443322, -1.5156775047335553, -2.163831073298884, -2.7317574740660593, -1.8694723639100554, -2.1172935666875734, -2.2103226613826794, -2.4011386346108097, -1.7979745715927309, -1.9127110935840805, -2.037222957883084, -2.0132569377246083, -0.7683789437573569, -1.8492263288331938, -2.584339018809766, -1.6240334836566128, -2.4546937273973697, -2.7009255313961402, -0.9047721870950107, -2.283148864801386, -2.2517378270580997, -1.9657185125969863, -1.7632037846824091, -1.2250327974912303, -2.1610307581028376, -2.6154321582169775, -1.3464286228587858, -1.907683070733848, -1.6090885641113448, -2.6602283065421384, -1.8515076633834069, -1.826775895251512, -1.8838731514194982, -2.357175709013184, -1.7630835395441062, -1.6717231956830851, -1.606457698128774, -2.4103411591758555, -1.7936095365317508, -1.0516035086730264, -2.3768680821787447, -2.4079051424827194, -1.829424012591678, -1.5864083754819882, -1.2732329614213416, -0.6399154167051906, -2.4285787782081414, -1.7587637923784074, -1.642999752953954, -2.0364144563284365, -2.757423612342932, -1.5718006028382638, -2.6228693893559942, -1.8073413101355815, -1.923137447027236, -2.5714851489153117, 1.9308678494144076, 2.761514928204013, 1.8829315215254097, 2.3837173645764542, 2.2712800217929825, 1.7671351232148715, 1.043359877671101, 1.7188562353795136, 2.157123666297637, 1.2938481493323541, 1.887111849756732, 1.2876259068932716, 2.055461294854933, 2.1878490091728358, 1.8541531251033616, 2.926139092254469, 1.4711445355220498, 1.3895781750144889, 1.020164938060112, 2.0984306179345618, 2.085684140594985, 1.8494481522053556, 1.6400778958026456, 2.5285611131094576, 1.118479922318633, 1.8074588597918417, 2.305838144420434, 2.4656400595580994, 1.8453938120743927, 2.4877725635611796, 1.9071705116680915, 1.4018966879596646, 2.6781200142854114, 2.501766448946012, 1.6774401226974378, 2.7690182832329846, 2.782321827907003, 2.410951252187612, 1.8504963247670663, 1.0062155426995536, 2.178556285755873, 1.7408648908631763, 1.7491214782077318, 2.1643755548298422, 2.256633716556678, 2.4843224952664444, 1.8361689267011159, 1.2682425259339407, 2.1305276360899446, 1.8827064333124266, 1.7896773386173206, 1.5988613653891905, 2.202025428407269, 2.0872889064159197, 1.9627770421169164, 1.9867430622753917, 3.231621056242643, 2.150773671166806, 1.4156609811902339, 2.375966516343387, 1.5453062726026305, 1.2990744686038596, 3.095227812904989, 1.716851135198614, 1.7482621729419003, 2.0342814874030135, 2.236796215317591, 2.77496720250877, 1.8389692418971622, 1.3845678417830225, 2.653571377141214, 2.0923169292661523, 2.390911435888655, 1.3397716934578618, 2.148492336616593, 2.173224104748488, 2.116126848580502, 1.642824290986816, 2.2369164604558938, 2.328276804316915, 2.393542301871226, 1.5896588408241448, 2.206390463468249, 2.9483964913269736, 1.6231319178212553, 1.5920948575172809, 2.170575987408322, 2.413591624518012, 2.726767038578658, 3.3600845832948094, 1.5714212217918586, 2.2412362076215926, 2.357000247046046, 1.9635855436715637, 1.2425763876570677, 2.428199397161736, 1.377130610644006, 2.1926586898644183, 2.076862552972764, 1.4285148510846883], \"yaxis\": \"y\"}, {\"marker\": {\"color\": \"red\"}, \"mode\": \"markers\", \"name\": \"actual outliers\", \"type\": \"scatter\", \"x\": [3.0189845754236435, 1.5761259279621438, -1.1240707902419587, 2.474889243828109, 2.9365785486408296, 0.09073919088750237, 2.3863614317342012, 1.6157350180616268, 3.1200427345405304, -0.9953363788804479, 0.6262411279693918, -0.27521585494031875, -1.7076699829737247, -3.7559980004876046, 2.580804485277266, -2.9835158987849217, 2.1599484247888867, 0.983123806552002, -3.5865462306511384, 0.32508097288085214], \"xaxis\": \"x\", \"y\": [1.9261489420336355, 1.6198726718968741, -1.651265245884053, 2.480907157433446, 3.3059244204517704, 0.012130357497596833, 1.1997114462221212, 2.3663413554888084, -1.2960387451877136, -3.248144481273048, -3.7124618096260633, 0.341157077660613, 0.726666084552086, -3.7012144900062847, -1.1184748687098969, 0.17794608043843496, -2.2734317800252546, -3.317220280049856, 0.25083705254518396, 1.0994392119856524], \"yaxis\": \"y\"}, {\"marker\": {\"color\": \"green\"}, \"mode\": \"markers\", \"name\": \"all data\", \"type\": \"scatter\", \"x\": [-1.7516429234943836, -1.6761557309496538, -2.117076687361668, -1.2103935922463043, -2.234737192967476, -2.231708846406231, -1.879018864216983, -2.862458916256516, -2.506415560167212, -2.4540120377606054, -1.267175615539223, -1.9662358976560381, -2.2721913622625913, -2.5754967887111513, -2.3003193449594024, -2.3008533061146985, -2.006748612368967, -1.5887275439484054, -1.8955682024976224, -2.6640930244492154, -1.6307667100022947, -2.05782414119412, -2.739260995183714, -2.230319385479894, -1.8281908552157693, -1.8379580153026025, -2.3384610001529795, -1.4845002387520245, -2.419608761611319, -1.834368284298218, -2.239587118922645, -2.553167487003014, -1.593737088802901, -2.036005060790167, -1.819181987476183, -1.819302197245793, -2.017913019554976, -3.3098725520448724, -1.9564764658809144, -1.9541196117322488, -2.109835943918756, -1.2610529776292418, -2.4042468014465936, -1.542298941148963, -2.264880101883519, -1.9514612253259798, -2.351026546938676, -2.196054076566079, -1.851939861467712, -1.9974432716787696, -2.707685371025207, -2.171357258263385, -2.0806428558330046, -1.0569070493947348, -1.8712248046386177, -2.9593856076495206, -1.9698848950294867, -2.096180482390561, -2.0173558848526216, -1.4285885927424897, -1.6044840264784765, -1.2986028445319504, -1.7065714530998648, -2.495268162565344, -1.9501743174561794, -2.775331715533066, -2.5311518568630524, -2.4597121171169016, -2.3916266461681186, -1.593241391315165, -1.8862700326979354, -2.8037416172806138, -1.8700586028757882, -2.618475355439041, -1.7390292171915511, -1.8747535748270616, -2.3400123607892453, -1.8534637633506594, -1.0671127444276216, -2.595651748601324, -2.4873408351136606, -1.420702210496298, -1.5183119353778392, -1.588969920002755, -2.1226940580014353, -2.4447572148127614, -2.038550854707052, -1.8616546003349905, -1.9934990540610464, -2.132328416618978, -1.687166326117497, -2.535446249030556, -2.1117313926629255, -1.7633811877132275, -2.4233968590342023, -2.2232574760335106, -1.8929531279348981, -1.913409537074409, -2.4419287181005664, -1.970895640777, 2.2483570765056164, 2.3238442690503462, 1.882923312638332, 2.7896064077536957, 1.765262807032524, 1.7682911535937689, 2.1209811357830173, 1.1375410837434836, 1.4935844398327882, 1.5459879622393946, 2.732824384460777, 2.033764102343962, 1.7278086377374087, 1.4245032112888487, 1.6996806550405976, 1.6991466938853015, 1.993251387631033, 2.4112724560515946, 2.104431797502378, 1.3359069755507846, 2.3692332899977053, 1.9421758588058797, 1.2607390048162863, 1.7696806145201063, 2.1718091447842305, 2.1620419846973977, 1.6615389998470207, 2.5154997612479755, 1.5803912383886807, 2.165631715701782, 1.760412881077355, 1.446832512996986, 2.406262911197099, 1.963994939209833, 2.180818012523817, 2.180697802754207, 1.9820869804450243, 0.6901274479551278, 2.043523534119086, 2.045880388267751, 1.890164056081244, 2.738947022370758, 1.5957531985534061, 2.457701058851037, 1.7351198981164806, 2.0485387746740202, 1.6489734530613238, 1.8039459234339212, 2.148060138532288, 2.0025567283212307, 1.2923146289747929, 1.8286427417366153, 1.9193571441669954, 2.943092950605265, 2.1287751953613823, 1.0406143923504794, 2.030115104970513, 1.9038195176094388, 1.9826441151473784, 2.5714114072575103, 2.3955159735215235, 2.7013971554680496, 2.293428546900135, 1.5047318374346559, 2.049825682543821, 1.2246682844669337, 1.4688481431369476, 1.5402878828830984, 1.6083733538318814, 2.406758608684835, 2.113729967302065, 1.1962583827193862, 2.129941397124212, 1.381524644560959, 2.2609707828084487, 2.1252464251729384, 1.6599876392107547, 2.146536236649341, 2.9328872555723784, 1.4043482513986758, 1.5126591648863392, 2.579297789503702, 2.481688064622161, 2.411030079997245, 1.8773059419985647, 1.5552427851872384, 1.961449145292948, 2.1383453996650097, 2.0065009459389533, 1.867671583381022, 2.312833673882503, 1.464553750969444, 1.8882686073370745, 2.2366188122867725, 1.5766031409657975, 1.7767425239664894, 2.107046872065102, 2.086590462925591, 1.5580712818994336, 2.029104359223, 3.0189845754236435, 1.5761259279621438, -1.1240707902419587, 2.474889243828109, 2.9365785486408296, 0.09073919088750237, 2.3863614317342012, 1.6157350180616268, 3.1200427345405304, -0.9953363788804479, 0.6262411279693918, -0.27521585494031875, -1.7076699829737247, -3.7559980004876046, 2.580804485277266, -2.9835158987849217, 2.1599484247888867, 0.983123806552002, -3.5865462306511384, 0.32508097288085214], \"xaxis\": \"x2\", \"y\": [-2.069132150585592, -1.2384850717959872, -2.1170684784745903, -1.6162826354235456, -1.7287199782070177, -2.2328648767851282, -2.956640122328899, -2.281143764620486, -1.842876333702363, -2.706151850667646, -2.112888150243268, -2.712374093106728, -1.9445387051450669, -1.812150990827164, -2.1458468748966384, -1.073860907745531, -2.5288554644779504, -2.610421824985511, -2.979835061939888, -1.9015693820654382, -1.9143158594050147, -2.1505518477946444, -2.3599221041973544, -1.4714388868905421, -2.881520077681367, -2.1925411402081583, -1.6941618555795661, -1.5343599404419006, -2.1546061879256073, -1.5122274364388204, -2.0928294883319087, -2.5981033120403354, -1.3218799857145886, -1.498233551053988, -2.322559877302562, -1.2309817167670154, -1.217678172092997, -1.589048747812388, -2.1495036752329337, -2.993784457300446, -1.8214437142441269, -2.2591351091368237, -2.250878521792268, -1.8356244451701578, -1.743366283443322, -1.5156775047335553, -2.163831073298884, -2.7317574740660593, -1.8694723639100554, -2.1172935666875734, -2.2103226613826794, -2.4011386346108097, -1.7979745715927309, -1.9127110935840805, -2.037222957883084, -2.0132569377246083, -0.7683789437573569, -1.8492263288331938, -2.584339018809766, -1.6240334836566128, -2.4546937273973697, -2.7009255313961402, -0.9047721870950107, -2.283148864801386, -2.2517378270580997, -1.9657185125969863, -1.7632037846824091, -1.2250327974912303, -2.1610307581028376, -2.6154321582169775, -1.3464286228587858, -1.907683070733848, -1.6090885641113448, -2.6602283065421384, -1.8515076633834069, -1.826775895251512, -1.8838731514194982, -2.357175709013184, -1.7630835395441062, -1.6717231956830851, -1.606457698128774, -2.4103411591758555, -1.7936095365317508, -1.0516035086730264, -2.3768680821787447, -2.4079051424827194, -1.829424012591678, -1.5864083754819882, -1.2732329614213416, -0.6399154167051906, -2.4285787782081414, -1.7587637923784074, -1.642999752953954, -2.0364144563284365, -2.757423612342932, -1.5718006028382638, -2.6228693893559942, -1.8073413101355815, -1.923137447027236, -2.5714851489153117, 1.9308678494144076, 2.761514928204013, 1.8829315215254097, 2.3837173645764542, 2.2712800217929825, 1.7671351232148715, 1.043359877671101, 1.7188562353795136, 2.157123666297637, 1.2938481493323541, 1.887111849756732, 1.2876259068932716, 2.055461294854933, 2.1878490091728358, 1.8541531251033616, 2.926139092254469, 1.4711445355220498, 1.3895781750144889, 1.020164938060112, 2.0984306179345618, 2.085684140594985, 1.8494481522053556, 1.6400778958026456, 2.5285611131094576, 1.118479922318633, 1.8074588597918417, 2.305838144420434, 2.4656400595580994, 1.8453938120743927, 2.4877725635611796, 1.9071705116680915, 1.4018966879596646, 2.6781200142854114, 2.501766448946012, 1.6774401226974378, 2.7690182832329846, 2.782321827907003, 2.410951252187612, 1.8504963247670663, 1.0062155426995536, 2.178556285755873, 1.7408648908631763, 1.7491214782077318, 2.1643755548298422, 2.256633716556678, 2.4843224952664444, 1.8361689267011159, 1.2682425259339407, 2.1305276360899446, 1.8827064333124266, 1.7896773386173206, 1.5988613653891905, 2.202025428407269, 2.0872889064159197, 1.9627770421169164, 1.9867430622753917, 3.231621056242643, 2.150773671166806, 1.4156609811902339, 2.375966516343387, 1.5453062726026305, 1.2990744686038596, 3.095227812904989, 1.716851135198614, 1.7482621729419003, 2.0342814874030135, 2.236796215317591, 2.77496720250877, 1.8389692418971622, 1.3845678417830225, 2.653571377141214, 2.0923169292661523, 2.390911435888655, 1.3397716934578618, 2.148492336616593, 2.173224104748488, 2.116126848580502, 1.642824290986816, 2.2369164604558938, 2.328276804316915, 2.393542301871226, 1.5896588408241448, 2.206390463468249, 2.9483964913269736, 1.6231319178212553, 1.5920948575172809, 2.170575987408322, 2.413591624518012, 2.726767038578658, 3.3600845832948094, 1.5714212217918586, 2.2412362076215926, 2.357000247046046, 1.9635855436715637, 1.2425763876570677, 2.428199397161736, 1.377130610644006, 2.1926586898644183, 2.076862552972764, 1.4285148510846883, 1.9261489420336355, 1.6198726718968741, -1.651265245884053, 2.480907157433446, 3.3059244204517704, 0.012130357497596833, 1.1997114462221212, 2.3663413554888084, -1.2960387451877136, -3.248144481273048, -3.7124618096260633, 0.341157077660613, 0.726666084552086, -3.7012144900062847, -1.1184748687098969, 0.17794608043843496, -2.2734317800252546, -3.317220280049856, 0.25083705254518396, 1.0994392119856524], \"yaxis\": \"y2\"}, {\"marker\": {\"color\": \"magenta\"}, \"mode\": \"markers\", \"name\": \"detected_outliers\", \"type\": \"scatter\", \"x\": [-1.879018864216983, -2.862458916256516, -2.4540120377606054, -1.9662358976560381, -2.3008533061146985, -1.8955682024976224, -2.739260995183714, -1.8281908552157693, -2.553167487003014, -3.3098725520448724, -1.9541196117322488, -1.2610529776292418, -2.196054076566079, -2.707685371025207, -2.9593856076495206, -1.9698848950294867, -1.2986028445319504, -1.7065714530998648, -2.495268162565344, -2.775331715533066, -2.8037416172806138, -2.618475355439041, -1.0671127444276216, -2.595651748601324, -2.4447572148127614, -2.132328416618978, -2.4233968590342023, 2.3238442690503462, 2.7896064077536957, 1.6991466938853015, 1.7696806145201063, 2.406262911197099, 2.180697802754207, 1.9820869804450243, 0.6901274479551278, 2.943092950605265, 2.030115104970513, 2.293428546900135, 1.5402878828830984, 2.113729967302065, 2.9328872555723784, 2.411030079997245, 2.0065009459389533, 1.867671583381022, 3.0189845754236435, -1.1240707902419587, 2.9365785486408296, 0.09073919088750237, 3.1200427345405304, -0.9953363788804479, 0.6262411279693918, -0.27521585494031875, -1.7076699829737247, -3.7559980004876046, 2.580804485277266, -2.9835158987849217, 2.1599484247888867, 0.983123806552002, -3.5865462306511384, 0.32508097288085214], \"xaxis\": \"x2\", \"y\": [-2.956640122328899, -2.281143764620486, -2.706151850667646, -2.712374093106728, -1.073860907745531, -2.979835061939888, -2.3599221041973544, -2.881520077681367, -2.5981033120403354, -1.589048747812388, -2.993784457300446, -2.2591351091368237, -2.7317574740660593, -2.2103226613826794, -2.0132569377246083, -0.7683789437573569, -2.7009255313961402, -0.9047721870950107, -2.283148864801386, -1.9657185125969863, -1.907683070733848, -2.6602283065421384, -1.7630835395441062, -1.6717231956830851, -2.4079051424827194, -0.6399154167051906, -2.757423612342932, 2.761514928204013, 2.3837173645764542, 2.926139092254469, 2.5285611131094576, 2.6781200142854114, 2.7690182832329846, 2.782321827907003, 2.410951252187612, 2.0872889064159197, 3.231621056242643, 3.095227812904989, 2.77496720250877, 2.653571377141214, 2.2369164604558938, 2.9483964913269736, 2.726767038578658, 3.3600845832948094, 1.9261489420336355, -1.651265245884053, 3.3059244204517704, 0.012130357497596833, -1.2960387451877136, -3.248144481273048, -3.7124618096260633, 0.341157077660613, 0.726666084552086, -3.7012144900062847, -1.1184748687098969, 0.17794608043843496, -2.2734317800252546, -3.317220280049856, 0.25083705254518396, 1.0994392119856524], \"yaxis\": \"y2\"}],                        {\"margin\": {\"b\": 40, \"l\": 40, \"r\": 40, \"t\": 40}, \"template\": {\"data\": {\"bar\": [{\"error_x\": {\"color\": \"#2a3f5f\"}, \"error_y\": {\"color\": \"#2a3f5f\"}, \"marker\": {\"line\": {\"color\": \"#E5ECF6\", \"width\": 0.5}}, \"type\": \"bar\"}], \"barpolar\": [{\"marker\": {\"line\": {\"color\": \"#E5ECF6\", \"width\": 0.5}}, \"type\": \"barpolar\"}], \"carpet\": [{\"aaxis\": {\"endlinecolor\": \"#2a3f5f\", \"gridcolor\": \"white\", \"linecolor\": \"white\", \"minorgridcolor\": \"white\", \"startlinecolor\": \"#2a3f5f\"}, \"baxis\": {\"endlinecolor\": \"#2a3f5f\", \"gridcolor\": \"white\", \"linecolor\": \"white\", \"minorgridcolor\": \"white\", \"startlinecolor\": \"#2a3f5f\"}, \"type\": \"carpet\"}], \"choropleth\": [{\"colorbar\": {\"outlinewidth\": 0, \"ticks\": \"\"}, \"type\": \"choropleth\"}], \"contour\": [{\"colorbar\": {\"outlinewidth\": 0, \"ticks\": \"\"}, \"colorscale\": [[0.0, \"#0d0887\"], [0.1111111111111111, \"#46039f\"], [0.2222222222222222, \"#7201a8\"], [0.3333333333333333, \"#9c179e\"], [0.4444444444444444, \"#bd3786\"], [0.5555555555555556, \"#d8576b\"], [0.6666666666666666, \"#ed7953\"], [0.7777777777777778, \"#fb9f3a\"], [0.8888888888888888, \"#fdca26\"], [1.0, \"#f0f921\"]], \"type\": \"contour\"}], \"contourcarpet\": [{\"colorbar\": {\"outlinewidth\": 0, \"ticks\": \"\"}, \"type\": \"contourcarpet\"}], \"heatmap\": [{\"colorbar\": {\"outlinewidth\": 0, \"ticks\": \"\"}, \"colorscale\": [[0.0, \"#0d0887\"], [0.1111111111111111, \"#46039f\"], [0.2222222222222222, \"#7201a8\"], [0.3333333333333333, \"#9c179e\"], [0.4444444444444444, \"#bd3786\"], [0.5555555555555556, \"#d8576b\"], [0.6666666666666666, \"#ed7953\"], [0.7777777777777778, \"#fb9f3a\"], [0.8888888888888888, \"#fdca26\"], [1.0, \"#f0f921\"]], \"type\": \"heatmap\"}], \"heatmapgl\": [{\"colorbar\": {\"outlinewidth\": 0, \"ticks\": \"\"}, \"colorscale\": [[0.0, \"#0d0887\"], [0.1111111111111111, \"#46039f\"], [0.2222222222222222, \"#7201a8\"], [0.3333333333333333, \"#9c179e\"], [0.4444444444444444, \"#bd3786\"], [0.5555555555555556, \"#d8576b\"], [0.6666666666666666, \"#ed7953\"], [0.7777777777777778, \"#fb9f3a\"], [0.8888888888888888, \"#fdca26\"], [1.0, \"#f0f921\"]], \"type\": \"heatmapgl\"}], \"histogram\": [{\"marker\": {\"colorbar\": {\"outlinewidth\": 0, \"ticks\": \"\"}}, \"type\": \"histogram\"}], \"histogram2d\": [{\"colorbar\": {\"outlinewidth\": 0, \"ticks\": \"\"}, \"colorscale\": [[0.0, \"#0d0887\"], [0.1111111111111111, \"#46039f\"], [0.2222222222222222, \"#7201a8\"], [0.3333333333333333, \"#9c179e\"], [0.4444444444444444, \"#bd3786\"], [0.5555555555555556, \"#d8576b\"], [0.6666666666666666, \"#ed7953\"], [0.7777777777777778, \"#fb9f3a\"], [0.8888888888888888, \"#fdca26\"], [1.0, \"#f0f921\"]], \"type\": \"histogram2d\"}], \"histogram2dcontour\": [{\"colorbar\": {\"outlinewidth\": 0, \"ticks\": \"\"}, \"colorscale\": [[0.0, \"#0d0887\"], [0.1111111111111111, \"#46039f\"], [0.2222222222222222, \"#7201a8\"], [0.3333333333333333, \"#9c179e\"], [0.4444444444444444, \"#bd3786\"], [0.5555555555555556, \"#d8576b\"], [0.6666666666666666, \"#ed7953\"], [0.7777777777777778, \"#fb9f3a\"], [0.8888888888888888, \"#fdca26\"], [1.0, \"#f0f921\"]], \"type\": \"histogram2dcontour\"}], \"mesh3d\": [{\"colorbar\": {\"outlinewidth\": 0, \"ticks\": \"\"}, \"type\": \"mesh3d\"}], \"parcoords\": [{\"line\": {\"colorbar\": {\"outlinewidth\": 0, \"ticks\": \"\"}}, \"type\": \"parcoords\"}], \"pie\": [{\"automargin\": true, \"type\": \"pie\"}], \"scatter\": [{\"marker\": {\"colorbar\": {\"outlinewidth\": 0, \"ticks\": \"\"}}, \"type\": \"scatter\"}], \"scatter3d\": [{\"line\": {\"colorbar\": {\"outlinewidth\": 0, \"ticks\": \"\"}}, \"marker\": {\"colorbar\": {\"outlinewidth\": 0, \"ticks\": \"\"}}, \"type\": \"scatter3d\"}], \"scattercarpet\": [{\"marker\": {\"colorbar\": {\"outlinewidth\": 0, \"ticks\": \"\"}}, \"type\": \"scattercarpet\"}], \"scattergeo\": [{\"marker\": {\"colorbar\": {\"outlinewidth\": 0, \"ticks\": \"\"}}, \"type\": \"scattergeo\"}], \"scattergl\": [{\"marker\": {\"colorbar\": {\"outlinewidth\": 0, \"ticks\": \"\"}}, \"type\": \"scattergl\"}], \"scattermapbox\": [{\"marker\": {\"colorbar\": {\"outlinewidth\": 0, \"ticks\": \"\"}}, \"type\": \"scattermapbox\"}], \"scatterpolar\": [{\"marker\": {\"colorbar\": {\"outlinewidth\": 0, \"ticks\": \"\"}}, \"type\": \"scatterpolar\"}], \"scatterpolargl\": [{\"marker\": {\"colorbar\": {\"outlinewidth\": 0, \"ticks\": \"\"}}, \"type\": \"scatterpolargl\"}], \"scatterternary\": [{\"marker\": {\"colorbar\": {\"outlinewidth\": 0, \"ticks\": \"\"}}, \"type\": \"scatterternary\"}], \"surface\": [{\"colorbar\": {\"outlinewidth\": 0, \"ticks\": \"\"}, \"colorscale\": [[0.0, \"#0d0887\"], [0.1111111111111111, \"#46039f\"], [0.2222222222222222, \"#7201a8\"], [0.3333333333333333, \"#9c179e\"], [0.4444444444444444, \"#bd3786\"], [0.5555555555555556, \"#d8576b\"], [0.6666666666666666, \"#ed7953\"], [0.7777777777777778, \"#fb9f3a\"], [0.8888888888888888, \"#fdca26\"], [1.0, \"#f0f921\"]], \"type\": \"surface\"}], \"table\": [{\"cells\": {\"fill\": {\"color\": \"#EBF0F8\"}, \"line\": {\"color\": \"white\"}}, \"header\": {\"fill\": {\"color\": \"#C8D4E3\"}, \"line\": {\"color\": \"white\"}}, \"type\": \"table\"}]}, \"layout\": {\"annotationdefaults\": {\"arrowcolor\": \"#2a3f5f\", \"arrowhead\": 0, \"arrowwidth\": 1}, \"autotypenumbers\": \"strict\", \"coloraxis\": {\"colorbar\": {\"outlinewidth\": 0, \"ticks\": \"\"}}, \"colorscale\": {\"diverging\": [[0, \"#8e0152\"], [0.1, \"#c51b7d\"], [0.2, \"#de77ae\"], [0.3, \"#f1b6da\"], [0.4, \"#fde0ef\"], [0.5, \"#f7f7f7\"], [0.6, \"#e6f5d0\"], [0.7, \"#b8e186\"], [0.8, \"#7fbc41\"], [0.9, \"#4d9221\"], [1, \"#276419\"]], \"sequential\": [[0.0, \"#0d0887\"], [0.1111111111111111, \"#46039f\"], [0.2222222222222222, \"#7201a8\"], [0.3333333333333333, \"#9c179e\"], [0.4444444444444444, \"#bd3786\"], [0.5555555555555556, \"#d8576b\"], [0.6666666666666666, \"#ed7953\"], [0.7777777777777778, \"#fb9f3a\"], [0.8888888888888888, \"#fdca26\"], [1.0, \"#f0f921\"]], \"sequentialminus\": [[0.0, \"#0d0887\"], [0.1111111111111111, \"#46039f\"], [0.2222222222222222, \"#7201a8\"], [0.3333333333333333, \"#9c179e\"], [0.4444444444444444, \"#bd3786\"], [0.5555555555555556, \"#d8576b\"], [0.6666666666666666, \"#ed7953\"], [0.7777777777777778, \"#fb9f3a\"], [0.8888888888888888, \"#fdca26\"], [1.0, \"#f0f921\"]]}, \"colorway\": [\"#636efa\", \"#EF553B\", \"#00cc96\", \"#ab63fa\", \"#FFA15A\", \"#19d3f3\", \"#FF6692\", \"#B6E880\", \"#FF97FF\", \"#FECB52\"], \"font\": {\"color\": \"#2a3f5f\"}, \"geo\": {\"bgcolor\": \"white\", \"lakecolor\": \"white\", \"landcolor\": \"#E5ECF6\", \"showlakes\": true, \"showland\": true, \"subunitcolor\": \"white\"}, \"hoverlabel\": {\"align\": \"left\"}, \"hovermode\": \"closest\", \"mapbox\": {\"style\": \"light\"}, \"paper_bgcolor\": \"white\", \"plot_bgcolor\": \"#E5ECF6\", \"polar\": {\"angularaxis\": {\"gridcolor\": \"white\", \"linecolor\": \"white\", \"ticks\": \"\"}, \"bgcolor\": \"#E5ECF6\", \"radialaxis\": {\"gridcolor\": \"white\", \"linecolor\": \"white\", \"ticks\": \"\"}}, \"scene\": {\"xaxis\": {\"backgroundcolor\": \"#E5ECF6\", \"gridcolor\": \"white\", \"gridwidth\": 2, \"linecolor\": \"white\", \"showbackground\": true, \"ticks\": \"\", \"zerolinecolor\": \"white\"}, \"yaxis\": {\"backgroundcolor\": \"#E5ECF6\", \"gridcolor\": \"white\", \"gridwidth\": 2, \"linecolor\": \"white\", \"showbackground\": true, \"ticks\": \"\", \"zerolinecolor\": \"white\"}, \"zaxis\": {\"backgroundcolor\": \"#E5ECF6\", \"gridcolor\": \"white\", \"gridwidth\": 2, \"linecolor\": \"white\", \"showbackground\": true, \"ticks\": \"\", \"zerolinecolor\": \"white\"}}, \"shapedefaults\": {\"line\": {\"color\": \"#2a3f5f\"}}, \"ternary\": {\"aaxis\": {\"gridcolor\": \"white\", \"linecolor\": \"white\", \"ticks\": \"\"}, \"baxis\": {\"gridcolor\": \"white\", \"linecolor\": \"white\", \"ticks\": \"\"}, \"bgcolor\": \"#E5ECF6\", \"caxis\": {\"gridcolor\": \"white\", \"linecolor\": \"white\", \"ticks\": \"\"}}, \"title\": {\"x\": 0.05}, \"xaxis\": {\"automargin\": true, \"gridcolor\": \"white\", \"linecolor\": \"white\", \"ticks\": \"\", \"title\": {\"standoff\": 15}, \"zerolinecolor\": \"white\", \"zerolinewidth\": 2}, \"yaxis\": {\"automargin\": true, \"gridcolor\": \"white\", \"linecolor\": \"white\", \"ticks\": \"\", \"title\": {\"standoff\": 15}, \"zerolinecolor\": \"white\", \"zerolinewidth\": 2}}}, \"xaxis\": {\"anchor\": \"y\", \"domain\": [0.0, 0.45]}, \"xaxis2\": {\"anchor\": \"y2\", \"domain\": [0.55, 1.0]}, \"yaxis\": {\"anchor\": \"x\", \"domain\": [0.0, 1.0]}, \"yaxis2\": {\"anchor\": \"x2\", \"domain\": [0.0, 1.0]}},                        {\"responsive\": true}                    ).then(function(){\n",
       "                            \n",
       "var gd = document.getElementById('200ab348-2f0e-4920-83b1-fea7acb9ec95');\n",
       "var x = new MutationObserver(function (mutations, observer) {{\n",
       "        var display = window.getComputedStyle(gd).display;\n",
       "        if (!display || display === 'none') {{\n",
       "            console.log([gd, 'removed!']);\n",
       "            Plotly.purge(gd);\n",
       "            observer.disconnect();\n",
       "        }}\n",
       "}});\n",
       "\n",
       "// Listen for the removal of the full notebook cells\n",
       "var notebookContainer = gd.closest('#notebook-container');\n",
       "if (notebookContainer) {{\n",
       "    x.observe(notebookContainer, {childList: true});\n",
       "}}\n",
       "\n",
       "// Listen for the clearing of the current output cell\n",
       "var outputEl = gd.closest('.output');\n",
       "if (outputEl) {{\n",
       "    x.observe(outputEl, {childList: true});\n",
       "}}\n",
       "\n",
       "                        })                };                });            </script>        </div>"
      ]
     },
     "metadata": {},
     "output_type": "display_data"
    }
   ],
   "source": [
    "from plotly.subplots import make_subplots\n",
    "\n",
    "fig = make_subplots(rows=1, cols=2, row_heights=[400], column_widths=[500, 500])\n",
    "\n",
    "subfig = px.scatter(X, x='x', y='y', color_discrete_sequence=['blue'])\n",
    "subfig.data[0].name=\"actual data\"\n",
    "subfig.data[0].showlegend=True\n",
    "fig.add_trace(subfig.data[0], row=1, col=1)\n",
    "# subfig.data[0].showlegend=False\n",
    "# fig.add_trace(subfig.data[0], row=1, col=2)\n",
    "\n",
    "fig.add_trace(\n",
    "    go.Scatter(x=X_outliers['x'], y=X_outliers['y'], mode='markers',\n",
    "               marker=dict(color='red')\n",
    "               , name=\"actual outliers\"\n",
    "              ),\n",
    "    row=1, col=1\n",
    ")\n",
    "\n",
    "fig.add_trace(\n",
    "    go.Scatter(x=X_all['x'], y=X_all['y'], mode='markers',\n",
    "               marker=dict(color='green'),\n",
    "               name=\"all data\"\n",
    "              ),\n",
    "    row=1, col=2\n",
    ")\n",
    "\n",
    "\n",
    "fig.add_trace(\n",
    "    go.Scatter(x=outliers_pred['x'], y=outliers_pred['y'], mode='markers',\n",
    "              marker=dict(color='magenta'),\n",
    "               name=\"detected_outliers\"\n",
    "              ),\n",
    "    row=1, col=2\n",
    ")\n",
    "\n",
    "fig.update_layout(margin=dict(l=40, r=40, t=40, b=40))\n",
    "\n",
    "fig.show()"
   ]
  },
  {
   "cell_type": "code",
   "execution_count": null,
   "metadata": {},
   "outputs": [],
   "source": []
  }
 ],
 "metadata": {
  "kernelspec": {
   "display_name": "Python 3",
   "language": "python",
   "name": "python3"
  },
  "language_info": {
   "codemirror_mode": {
    "name": "ipython",
    "version": 3
   },
   "file_extension": ".py",
   "mimetype": "text/x-python",
   "name": "python",
   "nbconvert_exporter": "python",
   "pygments_lexer": "ipython3",
   "version": "3.7.6"
  },
  "toc-autonumbering": false
 },
 "nbformat": 4,
 "nbformat_minor": 4
}
