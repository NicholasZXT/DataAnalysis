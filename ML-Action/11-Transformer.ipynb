{
 "cells": [
  {
   "cell_type": "code",
   "execution_count": 1,
   "id": "western-testing",
   "metadata": {},
   "outputs": [
    {
     "name": "stdout",
     "output_type": "stream",
     "text": [
      "package版本信息：\n",
      "numpy:       1.19.2\n",
      "pandas:      1.0.1\n",
      "matplotlib:  3.3.1\n",
      "sklearn:     0.23.2\n",
      "seaborn:     0.11.1\n",
      "plotly:      4.14.1\n",
      "PyTorch:      1.2.0\n"
     ]
    }
   ],
   "source": [
    "import numpy as np\n",
    "import pandas as pd\n",
    "import matplotlib.pyplot as plt\n",
    "import seaborn as sns\n",
    "import plotly.express as px\n",
    "from plotly import graph_objects as go\n",
    "\n",
    "import matplotlib\n",
    "import plotly\n",
    "import sklearn\n",
    "import torch\n",
    "\n",
    "from torch import nn, optim\n",
    "\n",
    "from IPython.display import display\n",
    "plt.style.use(\"ggplot\")\n",
    "\n",
    "print(\"package版本信息：\")\n",
    "print(\"numpy:      \", np.__version__)\n",
    "print(\"pandas:     \", pd.__version__)\n",
    "print(\"matplotlib: \", matplotlib.__version__)\n",
    "print(\"sklearn:    \", sklearn.__version__)\n",
    "print(\"seaborn:    \", sns.__version__)\n",
    "print(\"plotly:     \", plotly.__version__)\n",
    "print(\"PyTorch:     \", torch.__version__)"
   ]
  },
  {
   "cell_type": "markdown",
   "id": "olympic-shepherd",
   "metadata": {},
   "source": [
    "# 基础\n",
    "\n",
    "huggingface/transformer\n",
    "\n",
    "\n",
    "transformer 包里最重要的三个子模块是：\n",
    "1. [Configuration](https://huggingface.co/transformers/main_classes/configuration.html)  \n",
    "基础的类是 `PretrainedConfig`（好像也只有这一个类），用于 导出\\导入 模型的配置。\n",
    "2. [Models](https://huggingface.co/transformers/main_classes/model.html)  \n",
    "基础的类有如下三个，用于构建模型：\n",
    "  + `PreTrainedModel`，pytorch的模型都继承了这个类，继承了 `torch.nn.Module` 类.\n",
    "  + `TFPreTrainedModel`，Tensorflow2.0里的模型都继承了这个类，继承了 `tf.keras.Model` 类.\n",
    "  + `FlaxPreTrainedModel`\n",
    "3. [Tokenizer](https://huggingface.co/transformers/main_classes/tokenizer.html)  \n",
    "包含两个基础的类，用于处理文本特征：\n",
    "  + `PreTrainedTokenizer`，这个比较慢\n",
    "  + `PreTrainedTokenizerFast`，这个比较快\n",
    "  \n",
    "上面这三个基础模块，都有如下两个方法用于导入\\导出配置：\n",
    "+ `.from_pretrained()`，导入预训练的模型\n",
    "+ `.save_pretrained()`，导出训练好的模型\n",
    "\n",
    "**第一次使用这些语句的时候，如果本地没有对应的模型，会下载这些模型**。\n",
    "  \n",
    "在上面的3个基础子模块之上，还提供了如下几个子模块工具：\n",
    "\n",
    "4. [Pipepline](https://huggingface.co/transformers/main_classes/pipelines.html)  \n",
    "用于快速使用模型，是对上面三个类的封装\n",
    "5. [Trainer](https://huggingface.co/transformers/main_classes/trainer.html)  \n",
    "用于快速训练或者 fine-tune 模型"
   ]
  },
  {
   "cell_type": "markdown",
   "id": "advance-finnish",
   "metadata": {},
   "source": [
    "transformer源码中，所有的模型结构都存放在 `/src/transformers/models`文件夹下，每个模型对应于一个文件夹（比如BERT对应的就是`bert`文件夹），每个模型的文件夹内，主要有如下几个`.py`文件，其中的 `xxx` 是对应模型的名称：\n",
    "+ **`configuration_xxx.py`**，编写了该模型对应的`PretrainedConfig`子类，比如BERT就是`BertConfig`。\n",
    "+ **`modeling_xxx.py`**，存放了pytorch编写的模型结构，要用到的模型类都放在这里面\n",
    "+ `modeling_tf_xxx.py`，存放tensorflow编写的模型结构\n",
    "+ `modeling_flax_xxx.py`\n",
    "+ **`tokenization_xxx.py`**，用于 分词的 实现类，比如BERT就是`BertTokenizer`类\n",
    "+ `tokenization_xxx_fast.py`，快速分词的实现类\n",
    "+ `convert_*.py`，用于将其它配置文件转换成对应的模型。\n",
    "\n",
    "\n",
    "我一般常用的两个模型是 **BERT** 和 **Distil-BERT**，所以下面会着重关注这两个模型里的实现。\n",
    "\n",
    "+ [BERT Models](https://huggingface.co/transformers/model_doc/bert.html) 包含如下类（以pytorch为例）\n",
    "  + `BertConfig`，配置类\n",
    "  + `BertTokenizer`，分词的类，基于 `WordPiece`\n",
    "  + `BertModel`，最基本的 BERT 模型类，它返回的是 BERT 模型的原始结果，包括隐藏层状态.\n",
    "  + `BertForPreTraining`，在 `BertModel`的输出上加了一层处理，以下的几个模型都是如此.\n",
    "  + `BertForMaskedLM`\n",
    "  + `BertForNextSentencePrediction`\n",
    "  + `BertForSequenceClassification`\n",
    "  + 还有其他的一些基础工具类和其他任务对于的BERT模型类，这里就不介绍了。\n",
    "  \n",
    "\n",
    "+ [DistilBERT Models](https://huggingface.co/transformers/model_doc/distilbert.html) 包含如下类"
   ]
  },
  {
   "cell_type": "code",
   "execution_count": null,
   "id": "satellite-drove",
   "metadata": {},
   "outputs": [],
   "source": [
    "from transformers import Ber"
   ]
  }
 ],
 "metadata": {
  "kernelspec": {
   "display_name": "Python 3",
   "language": "python",
   "name": "python3"
  },
  "language_info": {
   "codemirror_mode": {
    "name": "ipython",
    "version": 3
   },
   "file_extension": ".py",
   "mimetype": "text/x-python",
   "name": "python",
   "nbconvert_exporter": "python",
   "pygments_lexer": "ipython3",
   "version": "3.7.6"
  }
 },
 "nbformat": 4,
 "nbformat_minor": 5
}
