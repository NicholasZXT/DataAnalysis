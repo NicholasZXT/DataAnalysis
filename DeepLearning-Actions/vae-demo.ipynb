{
 "cells": [
  {
   "cell_type": "code",
   "execution_count": 13,
   "id": "initial_id",
   "metadata": {
    "collapsed": true,
    "ExecuteTime": {
     "end_time": "2023-12-17T08:18:30.342095400Z",
     "start_time": "2023-12-17T08:18:29.658189400Z"
    }
   },
   "outputs": [],
   "source": [
    "import os\n",
    "import numpy as np\n",
    "import matplotlib.pyplot as plt\n",
    "import torch\n",
    "import torch.nn as nn\n",
    "from torch.utils.data import DataLoader\n",
    "import torchvision.transforms as transforms\n",
    "from torchvision.utils import save_image, make_grid\n",
    "from torchvision.datasets import MNIST\n",
    "from torch.optim import Adam\n",
    "\n",
    "from tqdm import tqdm"
   ]
  },
  {
   "cell_type": "markdown",
   "source": [
    "参考文档：https://github.com/Jackson-Kang/Pytorch-VAE-tutorial/blob/master/01_Variational_AutoEncoder.ipynb"
   ],
   "metadata": {
    "collapsed": false
   },
   "id": "363c6ce883ff7079"
  },
  {
   "cell_type": "code",
   "execution_count": 2,
   "outputs": [
    {
     "name": "stdout",
     "output_type": "stream",
     "text": [
      "True\n"
     ]
    }
   ],
   "source": [
    "DATA_DIR = r\"D:\\Project-Workspace\\Python-Projects\\DataAnalysis\\local-datasets\\PyTorch\\MNIST\"\n",
    "print(os.path.exists(DATA_DIR))"
   ],
   "metadata": {
    "collapsed": false,
    "ExecuteTime": {
     "end_time": "2023-12-17T08:13:58.150483Z",
     "start_time": "2023-12-17T08:13:58.079477Z"
    }
   },
   "id": "6283a9ed70f4acf8"
  },
  {
   "cell_type": "code",
   "execution_count": 3,
   "outputs": [
    {
     "data": {
      "text/plain": "True"
     },
     "execution_count": 3,
     "metadata": {},
     "output_type": "execute_result"
    }
   ],
   "source": [
    "torch.cuda.is_available()"
   ],
   "metadata": {
    "collapsed": false,
    "ExecuteTime": {
     "end_time": "2023-12-17T08:13:59.336728Z",
     "start_time": "2023-12-17T08:13:59.264316Z"
    }
   },
   "id": "a6dda2d4cc04ddf"
  },
  {
   "cell_type": "code",
   "execution_count": 4,
   "outputs": [],
   "source": [
    "DEVICE = torch.device(\"cuda\") if torch.cuda.is_available() else torch.device(\"cpu\")\n",
    "\n",
    "batch_size = 100\n",
    "x_dim  = 784\n",
    "hidden_dim = 400\n",
    "latent_dim = 200\n",
    "\n",
    "lr = 1e-3\n",
    "epochs = 30"
   ],
   "metadata": {
    "collapsed": false,
    "ExecuteTime": {
     "end_time": "2023-12-17T08:14:00.606035900Z",
     "start_time": "2023-12-17T08:14:00.522306100Z"
    }
   },
   "id": "a2b00a0c30773894"
  },
  {
   "cell_type": "markdown",
   "source": [
    "# 数据集\n",
    "加载MINIS数据集"
   ],
   "metadata": {
    "collapsed": false
   },
   "id": "4dfcd2b9b8348bbc"
  },
  {
   "cell_type": "code",
   "execution_count": 5,
   "outputs": [],
   "source": [
    "# download=True\n",
    "download=False\n",
    "mnist_transform = transforms.Compose([transforms.ToTensor()])\n",
    "train_dataset = MNIST(DATA_DIR, transform=mnist_transform, train=True, download=download)\n",
    "test_dataset  = MNIST(DATA_DIR, transform=mnist_transform, train=False, download=download)"
   ],
   "metadata": {
    "collapsed": false,
    "ExecuteTime": {
     "end_time": "2023-12-17T08:14:05.257581300Z",
     "start_time": "2023-12-17T08:14:05.141054900Z"
    }
   },
   "id": "7b4f052e9956a812"
  },
  {
   "cell_type": "code",
   "execution_count": 6,
   "outputs": [],
   "source": [
    "kwargs = {'num_workers': 1, 'pin_memory': True}\n",
    "train_loader = DataLoader(dataset=train_dataset, batch_size=batch_size, shuffle=True, **kwargs)\n",
    "test_loader  = DataLoader(dataset=test_dataset,  batch_size=batch_size, shuffle=False, **kwargs)"
   ],
   "metadata": {
    "collapsed": false,
    "ExecuteTime": {
     "end_time": "2023-12-17T08:14:06.984316200Z",
     "start_time": "2023-12-17T08:14:06.907040800Z"
    }
   },
   "id": "a5eb64889165b5b6"
  },
  {
   "cell_type": "markdown",
   "source": [
    "# 定义简单VAE模型"
   ],
   "metadata": {
    "collapsed": false
   },
   "id": "dfacfdabefab8769"
  },
  {
   "cell_type": "code",
   "execution_count": 7,
   "outputs": [],
   "source": [
    "class VaeEncoder(nn.Module):\n",
    "    def __init__(self, input_dim, hidden_dim, latent_dim):\n",
    "        super().__init__()\n",
    "        # encoder部分原论文附录C.2使用的方式是：\n",
    "        # 1. 先对输入 z 使用一次线性变化 + tanh激活函数：h = tanh(W*z + b)\n",
    "        # 2. 将 h 分别输入两个线性变换，得到均值和方差： mean = W*h + b, var = W*h + b\n",
    "        # 这里使用的实现略有修改，对输入 z 使用了两次线性变换，并且激活函数不一样\n",
    "        self.FC_input = nn.Linear(input_dim, hidden_dim)\n",
    "        self.FC_input2 = nn.Linear(hidden_dim, hidden_dim)\n",
    "        # 激活函数\n",
    "        self.LeakyReLU = nn.LeakyReLU(0.2)\n",
    "        # 第1个全连接网络计算均值\n",
    "        self.FC_mean = nn.Linear(hidden_dim, latent_dim)\n",
    "        # 第2个全连接网络计算方差\n",
    "        self.FC_var = nn.Linear(hidden_dim, latent_dim)\n",
    "\n",
    "        self.training = True\n",
    "        \n",
    "    def forward(self, x):\n",
    "        # encoder produces mean and log of variance (i.e., parateters of simple tractable normal distribution \"q\")\n",
    "        # 先对 输入 进行 两次线性变化+激活函数\n",
    "        h_ = self.LeakyReLU(self.FC_input(x))\n",
    "        h_ = self.LeakyReLU(self.FC_input2(h_))\n",
    "        # 分别计算 均值 和 （对数）方差\n",
    "        mean = self.FC_mean(h_)\n",
    "        log_var = self.FC_var(h_)\n",
    "        return mean, log_var"
   ],
   "metadata": {
    "collapsed": false,
    "ExecuteTime": {
     "end_time": "2023-12-17T08:14:09.051856800Z",
     "start_time": "2023-12-17T08:14:08.977636800Z"
    }
   },
   "id": "92175994c6babe1b"
  },
  {
   "cell_type": "code",
   "execution_count": 8,
   "outputs": [],
   "source": [
    "class VaeDecoder(nn.Module):\n",
    "    def __init__(self, latent_dim, hidden_dim, output_dim):\n",
    "        super().__init__()\n",
    "        # decoder部分原论文附录C.1中使用的是 3层（2次线性变换），中间一层使用了 tanh 激活函数\n",
    "        # 这里选择使用 4层（3次线性算子）神经网络 + 一个激活函数，稍微复杂一点\n",
    "        # 当然，也有使用最简单的MLP的实现：3层（2次线性算子），不使用激活函数\n",
    "        self.FC_hidden = nn.Linear(latent_dim, hidden_dim)\n",
    "        self.FC_hidden2 = nn.Linear(hidden_dim, hidden_dim)\n",
    "        self.FC_output = nn.Linear(hidden_dim, output_dim)\n",
    "        self.LeakyReLU = nn.LeakyReLU(0.2)\n",
    "        \n",
    "    def forward(self, x):\n",
    "        h = self.LeakyReLU(self.FC_hidden(x))\n",
    "        h = self.LeakyReLU(self.FC_hidden2(h))\n",
    "        x_hat = torch.sigmoid(self.FC_output(h))\n",
    "        return x_hat\n",
    "        "
   ],
   "metadata": {
    "collapsed": false,
    "ExecuteTime": {
     "end_time": "2023-12-17T08:14:09.698175500Z",
     "start_time": "2023-12-17T08:14:09.612824900Z"
    }
   },
   "id": "9f6c6d70035e00ca"
  },
  {
   "cell_type": "code",
   "execution_count": 9,
   "outputs": [],
   "source": [
    "class VaeModel(nn.Module):\n",
    "    def __init__(self, encoder, decoder):\n",
    "        super().__init__()\n",
    "        self.encoder = encoder\n",
    "        self.decoder = decoder\n",
    "        \n",
    "    def reparameterization(self, mean, var):\n",
    "        epsilon = torch.randn_like(var).to(DEVICE)      # sampling epsilon        \n",
    "        z = mean + var * epsilon                        # reparameterization trick\n",
    "        return z\n",
    "        \n",
    "    def forward(self, x):\n",
    "        mean, log_var = self.encoder(x)\n",
    "        z = self.reparameterization(mean, torch.exp(0.5 * log_var))  # takes exponential function (log var -> var)\n",
    "        x_hat = self.decoder(z)\n",
    "        # 这几个输出后面用于构建两部分的误差\n",
    "        return x_hat, mean, log_var"
   ],
   "metadata": {
    "collapsed": false,
    "ExecuteTime": {
     "end_time": "2023-12-17T08:14:10.246118500Z",
     "start_time": "2023-12-17T08:14:10.122163300Z"
    }
   },
   "id": "517ed10755089bb7"
  },
  {
   "cell_type": "markdown",
   "source": [
    "# 训练过程"
   ],
   "metadata": {
    "collapsed": false
   },
   "id": "8706aa289c805c83"
  },
  {
   "cell_type": "markdown",
   "source": [
    "+ 模型输入"
   ],
   "metadata": {
    "collapsed": false
   },
   "id": "f870f8d8bd47a7da"
  },
  {
   "cell_type": "code",
   "execution_count": 10,
   "outputs": [],
   "source": [
    "encoder = VaeEncoder(input_dim=x_dim, hidden_dim=hidden_dim, latent_dim=latent_dim)\n",
    "decoder = VaeDecoder(latent_dim=latent_dim, hidden_dim = hidden_dim, output_dim = x_dim)\n",
    "model = VaeModel(encoder=encoder, decoder=decoder).to(DEVICE)"
   ],
   "metadata": {
    "collapsed": false,
    "ExecuteTime": {
     "end_time": "2023-12-17T08:14:12.492820300Z",
     "start_time": "2023-12-17T08:14:12.364154500Z"
    }
   },
   "id": "794472ab876189dc"
  },
  {
   "cell_type": "markdown",
   "source": [
    "+ 损失函数和优化器"
   ],
   "metadata": {
    "collapsed": false
   },
   "id": "da993036d792f0f9"
  },
  {
   "cell_type": "code",
   "execution_count": 11,
   "outputs": [],
   "source": [
    "def loss_function(x, x_hat, mean, log_var):\n",
    "    # 损失函数由两部分构成\n",
    "    reproduction_loss = nn.functional.binary_cross_entropy(x_hat, x, reduction='sum')\n",
    "    KLD = - 0.5 * torch.sum(1+ log_var - mean.pow(2) - log_var.exp())\n",
    "    return reproduction_loss + KLD\n",
    "\n",
    "optimizer = Adam(model.parameters(), lr=lr)"
   ],
   "metadata": {
    "collapsed": false,
    "ExecuteTime": {
     "end_time": "2023-12-17T08:14:15.190429200Z",
     "start_time": "2023-12-17T08:14:15.105877800Z"
    }
   },
   "id": "5221ed18cec8623e"
  },
  {
   "cell_type": "markdown",
   "source": [
    "+ 训练过程"
   ],
   "metadata": {
    "collapsed": false
   },
   "id": "47ea89935a3ef3ac"
  },
  {
   "cell_type": "code",
   "execution_count": 12,
   "outputs": [
    {
     "name": "stdout",
     "output_type": "stream",
     "text": [
      "Start training VAE...\n",
      "\tEpoch 1 complete! \tAverage Loss:  175.13683906771703\n",
      "\tEpoch 2 complete! \tAverage Loss:  131.77301986057492\n",
      "\tEpoch 3 complete! \tAverage Loss:  117.25602521128965\n",
      "\tEpoch 4 complete! \tAverage Loss:  112.57518751956385\n",
      "\tEpoch 5 complete! \tAverage Loss:  110.14237572060205\n",
      "\tEpoch 6 complete! \tAverage Loss:  108.6162407234714\n",
      "\tEpoch 7 complete! \tAverage Loss:  107.45412722375835\n",
      "\tEpoch 8 complete! \tAverage Loss:  106.47703454324916\n",
      "\tEpoch 9 complete! \tAverage Loss:  105.68372763199082\n",
      "\tEpoch 10 complete! \tAverage Loss:  104.91529596854132\n",
      "\tEpoch 11 complete! \tAverage Loss:  104.44410586654841\n",
      "\tEpoch 12 complete! \tAverage Loss:  103.91128943747391\n",
      "\tEpoch 13 complete! \tAverage Loss:  103.49292024793927\n",
      "\tEpoch 14 complete! \tAverage Loss:  103.06072409093281\n",
      "\tEpoch 15 complete! \tAverage Loss:  102.80882626643364\n",
      "\tEpoch 16 complete! \tAverage Loss:  102.51237242735289\n",
      "\tEpoch 17 complete! \tAverage Loss:  102.31954783036832\n",
      "\tEpoch 18 complete! \tAverage Loss:  102.1037639229445\n",
      "\tEpoch 19 complete! \tAverage Loss:  101.87437411962647\n",
      "\tEpoch 20 complete! \tAverage Loss:  101.6538935008869\n",
      "\tEpoch 21 complete! \tAverage Loss:  101.56761400837333\n",
      "\tEpoch 22 complete! \tAverage Loss:  101.4135343247861\n",
      "\tEpoch 23 complete! \tAverage Loss:  101.30457986618322\n",
      "\tEpoch 24 complete! \tAverage Loss:  101.14999468515234\n",
      "\tEpoch 25 complete! \tAverage Loss:  100.99622084985393\n",
      "\tEpoch 26 complete! \tAverage Loss:  100.86563515690213\n",
      "\tEpoch 27 complete! \tAverage Loss:  100.8117923427066\n",
      "\tEpoch 28 complete! \tAverage Loss:  100.68257827172893\n",
      "\tEpoch 29 complete! \tAverage Loss:  100.55747290405886\n",
      "\tEpoch 30 complete! \tAverage Loss:  100.49974123539232\n",
      "Finish!!\n"
     ]
    }
   ],
   "source": [
    "print(\"Start training VAE...\")\n",
    "\n",
    "model.train()\n",
    "\n",
    "for epoch in range(epochs):\n",
    "    overall_loss = 0\n",
    "    for batch_idx, (x, _) in enumerate(train_loader):\n",
    "        x = x.view(batch_size, x_dim)\n",
    "        x = x.to(DEVICE)\n",
    "\n",
    "        optimizer.zero_grad()\n",
    "\n",
    "        x_hat, mean, log_var = model(x)\n",
    "        loss = loss_function(x, x_hat, mean, log_var)\n",
    "        \n",
    "        overall_loss += loss.item()\n",
    "        \n",
    "        loss.backward()\n",
    "        optimizer.step()\n",
    "        \n",
    "    print(\"\\tEpoch\", epoch + 1, \"complete!\", \"\\tAverage Loss: \", overall_loss / (batch_idx * batch_size))\n",
    "    \n",
    "print(\"Finish!!\")"
   ],
   "metadata": {
    "collapsed": false,
    "ExecuteTime": {
     "end_time": "2023-12-17T08:17:40.680715100Z",
     "start_time": "2023-12-17T08:14:19.934302200Z"
    }
   },
   "id": "3f3578eb5346a940"
  },
  {
   "cell_type": "markdown",
   "source": [
    "# 检查测试集数据"
   ],
   "metadata": {
    "collapsed": false
   },
   "id": "89a3cf8d4c931bab"
  },
  {
   "cell_type": "code",
   "execution_count": 14,
   "outputs": [
    {
     "name": "stderr",
     "output_type": "stream",
     "text": [
      "  0%|          | 0/100 [00:01<?, ?it/s]\n"
     ]
    }
   ],
   "source": [
    "model.eval()\n",
    "\n",
    "with torch.no_grad():\n",
    "    for batch_idx, (x, _) in enumerate(tqdm(test_loader)):\n",
    "        x = x.view(batch_size, x_dim)\n",
    "        x = x.to(DEVICE)\n",
    "        x_hat, _, _ = model(x)\n",
    "        \n",
    "        break"
   ],
   "metadata": {
    "collapsed": false,
    "ExecuteTime": {
     "end_time": "2023-12-17T08:19:28.646188400Z",
     "start_time": "2023-12-17T08:19:27.104196800Z"
    }
   },
   "id": "749aef5afee6b84a"
  },
  {
   "cell_type": "code",
   "execution_count": 15,
   "outputs": [],
   "source": [
    "def show_image(x, idx):\n",
    "    x = x.view(batch_size, 28, 28)\n",
    "    plt.imshow(x[idx].cpu().numpy())"
   ],
   "metadata": {
    "collapsed": false,
    "ExecuteTime": {
     "end_time": "2023-12-17T08:19:46.341011100Z",
     "start_time": "2023-12-17T08:19:46.202081700Z"
    }
   },
   "id": "f4a54ca172ade5a"
  },
  {
   "cell_type": "code",
   "execution_count": 16,
   "outputs": [
    {
     "data": {
      "text/plain": "<Figure size 640x480 with 1 Axes>",
      "image/png": "[encoded data removed]"
     },
     "metadata": {},
     "output_type": "display_data"
    }
   ],
   "source": [
    "show_image(x, idx=0)"
   ],
   "metadata": {
    "collapsed": false,
    "ExecuteTime": {
     "end_time": "2023-12-17T08:20:08.918198700Z",
     "start_time": "2023-12-17T08:20:08.733798600Z"
    }
   },
   "id": "b8c46655b6c98bc9"
  },
  {
   "cell_type": "code",
   "execution_count": 17,
   "outputs": [
    {
     "data": {
      "text/plain": "<Figure size 640x480 with 1 Axes>",
      "image/png": "[encoded data removed]"
     },
     "metadata": {},
     "output_type": "display_data"
    }
   ],
   "source": [
    "show_image(x_hat, idx=0)"
   ],
   "metadata": {
    "collapsed": false,
    "ExecuteTime": {
     "end_time": "2023-12-17T08:20:22.517060800Z",
     "start_time": "2023-12-17T08:20:22.377159500Z"
    }
   },
   "id": "8b155a10c20fe829"
  },
  {
   "cell_type": "markdown",
   "source": [
    "# 生成数据"
   ],
   "metadata": {
    "collapsed": false
   },
   "id": "41fde8044c371ac"
  },
  {
   "cell_type": "code",
   "execution_count": 18,
   "outputs": [],
   "source": [
    "with torch.no_grad():\n",
    "    noise = torch.randn(batch_size, latent_dim).to(DEVICE)\n",
    "    generated_images = decoder(noise)"
   ],
   "metadata": {
    "collapsed": false,
    "ExecuteTime": {
     "end_time": "2023-12-17T08:22:03.137358200Z",
     "start_time": "2023-12-17T08:22:03.011150200Z"
    }
   },
   "id": "79c97f594e7e4c6d"
  },
  {
   "cell_type": "code",
   "execution_count": 19,
   "outputs": [
    {
     "data": {
      "text/plain": "<Figure size 640x480 with 1 Axes>",
      "image/png": "[encoded data removed]"
     },
     "metadata": {},
     "output_type": "display_data"
    }
   ],
   "source": [
    "show_image(generated_images, idx=12)"
   ],
   "metadata": {
    "collapsed": false,
    "ExecuteTime": {
     "end_time": "2023-12-17T08:22:14.645734400Z",
     "start_time": "2023-12-17T08:22:14.486081200Z"
    }
   },
   "id": "b0f72254fa284726"
  },
  {
   "cell_type": "code",
   "execution_count": 20,
   "outputs": [
    {
     "data": {
      "text/plain": "<Figure size 640x480 with 1 Axes>",
      "image/png": "[encoded data removed]"
     },
     "metadata": {},
     "output_type": "display_data"
    }
   ],
   "source": [
    "show_image(generated_images, idx=0)"
   ],
   "metadata": {
    "collapsed": false,
    "ExecuteTime": {
     "end_time": "2023-12-17T08:22:22.668354600Z",
     "start_time": "2023-12-17T08:22:22.535667900Z"
    }
   },
   "id": "c5187a0ea15c4dc"
  },
  {
   "cell_type": "code",
   "execution_count": null,
   "outputs": [],
   "source": [],
   "metadata": {
    "collapsed": false
   },
   "id": "60699639c9c041ef"
  }
 ],
 "metadata": {
  "kernelspec": {
   "display_name": "Python 3",
   "language": "python",
   "name": "python3"
  },
  "language_info": {
   "codemirror_mode": {
    "name": "ipython",
    "version": 2
   },
   "file_extension": ".py",
   "mimetype": "text/x-python",
   "name": "python",
   "nbconvert_exporter": "python",
   "pygments_lexer": "ipython2",
   "version": "2.7.6"
  }
 },
 "nbformat": 4,
 "nbformat_minor": 5
}
