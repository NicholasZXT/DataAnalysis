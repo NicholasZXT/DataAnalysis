{
 "cells": [
  {
   "cell_type": "markdown",
   "id": "7c171c0f-5954-467b-a750-2315e2ffc9f2",
   "metadata": {},
   "source": [
    "# NLP任务概述\n",
    "\n",
    "介绍NLP领域的基本概念和基本任务。  \n",
    "\n",
    "NLP领域的基本任务如下：  \n",
    "+ **分词**（segment）\n",
    "+ **词性标注**（part-of-speech tagging）\n",
    "+ **命名实体识别**（NER, Named Entity Recognition）\n",
    "+ 句法解析（syntax parsing）\n",
    "+ 指代消解（anaphora resolution）\n",
    "+ **关键词提取**\n",
    "+ **词向量**\n",
    "+ **文本向量化**\n",
    "\n",
    "其中黑体表示这里会涉及的部分。\n",
    "\n",
    "在上述基础任务之上的顶层任务有如下部分：\n",
    "+ 情感识别\n",
    "+ 文本分类\n",
    "+ 问答系统\n",
    "\n",
    "以下主要对NLP中的**基础任务**做一些总结和介绍。"
   ]
  },
  {
   "cell_type": "markdown",
   "id": "34fb7a33-cf3e-406a-b63d-3acd5cac7705",
   "metadata": {},
   "source": [
    "# 分词\n",
    "\n",
    "这部分主要是中文，因为英文本身就有空格作为单词划分，对分词需求不是很大。\n",
    "\n",
    "中文分词主要有如下3类方法：\n",
    "+ 基于规则的分词\n",
    "+ 基于统计的分词\n",
    "+ 混合分词\n",
    "\n",
    "中文分词现在主要用的是jieba分词。"
   ]
  },
  {
   "cell_type": "markdown",
   "id": "9239a20a-88be-4669-b24c-57576937413c",
   "metadata": {},
   "source": [
    "---"
   ]
  },
  {
   "cell_type": "markdown",
   "id": "dbed670e-d8d5-4f09-908e-ac081e784c15",
   "metadata": {},
   "source": [
    "# 词性标注与命名实体识别\n",
    "\n",
    "## 词性标注\n",
    "\n",
    "词性标注最朴素简单的一个方法是从语料库中**统计每个词所对应的高频词性，将其作为默认词性**，不过显然还有提升空间。\n",
    "\n",
    "主流的方法是，**将句子的词性标注作为一个序列标注问题**来解决，这样就有两类方法来进行处理：\n",
    "1. 传统模型，比如隐马尔科夫链，条件随机场的方法；\n",
    "2. 深度学习的Seq2Seq模型"
   ]
  },
  {
   "cell_type": "markdown",
   "id": "bccf922f-04ea-4150-ae4b-61c55a278b51",
   "metadata": {},
   "source": [
    "---"
   ]
  },
  {
   "cell_type": "markdown",
   "id": "cf29de0e-b455-47e4-a360-00a0e8c914fc",
   "metadata": {},
   "source": [
    "## 命名实体识别\n",
    "\n",
    "NER的目的是识别出语料中的专有名词，比如人名、地名、组织机构等命名实体，不过这个领域当前并不是一个热门的研究方向。\n",
    "\n",
    "NER的研究方法也分为如下3类：\n",
    "+ 基于规则\n",
    "+ 基于统计，也就是基于人工标注的语料，**将命名实体识别任务作为序列标注问题**来解决——这是当前比较主流的做法\n",
    "+ 混合方法"
   ]
  },
  {
   "cell_type": "markdown",
   "id": "be9d818c-6bf2-442f-b2eb-46f0a0bf6876",
   "metadata": {},
   "source": [
    "---"
   ]
  },
  {
   "cell_type": "markdown",
   "id": "081afd91-a949-4774-9ea1-5f6bf1c8d1fd",
   "metadata": {},
   "source": [
    "# 关键词提取"
   ]
  },
  {
   "cell_type": "markdown",
   "id": "abe4a18d-a9d8-43f7-a388-128c12260c0f",
   "metadata": {},
   "source": [
    "---"
   ]
  },
  {
   "cell_type": "markdown",
   "id": "49486544-a990-49ab-905f-ab94a4de2c13",
   "metadata": {},
   "source": [
    "# 文本向量化"
   ]
  },
  {
   "cell_type": "markdown",
   "id": "25abb4e0-c23a-4a17-a2f6-d43eacd1f9e7",
   "metadata": {},
   "source": [
    "## 词袋表示"
   ]
  },
  {
   "cell_type": "markdown",
   "id": "8ab89d8a-3bb1-4bc1-8133-7033dd6cb8f1",
   "metadata": {},
   "source": [
    "## TF-IDF"
   ]
  },
  {
   "cell_type": "markdown",
   "id": "b3cace44-10cc-427b-ab14-a42e31d63b4c",
   "metadata": {},
   "source": [
    "---"
   ]
  },
  {
   "cell_type": "markdown",
   "id": "5ff50cdf-438d-4ead-817c-a278e71e04ca",
   "metadata": {},
   "source": [
    "# 词向量"
   ]
  },
  {
   "cell_type": "markdown",
   "id": "f88e3727-6152-434c-9432-a3567739c308",
   "metadata": {},
   "source": [
    "## one-hot方式"
   ]
  },
  {
   "cell_type": "markdown",
   "id": "8cb8b88f-b016-412f-828d-abe4cc0cec70",
   "metadata": {},
   "source": []
  }
 ],
 "metadata": {
  "kernelspec": {
   "display_name": "data-analysis(Python3.8.12)",
   "language": "python",
   "name": "data-analysis"
  },
  "language_info": {
   "codemirror_mode": {
    "name": "ipython",
    "version": 3
   },
   "file_extension": ".py",
   "mimetype": "text/x-python",
   "name": "python",
   "nbconvert_exporter": "python",
   "pygments_lexer": "ipython3",
   "version": "3.8.12"
  }
 },
 "nbformat": 4,
 "nbformat_minor": 5
}
