{
 "cells": [
  {
   "cell_type": "code",
   "execution_count": 1,
   "metadata": {},
   "outputs": [
    {
     "name": "stdout",
     "output_type": "stream",
     "text": [
      "package版本信息：\n",
      "numpy:       1.18.1\n",
      "pandas:      1.0.1\n",
      "matplotlib:  3.1.3\n",
      "sklearn:     0.22.1\n",
      "seaborn:     0.10.0\n",
      "plotly:      4.14.1\n"
     ]
    }
   ],
   "source": [
    "import numpy as np\n",
    "import pandas as pd\n",
    "import matplotlib.pyplot as plt\n",
    "import seaborn as sns\n",
    "import plotly.express as px\n",
    "from plotly import graph_objects as go\n",
    "\n",
    "import matplotlib\n",
    "import plotly\n",
    "import sklearn\n",
    "\n",
    "from IPython.display import display\n",
    "plt.style.use(\"ggplot\")\n",
    "\n",
    "print(\"package版本信息：\")\n",
    "print(\"numpy:      \", np.__version__)\n",
    "print(\"pandas:     \", pd.__version__)\n",
    "print(\"matplotlib: \", matplotlib.__version__)\n",
    "print(\"sklearn:    \", sklearn.__version__)\n",
    "print(\"seaborn:    \", sns.__version__)\n",
    "print(\"plotly:     \", plotly.__version__)"
   ]
  },
  {
   "cell_type": "code",
   "execution_count": 2,
   "metadata": {},
   "outputs": [],
   "source": [
    "# 设置显示所有的列\n",
    "pd.options.display.max_columns = None\n",
    "# 设置显示所有的行\n",
    "pd.options.display.max_rows = None\n",
    "\n",
    "# 阻止waring显示\n",
    "import warnings\n",
    "warnings.filterwarnings('ignore')"
   ]
  },
  {
   "cell_type": "markdown",
   "metadata": {},
   "source": [
    "# 探索性数据分析EDA"
   ]
  },
  {
   "cell_type": "markdown",
   "metadata": {},
   "source": [
    "## 数据读取"
   ]
  },
  {
   "cell_type": "code",
   "execution_count": 3,
   "metadata": {},
   "outputs": [
    {
     "data": {
      "text/plain": [
       "'D:\\\\Project-Workspace\\\\Python-Projects\\\\DataAnalysis\\\\Tianchi\\\\Loans-Default-Predict'"
      ]
     },
     "execution_count": 3,
     "metadata": {},
     "output_type": "execute_result"
    }
   ],
   "source": [
    "pwd"
   ]
  },
  {
   "cell_type": "code",
   "execution_count": 4,
   "metadata": {},
   "outputs": [
    {
     "name": "stdout",
     "output_type": "stream",
     "text": [
      "(800000, 47)\n",
      "(200000, 46)\n"
     ]
    }
   ],
   "source": [
    "data = pd.read_csv(\"dataset/train.csv\")\n",
    "test = pd.read_csv(\"dataset/testA.csv\")\n",
    "print(data.shape)\n",
    "print(test.shape)"
   ]
  },
  {
   "cell_type": "code",
   "execution_count": 5,
   "metadata": {
    "collapsed": true,
    "jupyter": {
     "outputs_hidden": true
    }
   },
   "outputs": [
    {
     "data": {
      "text/plain": [
       "Index(['id', 'loanAmnt', 'term', 'interestRate', 'installment', 'grade',\n",
       "       'subGrade', 'employmentTitle', 'employmentLength', 'homeOwnership',\n",
       "       'annualIncome', 'verificationStatus', 'issueDate', 'isDefault',\n",
       "       'purpose', 'postCode', 'regionCode', 'dti', 'delinquency_2years',\n",
       "       'ficoRangeLow', 'ficoRangeHigh', 'openAcc', 'pubRec',\n",
       "       'pubRecBankruptcies', 'revolBal', 'revolUtil', 'totalAcc',\n",
       "       'initialListStatus', 'applicationType', 'earliesCreditLine', 'title',\n",
       "       'policyCode', 'n0', 'n1', 'n2', 'n3', 'n4', 'n5', 'n6', 'n7', 'n8',\n",
       "       'n9', 'n10', 'n11', 'n12', 'n13', 'n14'],\n",
       "      dtype='object')"
      ]
     },
     "execution_count": 5,
     "metadata": {},
     "output_type": "execute_result"
    }
   ],
   "source": [
    "data.columns"
   ]
  },
  {
   "cell_type": "markdown",
   "metadata": {},
   "source": [
    "## 检查类别标签是否平衡"
   ]
  },
  {
   "cell_type": "code",
   "execution_count": 7,
   "metadata": {},
   "outputs": [
    {
     "data": {
      "text/plain": [
       "0    640390\n",
       "1    159610\n",
       "Name: isDefault, dtype: int64"
      ]
     },
     "execution_count": 7,
     "metadata": {},
     "output_type": "execute_result"
    }
   ],
   "source": [
    "y.value_counts()"
   ]
  },
  {
   "cell_type": "markdown",
   "metadata": {},
   "source": [
    "## 特征概览\n",
    "\n",
    "一共46个特征字段，具体分类如下\n",
    "\n",
    "+ ID字段：id\n",
    "+ 数值型——31个\n",
    "  + 实数型——10个  \n",
    "    loanAmnt，interestRate，installment，annualIncome，dti，ficoRangeLow，ficoRangeHigh，revolBal，revolUtil，totalAcc\n",
    "  + 计数型——4+15=19个  \n",
    "    delinquency_2years，openAcc，pubRec，pubRecBankruptcies，n0至n14\n",
    "  + 日期型——2个  \n",
    "    issueDate，earliesCreditLine\n",
    "+ 类别型——10个\n",
    "  + 有序型——5个  \n",
    "    term，grade，subGrade，employmentLength，homeOwnership\n",
    "  + 标称型——5个  \n",
    "    verificationStatus，purpose，initialListStatus，applicationType，policyCode   \n",
    "+ 待定——4个  \n",
    "  employmentTitle，postCode，regionCode，title\n",
    "  \n",
    "  \n",
    "对于分类问题，首先检查各个特征和类标签之间的关系.  \n",
    "类标签是离散变量，根据特征的属性，具体处理分为\n",
    "  1. 对于连续特征，检查不同类别下的分布是否有显著不同，可以使用类别分组的箱线图\n",
    "  2. 对于类别特征，检查不同类别下的取值分布是否有差异，可以使用按照类标签分组的分组条形图"
   ]
  },
  {
   "cell_type": "markdown",
   "metadata": {},
   "source": [
    "+ data里有一列 `isDefault` 是目标变量"
   ]
  },
  {
   "cell_type": "code",
   "execution_count": 6,
   "metadata": {},
   "outputs": [
    {
     "data": {
      "text/plain": [
       "(800000, 45)"
      ]
     },
     "execution_count": 6,
     "metadata": {},
     "output_type": "execute_result"
    }
   ],
   "source": [
    "features = ['id', 'loanAmnt', 'term', 'interestRate', 'installment', 'grade', 'subGrade', 'employmentTitle', 'employmentLength', 'homeOwnership', 'annualIncome', \n",
    "            'verificationStatus', 'issueDate',\n",
    "#             'isDefault', \n",
    "            'purpose', 'postCode', 'regionCode', 'dti', 'delinquency_2years', 'ficoRangeLow', 'ficoRangeHigh', \n",
    "            'openAcc', 'pubRec', 'pubRecBankruptcies', 'revolBal', 'revolUtil', 'totalAcc', 'initialListStatus', 'applicationType', 'earliesCreditLine', 'title', \n",
    "            'policyCode', 'n0', 'n1', 'n2', 'n3', 'n4', 'n5', 'n6', 'n7', 'n8', 'n9', 'n10', 'n11', 'n12', 'n13', 'n14']\n",
    "\n",
    "# 训练记录集里ID没有用，所以在这里就去掉\n",
    "X = data[features].drop('id',axis=1)\n",
    "y = data['isDefault']\n",
    "X.shape"
   ]
  },
  {
   "cell_type": "markdown",
   "metadata": {},
   "source": [
    "## 数值型特征分布\n",
    "\n",
    "+ 10个连续特征（**不包括计数型和日期型**）在不同类标签下的分布"
   ]
  },
  {
   "cell_type": "code",
   "execution_count": 14,
   "metadata": {
    "jupyter": {
     "source_hidden": true
    }
   },
   "outputs": [],
   "source": [
    "# plotly 在大数据集下的性能实在是太差了\n",
    "\n",
    "# from plotly.subplots import make_subplots\n",
    "\n",
    "# box_loan = px.box(data_frame=data,  x='loanAmnt', y='isDefault', orientation='h')\n",
    "# box_interest = px.box(data_frame=data,  x='interestRate', y='isDefault', orientation='h')\n",
    "# box_intallment = px.box(data_frame=data,  x='installment', y='isDefault', orientation='h')\n",
    "# box_income = px.box(data_frame=data,  x='annualIncome', y='isDefault', orientation='h')\n",
    "\n",
    "# fig = make_subplots(rows=2, cols=2)\n",
    "\n",
    "# fig.add_trace(\n",
    "#     box_loan.data[0], row=1, col=1\n",
    "# )\n",
    "# fig.add_trace(\n",
    "#     box_interest.data[0], row=1, col=2\n",
    "# )\n",
    "# fig.add_trace(\n",
    "#     box_intallment.data[0], row=2, col=1\n",
    "# )\n",
    "# fig.add_trace(\n",
    "#     box_income.data[0], row=2, col=2\n",
    "# )"
   ]
  },
  {
   "cell_type": "code",
   "execution_count": 28,
   "metadata": {},
   "outputs": [
    {
     "data": {
      "text/plain": [
       "<matplotlib.axes._subplots.AxesSubplot at 0x2288d6d0f88>"
      ]
     },
     "execution_count": 28,
     "metadata": {},
     "output_type": "execute_result"
    },
    {
     "data": {
      "image/png": "[encoded data removed]",
      "text/plain": [
       "<Figure size 1440x1440 with 10 Axes>"
      ]
     },
     "metadata": {},
     "output_type": "display_data"
    }
   ],
   "source": [
    "fig, axes = plt.subplots(5,2, figsize=(20,20))\n",
    "sns.boxplot(data=data, x='loanAmnt', y='isDefault', orient='h', ax=axes[0,0])\n",
    "sns.boxplot(data=data, x='interestRate', y='isDefault', orient='h', ax=axes[0,1])\n",
    "sns.boxplot(data=data, x='installment', y='isDefault', orient='h', ax=axes[1,0])\n",
    "sns.boxplot(data=data, x='annualIncome', y='isDefault', orient='h', ax=axes[1,1])\n",
    "sns.boxplot(data=data, x='dti', y='isDefault', orient='h', ax=axes[2,0])\n",
    "sns.boxplot(data=data, x='ficoRangeLow', y='isDefault', orient='h', ax=axes[2,1])\n",
    "sns.boxplot(data=data, x='ficoRangeHigh', y='isDefault', orient='h', ax=axes[3,0])\n",
    "sns.boxplot(data=data, x='revolBal', y='isDefault', orient='h', ax=axes[3,1])\n",
    "sns.boxplot(data=data, x='revolUtil', y='isDefault', orient='h', ax=axes[4,0])\n",
    "sns.boxplot(data=data, x='totalAcc', y='isDefault', orient='h', ax=axes[4,1])"
   ]
  },
  {
   "cell_type": "markdown",
   "metadata": {},
   "source": [
    "## 离散型特征分布\n",
    "\n",
    "+ 10个类别型特征（包括有序型和标称型）按照类标签分组之后在不同取值下的分布\n",
    "  + 有序型——5个  \n",
    "    term，grade，subGrade，employmentLength，homeOwnership\n",
    "  + 标称型——5个  \n",
    "    verificationStatus，purpose，initialListStatus，applicationType，policyCode"
   ]
  },
  {
   "cell_type": "code",
   "execution_count": 56,
   "metadata": {},
   "outputs": [
    {
     "data": {
      "text/plain": [
       "<matplotlib.axes._subplots.AxesSubplot at 0x22a418f7988>"
      ]
     },
     "execution_count": 56,
     "metadata": {},
     "output_type": "execute_result"
    },
    {
     "data": {
      "image/png": "[encoded data removed]",
      "text/plain": [
       "<Figure size 1440x1440 with 10 Axes>"
      ]
     },
     "metadata": {},
     "output_type": "display_data"
    }
   ],
   "source": [
    "fig, axes = plt.subplots(5,2, figsize=(20,20))\n",
    "\n",
    "sns.countplot(data=data, x='term', hue='isDefault', ax=axes[0,0])\n",
    "sns.countplot(data=data, x='grade', hue='isDefault', ax=axes[0,1], order=['A','B','C','D','E','F','G'])\n",
    "years_list = ['< 1 year', '1 year','2 years','3 years','4 years','5 years','6 years','7 years','8 years','9 years','10+ years']\n",
    "sns.countplot(data=data, x='employmentLength', hue='isDefault', ax=axes[1,0], order=years_list)\n",
    "sns.countplot(data=data, x='homeOwnership', hue='isDefault', ax=axes[1,1])\n",
    "sns.countplot(data=data, x='verificationStatus', hue='isDefault', ax=axes[2,0])\n",
    "sns.countplot(data=data, x='purpose', hue='isDefault', ax=axes[2,1])\n",
    "sns.countplot(data=data, x='initialListStatus', hue='isDefault', ax=axes[3,0])\n",
    "sns.countplot(data=data, x='applicationType', hue='isDefault', ax=axes[3,1])\n",
    "sns.countplot(data=data, x='policyCode', hue='isDefault', ax=axes[4,0])\n",
    "subGrade_list = [i+j for i in ['A','B','C','D','E','F','G'] for j in ['1','2','3','4','5']]\n",
    "sns.countplot(data=data, x='subGrade', hue='isDefault', ax=axes[4,1], order=subGrade_list)"
   ]
  },
  {
   "cell_type": "markdown",
   "metadata": {},
   "source": [
    "## 其他特征\n",
    "\n"
   ]
  },
  {
   "cell_type": "markdown",
   "metadata": {},
   "source": [
    "## 总结"
   ]
  },
  {
   "cell_type": "markdown",
   "metadata": {},
   "source": [
    "----------\n",
    "\n",
    "# 数据预处理"
   ]
  },
  {
   "cell_type": "markdown",
   "metadata": {},
   "source": [
    "## 缺失值处理"
   ]
  },
  {
   "cell_type": "code",
   "execution_count": 206,
   "metadata": {
    "jupyter": {
     "source_hidden": true
    }
   },
   "outputs": [],
   "source": [
    "def miss_stat(df):\n",
    "    \"\"\"\n",
    "    用于统计DF中各列的缺失值信息和占比\n",
    "    \"\"\"\n",
    "    miss_num = df.isnull().sum()\n",
    "    # 只展示有缺失值的特征\n",
    "    miss_num = miss_num[miss_num > 0]\n",
    "    total = df.shape[0]\n",
    "    miss_percent = miss_num/total*100\n",
    "    miss_info = pd.concat([miss_num, miss_percent, df.dtypes], axis = 1, keys=['miss_num', 'miss_percent','dtype'])\n",
    "    miss_info['total'] = total\n",
    "    miss_info = miss_info[['miss_num','total','miss_percent','dtype']]\n",
    "    miss_info.dropna(inplace=True)\n",
    "#     降序排列，同时设置小数点的位数\n",
    "    miss_info = miss_info.sort_values(by=['miss_num'],ascending=False).round(decimals=3)\n",
    "#     打印\n",
    "#     from IPython.display import display\n",
    "    print(\"miss_stat.shape: \", miss_info.shape)\n",
    "    print(\"miss_stat:\")\n",
    "    display(miss_info) \n",
    "#     print(miss_info)\n",
    "    return miss_info"
   ]
  },
  {
   "cell_type": "code",
   "execution_count": 207,
   "metadata": {
    "jupyter": {
     "source_hidden": true
    }
   },
   "outputs": [],
   "source": [
    "# 缺失值填充函数\n",
    "def Fill_na(df, numerical_cols=None, discrete_cols=None):\n",
    "    \"\"\"\n",
    "    对数值特征使用均值填充，对离散特征使用众数填充\n",
    "    \"\"\"\n",
    "    df = df.copy()\n",
    "    if numerical_cols is not None:\n",
    "        # df.mean()返回的是一个series，可以直接用.to_dict()\n",
    "        num_mean_dict = df[numerical_cols].mean(axis=0).to_dict()\n",
    "        # 不知道为什么，下面这一句，是对 copy 进行的操作，而不是对 view 进行的操作\n",
    "        # df[numerical_cols].fillna(value=num_mean_dict, inplace=True)\n",
    "        df[numerical_cols] = df[numerical_cols].fillna(value=num_mean_dict)\n",
    "    \n",
    "    if discrete_cols is not None:\n",
    "        # df.mode() 返回的是一个DataFrame，调用to_dict()后还需要进一步处理\n",
    "        mode_dict = df[discrete_cols].mode(axis=0).to_dict()\n",
    "        discrete_mode_dict = {}\n",
    "        for key in mode_dict.keys():\n",
    "            discrete_mode_dict[key] = mode_dict[key][0]\n",
    "        # df[discrete_cols].fillna(value=discrete_mode_dict, inplace=True)\n",
    "        df[discrete_cols] = df[discrete_cols].fillna(value=discrete_mode_dict)\n",
    "    return df"
   ]
  },
  {
   "cell_type": "code",
   "execution_count": 194,
   "metadata": {
    "collapsed": true,
    "jupyter": {
     "outputs_hidden": true
    }
   },
   "outputs": [
    {
     "name": "stdout",
     "output_type": "stream",
     "text": [
      "miss_stat.shape:  (22, 4)\n",
      "miss_stat:\n"
     ]
    },
    {
     "data": {
      "text/html": [
       "<div>\n",
       "<style scoped>\n",
       "    .dataframe tbody tr th:only-of-type {\n",
       "        vertical-align: middle;\n",
       "    }\n",
       "\n",
       "    .dataframe tbody tr th {\n",
       "        vertical-align: top;\n",
       "    }\n",
       "\n",
       "    .dataframe thead th {\n",
       "        text-align: right;\n",
       "    }\n",
       "</style>\n",
       "<table border=\"1\" class=\"dataframe\">\n",
       "  <thead>\n",
       "    <tr style=\"text-align: right;\">\n",
       "      <th></th>\n",
       "      <th>miss_num</th>\n",
       "      <th>total</th>\n",
       "      <th>miss_percent</th>\n",
       "      <th>dtype</th>\n",
       "    </tr>\n",
       "  </thead>\n",
       "  <tbody>\n",
       "    <tr>\n",
       "      <th>n11</th>\n",
       "      <td>69752.0</td>\n",
       "      <td>800000</td>\n",
       "      <td>8.719</td>\n",
       "      <td>float64</td>\n",
       "    </tr>\n",
       "    <tr>\n",
       "      <th>employmentLength</th>\n",
       "      <td>46799.0</td>\n",
       "      <td>800000</td>\n",
       "      <td>5.850</td>\n",
       "      <td>object</td>\n",
       "    </tr>\n",
       "    <tr>\n",
       "      <th>n8</th>\n",
       "      <td>40271.0</td>\n",
       "      <td>800000</td>\n",
       "      <td>5.034</td>\n",
       "      <td>float64</td>\n",
       "    </tr>\n",
       "    <tr>\n",
       "      <th>n14</th>\n",
       "      <td>40270.0</td>\n",
       "      <td>800000</td>\n",
       "      <td>5.034</td>\n",
       "      <td>float64</td>\n",
       "    </tr>\n",
       "    <tr>\n",
       "      <th>n13</th>\n",
       "      <td>40270.0</td>\n",
       "      <td>800000</td>\n",
       "      <td>5.034</td>\n",
       "      <td>float64</td>\n",
       "    </tr>\n",
       "    <tr>\n",
       "      <th>n12</th>\n",
       "      <td>40270.0</td>\n",
       "      <td>800000</td>\n",
       "      <td>5.034</td>\n",
       "      <td>float64</td>\n",
       "    </tr>\n",
       "    <tr>\n",
       "      <th>n9</th>\n",
       "      <td>40270.0</td>\n",
       "      <td>800000</td>\n",
       "      <td>5.034</td>\n",
       "      <td>float64</td>\n",
       "    </tr>\n",
       "    <tr>\n",
       "      <th>n0</th>\n",
       "      <td>40270.0</td>\n",
       "      <td>800000</td>\n",
       "      <td>5.034</td>\n",
       "      <td>float64</td>\n",
       "    </tr>\n",
       "    <tr>\n",
       "      <th>n1</th>\n",
       "      <td>40270.0</td>\n",
       "      <td>800000</td>\n",
       "      <td>5.034</td>\n",
       "      <td>float64</td>\n",
       "    </tr>\n",
       "    <tr>\n",
       "      <th>n2</th>\n",
       "      <td>40270.0</td>\n",
       "      <td>800000</td>\n",
       "      <td>5.034</td>\n",
       "      <td>float64</td>\n",
       "    </tr>\n",
       "    <tr>\n",
       "      <th>n3</th>\n",
       "      <td>40270.0</td>\n",
       "      <td>800000</td>\n",
       "      <td>5.034</td>\n",
       "      <td>float64</td>\n",
       "    </tr>\n",
       "    <tr>\n",
       "      <th>n5</th>\n",
       "      <td>40270.0</td>\n",
       "      <td>800000</td>\n",
       "      <td>5.034</td>\n",
       "      <td>float64</td>\n",
       "    </tr>\n",
       "    <tr>\n",
       "      <th>n6</th>\n",
       "      <td>40270.0</td>\n",
       "      <td>800000</td>\n",
       "      <td>5.034</td>\n",
       "      <td>float64</td>\n",
       "    </tr>\n",
       "    <tr>\n",
       "      <th>n7</th>\n",
       "      <td>40270.0</td>\n",
       "      <td>800000</td>\n",
       "      <td>5.034</td>\n",
       "      <td>float64</td>\n",
       "    </tr>\n",
       "    <tr>\n",
       "      <th>n10</th>\n",
       "      <td>33239.0</td>\n",
       "      <td>800000</td>\n",
       "      <td>4.155</td>\n",
       "      <td>float64</td>\n",
       "    </tr>\n",
       "    <tr>\n",
       "      <th>n4</th>\n",
       "      <td>33239.0</td>\n",
       "      <td>800000</td>\n",
       "      <td>4.155</td>\n",
       "      <td>float64</td>\n",
       "    </tr>\n",
       "    <tr>\n",
       "      <th>revolUtil</th>\n",
       "      <td>531.0</td>\n",
       "      <td>800000</td>\n",
       "      <td>0.066</td>\n",
       "      <td>float64</td>\n",
       "    </tr>\n",
       "    <tr>\n",
       "      <th>pubRecBankruptcies</th>\n",
       "      <td>405.0</td>\n",
       "      <td>800000</td>\n",
       "      <td>0.051</td>\n",
       "      <td>float64</td>\n",
       "    </tr>\n",
       "    <tr>\n",
       "      <th>dti</th>\n",
       "      <td>239.0</td>\n",
       "      <td>800000</td>\n",
       "      <td>0.030</td>\n",
       "      <td>float64</td>\n",
       "    </tr>\n",
       "    <tr>\n",
       "      <th>title</th>\n",
       "      <td>1.0</td>\n",
       "      <td>800000</td>\n",
       "      <td>0.000</td>\n",
       "      <td>float64</td>\n",
       "    </tr>\n",
       "    <tr>\n",
       "      <th>postCode</th>\n",
       "      <td>1.0</td>\n",
       "      <td>800000</td>\n",
       "      <td>0.000</td>\n",
       "      <td>float64</td>\n",
       "    </tr>\n",
       "    <tr>\n",
       "      <th>employmentTitle</th>\n",
       "      <td>1.0</td>\n",
       "      <td>800000</td>\n",
       "      <td>0.000</td>\n",
       "      <td>float64</td>\n",
       "    </tr>\n",
       "  </tbody>\n",
       "</table>\n",
       "</div>"
      ],
      "text/plain": [
       "                    miss_num   total  miss_percent    dtype\n",
       "n11                  69752.0  800000         8.719  float64\n",
       "employmentLength     46799.0  800000         5.850   object\n",
       "n8                   40271.0  800000         5.034  float64\n",
       "n14                  40270.0  800000         5.034  float64\n",
       "n13                  40270.0  800000         5.034  float64\n",
       "n12                  40270.0  800000         5.034  float64\n",
       "n9                   40270.0  800000         5.034  float64\n",
       "n0                   40270.0  800000         5.034  float64\n",
       "n1                   40270.0  800000         5.034  float64\n",
       "n2                   40270.0  800000         5.034  float64\n",
       "n3                   40270.0  800000         5.034  float64\n",
       "n5                   40270.0  800000         5.034  float64\n",
       "n6                   40270.0  800000         5.034  float64\n",
       "n7                   40270.0  800000         5.034  float64\n",
       "n10                  33239.0  800000         4.155  float64\n",
       "n4                   33239.0  800000         4.155  float64\n",
       "revolUtil              531.0  800000         0.066  float64\n",
       "pubRecBankruptcies     405.0  800000         0.051  float64\n",
       "dti                    239.0  800000         0.030  float64\n",
       "title                    1.0  800000         0.000  float64\n",
       "postCode                 1.0  800000         0.000  float64\n",
       "employmentTitle          1.0  800000         0.000  float64"
      ]
     },
     "metadata": {},
     "output_type": "display_data"
    }
   ],
   "source": [
    "miss_df = miss_stat(X)"
   ]
  },
  {
   "cell_type": "markdown",
   "metadata": {},
   "source": [
    "+ 简单的缺失值填充策略\n",
    "  + 实数型特征——使用均值或者中位数\n",
    "  + 计数型、有序型、标称型特征——使用**众数**"
   ]
  },
  {
   "cell_type": "code",
   "execution_count": 187,
   "metadata": {},
   "outputs": [],
   "source": [
    "features = list(X.columns)\n",
    "num_cols = ['loanAmnt', 'interestRate', 'installment', 'annualIncome', 'dti', 'ficoRangeLow', 'ficoRangeHigh', 'revolBal', 'revolUtil', 'totalAcc']\n",
    "discrete_cols = [col for col in features if col not in num_cols]"
   ]
  },
  {
   "cell_type": "code",
   "execution_count": 202,
   "metadata": {},
   "outputs": [
    {
     "name": "stdout",
     "output_type": "stream",
     "text": [
      "miss_stat.shape:  (0, 4)\n",
      "miss_stat:\n"
     ]
    },
    {
     "data": {
      "text/html": [
       "<div>\n",
       "<style scoped>\n",
       "    .dataframe tbody tr th:only-of-type {\n",
       "        vertical-align: middle;\n",
       "    }\n",
       "\n",
       "    .dataframe tbody tr th {\n",
       "        vertical-align: top;\n",
       "    }\n",
       "\n",
       "    .dataframe thead th {\n",
       "        text-align: right;\n",
       "    }\n",
       "</style>\n",
       "<table border=\"1\" class=\"dataframe\">\n",
       "  <thead>\n",
       "    <tr style=\"text-align: right;\">\n",
       "      <th></th>\n",
       "      <th>miss_num</th>\n",
       "      <th>total</th>\n",
       "      <th>miss_percent</th>\n",
       "      <th>dtype</th>\n",
       "    </tr>\n",
       "  </thead>\n",
       "  <tbody>\n",
       "  </tbody>\n",
       "</table>\n",
       "</div>"
      ],
      "text/plain": [
       "Empty DataFrame\n",
       "Columns: [miss_num, total, miss_percent, dtype]\n",
       "Index: []"
      ]
     },
     "metadata": {},
     "output_type": "display_data"
    }
   ],
   "source": [
    "X = Fill_na(X, numerical_cols=num_cols, discrete_cols=discrete_cols)\n",
    "_ = miss_stat(X)"
   ]
  },
  {
   "cell_type": "markdown",
   "metadata": {},
   "source": [
    "+ 对测试集数据也做这样的处理"
   ]
  },
  {
   "cell_type": "code",
   "execution_count": 212,
   "metadata": {
    "collapsed": true,
    "jupyter": {
     "outputs_hidden": true
    }
   },
   "outputs": [
    {
     "name": "stdout",
     "output_type": "stream",
     "text": [
      "miss_stat.shape:  (19, 4)\n",
      "miss_stat:\n"
     ]
    },
    {
     "data": {
      "text/html": [
       "<div>\n",
       "<style scoped>\n",
       "    .dataframe tbody tr th:only-of-type {\n",
       "        vertical-align: middle;\n",
       "    }\n",
       "\n",
       "    .dataframe tbody tr th {\n",
       "        vertical-align: top;\n",
       "    }\n",
       "\n",
       "    .dataframe thead th {\n",
       "        text-align: right;\n",
       "    }\n",
       "</style>\n",
       "<table border=\"1\" class=\"dataframe\">\n",
       "  <thead>\n",
       "    <tr style=\"text-align: right;\">\n",
       "      <th></th>\n",
       "      <th>miss_num</th>\n",
       "      <th>total</th>\n",
       "      <th>miss_percent</th>\n",
       "      <th>dtype</th>\n",
       "    </tr>\n",
       "  </thead>\n",
       "  <tbody>\n",
       "    <tr>\n",
       "      <th>n11</th>\n",
       "      <td>17575.0</td>\n",
       "      <td>200000</td>\n",
       "      <td>8.788</td>\n",
       "      <td>float64</td>\n",
       "    </tr>\n",
       "    <tr>\n",
       "      <th>employmentLength</th>\n",
       "      <td>11742.0</td>\n",
       "      <td>200000</td>\n",
       "      <td>5.871</td>\n",
       "      <td>object</td>\n",
       "    </tr>\n",
       "    <tr>\n",
       "      <th>n6</th>\n",
       "      <td>10111.0</td>\n",
       "      <td>200000</td>\n",
       "      <td>5.056</td>\n",
       "      <td>float64</td>\n",
       "    </tr>\n",
       "    <tr>\n",
       "      <th>n13</th>\n",
       "      <td>10111.0</td>\n",
       "      <td>200000</td>\n",
       "      <td>5.056</td>\n",
       "      <td>float64</td>\n",
       "    </tr>\n",
       "    <tr>\n",
       "      <th>n12</th>\n",
       "      <td>10111.0</td>\n",
       "      <td>200000</td>\n",
       "      <td>5.056</td>\n",
       "      <td>float64</td>\n",
       "    </tr>\n",
       "    <tr>\n",
       "      <th>n9</th>\n",
       "      <td>10111.0</td>\n",
       "      <td>200000</td>\n",
       "      <td>5.056</td>\n",
       "      <td>float64</td>\n",
       "    </tr>\n",
       "    <tr>\n",
       "      <th>n8</th>\n",
       "      <td>10111.0</td>\n",
       "      <td>200000</td>\n",
       "      <td>5.056</td>\n",
       "      <td>float64</td>\n",
       "    </tr>\n",
       "    <tr>\n",
       "      <th>n7</th>\n",
       "      <td>10111.0</td>\n",
       "      <td>200000</td>\n",
       "      <td>5.056</td>\n",
       "      <td>float64</td>\n",
       "    </tr>\n",
       "    <tr>\n",
       "      <th>n5</th>\n",
       "      <td>10111.0</td>\n",
       "      <td>200000</td>\n",
       "      <td>5.056</td>\n",
       "      <td>float64</td>\n",
       "    </tr>\n",
       "    <tr>\n",
       "      <th>n3</th>\n",
       "      <td>10111.0</td>\n",
       "      <td>200000</td>\n",
       "      <td>5.056</td>\n",
       "      <td>float64</td>\n",
       "    </tr>\n",
       "    <tr>\n",
       "      <th>n2</th>\n",
       "      <td>10111.0</td>\n",
       "      <td>200000</td>\n",
       "      <td>5.056</td>\n",
       "      <td>float64</td>\n",
       "    </tr>\n",
       "    <tr>\n",
       "      <th>n1</th>\n",
       "      <td>10111.0</td>\n",
       "      <td>200000</td>\n",
       "      <td>5.056</td>\n",
       "      <td>float64</td>\n",
       "    </tr>\n",
       "    <tr>\n",
       "      <th>n0</th>\n",
       "      <td>10111.0</td>\n",
       "      <td>200000</td>\n",
       "      <td>5.056</td>\n",
       "      <td>float64</td>\n",
       "    </tr>\n",
       "    <tr>\n",
       "      <th>n14</th>\n",
       "      <td>10111.0</td>\n",
       "      <td>200000</td>\n",
       "      <td>5.056</td>\n",
       "      <td>float64</td>\n",
       "    </tr>\n",
       "    <tr>\n",
       "      <th>n4</th>\n",
       "      <td>8394.0</td>\n",
       "      <td>200000</td>\n",
       "      <td>4.197</td>\n",
       "      <td>float64</td>\n",
       "    </tr>\n",
       "    <tr>\n",
       "      <th>n10</th>\n",
       "      <td>8394.0</td>\n",
       "      <td>200000</td>\n",
       "      <td>4.197</td>\n",
       "      <td>float64</td>\n",
       "    </tr>\n",
       "    <tr>\n",
       "      <th>revolUtil</th>\n",
       "      <td>127.0</td>\n",
       "      <td>200000</td>\n",
       "      <td>0.064</td>\n",
       "      <td>float64</td>\n",
       "    </tr>\n",
       "    <tr>\n",
       "      <th>pubRecBankruptcies</th>\n",
       "      <td>116.0</td>\n",
       "      <td>200000</td>\n",
       "      <td>0.058</td>\n",
       "      <td>float64</td>\n",
       "    </tr>\n",
       "    <tr>\n",
       "      <th>dti</th>\n",
       "      <td>61.0</td>\n",
       "      <td>200000</td>\n",
       "      <td>0.030</td>\n",
       "      <td>float64</td>\n",
       "    </tr>\n",
       "  </tbody>\n",
       "</table>\n",
       "</div>"
      ],
      "text/plain": [
       "                    miss_num   total  miss_percent    dtype\n",
       "n11                  17575.0  200000         8.788  float64\n",
       "employmentLength     11742.0  200000         5.871   object\n",
       "n6                   10111.0  200000         5.056  float64\n",
       "n13                  10111.0  200000         5.056  float64\n",
       "n12                  10111.0  200000         5.056  float64\n",
       "n9                   10111.0  200000         5.056  float64\n",
       "n8                   10111.0  200000         5.056  float64\n",
       "n7                   10111.0  200000         5.056  float64\n",
       "n5                   10111.0  200000         5.056  float64\n",
       "n3                   10111.0  200000         5.056  float64\n",
       "n2                   10111.0  200000         5.056  float64\n",
       "n1                   10111.0  200000         5.056  float64\n",
       "n0                   10111.0  200000         5.056  float64\n",
       "n14                  10111.0  200000         5.056  float64\n",
       "n4                    8394.0  200000         4.197  float64\n",
       "n10                   8394.0  200000         4.197  float64\n",
       "revolUtil              127.0  200000         0.064  float64\n",
       "pubRecBankruptcies     116.0  200000         0.058  float64\n",
       "dti                     61.0  200000         0.030  float64"
      ]
     },
     "metadata": {},
     "output_type": "display_data"
    }
   ],
   "source": [
    "_ = miss_stat(test)"
   ]
  },
  {
   "cell_type": "code",
   "execution_count": 213,
   "metadata": {},
   "outputs": [
    {
     "name": "stdout",
     "output_type": "stream",
     "text": [
      "miss_stat.shape:  (0, 4)\n",
      "miss_stat:\n"
     ]
    },
    {
     "data": {
      "text/html": [
       "<div>\n",
       "<style scoped>\n",
       "    .dataframe tbody tr th:only-of-type {\n",
       "        vertical-align: middle;\n",
       "    }\n",
       "\n",
       "    .dataframe tbody tr th {\n",
       "        vertical-align: top;\n",
       "    }\n",
       "\n",
       "    .dataframe thead th {\n",
       "        text-align: right;\n",
       "    }\n",
       "</style>\n",
       "<table border=\"1\" class=\"dataframe\">\n",
       "  <thead>\n",
       "    <tr style=\"text-align: right;\">\n",
       "      <th></th>\n",
       "      <th>miss_num</th>\n",
       "      <th>total</th>\n",
       "      <th>miss_percent</th>\n",
       "      <th>dtype</th>\n",
       "    </tr>\n",
       "  </thead>\n",
       "  <tbody>\n",
       "  </tbody>\n",
       "</table>\n",
       "</div>"
      ],
      "text/plain": [
       "Empty DataFrame\n",
       "Columns: [miss_num, total, miss_percent, dtype]\n",
       "Index: []"
      ]
     },
     "metadata": {},
     "output_type": "display_data"
    }
   ],
   "source": [
    "test = Fill_na(test, numerical_cols=num_cols, discrete_cols=discrete_cols)\n",
    "_ = miss_stat(test)"
   ]
  },
  {
   "cell_type": "markdown",
   "metadata": {},
   "source": [
    "## 特征预编码\n",
    "\n",
    "这一步主要是对那些属性值不是数值的特征进行编码转换，需要进行转换的特征有：\n",
    "+ 数值型——31个\n",
    "  + 实数型——10个：无需处理  \n",
    "    loanAmnt，interestRate，installment，annualIncome，dti，ficoRangeLow，ficoRangeHigh，revolBal，revolUtil，totalAcc\n",
    "  + 计数型——4+15=19个：后续分箱处理  \n",
    "    delinquency_2years，openAcc，pubRec，pubRecBankruptcies，n0至n14\n",
    "  + 日期型——2个：暂时不处理  \n",
    "    issueDate，earliesCreditLine\n",
    "+ 类别型——10个\n",
    "  + 有序型——5个  \n",
    "    term，homeOwnership：已经是序数型，暂不处理；   \n",
    "    **grade，subGrade，employmentLength，字符串，需要进行序数编码**\n",
    "  + 标称型——5个  \n",
    "    verificationStatus，purpose，initialListStatus，applicationType，policyCode：已经是数值表示，暂不处理   \n",
    "+ 待定——4个  \n",
    "  employmentTitle，postCode，regionCode，title\n",
    "  \n",
    "**所以需要编码的特征有：grade，subGrade，employmentLength. 要将它们从字符型转换成整数表示的序数型**。"
   ]
  },
  {
   "cell_type": "code",
   "execution_count": 228,
   "metadata": {},
   "outputs": [],
   "source": [
    "# 有序特征的取值编码\n",
    "subGrade_list = [i+j for i in ['A','B','C','D','E','F','G'] for j in ['1','2','3','4','5']]\n",
    "years_list = ['< 1 year', '1 year','2 years','3 years','4 years','5 years','6 years','7 years','8 years','9 years','10+ years']\n",
    "order_encode = {\n",
    "    'grade': {'A':1,'B':2,'C':3, 'D':4, 'E':5, 'F':6, 'G':7},\n",
    "    'subGrade': dict(zip(subGrade_list, np.arange(len(subGrade_list))+1)),\n",
    "    'employmentLength': dict(zip(years_list, np.arange(len(years_list))+1))\n",
    "}\n",
    "\n",
    "def Order_encode_fun(df, order_encode):\n",
    "    \"\"\"\n",
    "    用于根据有序特征的取值编码字典 order_encode 来进行值的替换\n",
    "    \"\"\"\n",
    "    df = df.copy()\n",
    "    for col in order_encode.keys():\n",
    "        df[col].replace(to_replace=order_encode[col], inplace=True)\n",
    "    return df"
   ]
  },
  {
   "cell_type": "code",
   "execution_count": 214,
   "metadata": {},
   "outputs": [
    {
     "data": {
      "text/html": [
       "<div>\n",
       "<style scoped>\n",
       "    .dataframe tbody tr th:only-of-type {\n",
       "        vertical-align: middle;\n",
       "    }\n",
       "\n",
       "    .dataframe tbody tr th {\n",
       "        vertical-align: top;\n",
       "    }\n",
       "\n",
       "    .dataframe thead th {\n",
       "        text-align: right;\n",
       "    }\n",
       "</style>\n",
       "<table border=\"1\" class=\"dataframe\">\n",
       "  <thead>\n",
       "    <tr style=\"text-align: right;\">\n",
       "      <th></th>\n",
       "      <th>loanAmnt</th>\n",
       "      <th>term</th>\n",
       "      <th>interestRate</th>\n",
       "      <th>installment</th>\n",
       "      <th>grade</th>\n",
       "      <th>subGrade</th>\n",
       "      <th>employmentTitle</th>\n",
       "      <th>employmentLength</th>\n",
       "      <th>homeOwnership</th>\n",
       "      <th>annualIncome</th>\n",
       "      <th>verificationStatus</th>\n",
       "      <th>issueDate</th>\n",
       "      <th>purpose</th>\n",
       "      <th>postCode</th>\n",
       "      <th>regionCode</th>\n",
       "      <th>dti</th>\n",
       "      <th>delinquency_2years</th>\n",
       "      <th>ficoRangeLow</th>\n",
       "      <th>ficoRangeHigh</th>\n",
       "      <th>openAcc</th>\n",
       "      <th>pubRec</th>\n",
       "      <th>pubRecBankruptcies</th>\n",
       "      <th>revolBal</th>\n",
       "      <th>revolUtil</th>\n",
       "      <th>totalAcc</th>\n",
       "      <th>initialListStatus</th>\n",
       "      <th>applicationType</th>\n",
       "      <th>earliesCreditLine</th>\n",
       "      <th>title</th>\n",
       "      <th>policyCode</th>\n",
       "      <th>n0</th>\n",
       "      <th>n1</th>\n",
       "      <th>n2</th>\n",
       "      <th>n3</th>\n",
       "      <th>n4</th>\n",
       "      <th>n5</th>\n",
       "      <th>n6</th>\n",
       "      <th>n7</th>\n",
       "      <th>n8</th>\n",
       "      <th>n9</th>\n",
       "      <th>n10</th>\n",
       "      <th>n11</th>\n",
       "      <th>n12</th>\n",
       "      <th>n13</th>\n",
       "      <th>n14</th>\n",
       "    </tr>\n",
       "  </thead>\n",
       "  <tbody>\n",
       "    <tr>\n",
       "      <th>0</th>\n",
       "      <td>35000.0</td>\n",
       "      <td>5</td>\n",
       "      <td>19.52</td>\n",
       "      <td>917.97</td>\n",
       "      <td>E</td>\n",
       "      <td>E2</td>\n",
       "      <td>320.0</td>\n",
       "      <td>2 years</td>\n",
       "      <td>2</td>\n",
       "      <td>110000.0</td>\n",
       "      <td>2</td>\n",
       "      <td>2014-07-01</td>\n",
       "      <td>1</td>\n",
       "      <td>137.0</td>\n",
       "      <td>32</td>\n",
       "      <td>17.05</td>\n",
       "      <td>0.0</td>\n",
       "      <td>730.0</td>\n",
       "      <td>734.0</td>\n",
       "      <td>7.0</td>\n",
       "      <td>0.0</td>\n",
       "      <td>0.0</td>\n",
       "      <td>24178.0</td>\n",
       "      <td>48.9</td>\n",
       "      <td>27.0</td>\n",
       "      <td>0</td>\n",
       "      <td>0</td>\n",
       "      <td>Aug-2001</td>\n",
       "      <td>1.0</td>\n",
       "      <td>1.0</td>\n",
       "      <td>0.0</td>\n",
       "      <td>2.0</td>\n",
       "      <td>2.0</td>\n",
       "      <td>2.0</td>\n",
       "      <td>4.0</td>\n",
       "      <td>9.0</td>\n",
       "      <td>8.0</td>\n",
       "      <td>4.0</td>\n",
       "      <td>12.0</td>\n",
       "      <td>2.0</td>\n",
       "      <td>7.0</td>\n",
       "      <td>0.0</td>\n",
       "      <td>0.0</td>\n",
       "      <td>0.0</td>\n",
       "      <td>2.0</td>\n",
       "    </tr>\n",
       "    <tr>\n",
       "      <th>1</th>\n",
       "      <td>18000.0</td>\n",
       "      <td>5</td>\n",
       "      <td>18.49</td>\n",
       "      <td>461.90</td>\n",
       "      <td>D</td>\n",
       "      <td>D2</td>\n",
       "      <td>219843.0</td>\n",
       "      <td>5 years</td>\n",
       "      <td>0</td>\n",
       "      <td>46000.0</td>\n",
       "      <td>2</td>\n",
       "      <td>2012-08-01</td>\n",
       "      <td>0</td>\n",
       "      <td>156.0</td>\n",
       "      <td>18</td>\n",
       "      <td>27.83</td>\n",
       "      <td>0.0</td>\n",
       "      <td>700.0</td>\n",
       "      <td>704.0</td>\n",
       "      <td>13.0</td>\n",
       "      <td>0.0</td>\n",
       "      <td>0.0</td>\n",
       "      <td>15096.0</td>\n",
       "      <td>38.9</td>\n",
       "      <td>18.0</td>\n",
       "      <td>1</td>\n",
       "      <td>0</td>\n",
       "      <td>May-2002</td>\n",
       "      <td>1723.0</td>\n",
       "      <td>1.0</td>\n",
       "      <td>0.0</td>\n",
       "      <td>3.0</td>\n",
       "      <td>4.0</td>\n",
       "      <td>4.0</td>\n",
       "      <td>10.0</td>\n",
       "      <td>5.0</td>\n",
       "      <td>4.0</td>\n",
       "      <td>6.0</td>\n",
       "      <td>11.0</td>\n",
       "      <td>4.0</td>\n",
       "      <td>13.0</td>\n",
       "      <td>0.0</td>\n",
       "      <td>0.0</td>\n",
       "      <td>0.0</td>\n",
       "      <td>1.0</td>\n",
       "    </tr>\n",
       "    <tr>\n",
       "      <th>2</th>\n",
       "      <td>12000.0</td>\n",
       "      <td>5</td>\n",
       "      <td>16.99</td>\n",
       "      <td>298.17</td>\n",
       "      <td>D</td>\n",
       "      <td>D3</td>\n",
       "      <td>31698.0</td>\n",
       "      <td>8 years</td>\n",
       "      <td>0</td>\n",
       "      <td>74000.0</td>\n",
       "      <td>2</td>\n",
       "      <td>2015-10-01</td>\n",
       "      <td>0</td>\n",
       "      <td>337.0</td>\n",
       "      <td>14</td>\n",
       "      <td>22.77</td>\n",
       "      <td>0.0</td>\n",
       "      <td>675.0</td>\n",
       "      <td>679.0</td>\n",
       "      <td>11.0</td>\n",
       "      <td>0.0</td>\n",
       "      <td>0.0</td>\n",
       "      <td>4606.0</td>\n",
       "      <td>51.8</td>\n",
       "      <td>27.0</td>\n",
       "      <td>0</td>\n",
       "      <td>0</td>\n",
       "      <td>May-2006</td>\n",
       "      <td>0.0</td>\n",
       "      <td>1.0</td>\n",
       "      <td>0.0</td>\n",
       "      <td>0.0</td>\n",
       "      <td>3.0</td>\n",
       "      <td>3.0</td>\n",
       "      <td>0.0</td>\n",
       "      <td>0.0</td>\n",
       "      <td>21.0</td>\n",
       "      <td>4.0</td>\n",
       "      <td>5.0</td>\n",
       "      <td>3.0</td>\n",
       "      <td>11.0</td>\n",
       "      <td>0.0</td>\n",
       "      <td>0.0</td>\n",
       "      <td>0.0</td>\n",
       "      <td>4.0</td>\n",
       "    </tr>\n",
       "    <tr>\n",
       "      <th>3</th>\n",
       "      <td>11000.0</td>\n",
       "      <td>3</td>\n",
       "      <td>7.26</td>\n",
       "      <td>340.96</td>\n",
       "      <td>A</td>\n",
       "      <td>A4</td>\n",
       "      <td>46854.0</td>\n",
       "      <td>10+ years</td>\n",
       "      <td>1</td>\n",
       "      <td>118000.0</td>\n",
       "      <td>1</td>\n",
       "      <td>2015-08-01</td>\n",
       "      <td>4</td>\n",
       "      <td>148.0</td>\n",
       "      <td>11</td>\n",
       "      <td>17.21</td>\n",
       "      <td>0.0</td>\n",
       "      <td>685.0</td>\n",
       "      <td>689.0</td>\n",
       "      <td>9.0</td>\n",
       "      <td>0.0</td>\n",
       "      <td>0.0</td>\n",
       "      <td>9948.0</td>\n",
       "      <td>52.6</td>\n",
       "      <td>28.0</td>\n",
       "      <td>1</td>\n",
       "      <td>0</td>\n",
       "      <td>May-1999</td>\n",
       "      <td>4.0</td>\n",
       "      <td>1.0</td>\n",
       "      <td>6.0</td>\n",
       "      <td>4.0</td>\n",
       "      <td>6.0</td>\n",
       "      <td>6.0</td>\n",
       "      <td>4.0</td>\n",
       "      <td>16.0</td>\n",
       "      <td>4.0</td>\n",
       "      <td>7.0</td>\n",
       "      <td>21.0</td>\n",
       "      <td>6.0</td>\n",
       "      <td>9.0</td>\n",
       "      <td>0.0</td>\n",
       "      <td>0.0</td>\n",
       "      <td>0.0</td>\n",
       "      <td>1.0</td>\n",
       "    </tr>\n",
       "    <tr>\n",
       "      <th>4</th>\n",
       "      <td>3000.0</td>\n",
       "      <td>3</td>\n",
       "      <td>12.99</td>\n",
       "      <td>101.07</td>\n",
       "      <td>C</td>\n",
       "      <td>C2</td>\n",
       "      <td>54.0</td>\n",
       "      <td>10+ years</td>\n",
       "      <td>1</td>\n",
       "      <td>29000.0</td>\n",
       "      <td>2</td>\n",
       "      <td>2016-03-01</td>\n",
       "      <td>10</td>\n",
       "      <td>301.0</td>\n",
       "      <td>21</td>\n",
       "      <td>32.16</td>\n",
       "      <td>0.0</td>\n",
       "      <td>690.0</td>\n",
       "      <td>694.0</td>\n",
       "      <td>12.0</td>\n",
       "      <td>0.0</td>\n",
       "      <td>0.0</td>\n",
       "      <td>2942.0</td>\n",
       "      <td>32.0</td>\n",
       "      <td>27.0</td>\n",
       "      <td>0</td>\n",
       "      <td>0</td>\n",
       "      <td>Aug-1977</td>\n",
       "      <td>11.0</td>\n",
       "      <td>1.0</td>\n",
       "      <td>1.0</td>\n",
       "      <td>2.0</td>\n",
       "      <td>7.0</td>\n",
       "      <td>7.0</td>\n",
       "      <td>2.0</td>\n",
       "      <td>4.0</td>\n",
       "      <td>9.0</td>\n",
       "      <td>10.0</td>\n",
       "      <td>15.0</td>\n",
       "      <td>7.0</td>\n",
       "      <td>12.0</td>\n",
       "      <td>0.0</td>\n",
       "      <td>0.0</td>\n",
       "      <td>0.0</td>\n",
       "      <td>4.0</td>\n",
       "    </tr>\n",
       "  </tbody>\n",
       "</table>\n",
       "</div>"
      ],
      "text/plain": [
       "   loanAmnt  term  interestRate  installment grade subGrade  employmentTitle  \\\n",
       "0   35000.0     5         19.52       917.97     E       E2            320.0   \n",
       "1   18000.0     5         18.49       461.90     D       D2         219843.0   \n",
       "2   12000.0     5         16.99       298.17     D       D3          31698.0   \n",
       "3   11000.0     3          7.26       340.96     A       A4          46854.0   \n",
       "4    3000.0     3         12.99       101.07     C       C2             54.0   \n",
       "\n",
       "  employmentLength  homeOwnership  annualIncome  verificationStatus  \\\n",
       "0          2 years              2      110000.0                   2   \n",
       "1          5 years              0       46000.0                   2   \n",
       "2          8 years              0       74000.0                   2   \n",
       "3        10+ years              1      118000.0                   1   \n",
       "4        10+ years              1       29000.0                   2   \n",
       "\n",
       "    issueDate  purpose  postCode  regionCode    dti  delinquency_2years  \\\n",
       "0  2014-07-01        1     137.0          32  17.05                 0.0   \n",
       "1  2012-08-01        0     156.0          18  27.83                 0.0   \n",
       "2  2015-10-01        0     337.0          14  22.77                 0.0   \n",
       "3  2015-08-01        4     148.0          11  17.21                 0.0   \n",
       "4  2016-03-01       10     301.0          21  32.16                 0.0   \n",
       "\n",
       "   ficoRangeLow  ficoRangeHigh  openAcc  pubRec  pubRecBankruptcies  revolBal  \\\n",
       "0         730.0          734.0      7.0     0.0                 0.0   24178.0   \n",
       "1         700.0          704.0     13.0     0.0                 0.0   15096.0   \n",
       "2         675.0          679.0     11.0     0.0                 0.0    4606.0   \n",
       "3         685.0          689.0      9.0     0.0                 0.0    9948.0   \n",
       "4         690.0          694.0     12.0     0.0                 0.0    2942.0   \n",
       "\n",
       "   revolUtil  totalAcc  initialListStatus  applicationType earliesCreditLine  \\\n",
       "0       48.9      27.0                  0                0          Aug-2001   \n",
       "1       38.9      18.0                  1                0          May-2002   \n",
       "2       51.8      27.0                  0                0          May-2006   \n",
       "3       52.6      28.0                  1                0          May-1999   \n",
       "4       32.0      27.0                  0                0          Aug-1977   \n",
       "\n",
       "    title  policyCode   n0   n1   n2   n3    n4    n5    n6    n7    n8   n9  \\\n",
       "0     1.0         1.0  0.0  2.0  2.0  2.0   4.0   9.0   8.0   4.0  12.0  2.0   \n",
       "1  1723.0         1.0  0.0  3.0  4.0  4.0  10.0   5.0   4.0   6.0  11.0  4.0   \n",
       "2     0.0         1.0  0.0  0.0  3.0  3.0   0.0   0.0  21.0   4.0   5.0  3.0   \n",
       "3     4.0         1.0  6.0  4.0  6.0  6.0   4.0  16.0   4.0   7.0  21.0  6.0   \n",
       "4    11.0         1.0  1.0  2.0  7.0  7.0   2.0   4.0   9.0  10.0  15.0  7.0   \n",
       "\n",
       "    n10  n11  n12  n13  n14  \n",
       "0   7.0  0.0  0.0  0.0  2.0  \n",
       "1  13.0  0.0  0.0  0.0  1.0  \n",
       "2  11.0  0.0  0.0  0.0  4.0  \n",
       "3   9.0  0.0  0.0  0.0  1.0  \n",
       "4  12.0  0.0  0.0  0.0  4.0  "
      ]
     },
     "execution_count": 214,
     "metadata": {},
     "output_type": "execute_result"
    }
   ],
   "source": [
    "X.head()"
   ]
  },
  {
   "cell_type": "code",
   "execution_count": 226,
   "metadata": {},
   "outputs": [],
   "source": [
    "X = Order_encode_fun(X, order_encode=order_encode)"
   ]
  },
  {
   "cell_type": "code",
   "execution_count": 227,
   "metadata": {},
   "outputs": [
    {
     "data": {
      "text/html": [
       "<div>\n",
       "<style scoped>\n",
       "    .dataframe tbody tr th:only-of-type {\n",
       "        vertical-align: middle;\n",
       "    }\n",
       "\n",
       "    .dataframe tbody tr th {\n",
       "        vertical-align: top;\n",
       "    }\n",
       "\n",
       "    .dataframe thead th {\n",
       "        text-align: right;\n",
       "    }\n",
       "</style>\n",
       "<table border=\"1\" class=\"dataframe\">\n",
       "  <thead>\n",
       "    <tr style=\"text-align: right;\">\n",
       "      <th></th>\n",
       "      <th>loanAmnt</th>\n",
       "      <th>term</th>\n",
       "      <th>interestRate</th>\n",
       "      <th>installment</th>\n",
       "      <th>grade</th>\n",
       "      <th>subGrade</th>\n",
       "      <th>employmentTitle</th>\n",
       "      <th>employmentLength</th>\n",
       "      <th>homeOwnership</th>\n",
       "      <th>annualIncome</th>\n",
       "      <th>verificationStatus</th>\n",
       "      <th>issueDate</th>\n",
       "      <th>purpose</th>\n",
       "      <th>postCode</th>\n",
       "      <th>regionCode</th>\n",
       "      <th>dti</th>\n",
       "      <th>delinquency_2years</th>\n",
       "      <th>ficoRangeLow</th>\n",
       "      <th>ficoRangeHigh</th>\n",
       "      <th>openAcc</th>\n",
       "      <th>pubRec</th>\n",
       "      <th>pubRecBankruptcies</th>\n",
       "      <th>revolBal</th>\n",
       "      <th>revolUtil</th>\n",
       "      <th>totalAcc</th>\n",
       "      <th>initialListStatus</th>\n",
       "      <th>applicationType</th>\n",
       "      <th>earliesCreditLine</th>\n",
       "      <th>title</th>\n",
       "      <th>policyCode</th>\n",
       "      <th>n0</th>\n",
       "      <th>n1</th>\n",
       "      <th>n2</th>\n",
       "      <th>n3</th>\n",
       "      <th>n4</th>\n",
       "      <th>n5</th>\n",
       "      <th>n6</th>\n",
       "      <th>n7</th>\n",
       "      <th>n8</th>\n",
       "      <th>n9</th>\n",
       "      <th>n10</th>\n",
       "      <th>n11</th>\n",
       "      <th>n12</th>\n",
       "      <th>n13</th>\n",
       "      <th>n14</th>\n",
       "    </tr>\n",
       "  </thead>\n",
       "  <tbody>\n",
       "    <tr>\n",
       "      <th>0</th>\n",
       "      <td>35000.0</td>\n",
       "      <td>5</td>\n",
       "      <td>19.52</td>\n",
       "      <td>917.97</td>\n",
       "      <td>5</td>\n",
       "      <td>22</td>\n",
       "      <td>320.0</td>\n",
       "      <td>3</td>\n",
       "      <td>2</td>\n",
       "      <td>110000.0</td>\n",
       "      <td>2</td>\n",
       "      <td>2014-07-01</td>\n",
       "      <td>1</td>\n",
       "      <td>137.0</td>\n",
       "      <td>32</td>\n",
       "      <td>17.05</td>\n",
       "      <td>0.0</td>\n",
       "      <td>730.0</td>\n",
       "      <td>734.0</td>\n",
       "      <td>7.0</td>\n",
       "      <td>0.0</td>\n",
       "      <td>0.0</td>\n",
       "      <td>24178.0</td>\n",
       "      <td>48.9</td>\n",
       "      <td>27.0</td>\n",
       "      <td>0</td>\n",
       "      <td>0</td>\n",
       "      <td>Aug-2001</td>\n",
       "      <td>1.0</td>\n",
       "      <td>1.0</td>\n",
       "      <td>0.0</td>\n",
       "      <td>2.0</td>\n",
       "      <td>2.0</td>\n",
       "      <td>2.0</td>\n",
       "      <td>4.0</td>\n",
       "      <td>9.0</td>\n",
       "      <td>8.0</td>\n",
       "      <td>4.0</td>\n",
       "      <td>12.0</td>\n",
       "      <td>2.0</td>\n",
       "      <td>7.0</td>\n",
       "      <td>0.0</td>\n",
       "      <td>0.0</td>\n",
       "      <td>0.0</td>\n",
       "      <td>2.0</td>\n",
       "    </tr>\n",
       "    <tr>\n",
       "      <th>1</th>\n",
       "      <td>18000.0</td>\n",
       "      <td>5</td>\n",
       "      <td>18.49</td>\n",
       "      <td>461.90</td>\n",
       "      <td>4</td>\n",
       "      <td>17</td>\n",
       "      <td>219843.0</td>\n",
       "      <td>6</td>\n",
       "      <td>0</td>\n",
       "      <td>46000.0</td>\n",
       "      <td>2</td>\n",
       "      <td>2012-08-01</td>\n",
       "      <td>0</td>\n",
       "      <td>156.0</td>\n",
       "      <td>18</td>\n",
       "      <td>27.83</td>\n",
       "      <td>0.0</td>\n",
       "      <td>700.0</td>\n",
       "      <td>704.0</td>\n",
       "      <td>13.0</td>\n",
       "      <td>0.0</td>\n",
       "      <td>0.0</td>\n",
       "      <td>15096.0</td>\n",
       "      <td>38.9</td>\n",
       "      <td>18.0</td>\n",
       "      <td>1</td>\n",
       "      <td>0</td>\n",
       "      <td>May-2002</td>\n",
       "      <td>1723.0</td>\n",
       "      <td>1.0</td>\n",
       "      <td>0.0</td>\n",
       "      <td>3.0</td>\n",
       "      <td>4.0</td>\n",
       "      <td>4.0</td>\n",
       "      <td>10.0</td>\n",
       "      <td>5.0</td>\n",
       "      <td>4.0</td>\n",
       "      <td>6.0</td>\n",
       "      <td>11.0</td>\n",
       "      <td>4.0</td>\n",
       "      <td>13.0</td>\n",
       "      <td>0.0</td>\n",
       "      <td>0.0</td>\n",
       "      <td>0.0</td>\n",
       "      <td>1.0</td>\n",
       "    </tr>\n",
       "    <tr>\n",
       "      <th>2</th>\n",
       "      <td>12000.0</td>\n",
       "      <td>5</td>\n",
       "      <td>16.99</td>\n",
       "      <td>298.17</td>\n",
       "      <td>4</td>\n",
       "      <td>18</td>\n",
       "      <td>31698.0</td>\n",
       "      <td>9</td>\n",
       "      <td>0</td>\n",
       "      <td>74000.0</td>\n",
       "      <td>2</td>\n",
       "      <td>2015-10-01</td>\n",
       "      <td>0</td>\n",
       "      <td>337.0</td>\n",
       "      <td>14</td>\n",
       "      <td>22.77</td>\n",
       "      <td>0.0</td>\n",
       "      <td>675.0</td>\n",
       "      <td>679.0</td>\n",
       "      <td>11.0</td>\n",
       "      <td>0.0</td>\n",
       "      <td>0.0</td>\n",
       "      <td>4606.0</td>\n",
       "      <td>51.8</td>\n",
       "      <td>27.0</td>\n",
       "      <td>0</td>\n",
       "      <td>0</td>\n",
       "      <td>May-2006</td>\n",
       "      <td>0.0</td>\n",
       "      <td>1.0</td>\n",
       "      <td>0.0</td>\n",
       "      <td>0.0</td>\n",
       "      <td>3.0</td>\n",
       "      <td>3.0</td>\n",
       "      <td>0.0</td>\n",
       "      <td>0.0</td>\n",
       "      <td>21.0</td>\n",
       "      <td>4.0</td>\n",
       "      <td>5.0</td>\n",
       "      <td>3.0</td>\n",
       "      <td>11.0</td>\n",
       "      <td>0.0</td>\n",
       "      <td>0.0</td>\n",
       "      <td>0.0</td>\n",
       "      <td>4.0</td>\n",
       "    </tr>\n",
       "    <tr>\n",
       "      <th>3</th>\n",
       "      <td>11000.0</td>\n",
       "      <td>3</td>\n",
       "      <td>7.26</td>\n",
       "      <td>340.96</td>\n",
       "      <td>1</td>\n",
       "      <td>4</td>\n",
       "      <td>46854.0</td>\n",
       "      <td>11</td>\n",
       "      <td>1</td>\n",
       "      <td>118000.0</td>\n",
       "      <td>1</td>\n",
       "      <td>2015-08-01</td>\n",
       "      <td>4</td>\n",
       "      <td>148.0</td>\n",
       "      <td>11</td>\n",
       "      <td>17.21</td>\n",
       "      <td>0.0</td>\n",
       "      <td>685.0</td>\n",
       "      <td>689.0</td>\n",
       "      <td>9.0</td>\n",
       "      <td>0.0</td>\n",
       "      <td>0.0</td>\n",
       "      <td>9948.0</td>\n",
       "      <td>52.6</td>\n",
       "      <td>28.0</td>\n",
       "      <td>1</td>\n",
       "      <td>0</td>\n",
       "      <td>May-1999</td>\n",
       "      <td>4.0</td>\n",
       "      <td>1.0</td>\n",
       "      <td>6.0</td>\n",
       "      <td>4.0</td>\n",
       "      <td>6.0</td>\n",
       "      <td>6.0</td>\n",
       "      <td>4.0</td>\n",
       "      <td>16.0</td>\n",
       "      <td>4.0</td>\n",
       "      <td>7.0</td>\n",
       "      <td>21.0</td>\n",
       "      <td>6.0</td>\n",
       "      <td>9.0</td>\n",
       "      <td>0.0</td>\n",
       "      <td>0.0</td>\n",
       "      <td>0.0</td>\n",
       "      <td>1.0</td>\n",
       "    </tr>\n",
       "    <tr>\n",
       "      <th>4</th>\n",
       "      <td>3000.0</td>\n",
       "      <td>3</td>\n",
       "      <td>12.99</td>\n",
       "      <td>101.07</td>\n",
       "      <td>3</td>\n",
       "      <td>12</td>\n",
       "      <td>54.0</td>\n",
       "      <td>11</td>\n",
       "      <td>1</td>\n",
       "      <td>29000.0</td>\n",
       "      <td>2</td>\n",
       "      <td>2016-03-01</td>\n",
       "      <td>10</td>\n",
       "      <td>301.0</td>\n",
       "      <td>21</td>\n",
       "      <td>32.16</td>\n",
       "      <td>0.0</td>\n",
       "      <td>690.0</td>\n",
       "      <td>694.0</td>\n",
       "      <td>12.0</td>\n",
       "      <td>0.0</td>\n",
       "      <td>0.0</td>\n",
       "      <td>2942.0</td>\n",
       "      <td>32.0</td>\n",
       "      <td>27.0</td>\n",
       "      <td>0</td>\n",
       "      <td>0</td>\n",
       "      <td>Aug-1977</td>\n",
       "      <td>11.0</td>\n",
       "      <td>1.0</td>\n",
       "      <td>1.0</td>\n",
       "      <td>2.0</td>\n",
       "      <td>7.0</td>\n",
       "      <td>7.0</td>\n",
       "      <td>2.0</td>\n",
       "      <td>4.0</td>\n",
       "      <td>9.0</td>\n",
       "      <td>10.0</td>\n",
       "      <td>15.0</td>\n",
       "      <td>7.0</td>\n",
       "      <td>12.0</td>\n",
       "      <td>0.0</td>\n",
       "      <td>0.0</td>\n",
       "      <td>0.0</td>\n",
       "      <td>4.0</td>\n",
       "    </tr>\n",
       "  </tbody>\n",
       "</table>\n",
       "</div>"
      ],
      "text/plain": [
       "   loanAmnt  term  interestRate  installment  grade  subGrade  \\\n",
       "0   35000.0     5         19.52       917.97      5        22   \n",
       "1   18000.0     5         18.49       461.90      4        17   \n",
       "2   12000.0     5         16.99       298.17      4        18   \n",
       "3   11000.0     3          7.26       340.96      1         4   \n",
       "4    3000.0     3         12.99       101.07      3        12   \n",
       "\n",
       "   employmentTitle  employmentLength  homeOwnership  annualIncome  \\\n",
       "0            320.0                 3              2      110000.0   \n",
       "1         219843.0                 6              0       46000.0   \n",
       "2          31698.0                 9              0       74000.0   \n",
       "3          46854.0                11              1      118000.0   \n",
       "4             54.0                11              1       29000.0   \n",
       "\n",
       "   verificationStatus   issueDate  purpose  postCode  regionCode    dti  \\\n",
       "0                   2  2014-07-01        1     137.0          32  17.05   \n",
       "1                   2  2012-08-01        0     156.0          18  27.83   \n",
       "2                   2  2015-10-01        0     337.0          14  22.77   \n",
       "3                   1  2015-08-01        4     148.0          11  17.21   \n",
       "4                   2  2016-03-01       10     301.0          21  32.16   \n",
       "\n",
       "   delinquency_2years  ficoRangeLow  ficoRangeHigh  openAcc  pubRec  \\\n",
       "0                 0.0         730.0          734.0      7.0     0.0   \n",
       "1                 0.0         700.0          704.0     13.0     0.0   \n",
       "2                 0.0         675.0          679.0     11.0     0.0   \n",
       "3                 0.0         685.0          689.0      9.0     0.0   \n",
       "4                 0.0         690.0          694.0     12.0     0.0   \n",
       "\n",
       "   pubRecBankruptcies  revolBal  revolUtil  totalAcc  initialListStatus  \\\n",
       "0                 0.0   24178.0       48.9      27.0                  0   \n",
       "1                 0.0   15096.0       38.9      18.0                  1   \n",
       "2                 0.0    4606.0       51.8      27.0                  0   \n",
       "3                 0.0    9948.0       52.6      28.0                  1   \n",
       "4                 0.0    2942.0       32.0      27.0                  0   \n",
       "\n",
       "   applicationType earliesCreditLine   title  policyCode   n0   n1   n2   n3  \\\n",
       "0                0          Aug-2001     1.0         1.0  0.0  2.0  2.0  2.0   \n",
       "1                0          May-2002  1723.0         1.0  0.0  3.0  4.0  4.0   \n",
       "2                0          May-2006     0.0         1.0  0.0  0.0  3.0  3.0   \n",
       "3                0          May-1999     4.0         1.0  6.0  4.0  6.0  6.0   \n",
       "4                0          Aug-1977    11.0         1.0  1.0  2.0  7.0  7.0   \n",
       "\n",
       "     n4    n5    n6    n7    n8   n9   n10  n11  n12  n13  n14  \n",
       "0   4.0   9.0   8.0   4.0  12.0  2.0   7.0  0.0  0.0  0.0  2.0  \n",
       "1  10.0   5.0   4.0   6.0  11.0  4.0  13.0  0.0  0.0  0.0  1.0  \n",
       "2   0.0   0.0  21.0   4.0   5.0  3.0  11.0  0.0  0.0  0.0  4.0  \n",
       "3   4.0  16.0   4.0   7.0  21.0  6.0   9.0  0.0  0.0  0.0  1.0  \n",
       "4   2.0   4.0   9.0  10.0  15.0  7.0  12.0  0.0  0.0  0.0  4.0  "
      ]
     },
     "execution_count": 227,
     "metadata": {},
     "output_type": "execute_result"
    }
   ],
   "source": [
    "X.head()"
   ]
  },
  {
   "cell_type": "code",
   "execution_count": 229,
   "metadata": {},
   "outputs": [],
   "source": [
    "test = Order_encode_fun(test, order_encode)"
   ]
  },
  {
   "cell_type": "code",
   "execution_count": 230,
   "metadata": {},
   "outputs": [
    {
     "data": {
      "text/html": [
       "<div>\n",
       "<style scoped>\n",
       "    .dataframe tbody tr th:only-of-type {\n",
       "        vertical-align: middle;\n",
       "    }\n",
       "\n",
       "    .dataframe tbody tr th {\n",
       "        vertical-align: top;\n",
       "    }\n",
       "\n",
       "    .dataframe thead th {\n",
       "        text-align: right;\n",
       "    }\n",
       "</style>\n",
       "<table border=\"1\" class=\"dataframe\">\n",
       "  <thead>\n",
       "    <tr style=\"text-align: right;\">\n",
       "      <th></th>\n",
       "      <th>id</th>\n",
       "      <th>loanAmnt</th>\n",
       "      <th>term</th>\n",
       "      <th>interestRate</th>\n",
       "      <th>installment</th>\n",
       "      <th>grade</th>\n",
       "      <th>subGrade</th>\n",
       "      <th>employmentTitle</th>\n",
       "      <th>employmentLength</th>\n",
       "      <th>homeOwnership</th>\n",
       "      <th>annualIncome</th>\n",
       "      <th>verificationStatus</th>\n",
       "      <th>issueDate</th>\n",
       "      <th>purpose</th>\n",
       "      <th>postCode</th>\n",
       "      <th>regionCode</th>\n",
       "      <th>dti</th>\n",
       "      <th>delinquency_2years</th>\n",
       "      <th>ficoRangeLow</th>\n",
       "      <th>ficoRangeHigh</th>\n",
       "      <th>openAcc</th>\n",
       "      <th>pubRec</th>\n",
       "      <th>pubRecBankruptcies</th>\n",
       "      <th>revolBal</th>\n",
       "      <th>revolUtil</th>\n",
       "      <th>totalAcc</th>\n",
       "      <th>initialListStatus</th>\n",
       "      <th>applicationType</th>\n",
       "      <th>earliesCreditLine</th>\n",
       "      <th>title</th>\n",
       "      <th>policyCode</th>\n",
       "      <th>n0</th>\n",
       "      <th>n1</th>\n",
       "      <th>n2</th>\n",
       "      <th>n3</th>\n",
       "      <th>n4</th>\n",
       "      <th>n5</th>\n",
       "      <th>n6</th>\n",
       "      <th>n7</th>\n",
       "      <th>n8</th>\n",
       "      <th>n9</th>\n",
       "      <th>n10</th>\n",
       "      <th>n11</th>\n",
       "      <th>n12</th>\n",
       "      <th>n13</th>\n",
       "      <th>n14</th>\n",
       "    </tr>\n",
       "  </thead>\n",
       "  <tbody>\n",
       "    <tr>\n",
       "      <th>0</th>\n",
       "      <td>800000</td>\n",
       "      <td>14000.0</td>\n",
       "      <td>3</td>\n",
       "      <td>10.99</td>\n",
       "      <td>458.28</td>\n",
       "      <td>2</td>\n",
       "      <td>8</td>\n",
       "      <td>7027.0</td>\n",
       "      <td>11</td>\n",
       "      <td>0</td>\n",
       "      <td>80000.0</td>\n",
       "      <td>0</td>\n",
       "      <td>2014-07-01</td>\n",
       "      <td>0</td>\n",
       "      <td>163.0</td>\n",
       "      <td>21</td>\n",
       "      <td>10.56</td>\n",
       "      <td>1.0</td>\n",
       "      <td>715.0</td>\n",
       "      <td>719.0</td>\n",
       "      <td>17.0</td>\n",
       "      <td>0.0</td>\n",
       "      <td>0.0</td>\n",
       "      <td>9846.0</td>\n",
       "      <td>30.7</td>\n",
       "      <td>29.0</td>\n",
       "      <td>0</td>\n",
       "      <td>0</td>\n",
       "      <td>Nov-1974</td>\n",
       "      <td>0.0</td>\n",
       "      <td>1.0</td>\n",
       "      <td>1.0</td>\n",
       "      <td>4.0</td>\n",
       "      <td>6.0</td>\n",
       "      <td>6.0</td>\n",
       "      <td>6.0</td>\n",
       "      <td>8.0</td>\n",
       "      <td>4.0</td>\n",
       "      <td>15.0</td>\n",
       "      <td>19.0</td>\n",
       "      <td>6.0</td>\n",
       "      <td>17.0</td>\n",
       "      <td>0.0</td>\n",
       "      <td>0.0</td>\n",
       "      <td>1.0</td>\n",
       "      <td>3.0</td>\n",
       "    </tr>\n",
       "    <tr>\n",
       "      <th>1</th>\n",
       "      <td>800001</td>\n",
       "      <td>20000.0</td>\n",
       "      <td>5</td>\n",
       "      <td>14.65</td>\n",
       "      <td>472.14</td>\n",
       "      <td>3</td>\n",
       "      <td>15</td>\n",
       "      <td>60426.0</td>\n",
       "      <td>11</td>\n",
       "      <td>0</td>\n",
       "      <td>50000.0</td>\n",
       "      <td>0</td>\n",
       "      <td>2015-07-01</td>\n",
       "      <td>2</td>\n",
       "      <td>235.0</td>\n",
       "      <td>8</td>\n",
       "      <td>21.40</td>\n",
       "      <td>2.0</td>\n",
       "      <td>670.0</td>\n",
       "      <td>674.0</td>\n",
       "      <td>5.0</td>\n",
       "      <td>0.0</td>\n",
       "      <td>0.0</td>\n",
       "      <td>8946.0</td>\n",
       "      <td>56.6</td>\n",
       "      <td>14.0</td>\n",
       "      <td>0</td>\n",
       "      <td>0</td>\n",
       "      <td>Jul-2001</td>\n",
       "      <td>5.0</td>\n",
       "      <td>1.0</td>\n",
       "      <td>2.0</td>\n",
       "      <td>1.0</td>\n",
       "      <td>3.0</td>\n",
       "      <td>3.0</td>\n",
       "      <td>1.0</td>\n",
       "      <td>1.0</td>\n",
       "      <td>3.0</td>\n",
       "      <td>3.0</td>\n",
       "      <td>9.0</td>\n",
       "      <td>3.0</td>\n",
       "      <td>5.0</td>\n",
       "      <td>0.0</td>\n",
       "      <td>0.0</td>\n",
       "      <td>2.0</td>\n",
       "      <td>2.0</td>\n",
       "    </tr>\n",
       "    <tr>\n",
       "      <th>2</th>\n",
       "      <td>800002</td>\n",
       "      <td>12000.0</td>\n",
       "      <td>3</td>\n",
       "      <td>19.99</td>\n",
       "      <td>445.91</td>\n",
       "      <td>4</td>\n",
       "      <td>19</td>\n",
       "      <td>23547.0</td>\n",
       "      <td>3</td>\n",
       "      <td>1</td>\n",
       "      <td>60000.0</td>\n",
       "      <td>2</td>\n",
       "      <td>2016-10-01</td>\n",
       "      <td>0</td>\n",
       "      <td>526.0</td>\n",
       "      <td>20</td>\n",
       "      <td>33.50</td>\n",
       "      <td>0.0</td>\n",
       "      <td>710.0</td>\n",
       "      <td>714.0</td>\n",
       "      <td>12.0</td>\n",
       "      <td>0.0</td>\n",
       "      <td>0.0</td>\n",
       "      <td>970.0</td>\n",
       "      <td>17.6</td>\n",
       "      <td>43.0</td>\n",
       "      <td>1</td>\n",
       "      <td>0</td>\n",
       "      <td>Aug-2006</td>\n",
       "      <td>0.0</td>\n",
       "      <td>1.0</td>\n",
       "      <td>0.0</td>\n",
       "      <td>1.0</td>\n",
       "      <td>4.0</td>\n",
       "      <td>4.0</td>\n",
       "      <td>1.0</td>\n",
       "      <td>1.0</td>\n",
       "      <td>36.0</td>\n",
       "      <td>5.0</td>\n",
       "      <td>6.0</td>\n",
       "      <td>4.0</td>\n",
       "      <td>12.0</td>\n",
       "      <td>0.0</td>\n",
       "      <td>0.0</td>\n",
       "      <td>0.0</td>\n",
       "      <td>7.0</td>\n",
       "    </tr>\n",
       "    <tr>\n",
       "      <th>3</th>\n",
       "      <td>800003</td>\n",
       "      <td>17500.0</td>\n",
       "      <td>5</td>\n",
       "      <td>14.31</td>\n",
       "      <td>410.02</td>\n",
       "      <td>3</td>\n",
       "      <td>14</td>\n",
       "      <td>636.0</td>\n",
       "      <td>5</td>\n",
       "      <td>0</td>\n",
       "      <td>37000.0</td>\n",
       "      <td>1</td>\n",
       "      <td>2014-11-01</td>\n",
       "      <td>4</td>\n",
       "      <td>248.0</td>\n",
       "      <td>11</td>\n",
       "      <td>13.95</td>\n",
       "      <td>0.0</td>\n",
       "      <td>685.0</td>\n",
       "      <td>689.0</td>\n",
       "      <td>10.0</td>\n",
       "      <td>1.0</td>\n",
       "      <td>1.0</td>\n",
       "      <td>10249.0</td>\n",
       "      <td>52.3</td>\n",
       "      <td>18.0</td>\n",
       "      <td>0</td>\n",
       "      <td>0</td>\n",
       "      <td>Jul-2002</td>\n",
       "      <td>4.0</td>\n",
       "      <td>1.0</td>\n",
       "      <td>0.0</td>\n",
       "      <td>2.0</td>\n",
       "      <td>2.0</td>\n",
       "      <td>2.0</td>\n",
       "      <td>4.0</td>\n",
       "      <td>7.0</td>\n",
       "      <td>2.0</td>\n",
       "      <td>8.0</td>\n",
       "      <td>14.0</td>\n",
       "      <td>2.0</td>\n",
       "      <td>10.0</td>\n",
       "      <td>0.0</td>\n",
       "      <td>0.0</td>\n",
       "      <td>0.0</td>\n",
       "      <td>3.0</td>\n",
       "    </tr>\n",
       "    <tr>\n",
       "      <th>4</th>\n",
       "      <td>800004</td>\n",
       "      <td>35000.0</td>\n",
       "      <td>3</td>\n",
       "      <td>17.09</td>\n",
       "      <td>1249.42</td>\n",
       "      <td>4</td>\n",
       "      <td>16</td>\n",
       "      <td>368446.0</td>\n",
       "      <td>1</td>\n",
       "      <td>1</td>\n",
       "      <td>80000.0</td>\n",
       "      <td>1</td>\n",
       "      <td>2017-10-01</td>\n",
       "      <td>0</td>\n",
       "      <td>115.0</td>\n",
       "      <td>8</td>\n",
       "      <td>24.97</td>\n",
       "      <td>0.0</td>\n",
       "      <td>685.0</td>\n",
       "      <td>689.0</td>\n",
       "      <td>19.0</td>\n",
       "      <td>0.0</td>\n",
       "      <td>0.0</td>\n",
       "      <td>33199.0</td>\n",
       "      <td>35.6</td>\n",
       "      <td>22.0</td>\n",
       "      <td>0</td>\n",
       "      <td>0</td>\n",
       "      <td>Dec-2000</td>\n",
       "      <td>0.0</td>\n",
       "      <td>1.0</td>\n",
       "      <td>0.0</td>\n",
       "      <td>8.0</td>\n",
       "      <td>11.0</td>\n",
       "      <td>11.0</td>\n",
       "      <td>9.0</td>\n",
       "      <td>11.0</td>\n",
       "      <td>3.0</td>\n",
       "      <td>16.0</td>\n",
       "      <td>18.0</td>\n",
       "      <td>11.0</td>\n",
       "      <td>19.0</td>\n",
       "      <td>0.0</td>\n",
       "      <td>0.0</td>\n",
       "      <td>0.0</td>\n",
       "      <td>1.0</td>\n",
       "    </tr>\n",
       "  </tbody>\n",
       "</table>\n",
       "</div>"
      ],
      "text/plain": [
       "       id  loanAmnt  term  interestRate  installment  grade  subGrade  \\\n",
       "0  800000   14000.0     3         10.99       458.28      2         8   \n",
       "1  800001   20000.0     5         14.65       472.14      3        15   \n",
       "2  800002   12000.0     3         19.99       445.91      4        19   \n",
       "3  800003   17500.0     5         14.31       410.02      3        14   \n",
       "4  800004   35000.0     3         17.09      1249.42      4        16   \n",
       "\n",
       "   employmentTitle  employmentLength  homeOwnership  annualIncome  \\\n",
       "0           7027.0                11              0       80000.0   \n",
       "1          60426.0                11              0       50000.0   \n",
       "2          23547.0                 3              1       60000.0   \n",
       "3            636.0                 5              0       37000.0   \n",
       "4         368446.0                 1              1       80000.0   \n",
       "\n",
       "   verificationStatus   issueDate  purpose  postCode  regionCode    dti  \\\n",
       "0                   0  2014-07-01        0     163.0          21  10.56   \n",
       "1                   0  2015-07-01        2     235.0           8  21.40   \n",
       "2                   2  2016-10-01        0     526.0          20  33.50   \n",
       "3                   1  2014-11-01        4     248.0          11  13.95   \n",
       "4                   1  2017-10-01        0     115.0           8  24.97   \n",
       "\n",
       "   delinquency_2years  ficoRangeLow  ficoRangeHigh  openAcc  pubRec  \\\n",
       "0                 1.0         715.0          719.0     17.0     0.0   \n",
       "1                 2.0         670.0          674.0      5.0     0.0   \n",
       "2                 0.0         710.0          714.0     12.0     0.0   \n",
       "3                 0.0         685.0          689.0     10.0     1.0   \n",
       "4                 0.0         685.0          689.0     19.0     0.0   \n",
       "\n",
       "   pubRecBankruptcies  revolBal  revolUtil  totalAcc  initialListStatus  \\\n",
       "0                 0.0    9846.0       30.7      29.0                  0   \n",
       "1                 0.0    8946.0       56.6      14.0                  0   \n",
       "2                 0.0     970.0       17.6      43.0                  1   \n",
       "3                 1.0   10249.0       52.3      18.0                  0   \n",
       "4                 0.0   33199.0       35.6      22.0                  0   \n",
       "\n",
       "   applicationType earliesCreditLine  title  policyCode   n0   n1    n2    n3  \\\n",
       "0                0          Nov-1974    0.0         1.0  1.0  4.0   6.0   6.0   \n",
       "1                0          Jul-2001    5.0         1.0  2.0  1.0   3.0   3.0   \n",
       "2                0          Aug-2006    0.0         1.0  0.0  1.0   4.0   4.0   \n",
       "3                0          Jul-2002    4.0         1.0  0.0  2.0   2.0   2.0   \n",
       "4                0          Dec-2000    0.0         1.0  0.0  8.0  11.0  11.0   \n",
       "\n",
       "    n4    n5    n6    n7    n8    n9   n10  n11  n12  n13  n14  \n",
       "0  6.0   8.0   4.0  15.0  19.0   6.0  17.0  0.0  0.0  1.0  3.0  \n",
       "1  1.0   1.0   3.0   3.0   9.0   3.0   5.0  0.0  0.0  2.0  2.0  \n",
       "2  1.0   1.0  36.0   5.0   6.0   4.0  12.0  0.0  0.0  0.0  7.0  \n",
       "3  4.0   7.0   2.0   8.0  14.0   2.0  10.0  0.0  0.0  0.0  3.0  \n",
       "4  9.0  11.0   3.0  16.0  18.0  11.0  19.0  0.0  0.0  0.0  1.0  "
      ]
     },
     "execution_count": 230,
     "metadata": {},
     "output_type": "execute_result"
    }
   ],
   "source": [
    "test.head()"
   ]
  },
  {
   "cell_type": "code",
   "execution_count": null,
   "metadata": {},
   "outputs": [],
   "source": []
  },
  {
   "cell_type": "markdown",
   "metadata": {},
   "source": [
    "-------------\n",
    "\n",
    "# 特征工程"
   ]
  },
  {
   "cell_type": "markdown",
   "metadata": {},
   "source": [
    "## 特征分箱"
   ]
  },
  {
   "cell_type": "markdown",
   "metadata": {},
   "source": [
    "## 特征过滤\n",
    "\n",
    "+ 数值型——31个\n",
    "  + 实数型——10个：无需处理  \n",
    "    loanAmnt，interestRate，installment，annualIncome，dti，ficoRangeLow，ficoRangeHigh，revolBal，revolUtil，totalAcc\n",
    "  + 计数型——4+15=19个：后续分箱处理  \n",
    "    delinquency_2years，openAcc，pubRec，pubRecBankruptcies，n0至n14\n",
    "  + 日期型——2个：暂时不处理  \n",
    "    issueDate，earliesCreditLine\n",
    "+ 类别型——10个\n",
    "  + 有序型——5个  \n",
    "    term，homeOwnership：已经是序数型，暂不处理；   \n",
    "    grade，subGrade，employmentLength，进行过序数编码\n",
    "  + 标称型——5个  \n",
    "    verificationStatus，purpose，initialListStatus，applicationType，policyCode：已经是数值表示，暂不处理   \n",
    "+ 待定——4个  \n",
    "  employmentTitle，postCode，regionCode，title"
   ]
  },
  {
   "cell_type": "markdown",
   "metadata": {},
   "source": [
    "这里首先考虑：\n",
    "1. 丢弃 2 个日期型特征：issueDate，earliesCreditLine\n",
    "2. 丢弃 4 个待定类别的特征：employmentTitle，postCode，regionCode，title\n",
    "3. policyCode只有一个取值，所以也丢弃\n",
    "\n",
    "只剩下 29+9=38 个"
   ]
  },
  {
   "cell_type": "code",
   "execution_count": 237,
   "metadata": {},
   "outputs": [
    {
     "data": {
      "text/plain": [
       "38"
      ]
     },
     "execution_count": 237,
     "metadata": {},
     "output_type": "execute_result"
    }
   ],
   "source": [
    "# features = ['id', 'loanAmnt', 'term', 'interestRate', 'installment', 'grade', 'subGrade', 'employmentTitle', 'employmentLength', 'homeOwnership', 'annualIncome', \n",
    "#             'verificationStatus', 'issueDate',\n",
    "# #             'isDefault', \n",
    "#             'purpose', 'postCode', 'regionCode', 'dti', 'delinquency_2years', 'ficoRangeLow', 'ficoRangeHigh', \n",
    "#             'openAcc', 'pubRec', 'pubRecBankruptcies', 'revolBal', 'revolUtil', 'totalAcc', 'initialListStatus', 'applicationType', 'earliesCreditLine', 'title', \n",
    "#             'policyCode', 'n0', 'n1', 'n2', 'n3', 'n4', 'n5', 'n6', 'n7', 'n8', 'n9', 'n10', 'n11', 'n12', 'n13', 'n14']\n",
    "\n",
    "features_final = ['loanAmnt', 'term', 'interestRate', 'installment', 'grade', 'subGrade',             'employmentLength', 'homeOwnership', 'annualIncome', \n",
    "            'verificationStatus',        'purpose',                          'dti', 'delinquency_2years', 'ficoRangeLow', 'ficoRangeHigh', \n",
    "            'openAcc', 'pubRec', 'pubRecBankruptcies', 'revolBal', 'revolUtil', 'totalAcc', 'initialListStatus', 'applicationType', \n",
    "                      'n0', 'n1', 'n2', 'n3', 'n4', 'n5', 'n6', 'n7', 'n8', 'n9', 'n10', 'n11', 'n12', 'n13', 'n14']\n",
    "len(features_final)"
   ]
  },
  {
   "cell_type": "code",
   "execution_count": 238,
   "metadata": {},
   "outputs": [],
   "source": [
    "X_final = X[features_final]\n",
    "test_final = test[ ['id']+features_final ]"
   ]
  },
  {
   "cell_type": "code",
   "execution_count": 319,
   "metadata": {},
   "outputs": [],
   "source": [
    "test_final = test[ features_final ]"
   ]
  },
  {
   "cell_type": "markdown",
   "metadata": {},
   "source": [
    "-----------------------\n",
    "\n",
    "# 建模"
   ]
  },
  {
   "cell_type": "code",
   "execution_count": 263,
   "metadata": {},
   "outputs": [],
   "source": [
    "from sklearn.metrics import confusion_matrix, precision_score, recall_score, f1_score, roc_curve, roc_auc_score"
   ]
  },
  {
   "cell_type": "markdown",
   "metadata": {},
   "source": [
    "## 训练集、测试集划分"
   ]
  },
  {
   "cell_type": "code",
   "execution_count": 241,
   "metadata": {},
   "outputs": [],
   "source": [
    "from sklearn.model_selection import train_test_split"
   ]
  },
  {
   "cell_type": "code",
   "execution_count": 246,
   "metadata": {},
   "outputs": [
    {
     "name": "stdout",
     "output_type": "stream",
     "text": [
      "(560000, 38)\n",
      "(240000, 38)\n"
     ]
    }
   ],
   "source": [
    "X_train, X_test, y_train, y_test = train_test_split(X_final, y, test_size=0.3, random_state=29 )\n",
    "print(X_train.shape)\n",
    "print(X_test.shape)"
   ]
  },
  {
   "cell_type": "markdown",
   "metadata": {},
   "source": [
    "## 决策树分类器"
   ]
  },
  {
   "cell_type": "code",
   "execution_count": 261,
   "metadata": {},
   "outputs": [],
   "source": [
    "from sklearn.tree import DecisionTreeClassifier"
   ]
  },
  {
   "cell_type": "code",
   "execution_count": 250,
   "metadata": {},
   "outputs": [
    {
     "data": {
      "text/plain": [
       "DecisionTreeClassifier(ccp_alpha=0.0, class_weight=None, criterion='gini',\n",
       "                       max_depth=6, max_features=None, max_leaf_nodes=None,\n",
       "                       min_impurity_decrease=0.0, min_impurity_split=None,\n",
       "                       min_samples_leaf=10, min_samples_split=2,\n",
       "                       min_weight_fraction_leaf=0.0, presort='deprecated',\n",
       "                       random_state=None, splitter='best')"
      ]
     },
     "execution_count": 250,
     "metadata": {},
     "output_type": "execute_result"
    }
   ],
   "source": [
    "dtc = DecisionTreeClassifier(max_depth=6, min_samples_leaf=10)\n",
    "dtc.fit(X_train, y_train)"
   ]
  },
  {
   "cell_type": "code",
   "execution_count": 257,
   "metadata": {},
   "outputs": [
    {
     "name": "stdout",
     "output_type": "stream",
     "text": [
      "train score:  0.8012285714285714\n",
      "test score:  0.8022041666666667\n"
     ]
    }
   ],
   "source": [
    "print(\"train score: \", dtc.score(X_train, y_train))\n",
    "print(\"test score: \", dtc.score(X_test, y_test))"
   ]
  },
  {
   "cell_type": "code",
   "execution_count": 268,
   "metadata": {},
   "outputs": [
    {
     "data": {
      "text/plain": [
       "array([0, 1], dtype=int64)"
      ]
     },
     "execution_count": 268,
     "metadata": {},
     "output_type": "execute_result"
    }
   ],
   "source": [
    "dtc.classes_"
   ]
  },
  {
   "cell_type": "code",
   "execution_count": 269,
   "metadata": {},
   "outputs": [],
   "source": [
    "y_pred = dtc.predict(X_test)\n",
    "y_pred_prob = dtc.predict_proba(X_test)[:,1]"
   ]
  },
  {
   "cell_type": "code",
   "execution_count": 275,
   "metadata": {},
   "outputs": [],
   "source": [
    "cm = confusion_matrix(y_true=y_test, y_pred=y_pred, labels=[1, 0])\n",
    "cm = pd.DataFrame(cm, columns=['1','0'], index=['1','0'])\n",
    "\n",
    "precision = precision_score(y_true=y_test, y_pred=y_pred, labels=[1,0], pos_label=1)\n",
    "recall = recall_score(y_true=y_test, y_pred=y_pred, labels=[1,0], pos_label=1)\n",
    "f1 = f1_score(y_true=y_test, y_pred=y_pred, labels=[1,0], pos_label=1)\n",
    "fpr, tpr, thresholds = roc_curve(y_true=y_test, y_score=y_pred_prob, pos_label=1)\n",
    "auc = roc_auc_score(y_true=y_test, y_score=y_pred_prob)"
   ]
  },
  {
   "cell_type": "code",
   "execution_count": 276,
   "metadata": {},
   "outputs": [
    {
     "data": {
      "text/html": [
       "<div>\n",
       "<style scoped>\n",
       "    .dataframe tbody tr th:only-of-type {\n",
       "        vertical-align: middle;\n",
       "    }\n",
       "\n",
       "    .dataframe tbody tr th {\n",
       "        vertical-align: top;\n",
       "    }\n",
       "\n",
       "    .dataframe thead th {\n",
       "        text-align: right;\n",
       "    }\n",
       "</style>\n",
       "<table border=\"1\" class=\"dataframe\">\n",
       "  <thead>\n",
       "    <tr style=\"text-align: right;\">\n",
       "      <th></th>\n",
       "      <th>1</th>\n",
       "      <th>0</th>\n",
       "    </tr>\n",
       "  </thead>\n",
       "  <tbody>\n",
       "    <tr>\n",
       "      <th>1</th>\n",
       "      <td>2436</td>\n",
       "      <td>45151</td>\n",
       "    </tr>\n",
       "    <tr>\n",
       "      <th>0</th>\n",
       "      <td>2320</td>\n",
       "      <td>190093</td>\n",
       "    </tr>\n",
       "  </tbody>\n",
       "</table>\n",
       "</div>"
      ],
      "text/plain": [
       "      1       0\n",
       "1  2436   45151\n",
       "0  2320  190093"
      ]
     },
     "execution_count": 276,
     "metadata": {},
     "output_type": "execute_result"
    }
   ],
   "source": [
    "cm"
   ]
  },
  {
   "cell_type": "code",
   "execution_count": 299,
   "metadata": {},
   "outputs": [
    {
     "name": "stdout",
     "output_type": "stream",
     "text": [
      "precision:  0.6191261335531739\n",
      "recall:  0.015781621030953832\n",
      "f1 score:  0.030778688524590165\n",
      "auc score:  0.7104748180728813\n"
     ]
    }
   ],
   "source": [
    "print(\"precision: \", precision)\n",
    "print(\"recall: \", recall)\n",
    "print(\"f1 score: \", f1)\n",
    "print(\"auc score: \", auc)"
   ]
  },
  {
   "cell_type": "code",
   "execution_count": 278,
   "metadata": {},
   "outputs": [
    {
     "data": {
      "text/plain": [
       "0.05119045117363986"
      ]
     },
     "execution_count": 278,
     "metadata": {},
     "output_type": "execute_result"
    }
   ],
   "source": [
    "2436/(2436+45151)"
   ]
  },
  {
   "cell_type": "markdown",
   "metadata": {},
   "source": [
    "## 随机森林分类器"
   ]
  },
  {
   "cell_type": "code",
   "execution_count": 258,
   "metadata": {},
   "outputs": [],
   "source": [
    "from sklearn.ensemble import RandomForestClassifier"
   ]
  },
  {
   "cell_type": "code",
   "execution_count": 291,
   "metadata": {},
   "outputs": [
    {
     "data": {
      "text/plain": [
       "RandomForestClassifier(bootstrap=True, ccp_alpha=0.0, class_weight=None,\n",
       "                       criterion='gini', max_depth=8, max_features='auto',\n",
       "                       max_leaf_nodes=None, max_samples=None,\n",
       "                       min_impurity_decrease=0.0, min_impurity_split=None,\n",
       "                       min_samples_leaf=10, min_samples_split=2,\n",
       "                       min_weight_fraction_leaf=0.0, n_estimators=200,\n",
       "                       n_jobs=-1, oob_score=False, random_state=None, verbose=0,\n",
       "                       warm_start=False)"
      ]
     },
     "execution_count": 291,
     "metadata": {},
     "output_type": "execute_result"
    }
   ],
   "source": [
    "rfc = RandomForestClassifier(n_estimators=200, max_depth=8, min_samples_leaf=10, n_jobs=-1)\n",
    "rfc.fit(X_train, y_train)"
   ]
  },
  {
   "cell_type": "code",
   "execution_count": 292,
   "metadata": {},
   "outputs": [
    {
     "name": "stdout",
     "output_type": "stream",
     "text": [
      "train score:  0.8017214285714286\n",
      "test score:  0.802925\n"
     ]
    }
   ],
   "source": [
    "print(\"train score: \", rfc.score(X_train, y_train))\n",
    "print(\"test score: \", rfc.score(X_test, y_test))"
   ]
  },
  {
   "cell_type": "code",
   "execution_count": 293,
   "metadata": {},
   "outputs": [
    {
     "data": {
      "text/plain": [
       "array([0, 1], dtype=int64)"
      ]
     },
     "execution_count": 293,
     "metadata": {},
     "output_type": "execute_result"
    }
   ],
   "source": [
    "rfc.classes_"
   ]
  },
  {
   "cell_type": "code",
   "execution_count": 294,
   "metadata": {},
   "outputs": [],
   "source": [
    "y_pred = rfc.predict(X_test)\n",
    "y_pred_prob = rfc.predict_proba(X_test)[:,1]"
   ]
  },
  {
   "cell_type": "code",
   "execution_count": 301,
   "metadata": {},
   "outputs": [],
   "source": [
    "cm = confusion_matrix(y_true=y_test, y_pred=y_pred, labels=[1, 0])\n",
    "cm = pd.DataFrame(cm, columns=['1','0'], index=['1','0'])\n",
    "\n",
    "precision = precision_score(y_true=y_test, y_pred=y_pred, labels=[1,0], pos_label=1)\n",
    "recall = recall_score(y_true=y_test, y_pred=y_pred, labels=[1,0], pos_label=1)\n",
    "f1 = f1_score(y_true=y_test, y_pred=y_pred, labels=[1,0], pos_label=1)\n",
    "fpr, tpr, thresholds = roc_curve(y_true=y_test, y_score=y_pred_prob, pos_label=1)\n",
    "auc = roc_auc_score(y_true=y_test, y_score=y_pred_prob)"
   ]
  },
  {
   "cell_type": "code",
   "execution_count": 296,
   "metadata": {},
   "outputs": [
    {
     "data": {
      "text/html": [
       "<div>\n",
       "<style scoped>\n",
       "    .dataframe tbody tr th:only-of-type {\n",
       "        vertical-align: middle;\n",
       "    }\n",
       "\n",
       "    .dataframe tbody tr th {\n",
       "        vertical-align: top;\n",
       "    }\n",
       "\n",
       "    .dataframe thead th {\n",
       "        text-align: right;\n",
       "    }\n",
       "</style>\n",
       "<table border=\"1\" class=\"dataframe\">\n",
       "  <thead>\n",
       "    <tr style=\"text-align: right;\">\n",
       "      <th></th>\n",
       "      <th>1</th>\n",
       "      <th>0</th>\n",
       "    </tr>\n",
       "  </thead>\n",
       "  <tbody>\n",
       "    <tr>\n",
       "      <th>1</th>\n",
       "      <td>751</td>\n",
       "      <td>46836</td>\n",
       "    </tr>\n",
       "    <tr>\n",
       "      <th>0</th>\n",
       "      <td>462</td>\n",
       "      <td>191951</td>\n",
       "    </tr>\n",
       "  </tbody>\n",
       "</table>\n",
       "</div>"
      ],
      "text/plain": [
       "     1       0\n",
       "1  751   46836\n",
       "0  462  191951"
      ]
     },
     "execution_count": 296,
     "metadata": {},
     "output_type": "execute_result"
    }
   ],
   "source": [
    "cm"
   ]
  },
  {
   "cell_type": "code",
   "execution_count": 302,
   "metadata": {},
   "outputs": [
    {
     "name": "stdout",
     "output_type": "stream",
     "text": [
      "precision:  0.6191261335531739\n",
      "recall:  0.015781621030953832\n",
      "f1 score:  0.030778688524590165\n",
      "auc score:  0.7104748180728813\n"
     ]
    }
   ],
   "source": [
    "print(\"precision: \", precision)\n",
    "print(\"recall: \", recall)\n",
    "print(\"f1 score: \", f1)\n",
    "print(\"auc score: \", auc)"
   ]
  },
  {
   "cell_type": "markdown",
   "metadata": {},
   "source": [
    "## XGBoost分类器"
   ]
  },
  {
   "cell_type": "code",
   "execution_count": 298,
   "metadata": {},
   "outputs": [],
   "source": [
    "import xgboost as xgb"
   ]
  },
  {
   "cell_type": "code",
   "execution_count": 303,
   "metadata": {},
   "outputs": [],
   "source": [
    "dtrain = xgb.DMatrix(X_train, y_train)\n",
    "dtest = xgb.DMatrix(X_test, y_test)"
   ]
  },
  {
   "cell_type": "code",
   "execution_count": 304,
   "metadata": {},
   "outputs": [],
   "source": [
    "# 这个params字段里配置的是 Booster 类的参数\n",
    "params = {'booster':'gbtree',  #基分类器\n",
    "          'objective': 'binary:logistic', #目标函数\n",
    "         'eta': 0.3,  #学习速率\n",
    "         'gamma': 0,  #分裂的最小增益\n",
    "         'max_depth': 6,  #树的最大深度\n",
    "         'lambda': 1,  #L2正则项系数\n",
    "         'alpha': 0,  # L1正则项系数\n",
    "         'subsample': 1,  #boostrap时的采样比例\n",
    "         'tree_method': 'auto',  # 树的生成方式\n",
    "         'base_score': 0.5,  # 生成第一棵树时的初始值\n",
    "         'eval_metric': ['error','auc']  # 在 验证集 上进行评估的指标，可以选择多个\n",
    "}\n",
    "\n",
    "# booster的个数\n",
    "num_round = 50\n",
    "\n",
    "# 用于训练时查看验证集上效果的 evals (list of pairs (DMatrix, string)) \n",
    "watch_list = [(dtrain, 'train'), (dtest, 'eval')]"
   ]
  },
  {
   "cell_type": "code",
   "execution_count": 305,
   "metadata": {},
   "outputs": [
    {
     "name": "stdout",
     "output_type": "stream",
     "text": [
      "[0]\ttrain-error:0.19877\ttrain-auc:0.70279\teval-error:0.19780\teval-auc:0.70138\n",
      "[1]\ttrain-error:0.19869\ttrain-auc:0.70695\teval-error:0.19757\teval-auc:0.70514\n",
      "[2]\ttrain-error:0.19802\ttrain-auc:0.70922\teval-error:0.19675\teval-auc:0.70736\n",
      "[3]\ttrain-error:0.19797\ttrain-auc:0.71075\teval-error:0.19682\teval-auc:0.70818\n",
      "[4]\ttrain-error:0.19770\ttrain-auc:0.71225\teval-error:0.19671\teval-auc:0.70940\n",
      "[5]\ttrain-error:0.19765\ttrain-auc:0.71359\teval-error:0.19657\teval-auc:0.71034\n",
      "[6]\ttrain-error:0.19747\ttrain-auc:0.71456\teval-error:0.19647\teval-auc:0.71091\n",
      "[7]\ttrain-error:0.19729\ttrain-auc:0.71594\teval-error:0.19620\teval-auc:0.71193\n",
      "[8]\ttrain-error:0.19700\ttrain-auc:0.71711\teval-error:0.19583\teval-auc:0.71272\n",
      "[9]\ttrain-error:0.19686\ttrain-auc:0.71833\teval-error:0.19582\teval-auc:0.71344\n",
      "[10]\ttrain-error:0.19657\ttrain-auc:0.71983\teval-error:0.19556\teval-auc:0.71452\n",
      "[11]\ttrain-error:0.19628\ttrain-auc:0.72080\teval-error:0.19527\teval-auc:0.71513\n",
      "[12]\ttrain-error:0.19609\ttrain-auc:0.72179\teval-error:0.19525\teval-auc:0.71559\n",
      "[13]\ttrain-error:0.19582\ttrain-auc:0.72286\teval-error:0.19500\teval-auc:0.71630\n",
      "[14]\ttrain-error:0.19573\ttrain-auc:0.72369\teval-error:0.19503\teval-auc:0.71667\n",
      "[15]\ttrain-error:0.19550\ttrain-auc:0.72456\teval-error:0.19499\teval-auc:0.71713\n",
      "[16]\ttrain-error:0.19534\ttrain-auc:0.72528\teval-error:0.19492\teval-auc:0.71743\n",
      "[17]\ttrain-error:0.19522\ttrain-auc:0.72604\teval-error:0.19491\teval-auc:0.71782\n",
      "[18]\ttrain-error:0.19504\ttrain-auc:0.72692\teval-error:0.19502\teval-auc:0.71831\n",
      "[19]\ttrain-error:0.19487\ttrain-auc:0.72751\teval-error:0.19494\teval-auc:0.71855\n",
      "[20]\ttrain-error:0.19477\ttrain-auc:0.72808\teval-error:0.19467\teval-auc:0.71876\n",
      "[21]\ttrain-error:0.19471\ttrain-auc:0.72857\teval-error:0.19466\teval-auc:0.71884\n",
      "[22]\ttrain-error:0.19456\ttrain-auc:0.72911\teval-error:0.19460\teval-auc:0.71898\n",
      "[23]\ttrain-error:0.19444\ttrain-auc:0.72981\teval-error:0.19466\teval-auc:0.71918\n",
      "[24]\ttrain-error:0.19433\ttrain-auc:0.73037\teval-error:0.19467\teval-auc:0.71931\n",
      "[25]\ttrain-error:0.19426\ttrain-auc:0.73090\teval-error:0.19472\teval-auc:0.71950\n",
      "[26]\ttrain-error:0.19416\ttrain-auc:0.73128\teval-error:0.19459\teval-auc:0.71949\n",
      "[27]\ttrain-error:0.19404\ttrain-auc:0.73189\teval-error:0.19450\teval-auc:0.71964\n",
      "[28]\ttrain-error:0.19397\ttrain-auc:0.73246\teval-error:0.19457\teval-auc:0.71976\n",
      "[29]\ttrain-error:0.19395\ttrain-auc:0.73299\teval-error:0.19460\teval-auc:0.71987\n",
      "[30]\ttrain-error:0.19384\ttrain-auc:0.73334\teval-error:0.19469\teval-auc:0.71984\n",
      "[31]\ttrain-error:0.19379\ttrain-auc:0.73366\teval-error:0.19468\teval-auc:0.71996\n",
      "[32]\ttrain-error:0.19365\ttrain-auc:0.73421\teval-error:0.19468\teval-auc:0.72023\n",
      "[33]\ttrain-error:0.19357\ttrain-auc:0.73457\teval-error:0.19460\teval-auc:0.72032\n",
      "[34]\ttrain-error:0.19348\ttrain-auc:0.73509\teval-error:0.19455\teval-auc:0.72045\n",
      "[35]\ttrain-error:0.19345\ttrain-auc:0.73571\teval-error:0.19452\teval-auc:0.72065\n",
      "[36]\ttrain-error:0.19334\ttrain-auc:0.73611\teval-error:0.19449\teval-auc:0.72077\n",
      "[37]\ttrain-error:0.19326\ttrain-auc:0.73647\teval-error:0.19456\teval-auc:0.72081\n",
      "[38]\ttrain-error:0.19314\ttrain-auc:0.73694\teval-error:0.19450\teval-auc:0.72082\n",
      "[39]\ttrain-error:0.19302\ttrain-auc:0.73741\teval-error:0.19445\teval-auc:0.72086\n",
      "[40]\ttrain-error:0.19289\ttrain-auc:0.73771\teval-error:0.19459\teval-auc:0.72082\n",
      "[41]\ttrain-error:0.19278\ttrain-auc:0.73793\teval-error:0.19460\teval-auc:0.72081\n",
      "[42]\ttrain-error:0.19273\ttrain-auc:0.73821\teval-error:0.19458\teval-auc:0.72088\n",
      "[43]\ttrain-error:0.19265\ttrain-auc:0.73862\teval-error:0.19465\teval-auc:0.72091\n",
      "[44]\ttrain-error:0.19256\ttrain-auc:0.73888\teval-error:0.19459\teval-auc:0.72095\n",
      "[45]\ttrain-error:0.19253\ttrain-auc:0.73941\teval-error:0.19456\teval-auc:0.72103\n",
      "[46]\ttrain-error:0.19233\ttrain-auc:0.73987\teval-error:0.19458\teval-auc:0.72113\n",
      "[47]\ttrain-error:0.19232\ttrain-auc:0.74025\teval-error:0.19457\teval-auc:0.72106\n",
      "[48]\ttrain-error:0.19226\ttrain-auc:0.74044\teval-error:0.19459\teval-auc:0.72106\n",
      "[49]\ttrain-error:0.19221\ttrain-auc:0.74079\teval-error:0.19460\teval-auc:0.72112\n"
     ]
    }
   ],
   "source": [
    "bst = xgb.train(params=params, dtrain=dtrain, num_boost_round=num_round, evals=watch_list, n_jo)"
   ]
  },
  {
   "cell_type": "code",
   "execution_count": 312,
   "metadata": {},
   "outputs": [],
   "source": [
    "y_pred_prob = bst.predict(dtest)\n",
    "y_pred = (y_pred_prob > 0.5)*1"
   ]
  },
  {
   "cell_type": "code",
   "execution_count": 315,
   "metadata": {},
   "outputs": [],
   "source": [
    "cm = confusion_matrix(y_true=y_test, y_pred=y_pred, labels=[1, 0])\n",
    "cm = pd.DataFrame(cm, columns=['1','0'], index=['1','0'])\n",
    "\n",
    "precision = precision_score(y_true=y_test, y_pred=y_pred, labels=[1,0], pos_label=1)\n",
    "recall = recall_score(y_true=y_test, y_pred=y_pred, labels=[1,0], pos_label=1)\n",
    "f1 = f1_score(y_true=y_test, y_pred=y_pred, labels=[1,0], pos_label=1)\n",
    "fpr, tpr, thresholds = roc_curve(y_true=y_test, y_score=y_pred_prob, pos_label=1)\n",
    "auc = roc_auc_score(y_true=y_test, y_score=y_pred_prob)"
   ]
  },
  {
   "cell_type": "code",
   "execution_count": 316,
   "metadata": {},
   "outputs": [
    {
     "data": {
      "text/html": [
       "<div>\n",
       "<style scoped>\n",
       "    .dataframe tbody tr th:only-of-type {\n",
       "        vertical-align: middle;\n",
       "    }\n",
       "\n",
       "    .dataframe tbody tr th {\n",
       "        vertical-align: top;\n",
       "    }\n",
       "\n",
       "    .dataframe thead th {\n",
       "        text-align: right;\n",
       "    }\n",
       "</style>\n",
       "<table border=\"1\" class=\"dataframe\">\n",
       "  <thead>\n",
       "    <tr style=\"text-align: right;\">\n",
       "      <th></th>\n",
       "      <th>1</th>\n",
       "      <th>0</th>\n",
       "    </tr>\n",
       "  </thead>\n",
       "  <tbody>\n",
       "    <tr>\n",
       "      <th>1</th>\n",
       "      <td>4375</td>\n",
       "      <td>43212</td>\n",
       "    </tr>\n",
       "    <tr>\n",
       "      <th>0</th>\n",
       "      <td>3493</td>\n",
       "      <td>188920</td>\n",
       "    </tr>\n",
       "  </tbody>\n",
       "</table>\n",
       "</div>"
      ],
      "text/plain": [
       "      1       0\n",
       "1  4375   43212\n",
       "0  3493  188920"
      ]
     },
     "execution_count": 316,
     "metadata": {},
     "output_type": "execute_result"
    }
   ],
   "source": [
    "cm"
   ]
  },
  {
   "cell_type": "code",
   "execution_count": 318,
   "metadata": {},
   "outputs": [
    {
     "name": "stdout",
     "output_type": "stream",
     "text": [
      "precision:  0.556049822064057\n",
      "recall:  0.09193687351587619\n",
      "f1 score:  0.1577855919213777\n",
      "auc score:  0.7211169998284879\n"
     ]
    }
   ],
   "source": [
    "print(\"precision: \", precision)\n",
    "print(\"recall: \", recall)\n",
    "print(\"f1 score: \", f1)\n",
    "print(\"auc score: \", auc)"
   ]
  },
  {
   "cell_type": "code",
   "execution_count": 321,
   "metadata": {},
   "outputs": [],
   "source": [
    "test_y_prob = bst.predict(xgb.DMatrix(test_final))"
   ]
  },
  {
   "cell_type": "code",
   "execution_count": 324,
   "metadata": {},
   "outputs": [],
   "source": [
    "test_y_result = pd.DataFrame({'id':test['id'], 'isDefalu':test_y_prob})"
   ]
  },
  {
   "cell_type": "code",
   "execution_count": 325,
   "metadata": {},
   "outputs": [
    {
     "data": {
      "text/html": [
       "<div>\n",
       "<style scoped>\n",
       "    .dataframe tbody tr th:only-of-type {\n",
       "        vertical-align: middle;\n",
       "    }\n",
       "\n",
       "    .dataframe tbody tr th {\n",
       "        vertical-align: top;\n",
       "    }\n",
       "\n",
       "    .dataframe thead th {\n",
       "        text-align: right;\n",
       "    }\n",
       "</style>\n",
       "<table border=\"1\" class=\"dataframe\">\n",
       "  <thead>\n",
       "    <tr style=\"text-align: right;\">\n",
       "      <th></th>\n",
       "      <th>id</th>\n",
       "      <th>isDefalu</th>\n",
       "    </tr>\n",
       "  </thead>\n",
       "  <tbody>\n",
       "    <tr>\n",
       "      <th>0</th>\n",
       "      <td>800000</td>\n",
       "      <td>0.093038</td>\n",
       "    </tr>\n",
       "    <tr>\n",
       "      <th>1</th>\n",
       "      <td>800001</td>\n",
       "      <td>0.436838</td>\n",
       "    </tr>\n",
       "    <tr>\n",
       "      <th>2</th>\n",
       "      <td>800002</td>\n",
       "      <td>0.559521</td>\n",
       "    </tr>\n",
       "    <tr>\n",
       "      <th>3</th>\n",
       "      <td>800003</td>\n",
       "      <td>0.300084</td>\n",
       "    </tr>\n",
       "    <tr>\n",
       "      <th>4</th>\n",
       "      <td>800004</td>\n",
       "      <td>0.293599</td>\n",
       "    </tr>\n",
       "  </tbody>\n",
       "</table>\n",
       "</div>"
      ],
      "text/plain": [
       "       id  isDefalu\n",
       "0  800000  0.093038\n",
       "1  800001  0.436838\n",
       "2  800002  0.559521\n",
       "3  800003  0.300084\n",
       "4  800004  0.293599"
      ]
     },
     "execution_count": 325,
     "metadata": {},
     "output_type": "execute_result"
    }
   ],
   "source": [
    "test_y_result.head()"
   ]
  },
  {
   "cell_type": "code",
   "execution_count": 327,
   "metadata": {},
   "outputs": [
    {
     "data": {
      "text/plain": [
       "(200000, 2)"
      ]
     },
     "execution_count": 327,
     "metadata": {},
     "output_type": "execute_result"
    }
   ],
   "source": [
    "test_y_result.shape"
   ]
  },
  {
   "cell_type": "code",
   "execution_count": 326,
   "metadata": {},
   "outputs": [],
   "source": [
    "test_y_result.to_csv(\"test_y_result.csv\", header=True, index=False)"
   ]
  },
  {
   "cell_type": "code",
   "execution_count": null,
   "metadata": {},
   "outputs": [],
   "source": []
  }
 ],
 "metadata": {
  "kernelspec": {
   "display_name": "BaseEnv(3.7.6)",
   "language": "python",
   "name": "base-env"
  },
  "language_info": {
   "codemirror_mode": {
    "name": "ipython",
    "version": 3
   },
   "file_extension": ".py",
   "mimetype": "text/x-python",
   "name": "python",
   "nbconvert_exporter": "python",
   "pygments_lexer": "ipython3",
   "version": "3.7.6"
  }
 },
 "nbformat": 4,
 "nbformat_minor": 4
}
